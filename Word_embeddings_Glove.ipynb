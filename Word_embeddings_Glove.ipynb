{
  "nbformat": 4,
  "nbformat_minor": 0,
  "metadata": {
    "colab": {
      "name": "Word embeddings Glove.ipynb",
      "provenance": [],
      "collapsed_sections": [],
      "mount_file_id": "1BWbjXSczoSuS0I1kwSVpEmDpt6JX-U_P",
      "authorship_tag": "ABX9TyNd6MiSRLap7UKjjGDbPl+3",
      "include_colab_link": true
    },
    "kernelspec": {
      "display_name": "Python 3",
      "name": "python3"
    }
  },
  "cells": [
    {
      "cell_type": "markdown",
      "metadata": {
        "id": "view-in-github",
        "colab_type": "text"
      },
      "source": [
        "<a href=\"https://colab.research.google.com/github/AnIsAsPe/RNN-Resumenes-de-Texto/blob/main/Word_embeddings_Glove.ipynb\" target=\"_parent\"><img src=\"https://colab.research.google.com/assets/colab-badge.svg\" alt=\"Open In Colab\"/></a>"
      ]
    },
    {
      "cell_type": "markdown",
      "metadata": {
        "id": "C9tYyqtesRbv"
      },
      "source": [
        "# Vectores de palabras (word embeddings), de [GloVe](https://nlp.stanford.edu/projects/glove/), previamente entrenadas\r\n",
        "\r\n",
        "Recursos:\r\n",
        "\r\n",
        "[Embedding Projector](https://projector.tensorflow.org/)\r\n"
      ]
    },
    {
      "cell_type": "code",
      "metadata": {
        "colab": {
          "base_uri": "https://localhost:8080/"
        },
        "id": "gkxpOqa3A-AM",
        "outputId": "eb1d4e43-b88c-4ecf-83cb-27b1c22f297d"
      },
      "source": [
        "#!wget http://nlp.stanford.edu/data/glove.6B.zip\r\n",
        "#!unzip -q glove.6B.zip"
      ],
      "execution_count": null,
      "outputs": [
        {
          "output_type": "stream",
          "text": [
            "--2021-02-18 18:41:55--  http://nlp.stanford.edu/data/glove.6B.zip\n",
            "Resolving nlp.stanford.edu (nlp.stanford.edu)... 171.64.67.140\n",
            "Connecting to nlp.stanford.edu (nlp.stanford.edu)|171.64.67.140|:80... connected.\n",
            "HTTP request sent, awaiting response... 302 Found\n",
            "Location: https://nlp.stanford.edu/data/glove.6B.zip [following]\n",
            "--2021-02-18 18:41:55--  https://nlp.stanford.edu/data/glove.6B.zip\n",
            "Connecting to nlp.stanford.edu (nlp.stanford.edu)|171.64.67.140|:443... connected.\n",
            "HTTP request sent, awaiting response... 301 Moved Permanently\n",
            "Location: http://downloads.cs.stanford.edu/nlp/data/glove.6B.zip [following]\n",
            "--2021-02-18 18:41:55--  http://downloads.cs.stanford.edu/nlp/data/glove.6B.zip\n",
            "Resolving downloads.cs.stanford.edu (downloads.cs.stanford.edu)... 171.64.64.22\n",
            "Connecting to downloads.cs.stanford.edu (downloads.cs.stanford.edu)|171.64.64.22|:80... connected.\n",
            "HTTP request sent, awaiting response... 200 OK\n",
            "Length: 862182613 (822M) [application/zip]\n",
            "Saving to: ‘glove.6B.zip’\n",
            "\n",
            "glove.6B.zip        100%[===================>] 822.24M  1.89MB/s    in 6m 52s  \n",
            "\n",
            "2021-02-18 18:48:47 (2.00 MB/s) - ‘glove.6B.zip’ saved [862182613/862182613]\n",
            "\n"
          ],
          "name": "stdout"
        }
      ]
    },
    {
      "cell_type": "code",
      "metadata": {
        "colab": {
          "base_uri": "https://localhost:8080/"
        },
        "id": "1n95jAmADwxV",
        "outputId": "9692caa7-3ac6-4832-c99d-581de6096753"
      },
      "source": [
        "\r\n",
        "dic_vectores_glove  = {}\r\n",
        "with open('/content/drive/MyDrive/Datos/glove.6B.100d.txt') as f:\r\n",
        "    for line in f:\r\n",
        "        palabra, coefs = line.split(maxsplit=1)\r\n",
        "        coefs = np.fromstring(coefs, \"f\", sep=\" \")\r\n",
        "        dic_vectores_glove [palabra] = coefs\r\n",
        "\r\n",
        "#Cantidad de palabras en glove\r\n",
        "len(dic_vectores_glove )"
      ],
      "execution_count": null,
      "outputs": [
        {
          "output_type": "execute_result",
          "data": {
            "text/plain": [
              "400000"
            ]
          },
          "metadata": {
            "tags": []
          },
          "execution_count": 32
        }
      ]
    },
    {
      "cell_type": "code",
      "metadata": {
        "colab": {
          "base_uri": "https://localhost:8080/"
        },
        "id": "2LJv72IKk3DD",
        "outputId": "b6b0fade-f111-4534-ece8-497eafe9f0b8"
      },
      "source": [
        "glove_df = pd.DataFrame(dic_vectores_glove)\r\n",
        "glove_df.shape"
      ],
      "execution_count": null,
      "outputs": [
        {
          "output_type": "execute_result",
          "data": {
            "text/plain": [
              "(100, 400000)"
            ]
          },
          "metadata": {
            "tags": []
          },
          "execution_count": 46
        }
      ]
    },
    {
      "cell_type": "code",
      "metadata": {
        "colab": {
          "base_uri": "https://localhost:8080/"
        },
        "id": "hQIH3kfmlVTc",
        "outputId": "1db1033f-e294-4da1-d0e0-77f0c5eb9ffe"
      },
      "source": [
        "glove_df = glove_df.transpose(copy=True)\r\n",
        "glove_df.shape"
      ],
      "execution_count": 64,
      "outputs": [
        {
          "output_type": "execute_result",
          "data": {
            "text/plain": [
              "(400000, 100)"
            ]
          },
          "metadata": {
            "tags": []
          },
          "execution_count": 64
        }
      ]
    },
    {
      "cell_type": "code",
      "metadata": {
        "colab": {
          "base_uri": "https://localhost:8080/",
          "height": 276
        },
        "id": "Ys9R8TMpmKmd",
        "outputId": "75fe1293-aff7-48c2-d477-f2ec563e31af"
      },
      "source": [
        "palabras = 'boy girl husband wife man woman'.split()\r\n",
        "X = glove_df.loc[palabras,:]\r\n",
        "X"
      ],
      "execution_count": 80,
      "outputs": [
        {
          "output_type": "execute_result",
          "data": {
            "text/html": [
              "<div>\n",
              "<style scoped>\n",
              "    .dataframe tbody tr th:only-of-type {\n",
              "        vertical-align: middle;\n",
              "    }\n",
              "\n",
              "    .dataframe tbody tr th {\n",
              "        vertical-align: top;\n",
              "    }\n",
              "\n",
              "    .dataframe thead th {\n",
              "        text-align: right;\n",
              "    }\n",
              "</style>\n",
              "<table border=\"1\" class=\"dataframe\">\n",
              "  <thead>\n",
              "    <tr style=\"text-align: right;\">\n",
              "      <th></th>\n",
              "      <th>0</th>\n",
              "      <th>1</th>\n",
              "      <th>2</th>\n",
              "      <th>3</th>\n",
              "      <th>4</th>\n",
              "      <th>5</th>\n",
              "      <th>6</th>\n",
              "      <th>7</th>\n",
              "      <th>8</th>\n",
              "      <th>9</th>\n",
              "      <th>10</th>\n",
              "      <th>11</th>\n",
              "      <th>12</th>\n",
              "      <th>13</th>\n",
              "      <th>14</th>\n",
              "      <th>15</th>\n",
              "      <th>16</th>\n",
              "      <th>17</th>\n",
              "      <th>18</th>\n",
              "      <th>19</th>\n",
              "      <th>20</th>\n",
              "      <th>21</th>\n",
              "      <th>22</th>\n",
              "      <th>23</th>\n",
              "      <th>24</th>\n",
              "      <th>25</th>\n",
              "      <th>26</th>\n",
              "      <th>27</th>\n",
              "      <th>28</th>\n",
              "      <th>29</th>\n",
              "      <th>30</th>\n",
              "      <th>31</th>\n",
              "      <th>32</th>\n",
              "      <th>33</th>\n",
              "      <th>34</th>\n",
              "      <th>35</th>\n",
              "      <th>36</th>\n",
              "      <th>37</th>\n",
              "      <th>38</th>\n",
              "      <th>39</th>\n",
              "      <th>...</th>\n",
              "      <th>60</th>\n",
              "      <th>61</th>\n",
              "      <th>62</th>\n",
              "      <th>63</th>\n",
              "      <th>64</th>\n",
              "      <th>65</th>\n",
              "      <th>66</th>\n",
              "      <th>67</th>\n",
              "      <th>68</th>\n",
              "      <th>69</th>\n",
              "      <th>70</th>\n",
              "      <th>71</th>\n",
              "      <th>72</th>\n",
              "      <th>73</th>\n",
              "      <th>74</th>\n",
              "      <th>75</th>\n",
              "      <th>76</th>\n",
              "      <th>77</th>\n",
              "      <th>78</th>\n",
              "      <th>79</th>\n",
              "      <th>80</th>\n",
              "      <th>81</th>\n",
              "      <th>82</th>\n",
              "      <th>83</th>\n",
              "      <th>84</th>\n",
              "      <th>85</th>\n",
              "      <th>86</th>\n",
              "      <th>87</th>\n",
              "      <th>88</th>\n",
              "      <th>89</th>\n",
              "      <th>90</th>\n",
              "      <th>91</th>\n",
              "      <th>92</th>\n",
              "      <th>93</th>\n",
              "      <th>94</th>\n",
              "      <th>95</th>\n",
              "      <th>96</th>\n",
              "      <th>97</th>\n",
              "      <th>98</th>\n",
              "      <th>99</th>\n",
              "    </tr>\n",
              "  </thead>\n",
              "  <tbody>\n",
              "    <tr>\n",
              "      <th>boy</th>\n",
              "      <td>0.89461</td>\n",
              "      <td>0.37758</td>\n",
              "      <td>0.42067</td>\n",
              "      <td>-0.513340</td>\n",
              "      <td>-0.282980</td>\n",
              "      <td>1.00120</td>\n",
              "      <td>0.187480</td>\n",
              "      <td>0.218680</td>\n",
              "      <td>-0.030053</td>\n",
              "      <td>0.086727</td>\n",
              "      <td>-0.44626</td>\n",
              "      <td>0.34755</td>\n",
              "      <td>0.61516</td>\n",
              "      <td>0.31583</td>\n",
              "      <td>0.56543</td>\n",
              "      <td>0.403140</td>\n",
              "      <td>0.45648</td>\n",
              "      <td>-0.39995</td>\n",
              "      <td>-0.20669</td>\n",
              "      <td>0.84975</td>\n",
              "      <td>-0.016242</td>\n",
              "      <td>-0.281520</td>\n",
              "      <td>-0.052972</td>\n",
              "      <td>-0.19438</td>\n",
              "      <td>0.35783</td>\n",
              "      <td>0.89044</td>\n",
              "      <td>-0.92628</td>\n",
              "      <td>-0.88332</td>\n",
              "      <td>0.089802</td>\n",
              "      <td>1.385600</td>\n",
              "      <td>0.118840</td>\n",
              "      <td>0.36608</td>\n",
              "      <td>0.440090</td>\n",
              "      <td>0.516170</td>\n",
              "      <td>0.35074</td>\n",
              "      <td>-0.24373</td>\n",
              "      <td>-0.68049</td>\n",
              "      <td>0.132760</td>\n",
              "      <td>0.78618</td>\n",
              "      <td>-0.525300</td>\n",
              "      <td>...</td>\n",
              "      <td>0.80694</td>\n",
              "      <td>1.01290</td>\n",
              "      <td>-0.518530</td>\n",
              "      <td>-0.211520</td>\n",
              "      <td>0.35337</td>\n",
              "      <td>0.047413</td>\n",
              "      <td>0.75148</td>\n",
              "      <td>0.31402</td>\n",
              "      <td>-0.42139</td>\n",
              "      <td>0.299540</td>\n",
              "      <td>0.32677</td>\n",
              "      <td>0.121790</td>\n",
              "      <td>-0.19638</td>\n",
              "      <td>0.12719</td>\n",
              "      <td>0.041816</td>\n",
              "      <td>1.050000</td>\n",
              "      <td>0.177030</td>\n",
              "      <td>0.08307</td>\n",
              "      <td>-0.51415</td>\n",
              "      <td>-0.652300</td>\n",
              "      <td>0.171470</td>\n",
              "      <td>0.37803</td>\n",
              "      <td>0.110700</td>\n",
              "      <td>-0.255180</td>\n",
              "      <td>-1.07120</td>\n",
              "      <td>-0.51485</td>\n",
              "      <td>-0.381630</td>\n",
              "      <td>-0.423140</td>\n",
              "      <td>0.135030</td>\n",
              "      <td>0.014892</td>\n",
              "      <td>0.11282</td>\n",
              "      <td>0.26315</td>\n",
              "      <td>0.20852</td>\n",
              "      <td>-0.016587</td>\n",
              "      <td>-0.40463</td>\n",
              "      <td>-0.159090</td>\n",
              "      <td>-0.71309</td>\n",
              "      <td>-0.13668</td>\n",
              "      <td>0.040350</td>\n",
              "      <td>-0.84151</td>\n",
              "    </tr>\n",
              "    <tr>\n",
              "      <th>girl</th>\n",
              "      <td>0.74582</td>\n",
              "      <td>0.19531</td>\n",
              "      <td>0.46831</td>\n",
              "      <td>-0.102770</td>\n",
              "      <td>-0.299270</td>\n",
              "      <td>0.99653</td>\n",
              "      <td>0.139400</td>\n",
              "      <td>0.641730</td>\n",
              "      <td>0.331290</td>\n",
              "      <td>0.353220</td>\n",
              "      <td>-0.30205</td>\n",
              "      <td>0.34699</td>\n",
              "      <td>0.53364</td>\n",
              "      <td>0.62235</td>\n",
              "      <td>0.43555</td>\n",
              "      <td>0.544030</td>\n",
              "      <td>0.39656</td>\n",
              "      <td>-0.31789</td>\n",
              "      <td>-0.20172</td>\n",
              "      <td>0.99636</td>\n",
              "      <td>0.001848</td>\n",
              "      <td>-0.148260</td>\n",
              "      <td>-0.004184</td>\n",
              "      <td>0.24953</td>\n",
              "      <td>0.30177</td>\n",
              "      <td>1.00430</td>\n",
              "      <td>-0.44867</td>\n",
              "      <td>-1.29110</td>\n",
              "      <td>-0.127410</td>\n",
              "      <td>0.901030</td>\n",
              "      <td>0.118700</td>\n",
              "      <td>0.27229</td>\n",
              "      <td>0.976970</td>\n",
              "      <td>0.019520</td>\n",
              "      <td>0.40453</td>\n",
              "      <td>-0.61585</td>\n",
              "      <td>-0.50483</td>\n",
              "      <td>-0.031174</td>\n",
              "      <td>0.70384</td>\n",
              "      <td>-0.460580</td>\n",
              "      <td>...</td>\n",
              "      <td>0.73902</td>\n",
              "      <td>1.09980</td>\n",
              "      <td>-0.766330</td>\n",
              "      <td>-0.000848</td>\n",
              "      <td>0.50982</td>\n",
              "      <td>0.195870</td>\n",
              "      <td>0.71845</td>\n",
              "      <td>0.25045</td>\n",
              "      <td>-0.29609</td>\n",
              "      <td>0.190050</td>\n",
              "      <td>0.19021</td>\n",
              "      <td>-0.216680</td>\n",
              "      <td>-0.25819</td>\n",
              "      <td>0.45417</td>\n",
              "      <td>0.151850</td>\n",
              "      <td>1.350000</td>\n",
              "      <td>0.322840</td>\n",
              "      <td>-0.23826</td>\n",
              "      <td>-0.69976</td>\n",
              "      <td>-0.981570</td>\n",
              "      <td>-0.393360</td>\n",
              "      <td>0.52666</td>\n",
              "      <td>0.601270</td>\n",
              "      <td>-0.175200</td>\n",
              "      <td>-1.00140</td>\n",
              "      <td>-1.04900</td>\n",
              "      <td>-0.401130</td>\n",
              "      <td>-0.199300</td>\n",
              "      <td>0.034218</td>\n",
              "      <td>-0.170690</td>\n",
              "      <td>0.11801</td>\n",
              "      <td>0.29238</td>\n",
              "      <td>0.44989</td>\n",
              "      <td>-0.211550</td>\n",
              "      <td>-0.51509</td>\n",
              "      <td>0.112150</td>\n",
              "      <td>-0.95016</td>\n",
              "      <td>-0.19681</td>\n",
              "      <td>-0.146210</td>\n",
              "      <td>-0.30505</td>\n",
              "    </tr>\n",
              "    <tr>\n",
              "      <th>husband</th>\n",
              "      <td>0.61534</td>\n",
              "      <td>0.27597</td>\n",
              "      <td>0.29280</td>\n",
              "      <td>-0.250640</td>\n",
              "      <td>-0.105560</td>\n",
              "      <td>0.90526</td>\n",
              "      <td>-0.141570</td>\n",
              "      <td>0.164830</td>\n",
              "      <td>0.058663</td>\n",
              "      <td>0.266470</td>\n",
              "      <td>0.14610</td>\n",
              "      <td>0.82343</td>\n",
              "      <td>0.17578</td>\n",
              "      <td>0.49482</td>\n",
              "      <td>0.56132</td>\n",
              "      <td>-0.761280</td>\n",
              "      <td>0.27528</td>\n",
              "      <td>-0.49246</td>\n",
              "      <td>-0.71117</td>\n",
              "      <td>1.10400</td>\n",
              "      <td>-0.260500</td>\n",
              "      <td>-0.092159</td>\n",
              "      <td>0.330570</td>\n",
              "      <td>0.49800</td>\n",
              "      <td>0.35827</td>\n",
              "      <td>0.12743</td>\n",
              "      <td>-0.64898</td>\n",
              "      <td>-0.88145</td>\n",
              "      <td>0.530480</td>\n",
              "      <td>-0.051134</td>\n",
              "      <td>0.319930</td>\n",
              "      <td>0.93357</td>\n",
              "      <td>1.070400</td>\n",
              "      <td>-0.045996</td>\n",
              "      <td>-0.47942</td>\n",
              "      <td>0.48067</td>\n",
              "      <td>0.45560</td>\n",
              "      <td>-0.077096</td>\n",
              "      <td>0.47297</td>\n",
              "      <td>0.126090</td>\n",
              "      <td>...</td>\n",
              "      <td>0.53979</td>\n",
              "      <td>0.52270</td>\n",
              "      <td>0.222680</td>\n",
              "      <td>-0.208500</td>\n",
              "      <td>0.58320</td>\n",
              "      <td>-0.094776</td>\n",
              "      <td>0.95910</td>\n",
              "      <td>0.39932</td>\n",
              "      <td>0.02477</td>\n",
              "      <td>0.688390</td>\n",
              "      <td>-0.44054</td>\n",
              "      <td>0.249640</td>\n",
              "      <td>-0.17609</td>\n",
              "      <td>-0.24149</td>\n",
              "      <td>0.100330</td>\n",
              "      <td>0.386680</td>\n",
              "      <td>-0.167830</td>\n",
              "      <td>-0.35319</td>\n",
              "      <td>-0.50902</td>\n",
              "      <td>-0.084276</td>\n",
              "      <td>0.020392</td>\n",
              "      <td>0.82435</td>\n",
              "      <td>0.803630</td>\n",
              "      <td>0.349550</td>\n",
              "      <td>-0.97259</td>\n",
              "      <td>-0.61299</td>\n",
              "      <td>0.026339</td>\n",
              "      <td>0.322630</td>\n",
              "      <td>-0.417260</td>\n",
              "      <td>-1.366400</td>\n",
              "      <td>0.48827</td>\n",
              "      <td>-0.51077</td>\n",
              "      <td>1.04260</td>\n",
              "      <td>0.084176</td>\n",
              "      <td>-0.30587</td>\n",
              "      <td>0.138590</td>\n",
              "      <td>-0.29958</td>\n",
              "      <td>-0.13959</td>\n",
              "      <td>-0.095047</td>\n",
              "      <td>-0.74174</td>\n",
              "    </tr>\n",
              "    <tr>\n",
              "      <th>wife</th>\n",
              "      <td>0.33954</td>\n",
              "      <td>-0.41367</td>\n",
              "      <td>0.22616</td>\n",
              "      <td>-0.040106</td>\n",
              "      <td>0.104890</td>\n",
              "      <td>0.72435</td>\n",
              "      <td>0.092193</td>\n",
              "      <td>0.440020</td>\n",
              "      <td>0.323460</td>\n",
              "      <td>0.136900</td>\n",
              "      <td>-0.14326</td>\n",
              "      <td>0.62633</td>\n",
              "      <td>0.17516</td>\n",
              "      <td>0.74118</td>\n",
              "      <td>0.20934</td>\n",
              "      <td>-0.710180</td>\n",
              "      <td>0.20261</td>\n",
              "      <td>-0.33897</td>\n",
              "      <td>-0.74968</td>\n",
              "      <td>1.07650</td>\n",
              "      <td>-0.408060</td>\n",
              "      <td>0.094819</td>\n",
              "      <td>0.313500</td>\n",
              "      <td>0.86049</td>\n",
              "      <td>0.43735</td>\n",
              "      <td>0.25478</td>\n",
              "      <td>-0.64706</td>\n",
              "      <td>-1.31420</td>\n",
              "      <td>0.396230</td>\n",
              "      <td>0.358770</td>\n",
              "      <td>0.309250</td>\n",
              "      <td>1.07540</td>\n",
              "      <td>1.225000</td>\n",
              "      <td>0.124110</td>\n",
              "      <td>-0.49617</td>\n",
              "      <td>0.37415</td>\n",
              "      <td>0.54215</td>\n",
              "      <td>0.148410</td>\n",
              "      <td>0.66266</td>\n",
              "      <td>0.294810</td>\n",
              "      <td>...</td>\n",
              "      <td>0.17978</td>\n",
              "      <td>1.01760</td>\n",
              "      <td>0.127180</td>\n",
              "      <td>-0.122170</td>\n",
              "      <td>0.34378</td>\n",
              "      <td>-0.240030</td>\n",
              "      <td>1.01470</td>\n",
              "      <td>0.68566</td>\n",
              "      <td>0.19761</td>\n",
              "      <td>0.352220</td>\n",
              "      <td>-0.31113</td>\n",
              "      <td>0.051390</td>\n",
              "      <td>-0.12831</td>\n",
              "      <td>-0.23403</td>\n",
              "      <td>0.365150</td>\n",
              "      <td>0.589900</td>\n",
              "      <td>0.018485</td>\n",
              "      <td>-0.26781</td>\n",
              "      <td>-0.76352</td>\n",
              "      <td>-0.318170</td>\n",
              "      <td>0.459300</td>\n",
              "      <td>0.63011</td>\n",
              "      <td>1.068900</td>\n",
              "      <td>0.254900</td>\n",
              "      <td>-1.18960</td>\n",
              "      <td>-1.08040</td>\n",
              "      <td>-0.085283</td>\n",
              "      <td>-0.022989</td>\n",
              "      <td>-0.158270</td>\n",
              "      <td>-1.135100</td>\n",
              "      <td>0.39241</td>\n",
              "      <td>-0.71972</td>\n",
              "      <td>1.43430</td>\n",
              "      <td>0.297410</td>\n",
              "      <td>-0.60843</td>\n",
              "      <td>0.071802</td>\n",
              "      <td>-0.35413</td>\n",
              "      <td>-0.48860</td>\n",
              "      <td>-0.087106</td>\n",
              "      <td>-0.59801</td>\n",
              "    </tr>\n",
              "    <tr>\n",
              "      <th>man</th>\n",
              "      <td>0.37293</td>\n",
              "      <td>0.38503</td>\n",
              "      <td>0.71086</td>\n",
              "      <td>-0.659110</td>\n",
              "      <td>-0.001013</td>\n",
              "      <td>0.92715</td>\n",
              "      <td>0.276150</td>\n",
              "      <td>-0.056203</td>\n",
              "      <td>-0.242940</td>\n",
              "      <td>0.246320</td>\n",
              "      <td>-0.18449</td>\n",
              "      <td>0.31398</td>\n",
              "      <td>0.48983</td>\n",
              "      <td>0.09256</td>\n",
              "      <td>0.32958</td>\n",
              "      <td>0.150560</td>\n",
              "      <td>0.57317</td>\n",
              "      <td>-0.18529</td>\n",
              "      <td>-0.52277</td>\n",
              "      <td>0.46191</td>\n",
              "      <td>0.920380</td>\n",
              "      <td>0.031001</td>\n",
              "      <td>-0.162460</td>\n",
              "      <td>-0.40567</td>\n",
              "      <td>0.78621</td>\n",
              "      <td>0.57722</td>\n",
              "      <td>-0.53501</td>\n",
              "      <td>-0.68228</td>\n",
              "      <td>0.169870</td>\n",
              "      <td>0.363100</td>\n",
              "      <td>-0.071773</td>\n",
              "      <td>0.47233</td>\n",
              "      <td>0.027806</td>\n",
              "      <td>-0.149510</td>\n",
              "      <td>0.17543</td>\n",
              "      <td>-0.37573</td>\n",
              "      <td>-0.78517</td>\n",
              "      <td>0.581710</td>\n",
              "      <td>0.86859</td>\n",
              "      <td>0.031445</td>\n",
              "      <td>...</td>\n",
              "      <td>0.41151</td>\n",
              "      <td>0.84328</td>\n",
              "      <td>-0.542590</td>\n",
              "      <td>-0.167150</td>\n",
              "      <td>0.73927</td>\n",
              "      <td>-0.093477</td>\n",
              "      <td>0.90278</td>\n",
              "      <td>0.50889</td>\n",
              "      <td>-0.50031</td>\n",
              "      <td>0.264510</td>\n",
              "      <td>0.15443</td>\n",
              "      <td>-0.294320</td>\n",
              "      <td>0.10906</td>\n",
              "      <td>-0.26667</td>\n",
              "      <td>0.354380</td>\n",
              "      <td>0.049079</td>\n",
              "      <td>0.180180</td>\n",
              "      <td>-0.58590</td>\n",
              "      <td>-0.55542</td>\n",
              "      <td>-0.289870</td>\n",
              "      <td>0.742780</td>\n",
              "      <td>0.34530</td>\n",
              "      <td>-0.028757</td>\n",
              "      <td>-0.226460</td>\n",
              "      <td>-1.31130</td>\n",
              "      <td>-0.57190</td>\n",
              "      <td>-0.523060</td>\n",
              "      <td>-0.126700</td>\n",
              "      <td>-0.098678</td>\n",
              "      <td>-0.534630</td>\n",
              "      <td>0.28607</td>\n",
              "      <td>-0.37501</td>\n",
              "      <td>0.45742</td>\n",
              "      <td>0.045975</td>\n",
              "      <td>-0.24675</td>\n",
              "      <td>0.045656</td>\n",
              "      <td>-0.38302</td>\n",
              "      <td>-0.93711</td>\n",
              "      <td>0.039138</td>\n",
              "      <td>-0.53911</td>\n",
              "    </tr>\n",
              "    <tr>\n",
              "      <th>woman</th>\n",
              "      <td>0.59368</td>\n",
              "      <td>0.44825</td>\n",
              "      <td>0.59320</td>\n",
              "      <td>0.074134</td>\n",
              "      <td>0.111410</td>\n",
              "      <td>1.27930</td>\n",
              "      <td>0.166560</td>\n",
              "      <td>0.240700</td>\n",
              "      <td>0.390450</td>\n",
              "      <td>0.327660</td>\n",
              "      <td>-0.75034</td>\n",
              "      <td>0.35007</td>\n",
              "      <td>0.76057</td>\n",
              "      <td>0.38067</td>\n",
              "      <td>0.17517</td>\n",
              "      <td>0.031791</td>\n",
              "      <td>0.46849</td>\n",
              "      <td>-0.21653</td>\n",
              "      <td>-0.46282</td>\n",
              "      <td>0.39967</td>\n",
              "      <td>0.166230</td>\n",
              "      <td>-0.011477</td>\n",
              "      <td>0.044059</td>\n",
              "      <td>0.30325</td>\n",
              "      <td>0.61530</td>\n",
              "      <td>0.47047</td>\n",
              "      <td>-0.44036</td>\n",
              "      <td>-1.59630</td>\n",
              "      <td>0.184330</td>\n",
              "      <td>0.231930</td>\n",
              "      <td>0.204520</td>\n",
              "      <td>0.51617</td>\n",
              "      <td>0.657340</td>\n",
              "      <td>-0.345200</td>\n",
              "      <td>0.23446</td>\n",
              "      <td>-0.62004</td>\n",
              "      <td>-0.68741</td>\n",
              "      <td>0.285750</td>\n",
              "      <td>1.06050</td>\n",
              "      <td>0.469160</td>\n",
              "      <td>...</td>\n",
              "      <td>0.44095</td>\n",
              "      <td>0.72588</td>\n",
              "      <td>-0.092053</td>\n",
              "      <td>-0.022406</td>\n",
              "      <td>0.72039</td>\n",
              "      <td>0.107600</td>\n",
              "      <td>0.84116</td>\n",
              "      <td>0.30312</td>\n",
              "      <td>-0.42544</td>\n",
              "      <td>0.056362</td>\n",
              "      <td>0.13109</td>\n",
              "      <td>-0.071181</td>\n",
              "      <td>-0.10579</td>\n",
              "      <td>0.56677</td>\n",
              "      <td>0.545470</td>\n",
              "      <td>0.841130</td>\n",
              "      <td>0.148610</td>\n",
              "      <td>-0.62628</td>\n",
              "      <td>-0.68391</td>\n",
              "      <td>-1.083100</td>\n",
              "      <td>-0.088385</td>\n",
              "      <td>0.32167</td>\n",
              "      <td>0.477940</td>\n",
              "      <td>0.091868</td>\n",
              "      <td>-1.25590</td>\n",
              "      <td>-1.22680</td>\n",
              "      <td>0.085401</td>\n",
              "      <td>0.368330</td>\n",
              "      <td>0.081566</td>\n",
              "      <td>-0.766110</td>\n",
              "      <td>0.87751</td>\n",
              "      <td>-0.22008</td>\n",
              "      <td>0.82401</td>\n",
              "      <td>-0.092207</td>\n",
              "      <td>-0.45941</td>\n",
              "      <td>0.465710</td>\n",
              "      <td>-0.56018</td>\n",
              "      <td>-0.54648</td>\n",
              "      <td>0.151620</td>\n",
              "      <td>-0.30754</td>\n",
              "    </tr>\n",
              "  </tbody>\n",
              "</table>\n",
              "<p>6 rows × 100 columns</p>\n",
              "</div>"
            ],
            "text/plain": [
              "              0        1        2   ...       97        98       99\n",
              "boy      0.89461  0.37758  0.42067  ... -0.13668  0.040350 -0.84151\n",
              "girl     0.74582  0.19531  0.46831  ... -0.19681 -0.146210 -0.30505\n",
              "husband  0.61534  0.27597  0.29280  ... -0.13959 -0.095047 -0.74174\n",
              "wife     0.33954 -0.41367  0.22616  ... -0.48860 -0.087106 -0.59801\n",
              "man      0.37293  0.38503  0.71086  ... -0.93711  0.039138 -0.53911\n",
              "woman    0.59368  0.44825  0.59320  ... -0.54648  0.151620 -0.30754\n",
              "\n",
              "[6 rows x 100 columns]"
            ]
          },
          "metadata": {
            "tags": []
          },
          "execution_count": 80
        }
      ]
    },
    {
      "cell_type": "code",
      "metadata": {
        "colab": {
          "base_uri": "https://localhost:8080/",
          "height": 542
        },
        "id": "_eVDeDk_unYM",
        "outputId": "a6cc95e1-3a50-4327-864e-47cd7c7b2156"
      },
      "source": [
        "import plotly.express as px\r\n",
        "from sklearn.decomposition import PCA\r\n",
        "\r\n",
        "pca = PCA(n_components=3)\r\n",
        "components = pd.DataFrame(pca.fit_transform(X), index = X.index)\r\n",
        "components.reset_index(inplace=True)\r\n",
        "\r\n",
        "fig = px.scatter_3d( \r\n",
        "    components, x=0, y=1, z=2, color='index',\r\n",
        "    labels={'0': 'PC 1', '1': 'PC 2', '2': 'PC 3'}\r\n",
        ")\r\n",
        "fig.show()"
      ],
      "execution_count": 81,
      "outputs": [
        {
          "output_type": "display_data",
          "data": {
            "text/html": [
              "<html>\n",
              "<head><meta charset=\"utf-8\" /></head>\n",
              "<body>\n",
              "    <div>\n",
              "            <script src=\"https://cdnjs.cloudflare.com/ajax/libs/mathjax/2.7.5/MathJax.js?config=TeX-AMS-MML_SVG\"></script><script type=\"text/javascript\">if (window.MathJax) {MathJax.Hub.Config({SVG: {font: \"STIX-Web\"}});}</script>\n",
              "                <script type=\"text/javascript\">window.PlotlyConfig = {MathJaxConfig: 'local'};</script>\n",
              "        <script src=\"https://cdn.plot.ly/plotly-latest.min.js\"></script>    \n",
              "            <div id=\"8e3ce9f0-dc88-4ded-b880-18ec3c6640a1\" class=\"plotly-graph-div\" style=\"height:525px; width:100%;\"></div>\n",
              "            <script type=\"text/javascript\">\n",
              "                \n",
              "                    window.PLOTLYENV=window.PLOTLYENV || {};\n",
              "                    \n",
              "                if (document.getElementById(\"8e3ce9f0-dc88-4ded-b880-18ec3c6640a1\")) {\n",
              "                    Plotly.newPlot(\n",
              "                        '8e3ce9f0-dc88-4ded-b880-18ec3c6640a1',\n",
              "                        [{\"hoverlabel\": {\"namelength\": 0}, \"hovertemplate\": \"index=boy<br>PC 1=%{x}<br>PC 2=%{y}<br>PC 3=%{z}\", \"legendgroup\": \"index=boy\", \"marker\": {\"color\": \"#636efa\", \"symbol\": \"circle\"}, \"mode\": \"markers\", \"name\": \"index=boy\", \"scene\": \"scene\", \"showlegend\": true, \"type\": \"scatter3d\", \"x\": [-1.8850418329238892], \"y\": [-0.9701942205429077], \"z\": [-1.193403720855713]}, {\"hoverlabel\": {\"namelength\": 0}, \"hovertemplate\": \"index=girl<br>PC 1=%{x}<br>PC 2=%{y}<br>PC 3=%{z}\", \"legendgroup\": \"index=girl\", \"marker\": {\"color\": \"#EF553B\", \"symbol\": \"circle\"}, \"mode\": \"markers\", \"name\": \"index=girl\", \"scene\": \"scene\", \"showlegend\": true, \"type\": \"scatter3d\", \"x\": [-1.7247709035873413], \"y\": [-1.5834317207336426], \"z\": [0.5180836915969849]}, {\"hoverlabel\": {\"namelength\": 0}, \"hovertemplate\": \"index=husband<br>PC 1=%{x}<br>PC 2=%{y}<br>PC 3=%{z}\", \"legendgroup\": \"index=husband\", \"marker\": {\"color\": \"#00cc96\", \"symbol\": \"circle\"}, \"mode\": \"markers\", \"name\": \"index=husband\", \"scene\": \"scene\", \"showlegend\": true, \"type\": \"scatter3d\", \"x\": [2.602936267852783], \"y\": [-0.15027378499507904], \"z\": [-0.5460554957389832]}, {\"hoverlabel\": {\"namelength\": 0}, \"hovertemplate\": \"index=wife<br>PC 1=%{x}<br>PC 2=%{y}<br>PC 3=%{z}\", \"legendgroup\": \"index=wife\", \"marker\": {\"color\": \"#ab63fa\", \"symbol\": \"circle\"}, \"mode\": \"markers\", \"name\": \"index=wife\", \"scene\": \"scene\", \"showlegend\": true, \"type\": \"scatter3d\", \"x\": [2.694037675857544], \"y\": [-0.440098375082016], \"z\": [0.12829864025115967]}, {\"hoverlabel\": {\"namelength\": 0}, \"hovertemplate\": \"index=man<br>PC 1=%{x}<br>PC 2=%{y}<br>PC 3=%{z}\", \"legendgroup\": \"index=man\", \"marker\": {\"color\": \"#FFA15A\", \"symbol\": \"circle\"}, \"mode\": \"markers\", \"name\": \"index=man\", \"scene\": \"scene\", \"showlegend\": true, \"type\": \"scatter3d\", \"x\": [-1.0694446563720703], \"y\": [2.3045296669006348], \"z\": [-0.8741478323936462]}, {\"hoverlabel\": {\"namelength\": 0}, \"hovertemplate\": \"index=woman<br>PC 1=%{x}<br>PC 2=%{y}<br>PC 3=%{z}\", \"legendgroup\": \"index=woman\", \"marker\": {\"color\": \"#19d3f3\", \"symbol\": \"circle\"}, \"mode\": \"markers\", \"name\": \"index=woman\", \"scene\": \"scene\", \"showlegend\": true, \"type\": \"scatter3d\", \"x\": [-0.617716372013092], \"y\": [0.8394679427146912], \"z\": [1.9672247171401978]}],\n",
              "                        {\"legend\": {\"tracegroupgap\": 0}, \"margin\": {\"t\": 60}, \"scene\": {\"domain\": {\"x\": [0.0, 1.0], \"y\": [0.0, 1.0]}, \"xaxis\": {\"title\": {\"text\": \"PC 1\"}}, \"yaxis\": {\"title\": {\"text\": \"PC 2\"}}, \"zaxis\": {\"title\": {\"text\": \"PC 3\"}}}, \"template\": {\"data\": {\"bar\": [{\"error_x\": {\"color\": \"#2a3f5f\"}, \"error_y\": {\"color\": \"#2a3f5f\"}, \"marker\": {\"line\": {\"color\": \"#E5ECF6\", \"width\": 0.5}}, \"type\": \"bar\"}], \"barpolar\": [{\"marker\": {\"line\": {\"color\": \"#E5ECF6\", \"width\": 0.5}}, \"type\": \"barpolar\"}], \"carpet\": [{\"aaxis\": {\"endlinecolor\": \"#2a3f5f\", \"gridcolor\": \"white\", \"linecolor\": \"white\", \"minorgridcolor\": \"white\", \"startlinecolor\": \"#2a3f5f\"}, \"baxis\": {\"endlinecolor\": \"#2a3f5f\", \"gridcolor\": \"white\", \"linecolor\": \"white\", \"minorgridcolor\": \"white\", \"startlinecolor\": \"#2a3f5f\"}, \"type\": \"carpet\"}], \"choropleth\": [{\"colorbar\": {\"outlinewidth\": 0, \"ticks\": \"\"}, \"type\": \"choropleth\"}], \"contour\": [{\"colorbar\": {\"outlinewidth\": 0, \"ticks\": \"\"}, \"colorscale\": [[0.0, \"#0d0887\"], [0.1111111111111111, \"#46039f\"], [0.2222222222222222, \"#7201a8\"], [0.3333333333333333, \"#9c179e\"], [0.4444444444444444, \"#bd3786\"], [0.5555555555555556, \"#d8576b\"], [0.6666666666666666, \"#ed7953\"], [0.7777777777777778, \"#fb9f3a\"], [0.8888888888888888, \"#fdca26\"], [1.0, \"#f0f921\"]], \"type\": \"contour\"}], \"contourcarpet\": [{\"colorbar\": {\"outlinewidth\": 0, \"ticks\": \"\"}, \"type\": \"contourcarpet\"}], \"heatmap\": [{\"colorbar\": {\"outlinewidth\": 0, \"ticks\": \"\"}, \"colorscale\": [[0.0, \"#0d0887\"], [0.1111111111111111, \"#46039f\"], [0.2222222222222222, \"#7201a8\"], [0.3333333333333333, \"#9c179e\"], [0.4444444444444444, \"#bd3786\"], [0.5555555555555556, \"#d8576b\"], [0.6666666666666666, \"#ed7953\"], [0.7777777777777778, \"#fb9f3a\"], [0.8888888888888888, \"#fdca26\"], [1.0, \"#f0f921\"]], \"type\": \"heatmap\"}], \"heatmapgl\": [{\"colorbar\": {\"outlinewidth\": 0, \"ticks\": \"\"}, \"colorscale\": [[0.0, \"#0d0887\"], [0.1111111111111111, \"#46039f\"], [0.2222222222222222, \"#7201a8\"], [0.3333333333333333, \"#9c179e\"], [0.4444444444444444, \"#bd3786\"], [0.5555555555555556, \"#d8576b\"], [0.6666666666666666, \"#ed7953\"], [0.7777777777777778, \"#fb9f3a\"], [0.8888888888888888, \"#fdca26\"], [1.0, \"#f0f921\"]], \"type\": \"heatmapgl\"}], \"histogram\": [{\"marker\": {\"colorbar\": {\"outlinewidth\": 0, \"ticks\": \"\"}}, \"type\": \"histogram\"}], \"histogram2d\": [{\"colorbar\": {\"outlinewidth\": 0, \"ticks\": \"\"}, \"colorscale\": [[0.0, \"#0d0887\"], [0.1111111111111111, \"#46039f\"], [0.2222222222222222, \"#7201a8\"], [0.3333333333333333, \"#9c179e\"], [0.4444444444444444, \"#bd3786\"], [0.5555555555555556, \"#d8576b\"], [0.6666666666666666, \"#ed7953\"], [0.7777777777777778, \"#fb9f3a\"], [0.8888888888888888, \"#fdca26\"], [1.0, \"#f0f921\"]], \"type\": \"histogram2d\"}], \"histogram2dcontour\": [{\"colorbar\": {\"outlinewidth\": 0, \"ticks\": \"\"}, \"colorscale\": [[0.0, \"#0d0887\"], [0.1111111111111111, \"#46039f\"], [0.2222222222222222, \"#7201a8\"], [0.3333333333333333, \"#9c179e\"], [0.4444444444444444, \"#bd3786\"], [0.5555555555555556, \"#d8576b\"], [0.6666666666666666, \"#ed7953\"], [0.7777777777777778, \"#fb9f3a\"], [0.8888888888888888, \"#fdca26\"], [1.0, \"#f0f921\"]], \"type\": \"histogram2dcontour\"}], \"mesh3d\": [{\"colorbar\": {\"outlinewidth\": 0, \"ticks\": \"\"}, \"type\": \"mesh3d\"}], \"parcoords\": [{\"line\": {\"colorbar\": {\"outlinewidth\": 0, \"ticks\": \"\"}}, \"type\": \"parcoords\"}], \"pie\": [{\"automargin\": true, \"type\": \"pie\"}], \"scatter\": [{\"marker\": {\"colorbar\": {\"outlinewidth\": 0, \"ticks\": \"\"}}, \"type\": \"scatter\"}], \"scatter3d\": [{\"line\": {\"colorbar\": {\"outlinewidth\": 0, \"ticks\": \"\"}}, \"marker\": {\"colorbar\": {\"outlinewidth\": 0, \"ticks\": \"\"}}, \"type\": \"scatter3d\"}], \"scattercarpet\": [{\"marker\": {\"colorbar\": {\"outlinewidth\": 0, \"ticks\": \"\"}}, \"type\": \"scattercarpet\"}], \"scattergeo\": [{\"marker\": {\"colorbar\": {\"outlinewidth\": 0, \"ticks\": \"\"}}, \"type\": \"scattergeo\"}], \"scattergl\": [{\"marker\": {\"colorbar\": {\"outlinewidth\": 0, \"ticks\": \"\"}}, \"type\": \"scattergl\"}], \"scattermapbox\": [{\"marker\": {\"colorbar\": {\"outlinewidth\": 0, \"ticks\": \"\"}}, \"type\": \"scattermapbox\"}], \"scatterpolar\": [{\"marker\": {\"colorbar\": {\"outlinewidth\": 0, \"ticks\": \"\"}}, \"type\": \"scatterpolar\"}], \"scatterpolargl\": [{\"marker\": {\"colorbar\": {\"outlinewidth\": 0, \"ticks\": \"\"}}, \"type\": \"scatterpolargl\"}], \"scatterternary\": [{\"marker\": {\"colorbar\": {\"outlinewidth\": 0, \"ticks\": \"\"}}, \"type\": \"scatterternary\"}], \"surface\": [{\"colorbar\": {\"outlinewidth\": 0, \"ticks\": \"\"}, \"colorscale\": [[0.0, \"#0d0887\"], [0.1111111111111111, \"#46039f\"], [0.2222222222222222, \"#7201a8\"], [0.3333333333333333, \"#9c179e\"], [0.4444444444444444, \"#bd3786\"], [0.5555555555555556, \"#d8576b\"], [0.6666666666666666, \"#ed7953\"], [0.7777777777777778, \"#fb9f3a\"], [0.8888888888888888, \"#fdca26\"], [1.0, \"#f0f921\"]], \"type\": \"surface\"}], \"table\": [{\"cells\": {\"fill\": {\"color\": \"#EBF0F8\"}, \"line\": {\"color\": \"white\"}}, \"header\": {\"fill\": {\"color\": \"#C8D4E3\"}, \"line\": {\"color\": \"white\"}}, \"type\": \"table\"}]}, \"layout\": {\"annotationdefaults\": {\"arrowcolor\": \"#2a3f5f\", \"arrowhead\": 0, \"arrowwidth\": 1}, \"coloraxis\": {\"colorbar\": {\"outlinewidth\": 0, \"ticks\": \"\"}}, \"colorscale\": {\"diverging\": [[0, \"#8e0152\"], [0.1, \"#c51b7d\"], [0.2, \"#de77ae\"], [0.3, \"#f1b6da\"], [0.4, \"#fde0ef\"], [0.5, \"#f7f7f7\"], [0.6, \"#e6f5d0\"], [0.7, \"#b8e186\"], [0.8, \"#7fbc41\"], [0.9, \"#4d9221\"], [1, \"#276419\"]], \"sequential\": [[0.0, \"#0d0887\"], [0.1111111111111111, \"#46039f\"], [0.2222222222222222, \"#7201a8\"], [0.3333333333333333, \"#9c179e\"], [0.4444444444444444, \"#bd3786\"], [0.5555555555555556, \"#d8576b\"], [0.6666666666666666, \"#ed7953\"], [0.7777777777777778, \"#fb9f3a\"], [0.8888888888888888, \"#fdca26\"], [1.0, \"#f0f921\"]], \"sequentialminus\": [[0.0, \"#0d0887\"], [0.1111111111111111, \"#46039f\"], [0.2222222222222222, \"#7201a8\"], [0.3333333333333333, \"#9c179e\"], [0.4444444444444444, \"#bd3786\"], [0.5555555555555556, \"#d8576b\"], [0.6666666666666666, \"#ed7953\"], [0.7777777777777778, \"#fb9f3a\"], [0.8888888888888888, \"#fdca26\"], [1.0, \"#f0f921\"]]}, \"colorway\": [\"#636efa\", \"#EF553B\", \"#00cc96\", \"#ab63fa\", \"#FFA15A\", \"#19d3f3\", \"#FF6692\", \"#B6E880\", \"#FF97FF\", \"#FECB52\"], \"font\": {\"color\": \"#2a3f5f\"}, \"geo\": {\"bgcolor\": \"white\", \"lakecolor\": \"white\", \"landcolor\": \"#E5ECF6\", \"showlakes\": true, \"showland\": true, \"subunitcolor\": \"white\"}, \"hoverlabel\": {\"align\": \"left\"}, \"hovermode\": \"closest\", \"mapbox\": {\"style\": \"light\"}, \"paper_bgcolor\": \"white\", \"plot_bgcolor\": \"#E5ECF6\", \"polar\": {\"angularaxis\": {\"gridcolor\": \"white\", \"linecolor\": \"white\", \"ticks\": \"\"}, \"bgcolor\": \"#E5ECF6\", \"radialaxis\": {\"gridcolor\": \"white\", \"linecolor\": \"white\", \"ticks\": \"\"}}, \"scene\": {\"xaxis\": {\"backgroundcolor\": \"#E5ECF6\", \"gridcolor\": \"white\", \"gridwidth\": 2, \"linecolor\": \"white\", \"showbackground\": true, \"ticks\": \"\", \"zerolinecolor\": \"white\"}, \"yaxis\": {\"backgroundcolor\": \"#E5ECF6\", \"gridcolor\": \"white\", \"gridwidth\": 2, \"linecolor\": \"white\", \"showbackground\": true, \"ticks\": \"\", \"zerolinecolor\": \"white\"}, \"zaxis\": {\"backgroundcolor\": \"#E5ECF6\", \"gridcolor\": \"white\", \"gridwidth\": 2, \"linecolor\": \"white\", \"showbackground\": true, \"ticks\": \"\", \"zerolinecolor\": \"white\"}}, \"shapedefaults\": {\"line\": {\"color\": \"#2a3f5f\"}}, \"ternary\": {\"aaxis\": {\"gridcolor\": \"white\", \"linecolor\": \"white\", \"ticks\": \"\"}, \"baxis\": {\"gridcolor\": \"white\", \"linecolor\": \"white\", \"ticks\": \"\"}, \"bgcolor\": \"#E5ECF6\", \"caxis\": {\"gridcolor\": \"white\", \"linecolor\": \"white\", \"ticks\": \"\"}}, \"title\": {\"x\": 0.05}, \"xaxis\": {\"automargin\": true, \"gridcolor\": \"white\", \"linecolor\": \"white\", \"ticks\": \"\", \"title\": {\"standoff\": 15}, \"zerolinecolor\": \"white\", \"zerolinewidth\": 2}, \"yaxis\": {\"automargin\": true, \"gridcolor\": \"white\", \"linecolor\": \"white\", \"ticks\": \"\", \"title\": {\"standoff\": 15}, \"zerolinecolor\": \"white\", \"zerolinewidth\": 2}}}},\n",
              "                        {\"responsive\": true}\n",
              "                    ).then(function(){\n",
              "                            \n",
              "var gd = document.getElementById('8e3ce9f0-dc88-4ded-b880-18ec3c6640a1');\n",
              "var x = new MutationObserver(function (mutations, observer) {{\n",
              "        var display = window.getComputedStyle(gd).display;\n",
              "        if (!display || display === 'none') {{\n",
              "            console.log([gd, 'removed!']);\n",
              "            Plotly.purge(gd);\n",
              "            observer.disconnect();\n",
              "        }}\n",
              "}});\n",
              "\n",
              "// Listen for the removal of the full notebook cells\n",
              "var notebookContainer = gd.closest('#notebook-container');\n",
              "if (notebookContainer) {{\n",
              "    x.observe(notebookContainer, {childList: true});\n",
              "}}\n",
              "\n",
              "// Listen for the clearing of the current output cell\n",
              "var outputEl = gd.closest('.output');\n",
              "if (outputEl) {{\n",
              "    x.observe(outputEl, {childList: true});\n",
              "}}\n",
              "\n",
              "                        })\n",
              "                };\n",
              "                \n",
              "            </script>\n",
              "        </div>\n",
              "</body>\n",
              "</html>"
            ]
          },
          "metadata": {
            "tags": []
          }
        }
      ]
    },
    {
      "cell_type": "code",
      "metadata": {
        "id": "n31R_6YVmiHb"
      },
      "source": [
        "def similitud_coseno(a_vector, b_vector):\r\n",
        "    '''Calcula la similitud coseno entre los vectores a y b'''\r\n",
        "\r\n",
        "    numerador = np.dot(a_vector, b_vector)\r\n",
        "    \r\n",
        "    a_norm = np.sqrt(np.sum(a_vector**2))  \r\n",
        "    b_norm = np.sqrt(np.sum(b_vector**2))\r\n",
        "    \r\n",
        "    denominador = a_norm * b_norm\r\n",
        "    \r\n",
        "    similitud_coseno = numerador / denominador\r\n",
        "    \r\n",
        "    return similitud_coseno"
      ],
      "execution_count": 110,
      "outputs": []
    },
    {
      "cell_type": "code",
      "metadata": {
        "id": "LHj5hq9y9Blm"
      },
      "source": [
        "cat = glove_df.loc['cat']\r\n",
        "dog = glove_df.loc['dog']\r\n",
        "lion = glove_df.loc['lion']\r\n",
        "wolf = glove_df.loc['wolf']"
      ],
      "execution_count": 111,
      "outputs": []
    },
    {
      "cell_type": "code",
      "metadata": {
        "colab": {
          "base_uri": "https://localhost:8080/"
        },
        "id": "WvRLcCJF5486",
        "outputId": "05e35dab-f8d4-4cd2-ad33-1796185c65e6"
      },
      "source": [
        "similitud_coseno(cat, dog)"
      ],
      "execution_count": 112,
      "outputs": [
        {
          "output_type": "execute_result",
          "data": {
            "text/plain": [
              "0.8798076"
            ]
          },
          "metadata": {
            "tags": []
          },
          "execution_count": 112
        }
      ]
    },
    {
      "cell_type": "code",
      "metadata": {
        "colab": {
          "base_uri": "https://localhost:8080/"
        },
        "id": "Ujeim9k-62Ta",
        "outputId": "8ab31794-01fb-42d2-a6cd-657cbb42151c"
      },
      "source": [
        "similitud_coseno(lion, dog)"
      ],
      "execution_count": 113,
      "outputs": [
        {
          "output_type": "execute_result",
          "data": {
            "text/plain": [
              "0.49642202"
            ]
          },
          "metadata": {
            "tags": []
          },
          "execution_count": 113
        }
      ]
    },
    {
      "cell_type": "code",
      "metadata": {
        "colab": {
          "base_uri": "https://localhost:8080/"
        },
        "id": "DoDUJcRW7UW6",
        "outputId": "6d79ad22-ea17-40a9-a801-156d4e43fa49"
      },
      "source": [
        "similitud_coseno(wolf, dog)"
      ],
      "execution_count": 114,
      "outputs": [
        {
          "output_type": "execute_result",
          "data": {
            "text/plain": [
              "0.5369378"
            ]
          },
          "metadata": {
            "tags": []
          },
          "execution_count": 114
        }
      ]
    },
    {
      "cell_type": "code",
      "metadata": {
        "id": "cN7ODMs9xTap"
      },
      "source": [
        "def encuentra_palabra(a, b, c):\r\n",
        "    a, b, c = a.lower(), b.lower(), c.lower()\r\n",
        "    a_vector, b_vector, c_vector = dic_vectores_glove[a], dic_vectores_glove[b], dic_vectores_glove[c]\r\n",
        "    \r\n",
        "    vocabulario = dic_vectores_glove.keys()\r\n",
        "    max_similitud = -1000 #la inicializamos con una similaridad alejada\r\n",
        "    mas_parecida = None\r\n",
        "    \r\n",
        "    for palabra in vocabulario:\r\n",
        "        if palabra in [a, b, c]:\r\n",
        "            continue\r\n",
        "            \r\n",
        "        sim_coseno = similitud_coseno(np.subtract(b_vector, a_vector), np.subtract(dic_vectores_glove[palabra], c_vector))\r\n",
        "        \r\n",
        "        if sim_coseno > max_similitud:\r\n",
        "            max_similitud = sim_coseno\r\n",
        "            mas_parecida = palabra\r\n",
        "            \r\n",
        "    return mas_parecida, sim_coseno"
      ],
      "execution_count": 122,
      "outputs": []
    },
    {
      "cell_type": "code",
      "metadata": {
        "colab": {
          "base_uri": "https://localhost:8080/"
        },
        "id": "pxggufs8_Pbo",
        "outputId": "5382d634-36bc-44c4-93b8-f4187e079a0d"
      },
      "source": [
        "encuentra_palabra('man', 'woman', 'boy')"
      ],
      "execution_count": 128,
      "outputs": [
        {
          "output_type": "execute_result",
          "data": {
            "text/plain": [
              "('girl', 0.0014003076)"
            ]
          },
          "metadata": {
            "tags": []
          },
          "execution_count": 128
        }
      ]
    },
    {
      "cell_type": "code",
      "metadata": {
        "colab": {
          "base_uri": "https://localhost:8080/"
        },
        "id": "LPxza6_P7g1j",
        "outputId": "6323b057-4095-4b2f-d463-35bcbcd76cb8"
      },
      "source": [
        "encuentra_palabra('italia', 'spaghetti', 'mexico')"
      ],
      "execution_count": 136,
      "outputs": [
        {
          "output_type": "execute_result",
          "data": {
            "text/plain": [
              "('sauce', -0.005849106)"
            ]
          },
          "metadata": {
            "tags": []
          },
          "execution_count": 136
        }
      ]
    },
    {
      "cell_type": "code",
      "metadata": {
        "colab": {
          "base_uri": "https://localhost:8080/"
        },
        "id": "rMDVQh7eArOS",
        "outputId": "f22bd7f2-7697-47a1-f38c-e54906dc2895"
      },
      "source": [
        "encuentra_palabra('grass', 'green', 'sky')"
      ],
      "execution_count": 139,
      "outputs": [
        {
          "output_type": "execute_result",
          "data": {
            "text/plain": [
              "('blue', -0.27172074)"
            ]
          },
          "metadata": {
            "tags": []
          },
          "execution_count": 139
        }
      ]
    },
    {
      "cell_type": "code",
      "metadata": {
        "colab": {
          "base_uri": "https://localhost:8080/"
        },
        "id": "3ZpHzdaw-eza",
        "outputId": "c0b87feb-f1ae-48f5-f9b5-5ecfd1606880"
      },
      "source": [
        "encuentra_palabra('spain', 'madrid', 'japan')"
      ],
      "execution_count": 126,
      "outputs": [
        {
          "output_type": "execute_result",
          "data": {
            "text/plain": [
              "('tokyo', 0.2830456)"
            ]
          },
          "metadata": {
            "tags": []
          },
          "execution_count": 126
        }
      ]
    },
    {
      "cell_type": "code",
      "metadata": {
        "colab": {
          "base_uri": "https://localhost:8080/"
        },
        "id": "OBN0jcy6_rOC",
        "outputId": "dd2a3c38-6786-4df4-f089-7e3c95a50382"
      },
      "source": [
        "encuentra_palabra('france', 'french', 'finland')"
      ],
      "execution_count": 133,
      "outputs": [
        {
          "output_type": "execute_result",
          "data": {
            "text/plain": [
              "('finnish', 0.26130632)"
            ]
          },
          "metadata": {
            "tags": []
          },
          "execution_count": 133
        }
      ]
    }
  ]
}