{
  "nbformat": 4,
  "nbformat_minor": 0,
  "metadata": {
    "colab": {
      "name": "Clasificador de Textos con Regresión logística usando TF.ipynb",
      "provenance": [],
      "collapsed_sections": [],
      "toc_visible": true,
      "authorship_tag": "ABX9TyNAko3zXF4cjin9iuuR68Fb",
      "include_colab_link": true
    },
    "kernelspec": {
      "name": "python3",
      "display_name": "Python 3"
    },
    "language_info": {
      "name": "python"
    },
    "accelerator": "GPU"
  },
  "cells": [
    {
      "cell_type": "markdown",
      "metadata": {
        "id": "view-in-github",
        "colab_type": "text"
      },
      "source": [
        "<a href=\"https://colab.research.google.com/github/AnIsAsPe/RNN-Resumenes-de-Texto/blob/main/Notebooks/Clasificador_de_Textos_con_Regresi%C3%B3n_log%C3%ADstica_usando_TF.ipynb\" target=\"_parent\"><img src=\"https://colab.research.google.com/assets/colab-badge.svg\" alt=\"Open In Colab\"/></a>"
      ]
    },
    {
      "cell_type": "markdown",
      "metadata": {
        "id": "-URr6ioO31Je"
      },
      "source": [
        "# Cargar Bibliotecas"
      ]
    },
    {
      "cell_type": "code",
      "metadata": {
        "id": "KXjUiWkiUQQA",
        "colab": {
          "base_uri": "https://localhost:8080/"
        },
        "outputId": "0705cae3-d672-4129-d000-71b5056659ab"
      },
      "source": [
        "import numpy as np\n",
        "import pandas as pd\n",
        "import re\n",
        "import nltk\n",
        "from nltk.corpus import stopwords\n",
        "from nltk.stem import PorterStemmer\n",
        "\n",
        "from sklearn.feature_extraction.text import TfidfVectorizer\n",
        "from sklearn.model_selection import train_test_split\n",
        "\n",
        "nltk.download('stopwords')"
      ],
      "execution_count": 1,
      "outputs": [
        {
          "output_type": "stream",
          "name": "stdout",
          "text": [
            "[nltk_data] Downloading package stopwords to /root/nltk_data...\n",
            "[nltk_data]   Unzipping corpora/stopwords.zip.\n"
          ]
        },
        {
          "output_type": "execute_result",
          "data": {
            "text/plain": [
              "True"
            ]
          },
          "metadata": {},
          "execution_count": 1
        }
      ]
    },
    {
      "cell_type": "code",
      "metadata": {
        "colab": {
          "base_uri": "https://localhost:8080/",
          "height": 223
        },
        "id": "R_qNtUcq4MQN",
        "outputId": "ac2f40c6-7d94-4353-849f-bfaa44bee6d1"
      },
      "source": [
        "datos =datos=pd.read_csv('https://raw.githubusercontent.com/AnIsAsPe/ElementosEstadisticaMachineLearningPython/master/Semana8/spam_ham_dataset.csv',\n",
        "                  usecols=['text','label_num'] )\n",
        "datos.columns=['text','spam']\n",
        "\n",
        "print(datos.shape)\n",
        "datos.head()"
      ],
      "execution_count": 2,
      "outputs": [
        {
          "output_type": "stream",
          "name": "stdout",
          "text": [
            "(5171, 2)\n"
          ]
        },
        {
          "output_type": "execute_result",
          "data": {
            "text/plain": [
              "                                                text  spam\n",
              "0  Subject: enron methanol ; meter # : 988291\\r\\n...     0\n",
              "1  Subject: hpl nom for january 9 , 2001\\r\\n( see...     0\n",
              "2  Subject: neon retreat\\r\\nho ho ho , we ' re ar...     0\n",
              "3  Subject: photoshop , windows , office . cheap ...     1\n",
              "4  Subject: re : indian springs\\r\\nthis deal is t...     0"
            ],
            "text/html": [
              "\n",
              "  <div id=\"df-00513274-3b51-4fb1-90fc-33ec720ea63e\">\n",
              "    <div class=\"colab-df-container\">\n",
              "      <div>\n",
              "<style scoped>\n",
              "    .dataframe tbody tr th:only-of-type {\n",
              "        vertical-align: middle;\n",
              "    }\n",
              "\n",
              "    .dataframe tbody tr th {\n",
              "        vertical-align: top;\n",
              "    }\n",
              "\n",
              "    .dataframe thead th {\n",
              "        text-align: right;\n",
              "    }\n",
              "</style>\n",
              "<table border=\"1\" class=\"dataframe\">\n",
              "  <thead>\n",
              "    <tr style=\"text-align: right;\">\n",
              "      <th></th>\n",
              "      <th>text</th>\n",
              "      <th>spam</th>\n",
              "    </tr>\n",
              "  </thead>\n",
              "  <tbody>\n",
              "    <tr>\n",
              "      <th>0</th>\n",
              "      <td>Subject: enron methanol ; meter # : 988291\\r\\n...</td>\n",
              "      <td>0</td>\n",
              "    </tr>\n",
              "    <tr>\n",
              "      <th>1</th>\n",
              "      <td>Subject: hpl nom for january 9 , 2001\\r\\n( see...</td>\n",
              "      <td>0</td>\n",
              "    </tr>\n",
              "    <tr>\n",
              "      <th>2</th>\n",
              "      <td>Subject: neon retreat\\r\\nho ho ho , we ' re ar...</td>\n",
              "      <td>0</td>\n",
              "    </tr>\n",
              "    <tr>\n",
              "      <th>3</th>\n",
              "      <td>Subject: photoshop , windows , office . cheap ...</td>\n",
              "      <td>1</td>\n",
              "    </tr>\n",
              "    <tr>\n",
              "      <th>4</th>\n",
              "      <td>Subject: re : indian springs\\r\\nthis deal is t...</td>\n",
              "      <td>0</td>\n",
              "    </tr>\n",
              "  </tbody>\n",
              "</table>\n",
              "</div>\n",
              "      <button class=\"colab-df-convert\" onclick=\"convertToInteractive('df-00513274-3b51-4fb1-90fc-33ec720ea63e')\"\n",
              "              title=\"Convert this dataframe to an interactive table.\"\n",
              "              style=\"display:none;\">\n",
              "        \n",
              "  <svg xmlns=\"http://www.w3.org/2000/svg\" height=\"24px\"viewBox=\"0 0 24 24\"\n",
              "       width=\"24px\">\n",
              "    <path d=\"M0 0h24v24H0V0z\" fill=\"none\"/>\n",
              "    <path d=\"M18.56 5.44l.94 2.06.94-2.06 2.06-.94-2.06-.94-.94-2.06-.94 2.06-2.06.94zm-11 1L8.5 8.5l.94-2.06 2.06-.94-2.06-.94L8.5 2.5l-.94 2.06-2.06.94zm10 10l.94 2.06.94-2.06 2.06-.94-2.06-.94-.94-2.06-.94 2.06-2.06.94z\"/><path d=\"M17.41 7.96l-1.37-1.37c-.4-.4-.92-.59-1.43-.59-.52 0-1.04.2-1.43.59L10.3 9.45l-7.72 7.72c-.78.78-.78 2.05 0 2.83L4 21.41c.39.39.9.59 1.41.59.51 0 1.02-.2 1.41-.59l7.78-7.78 2.81-2.81c.8-.78.8-2.07 0-2.86zM5.41 20L4 18.59l7.72-7.72 1.47 1.35L5.41 20z\"/>\n",
              "  </svg>\n",
              "      </button>\n",
              "      \n",
              "  <style>\n",
              "    .colab-df-container {\n",
              "      display:flex;\n",
              "      flex-wrap:wrap;\n",
              "      gap: 12px;\n",
              "    }\n",
              "\n",
              "    .colab-df-convert {\n",
              "      background-color: #E8F0FE;\n",
              "      border: none;\n",
              "      border-radius: 50%;\n",
              "      cursor: pointer;\n",
              "      display: none;\n",
              "      fill: #1967D2;\n",
              "      height: 32px;\n",
              "      padding: 0 0 0 0;\n",
              "      width: 32px;\n",
              "    }\n",
              "\n",
              "    .colab-df-convert:hover {\n",
              "      background-color: #E2EBFA;\n",
              "      box-shadow: 0px 1px 2px rgba(60, 64, 67, 0.3), 0px 1px 3px 1px rgba(60, 64, 67, 0.15);\n",
              "      fill: #174EA6;\n",
              "    }\n",
              "\n",
              "    [theme=dark] .colab-df-convert {\n",
              "      background-color: #3B4455;\n",
              "      fill: #D2E3FC;\n",
              "    }\n",
              "\n",
              "    [theme=dark] .colab-df-convert:hover {\n",
              "      background-color: #434B5C;\n",
              "      box-shadow: 0px 1px 3px 1px rgba(0, 0, 0, 0.15);\n",
              "      filter: drop-shadow(0px 1px 2px rgba(0, 0, 0, 0.3));\n",
              "      fill: #FFFFFF;\n",
              "    }\n",
              "  </style>\n",
              "\n",
              "      <script>\n",
              "        const buttonEl =\n",
              "          document.querySelector('#df-00513274-3b51-4fb1-90fc-33ec720ea63e button.colab-df-convert');\n",
              "        buttonEl.style.display =\n",
              "          google.colab.kernel.accessAllowed ? 'block' : 'none';\n",
              "\n",
              "        async function convertToInteractive(key) {\n",
              "          const element = document.querySelector('#df-00513274-3b51-4fb1-90fc-33ec720ea63e');\n",
              "          const dataTable =\n",
              "            await google.colab.kernel.invokeFunction('convertToInteractive',\n",
              "                                                     [key], {});\n",
              "          if (!dataTable) return;\n",
              "\n",
              "          const docLinkHtml = 'Like what you see? Visit the ' +\n",
              "            '<a target=\"_blank\" href=https://colab.research.google.com/notebooks/data_table.ipynb>data table notebook</a>'\n",
              "            + ' to learn more about interactive tables.';\n",
              "          element.innerHTML = '';\n",
              "          dataTable['output_type'] = 'display_data';\n",
              "          await google.colab.output.renderOutput(dataTable, element);\n",
              "          const docLink = document.createElement('div');\n",
              "          docLink.innerHTML = docLinkHtml;\n",
              "          element.appendChild(docLink);\n",
              "        }\n",
              "      </script>\n",
              "    </div>\n",
              "  </div>\n",
              "  "
            ]
          },
          "metadata": {},
          "execution_count": 2
        }
      ]
    },
    {
      "cell_type": "code",
      "metadata": {
        "colab": {
          "base_uri": "https://localhost:8080/"
        },
        "id": "WEq5tt2N41nW",
        "outputId": "31afafec-db51-4cf2-ee05-3a62bd03c795"
      },
      "source": [
        "\n",
        "datos['spam'].value_counts()"
      ],
      "execution_count": 3,
      "outputs": [
        {
          "output_type": "execute_result",
          "data": {
            "text/plain": [
              "0    3672\n",
              "1    1499\n",
              "Name: spam, dtype: int64"
            ]
          },
          "metadata": {},
          "execution_count": 3
        }
      ]
    },
    {
      "cell_type": "markdown",
      "metadata": {
        "id": "B10uYOdPAm2-"
      },
      "source": [
        "## Preprocesamiento de textos"
      ]
    },
    {
      "cell_type": "code",
      "metadata": {
        "id": "7k_x2WD3-iZ6"
      },
      "source": [
        "def preprocesar(texto):\n",
        "  #convierte a minúsculas\n",
        "  texto = (texto).lower()\n",
        "\n",
        "  #elimina stopwords + 'subject'\n",
        "  stop = re.compile(r'\\b(' + r'|'.join(stopwords.words('english')+(['subject'])) + r')\\b\\s*')\n",
        "  texto = stop.sub('', texto) \n",
        "\n",
        "  #quita puntuaciones y números\n",
        "  texto = re.sub('[^a-z]+', ' ', texto)\n",
        "\n",
        "  #lematizar y quedarnos con palabras que tengan más de tres caracteres\n",
        "  st = PorterStemmer()\n",
        "  texto = texto.split()\n",
        "  texto = ' '.join([st.stem(i) for i in texto])\n",
        "  \n",
        "  return(texto)"
      ],
      "execution_count": 4,
      "outputs": []
    },
    {
      "cell_type": "code",
      "metadata": {
        "colab": {
          "base_uri": "https://localhost:8080/",
          "height": 423
        },
        "id": "d5NaISfg6op2",
        "outputId": "a71ea297-002e-466e-cbc7-2e7b2fccdf64"
      },
      "source": [
        "datos['text_pp'] = datos['text'].apply(preprocesar)\n",
        "datos"
      ],
      "execution_count": 5,
      "outputs": [
        {
          "output_type": "execute_result",
          "data": {
            "text/plain": [
              "                                                   text  spam  \\\n",
              "0     Subject: enron methanol ; meter # : 988291\\r\\n...     0   \n",
              "1     Subject: hpl nom for january 9 , 2001\\r\\n( see...     0   \n",
              "2     Subject: neon retreat\\r\\nho ho ho , we ' re ar...     0   \n",
              "3     Subject: photoshop , windows , office . cheap ...     1   \n",
              "4     Subject: re : indian springs\\r\\nthis deal is t...     0   \n",
              "...                                                 ...   ...   \n",
              "5166  Subject: put the 10 on the ft\\r\\nthe transport...     0   \n",
              "5167  Subject: 3 / 4 / 2000 and following noms\\r\\nhp...     0   \n",
              "5168  Subject: calpine daily gas nomination\\r\\n>\\r\\n...     0   \n",
              "5169  Subject: industrial worksheets for august 2000...     0   \n",
              "5170  Subject: important online banking alert\\r\\ndea...     1   \n",
              "\n",
              "                                                text_pp  \n",
              "0     enron methanol meter follow note gave monday p...  \n",
              "1     hpl nom januari see attach file hplnol xl hpln...  \n",
              "2     neon retreat ho ho ho around wonder time year ...  \n",
              "3     photoshop window offic cheap main trend abas d...  \n",
              "4     indian spring deal book teco pvr revenu unders...  \n",
              "...                                                 ...  \n",
              "5166  put ft transport volum decreas contract thank ...  \n",
              "5167  follow nom hpl take extra mmcf weekend tri nex...  \n",
              "5168  calpin daili ga nomin juli mention earlier hop...  \n",
              "5169  industri worksheet august activ attach workshe...  \n",
              "5170  import onlin bank alert dear valu citizensr ba...  \n",
              "\n",
              "[5171 rows x 3 columns]"
            ],
            "text/html": [
              "\n",
              "  <div id=\"df-0803c5cb-bccf-4b05-9fc4-7a13d0fab27a\">\n",
              "    <div class=\"colab-df-container\">\n",
              "      <div>\n",
              "<style scoped>\n",
              "    .dataframe tbody tr th:only-of-type {\n",
              "        vertical-align: middle;\n",
              "    }\n",
              "\n",
              "    .dataframe tbody tr th {\n",
              "        vertical-align: top;\n",
              "    }\n",
              "\n",
              "    .dataframe thead th {\n",
              "        text-align: right;\n",
              "    }\n",
              "</style>\n",
              "<table border=\"1\" class=\"dataframe\">\n",
              "  <thead>\n",
              "    <tr style=\"text-align: right;\">\n",
              "      <th></th>\n",
              "      <th>text</th>\n",
              "      <th>spam</th>\n",
              "      <th>text_pp</th>\n",
              "    </tr>\n",
              "  </thead>\n",
              "  <tbody>\n",
              "    <tr>\n",
              "      <th>0</th>\n",
              "      <td>Subject: enron methanol ; meter # : 988291\\r\\n...</td>\n",
              "      <td>0</td>\n",
              "      <td>enron methanol meter follow note gave monday p...</td>\n",
              "    </tr>\n",
              "    <tr>\n",
              "      <th>1</th>\n",
              "      <td>Subject: hpl nom for january 9 , 2001\\r\\n( see...</td>\n",
              "      <td>0</td>\n",
              "      <td>hpl nom januari see attach file hplnol xl hpln...</td>\n",
              "    </tr>\n",
              "    <tr>\n",
              "      <th>2</th>\n",
              "      <td>Subject: neon retreat\\r\\nho ho ho , we ' re ar...</td>\n",
              "      <td>0</td>\n",
              "      <td>neon retreat ho ho ho around wonder time year ...</td>\n",
              "    </tr>\n",
              "    <tr>\n",
              "      <th>3</th>\n",
              "      <td>Subject: photoshop , windows , office . cheap ...</td>\n",
              "      <td>1</td>\n",
              "      <td>photoshop window offic cheap main trend abas d...</td>\n",
              "    </tr>\n",
              "    <tr>\n",
              "      <th>4</th>\n",
              "      <td>Subject: re : indian springs\\r\\nthis deal is t...</td>\n",
              "      <td>0</td>\n",
              "      <td>indian spring deal book teco pvr revenu unders...</td>\n",
              "    </tr>\n",
              "    <tr>\n",
              "      <th>...</th>\n",
              "      <td>...</td>\n",
              "      <td>...</td>\n",
              "      <td>...</td>\n",
              "    </tr>\n",
              "    <tr>\n",
              "      <th>5166</th>\n",
              "      <td>Subject: put the 10 on the ft\\r\\nthe transport...</td>\n",
              "      <td>0</td>\n",
              "      <td>put ft transport volum decreas contract thank ...</td>\n",
              "    </tr>\n",
              "    <tr>\n",
              "      <th>5167</th>\n",
              "      <td>Subject: 3 / 4 / 2000 and following noms\\r\\nhp...</td>\n",
              "      <td>0</td>\n",
              "      <td>follow nom hpl take extra mmcf weekend tri nex...</td>\n",
              "    </tr>\n",
              "    <tr>\n",
              "      <th>5168</th>\n",
              "      <td>Subject: calpine daily gas nomination\\r\\n&gt;\\r\\n...</td>\n",
              "      <td>0</td>\n",
              "      <td>calpin daili ga nomin juli mention earlier hop...</td>\n",
              "    </tr>\n",
              "    <tr>\n",
              "      <th>5169</th>\n",
              "      <td>Subject: industrial worksheets for august 2000...</td>\n",
              "      <td>0</td>\n",
              "      <td>industri worksheet august activ attach workshe...</td>\n",
              "    </tr>\n",
              "    <tr>\n",
              "      <th>5170</th>\n",
              "      <td>Subject: important online banking alert\\r\\ndea...</td>\n",
              "      <td>1</td>\n",
              "      <td>import onlin bank alert dear valu citizensr ba...</td>\n",
              "    </tr>\n",
              "  </tbody>\n",
              "</table>\n",
              "<p>5171 rows × 3 columns</p>\n",
              "</div>\n",
              "      <button class=\"colab-df-convert\" onclick=\"convertToInteractive('df-0803c5cb-bccf-4b05-9fc4-7a13d0fab27a')\"\n",
              "              title=\"Convert this dataframe to an interactive table.\"\n",
              "              style=\"display:none;\">\n",
              "        \n",
              "  <svg xmlns=\"http://www.w3.org/2000/svg\" height=\"24px\"viewBox=\"0 0 24 24\"\n",
              "       width=\"24px\">\n",
              "    <path d=\"M0 0h24v24H0V0z\" fill=\"none\"/>\n",
              "    <path d=\"M18.56 5.44l.94 2.06.94-2.06 2.06-.94-2.06-.94-.94-2.06-.94 2.06-2.06.94zm-11 1L8.5 8.5l.94-2.06 2.06-.94-2.06-.94L8.5 2.5l-.94 2.06-2.06.94zm10 10l.94 2.06.94-2.06 2.06-.94-2.06-.94-.94-2.06-.94 2.06-2.06.94z\"/><path d=\"M17.41 7.96l-1.37-1.37c-.4-.4-.92-.59-1.43-.59-.52 0-1.04.2-1.43.59L10.3 9.45l-7.72 7.72c-.78.78-.78 2.05 0 2.83L4 21.41c.39.39.9.59 1.41.59.51 0 1.02-.2 1.41-.59l7.78-7.78 2.81-2.81c.8-.78.8-2.07 0-2.86zM5.41 20L4 18.59l7.72-7.72 1.47 1.35L5.41 20z\"/>\n",
              "  </svg>\n",
              "      </button>\n",
              "      \n",
              "  <style>\n",
              "    .colab-df-container {\n",
              "      display:flex;\n",
              "      flex-wrap:wrap;\n",
              "      gap: 12px;\n",
              "    }\n",
              "\n",
              "    .colab-df-convert {\n",
              "      background-color: #E8F0FE;\n",
              "      border: none;\n",
              "      border-radius: 50%;\n",
              "      cursor: pointer;\n",
              "      display: none;\n",
              "      fill: #1967D2;\n",
              "      height: 32px;\n",
              "      padding: 0 0 0 0;\n",
              "      width: 32px;\n",
              "    }\n",
              "\n",
              "    .colab-df-convert:hover {\n",
              "      background-color: #E2EBFA;\n",
              "      box-shadow: 0px 1px 2px rgba(60, 64, 67, 0.3), 0px 1px 3px 1px rgba(60, 64, 67, 0.15);\n",
              "      fill: #174EA6;\n",
              "    }\n",
              "\n",
              "    [theme=dark] .colab-df-convert {\n",
              "      background-color: #3B4455;\n",
              "      fill: #D2E3FC;\n",
              "    }\n",
              "\n",
              "    [theme=dark] .colab-df-convert:hover {\n",
              "      background-color: #434B5C;\n",
              "      box-shadow: 0px 1px 3px 1px rgba(0, 0, 0, 0.15);\n",
              "      filter: drop-shadow(0px 1px 2px rgba(0, 0, 0, 0.3));\n",
              "      fill: #FFFFFF;\n",
              "    }\n",
              "  </style>\n",
              "\n",
              "      <script>\n",
              "        const buttonEl =\n",
              "          document.querySelector('#df-0803c5cb-bccf-4b05-9fc4-7a13d0fab27a button.colab-df-convert');\n",
              "        buttonEl.style.display =\n",
              "          google.colab.kernel.accessAllowed ? 'block' : 'none';\n",
              "\n",
              "        async function convertToInteractive(key) {\n",
              "          const element = document.querySelector('#df-0803c5cb-bccf-4b05-9fc4-7a13d0fab27a');\n",
              "          const dataTable =\n",
              "            await google.colab.kernel.invokeFunction('convertToInteractive',\n",
              "                                                     [key], {});\n",
              "          if (!dataTable) return;\n",
              "\n",
              "          const docLinkHtml = 'Like what you see? Visit the ' +\n",
              "            '<a target=\"_blank\" href=https://colab.research.google.com/notebooks/data_table.ipynb>data table notebook</a>'\n",
              "            + ' to learn more about interactive tables.';\n",
              "          element.innerHTML = '';\n",
              "          dataTable['output_type'] = 'display_data';\n",
              "          await google.colab.output.renderOutput(dataTable, element);\n",
              "          const docLink = document.createElement('div');\n",
              "          docLink.innerHTML = docLinkHtml;\n",
              "          element.appendChild(docLink);\n",
              "        }\n",
              "      </script>\n",
              "    </div>\n",
              "  </div>\n",
              "  "
            ]
          },
          "metadata": {},
          "execution_count": 5
        }
      ]
    },
    {
      "cell_type": "markdown",
      "metadata": {
        "id": "ihnhEfR9AsD1"
      },
      "source": [
        "# Vectorización de Texto mediante BOW"
      ]
    },
    {
      "cell_type": "code",
      "metadata": {
        "colab": {
          "base_uri": "https://localhost:8080/"
        },
        "id": "034-OjI58ff2",
        "outputId": "fbe70c02-30e7-4cea-9185-c40e557f9ca1"
      },
      "source": [
        "vectorizer = TfidfVectorizer(min_df=3)\n",
        "BOW = vectorizer.fit_transform(datos['text_pp'])\n",
        "BOW.shape"
      ],
      "execution_count": 6,
      "outputs": [
        {
          "output_type": "execute_result",
          "data": {
            "text/plain": [
              "(5171, 10376)"
            ]
          },
          "metadata": {},
          "execution_count": 6
        }
      ]
    },
    {
      "cell_type": "code",
      "metadata": {
        "colab": {
          "base_uri": "https://localhost:8080/",
          "height": 478
        },
        "id": "_jB5UK8t_L8V",
        "outputId": "f1c67f92-0b5b-43c8-b588-f2f7e2955f85"
      },
      "source": [
        "palabras = vectorizer.get_feature_names()\n",
        "pd.DataFrame(BOW.todense(), index=datos.index, columns=palabras)\n"
      ],
      "execution_count": 7,
      "outputs": [
        {
          "output_type": "stream",
          "name": "stderr",
          "text": [
            "/usr/local/lib/python3.7/dist-packages/sklearn/utils/deprecation.py:87: FutureWarning: Function get_feature_names is deprecated; get_feature_names is deprecated in 1.0 and will be removed in 1.2. Please use get_feature_names_out instead.\n",
            "  warnings.warn(msg, category=FutureWarning)\n"
          ]
        },
        {
          "output_type": "execute_result",
          "data": {
            "text/plain": [
              "       aa  aalland  aaron   ab  aba  aback  abacu  abacustech  abandon  abash  \\\n",
              "0     0.0      0.0    0.0  0.0  0.0    0.0    0.0         0.0      0.0    0.0   \n",
              "1     0.0      0.0    0.0  0.0  0.0    0.0    0.0         0.0      0.0    0.0   \n",
              "2     0.0      0.0    0.0  0.0  0.0    0.0    0.0         0.0      0.0    0.0   \n",
              "3     0.0      0.0    0.0  0.0  0.0    0.0    0.0         0.0      0.0    0.0   \n",
              "4     0.0      0.0    0.0  0.0  0.0    0.0    0.0         0.0      0.0    0.0   \n",
              "...   ...      ...    ...  ...  ...    ...    ...         ...      ...    ...   \n",
              "5166  0.0      0.0    0.0  0.0  0.0    0.0    0.0         0.0      0.0    0.0   \n",
              "5167  0.0      0.0    0.0  0.0  0.0    0.0    0.0         0.0      0.0    0.0   \n",
              "5168  0.0      0.0    0.0  0.0  0.0    0.0    0.0         0.0      0.0    0.0   \n",
              "5169  0.0      0.0    0.0  0.0  0.0    0.0    0.0         0.0      0.0    0.0   \n",
              "5170  0.0      0.0    0.0  0.0  0.0    0.0    0.0         0.0      0.0    0.0   \n",
              "\n",
              "      ...  zodiac  zoloft  zone  zonedubai  zonewww   zs   zu  zurich  \\\n",
              "0     ...     0.0     0.0   0.0        0.0      0.0  0.0  0.0     0.0   \n",
              "1     ...     0.0     0.0   0.0        0.0      0.0  0.0  0.0     0.0   \n",
              "2     ...     0.0     0.0   0.0        0.0      0.0  0.0  0.0     0.0   \n",
              "3     ...     0.0     0.0   0.0        0.0      0.0  0.0  0.0     0.0   \n",
              "4     ...     0.0     0.0   0.0        0.0      0.0  0.0  0.0     0.0   \n",
              "...   ...     ...     ...   ...        ...      ...  ...  ...     ...   \n",
              "5166  ...     0.0     0.0   0.0        0.0      0.0  0.0  0.0     0.0   \n",
              "5167  ...     0.0     0.0   0.0        0.0      0.0  0.0  0.0     0.0   \n",
              "5168  ...     0.0     0.0   0.0        0.0      0.0  0.0  0.0     0.0   \n",
              "5169  ...     0.0     0.0   0.0        0.0      0.0  0.0  0.0     0.0   \n",
              "5170  ...     0.0     0.0   0.0        0.0      0.0  0.0  0.0     0.0   \n",
              "\n",
              "      zwallet  zyban  \n",
              "0         0.0    0.0  \n",
              "1         0.0    0.0  \n",
              "2         0.0    0.0  \n",
              "3         0.0    0.0  \n",
              "4         0.0    0.0  \n",
              "...       ...    ...  \n",
              "5166      0.0    0.0  \n",
              "5167      0.0    0.0  \n",
              "5168      0.0    0.0  \n",
              "5169      0.0    0.0  \n",
              "5170      0.0    0.0  \n",
              "\n",
              "[5171 rows x 10376 columns]"
            ],
            "text/html": [
              "\n",
              "  <div id=\"df-855c9161-5197-404f-8fba-fc7df12f2179\">\n",
              "    <div class=\"colab-df-container\">\n",
              "      <div>\n",
              "<style scoped>\n",
              "    .dataframe tbody tr th:only-of-type {\n",
              "        vertical-align: middle;\n",
              "    }\n",
              "\n",
              "    .dataframe tbody tr th {\n",
              "        vertical-align: top;\n",
              "    }\n",
              "\n",
              "    .dataframe thead th {\n",
              "        text-align: right;\n",
              "    }\n",
              "</style>\n",
              "<table border=\"1\" class=\"dataframe\">\n",
              "  <thead>\n",
              "    <tr style=\"text-align: right;\">\n",
              "      <th></th>\n",
              "      <th>aa</th>\n",
              "      <th>aalland</th>\n",
              "      <th>aaron</th>\n",
              "      <th>ab</th>\n",
              "      <th>aba</th>\n",
              "      <th>aback</th>\n",
              "      <th>abacu</th>\n",
              "      <th>abacustech</th>\n",
              "      <th>abandon</th>\n",
              "      <th>abash</th>\n",
              "      <th>...</th>\n",
              "      <th>zodiac</th>\n",
              "      <th>zoloft</th>\n",
              "      <th>zone</th>\n",
              "      <th>zonedubai</th>\n",
              "      <th>zonewww</th>\n",
              "      <th>zs</th>\n",
              "      <th>zu</th>\n",
              "      <th>zurich</th>\n",
              "      <th>zwallet</th>\n",
              "      <th>zyban</th>\n",
              "    </tr>\n",
              "  </thead>\n",
              "  <tbody>\n",
              "    <tr>\n",
              "      <th>0</th>\n",
              "      <td>0.0</td>\n",
              "      <td>0.0</td>\n",
              "      <td>0.0</td>\n",
              "      <td>0.0</td>\n",
              "      <td>0.0</td>\n",
              "      <td>0.0</td>\n",
              "      <td>0.0</td>\n",
              "      <td>0.0</td>\n",
              "      <td>0.0</td>\n",
              "      <td>0.0</td>\n",
              "      <td>...</td>\n",
              "      <td>0.0</td>\n",
              "      <td>0.0</td>\n",
              "      <td>0.0</td>\n",
              "      <td>0.0</td>\n",
              "      <td>0.0</td>\n",
              "      <td>0.0</td>\n",
              "      <td>0.0</td>\n",
              "      <td>0.0</td>\n",
              "      <td>0.0</td>\n",
              "      <td>0.0</td>\n",
              "    </tr>\n",
              "    <tr>\n",
              "      <th>1</th>\n",
              "      <td>0.0</td>\n",
              "      <td>0.0</td>\n",
              "      <td>0.0</td>\n",
              "      <td>0.0</td>\n",
              "      <td>0.0</td>\n",
              "      <td>0.0</td>\n",
              "      <td>0.0</td>\n",
              "      <td>0.0</td>\n",
              "      <td>0.0</td>\n",
              "      <td>0.0</td>\n",
              "      <td>...</td>\n",
              "      <td>0.0</td>\n",
              "      <td>0.0</td>\n",
              "      <td>0.0</td>\n",
              "      <td>0.0</td>\n",
              "      <td>0.0</td>\n",
              "      <td>0.0</td>\n",
              "      <td>0.0</td>\n",
              "      <td>0.0</td>\n",
              "      <td>0.0</td>\n",
              "      <td>0.0</td>\n",
              "    </tr>\n",
              "    <tr>\n",
              "      <th>2</th>\n",
              "      <td>0.0</td>\n",
              "      <td>0.0</td>\n",
              "      <td>0.0</td>\n",
              "      <td>0.0</td>\n",
              "      <td>0.0</td>\n",
              "      <td>0.0</td>\n",
              "      <td>0.0</td>\n",
              "      <td>0.0</td>\n",
              "      <td>0.0</td>\n",
              "      <td>0.0</td>\n",
              "      <td>...</td>\n",
              "      <td>0.0</td>\n",
              "      <td>0.0</td>\n",
              "      <td>0.0</td>\n",
              "      <td>0.0</td>\n",
              "      <td>0.0</td>\n",
              "      <td>0.0</td>\n",
              "      <td>0.0</td>\n",
              "      <td>0.0</td>\n",
              "      <td>0.0</td>\n",
              "      <td>0.0</td>\n",
              "    </tr>\n",
              "    <tr>\n",
              "      <th>3</th>\n",
              "      <td>0.0</td>\n",
              "      <td>0.0</td>\n",
              "      <td>0.0</td>\n",
              "      <td>0.0</td>\n",
              "      <td>0.0</td>\n",
              "      <td>0.0</td>\n",
              "      <td>0.0</td>\n",
              "      <td>0.0</td>\n",
              "      <td>0.0</td>\n",
              "      <td>0.0</td>\n",
              "      <td>...</td>\n",
              "      <td>0.0</td>\n",
              "      <td>0.0</td>\n",
              "      <td>0.0</td>\n",
              "      <td>0.0</td>\n",
              "      <td>0.0</td>\n",
              "      <td>0.0</td>\n",
              "      <td>0.0</td>\n",
              "      <td>0.0</td>\n",
              "      <td>0.0</td>\n",
              "      <td>0.0</td>\n",
              "    </tr>\n",
              "    <tr>\n",
              "      <th>4</th>\n",
              "      <td>0.0</td>\n",
              "      <td>0.0</td>\n",
              "      <td>0.0</td>\n",
              "      <td>0.0</td>\n",
              "      <td>0.0</td>\n",
              "      <td>0.0</td>\n",
              "      <td>0.0</td>\n",
              "      <td>0.0</td>\n",
              "      <td>0.0</td>\n",
              "      <td>0.0</td>\n",
              "      <td>...</td>\n",
              "      <td>0.0</td>\n",
              "      <td>0.0</td>\n",
              "      <td>0.0</td>\n",
              "      <td>0.0</td>\n",
              "      <td>0.0</td>\n",
              "      <td>0.0</td>\n",
              "      <td>0.0</td>\n",
              "      <td>0.0</td>\n",
              "      <td>0.0</td>\n",
              "      <td>0.0</td>\n",
              "    </tr>\n",
              "    <tr>\n",
              "      <th>...</th>\n",
              "      <td>...</td>\n",
              "      <td>...</td>\n",
              "      <td>...</td>\n",
              "      <td>...</td>\n",
              "      <td>...</td>\n",
              "      <td>...</td>\n",
              "      <td>...</td>\n",
              "      <td>...</td>\n",
              "      <td>...</td>\n",
              "      <td>...</td>\n",
              "      <td>...</td>\n",
              "      <td>...</td>\n",
              "      <td>...</td>\n",
              "      <td>...</td>\n",
              "      <td>...</td>\n",
              "      <td>...</td>\n",
              "      <td>...</td>\n",
              "      <td>...</td>\n",
              "      <td>...</td>\n",
              "      <td>...</td>\n",
              "      <td>...</td>\n",
              "    </tr>\n",
              "    <tr>\n",
              "      <th>5166</th>\n",
              "      <td>0.0</td>\n",
              "      <td>0.0</td>\n",
              "      <td>0.0</td>\n",
              "      <td>0.0</td>\n",
              "      <td>0.0</td>\n",
              "      <td>0.0</td>\n",
              "      <td>0.0</td>\n",
              "      <td>0.0</td>\n",
              "      <td>0.0</td>\n",
              "      <td>0.0</td>\n",
              "      <td>...</td>\n",
              "      <td>0.0</td>\n",
              "      <td>0.0</td>\n",
              "      <td>0.0</td>\n",
              "      <td>0.0</td>\n",
              "      <td>0.0</td>\n",
              "      <td>0.0</td>\n",
              "      <td>0.0</td>\n",
              "      <td>0.0</td>\n",
              "      <td>0.0</td>\n",
              "      <td>0.0</td>\n",
              "    </tr>\n",
              "    <tr>\n",
              "      <th>5167</th>\n",
              "      <td>0.0</td>\n",
              "      <td>0.0</td>\n",
              "      <td>0.0</td>\n",
              "      <td>0.0</td>\n",
              "      <td>0.0</td>\n",
              "      <td>0.0</td>\n",
              "      <td>0.0</td>\n",
              "      <td>0.0</td>\n",
              "      <td>0.0</td>\n",
              "      <td>0.0</td>\n",
              "      <td>...</td>\n",
              "      <td>0.0</td>\n",
              "      <td>0.0</td>\n",
              "      <td>0.0</td>\n",
              "      <td>0.0</td>\n",
              "      <td>0.0</td>\n",
              "      <td>0.0</td>\n",
              "      <td>0.0</td>\n",
              "      <td>0.0</td>\n",
              "      <td>0.0</td>\n",
              "      <td>0.0</td>\n",
              "    </tr>\n",
              "    <tr>\n",
              "      <th>5168</th>\n",
              "      <td>0.0</td>\n",
              "      <td>0.0</td>\n",
              "      <td>0.0</td>\n",
              "      <td>0.0</td>\n",
              "      <td>0.0</td>\n",
              "      <td>0.0</td>\n",
              "      <td>0.0</td>\n",
              "      <td>0.0</td>\n",
              "      <td>0.0</td>\n",
              "      <td>0.0</td>\n",
              "      <td>...</td>\n",
              "      <td>0.0</td>\n",
              "      <td>0.0</td>\n",
              "      <td>0.0</td>\n",
              "      <td>0.0</td>\n",
              "      <td>0.0</td>\n",
              "      <td>0.0</td>\n",
              "      <td>0.0</td>\n",
              "      <td>0.0</td>\n",
              "      <td>0.0</td>\n",
              "      <td>0.0</td>\n",
              "    </tr>\n",
              "    <tr>\n",
              "      <th>5169</th>\n",
              "      <td>0.0</td>\n",
              "      <td>0.0</td>\n",
              "      <td>0.0</td>\n",
              "      <td>0.0</td>\n",
              "      <td>0.0</td>\n",
              "      <td>0.0</td>\n",
              "      <td>0.0</td>\n",
              "      <td>0.0</td>\n",
              "      <td>0.0</td>\n",
              "      <td>0.0</td>\n",
              "      <td>...</td>\n",
              "      <td>0.0</td>\n",
              "      <td>0.0</td>\n",
              "      <td>0.0</td>\n",
              "      <td>0.0</td>\n",
              "      <td>0.0</td>\n",
              "      <td>0.0</td>\n",
              "      <td>0.0</td>\n",
              "      <td>0.0</td>\n",
              "      <td>0.0</td>\n",
              "      <td>0.0</td>\n",
              "    </tr>\n",
              "    <tr>\n",
              "      <th>5170</th>\n",
              "      <td>0.0</td>\n",
              "      <td>0.0</td>\n",
              "      <td>0.0</td>\n",
              "      <td>0.0</td>\n",
              "      <td>0.0</td>\n",
              "      <td>0.0</td>\n",
              "      <td>0.0</td>\n",
              "      <td>0.0</td>\n",
              "      <td>0.0</td>\n",
              "      <td>0.0</td>\n",
              "      <td>...</td>\n",
              "      <td>0.0</td>\n",
              "      <td>0.0</td>\n",
              "      <td>0.0</td>\n",
              "      <td>0.0</td>\n",
              "      <td>0.0</td>\n",
              "      <td>0.0</td>\n",
              "      <td>0.0</td>\n",
              "      <td>0.0</td>\n",
              "      <td>0.0</td>\n",
              "      <td>0.0</td>\n",
              "    </tr>\n",
              "  </tbody>\n",
              "</table>\n",
              "<p>5171 rows × 10376 columns</p>\n",
              "</div>\n",
              "      <button class=\"colab-df-convert\" onclick=\"convertToInteractive('df-855c9161-5197-404f-8fba-fc7df12f2179')\"\n",
              "              title=\"Convert this dataframe to an interactive table.\"\n",
              "              style=\"display:none;\">\n",
              "        \n",
              "  <svg xmlns=\"http://www.w3.org/2000/svg\" height=\"24px\"viewBox=\"0 0 24 24\"\n",
              "       width=\"24px\">\n",
              "    <path d=\"M0 0h24v24H0V0z\" fill=\"none\"/>\n",
              "    <path d=\"M18.56 5.44l.94 2.06.94-2.06 2.06-.94-2.06-.94-.94-2.06-.94 2.06-2.06.94zm-11 1L8.5 8.5l.94-2.06 2.06-.94-2.06-.94L8.5 2.5l-.94 2.06-2.06.94zm10 10l.94 2.06.94-2.06 2.06-.94-2.06-.94-.94-2.06-.94 2.06-2.06.94z\"/><path d=\"M17.41 7.96l-1.37-1.37c-.4-.4-.92-.59-1.43-.59-.52 0-1.04.2-1.43.59L10.3 9.45l-7.72 7.72c-.78.78-.78 2.05 0 2.83L4 21.41c.39.39.9.59 1.41.59.51 0 1.02-.2 1.41-.59l7.78-7.78 2.81-2.81c.8-.78.8-2.07 0-2.86zM5.41 20L4 18.59l7.72-7.72 1.47 1.35L5.41 20z\"/>\n",
              "  </svg>\n",
              "      </button>\n",
              "      \n",
              "  <style>\n",
              "    .colab-df-container {\n",
              "      display:flex;\n",
              "      flex-wrap:wrap;\n",
              "      gap: 12px;\n",
              "    }\n",
              "\n",
              "    .colab-df-convert {\n",
              "      background-color: #E8F0FE;\n",
              "      border: none;\n",
              "      border-radius: 50%;\n",
              "      cursor: pointer;\n",
              "      display: none;\n",
              "      fill: #1967D2;\n",
              "      height: 32px;\n",
              "      padding: 0 0 0 0;\n",
              "      width: 32px;\n",
              "    }\n",
              "\n",
              "    .colab-df-convert:hover {\n",
              "      background-color: #E2EBFA;\n",
              "      box-shadow: 0px 1px 2px rgba(60, 64, 67, 0.3), 0px 1px 3px 1px rgba(60, 64, 67, 0.15);\n",
              "      fill: #174EA6;\n",
              "    }\n",
              "\n",
              "    [theme=dark] .colab-df-convert {\n",
              "      background-color: #3B4455;\n",
              "      fill: #D2E3FC;\n",
              "    }\n",
              "\n",
              "    [theme=dark] .colab-df-convert:hover {\n",
              "      background-color: #434B5C;\n",
              "      box-shadow: 0px 1px 3px 1px rgba(0, 0, 0, 0.15);\n",
              "      filter: drop-shadow(0px 1px 2px rgba(0, 0, 0, 0.3));\n",
              "      fill: #FFFFFF;\n",
              "    }\n",
              "  </style>\n",
              "\n",
              "      <script>\n",
              "        const buttonEl =\n",
              "          document.querySelector('#df-855c9161-5197-404f-8fba-fc7df12f2179 button.colab-df-convert');\n",
              "        buttonEl.style.display =\n",
              "          google.colab.kernel.accessAllowed ? 'block' : 'none';\n",
              "\n",
              "        async function convertToInteractive(key) {\n",
              "          const element = document.querySelector('#df-855c9161-5197-404f-8fba-fc7df12f2179');\n",
              "          const dataTable =\n",
              "            await google.colab.kernel.invokeFunction('convertToInteractive',\n",
              "                                                     [key], {});\n",
              "          if (!dataTable) return;\n",
              "\n",
              "          const docLinkHtml = 'Like what you see? Visit the ' +\n",
              "            '<a target=\"_blank\" href=https://colab.research.google.com/notebooks/data_table.ipynb>data table notebook</a>'\n",
              "            + ' to learn more about interactive tables.';\n",
              "          element.innerHTML = '';\n",
              "          dataTable['output_type'] = 'display_data';\n",
              "          await google.colab.output.renderOutput(dataTable, element);\n",
              "          const docLink = document.createElement('div');\n",
              "          docLink.innerHTML = docLinkHtml;\n",
              "          element.appendChild(docLink);\n",
              "        }\n",
              "      </script>\n",
              "    </div>\n",
              "  </div>\n",
              "  "
            ]
          },
          "metadata": {},
          "execution_count": 7
        }
      ]
    },
    {
      "cell_type": "markdown",
      "metadata": {
        "id": "bcpeYCyCAws2"
      },
      "source": [
        "# Dividir conjunto de entrenamiento y prueba"
      ]
    },
    {
      "cell_type": "code",
      "metadata": {
        "id": "JhP0EnQSBEv0"
      },
      "source": [
        "X = BOW.todense()\n",
        "y = datos['spam']\n"
      ],
      "execution_count": 8,
      "outputs": []
    },
    {
      "cell_type": "code",
      "metadata": {
        "id": "P5cxknURA7oM"
      },
      "source": [
        "X_train, X_test , y_train, y_test = train_test_split(X, y, test_size=0.2,  \n",
        "                                                     random_state=3)"
      ],
      "execution_count": 9,
      "outputs": []
    },
    {
      "cell_type": "code",
      "metadata": {
        "colab": {
          "base_uri": "https://localhost:8080/"
        },
        "id": "YXPtxsn9DDmY",
        "outputId": "026c32f3-f4a1-4857-d1a0-247e41443356"
      },
      "source": [
        "#Conjunto de entrenamiento\n",
        "X_train.shape, y_train.shape"
      ],
      "execution_count": 10,
      "outputs": [
        {
          "output_type": "execute_result",
          "data": {
            "text/plain": [
              "((4136, 10376), (4136,))"
            ]
          },
          "metadata": {},
          "execution_count": 10
        }
      ]
    },
    {
      "cell_type": "code",
      "metadata": {
        "colab": {
          "base_uri": "https://localhost:8080/"
        },
        "id": "9m7lzaudDS4m",
        "outputId": "eb016042-d2ae-469e-b269-c4e1334e2347"
      },
      "source": [
        "#Conjunto de prueba\n",
        "X_test.shape, y_test.shape"
      ],
      "execution_count": 11,
      "outputs": [
        {
          "output_type": "execute_result",
          "data": {
            "text/plain": [
              "((1035, 10376), (1035,))"
            ]
          },
          "metadata": {},
          "execution_count": 11
        }
      ]
    },
    {
      "cell_type": "markdown",
      "metadata": {
        "id": "5UHJqliwDqm3"
      },
      "source": [
        "# Diseño del modelo de red neuronal usando TensorFlow"
      ]
    },
    {
      "cell_type": "code",
      "metadata": {
        "id": "qjgqDLdOUi1r",
        "colab": {
          "base_uri": "https://localhost:8080/"
        },
        "outputId": "288d23ab-3024-4875-ead9-38cce9351224"
      },
      "source": [
        "import tensorflow as tf  \n",
        "print(tf.__version__)"
      ],
      "execution_count": 12,
      "outputs": [
        {
          "output_type": "stream",
          "name": "stdout",
          "text": [
            "2.8.0\n"
          ]
        }
      ]
    },
    {
      "cell_type": "code",
      "source": [
        "tf.random.set_seed(8)"
      ],
      "metadata": {
        "id": "fWYPpWFWzKzh"
      },
      "execution_count": 13,
      "outputs": []
    },
    {
      "cell_type": "markdown",
      "metadata": {
        "id": "uPAq3gAuWX3Z"
      },
      "source": [
        "\n",
        "\n",
        "TensorFlow y Keras, ambos proyectos para el aprendizaje profundo,tienen una historia entrelazada. Keras era un conjunto de abstracciones que facilita el aprendizaje profundo, pero necesitada de un backend, desde la versión de Keras v1.1.0 TensorFlow fue el backend predeterminado (antes era Theano).\n",
        "\n",
        "A partir del lanzamiento de TensorFlow a mediados de 2019, Keras es ahora la API de alto nivel de TensorFlow para facilitar el diseño y entrenamiento de modelos rápidos y fáciles.  \n",
        "\n",
        "[Video sobre TensorFlow 2.0](https://www.youtube.com/watch?v=EqWsPO8DVXk)"
      ]
    },
    {
      "cell_type": "code",
      "metadata": {
        "colab": {
          "base_uri": "https://localhost:8080/"
        },
        "id": "QKxI5MTNQ29i",
        "outputId": "137a5776-4e73-443c-f47e-3f5f0f9e8242"
      },
      "source": [
        "model = tf.keras.Sequential([                     # https://www.tensorflow.org/guide/keras/sequential_model\n",
        "                             \n",
        "        tf.keras.Input(shape=(X.shape[1],)),              # El número de neuronas en la capa de entrada es igual al número de características o dimensiones en los datos. \n",
        "    \n",
        "        tf.keras.layers.Dense(                       \n",
        "                              1,                     # dimensiones de salida\n",
        "                              activation='sigmoid',  # función de activación  https://www.tensorflow.org/api_docs/python/tf/keras/activations\n",
        "                              name=\"layer_1\"         # nombre de la capa\n",
        "\n",
        "                              )\n",
        "])\n",
        "model.summary()"
      ],
      "execution_count": 14,
      "outputs": [
        {
          "output_type": "stream",
          "name": "stdout",
          "text": [
            "Model: \"sequential\"\n",
            "_________________________________________________________________\n",
            " Layer (type)                Output Shape              Param #   \n",
            "=================================================================\n",
            " layer_1 (Dense)             (None, 1)                 10377     \n",
            "                                                                 \n",
            "=================================================================\n",
            "Total params: 10,377\n",
            "Trainable params: 10,377\n",
            "Non-trainable params: 0\n",
            "_________________________________________________________________\n"
          ]
        }
      ]
    },
    {
      "cell_type": "code",
      "source": [
        ""
      ],
      "metadata": {
        "id": "wAVVsjaAI4CJ"
      },
      "execution_count": 14,
      "outputs": []
    },
    {
      "cell_type": "markdown",
      "source": [
        "### Alternativas para inicializar una red Secuencial"
      ],
      "metadata": {
        "id": "PoA14qd4I49w"
      }
    },
    {
      "cell_type": "markdown",
      "metadata": {
        "id": "RKD8TCnERdjN"
      },
      "source": [
        "Una alternativa para establecer las dimensiones de entrada en la primera capa es utilizar el parámetro `input_shape`"
      ]
    },
    {
      "cell_type": "code",
      "metadata": {
        "id": "fSAJv-bJUoNn",
        "colab": {
          "base_uri": "https://localhost:8080/"
        },
        "outputId": "5a7c327d-c4bc-4282-9cbf-9691bee33044"
      },
      "source": [
        "model = tf.keras.Sequential([\n",
        "    \n",
        "          tf.keras.layers.Dense(1, \n",
        "                                input_shape = (X.shape[1],),      # dimensiones de la entrada  \n",
        "                                activation='sigmoid',             # para la regresión logística\n",
        "                                name=\"layer_1\"                    # nombre de la capa\n",
        "                                ),\n",
        "])\n",
        "model.summary()"
      ],
      "execution_count": 15,
      "outputs": [
        {
          "output_type": "stream",
          "name": "stdout",
          "text": [
            "Model: \"sequential_1\"\n",
            "_________________________________________________________________\n",
            " Layer (type)                Output Shape              Param #   \n",
            "=================================================================\n",
            " layer_1 (Dense)             (None, 1)                 10377     \n",
            "                                                                 \n",
            "=================================================================\n",
            "Total params: 10,377\n",
            "Trainable params: 10,377\n",
            "Non-trainable params: 0\n",
            "_________________________________________________________________\n"
          ]
        }
      ]
    },
    {
      "cell_type": "markdown",
      "metadata": {
        "id": "CHjpA_I3P92N"
      },
      "source": [
        "Otra manera de construir un modelo secuencial es declararlo y a continuación añadir capas ustilizando el método `add`"
      ]
    },
    {
      "cell_type": "code",
      "metadata": {
        "colab": {
          "base_uri": "https://localhost:8080/"
        },
        "id": "75thWRxDPzBh",
        "outputId": "647b9fe3-3685-42ba-cae6-ae544b9c2eb9"
      },
      "source": [
        "model = tf.keras.Sequential()\n",
        "    \n",
        "model.add(tf.keras.Input(shape=(X.shape[1],)))\n",
        "\n",
        "model.add(tf.keras.layers.Dense(1,\n",
        "                                  activation='sigmoid',        # para la regresión logística\n",
        "                                  name=\"layer_1\"   \n",
        "                                 ))\n",
        "model.summary()"
      ],
      "execution_count": 16,
      "outputs": [
        {
          "output_type": "stream",
          "name": "stdout",
          "text": [
            "Model: \"sequential_2\"\n",
            "_________________________________________________________________\n",
            " Layer (type)                Output Shape              Param #   \n",
            "=================================================================\n",
            " layer_1 (Dense)             (None, 1)                 10377     \n",
            "                                                                 \n",
            "=================================================================\n",
            "Total params: 10,377\n",
            "Trainable params: 10,377\n",
            "Non-trainable params: 0\n",
            "_________________________________________________________________\n"
          ]
        }
      ]
    },
    {
      "cell_type": "markdown",
      "source": [
        "### Añadir y borrar capas, consultar número de capas de la red y  visualizar modelo,"
      ],
      "metadata": {
        "id": "2f-krGSoJRwY"
      }
    },
    {
      "cell_type": "code",
      "metadata": {
        "colab": {
          "base_uri": "https://localhost:8080/"
        },
        "id": "tAxKjodjP6Kk",
        "outputId": "04f25017-88ae-4495-c4df-ad23d9b89873"
      },
      "source": [
        "model.add(tf.keras.layers.Dense(1,\n",
        "                                  activation='sigmoid',       \n",
        "                                  name=\"layer_2\")  \n",
        "                                  )\n",
        "model.summary()"
      ],
      "execution_count": 17,
      "outputs": [
        {
          "output_type": "stream",
          "name": "stdout",
          "text": [
            "Model: \"sequential_2\"\n",
            "_________________________________________________________________\n",
            " Layer (type)                Output Shape              Param #   \n",
            "=================================================================\n",
            " layer_1 (Dense)             (None, 1)                 10377     \n",
            "                                                                 \n",
            " layer_2 (Dense)             (None, 1)                 2         \n",
            "                                                                 \n",
            "=================================================================\n",
            "Total params: 10,379\n",
            "Trainable params: 10,379\n",
            "Non-trainable params: 0\n",
            "_________________________________________________________________\n"
          ]
        }
      ]
    },
    {
      "cell_type": "code",
      "metadata": {
        "colab": {
          "base_uri": "https://localhost:8080/"
        },
        "id": "rcvcyUIKPYdl",
        "outputId": "5a98d63c-7b43-433f-9b85-d60ebe230aa5"
      },
      "source": [
        "len(model.layers)  # layers es un atributo del modelo que regresa una lista con las capas del modelo"
      ],
      "execution_count": 18,
      "outputs": [
        {
          "output_type": "execute_result",
          "data": {
            "text/plain": [
              "2"
            ]
          },
          "metadata": {},
          "execution_count": 18
        }
      ]
    },
    {
      "cell_type": "code",
      "metadata": {
        "colab": {
          "base_uri": "https://localhost:8080/",
          "height": 152
        },
        "id": "uCQHIuKbRp_r",
        "outputId": "4ec6462f-de65-4d23-f6c6-20b1dda7cd68"
      },
      "source": [
        "tf.keras.utils.plot_model( \n",
        "    model,\n",
        "    to_file=\"model.png\",\n",
        "    show_shapes=True,\n",
        "    show_dtype=False,\n",
        "    show_layer_names=True,\n",
        "    rankdir=\"LR\",\n",
        "    dpi=96,\n",
        ")"
      ],
      "execution_count": 19,
      "outputs": [
        {
          "output_type": "execute_result",
          "data": {
            "text/plain": [
              "<IPython.core.display.Image object>"
            ],
            "image/png": "[encoded data removed]"
          },
          "metadata": {},
          "execution_count": 19
        }
      ]
    },
    {
      "cell_type": "code",
      "metadata": {
        "colab": {
          "base_uri": "https://localhost:8080/"
        },
        "id": "LJS9U_j2PVeU",
        "outputId": "5ff645f0-4031-441a-bb9e-ab0c53dd1892"
      },
      "source": [
        "\n",
        "model.pop()    # borra la última capa\n",
        "print(len(model.layers))\n",
        "model.summary()\n"
      ],
      "execution_count": 20,
      "outputs": [
        {
          "output_type": "stream",
          "name": "stdout",
          "text": [
            "1\n",
            "Model: \"sequential_2\"\n",
            "_________________________________________________________________\n",
            " Layer (type)                Output Shape              Param #   \n",
            "=================================================================\n",
            " layer_1 (Dense)             (None, 1)                 10377     \n",
            "                                                                 \n",
            "=================================================================\n",
            "Total params: 10,377\n",
            "Trainable params: 10,377\n",
            "Non-trainable params: 0\n",
            "_________________________________________________________________\n"
          ]
        }
      ]
    },
    {
      "cell_type": "markdown",
      "metadata": {
        "id": "bEj4kqqjNfRW"
      },
      "source": [
        "##<h2>Entrenamiento y validación\n",
        "\n",
        "Despues de construir la red neuronal se debe configurar el proceso de entrenamiento utilizando el metodo `compile()`\n"
      ]
    },
    {
      "cell_type": "code",
      "metadata": {
        "id": "jUXjspeTIoEE"
      },
      "source": [
        "model.compile(optimizer='adam',             # el optimizador sirve para encontrar los pesos que minimizan la función de pérdida\n",
        "                                            # adam: stochastic gradient descent adaptativo\n",
        "                                            # https://keras.io/api/optimizers/adam/\n",
        "              \n",
        "              loss='binary_crossentropy',   # función que evalua que tan bien el algoritmo modela el conjunto de datos\n",
        "                                            # https://keras.io/api/losses/\n",
        "              \n",
        "              metrics=['accuracy']\n",
        "              )\n"
      ],
      "execution_count": 21,
      "outputs": []
    },
    {
      "cell_type": "markdown",
      "source": [
        "Para entrenar el módelo utilizamos el método `fit()` "
      ],
      "metadata": {
        "id": "CjNAquJefitL"
      }
    },
    {
      "cell_type": "markdown",
      "source": [
        "el parámetro epoch se puede usar para buscar minimizar el error, aunque también podemos caer en sobreajuste"
      ],
      "metadata": {
        "id": "wZzOxCgwh8no"
      }
    },
    {
      "cell_type": "code",
      "metadata": {
        "colab": {
          "base_uri": "https://localhost:8080/"
        },
        "outputId": "e8f6449b-c940-4a54-bdeb-4ed19ae84322",
        "id": "Oh8UVTGfj05x"
      },
      "source": [
        "model.fit( X_train, y_train,\n",
        "          epochs=10,         # número de iteraciones sobre los datos\n",
        "          validation_data=(X_test, y_test)\n",
        "          )"
      ],
      "execution_count": 22,
      "outputs": [
        {
          "output_type": "stream",
          "name": "stdout",
          "text": [
            "Epoch 1/10\n",
            "130/130 [==============================] - 4s 5ms/step - loss: 0.6348 - accuracy: 0.7614 - val_loss: 0.5822 - val_accuracy: 0.7604\n",
            "Epoch 2/10\n",
            "130/130 [==============================] - 0s 3ms/step - loss: 0.5385 - accuracy: 0.7913 - val_loss: 0.5056 - val_accuracy: 0.7826\n",
            "Epoch 3/10\n",
            "130/130 [==============================] - 0s 3ms/step - loss: 0.4700 - accuracy: 0.8221 - val_loss: 0.4497 - val_accuracy: 0.8280\n",
            "Epoch 4/10\n",
            "130/130 [==============================] - 0s 3ms/step - loss: 0.4187 - accuracy: 0.8559 - val_loss: 0.4066 - val_accuracy: 0.8560\n",
            "Epoch 5/10\n",
            "130/130 [==============================] - 1s 4ms/step - loss: 0.3781 - accuracy: 0.8885 - val_loss: 0.3718 - val_accuracy: 0.8850\n",
            "Epoch 6/10\n",
            "130/130 [==============================] - 1s 4ms/step - loss: 0.3447 - accuracy: 0.9142 - val_loss: 0.3427 - val_accuracy: 0.9063\n",
            "Epoch 7/10\n",
            "130/130 [==============================] - 1s 4ms/step - loss: 0.3166 - accuracy: 0.9359 - val_loss: 0.3178 - val_accuracy: 0.9266\n",
            "Epoch 8/10\n",
            "130/130 [==============================] - 0s 4ms/step - loss: 0.2924 - accuracy: 0.9485 - val_loss: 0.2963 - val_accuracy: 0.9420\n",
            "Epoch 9/10\n",
            "130/130 [==============================] - 0s 3ms/step - loss: 0.2715 - accuracy: 0.9587 - val_loss: 0.2775 - val_accuracy: 0.9507\n",
            "Epoch 10/10\n",
            "130/130 [==============================] - 1s 4ms/step - loss: 0.2530 - accuracy: 0.9637 - val_loss: 0.2610 - val_accuracy: 0.9575\n"
          ]
        },
        {
          "output_type": "execute_result",
          "data": {
            "text/plain": [
              "<keras.callbacks.History at 0x7f70100bbcd0>"
            ]
          },
          "metadata": {},
          "execution_count": 22
        }
      ]
    },
    {
      "cell_type": "markdown",
      "source": [
        "El 130/130que vemos es el resultadom redondeado hacia arriba, de dividir el número de registros en el conjunto de entrenamiento entre 32, que es el parámetro por defaul para batch_size"
      ],
      "metadata": {
        "id": "liMM5qN3h9-o"
      }
    },
    {
      "cell_type": "code",
      "source": [
        "# batch_size\n",
        "X_train.shape[0]/32"
      ],
      "metadata": {
        "colab": {
          "base_uri": "https://localhost:8080/"
        },
        "id": "MDquaJfihdEa",
        "outputId": "badfb2bd-6347-45b4-de3e-2d3924757f8a"
      },
      "execution_count": 23,
      "outputs": [
        {
          "output_type": "execute_result",
          "data": {
            "text/plain": [
              "129.25"
            ]
          },
          "metadata": {},
          "execution_count": 23
        }
      ]
    },
    {
      "cell_type": "markdown",
      "metadata": {
        "id": "xMHCpw3UITDq"
      },
      "source": [
        "### Capa Dropout \n",
        "Para prevenir sobreajuste"
      ]
    },
    {
      "cell_type": "code",
      "metadata": {
        "colab": {
          "base_uri": "https://localhost:8080/"
        },
        "outputId": "fe69f158-3be7-4ed3-d743-f0209597b77b",
        "id": "SA1c6KDMITDv"
      },
      "source": [
        "model = tf.keras.Sequential()\n",
        "    \n",
        "model.add((tf.keras.layers.InputLayer(input_shape=(X.shape[1],))))\n",
        "\n",
        "model.add(tf.keras.layers.Dropout(0.10))\n",
        "\n",
        "model.add(tf.keras.layers.Dense(1,activation='sigmoid', name=\"output_layer\" ))\n",
        "\n",
        "model.summary()"
      ],
      "execution_count": 24,
      "outputs": [
        {
          "output_type": "stream",
          "name": "stdout",
          "text": [
            "Model: \"sequential_3\"\n",
            "_________________________________________________________________\n",
            " Layer (type)                Output Shape              Param #   \n",
            "=================================================================\n",
            " dropout (Dropout)           (None, 10376)             0         \n",
            "                                                                 \n",
            " output_layer (Dense)        (None, 1)                 10377     \n",
            "                                                                 \n",
            "=================================================================\n",
            "Total params: 10,377\n",
            "Trainable params: 10,377\n",
            "Non-trainable params: 0\n",
            "_________________________________________________________________\n"
          ]
        }
      ]
    },
    {
      "cell_type": "code",
      "metadata": {
        "colab": {
          "base_uri": "https://localhost:8080/",
          "height": 152
        },
        "outputId": "f0dece5f-405c-4144-e2d6-9f75d7a50c40",
        "id": "fMqxJ3pfITDv"
      },
      "source": [
        "tf.keras.utils.plot_model( \n",
        "    model,\n",
        "    to_file=\"model.png\",\n",
        "    show_shapes=True,\n",
        "    show_dtype=False,\n",
        "    show_layer_names=True,\n",
        "    rankdir=\"LR\",\n",
        "    dpi=96,\n",
        ")"
      ],
      "execution_count": 25,
      "outputs": [
        {
          "output_type": "execute_result",
          "data": {
            "text/plain": [
              "<IPython.core.display.Image object>"
            ],
            "image/png": "[encoded data removed]"
          },
          "metadata": {},
          "execution_count": 25
        }
      ]
    },
    {
      "cell_type": "code",
      "metadata": {
        "colab": {
          "base_uri": "https://localhost:8080/"
        },
        "outputId": "1f489a78-4e55-485f-cbb9-8bf1fd19e036",
        "id": "7N2xgPesITDw"
      },
      "source": [
        "model.compile(optimizer='adam',             # stochastic gradient descent adaptativo\n",
        "                                            # https://keras.io/api/optimizers/adam/\n",
        "              \n",
        "              loss='binary_crossentropy',   # función objetivo  que se busca minimizar\n",
        "                                            # https://keras.io/api/losses/\n",
        "              \n",
        "              metrics=['accuracy']\n",
        "              )\n",
        "model.fit(X_train, y_train, \n",
        "          epochs= 10, \n",
        "          validation_data=(X_test, y_test))"
      ],
      "execution_count": 26,
      "outputs": [
        {
          "output_type": "stream",
          "name": "stdout",
          "text": [
            "Epoch 1/10\n",
            "130/130 [==============================] - 1s 5ms/step - loss: 0.6368 - accuracy: 0.7449 - val_loss: 0.5851 - val_accuracy: 0.7401\n",
            "Epoch 2/10\n",
            "130/130 [==============================] - 1s 4ms/step - loss: 0.5423 - accuracy: 0.7788 - val_loss: 0.5098 - val_accuracy: 0.7671\n",
            "Epoch 3/10\n",
            "130/130 [==============================] - 0s 4ms/step - loss: 0.4753 - accuracy: 0.8068 - val_loss: 0.4549 - val_accuracy: 0.8097\n",
            "Epoch 4/10\n",
            "130/130 [==============================] - 0s 3ms/step - loss: 0.4249 - accuracy: 0.8433 - val_loss: 0.4125 - val_accuracy: 0.8454\n",
            "Epoch 5/10\n",
            "130/130 [==============================] - 1s 4ms/step - loss: 0.3850 - accuracy: 0.8733 - val_loss: 0.3780 - val_accuracy: 0.8763\n",
            "Epoch 6/10\n",
            "130/130 [==============================] - 0s 3ms/step - loss: 0.3522 - accuracy: 0.9050 - val_loss: 0.3492 - val_accuracy: 0.8976\n",
            "Epoch 7/10\n",
            "130/130 [==============================] - 1s 4ms/step - loss: 0.3237 - accuracy: 0.9287 - val_loss: 0.3243 - val_accuracy: 0.9159\n",
            "Epoch 8/10\n",
            "130/130 [==============================] - 0s 4ms/step - loss: 0.3002 - accuracy: 0.9429 - val_loss: 0.3029 - val_accuracy: 0.9353\n",
            "Epoch 9/10\n",
            "130/130 [==============================] - 0s 4ms/step - loss: 0.2794 - accuracy: 0.9497 - val_loss: 0.2840 - val_accuracy: 0.9488\n",
            "Epoch 10/10\n",
            "130/130 [==============================] - 1s 4ms/step - loss: 0.2603 - accuracy: 0.9601 - val_loss: 0.2673 - val_accuracy: 0.9556\n"
          ]
        },
        {
          "output_type": "execute_result",
          "data": {
            "text/plain": [
              "<keras.callbacks.History at 0x7f6fa20e5050>"
            ]
          },
          "metadata": {},
          "execution_count": 26
        }
      ]
    },
    {
      "cell_type": "markdown",
      "metadata": {
        "id": "AgfMP_nFUQs8"
      },
      "source": [
        "# Red neuronal de clasificación con más de una capa"
      ]
    },
    {
      "cell_type": "code",
      "metadata": {
        "colab": {
          "base_uri": "https://localhost:8080/"
        },
        "id": "keYY20FtbWiy",
        "outputId": "c189ff99-3627-4e7b-8f35-999341b6a7b3"
      },
      "source": [
        "model = tf.keras.Sequential()\n",
        "    \n",
        "model.add((tf.keras.layers.InputLayer(input_shape=(X.shape[1],))))\n",
        "\n",
        "model.add(tf.keras.layers.Dense((2/3 * X.shape[1]  + 1 ), activation='relu',name=\"hidden_layer_1\" ))\n",
        "\n",
        "model.add(tf.keras.layers.Dense(1,activation='sigmoid', name=\"output_layer\" ))\n",
        "\n",
        "\n",
        "\n",
        "model.summary()"
      ],
      "execution_count": 27,
      "outputs": [
        {
          "output_type": "stream",
          "name": "stdout",
          "text": [
            "Model: \"sequential_4\"\n",
            "_________________________________________________________________\n",
            " Layer (type)                Output Shape              Param #   \n",
            "=================================================================\n",
            " hidden_layer_1 (Dense)      (None, 6918)              71788086  \n",
            "                                                                 \n",
            " output_layer (Dense)        (None, 1)                 6919      \n",
            "                                                                 \n",
            "=================================================================\n",
            "Total params: 71,795,005\n",
            "Trainable params: 71,795,005\n",
            "Non-trainable params: 0\n",
            "_________________________________________________________________\n"
          ]
        }
      ]
    },
    {
      "cell_type": "code",
      "metadata": {
        "colab": {
          "base_uri": "https://localhost:8080/",
          "height": 152
        },
        "id": "_gWCVSisk_cK",
        "outputId": "2e6c7c0d-05d2-4876-8502-1aae207acb53"
      },
      "source": [
        "tf.keras.utils.plot_model( \n",
        "    model,\n",
        "    to_file=\"model.png\",\n",
        "    show_shapes=True,\n",
        "    show_dtype=False,\n",
        "    show_layer_names=True,\n",
        "    rankdir=\"LR\",\n",
        "    dpi=96,\n",
        ")"
      ],
      "execution_count": 28,
      "outputs": [
        {
          "output_type": "execute_result",
          "data": {
            "text/plain": [
              "<IPython.core.display.Image object>"
            ],
            "image/png": "[encoded data removed]"
          },
          "metadata": {},
          "execution_count": 28
        }
      ]
    },
    {
      "cell_type": "code",
      "metadata": {
        "colab": {
          "base_uri": "https://localhost:8080/"
        },
        "id": "gDdoPn6he4P-",
        "outputId": "9cc5a40a-42bc-49c8-cf0e-f79a7fa1e447"
      },
      "source": [
        "model.compile(optimizer='adam',             # stochastic gradient descent adaptativo\n",
        "                                            # https://keras.io/api/optimizers/adam/\n",
        "              \n",
        "              loss='binary_crossentropy',   # función objetivo  que se busca minimizar\n",
        "                                            # https://keras.io/api/losses/\n",
        "              \n",
        "              metrics=['accuracy']\n",
        "              )\n",
        "model.fit(X_train, y_train,\n",
        "          epochs=5, \n",
        "          validation_data=(X_test, y_test))"
      ],
      "execution_count": 29,
      "outputs": [
        {
          "output_type": "stream",
          "name": "stdout",
          "text": [
            "Epoch 1/5\n",
            "130/130 [==============================] - 3s 20ms/step - loss: 0.1256 - accuracy: 0.9420 - val_loss: 0.0481 - val_accuracy: 0.9845\n",
            "Epoch 2/5\n",
            "130/130 [==============================] - 2s 19ms/step - loss: 0.0072 - accuracy: 0.9983 - val_loss: 0.0481 - val_accuracy: 0.9845\n",
            "Epoch 3/5\n",
            "130/130 [==============================] - 2s 18ms/step - loss: 0.0015 - accuracy: 0.9998 - val_loss: 0.0577 - val_accuracy: 0.9836\n",
            "Epoch 4/5\n",
            "130/130 [==============================] - 2s 18ms/step - loss: 5.1177e-04 - accuracy: 1.0000 - val_loss: 0.0588 - val_accuracy: 0.9836\n",
            "Epoch 5/5\n",
            "130/130 [==============================] - 2s 18ms/step - loss: 3.0728e-04 - accuracy: 1.0000 - val_loss: 0.0612 - val_accuracy: 0.9836\n"
          ]
        },
        {
          "output_type": "execute_result",
          "data": {
            "text/plain": [
              "<keras.callbacks.History at 0x7f70978e4b10>"
            ]
          },
          "metadata": {},
          "execution_count": 29
        }
      ]
    },
    {
      "cell_type": "markdown",
      "metadata": {
        "id": "0RxZCrHva61q"
      },
      "source": [
        "# Referencia:\n",
        "\n",
        "1. Keras vs. tf.keras: What’s the difference in TensorFlow 2.0? [Internet]. PyImageSearch. 2019 [citado 20 de julio de 2021]. Disponible en: https://www.pyimagesearch.com/2019/10/21/keras-vs-tf-keras-whats-the-difference-in-tensorflow-2-0/\n",
        "\n",
        "1. Krishnan S. How to determine the number of layers and neurons in the hidden layer? [Internet]. Geek Culture. 2021 [citado 25 de abril de 2022]. Disponible en: https://medium.com/geekculture/introduction-to-neural-network-2f8b8221fbd3\n",
        "\n"
      ]
    }
  ]
}