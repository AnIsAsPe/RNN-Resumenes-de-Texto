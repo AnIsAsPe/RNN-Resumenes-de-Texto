{
  "nbformat": 4,
  "nbformat_minor": 0,
  "metadata": {
    "colab": {
      "name": "Resumen de  textos usando seq2seq_LSTM.ipynb",
      "provenance": [],
      "collapsed_sections": [],
      "toc_visible": true,
      "mount_file_id": "1u6M9DxRWVn276bPAPYDfIGCxcIAZa8i3",
      "authorship_tag": "ABX9TyMx5maoAs1xqorEtR5MpOiR",
      "include_colab_link": true
    },
    "kernelspec": {
      "display_name": "Python 3",
      "name": "python3"
    },
    "accelerator": "GPU"
  },
  "cells": [
    {
      "cell_type": "markdown",
      "metadata": {
        "id": "view-in-github",
        "colab_type": "text"
      },
      "source": [
        "<a href=\"https://colab.research.google.com/github/AnIsAsPe/RNN-Resumenes-de-Texto/blob/main/Notebooks/Resumen_de_textos_usando_seq2seq_LSTM.ipynb\" target=\"_parent\"><img src=\"https://colab.research.google.com/assets/colab-badge.svg\" alt=\"Open In Colab\"/></a>"
      ]
    },
    {
      "cell_type": "markdown",
      "metadata": {
        "id": "6LQFoeNUuQb9"
      },
      "source": [
        "# Cargar bibliotecas"
      ]
    },
    {
      "cell_type": "code",
      "metadata": {
        "colab": {
          "base_uri": "https://localhost:8080/"
        },
        "id": "ZQRhwth-WM5K",
        "outputId": "c521cc01-a1a5-4a91-a3be-903694a9af5f"
      },
      "source": [
        "!pip install contractions"
      ],
      "execution_count": null,
      "outputs": [
        {
          "output_type": "stream",
          "text": [
            "Requirement already satisfied: contractions in /usr/local/lib/python3.6/dist-packages (0.0.48)\n",
            "Requirement already satisfied: textsearch>=0.0.21 in /usr/local/lib/python3.6/dist-packages (from contractions) (0.0.21)\n",
            "Requirement already satisfied: anyascii in /usr/local/lib/python3.6/dist-packages (from textsearch>=0.0.21->contractions) (0.1.7)\n",
            "Requirement already satisfied: pyahocorasick in /usr/local/lib/python3.6/dist-packages (from textsearch>=0.0.21->contractions) (1.4.1)\n"
          ],
          "name": "stdout"
        }
      ]
    },
    {
      "cell_type": "code",
      "metadata": {
        "id": "xG0HBaeNShpT"
      },
      "source": [
        "import pandas as pd\r\n",
        "import numpy as np\r\n",
        "import contractions\r\n",
        "import re\r\n",
        "\r\n",
        "import tensorflow as tf\r\n",
        "from tensorflow import keras\r\n",
        "\r\n",
        "import matplotlib.pyplot as plt"
      ],
      "execution_count": null,
      "outputs": []
    },
    {
      "cell_type": "markdown",
      "metadata": {
        "id": "jzH4u5MJT-tq"
      },
      "source": [
        "## Descomprimir archivo"
      ]
    },
    {
      "cell_type": "code",
      "metadata": {
        "id": "QhAQDEEpSDGc"
      },
      "source": [
        "#from zipfile import ZipFile\r\n",
        "#with ZipFile('/content/Reviews.csv.zip', 'r') as zip_ref:\r\n",
        "#    zip_ref.extractall('/content/drive/MyDrive/Datos/Amazon reviews')"
      ],
      "execution_count": null,
      "outputs": []
    },
    {
      "cell_type": "markdown",
      "metadata": {
        "id": "lpJf2DilUGHq"
      },
      "source": [
        "# Leer datos de entrada"
      ]
    },
    {
      "cell_type": "code",
      "metadata": {
        "colab": {
          "base_uri": "https://localhost:8080/",
          "height": 215
        },
        "id": "ut_zPB1nSkh0",
        "outputId": "944a97bd-b61e-48e0-9a34-46dd8bf66315"
      },
      "source": [
        "df = pd.read_csv('/content/drive/MyDrive/Datos/Amazon reviews/Reviews.csv',\r\n",
        "                 nrows=20000, usecols=['Summary', 'Text'], )\r\n",
        "df = df.drop_duplicates(keep='first', ignore_index = True).dropna()\r\n",
        "print(df.shape)\r\n",
        "df.head()"
      ],
      "execution_count": null,
      "outputs": [
        {
          "output_type": "stream",
          "text": [
            "(19326, 2)\n"
          ],
          "name": "stdout"
        },
        {
          "output_type": "execute_result",
          "data": {
            "text/html": [
              "<div>\n",
              "<style scoped>\n",
              "    .dataframe tbody tr th:only-of-type {\n",
              "        vertical-align: middle;\n",
              "    }\n",
              "\n",
              "    .dataframe tbody tr th {\n",
              "        vertical-align: top;\n",
              "    }\n",
              "\n",
              "    .dataframe thead th {\n",
              "        text-align: right;\n",
              "    }\n",
              "</style>\n",
              "<table border=\"1\" class=\"dataframe\">\n",
              "  <thead>\n",
              "    <tr style=\"text-align: right;\">\n",
              "      <th></th>\n",
              "      <th>Summary</th>\n",
              "      <th>Text</th>\n",
              "    </tr>\n",
              "  </thead>\n",
              "  <tbody>\n",
              "    <tr>\n",
              "      <th>0</th>\n",
              "      <td>Good Quality Dog Food</td>\n",
              "      <td>I have bought several of the Vitality canned d...</td>\n",
              "    </tr>\n",
              "    <tr>\n",
              "      <th>1</th>\n",
              "      <td>Not as Advertised</td>\n",
              "      <td>Product arrived labeled as Jumbo Salted Peanut...</td>\n",
              "    </tr>\n",
              "    <tr>\n",
              "      <th>2</th>\n",
              "      <td>\"Delight\" says it all</td>\n",
              "      <td>This is a confection that has been around a fe...</td>\n",
              "    </tr>\n",
              "    <tr>\n",
              "      <th>3</th>\n",
              "      <td>Cough Medicine</td>\n",
              "      <td>If you are looking for the secret ingredient i...</td>\n",
              "    </tr>\n",
              "    <tr>\n",
              "      <th>4</th>\n",
              "      <td>Great taffy</td>\n",
              "      <td>Great taffy at a great price.  There was a wid...</td>\n",
              "    </tr>\n",
              "  </tbody>\n",
              "</table>\n",
              "</div>"
            ],
            "text/plain": [
              "                 Summary                                               Text\n",
              "0  Good Quality Dog Food  I have bought several of the Vitality canned d...\n",
              "1      Not as Advertised  Product arrived labeled as Jumbo Salted Peanut...\n",
              "2  \"Delight\" says it all  This is a confection that has been around a fe...\n",
              "3         Cough Medicine  If you are looking for the secret ingredient i...\n",
              "4            Great taffy  Great taffy at a great price.  There was a wid..."
            ]
          },
          "metadata": {
            "tags": []
          },
          "execution_count": 4
        }
      ]
    },
    {
      "cell_type": "code",
      "metadata": {
        "colab": {
          "base_uri": "https://localhost:8080/"
        },
        "id": "XGZd0Sr8XlW6",
        "outputId": "3f2b9258-9f73-4cd3-cf64-edf2b747de41"
      },
      "source": [
        "np.random.seed = 15\r\n",
        "muestra = np.random.choice(range(len(df)), 5)\r\n",
        "for i in muestra:\r\n",
        "    print(\"\\nReview #\", i)\r\n",
        "    print(df.loc[i, 'Summary'])\r\n",
        "    print(df.loc[i,'Text'])    "
      ],
      "execution_count": null,
      "outputs": [
        {
          "output_type": "stream",
          "text": [
            "\n",
            "Review # 11610\n",
            "Great made in China product for dogs.\n",
            "I've noticed that quite a few people don't seem to believe the labels of products made in China, when it is usually a U.S. company that dictates what goes into the product.  Besides read the labels of products made right here--a vast majority of them contain toxic to humans & animals ingredients--everything from paint & varnish to the food is tainted with these toxic chemicals & all made right here in the U.S.A.  So, if you can trust a U.S. label--why not trust a Chinese label?  These treats are sure a hit with our dogs--all 7 of them love the chicken, lamb & rice, & the duck with glucosamine & chrondroitin.  We buy this type because of our older dogs with severe arthritis.  Our 15 yr. old was almost beyond walking until we started feeding him these snacks & our 9 yr. old Chihuahua's hip problems are much improved. On S&S these snacks are the cheapest price that we have found & with free shipping--Keep 'em coming Dogswell & Amazon--yes, even from the dreaded China.\n",
            "\n",
            "Review # 8905\n",
            "A Hit!\n",
            "My grandchildren LOVE the sour gummy vitamins. They really liked the sour gummy worms by Rhino, but alas, I can't find them. These were a good second choice. The big problem is keeping them from eating more than 2!\n",
            "\n",
            "Review # 5566\n",
            "The best coffee I have ever tasted.\n",
            "And a great price from amazon. My wife and I had dinner last night at a very high end restaurant and while everything was magnificent we both thought the coffee wasn't as good as our Yuban. I often wonder about Starbucks whose coffee I find undrinkable. My son says it's an acquired taste.\n",
            "\n",
            "Review # 7364\n",
            "BEST ON HOT CEREAL\n",
            "I just love this. Even on my diet I can have hot & yummy oameal...It is satisfing & without that rich brown sugar flavor its just not the same taste...Love it!!!\n",
            "\n",
            "Review # 14057\n",
            "superb coffee\n",
            "I made purchased this coffee a number of times.....this is an excellent value for a coffee with an excellent taste......will certainly purchase again\n"
          ],
          "name": "stdout"
        }
      ]
    },
    {
      "cell_type": "code",
      "metadata": {
        "id": "zwpad_g5eM3L"
      },
      "source": [
        "df.to_csv('Amazon_reviews_trim.csv', index=False)"
      ],
      "execution_count": null,
      "outputs": []
    },
    {
      "cell_type": "markdown",
      "metadata": {
        "id": "R_d912qROTu8"
      },
      "source": [
        "# Preprocesamiento de texto\n",
        "- convertir a minuscualas\n",
        "- expandir contracciones\n",
        "- eliminar puntuación\n"
      ]
    },
    {
      "cell_type": "code",
      "metadata": {
        "id": "AJYwX4CPOT4P"
      },
      "source": [
        "def preprocesar(texto):\n",
        "    #quitar contracciones\n",
        "    texto = contractions.fix(texto)\n",
        "\n",
        "    #convertir en minúsculas\n",
        "    texto = texto.lower()\n",
        "\n",
        "    # eliminar texto no deseado\n",
        "    texto = re.sub(r'<br />', ' ', texto)\n",
        "\n",
        "    #texto = re.sub(r'https?:\\/\\/.*[\\r\\n]*', '', texto, flags=re.MULTILINE)\n",
        "    #texto = re.sub(r'\\<a href', ' ', texto)\n",
        "    #texto = re.sub(r'&amp;', '', texto) \n",
        "    #texto = re.sub(r'[_\"\\-;%()|+&=*%.,!?:#$@\\[\\]/]', ' ', texto)\n",
        "    #texto = re.sub(r'\\'', ' ', texto)\n",
        "\n",
        "    #dejar solo letras y números\n",
        "    texto = re.sub('[^A-ZÜÖÄa-z0-9]+', ' ', texto)\n",
        "    return(texto)"
      ],
      "execution_count": null,
      "outputs": []
    },
    {
      "cell_type": "code",
      "metadata": {
        "colab": {
          "base_uri": "https://localhost:8080/",
          "height": 142
        },
        "id": "asQVDjYcikM6",
        "outputId": "46871deb-5944-4c33-a7fe-5fc751a79653"
      },
      "source": [
        "for col in df.columns:\r\n",
        "  df[col] = df[col].apply(preprocesar)\r\n",
        "  \r\n",
        "df.loc[738,'Text']"
      ],
      "execution_count": null,
      "outputs": [
        {
          "output_type": "execute_result",
          "data": {
            "application/vnd.google.colaboratory.intrinsic+json": {
              "type": "string"
            },
            "text/plain": [
              "'i can honestly say this is the worst frosting we have ever bought it is kind of generous to call it frosting it has more the consistency of rubber cement and since we were in a time crunch we did not have the luxury of going back out to the store for a different frosting so we forged ahead and decorated a cake with it horrible experience bad enough to put us off cake decorating forever it spread about as easily as chewing gum stuck to everything it came in contact with and got crumbs of the cake mixed up in it on top of all this it did not even taste good by the time we were done decorating we knew there was no way we could feed this mess to our family so we ended up going to the store anyway to buy a pre made cake our cake which took twice as long to decorate because this stuff is so gooey was used as a centerpiece a really ugly centerpiece that cracked and peeled as the frosting dried '"
            ]
          },
          "metadata": {
            "tags": []
          },
          "execution_count": 8
        }
      ]
    },
    {
      "cell_type": "code",
      "metadata": {
        "id": "J3vtPCtftfA-"
      },
      "source": [
        "df['Summary'] = df['Summary'].apply(lambda x : 'tokenstart '+ x + ' tokenend')  #Identificador de comienzo y término"
      ],
      "execution_count": null,
      "outputs": []
    },
    {
      "cell_type": "code",
      "metadata": {
        "colab": {
          "base_uri": "https://localhost:8080/"
        },
        "id": "2yaLN1douN-8",
        "outputId": "a59be220-8de1-4190-d79d-de7890ec7576"
      },
      "source": [
        "np.random.seed = 15\r\n",
        "muestra = np.random.choice(range(len(df)), 5)\r\n",
        "for i in muestra:\r\n",
        "    print(\"\\nReview #\", i)\r\n",
        "    print(df.loc[i, 'Summary'])\r\n",
        "    print(df.loc[i,'Text'])    "
      ],
      "execution_count": null,
      "outputs": [
        {
          "output_type": "stream",
          "text": [
            "\n",
            "Review # 17884\n",
            "tokenstart junk junk junk tokenend\n",
            "i have not used this in few years but a bought the biggest bag lowes had for around 10 or 12 bucks i planted some seedlings in a hurry no sooner got them potted and realized the mistake i made it is 50 wood chips and pine bark that actually smells like it came from a forest fire there is nothing it it that even looks like soil this is just a friendly note to anyone thinking of using this do not do it this is crap junk the worst i will not call it garbage because decomposed food would be way better i will never buy anything with the miracle gro name on it again \n",
            "\n",
            "Review # 10526\n",
            "tokenstart not treats cat food  tokenend\n",
            "this may seem like a treat to my cats but it really is food my two youngest cats prefer tasty treasures over all the friskies flavors they sit and and eat until every last bit is gone i have never had a cat do that with any cat food i have been waiting for amazon to carry all the flavors at a reasonable price so i can stop hauling them from my local petstore i highly recommend this especially if you have a picky eater \n",
            "\n",
            "Review # 4499\n",
            "tokenstart delicious and without the shakes tokenend\n",
            "this stuff tastes great i am not a decaf person but perhaps i am being won over by melitta coffee try it \n",
            "\n",
            "Review # 10617\n",
            "tokenstart best gfcf cookies  tokenend\n",
            "these are the best gfcf cookies ever even better than i can make at home and they are awesome for quick lunch packing \n",
            "\n",
            "Review # 15947\n",
            "tokenstart lucky me tokenend\n",
            "this cereal brings back memories of when i was a child still the same quality at a bargain price my child loves it and so do i \n"
          ],
          "name": "stdout"
        }
      ]
    },
    {
      "cell_type": "markdown",
      "metadata": {
        "id": "quUr2-1Ol3-x"
      },
      "source": [
        "# Limitar la cantidad de palabras en textos y resumenes"
      ]
    },
    {
      "cell_type": "code",
      "metadata": {
        "colab": {
          "base_uri": "https://localhost:8080/",
          "height": 315
        },
        "id": "WNnMhSzejxiE",
        "outputId": "699eb75d-ab74-468d-9fab-8df478bab376"
      },
      "source": [
        "# ¿Cuantas palabras tienen cada texto?\r\n",
        "palabras_textos = df['Text'].apply(lambda x: len(str(x).split()))\r\n",
        "\r\n",
        "hist = palabras_textos.hist(bins=50)\r\n",
        "hist.set_xlabel(\"número de palabras\")\r\n",
        "hist.set_ylabel(\"textos\")\r\n",
        "plt.show()\r\n",
        "\r\n",
        "print('\\nEl 90% de los textos tiene {:,.0f} palabras'.format(palabras_textos.quantile(0.90)))"
      ],
      "execution_count": null,
      "outputs": [
        {
          "output_type": "display_data",
          "data": {
            "image/png": "[encoded data removed]",
            "text/plain": [
              "<Figure size 432x288 with 1 Axes>"
            ]
          },
          "metadata": {
            "tags": [],
            "needs_background": "light"
          }
        },
        {
          "output_type": "stream",
          "text": [
            "\n",
            "El 90% de los textos tiene 162 palabras\n"
          ],
          "name": "stdout"
        }
      ]
    },
    {
      "cell_type": "code",
      "metadata": {
        "colab": {
          "base_uri": "https://localhost:8080/",
          "height": 315
        },
        "id": "3iM2PsLhoe5C",
        "outputId": "6a220504-4b8f-4c36-c2cd-43d4728030d8"
      },
      "source": [
        "# ¿Cuantas palabras tienen cada titulo?\r\n",
        "palabras_titulos = df['Summary'].apply(lambda x: len(str(x).split()))\r\n",
        "\r\n",
        "hist = palabras_titulos.hist(bins=50)\r\n",
        "hist.set_xlabel(\"número de palabras\")\r\n",
        "hist.set_ylabel(\"titulos\")\r\n",
        "plt.show()\r\n",
        "\r\n",
        "print('\\nEl 97.5% de los titulos tiene {:,.0f} palabras'.format(palabras_titulos.quantile(0.975)))"
      ],
      "execution_count": null,
      "outputs": [
        {
          "output_type": "display_data",
          "data": {
            "image/png": "[encoded data removed]",
            "text/plain": [
              "<Figure size 432x288 with 1 Axes>"
            ]
          },
          "metadata": {
            "tags": [],
            "needs_background": "light"
          }
        },
        {
          "output_type": "stream",
          "text": [
            "\n",
            "El 97.5% de los titulos tiene 13 palabras\n"
          ],
          "name": "stdout"
        }
      ]
    },
    {
      "cell_type": "code",
      "metadata": {
        "id": "-QbPg7zbkHfT"
      },
      "source": [
        "longitud_max_textos = palabras_textos.quantile(0.90)     #162 palabras\r\n",
        "longitud_max_titulos = palabras_titulos.quantile(0.975)  # 13 palabras"
      ],
      "execution_count": null,
      "outputs": []
    },
    {
      "cell_type": "code",
      "metadata": {
        "colab": {
          "base_uri": "https://localhost:8080/"
        },
        "id": "mXKeQr5-PzPP",
        "outputId": "7d1dcb69-e0a0-4b0c-efc9-1ea7f87d1bd2"
      },
      "source": [
        "datos =  df[(palabras_textos <= longitud_max_textos ) | (palabras_titulos <= longitud_max_titulos)]\r\n",
        "datos.shape   "
      ],
      "execution_count": null,
      "outputs": [
        {
          "output_type": "execute_result",
          "data": {
            "text/plain": [
              "(19198, 2)"
            ]
          },
          "metadata": {
            "tags": []
          },
          "execution_count": 14
        }
      ]
    },
    {
      "cell_type": "markdown",
      "metadata": {
        "id": "Qx7zdNh2YD19"
      },
      "source": [
        "# Dividir datos en conjunto de entrenamiento y prueba"
      ]
    },
    {
      "cell_type": "code",
      "metadata": {
        "id": "x-8oIpKEYNLN"
      },
      "source": [
        "from sklearn.model_selection import train_test_split\r\n",
        "\r\n",
        "x_train, x_test, y_train, y_test = train_test_split(datos['Text'], \r\n",
        "                                                    datos['Summary'], \r\n",
        "                                                    test_size=0.1, \r\n",
        "                                                    shuffle=True, \r\n",
        "                                                    random_state=0)"
      ],
      "execution_count": null,
      "outputs": []
    },
    {
      "cell_type": "markdown",
      "metadata": {
        "id": "f9RvC_SaC3XH"
      },
      "source": [
        "# Vectorización del texto\r\n",
        "\r\n",
        "[Referencia](https://keras.io/examples/nlp/pretrained_word_embeddings/):\r\n"
      ]
    },
    {
      "cell_type": "code",
      "metadata": {
        "id": "vSVlXRiSNQ2H"
      },
      "source": [
        "from tensorflow.keras.layers.experimental.preprocessing import TextVectorization\r\n",
        "from tensorflow.data import Dataset"
      ],
      "execution_count": null,
      "outputs": []
    },
    {
      "cell_type": "markdown",
      "metadata": {
        "id": "B1P134bNMpRM"
      },
      "source": [
        "### Paso 1 Diccionario de vocabulario con clave y vectorizador de textos"
      ]
    },
    {
      "cell_type": "code",
      "metadata": {
        "id": "Vh0JGfHAnaef"
      },
      "source": [
        "def genera_dic_vocabulario(serie_pd, max_tokens= 20000):\r\n",
        "  '''Obtiene el vocabulario de una serie de pandas con textos en forma de \r\n",
        "  diccionario, donde cada palabra es una clave y el valor es un indice'''\r\n",
        "  vectorizer = TextVectorization(max_tokens = max_tokens)\r\n",
        "  text_ds = Dataset.from_tensor_slices(serie_pd).batch(128)  \r\n",
        "  vectorizer.adapt(text_ds)\r\n",
        "  voc = vectorizer.get_vocabulary()  # lista con el vocabulario\r\n",
        "  #diccionario con el vocabulario\r\n",
        "  dic_vocabulario = dict(zip(voc, range(len(voc))))\r\n",
        "  return dic_vocabulario, vectorizer"
      ],
      "execution_count": null,
      "outputs": []
    },
    {
      "cell_type": "code",
      "metadata": {
        "colab": {
          "base_uri": "https://localhost:8080/"
        },
        "id": "e8jX1Lskkl_F",
        "outputId": "4156d700-4d4f-4750-c7be-3e9e2a0e7e80"
      },
      "source": [
        "%%time\r\n",
        "vocabulario_dic, vectorizer_reseña = genera_dic_vocabulario(x_train)"
      ],
      "execution_count": null,
      "outputs": [
        {
          "output_type": "stream",
          "text": [
            "CPU times: user 1.08 s, sys: 341 ms, total: 1.42 s\n",
            "Wall time: 6.43 s\n"
          ],
          "name": "stdout"
        }
      ]
    },
    {
      "cell_type": "code",
      "metadata": {
        "colab": {
          "base_uri": "https://localhost:8080/"
        },
        "id": "5VHNUsLokoQ2",
        "outputId": "4046e236-32d6-4077-ce0f-471312d0e5f6"
      },
      "source": [
        "test = ['got', 'wild', 'hair', 'ordered', 'pound', 'bag']\r\n",
        "[vocabulario_dic[w] for w in test]"
      ],
      "execution_count": null,
      "outputs": [
        {
          "output_type": "execute_result",
          "data": {
            "text/plain": [
              "[155, 1482, 1589, 194, 677, 109]"
            ]
          },
          "metadata": {
            "tags": []
          },
          "execution_count": 19
        }
      ]
    },
    {
      "cell_type": "code",
      "metadata": {
        "colab": {
          "base_uri": "https://localhost:8080/"
        },
        "id": "XA4eE_RDxI29",
        "outputId": "d0537693-326d-4f3e-bad0-352c45f5f472"
      },
      "source": [
        "vectorizer_reseña(test)"
      ],
      "execution_count": null,
      "outputs": [
        {
          "output_type": "execute_result",
          "data": {
            "text/plain": [
              "<tf.Tensor: shape=(6, 1), dtype=int64, numpy=\n",
              "array([[ 155],\n",
              "       [1482],\n",
              "       [1589],\n",
              "       [ 194],\n",
              "       [ 677],\n",
              "       [ 109]])>"
            ]
          },
          "metadata": {
            "tags": []
          },
          "execution_count": 20
        }
      ]
    },
    {
      "cell_type": "markdown",
      "metadata": {
        "id": "iWhQtuDJRtBF"
      },
      "source": [
        "### Paso 2 Diccionario con vectores de palabras (embeddings) [GloVe](https://nlp.stanford.edu/projects/glove/), previamente entrenados\r\n",
        "\r\n",
        "\r\n",
        "Referencia uso word embedings preentrenados con Keras en este [enlace](https://keras.io/examples/nlp/pretrained_word_embeddings/)\r\n"
      ]
    },
    {
      "cell_type": "code",
      "metadata": {
        "id": "gkxpOqa3A-AM"
      },
      "source": [
        "#!wget http://nlp.stanford.edu/data/glove.6B.zip\r\n",
        "#!unzip -q glove.6B.zip"
      ],
      "execution_count": null,
      "outputs": []
    },
    {
      "cell_type": "code",
      "metadata": {
        "colab": {
          "base_uri": "https://localhost:8080/"
        },
        "id": "1n95jAmADwxV",
        "outputId": "5e3f4488-e6bc-4da5-8320-8b542d2efb58"
      },
      "source": [
        "%%time\r\n",
        "dic_embeddings_GloVe  = {}\r\n",
        "with open('/content/drive/MyDrive/Datos/Embeddings/glove.6B.100d.txt') as f:\r\n",
        "    for line in f:\r\n",
        "        palabra, coefs = line.split(maxsplit=1)\r\n",
        "        coefs = np.fromstring(coefs, \"f\", sep=\" \")\r\n",
        "        dic_embeddings_GloVe [palabra] = coefs\r\n",
        "\r\n",
        "#Cantidad de palabras en glove\r\n",
        "len(dic_embeddings_GloVe )"
      ],
      "execution_count": null,
      "outputs": [
        {
          "output_type": "stream",
          "text": [
            "CPU times: user 6.61 s, sys: 283 ms, total: 6.89 s\n",
            "Wall time: 8.97 s\n"
          ],
          "name": "stdout"
        }
      ]
    },
    {
      "cell_type": "code",
      "metadata": {
        "colab": {
          "base_uri": "https://localhost:8080/"
        },
        "id": "0cveyx_NFEZm",
        "outputId": "29a1e37a-d5f7-46d7-c5e4-827258b938a8"
      },
      "source": [
        "print(dic_embeddings_GloVe [\"got\"].shape)\r\n",
        "dic_embeddings_GloVe [\"got\"]"
      ],
      "execution_count": null,
      "outputs": [
        {
          "output_type": "stream",
          "text": [
            "(100,)\n"
          ],
          "name": "stdout"
        },
        {
          "output_type": "execute_result",
          "data": {
            "text/plain": [
              "array([ 0.54635  ,  0.19018  ,  0.51298  , -0.76729  , -0.23824  ,\n",
              "       -0.065802 ,  0.24464  ,  0.32024  , -0.13215  , -0.51083  ,\n",
              "        0.69103  ,  0.24462  ,  0.075322 ,  0.34058  ,  0.37736  ,\n",
              "       -0.27647  , -0.22937  ,  0.32059  , -0.43115  ,  0.37238  ,\n",
              "        0.43887  ,  0.67325  ,  0.1064   , -0.28668  ,  0.16699  ,\n",
              "        0.0035841, -0.6208   , -0.31726  ,  0.55472  , -0.47293  ,\n",
              "       -0.072485 ,  1.1329   ,  0.45969  ,  0.59817  ,  0.43119  ,\n",
              "       -0.11359  , -0.70584  ,  0.37556  ,  0.048478 ,  0.43989  ,\n",
              "       -0.078231 , -0.3277   ,  0.37055  , -0.86839  , -0.22885  ,\n",
              "       -0.049179 , -0.21562  , -0.049966 ,  0.82177  , -1.0077   ,\n",
              "       -0.3538   , -0.12548  , -0.4025   ,  0.70979  , -0.24674  ,\n",
              "       -2.4466   , -0.099338 ,  0.49705  ,  1.0912   ,  0.73681  ,\n",
              "        0.26601  ,  1.0726   , -1.1285   ,  0.22433  ,  0.47524  ,\n",
              "       -0.3435   ,  0.44802  ,  0.3436   , -0.29327  ,  0.34002  ,\n",
              "       -0.061204 ,  0.12671  ,  0.049335 , -0.33836  ,  0.014557 ,\n",
              "        0.52293  , -0.68153  , -0.28606  , -0.53179  ,  0.099821 ,\n",
              "        0.2078   ,  0.062    , -0.80656  , -0.40705  , -1.5768   ,\n",
              "       -0.47133  ,  0.41641  , -0.19983  , -0.94822  , -0.40666  ,\n",
              "       -0.011968 , -0.54023  , -0.15418  , -0.25588  , -0.68891  ,\n",
              "       -0.063802 ,  0.06132  ,  0.4414   ,  0.082234 ,  0.42676  ],\n",
              "      dtype=float32)"
            ]
          },
          "metadata": {
            "tags": []
          },
          "execution_count": 23
        }
      ]
    },
    {
      "cell_type": "markdown",
      "metadata": {
        "id": "FEn8JE8XSXUp"
      },
      "source": [
        "### Paso 3 Obtener la matriz de vectores para todas las palabras del vocabulario \r\n",
        "embedding_texto()"
      ]
    },
    {
      "cell_type": "code",
      "metadata": {
        "id": "J8D7JIWHxRRx"
      },
      "source": [
        "def embedding_texto(dic_vocabulario, dic_embeddings_palabras, embedding_dim):\r\n",
        "    num_tokens = len(dic_vocabulario.keys()) + 2\r\n",
        "    encontradas = 0\r\n",
        "    # Inicializar matriz\r\n",
        "    embedding_matrix = np.zeros((num_tokens, embedding_dim))\r\n",
        "    for word, i in dic_vocabulario.items():\r\n",
        "        embedding_vector = dic_embeddings_palabras.get(word)\r\n",
        "        if embedding_vector is not None:\r\n",
        "            # Words not found in embedding index will be all-zeros.\r\n",
        "            # This includes the representation for \"padding\" and \"OOV\"\r\n",
        "            embedding_matrix[i] = embedding_vector\r\n",
        "            encontradas += 1\r\n",
        "    proporcion = encontradas/len(dic_vocabulario) *100\r\n",
        "    print(\"{} palabras vectorizadas, que representan {:.1f}% de todas las palabras en el corpus\".format(encontradas, proporcion))\r\n",
        "    return embedding_matrix"
      ],
      "execution_count": null,
      "outputs": []
    },
    {
      "cell_type": "code",
      "metadata": {
        "colab": {
          "base_uri": "https://localhost:8080/"
        },
        "id": "RufwHJoXxLLc",
        "outputId": "8cef81d5-c3c5-4814-a39a-26ac95f19033"
      },
      "source": [
        "embedding_matrix = embedding_texto(vocabulario_dic, dic_embeddings_GloVe , 100)"
      ],
      "execution_count": null,
      "outputs": [
        {
          "output_type": "stream",
          "text": [
            "17344 palabras vectorizadas, que representan 86.7% de todas las palabras en el corpus\n"
          ],
          "name": "stdout"
        }
      ]
    },
    {
      "cell_type": "code",
      "metadata": {
        "colab": {
          "base_uri": "https://localhost:8080/"
        },
        "id": "U-GwnJ3PHpZm",
        "outputId": "cf48331f-eb10-4a04-a991-c1f234597ea2"
      },
      "source": [
        "embedding_matrix.shape"
      ],
      "execution_count": null,
      "outputs": [
        {
          "output_type": "execute_result",
          "data": {
            "text/plain": [
              "(20002, 100)"
            ]
          },
          "metadata": {
            "tags": []
          },
          "execution_count": 26
        }
      ]
    },
    {
      "cell_type": "markdown",
      "metadata": {
        "id": "g1aKgPy7ocoF"
      },
      "source": [
        "\r\n",
        "**Repetiremos el paso 1 y el paso 3 para crear el diccionario de los Resumenes.(el diccionario con vectores GloVe es el mismo)**"
      ]
    },
    {
      "cell_type": "code",
      "metadata": {
        "colab": {
          "base_uri": "https://localhost:8080/"
        },
        "id": "rtpCaHdro41w",
        "outputId": "b130a766-c08a-4512-b101-acbf764e3d92"
      },
      "source": [
        "vocabulario_dic_sum, vectorizer_sum = genera_dic_vocabulario(y_train)\r\n",
        "embedding_matrix_sum = embedding_texto(vocabulario_dic_sum, dic_embeddings_GloVe , 100)\r\n",
        "embedding_matrix_sum.shape"
      ],
      "execution_count": null,
      "outputs": [
        {
          "output_type": "stream",
          "text": [
            "5484 palabras vectorizadas, que representan 87.8% de todas las palabras en el corpus\n"
          ],
          "name": "stdout"
        },
        {
          "output_type": "execute_result",
          "data": {
            "text/plain": [
              "(6247, 100)"
            ]
          },
          "metadata": {
            "tags": []
          },
          "execution_count": 27
        }
      ]
    },
    {
      "cell_type": "markdown",
      "metadata": {
        "id": "OuI6oFEtvWD2"
      },
      "source": [
        "## Paso 4. Vectorizar conjunto de entrenamiento y pruba"
      ]
    },
    {
      "cell_type": "code",
      "metadata": {
        "colab": {
          "base_uri": "https://localhost:8080/"
        },
        "id": "Gs7Ju8HAb1yL",
        "outputId": "0cde9d30-a9ed-4a95-d333-47ad499e1e5b"
      },
      "source": [
        "vectorizer_reseña(datos.loc[5,'Text'])"
      ],
      "execution_count": null,
      "outputs": [
        {
          "output_type": "execute_result",
          "data": {
            "text/plain": [
              "<tf.Tensor: shape=(73,), dtype=int64, numpy=\n",
              "array([   3,  155,    5, 1482, 1589,   12, 2230,    4,  194,   10,  759,\n",
              "        677,  109,    2, 2230,   21,   45,   42, 1425,   20,  147,  152,\n",
              "       1712, 1690, 1107, 6993, 1278,  890,  453,   14,   69, 1071,    8,\n",
              "         74,   21,    5,  143,   70,   71,  589,  327,  743,  342,  446,\n",
              "         38,   11,   14,  808,  968,  664,   56,   14,  398,    4,   14,\n",
              "        357,   10, 2624,   69,  133,  587,    3,   40,  136,   10,  165,\n",
              "          9, 2230,    6,   21,    5, 1681,  198])>"
            ]
          },
          "metadata": {
            "tags": []
          },
          "execution_count": 28
        }
      ]
    },
    {
      "cell_type": "code",
      "metadata": {
        "colab": {
          "base_uri": "https://localhost:8080/"
        },
        "id": "vY-GF2VujuDv",
        "outputId": "19c7915d-4709-43ff-cb68-e6c486e690b9"
      },
      "source": [
        "x_train[0:10].apply(vectorizer_reseña)"
      ],
      "execution_count": null,
      "outputs": [
        {
          "output_type": "execute_result",
          "data": {
            "text/plain": [
              "17921    (tf.Tensor(10, shape=(), dtype=int64), tf.Tens...\n",
              "4889     (tf.Tensor(3, shape=(), dtype=int64), tf.Tenso...\n",
              "379      (tf.Tensor(2, shape=(), dtype=int64), tf.Tenso...\n",
              "3660     (tf.Tensor(3, shape=(), dtype=int64), tf.Tenso...\n",
              "11221    (tf.Tensor(10, shape=(), dtype=int64), tf.Tens...\n",
              "16188    (tf.Tensor(2, shape=(), dtype=int64), tf.Tenso...\n",
              "18764    (tf.Tensor(3, shape=(), dtype=int64), tf.Tenso...\n",
              "5422     (tf.Tensor(580, shape=(), dtype=int64), tf.Ten...\n",
              "17966    (tf.Tensor(3, shape=(), dtype=int64), tf.Tenso...\n",
              "17836    (tf.Tensor(3, shape=(), dtype=int64), tf.Tenso...\n",
              "Name: Text, dtype: object"
            ]
          },
          "metadata": {
            "tags": []
          },
          "execution_count": 29
        }
      ]
    },
    {
      "cell_type": "code",
      "metadata": {
        "id": "llR1V0qmcP8O",
        "colab": {
          "base_uri": "https://localhost:8080/"
        },
        "outputId": "1feb8618-6596-4e2a-95bc-2408c8d7cdd3"
      },
      "source": [
        "%%time\r\n",
        "x_train_vec = x_train.apply(vectorizer_reseña)\r\n",
        "x_test_vec = x_test.apply(vectorizer_reseña)\r\n",
        "\r\n",
        "y_train_vec = y_train.apply(vectorizer_sum)\r\n",
        "y_test_vec = y_test.apply(vectorizer_sum)"
      ],
      "execution_count": null,
      "outputs": [
        {
          "output_type": "stream",
          "text": [
            "CPU times: user 2min 50s, sys: 20.1 s, total: 3min 10s\n",
            "Wall time: 2min 42s\n"
          ],
          "name": "stdout"
        }
      ]
    },
    {
      "cell_type": "markdown",
      "metadata": {
        "id": "LqLY9feiEIXV"
      },
      "source": [
        "Necesitamos homogeneisar las dimensiones de los tensores, para ello usamos la función pad_sequence "
      ]
    },
    {
      "cell_type": "code",
      "metadata": {
        "id": "kZRF60TD6i2D",
        "colab": {
          "base_uri": "https://localhost:8080/"
        },
        "outputId": "f971d612-1c29-4d4d-bba4-e6c286b7195b"
      },
      "source": [
        "%%time\r\n",
        "from tensorflow.keras.preprocessing.sequence import pad_sequences\r\n",
        "\r\n",
        "x_train_seq  =  pad_sequences(x_train_vec, maxlen = int(longitud_max_textos), padding='post') \r\n",
        "x_test_seq  =  pad_sequences(x_test_vec, maxlen = int(longitud_max_textos), padding='post') \r\n",
        "\r\n",
        "y_train_seq  =  pad_sequences(y_train_vec, maxlen = int(longitud_max_titulos) , padding='post') \r\n",
        "y_test_seq  =  pad_sequences(y_test_vec, maxlen = int(longitud_max_titulos) , padding='post') "
      ],
      "execution_count": null,
      "outputs": [
        {
          "output_type": "stream",
          "text": [
            "CPU times: user 15.2 s, sys: 2.15 s, total: 17.3 s\n",
            "Wall time: 13.7 s\n"
          ],
          "name": "stdout"
        }
      ]
    },
    {
      "cell_type": "code",
      "metadata": {
        "colab": {
          "base_uri": "https://localhost:8080/"
        },
        "id": "pkCVce8lORKs",
        "outputId": "bcc6d86c-a539-4e21-fe44-c1b1878a553a"
      },
      "source": [
        "x_train_vec.shape, y_train_vec.shape"
      ],
      "execution_count": null,
      "outputs": [
        {
          "output_type": "execute_result",
          "data": {
            "text/plain": [
              "((17278,), (17278,))"
            ]
          },
          "metadata": {
            "tags": []
          },
          "execution_count": 32
        }
      ]
    },
    {
      "cell_type": "code",
      "metadata": {
        "colab": {
          "base_uri": "https://localhost:8080/"
        },
        "id": "lBg0OL2-OY3k",
        "outputId": "2a7dba6b-ac9f-474c-a02a-0a3fb370531f"
      },
      "source": [
        "x_test_vec.shape, y_test_vec.shape"
      ],
      "execution_count": null,
      "outputs": [
        {
          "output_type": "execute_result",
          "data": {
            "text/plain": [
              "((1920,), (1920,))"
            ]
          },
          "metadata": {
            "tags": []
          },
          "execution_count": 33
        }
      ]
    },
    {
      "cell_type": "markdown",
      "metadata": {
        "id": "_8bUIXWs9b7h"
      },
      "source": [
        "# Diseño del modelo\r\n",
        "\r\n",
        "* [referencia1](https://www.analyticsvidhya.com/blog/2019/06/comprehensive-guide-text-summarization-using-deep-learning-python/)\r\n",
        "\r\n",
        "* [referencia2](https://humboldt-wi.github.io/blog/research/information_systems_1920/nlp_text_summarization_techniques/) "
      ]
    },
    {
      "cell_type": "markdown",
      "metadata": {
        "id": "EYBgdSGFKZHF"
      },
      "source": [
        "## Diseño del codificador y decodificador\r\n",
        "\r\n",
        "Codificador 3 capas con 3 LTSM y 320 dimensiones latentes\r\n"
      ]
    },
    {
      "cell_type": "code",
      "metadata": {
        "id": "4tzO4uDVRl4g"
      },
      "source": [
        "from tensorflow.keras.models import Model\r\n",
        "from tensorflow.keras.layers import Embedding, Input\r\n",
        "from tensorflow.keras.layers import LSTM\r\n",
        "from tensorflow.keras.layers import Dense, Dropout\r\n",
        "from tensorflow.keras.layers import Concatenate, Attention\r\n",
        "from tensorflow.keras.layers import TimeDistributed\r\n",
        "from tensorflow.keras import backend as K \r\n"
      ],
      "execution_count": null,
      "outputs": []
    },
    {
      "cell_type": "code",
      "metadata": {
        "id": "jPhmLT8RJ0xU"
      },
      "source": [
        "num_tokens_rev = len(vocabulario_dic) + 2\r\n",
        "num_tokens_sum = len(vocabulario_dic_sum) + 2\r\n",
        "embedding_dim = 100\r\n",
        "\r\n",
        "#embedding_layer_reviews = Embedding(num_tokens_rev,\r\n",
        "#                                    embedding_dim,\r\n",
        "#                                    embeddings_initializer=keras.initializers.Constant(embedding_matrix),\r\n",
        "#                                    trainable=False)\r\n",
        "\r\n",
        "#embedding_layer_sumary = Embedding(num_tokens_sum,\r\n",
        "#                                    embedding_dim,\r\n",
        "#                                    embeddings_initializer=keras.initializers.Constant(embedding_matrix_sum),\r\n",
        "#                                    trainable=False)"
      ],
      "execution_count": null,
      "outputs": []
    },
    {
      "cell_type": "code",
      "metadata": {
        "id": "A5NiVMSERiFz"
      },
      "source": [
        "K.clear_session() \r\n",
        "latent_dim = 320\r\n",
        "\r\n",
        "# ENCODER   ================================================================\r\n",
        "\r\n",
        "encoder_inputs = Input(shape = (int(longitud_max_textos),))\r\n",
        "\r\n",
        "enc_emb_lay = Embedding(num_tokens_rev, embedding_dim,\r\n",
        "                    embeddings_initializer=keras.initializers.Constant(embedding_matrix),\r\n",
        "                    trainable=False)\r\n",
        "enc_emb = enc_emb_lay(encoder_inputs)\r\n",
        "\r\n",
        "#LSTM 1\r\n",
        "encoder_lstm1 = LSTM(latent_dim,return_sequences=True, return_state=True)\r\n",
        "encoder_output1, state_h1, state_c1 = encoder_lstm1(enc_emb) \r\n",
        "\r\n",
        "\r\n",
        "# LSTM 2\r\n",
        "encoder_lstm2 = LSTM(latent_dim,return_sequences=True,return_state=True) \r\n",
        "encoder_output2, state_h2, state_c2 = encoder_lstm2(encoder_output1) \r\n",
        "\r\n",
        "#LSTM 3 \r\n",
        "encoder_lstm3=LSTM(latent_dim, return_state=True, return_sequences=True) \r\n",
        "encoder_outputs, state_h, state_c= encoder_lstm3(encoder_output2) \r\n",
        "\r\n",
        "\r\n",
        "# DECODER  ==================================================================\r\n",
        "\r\n",
        "decoder_inputs = Input(shape=(None,)) \r\n",
        "dec_emb_layer = Embedding(num_tokens_sum, embedding_dim,\r\n",
        "                    embeddings_initializer=keras.initializers.Constant(embedding_matrix_sum),\r\n",
        "                    trainable=False)\r\n",
        "dec_emb = dec_emb_layer(decoder_inputs)\r\n",
        "\r\n",
        "#LSTM using encoder_states as initial state\r\n",
        "decoder_lstm = LSTM(latent_dim, return_sequences=True, return_state=True) \r\n",
        "decoder_outputs,decoder_fwd_state, decoder_back_state = decoder_lstm(dec_emb,initial_state=[state_h, state_c]) \r\n",
        "\r\n",
        "\r\n"
      ],
      "execution_count": null,
      "outputs": []
    },
    {
      "cell_type": "markdown",
      "metadata": {
        "id": "5hHpL99JzQq2"
      },
      "source": [
        "##Attention Layer\r\n",
        "\r\n",
        "Fuente: https://github.com/madhav727/abstractive-news-summary"
      ]
    },
    {
      "cell_type": "code",
      "metadata": {
        "id": "y_XTMS7ePYEv"
      },
      "source": [
        "!cp drive/MyDrive/Datos/attention.py .\r\n"
      ],
      "execution_count": null,
      "outputs": []
    },
    {
      "cell_type": "code",
      "metadata": {
        "id": "SC9TzAgRzXcF"
      },
      "source": [
        "from attention import AttentionLayer"
      ],
      "execution_count": null,
      "outputs": []
    },
    {
      "cell_type": "code",
      "metadata": {
        "id": "afuPZByfsh37"
      },
      "source": [
        "attn_layer = AttentionLayer(name='attention_layer') \r\n",
        "attn_out, attn_states = attn_layer([encoder_outputs, decoder_outputs]) "
      ],
      "execution_count": null,
      "outputs": []
    },
    {
      "cell_type": "code",
      "metadata": {
        "id": "dHVl3Su1UG9L",
        "colab": {
          "base_uri": "https://localhost:8080/"
        },
        "outputId": "2fcf66ac-8adc-4566-9672-7e6b5e583cf3"
      },
      "source": [
        "embedding_matrix_sum.shape"
      ],
      "execution_count": null,
      "outputs": [
        {
          "output_type": "execute_result",
          "data": {
            "text/plain": [
              "(6247, 100)"
            ]
          },
          "metadata": {
            "tags": []
          },
          "execution_count": 44
        }
      ]
    },
    {
      "cell_type": "markdown",
      "metadata": {
        "id": "8Njhdeeu9N-M"
      },
      "source": [
        "## Union del modelo"
      ]
    },
    {
      "cell_type": "code",
      "metadata": {
        "colab": {
          "base_uri": "https://localhost:8080/"
        },
        "id": "ADcSn9qT1yOO",
        "outputId": "4d636865-1793-4750-c59d-fc38d187a5e5"
      },
      "source": [
        "embedding_matrix_sum.shape[0]"
      ],
      "execution_count": null,
      "outputs": [
        {
          "output_type": "execute_result",
          "data": {
            "text/plain": [
              "6247"
            ]
          },
          "metadata": {
            "tags": []
          },
          "execution_count": 45
        }
      ]
    },
    {
      "cell_type": "code",
      "metadata": {
        "id": "zlq-Fyo1weqK"
      },
      "source": [
        "# Concat attention output and decoder LSTM output \r\n",
        "decoder_concat_input = Concatenate(axis=-1, name='concat_layer')([decoder_outputs, attn_out])\r\n",
        "\r\n",
        "#Dense layer\r\n",
        "decoder_dense = TimeDistributed(Dense(embedding_matrix_sum.shape[0], activation='softmax')) \r\n",
        "decoder_outputs = decoder_dense(decoder_concat_input) \r\n",
        "\r\n",
        "# Define the model\r\n",
        "model = Model([encoder_inputs, decoder_inputs], decoder_outputs) \r\n",
        "\r\n"
      ],
      "execution_count": null,
      "outputs": []
    },
    {
      "cell_type": "code",
      "metadata": {
        "id": "arpr0x1NUdxY",
        "colab": {
          "base_uri": "https://localhost:8080/",
          "height": 454
        },
        "outputId": "80dfd3f5-b73d-4186-9184-f0dc42aefff2"
      },
      "source": [
        "tf.keras.utils.plot_model( \r\n",
        "    model,\r\n",
        "    to_file=\"model.png\",\r\n",
        "    show_shapes=False,\r\n",
        "    show_dtype=False,\r\n",
        "    show_layer_names=True,\r\n",
        "    rankdir=\"TD\",\r\n",
        "    dpi=50,\r\n",
        ")"
      ],
      "execution_count": null,
      "outputs": [
        {
          "output_type": "execute_result",
          "data": {
            "image/png": "[encoded data removed]",
            "text/plain": [
              "<IPython.core.display.Image object>"
            ]
          },
          "metadata": {
            "tags": []
          },
          "execution_count": 48
        }
      ]
    },
    {
      "cell_type": "code",
      "metadata": {
        "id": "YTP4aoB_Ve9o",
        "colab": {
          "base_uri": "https://localhost:8080/"
        },
        "outputId": "6800b470-4efb-4c91-9a55-c9b6891ca358"
      },
      "source": [
        "model.summary()"
      ],
      "execution_count": null,
      "outputs": [
        {
          "output_type": "stream",
          "text": [
            "Model: \"model\"\n",
            "__________________________________________________________________________________________________\n",
            "Layer (type)                    Output Shape         Param #     Connected to                     \n",
            "==================================================================================================\n",
            "input_1 (InputLayer)            [(None, 162)]        0                                            \n",
            "__________________________________________________________________________________________________\n",
            "embedding (Embedding)           (None, 162, 100)     2000200     input_1[0][0]                    \n",
            "__________________________________________________________________________________________________\n",
            "lstm (LSTM)                     [(None, 162, 320), ( 538880      embedding[0][0]                  \n",
            "__________________________________________________________________________________________________\n",
            "input_2 (InputLayer)            [(None, None)]       0                                            \n",
            "__________________________________________________________________________________________________\n",
            "lstm_1 (LSTM)                   [(None, 162, 320), ( 820480      lstm[0][0]                       \n",
            "__________________________________________________________________________________________________\n",
            "embedding_1 (Embedding)         (None, None, 100)    624700      input_2[0][0]                    \n",
            "__________________________________________________________________________________________________\n",
            "lstm_2 (LSTM)                   [(None, 162, 320), ( 820480      lstm_1[0][0]                     \n",
            "__________________________________________________________________________________________________\n",
            "lstm_3 (LSTM)                   [(None, None, 320),  538880      embedding_1[0][0]                \n",
            "                                                                 lstm_2[0][1]                     \n",
            "                                                                 lstm_2[0][2]                     \n",
            "__________________________________________________________________________________________________\n",
            "attention_layer (AttentionLayer ((None, None, 320),  205120      lstm_2[0][0]                     \n",
            "                                                                 lstm_3[0][0]                     \n",
            "__________________________________________________________________________________________________\n",
            "concat_layer (Concatenate)      (None, None, 640)    0           lstm_3[0][0]                     \n",
            "                                                                 attention_layer[0][0]            \n",
            "__________________________________________________________________________________________________\n",
            "time_distributed (TimeDistribut (None, None, 6247)   4004327     concat_layer[0][0]               \n",
            "==================================================================================================\n",
            "Total params: 9,553,067\n",
            "Trainable params: 6,928,167\n",
            "Non-trainable params: 2,624,900\n",
            "__________________________________________________________________________________________________\n"
          ],
          "name": "stdout"
        }
      ]
    },
    {
      "cell_type": "markdown",
      "metadata": {
        "id": "KEjSxWU5bxAN"
      },
      "source": [
        "# Entrenamiento del modelo"
      ]
    },
    {
      "cell_type": "code",
      "metadata": {
        "id": "RRXXWvW6bxas"
      },
      "source": [
        "model.compile(optimizer='rmsprop', \r\n",
        "              loss='sparse_categorical_crossentropy')"
      ],
      "execution_count": null,
      "outputs": []
    },
    {
      "cell_type": "code",
      "metadata": {
        "id": "UZ98uuNMog69",
        "colab": {
          "base_uri": "https://localhost:8080/"
        },
        "outputId": "afec5cf9-e25b-4b21-8d16-fb01c5aac704"
      },
      "source": [
        "%%time\r\n",
        "\r\n",
        "\r\n",
        "from tensorflow.keras.callbacks import EarlyStopping\r\n",
        "es = EarlyStopping(monitor='val_loss', mode='min', verbose=1) \r\n",
        "\r\n",
        "history = model.fit([x_train_seq, y_train_seq[:,:-1]], \r\n",
        "                    y_train_seq.reshape(y_train_seq.shape[0],\r\n",
        "                                        y_train_seq.shape[1], 1)[:,1:],\r\n",
        "                    epochs = 50, \r\n",
        "\r\n",
        "                    #terminar antes cuando no disminuya la función de pérdida\r\n",
        "                    callbacks = [EarlyStopping(monitor='val_loss',mode='min', \r\n",
        "                                             verbose=1)],\r\n",
        "                    batch_size = 512, \r\n",
        "                    validation_data = ([x_test_seq,y_test_seq[:,:-1]], \r\n",
        "                                     y_test_seq.reshape(y_test_seq.shape[0],\r\n",
        "                                                        y_test_seq.shape[1],\r\n",
        "                                                        1)[:,1:]))\r\n"
      ],
      "execution_count": null,
      "outputs": [
        {
          "output_type": "stream",
          "text": [
            "Epoch 1/50\n",
            "34/34 [==============================] - 42s 903ms/step - loss: 4.2569 - val_loss: 2.5267\n",
            "Epoch 2/50\n",
            "34/34 [==============================] - 30s 888ms/step - loss: 2.4732 - val_loss: 2.4263\n",
            "Epoch 3/50\n",
            "34/34 [==============================] - 29s 867ms/step - loss: 2.3519 - val_loss: 2.3782\n",
            "Epoch 4/50\n",
            "34/34 [==============================] - 29s 868ms/step - loss: 2.2765 - val_loss: 2.3365\n",
            "Epoch 5/50\n",
            "34/34 [==============================] - 30s 875ms/step - loss: 2.2120 - val_loss: 2.3008\n",
            "Epoch 6/50\n",
            "34/34 [==============================] - 30s 874ms/step - loss: 2.1663 - val_loss: 2.2522\n",
            "Epoch 7/50\n",
            "34/34 [==============================] - 30s 873ms/step - loss: 2.0861 - val_loss: 2.2246\n",
            "Epoch 8/50\n",
            "34/34 [==============================] - 30s 877ms/step - loss: 2.0450 - val_loss: 2.2199\n",
            "Epoch 9/50\n",
            "34/34 [==============================] - 30s 878ms/step - loss: 1.9994 - val_loss: 2.1546\n",
            "Epoch 10/50\n",
            "34/34 [==============================] - 30s 876ms/step - loss: 1.9329 - val_loss: 2.1349\n",
            "Epoch 11/50\n",
            "34/34 [==============================] - 30s 877ms/step - loss: 1.8996 - val_loss: 2.1158\n",
            "Epoch 12/50\n",
            "34/34 [==============================] - 30s 876ms/step - loss: 1.8545 - val_loss: 2.1137\n",
            "Epoch 13/50\n",
            "34/34 [==============================] - 30s 877ms/step - loss: 1.8078 - val_loss: 2.1070\n",
            "Epoch 14/50\n",
            "34/34 [==============================] - 30s 879ms/step - loss: 1.7745 - val_loss: 2.0939\n",
            "Epoch 15/50\n",
            "34/34 [==============================] - 30s 879ms/step - loss: 1.7279 - val_loss: 2.0776\n",
            "Epoch 16/50\n",
            "34/34 [==============================] - 30s 879ms/step - loss: 1.6917 - val_loss: 2.0643\n",
            "Epoch 17/50\n",
            "34/34 [==============================] - 30s 878ms/step - loss: 1.6584 - val_loss: 2.0526\n",
            "Epoch 18/50\n",
            "34/34 [==============================] - 30s 878ms/step - loss: 1.5974 - val_loss: 2.0602\n",
            "Epoch 00018: early stopping\n",
            "CPU times: user 4min 40s, sys: 2min 41s, total: 7min 21s\n",
            "Wall time: 9min 8s\n"
          ],
          "name": "stdout"
        }
      ]
    },
    {
      "cell_type": "code",
      "metadata": {
        "colab": {
          "base_uri": "https://localhost:8080/",
          "height": 265
        },
        "id": "e1M1mdWfuGpa",
        "outputId": "0c5f580c-0020-4ed3-81b5-b7ed4c595ba6"
      },
      "source": [
        "plt.plot(history.history['loss'], label='train') \r\n",
        "plt.plot(history.history['val_loss'], label='test') \r\n",
        "plt.legend() \r\n",
        "plt.show()"
      ],
      "execution_count": null,
      "outputs": [
        {
          "output_type": "display_data",
          "data": {
            "image/png": "[encoded data removed]",
            "text/plain": [
              "<Figure size 432x288 with 1 Axes>"
            ]
          },
          "metadata": {
            "tags": [],
            "needs_background": "light"
          }
        }
      ]
    },
    {
      "cell_type": "code",
      "metadata": {
        "colab": {
          "base_uri": "https://localhost:8080/"
        },
        "id": "c3oYpATvVPDW",
        "outputId": "1417e6a3-3688-4f58-90b3-4b8372064254"
      },
      "source": [
        "#Guardar todo el modelo\r\n",
        "model.save('/content/drive/MyDrive/Modelos/rrn_modelo_LSTM')"
      ],
      "execution_count": null,
      "outputs": [
        {
          "output_type": "stream",
          "text": [
            "WARNING:absl:Found untraced functions such as lstm_cell_layer_call_and_return_conditional_losses, lstm_cell_layer_call_fn, lstm_cell_1_layer_call_and_return_conditional_losses, lstm_cell_1_layer_call_fn, lstm_cell_2_layer_call_and_return_conditional_losses while saving (showing 5 of 20). These functions will not be directly callable after loading.\n",
            "WARNING:absl:Found untraced functions such as lstm_cell_layer_call_and_return_conditional_losses, lstm_cell_layer_call_fn, lstm_cell_1_layer_call_and_return_conditional_losses, lstm_cell_1_layer_call_fn, lstm_cell_2_layer_call_and_return_conditional_losses while saving (showing 5 of 20). These functions will not be directly callable after loading.\n"
          ],
          "name": "stderr"
        },
        {
          "output_type": "stream",
          "text": [
            "INFO:tensorflow:Assets written to: /content/drive/MyDrive/Modelos/rrn_modelo_LSTM/assets\n"
          ],
          "name": "stdout"
        },
        {
          "output_type": "stream",
          "text": [
            "INFO:tensorflow:Assets written to: /content/drive/MyDrive/Modelos/rrn_modelo_LSTM/assets\n"
          ],
          "name": "stderr"
        }
      ]
    },
    {
      "cell_type": "code",
      "metadata": {
        "id": "-6JXRd7EWaXa"
      },
      "source": [
        "#modelo = tf.keras.models.load_model('/content/drive/MyDrive/Modelos/rrn_modelo')\r\n",
        "\r\n",
        "# Check its architecture\r\n",
        "#modelo.summary()"
      ],
      "execution_count": null,
      "outputs": []
    },
    {
      "cell_type": "markdown",
      "metadata": {
        "id": "P-y0p9Jlh_yn"
      },
      "source": [
        "#Invertir diccionario de vocabulario\r\n",
        "El objetivo es que a partir de indice, regrese palabras"
      ]
    },
    {
      "cell_type": "code",
      "metadata": {
        "id": "N63PvC90iOoq"
      },
      "source": [
        "reversed_vocabulario_dic_sum = dict(map(reversed, vocabulario_dic_sum.items()))\r\n",
        "reversed_vocabulario_dic_text = dict(map(reversed, vocabulario_dic.items()))\r\n"
      ],
      "execution_count": null,
      "outputs": []
    },
    {
      "cell_type": "markdown",
      "metadata": {
        "id": "QbBzHDBMsa_E"
      },
      "source": [
        "#Modelo de Inferencia y Generación de Texto"
      ]
    },
    {
      "cell_type": "code",
      "metadata": {
        "id": "m2b6xsH6rggV"
      },
      "source": [
        "## encoder inference\r\n",
        "encoder_model = Model(inputs=encoder_inputs,outputs=[encoder_outputs, state_h, state_c])\r\n",
        "\r\n",
        "# decoder inference\r\n",
        "# Below tensors will hold the states of the previous time step\r\n",
        "decoder_state_input_h = Input(shape=(latent_dim,))\r\n",
        "decoder_state_input_c = Input(shape=(latent_dim,))\r\n",
        "decoder_hidden_state_input = Input(shape=(int(longitud_max_textos), latent_dim))\r\n",
        "\r\n",
        "# Get the embeddings of the decoder sequence\r\n",
        "dec_emb2= dec_emb_layer(decoder_inputs)\r\n",
        "\r\n",
        "# To predict the next word in the sequence, set the initial states to the states from the previous time step\r\n",
        "decoder_outputs2, state_h2, state_c2 = decoder_lstm(dec_emb2, initial_state=[decoder_state_input_h, decoder_state_input_c])\r\n",
        "\r\n",
        "#attention inference\r\n",
        "attn_out_inf, attn_states_inf = attn_layer([decoder_hidden_state_input, decoder_outputs2])\r\n",
        "decoder_inf_concat = Concatenate(axis=-1, name='concat')([decoder_outputs2, attn_out_inf])\r\n",
        "\r\n",
        "# A dense softmax layer to generate prob dist. over the target vocabulary\r\n",
        "decoder_outputs2 = decoder_dense(decoder_inf_concat)\r\n",
        "\r\n",
        "# Final decoder model\r\n",
        "decoder_model = Model(\r\n",
        "[decoder_inputs] + [decoder_hidden_state_input,decoder_state_input_h, decoder_state_input_c],\r\n",
        "[decoder_outputs2] + [state_h2, state_c2])"
      ],
      "execution_count": null,
      "outputs": []
    },
    {
      "cell_type": "code",
      "metadata": {
        "colab": {
          "base_uri": "https://localhost:8080/",
          "height": 338
        },
        "id": "2x8A_K-u8qwM",
        "outputId": "ab22ee9f-a111-4b96-ecd4-32070cfbddd8"
      },
      "source": [
        "tf.keras.utils.plot_model( \r\n",
        "    encoder_model,\r\n",
        "    to_file=\"encoder_model.png\",\r\n",
        "    show_shapes=True,\r\n",
        "    show_dtype=False,\r\n",
        "    show_layer_names=True,\r\n",
        "    rankdir=\"TD\",\r\n",
        "    dpi=60,\r\n",
        ")"
      ],
      "execution_count": null,
      "outputs": [
        {
          "output_type": "execute_result",
          "data": {
            "image/png": "[encoded data removed]",
            "text/plain": [
              "<IPython.core.display.Image object>"
            ]
          },
          "metadata": {
            "tags": []
          },
          "execution_count": 60
        }
      ]
    },
    {
      "cell_type": "code",
      "metadata": {
        "colab": {
          "base_uri": "https://localhost:8080/",
          "height": 408
        },
        "id": "xSfRZwXZ0YGx",
        "outputId": "88b618ad-8e54-48d9-c528-e11b7f10dd8a"
      },
      "source": [
        "tf.keras.utils.plot_model( \r\n",
        "    decoder_model,\r\n",
        "    to_file=\"model_decoder.png\",\r\n",
        "    show_shapes=True,\r\n",
        "    show_dtype=False,\r\n",
        "    show_layer_names=True,\r\n",
        "    rankdir=\"TD\",\r\n",
        "    dpi=60,\r\n",
        ")"
      ],
      "execution_count": null,
      "outputs": [
        {
          "output_type": "execute_result",
          "data": {
            "image/png": "[encoded data removed]",
            "text/plain": [
              "<IPython.core.display.Image object>"
            ]
          },
          "metadata": {
            "tags": []
          },
          "execution_count": 62
        }
      ]
    },
    {
      "cell_type": "markdown",
      "metadata": {
        "id": "lJIW62pzsn_B"
      },
      "source": [
        "# Implementación del modelo de inferencia mediante decode_sequence()\r\n",
        "\r\n",
        "[fuente](https://www.analyticsvidhya.com/blog/2019/06/comprehensive-guide-text-summarization-using-deep-learning-python/)"
      ]
    },
    {
      "cell_type": "code",
      "metadata": {
        "colab": {
          "base_uri": "https://localhost:8080/",
          "height": 35
        },
        "id": "LOBsrjkbHaOt",
        "outputId": "de2a5ef0-ad48-47b4-f50d-b193f5a77f9c"
      },
      "source": [
        "reversed_vocabulario_dic_sum[0]"
      ],
      "execution_count": null,
      "outputs": [
        {
          "output_type": "execute_result",
          "data": {
            "application/vnd.google.colaboratory.intrinsic+json": {
              "type": "string"
            },
            "text/plain": [
              "''"
            ]
          },
          "metadata": {
            "tags": []
          },
          "execution_count": 52
        }
      ]
    },
    {
      "cell_type": "code",
      "metadata": {
        "id": "Xl7KTg-11Qwm"
      },
      "source": [
        "def decode_sequence(input_seq):\r\n",
        "    # Encode the input as state vectors.\r\n",
        "    e_out, e_h, e_c = encoder_model.predict(input_seq)\r\n",
        "\r\n",
        "    # Generate empty target sequence of length 1.\r\n",
        "    target_seq = np.zeros((1,1))\r\n",
        "\r\n",
        "    # Chose the 'start' word as the first word of the target sequence\r\n",
        "    target_seq[0, 0] =  vocabulario_dic_sum['tokenstart']\r\n",
        "\r\n",
        "    stop_condition = False\r\n",
        "    decoded_sentence = ''\r\n",
        "    while not stop_condition:\r\n",
        "        output_tokens, h, c = decoder_model.predict([target_seq] + [e_out, e_h, e_c])\r\n",
        "\r\n",
        "        # Sample a token\r\n",
        "        sampled_token_index = np.argmax(output_tokens[0, -1, :])\r\n",
        "        sampled_token = reversed_vocabulario_dic_sum[sampled_token_index]\r\n",
        "\r\n",
        "        if sampled_token!='tokenend':\r\n",
        "            decoded_sentence += ' '+sampled_token\r\n",
        "\r\n",
        "        # Exit condition: either hit max length or find stop word.\r\n",
        "        if (sampled_token == 'tokenend' or len(decoded_sentence.split()) >= (int(longitud_max_titulos-1))):\r\n",
        "                stop_condition = True\r\n",
        "\r\n",
        "        # Update the target sequence (of length 1).\r\n",
        "        target_seq = np.zeros((1,1))\r\n",
        "        target_seq[0, 0] = sampled_token_index\r\n",
        "\r\n",
        "        # Update internal states\r\n",
        "        e_h, e_c = h, c\r\n",
        "\r\n",
        "    return decoded_sentence"
      ],
      "execution_count": null,
      "outputs": []
    },
    {
      "cell_type": "code",
      "metadata": {
        "id": "t_WXRz5z0i4M"
      },
      "source": [
        "def seq2summary(input_seq):\r\n",
        "    newString = ''\r\n",
        "    for i in input_seq:\r\n",
        "      if((i != 0 and i != vocabulario_dic_sum['tokenstart']) and i != vocabulario_dic_sum['tokenend']):\r\n",
        "        newString = newString + reversed_vocabulario_dic_sum[i]+' '\r\n",
        "    return newString\r\n",
        "\r\n",
        "def seq2text(input_seq):\r\n",
        "    newString = ''\r\n",
        "    for i in input_seq:\r\n",
        "      if(i != 0):\r\n",
        "        newString = newString + reversed_vocabulario_dic_text[i]+' '\r\n",
        "    return newString"
      ],
      "execution_count": null,
      "outputs": []
    },
    {
      "cell_type": "code",
      "metadata": {
        "colab": {
          "base_uri": "https://localhost:8080/"
        },
        "id": "6giXuiI9Inhe",
        "outputId": "3625bfe3-e593-4ba2-8403-eda09ae2155b"
      },
      "source": [
        "x_test_seq[1]\r\n",
        "#.reshape(1, -1)"
      ],
      "execution_count": null,
      "outputs": [
        {
          "output_type": "execute_result",
          "data": {
            "text/plain": [
              "array([  10,   31,   21,   40,   27,   27,  363,    7, 1458,  332,   66,\n",
              "          3, 1393,  113,   11, 7923,    6,   49,   44,    9,    2, 3048,\n",
              "       2584,  301,   35,    2,  240,  318,  135,    0,    0,    0,    0,\n",
              "          0,    0,    0,    0,    0,    0,    0,    0,    0,    0,    0,\n",
              "          0,    0,    0,    0,    0,    0,    0,    0,    0,    0,    0,\n",
              "          0,    0,    0,    0,    0,    0,    0,    0,    0,    0,    0,\n",
              "          0,    0,    0,    0,    0,    0,    0,    0,    0,    0,    0,\n",
              "          0,    0,    0,    0,    0,    0,    0,    0,    0,    0,    0,\n",
              "          0,    0,    0,    0,    0,    0,    0,    0,    0,    0,    0,\n",
              "          0,    0,    0,    0,    0,    0,    0,    0,    0,    0,    0,\n",
              "          0,    0,    0,    0,    0,    0,    0,    0,    0,    0,    0,\n",
              "          0,    0,    0,    0,    0,    0,    0,    0,    0,    0,    0,\n",
              "          0,    0,    0,    0,    0,    0,    0,    0,    0,    0,    0,\n",
              "          0,    0,    0,    0,    0,    0,    0,    0,    0,    0,    0,\n",
              "          0,    0,    0,    0,    0,    0,    0,    0], dtype=int32)"
            ]
          },
          "metadata": {
            "tags": []
          },
          "execution_count": 55
        }
      ]
    },
    {
      "cell_type": "code",
      "metadata": {
        "colab": {
          "base_uri": "https://localhost:8080/"
        },
        "id": "S1q4ZbNVAG4G",
        "outputId": "2c9e544c-3022-478c-ef72-9770ee09baab"
      },
      "source": [
        "for i in range(10):\r\n",
        "  print(\"Review:\",seq2text(x_test_seq[i]))\r\n",
        "  print(\"Original summary:\",seq2summary(y_test_seq[i]))\r\n",
        "  print(\"Predicted summary:\",decode_sequence(x_test_seq[i].reshape(1, -1)))\r\n",
        "  print(\"\\n\")"
      ],
      "execution_count": null,
      "outputs": [
        {
          "output_type": "stream",
          "text": [
            "Review: i was so excited when bisquick came out with the gluten free version but i was frustrated with the length of time it took for me to get a hold of some i did finally order some through amazon and today i made pancakes using the mix due a milk allergy i made them with soy milk the original flavor and i added a little double strength vanilla they were fantastic and my family and guests gobbled them up i will definitely make them again and try some of the other recipes a href http www amazon com gp product b004391dk0 bisquick pancake and baking mix gluten free 16 ounce boxes pack of 3 a \n",
            "Original summary: gluten free bisquick pancakes \n",
            "Predicted summary:  great taste\n",
            "\n",
            "\n",
            "Review: this coffee was just so so nothing to write home about i honestly could not distinguish it from one of the generic canister brands at the local grocery store \n",
            "Original summary: melitta cafe \n",
            "Predicted summary:  great coffee\n",
            "\n",
            "\n",
            "Review: the greatest best chocolate taste in any keurig k cups out there will definitely order more everyone in the office tries to steal them i am a chocolate nut and these pass the test \n",
            "Original summary: the best chocolate taste out there \n",
            "Predicted summary:  great hot chocolate\n",
            "\n",
            "\n",
            "Review: [UNK] quality one of the best tea the pack of 6 of one kind should [UNK] a different flavors \n",
            "Original summary: excellent service good quality \n",
            "Predicted summary:  great tea\n",
            "\n",
            "\n",
            "Review: really good mix pleasantly surprised to find it includes macadamia nuts we will enjoy this mix immensely i am sure we will order it again \n",
            "Original summary: great tasty mix \n",
            "Predicted summary:  great taste\n",
            "\n",
            "\n",
            "Review: i like these they are not gas producing and they hold shape ok for canned beans flavor is good love that they do not have added salt \n",
            "Original summary: tasty \n",
            "Predicted summary:  great taste\n",
            "\n",
            "\n",
            "Review: [UNK] your hard drive my body forgot what those strong bbq flavored chips were like and i started craving soy crisps i began to taste a delicious roasted soybean flavor like those roasted and salted soy beans they sell in jars which i had completely missed before apparently because it was not a sweet red crusted overbearing bbq powder i polished the next bags off in three days now i am ordering 12 here on amazon 1 cheaper per bag than my local grocery store which seems to want to [UNK] my wallet for trying to eat healthy food my advice is this give these soy crisps a chance but do not mix them in with your regular doritos and bbq ruffles or you will think they are awful stop eating for a month the oily bbq chips that have [UNK] your taste buds for years and reboot your taste buds with these [UNK] healthier chips you will feel better about snacking \n",
            "Original summary: [UNK] your snack [UNK] \n",
            "Predicted summary:  delicious\n",
            "\n",
            "\n",
            "Review: i am addicted to this gum it tastes so close to the real thing and does not lose flavor compared with the apple pie or strawberry this best flavor of all of this series along with the mint chocolate chip \n",
            "Original summary: delicious \n",
            "Predicted summary:  great taste\n",
            "\n",
            "\n",
            "Review: this is one hot extract i use 1 drop in a bowl of soup and it makes it plenty hot i also use it to heat up my chili if you like it hot but not so over the top you can not taste the food then this is the final answer you have been looking for \n",
            "Original summary: the final answer oh yeah \n",
            "Predicted summary:  great product\n",
            "\n",
            "\n",
            "Review: i used to use this coffee after we visited costa rica and gave some to my aunt she thinks it is the best coffee there is so i gave her some for christmas it is excellent \n",
            "Original summary: my aunt s favorite \n",
            "Predicted summary:  great coffee\n",
            "\n",
            "\n"
          ],
          "name": "stdout"
        }
      ]
    },
    {
      "cell_type": "markdown",
      "metadata": {
        "id": "HGzdeQimAGMT"
      },
      "source": [
        ""
      ]
    }
  ]
}