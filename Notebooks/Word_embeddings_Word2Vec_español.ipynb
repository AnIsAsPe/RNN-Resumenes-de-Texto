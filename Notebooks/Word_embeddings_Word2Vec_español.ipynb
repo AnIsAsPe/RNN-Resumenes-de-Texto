{
  "nbformat": 4,
  "nbformat_minor": 0,
  "metadata": {
    "colab": {
      "name": "Word embeddings Word2Vec_español.ipynb",
      "provenance": [],
      "collapsed_sections": [],
      "toc_visible": true,
      "mount_file_id": "https://github.com/AnIsAsPe/RNN-Resumenes-de-Texto/blob/main/Notebooks/Word_embeddings_Word2Vec_espa%C3%B1ol.ipynb",
      "authorship_tag": "ABX9TyNPxNirBfdJqUxcvfOyY2gh",
      "include_colab_link": true
    },
    "kernelspec": {
      "display_name": "Python 3",
      "name": "python3"
    }
  },
  "cells": [
    {
      "cell_type": "markdown",
      "metadata": {
        "id": "view-in-github",
        "colab_type": "text"
      },
      "source": [
        "<a href=\"https://colab.research.google.com/github/AnIsAsPe/RNN-Resumenes-de-Texto/blob/main/Notebooks/Word_embeddings_Word2Vec_espa%C3%B1ol.ipynb\" target=\"_parent\"><img src=\"https://colab.research.google.com/assets/colab-badge.svg\" alt=\"Open In Colab\"/></a>"
      ]
    },
    {
      "cell_type": "code",
      "metadata": {
        "id": "nat60sgN4YxJ"
      },
      "source": [
        "import numpy as np\n",
        "import pandas as pd\n",
        "import gensim         # Procesamiento de lenguaje natural (NPL)\n",
        "\n",
        "import matplotlib.pyplot as plt \n",
        "import seaborn as sns  "
      ],
      "execution_count": null,
      "outputs": []
    },
    {
      "cell_type": "markdown",
      "metadata": {
        "id": "uft5ezgNkV9L"
      },
      "source": [
        "# Cargar vectores de palabras Word2Vec en español\n",
        "Bajaremos los vectores word2vec en español entrenado con un corpus de 3 mil millones de palabras provenientes de noticias, Wikipedia, obras literiarias, entre otras fuentes.\n",
        "\n",
        "Cuenta con cerca de 2 millones vectores de 400 dimensiones correspondientes a 3  palabras y frases en inglés"
      ]
    },
    {
      "cell_type": "code",
      "metadata": {
        "id": "8q1io1dwURnd"
      },
      "source": [
        "#!wget wget -c \"https://zenodo.org/record/1410403/files/keyed_vectors.zip\"\n",
        "#!unzip /content/keyed_vectors.zip -d /content/drive/MyDrive/Datos/Embeddings/Spanish3B_words_Word2Vec/"
      ],
      "execution_count": null,
      "outputs": []
    },
    {
      "cell_type": "code",
      "metadata": {
        "id": "s2sec2RZNoqu"
      },
      "source": [
        "from gensim.models import KeyedVectors  #comparación keyedVectors y fullmodels https://radimrehurek.com/gensim/models/keyedvectors.html\n",
        "\n",
        "w2v = gensim.models.KeyedVectors.load('/content/drive/MyDrive/Datos/Embeddings/Spanish3B_words_Word2Vec/complete.kv', mmap='r')"
      ],
      "execution_count": null,
      "outputs": []
    },
    {
      "cell_type": "code",
      "metadata": {
        "colab": {
          "base_uri": "https://localhost:8080/"
        },
        "id": "e0NYgwyFpZ-T",
        "outputId": "d5956846-a223-440f-b97b-991a447da8d9"
      },
      "source": [
        "vocabulario = w2v.index2word  #lista con todas las palabras\n",
        "\n",
        "print('Tamaño del vocabulario', len(vocabulario))"
      ],
      "execution_count": null,
      "outputs": [
        {
          "output_type": "stream",
          "text": [
            "Tamaño del vocabulario 1943871\n"
          ],
          "name": "stdout"
        }
      ]
    },
    {
      "cell_type": "code",
      "metadata": {
        "colab": {
          "base_uri": "https://localhost:8080/"
        },
        "id": "VLpA0BuBqewA",
        "outputId": "74efa5d2-31a2-468c-f509-c909a83910f0"
      },
      "source": [
        "print(type(w2v['curso'])) \n",
        "w2v['curso'].shape"
      ],
      "execution_count": null,
      "outputs": [
        {
          "output_type": "stream",
          "text": [
            "<class 'numpy.memmap'>\n"
          ],
          "name": "stdout"
        },
        {
          "output_type": "execute_result",
          "data": {
            "text/plain": [
              "(400,)"
            ]
          },
          "metadata": {
            "tags": []
          },
          "execution_count": 5
        }
      ]
    },
    {
      "cell_type": "markdown",
      "metadata": {
        "id": "s8HtvrqfrNtf"
      },
      "source": [
        "numpy.memmap es un vector mapeado en memoria que se lee de un archivo binario en disco, sirve para acceder a pequeños segmenteos de grandes archivos en disco sin leer el archivo completo en la memoria"
      ]
    },
    {
      "cell_type": "markdown",
      "metadata": {
        "id": "RE154cMyeY3D"
      },
      "source": [
        "# Creación de diccionario de palabras y vectores"
      ]
    },
    {
      "cell_type": "code",
      "metadata": {
        "colab": {
          "base_uri": "https://localhost:8080/"
        },
        "id": "MTV8L2cbmMfc",
        "outputId": "a6e6d1e4-91d1-435e-b5b5-afde2e489440"
      },
      "source": [
        "%%time\n",
        "dic_word2vec  = {}\n",
        "for palabra in w2v.index2word:\n",
        "  dic_word2vec[palabra] = w2v[palabra]\n"
      ],
      "execution_count": null,
      "outputs": [
        {
          "output_type": "stream",
          "text": [
            "CPU times: user 14.2 s, sys: 466 ms, total: 14.6 s\n",
            "Wall time: 14.2 s\n"
          ],
          "name": "stdout"
        }
      ]
    },
    {
      "cell_type": "code",
      "metadata": {
        "id": "jU-Q5Au38TKn",
        "colab": {
          "base_uri": "https://localhost:8080/"
        },
        "outputId": "2e4ad6cf-bbbc-4bbf-9e91-031baeddb24d"
      },
      "source": [
        "type(dic_word2vec['planta'])"
      ],
      "execution_count": null,
      "outputs": [
        {
          "output_type": "execute_result",
          "data": {
            "text/plain": [
              "numpy.memmap"
            ]
          },
          "metadata": {
            "tags": []
          },
          "execution_count": 7
        }
      ]
    },
    {
      "cell_type": "markdown",
      "metadata": {
        "id": "lTqFkkcKY_KU"
      },
      "source": [
        "# Ejemplos de vectores de palabras"
      ]
    },
    {
      "cell_type": "code",
      "metadata": {
        "colab": {
          "base_uri": "https://localhost:8080/",
          "height": 278
        },
        "id": "aYVeRb9xmNRY",
        "outputId": "ca6ce16a-71bd-4065-c930-f39f90daf6d9"
      },
      "source": [
        "ejemplos = 'hombre mujer niño niña anciano anciana'.split()\n",
        "\n",
        "#Construcción de un dataframe con los vectores de las palabras elegidas\n",
        "vectores = {palabra: w2v[palabra] for palabra in ejemplos}\n",
        "X = pd.DataFrame.from_dict(vectores, orient='index')\n",
        "\n",
        "X"
      ],
      "execution_count": null,
      "outputs": [
        {
          "output_type": "execute_result",
          "data": {
            "text/html": [
              "<div>\n",
              "<style scoped>\n",
              "    .dataframe tbody tr th:only-of-type {\n",
              "        vertical-align: middle;\n",
              "    }\n",
              "\n",
              "    .dataframe tbody tr th {\n",
              "        vertical-align: top;\n",
              "    }\n",
              "\n",
              "    .dataframe thead th {\n",
              "        text-align: right;\n",
              "    }\n",
              "</style>\n",
              "<table border=\"1\" class=\"dataframe\">\n",
              "  <thead>\n",
              "    <tr style=\"text-align: right;\">\n",
              "      <th></th>\n",
              "      <th>0</th>\n",
              "      <th>1</th>\n",
              "      <th>2</th>\n",
              "      <th>3</th>\n",
              "      <th>4</th>\n",
              "      <th>5</th>\n",
              "      <th>6</th>\n",
              "      <th>7</th>\n",
              "      <th>8</th>\n",
              "      <th>9</th>\n",
              "      <th>10</th>\n",
              "      <th>11</th>\n",
              "      <th>12</th>\n",
              "      <th>13</th>\n",
              "      <th>14</th>\n",
              "      <th>15</th>\n",
              "      <th>16</th>\n",
              "      <th>17</th>\n",
              "      <th>18</th>\n",
              "      <th>19</th>\n",
              "      <th>20</th>\n",
              "      <th>21</th>\n",
              "      <th>22</th>\n",
              "      <th>23</th>\n",
              "      <th>24</th>\n",
              "      <th>25</th>\n",
              "      <th>26</th>\n",
              "      <th>27</th>\n",
              "      <th>28</th>\n",
              "      <th>29</th>\n",
              "      <th>30</th>\n",
              "      <th>31</th>\n",
              "      <th>32</th>\n",
              "      <th>33</th>\n",
              "      <th>34</th>\n",
              "      <th>35</th>\n",
              "      <th>36</th>\n",
              "      <th>37</th>\n",
              "      <th>38</th>\n",
              "      <th>39</th>\n",
              "      <th>...</th>\n",
              "      <th>360</th>\n",
              "      <th>361</th>\n",
              "      <th>362</th>\n",
              "      <th>363</th>\n",
              "      <th>364</th>\n",
              "      <th>365</th>\n",
              "      <th>366</th>\n",
              "      <th>367</th>\n",
              "      <th>368</th>\n",
              "      <th>369</th>\n",
              "      <th>370</th>\n",
              "      <th>371</th>\n",
              "      <th>372</th>\n",
              "      <th>373</th>\n",
              "      <th>374</th>\n",
              "      <th>375</th>\n",
              "      <th>376</th>\n",
              "      <th>377</th>\n",
              "      <th>378</th>\n",
              "      <th>379</th>\n",
              "      <th>380</th>\n",
              "      <th>381</th>\n",
              "      <th>382</th>\n",
              "      <th>383</th>\n",
              "      <th>384</th>\n",
              "      <th>385</th>\n",
              "      <th>386</th>\n",
              "      <th>387</th>\n",
              "      <th>388</th>\n",
              "      <th>389</th>\n",
              "      <th>390</th>\n",
              "      <th>391</th>\n",
              "      <th>392</th>\n",
              "      <th>393</th>\n",
              "      <th>394</th>\n",
              "      <th>395</th>\n",
              "      <th>396</th>\n",
              "      <th>397</th>\n",
              "      <th>398</th>\n",
              "      <th>399</th>\n",
              "    </tr>\n",
              "  </thead>\n",
              "  <tbody>\n",
              "    <tr>\n",
              "      <th>hombre</th>\n",
              "      <td>-1.314959</td>\n",
              "      <td>-1.988723</td>\n",
              "      <td>-0.186212</td>\n",
              "      <td>0.961444</td>\n",
              "      <td>2.206900</td>\n",
              "      <td>0.443114</td>\n",
              "      <td>-2.331165</td>\n",
              "      <td>1.389492</td>\n",
              "      <td>1.694686</td>\n",
              "      <td>-2.246100</td>\n",
              "      <td>-0.543617</td>\n",
              "      <td>0.363157</td>\n",
              "      <td>-0.676042</td>\n",
              "      <td>2.319879</td>\n",
              "      <td>-0.092209</td>\n",
              "      <td>-4.469724</td>\n",
              "      <td>1.106810</td>\n",
              "      <td>1.183173</td>\n",
              "      <td>2.460131</td>\n",
              "      <td>1.069661</td>\n",
              "      <td>-0.152188</td>\n",
              "      <td>0.140449</td>\n",
              "      <td>-1.809752</td>\n",
              "      <td>0.704750</td>\n",
              "      <td>1.914246</td>\n",
              "      <td>0.876190</td>\n",
              "      <td>-0.545694</td>\n",
              "      <td>1.587349</td>\n",
              "      <td>0.318975</td>\n",
              "      <td>-0.920872</td>\n",
              "      <td>1.505912</td>\n",
              "      <td>1.410535</td>\n",
              "      <td>-1.391593</td>\n",
              "      <td>0.935539</td>\n",
              "      <td>1.057706</td>\n",
              "      <td>-1.085885</td>\n",
              "      <td>3.004159</td>\n",
              "      <td>-3.468736</td>\n",
              "      <td>-0.088044</td>\n",
              "      <td>-2.187041</td>\n",
              "      <td>...</td>\n",
              "      <td>0.403152</td>\n",
              "      <td>1.718250</td>\n",
              "      <td>1.175799</td>\n",
              "      <td>1.517562</td>\n",
              "      <td>1.238738</td>\n",
              "      <td>1.629143</td>\n",
              "      <td>3.377792</td>\n",
              "      <td>0.035849</td>\n",
              "      <td>-1.063898</td>\n",
              "      <td>-0.106362</td>\n",
              "      <td>3.431478</td>\n",
              "      <td>-1.175779</td>\n",
              "      <td>-1.317961</td>\n",
              "      <td>-1.257704</td>\n",
              "      <td>1.358864</td>\n",
              "      <td>1.078265</td>\n",
              "      <td>0.756954</td>\n",
              "      <td>3.152755</td>\n",
              "      <td>2.109745</td>\n",
              "      <td>-0.360549</td>\n",
              "      <td>2.091900</td>\n",
              "      <td>1.864231</td>\n",
              "      <td>0.541319</td>\n",
              "      <td>4.605249</td>\n",
              "      <td>1.182767</td>\n",
              "      <td>-0.731153</td>\n",
              "      <td>0.436539</td>\n",
              "      <td>-1.251345</td>\n",
              "      <td>0.091795</td>\n",
              "      <td>0.702712</td>\n",
              "      <td>2.126309</td>\n",
              "      <td>-2.004818</td>\n",
              "      <td>-0.539526</td>\n",
              "      <td>2.057134</td>\n",
              "      <td>0.095133</td>\n",
              "      <td>-1.247631</td>\n",
              "      <td>1.805603</td>\n",
              "      <td>-1.157527</td>\n",
              "      <td>2.253980</td>\n",
              "      <td>0.995769</td>\n",
              "    </tr>\n",
              "    <tr>\n",
              "      <th>mujer</th>\n",
              "      <td>-2.077840</td>\n",
              "      <td>-0.550113</td>\n",
              "      <td>-2.241080</td>\n",
              "      <td>-1.130049</td>\n",
              "      <td>0.423485</td>\n",
              "      <td>1.253572</td>\n",
              "      <td>1.823793</td>\n",
              "      <td>1.564688</td>\n",
              "      <td>1.346433</td>\n",
              "      <td>-0.638080</td>\n",
              "      <td>0.718747</td>\n",
              "      <td>2.082812</td>\n",
              "      <td>2.872498</td>\n",
              "      <td>-1.031655</td>\n",
              "      <td>-0.661740</td>\n",
              "      <td>-3.206461</td>\n",
              "      <td>-0.509890</td>\n",
              "      <td>-3.760481</td>\n",
              "      <td>0.001092</td>\n",
              "      <td>-2.144511</td>\n",
              "      <td>3.550493</td>\n",
              "      <td>3.000413</td>\n",
              "      <td>-2.547569</td>\n",
              "      <td>2.514799</td>\n",
              "      <td>1.015022</td>\n",
              "      <td>1.914981</td>\n",
              "      <td>0.779757</td>\n",
              "      <td>1.750895</td>\n",
              "      <td>-1.434963</td>\n",
              "      <td>-0.089325</td>\n",
              "      <td>2.601514</td>\n",
              "      <td>0.885652</td>\n",
              "      <td>-2.148863</td>\n",
              "      <td>1.752633</td>\n",
              "      <td>2.555921</td>\n",
              "      <td>-0.960628</td>\n",
              "      <td>1.482399</td>\n",
              "      <td>-0.523788</td>\n",
              "      <td>-1.101255</td>\n",
              "      <td>-0.505045</td>\n",
              "      <td>...</td>\n",
              "      <td>1.222360</td>\n",
              "      <td>2.416243</td>\n",
              "      <td>-0.703811</td>\n",
              "      <td>-0.109421</td>\n",
              "      <td>0.035652</td>\n",
              "      <td>0.753843</td>\n",
              "      <td>0.990145</td>\n",
              "      <td>-1.427120</td>\n",
              "      <td>-0.407840</td>\n",
              "      <td>-1.218591</td>\n",
              "      <td>-0.482682</td>\n",
              "      <td>0.002427</td>\n",
              "      <td>1.004573</td>\n",
              "      <td>-0.546611</td>\n",
              "      <td>3.627699</td>\n",
              "      <td>2.080340</td>\n",
              "      <td>0.602916</td>\n",
              "      <td>1.247518</td>\n",
              "      <td>1.789270</td>\n",
              "      <td>-1.504276</td>\n",
              "      <td>-0.039075</td>\n",
              "      <td>-2.548123</td>\n",
              "      <td>-0.478504</td>\n",
              "      <td>3.068811</td>\n",
              "      <td>0.713750</td>\n",
              "      <td>1.206726</td>\n",
              "      <td>0.421383</td>\n",
              "      <td>0.431425</td>\n",
              "      <td>-1.676448</td>\n",
              "      <td>0.433260</td>\n",
              "      <td>2.047893</td>\n",
              "      <td>0.802070</td>\n",
              "      <td>1.143705</td>\n",
              "      <td>-2.771217</td>\n",
              "      <td>1.040919</td>\n",
              "      <td>1.405972</td>\n",
              "      <td>0.779694</td>\n",
              "      <td>1.193938</td>\n",
              "      <td>-1.475454</td>\n",
              "      <td>-0.874034</td>\n",
              "    </tr>\n",
              "    <tr>\n",
              "      <th>niño</th>\n",
              "      <td>-0.980197</td>\n",
              "      <td>0.379168</td>\n",
              "      <td>-1.628490</td>\n",
              "      <td>0.740260</td>\n",
              "      <td>0.672754</td>\n",
              "      <td>-1.611383</td>\n",
              "      <td>-1.487341</td>\n",
              "      <td>1.693398</td>\n",
              "      <td>0.300244</td>\n",
              "      <td>0.611260</td>\n",
              "      <td>-1.735255</td>\n",
              "      <td>0.254893</td>\n",
              "      <td>-0.747957</td>\n",
              "      <td>1.091056</td>\n",
              "      <td>-2.102689</td>\n",
              "      <td>-4.413056</td>\n",
              "      <td>0.428943</td>\n",
              "      <td>1.039562</td>\n",
              "      <td>1.646071</td>\n",
              "      <td>1.048418</td>\n",
              "      <td>1.482444</td>\n",
              "      <td>1.643812</td>\n",
              "      <td>-2.762619</td>\n",
              "      <td>0.950580</td>\n",
              "      <td>0.897408</td>\n",
              "      <td>1.653119</td>\n",
              "      <td>-1.238674</td>\n",
              "      <td>1.603271</td>\n",
              "      <td>-2.337970</td>\n",
              "      <td>0.789280</td>\n",
              "      <td>2.167291</td>\n",
              "      <td>-0.994375</td>\n",
              "      <td>-2.532823</td>\n",
              "      <td>0.314926</td>\n",
              "      <td>0.154927</td>\n",
              "      <td>-0.089571</td>\n",
              "      <td>3.712525</td>\n",
              "      <td>-1.085010</td>\n",
              "      <td>-1.043212</td>\n",
              "      <td>-2.828499</td>\n",
              "      <td>...</td>\n",
              "      <td>1.871182</td>\n",
              "      <td>0.851275</td>\n",
              "      <td>1.092486</td>\n",
              "      <td>1.948299</td>\n",
              "      <td>2.359697</td>\n",
              "      <td>-0.117860</td>\n",
              "      <td>2.453972</td>\n",
              "      <td>-0.885612</td>\n",
              "      <td>-0.703617</td>\n",
              "      <td>1.480777</td>\n",
              "      <td>3.442777</td>\n",
              "      <td>0.845041</td>\n",
              "      <td>-1.382100</td>\n",
              "      <td>0.253672</td>\n",
              "      <td>0.558462</td>\n",
              "      <td>2.096420</td>\n",
              "      <td>-0.256446</td>\n",
              "      <td>1.310260</td>\n",
              "      <td>2.912922</td>\n",
              "      <td>1.648818</td>\n",
              "      <td>0.530599</td>\n",
              "      <td>1.488136</td>\n",
              "      <td>-0.625203</td>\n",
              "      <td>2.994253</td>\n",
              "      <td>2.325003</td>\n",
              "      <td>0.646209</td>\n",
              "      <td>2.943862</td>\n",
              "      <td>-1.770269</td>\n",
              "      <td>1.498120</td>\n",
              "      <td>-1.534529</td>\n",
              "      <td>3.418673</td>\n",
              "      <td>-3.246452</td>\n",
              "      <td>-0.482264</td>\n",
              "      <td>1.422405</td>\n",
              "      <td>-0.443792</td>\n",
              "      <td>-2.026980</td>\n",
              "      <td>1.862297</td>\n",
              "      <td>-2.109965</td>\n",
              "      <td>1.405739</td>\n",
              "      <td>0.889196</td>\n",
              "    </tr>\n",
              "    <tr>\n",
              "      <th>niña</th>\n",
              "      <td>-0.785558</td>\n",
              "      <td>1.140642</td>\n",
              "      <td>-2.783046</td>\n",
              "      <td>-0.986584</td>\n",
              "      <td>-0.662401</td>\n",
              "      <td>-0.999821</td>\n",
              "      <td>1.575360</td>\n",
              "      <td>0.772627</td>\n",
              "      <td>0.090723</td>\n",
              "      <td>1.891370</td>\n",
              "      <td>-0.373941</td>\n",
              "      <td>1.491087</td>\n",
              "      <td>2.276384</td>\n",
              "      <td>-2.056633</td>\n",
              "      <td>-2.088986</td>\n",
              "      <td>-2.137943</td>\n",
              "      <td>-1.328212</td>\n",
              "      <td>-1.773335</td>\n",
              "      <td>-0.420989</td>\n",
              "      <td>-1.302265</td>\n",
              "      <td>3.565552</td>\n",
              "      <td>3.168905</td>\n",
              "      <td>-2.650481</td>\n",
              "      <td>2.158140</td>\n",
              "      <td>-0.434004</td>\n",
              "      <td>2.045550</td>\n",
              "      <td>0.113642</td>\n",
              "      <td>2.403959</td>\n",
              "      <td>-3.002270</td>\n",
              "      <td>1.784295</td>\n",
              "      <td>3.801080</td>\n",
              "      <td>-1.343811</td>\n",
              "      <td>-2.056848</td>\n",
              "      <td>1.578986</td>\n",
              "      <td>1.769081</td>\n",
              "      <td>0.114273</td>\n",
              "      <td>0.478200</td>\n",
              "      <td>-0.743785</td>\n",
              "      <td>-1.444750</td>\n",
              "      <td>0.069009</td>\n",
              "      <td>...</td>\n",
              "      <td>1.533874</td>\n",
              "      <td>1.761465</td>\n",
              "      <td>-0.524468</td>\n",
              "      <td>1.577509</td>\n",
              "      <td>1.176407</td>\n",
              "      <td>-0.273637</td>\n",
              "      <td>0.817464</td>\n",
              "      <td>-1.701148</td>\n",
              "      <td>-0.402293</td>\n",
              "      <td>0.466334</td>\n",
              "      <td>0.488580</td>\n",
              "      <td>0.654070</td>\n",
              "      <td>0.913581</td>\n",
              "      <td>-0.542085</td>\n",
              "      <td>1.834533</td>\n",
              "      <td>1.176269</td>\n",
              "      <td>0.620123</td>\n",
              "      <td>0.070635</td>\n",
              "      <td>2.385162</td>\n",
              "      <td>0.248689</td>\n",
              "      <td>0.151588</td>\n",
              "      <td>-1.359016</td>\n",
              "      <td>-1.449648</td>\n",
              "      <td>2.918449</td>\n",
              "      <td>1.254136</td>\n",
              "      <td>0.245280</td>\n",
              "      <td>0.927801</td>\n",
              "      <td>-0.348792</td>\n",
              "      <td>0.362225</td>\n",
              "      <td>-0.539734</td>\n",
              "      <td>2.501076</td>\n",
              "      <td>-1.100758</td>\n",
              "      <td>1.321898</td>\n",
              "      <td>-1.026753</td>\n",
              "      <td>0.476598</td>\n",
              "      <td>-0.970495</td>\n",
              "      <td>2.535088</td>\n",
              "      <td>-0.669446</td>\n",
              "      <td>-1.908800</td>\n",
              "      <td>-0.699129</td>\n",
              "    </tr>\n",
              "    <tr>\n",
              "      <th>anciano</th>\n",
              "      <td>-1.462609</td>\n",
              "      <td>-0.177823</td>\n",
              "      <td>0.412988</td>\n",
              "      <td>0.387187</td>\n",
              "      <td>0.530428</td>\n",
              "      <td>1.525067</td>\n",
              "      <td>-0.157156</td>\n",
              "      <td>1.564358</td>\n",
              "      <td>1.989367</td>\n",
              "      <td>0.003270</td>\n",
              "      <td>-0.914918</td>\n",
              "      <td>0.583195</td>\n",
              "      <td>-0.820515</td>\n",
              "      <td>-0.117726</td>\n",
              "      <td>-0.494654</td>\n",
              "      <td>-2.215802</td>\n",
              "      <td>2.039873</td>\n",
              "      <td>0.462180</td>\n",
              "      <td>1.556737</td>\n",
              "      <td>1.666347</td>\n",
              "      <td>0.652212</td>\n",
              "      <td>0.014893</td>\n",
              "      <td>-1.924016</td>\n",
              "      <td>0.849655</td>\n",
              "      <td>1.690767</td>\n",
              "      <td>1.906965</td>\n",
              "      <td>1.524884</td>\n",
              "      <td>0.641604</td>\n",
              "      <td>-0.015185</td>\n",
              "      <td>-0.884319</td>\n",
              "      <td>0.090098</td>\n",
              "      <td>1.343909</td>\n",
              "      <td>-1.789376</td>\n",
              "      <td>1.778029</td>\n",
              "      <td>1.012090</td>\n",
              "      <td>-0.300560</td>\n",
              "      <td>2.746173</td>\n",
              "      <td>-1.486383</td>\n",
              "      <td>1.138323</td>\n",
              "      <td>-2.795365</td>\n",
              "      <td>...</td>\n",
              "      <td>1.387876</td>\n",
              "      <td>0.522947</td>\n",
              "      <td>1.451987</td>\n",
              "      <td>0.973093</td>\n",
              "      <td>-1.065284</td>\n",
              "      <td>-0.935456</td>\n",
              "      <td>2.507853</td>\n",
              "      <td>1.382716</td>\n",
              "      <td>-0.493742</td>\n",
              "      <td>0.982242</td>\n",
              "      <td>1.580078</td>\n",
              "      <td>-0.514908</td>\n",
              "      <td>-0.497724</td>\n",
              "      <td>-0.716229</td>\n",
              "      <td>2.315726</td>\n",
              "      <td>-0.505803</td>\n",
              "      <td>0.416112</td>\n",
              "      <td>-1.350733</td>\n",
              "      <td>2.506332</td>\n",
              "      <td>-0.414722</td>\n",
              "      <td>0.610488</td>\n",
              "      <td>0.597142</td>\n",
              "      <td>1.830986</td>\n",
              "      <td>2.866012</td>\n",
              "      <td>-0.293419</td>\n",
              "      <td>-1.018079</td>\n",
              "      <td>2.136091</td>\n",
              "      <td>-1.221731</td>\n",
              "      <td>-1.028689</td>\n",
              "      <td>-0.656090</td>\n",
              "      <td>2.125868</td>\n",
              "      <td>-1.997586</td>\n",
              "      <td>-0.604030</td>\n",
              "      <td>0.847122</td>\n",
              "      <td>-0.489761</td>\n",
              "      <td>-0.314335</td>\n",
              "      <td>0.452880</td>\n",
              "      <td>-1.270787</td>\n",
              "      <td>1.894508</td>\n",
              "      <td>1.808899</td>\n",
              "    </tr>\n",
              "    <tr>\n",
              "      <th>anciana</th>\n",
              "      <td>-0.646151</td>\n",
              "      <td>1.120094</td>\n",
              "      <td>0.544747</td>\n",
              "      <td>-0.488459</td>\n",
              "      <td>0.093725</td>\n",
              "      <td>0.525432</td>\n",
              "      <td>1.881704</td>\n",
              "      <td>0.013177</td>\n",
              "      <td>2.159626</td>\n",
              "      <td>0.727379</td>\n",
              "      <td>-0.282706</td>\n",
              "      <td>0.917950</td>\n",
              "      <td>1.455406</td>\n",
              "      <td>-2.025124</td>\n",
              "      <td>-0.600049</td>\n",
              "      <td>-0.846443</td>\n",
              "      <td>-1.283450</td>\n",
              "      <td>-1.617261</td>\n",
              "      <td>-0.361147</td>\n",
              "      <td>-0.791324</td>\n",
              "      <td>1.568528</td>\n",
              "      <td>2.042982</td>\n",
              "      <td>-3.075943</td>\n",
              "      <td>2.241598</td>\n",
              "      <td>0.728596</td>\n",
              "      <td>1.456890</td>\n",
              "      <td>1.487398</td>\n",
              "      <td>1.909941</td>\n",
              "      <td>-0.372851</td>\n",
              "      <td>-0.898279</td>\n",
              "      <td>1.598713</td>\n",
              "      <td>0.998603</td>\n",
              "      <td>-0.555136</td>\n",
              "      <td>2.445731</td>\n",
              "      <td>1.861851</td>\n",
              "      <td>0.022159</td>\n",
              "      <td>-0.304828</td>\n",
              "      <td>-0.741416</td>\n",
              "      <td>-0.583924</td>\n",
              "      <td>0.327520</td>\n",
              "      <td>...</td>\n",
              "      <td>1.122065</td>\n",
              "      <td>1.646250</td>\n",
              "      <td>0.393413</td>\n",
              "      <td>-0.495399</td>\n",
              "      <td>-0.646211</td>\n",
              "      <td>-0.262170</td>\n",
              "      <td>1.252370</td>\n",
              "      <td>-0.681299</td>\n",
              "      <td>0.455864</td>\n",
              "      <td>0.099610</td>\n",
              "      <td>-0.206121</td>\n",
              "      <td>1.050699</td>\n",
              "      <td>1.319936</td>\n",
              "      <td>-1.561374</td>\n",
              "      <td>3.246436</td>\n",
              "      <td>-0.427392</td>\n",
              "      <td>0.933573</td>\n",
              "      <td>-2.291002</td>\n",
              "      <td>2.654166</td>\n",
              "      <td>0.334922</td>\n",
              "      <td>-0.220131</td>\n",
              "      <td>-0.963923</td>\n",
              "      <td>0.510057</td>\n",
              "      <td>0.519275</td>\n",
              "      <td>0.625735</td>\n",
              "      <td>-1.061656</td>\n",
              "      <td>0.143312</td>\n",
              "      <td>-1.077736</td>\n",
              "      <td>-2.205059</td>\n",
              "      <td>0.145751</td>\n",
              "      <td>0.953973</td>\n",
              "      <td>-0.164040</td>\n",
              "      <td>0.683103</td>\n",
              "      <td>-1.110066</td>\n",
              "      <td>0.384911</td>\n",
              "      <td>-0.531991</td>\n",
              "      <td>0.689910</td>\n",
              "      <td>0.052359</td>\n",
              "      <td>-0.433524</td>\n",
              "      <td>0.497133</td>\n",
              "    </tr>\n",
              "  </tbody>\n",
              "</table>\n",
              "<p>6 rows × 400 columns</p>\n",
              "</div>"
            ],
            "text/plain": [
              "              0         1         2    ...       397       398       399\n",
              "hombre  -1.314959 -1.988723 -0.186212  ... -1.157527  2.253980  0.995769\n",
              "mujer   -2.077840 -0.550113 -2.241080  ...  1.193938 -1.475454 -0.874034\n",
              "niño    -0.980197  0.379168 -1.628490  ... -2.109965  1.405739  0.889196\n",
              "niña    -0.785558  1.140642 -2.783046  ... -0.669446 -1.908800 -0.699129\n",
              "anciano -1.462609 -0.177823  0.412988  ... -1.270787  1.894508  1.808899\n",
              "anciana -0.646151  1.120094  0.544747  ...  0.052359 -0.433524  0.497133\n",
              "\n",
              "[6 rows x 400 columns]"
            ]
          },
          "metadata": {
            "tags": []
          },
          "execution_count": 8
        }
      ]
    },
    {
      "cell_type": "markdown",
      "metadata": {
        "id": "UC15Lp5csSOt"
      },
      "source": [
        "## Visualización de vectores"
      ]
    },
    {
      "cell_type": "code",
      "metadata": {
        "colab": {
          "base_uri": "https://localhost:8080/",
          "height": 387
        },
        "id": "cMoPIz8PsAZV",
        "outputId": "a7fa5b0c-9fb1-45b9-8c6d-b3efa57c2453"
      },
      "source": [
        "#Visualización de los vectores de las palabas elegidas\n",
        "fig = plt.figure(figsize = (25, 6))\n",
        "ax = sns.heatmap(X, vmin = -6, vmax = 6,center = 0)"
      ],
      "execution_count": null,
      "outputs": [
        {
          "output_type": "display_data",
          "data": {
            "image/png": "[encoded data removed]",
            "text/plain": [
              "<Figure size 1800x432 with 2 Axes>"
            ]
          },
          "metadata": {
            "tags": [],
            "needs_background": "light"
          }
        }
      ]
    },
    {
      "cell_type": "markdown",
      "metadata": {
        "id": "YhTTzuvbsXPa"
      },
      "source": [
        "##Visualización de vectores en un espacio tridimensional"
      ]
    },
    {
      "cell_type": "code",
      "metadata": {
        "colab": {
          "base_uri": "https://localhost:8080/",
          "height": 542
        },
        "id": "_eVDeDk_unYM",
        "outputId": "f4dba8c0-0a46-444c-d499-aabebdffcd8a"
      },
      "source": [
        "import plotly.express as px\n",
        "from sklearn.decomposition import PCA\n",
        "\n",
        "pca = PCA(n_components=3)\n",
        "components = pd.DataFrame(pca.fit_transform(X), index = X.index)\n",
        "components.reset_index(inplace=True)\n",
        "\n",
        "\n",
        "fig = px.scatter_3d( components, x=0, y=1, z=2, color='index',  \n",
        "                    labels={'0': 'PC 1', '1': 'PC 2', '2': 'PC 3'})\n",
        "fig.show()"
      ],
      "execution_count": null,
      "outputs": [
        {
          "output_type": "display_data",
          "data": {
            "text/html": [
              "<html>\n",
              "<head><meta charset=\"utf-8\" /></head>\n",
              "<body>\n",
              "    <div>\n",
              "            <script src=\"https://cdnjs.cloudflare.com/ajax/libs/mathjax/2.7.5/MathJax.js?config=TeX-AMS-MML_SVG\"></script><script type=\"text/javascript\">if (window.MathJax) {MathJax.Hub.Config({SVG: {font: \"STIX-Web\"}});}</script>\n",
              "                <script type=\"text/javascript\">window.PlotlyConfig = {MathJaxConfig: 'local'};</script>\n",
              "        <script src=\"https://cdn.plot.ly/plotly-latest.min.js\"></script>    \n",
              "            <div id=\"299e6b66-0c3b-4c85-9899-f6e65c6422b6\" class=\"plotly-graph-div\" style=\"height:525px; width:100%;\"></div>\n",
              "            <script type=\"text/javascript\">\n",
              "                \n",
              "                    window.PLOTLYENV=window.PLOTLYENV || {};\n",
              "                    \n",
              "                if (document.getElementById(\"299e6b66-0c3b-4c85-9899-f6e65c6422b6\")) {\n",
              "                    Plotly.newPlot(\n",
              "                        '299e6b66-0c3b-4c85-9899-f6e65c6422b6',\n",
              "                        [{\"hoverlabel\": {\"namelength\": 0}, \"hovertemplate\": \"index=hombre<br>PC 1=%{x}<br>PC 2=%{y}<br>PC 3=%{z}\", \"legendgroup\": \"index=hombre\", \"marker\": {\"color\": \"#636efa\", \"symbol\": \"circle\"}, \"mode\": \"markers\", \"name\": \"index=hombre\", \"scene\": \"scene\", \"showlegend\": true, \"type\": \"scatter3d\", \"x\": [20.039859610749435], \"y\": [-2.1820982295102826], \"z\": [12.075913754434955]}, {\"hoverlabel\": {\"namelength\": 0}, \"hovertemplate\": \"index=mujer<br>PC 1=%{x}<br>PC 2=%{y}<br>PC 3=%{z}\", \"legendgroup\": \"index=mujer\", \"marker\": {\"color\": \"#EF553B\", \"symbol\": \"circle\"}, \"mode\": \"markers\", \"name\": \"index=mujer\", \"scene\": \"scene\", \"showlegend\": true, \"type\": \"scatter3d\", \"x\": [-17.290226883645], \"y\": [-3.1708943114140213], \"z\": [11.97588696789451]}, {\"hoverlabel\": {\"namelength\": 0}, \"hovertemplate\": \"index=ni\\u00f1o<br>PC 1=%{x}<br>PC 2=%{y}<br>PC 3=%{z}\", \"legendgroup\": \"index=ni\\u00f1o\", \"marker\": {\"color\": \"#00cc96\", \"symbol\": \"circle\"}, \"mode\": \"markers\", \"name\": \"index=ni\\u00f1o\", \"scene\": \"scene\", \"showlegend\": true, \"type\": \"scatter3d\", \"x\": [11.74701322864075], \"y\": [14.621678727522005], \"z\": [-4.693490133708076]}, {\"hoverlabel\": {\"namelength\": 0}, \"hovertemplate\": \"index=ni\\u00f1a<br>PC 1=%{x}<br>PC 2=%{y}<br>PC 3=%{z}\", \"legendgroup\": \"index=ni\\u00f1a\", \"marker\": {\"color\": \"#ab63fa\", \"symbol\": \"circle\"}, \"mode\": \"markers\", \"name\": \"index=ni\\u00f1a\", \"scene\": \"scene\", \"showlegend\": true, \"type\": \"scatter3d\", \"x\": [-16.027125678928392], \"y\": [9.715102826114743], \"z\": [-2.6670031562290615]}, {\"hoverlabel\": {\"namelength\": 0}, \"hovertemplate\": \"index=anciano<br>PC 1=%{x}<br>PC 2=%{y}<br>PC 3=%{z}\", \"legendgroup\": \"index=anciano\", \"marker\": {\"color\": \"#FFA15A\", \"symbol\": \"circle\"}, \"mode\": \"markers\", \"name\": \"index=anciano\", \"scene\": \"scene\", \"showlegend\": true, \"type\": \"scatter3d\", \"x\": [12.743519848158842], \"y\": [-10.01890119216693], \"z\": [-8.75351126360863]}, {\"hoverlabel\": {\"namelength\": 0}, \"hovertemplate\": \"index=anciana<br>PC 1=%{x}<br>PC 2=%{y}<br>PC 3=%{z}\", \"legendgroup\": \"index=anciana\", \"marker\": {\"color\": \"#19d3f3\", \"symbol\": \"circle\"}, \"mode\": \"markers\", \"name\": \"index=anciana\", \"scene\": \"scene\", \"showlegend\": true, \"type\": \"scatter3d\", \"x\": [-11.213040124975612], \"y\": [-8.964887820545528], \"z\": [-7.937796168783699]}],\n",
              "                        {\"legend\": {\"tracegroupgap\": 0}, \"margin\": {\"t\": 60}, \"scene\": {\"domain\": {\"x\": [0.0, 1.0], \"y\": [0.0, 1.0]}, \"xaxis\": {\"title\": {\"text\": \"PC 1\"}}, \"yaxis\": {\"title\": {\"text\": \"PC 2\"}}, \"zaxis\": {\"title\": {\"text\": \"PC 3\"}}}, \"template\": {\"data\": {\"bar\": [{\"error_x\": {\"color\": \"#2a3f5f\"}, \"error_y\": {\"color\": \"#2a3f5f\"}, \"marker\": {\"line\": {\"color\": \"#E5ECF6\", \"width\": 0.5}}, \"type\": \"bar\"}], \"barpolar\": [{\"marker\": {\"line\": {\"color\": \"#E5ECF6\", \"width\": 0.5}}, \"type\": \"barpolar\"}], \"carpet\": [{\"aaxis\": {\"endlinecolor\": \"#2a3f5f\", \"gridcolor\": \"white\", \"linecolor\": \"white\", \"minorgridcolor\": \"white\", \"startlinecolor\": \"#2a3f5f\"}, \"baxis\": {\"endlinecolor\": \"#2a3f5f\", \"gridcolor\": \"white\", \"linecolor\": \"white\", \"minorgridcolor\": \"white\", \"startlinecolor\": \"#2a3f5f\"}, \"type\": \"carpet\"}], \"choropleth\": [{\"colorbar\": {\"outlinewidth\": 0, \"ticks\": \"\"}, \"type\": \"choropleth\"}], \"contour\": [{\"colorbar\": {\"outlinewidth\": 0, \"ticks\": \"\"}, \"colorscale\": [[0.0, \"#0d0887\"], [0.1111111111111111, \"#46039f\"], [0.2222222222222222, \"#7201a8\"], [0.3333333333333333, \"#9c179e\"], [0.4444444444444444, \"#bd3786\"], [0.5555555555555556, \"#d8576b\"], [0.6666666666666666, \"#ed7953\"], [0.7777777777777778, \"#fb9f3a\"], [0.8888888888888888, \"#fdca26\"], [1.0, \"#f0f921\"]], \"type\": \"contour\"}], \"contourcarpet\": [{\"colorbar\": {\"outlinewidth\": 0, \"ticks\": \"\"}, \"type\": \"contourcarpet\"}], \"heatmap\": [{\"colorbar\": {\"outlinewidth\": 0, \"ticks\": \"\"}, \"colorscale\": [[0.0, \"#0d0887\"], [0.1111111111111111, \"#46039f\"], [0.2222222222222222, \"#7201a8\"], [0.3333333333333333, \"#9c179e\"], [0.4444444444444444, \"#bd3786\"], [0.5555555555555556, \"#d8576b\"], [0.6666666666666666, \"#ed7953\"], [0.7777777777777778, \"#fb9f3a\"], [0.8888888888888888, \"#fdca26\"], [1.0, \"#f0f921\"]], \"type\": \"heatmap\"}], \"heatmapgl\": [{\"colorbar\": {\"outlinewidth\": 0, \"ticks\": \"\"}, \"colorscale\": [[0.0, \"#0d0887\"], [0.1111111111111111, \"#46039f\"], [0.2222222222222222, \"#7201a8\"], [0.3333333333333333, \"#9c179e\"], [0.4444444444444444, \"#bd3786\"], [0.5555555555555556, \"#d8576b\"], [0.6666666666666666, \"#ed7953\"], [0.7777777777777778, \"#fb9f3a\"], [0.8888888888888888, \"#fdca26\"], [1.0, \"#f0f921\"]], \"type\": \"heatmapgl\"}], \"histogram\": [{\"marker\": {\"colorbar\": {\"outlinewidth\": 0, \"ticks\": \"\"}}, \"type\": \"histogram\"}], \"histogram2d\": [{\"colorbar\": {\"outlinewidth\": 0, \"ticks\": \"\"}, \"colorscale\": [[0.0, \"#0d0887\"], [0.1111111111111111, \"#46039f\"], [0.2222222222222222, \"#7201a8\"], [0.3333333333333333, \"#9c179e\"], [0.4444444444444444, \"#bd3786\"], [0.5555555555555556, \"#d8576b\"], [0.6666666666666666, \"#ed7953\"], [0.7777777777777778, \"#fb9f3a\"], [0.8888888888888888, \"#fdca26\"], [1.0, \"#f0f921\"]], \"type\": \"histogram2d\"}], \"histogram2dcontour\": [{\"colorbar\": {\"outlinewidth\": 0, \"ticks\": \"\"}, \"colorscale\": [[0.0, \"#0d0887\"], [0.1111111111111111, \"#46039f\"], [0.2222222222222222, \"#7201a8\"], [0.3333333333333333, \"#9c179e\"], [0.4444444444444444, \"#bd3786\"], [0.5555555555555556, \"#d8576b\"], [0.6666666666666666, \"#ed7953\"], [0.7777777777777778, \"#fb9f3a\"], [0.8888888888888888, \"#fdca26\"], [1.0, \"#f0f921\"]], \"type\": \"histogram2dcontour\"}], \"mesh3d\": [{\"colorbar\": {\"outlinewidth\": 0, \"ticks\": \"\"}, \"type\": \"mesh3d\"}], \"parcoords\": [{\"line\": {\"colorbar\": {\"outlinewidth\": 0, \"ticks\": \"\"}}, \"type\": \"parcoords\"}], \"pie\": [{\"automargin\": true, \"type\": \"pie\"}], \"scatter\": [{\"marker\": {\"colorbar\": {\"outlinewidth\": 0, \"ticks\": \"\"}}, \"type\": \"scatter\"}], \"scatter3d\": [{\"line\": {\"colorbar\": {\"outlinewidth\": 0, \"ticks\": \"\"}}, \"marker\": {\"colorbar\": {\"outlinewidth\": 0, \"ticks\": \"\"}}, \"type\": \"scatter3d\"}], \"scattercarpet\": [{\"marker\": {\"colorbar\": {\"outlinewidth\": 0, \"ticks\": \"\"}}, \"type\": \"scattercarpet\"}], \"scattergeo\": [{\"marker\": {\"colorbar\": {\"outlinewidth\": 0, \"ticks\": \"\"}}, \"type\": \"scattergeo\"}], \"scattergl\": [{\"marker\": {\"colorbar\": {\"outlinewidth\": 0, \"ticks\": \"\"}}, \"type\": \"scattergl\"}], \"scattermapbox\": [{\"marker\": {\"colorbar\": {\"outlinewidth\": 0, \"ticks\": \"\"}}, \"type\": \"scattermapbox\"}], \"scatterpolar\": [{\"marker\": {\"colorbar\": {\"outlinewidth\": 0, \"ticks\": \"\"}}, \"type\": \"scatterpolar\"}], \"scatterpolargl\": [{\"marker\": {\"colorbar\": {\"outlinewidth\": 0, \"ticks\": \"\"}}, \"type\": \"scatterpolargl\"}], \"scatterternary\": [{\"marker\": {\"colorbar\": {\"outlinewidth\": 0, \"ticks\": \"\"}}, \"type\": \"scatterternary\"}], \"surface\": [{\"colorbar\": {\"outlinewidth\": 0, \"ticks\": \"\"}, \"colorscale\": [[0.0, \"#0d0887\"], [0.1111111111111111, \"#46039f\"], [0.2222222222222222, \"#7201a8\"], [0.3333333333333333, \"#9c179e\"], [0.4444444444444444, \"#bd3786\"], [0.5555555555555556, \"#d8576b\"], [0.6666666666666666, \"#ed7953\"], [0.7777777777777778, \"#fb9f3a\"], [0.8888888888888888, \"#fdca26\"], [1.0, \"#f0f921\"]], \"type\": \"surface\"}], \"table\": [{\"cells\": {\"fill\": {\"color\": \"#EBF0F8\"}, \"line\": {\"color\": \"white\"}}, \"header\": {\"fill\": {\"color\": \"#C8D4E3\"}, \"line\": {\"color\": \"white\"}}, \"type\": \"table\"}]}, \"layout\": {\"annotationdefaults\": {\"arrowcolor\": \"#2a3f5f\", \"arrowhead\": 0, \"arrowwidth\": 1}, \"coloraxis\": {\"colorbar\": {\"outlinewidth\": 0, \"ticks\": \"\"}}, \"colorscale\": {\"diverging\": [[0, \"#8e0152\"], [0.1, \"#c51b7d\"], [0.2, \"#de77ae\"], [0.3, \"#f1b6da\"], [0.4, \"#fde0ef\"], [0.5, \"#f7f7f7\"], [0.6, \"#e6f5d0\"], [0.7, \"#b8e186\"], [0.8, \"#7fbc41\"], [0.9, \"#4d9221\"], [1, \"#276419\"]], \"sequential\": [[0.0, \"#0d0887\"], [0.1111111111111111, \"#46039f\"], [0.2222222222222222, \"#7201a8\"], [0.3333333333333333, \"#9c179e\"], [0.4444444444444444, \"#bd3786\"], [0.5555555555555556, \"#d8576b\"], [0.6666666666666666, \"#ed7953\"], [0.7777777777777778, \"#fb9f3a\"], [0.8888888888888888, \"#fdca26\"], [1.0, \"#f0f921\"]], \"sequentialminus\": [[0.0, \"#0d0887\"], [0.1111111111111111, \"#46039f\"], [0.2222222222222222, \"#7201a8\"], [0.3333333333333333, \"#9c179e\"], [0.4444444444444444, \"#bd3786\"], [0.5555555555555556, \"#d8576b\"], [0.6666666666666666, \"#ed7953\"], [0.7777777777777778, \"#fb9f3a\"], [0.8888888888888888, \"#fdca26\"], [1.0, \"#f0f921\"]]}, \"colorway\": [\"#636efa\", \"#EF553B\", \"#00cc96\", \"#ab63fa\", \"#FFA15A\", \"#19d3f3\", \"#FF6692\", \"#B6E880\", \"#FF97FF\", \"#FECB52\"], \"font\": {\"color\": \"#2a3f5f\"}, \"geo\": {\"bgcolor\": \"white\", \"lakecolor\": \"white\", \"landcolor\": \"#E5ECF6\", \"showlakes\": true, \"showland\": true, \"subunitcolor\": \"white\"}, \"hoverlabel\": {\"align\": \"left\"}, \"hovermode\": \"closest\", \"mapbox\": {\"style\": \"light\"}, \"paper_bgcolor\": \"white\", \"plot_bgcolor\": \"#E5ECF6\", \"polar\": {\"angularaxis\": {\"gridcolor\": \"white\", \"linecolor\": \"white\", \"ticks\": \"\"}, \"bgcolor\": \"#E5ECF6\", \"radialaxis\": {\"gridcolor\": \"white\", \"linecolor\": \"white\", \"ticks\": \"\"}}, \"scene\": {\"xaxis\": {\"backgroundcolor\": \"#E5ECF6\", \"gridcolor\": \"white\", \"gridwidth\": 2, \"linecolor\": \"white\", \"showbackground\": true, \"ticks\": \"\", \"zerolinecolor\": \"white\"}, \"yaxis\": {\"backgroundcolor\": \"#E5ECF6\", \"gridcolor\": \"white\", \"gridwidth\": 2, \"linecolor\": \"white\", \"showbackground\": true, \"ticks\": \"\", \"zerolinecolor\": \"white\"}, \"zaxis\": {\"backgroundcolor\": \"#E5ECF6\", \"gridcolor\": \"white\", \"gridwidth\": 2, \"linecolor\": \"white\", \"showbackground\": true, \"ticks\": \"\", \"zerolinecolor\": \"white\"}}, \"shapedefaults\": {\"line\": {\"color\": \"#2a3f5f\"}}, \"ternary\": {\"aaxis\": {\"gridcolor\": \"white\", \"linecolor\": \"white\", \"ticks\": \"\"}, \"baxis\": {\"gridcolor\": \"white\", \"linecolor\": \"white\", \"ticks\": \"\"}, \"bgcolor\": \"#E5ECF6\", \"caxis\": {\"gridcolor\": \"white\", \"linecolor\": \"white\", \"ticks\": \"\"}}, \"title\": {\"x\": 0.05}, \"xaxis\": {\"automargin\": true, \"gridcolor\": \"white\", \"linecolor\": \"white\", \"ticks\": \"\", \"title\": {\"standoff\": 15}, \"zerolinecolor\": \"white\", \"zerolinewidth\": 2}, \"yaxis\": {\"automargin\": true, \"gridcolor\": \"white\", \"linecolor\": \"white\", \"ticks\": \"\", \"title\": {\"standoff\": 15}, \"zerolinecolor\": \"white\", \"zerolinewidth\": 2}}}},\n",
              "                        {\"responsive\": true}\n",
              "                    ).then(function(){\n",
              "                            \n",
              "var gd = document.getElementById('299e6b66-0c3b-4c85-9899-f6e65c6422b6');\n",
              "var x = new MutationObserver(function (mutations, observer) {{\n",
              "        var display = window.getComputedStyle(gd).display;\n",
              "        if (!display || display === 'none') {{\n",
              "            console.log([gd, 'removed!']);\n",
              "            Plotly.purge(gd);\n",
              "            observer.disconnect();\n",
              "        }}\n",
              "}});\n",
              "\n",
              "// Listen for the removal of the full notebook cells\n",
              "var notebookContainer = gd.closest('#notebook-container');\n",
              "if (notebookContainer) {{\n",
              "    x.observe(notebookContainer, {childList: true});\n",
              "}}\n",
              "\n",
              "// Listen for the clearing of the current output cell\n",
              "var outputEl = gd.closest('.output');\n",
              "if (outputEl) {{\n",
              "    x.observe(outputEl, {childList: true});\n",
              "}}\n",
              "\n",
              "                        })\n",
              "                };\n",
              "                \n",
              "            </script>\n",
              "        </div>\n",
              "</body>\n",
              "</html>"
            ]
          },
          "metadata": {
            "tags": []
          }
        }
      ]
    },
    {
      "cell_type": "markdown",
      "metadata": {
        "id": "S5ot6RltshpT"
      },
      "source": [
        "# Similitud entre vectores\n",
        "[similitud coseno](https://en.wikipedia.org/wiki/Cosine_similarity)"
      ]
    },
    {
      "cell_type": "markdown",
      "source": [
        "## Similitud entre dos palabras"
      ],
      "metadata": {
        "id": "TjVtt4A3vEyy"
      }
    },
    {
      "cell_type": "code",
      "metadata": {
        "id": "n31R_6YVmiHb"
      },
      "source": [
        "def similitud_coseno(a_vector, b_vector):\n",
        "    '''Calcula la similitud coseno entre los vectores a y b'''\n",
        "\n",
        "    numerador = np.dot(a_vector, b_vector)\n",
        "    \n",
        "    a_norm = np.sqrt(np.sum(a_vector**2))  \n",
        "    b_norm = np.sqrt(np.sum(b_vector**2))\n",
        "    \n",
        "    denominador = a_norm * b_norm\n",
        "    \n",
        "    similitud_coseno = numerador / denominador \n",
        "    \n",
        "    return similitud_coseno"
      ],
      "execution_count": null,
      "outputs": []
    },
    {
      "cell_type": "code",
      "metadata": {
        "colab": {
          "base_uri": "https://localhost:8080/"
        },
        "id": "WvRLcCJF5486",
        "outputId": "77f2586d-9177-4d8d-c2f5-204ce93a2364"
      },
      "source": [
        "similitud_coseno(w2v['computadora'], w2v['calculadora'])"
      ],
      "execution_count": null,
      "outputs": [
        {
          "output_type": "execute_result",
          "data": {
            "text/plain": [
              "0.528302"
            ]
          },
          "metadata": {
            "tags": []
          },
          "execution_count": 13
        }
      ]
    },
    {
      "cell_type": "markdown",
      "source": [
        "## Similitud de una palabra con palabras seleccionadas "
      ],
      "metadata": {
        "id": "p4pVaFOXuu8v"
      }
    },
    {
      "cell_type": "code",
      "metadata": {
        "id": "WvGE2f77TdFW"
      },
      "source": [
        "def encuentra_similitudes(palabra, texto):\n",
        "  lista = texto.split()\n",
        "  lista.append(palabra)\n",
        "  vectores = {}\n",
        "  for p in lista:\n",
        "    vectores[p] = w2v[p]\n",
        "  X = pd.DataFrame.from_dict(vectores, orient='index')\n",
        "\n",
        "  pca = PCA(n_components=3)\n",
        "  components = pd.DataFrame(pca.fit_transform(X), index = X.index)\n",
        "  components.reset_index(inplace=True)\n",
        "\n",
        "  fig = px.scatter_3d( \n",
        "        components, x=0, y=1, z=2, color='index',\n",
        "        labels={'0': 'PC 1', '1': 'PC 2', '2': 'PC 3'})\n",
        "  fig.show()\n",
        "\n",
        "  palabra_vec = X.loc[palabra, :]\n",
        "  similitud={}\n",
        "  for p in lista[:-1]:    # todas las palabras excepto la última\n",
        "    p_vec = X.loc[p,:]\n",
        "    similitud[p] = similitud_coseno(palabra_vec, p_vec)\n",
        "  print(pd.Series(similitud).sort_values())\n"
      ],
      "execution_count": null,
      "outputs": []
    },
    {
      "cell_type": "code",
      "metadata": {
        "colab": {
          "base_uri": "https://localhost:8080/",
          "height": 688
        },
        "id": "bmKygsiMV41W",
        "outputId": "2dac9b23-fdc2-46f6-fcae-603ecf0b5542"
      },
      "source": [
        "encuentra_similitudes('perro', 'gato pájaro tiburón libélula lobo mariposa araña ardilla')"
      ],
      "execution_count": null,
      "outputs": [
        {
          "output_type": "display_data",
          "data": {
            "text/html": [
              "<html>\n",
              "<head><meta charset=\"utf-8\" /></head>\n",
              "<body>\n",
              "    <div>\n",
              "            <script src=\"https://cdnjs.cloudflare.com/ajax/libs/mathjax/2.7.5/MathJax.js?config=TeX-AMS-MML_SVG\"></script><script type=\"text/javascript\">if (window.MathJax) {MathJax.Hub.Config({SVG: {font: \"STIX-Web\"}});}</script>\n",
              "                <script type=\"text/javascript\">window.PlotlyConfig = {MathJaxConfig: 'local'};</script>\n",
              "        <script src=\"https://cdn.plot.ly/plotly-latest.min.js\"></script>    \n",
              "            <div id=\"44a1b6ca-5bfd-406a-ba91-d19512a9e84d\" class=\"plotly-graph-div\" style=\"height:525px; width:100%;\"></div>\n",
              "            <script type=\"text/javascript\">\n",
              "                \n",
              "                    window.PLOTLYENV=window.PLOTLYENV || {};\n",
              "                    \n",
              "                if (document.getElementById(\"44a1b6ca-5bfd-406a-ba91-d19512a9e84d\")) {\n",
              "                    Plotly.newPlot(\n",
              "                        '44a1b6ca-5bfd-406a-ba91-d19512a9e84d',\n",
              "                        [{\"hoverlabel\": {\"namelength\": 0}, \"hovertemplate\": \"index=gato<br>PC 1=%{x}<br>PC 2=%{y}<br>PC 3=%{z}\", \"legendgroup\": \"index=gato\", \"marker\": {\"color\": \"#636efa\", \"symbol\": \"circle\"}, \"mode\": \"markers\", \"name\": \"index=gato\", \"scene\": \"scene\", \"showlegend\": true, \"type\": \"scatter3d\", \"x\": [12.551279432010187], \"y\": [-8.350692665518213], \"z\": [-0.8275379949776543]}, {\"hoverlabel\": {\"namelength\": 0}, \"hovertemplate\": \"index=p\\u00e1jaro<br>PC 1=%{x}<br>PC 2=%{y}<br>PC 3=%{z}\", \"legendgroup\": \"index=p\\u00e1jaro\", \"marker\": {\"color\": \"#EF553B\", \"symbol\": \"circle\"}, \"mode\": \"markers\", \"name\": \"index=p\\u00e1jaro\", \"scene\": \"scene\", \"showlegend\": true, \"type\": \"scatter3d\", \"x\": [4.226911765063774], \"y\": [-0.9933578826790679], \"z\": [14.999748692131936]}, {\"hoverlabel\": {\"namelength\": 0}, \"hovertemplate\": \"index=tibur\\u00f3n<br>PC 1=%{x}<br>PC 2=%{y}<br>PC 3=%{z}\", \"legendgroup\": \"index=tibur\\u00f3n\", \"marker\": {\"color\": \"#00cc96\", \"symbol\": \"circle\"}, \"mode\": \"markers\", \"name\": \"index=tibur\\u00f3n\", \"scene\": \"scene\", \"showlegend\": true, \"type\": \"scatter3d\", \"x\": [6.317056022984296], \"y\": [13.067224488265378], \"z\": [-0.43626905252293247]}, {\"hoverlabel\": {\"namelength\": 0}, \"hovertemplate\": \"index=lib\\u00e9lula<br>PC 1=%{x}<br>PC 2=%{y}<br>PC 3=%{z}\", \"legendgroup\": \"index=lib\\u00e9lula\", \"marker\": {\"color\": \"#ab63fa\", \"symbol\": \"circle\"}, \"mode\": \"markers\", \"name\": \"index=lib\\u00e9lula\", \"scene\": \"scene\", \"showlegend\": true, \"type\": \"scatter3d\", \"x\": [-13.29125883651403], \"y\": [0.7911161833915961], \"z\": [2.5062171874236387]}, {\"hoverlabel\": {\"namelength\": 0}, \"hovertemplate\": \"index=lobo<br>PC 1=%{x}<br>PC 2=%{y}<br>PC 3=%{z}\", \"legendgroup\": \"index=lobo\", \"marker\": {\"color\": \"#FFA15A\", \"symbol\": \"circle\"}, \"mode\": \"markers\", \"name\": \"index=lobo\", \"scene\": \"scene\", \"showlegend\": true, \"type\": \"scatter3d\", \"x\": [11.526559607616907], \"y\": [9.0515762775647], \"z\": [-4.356878766917637]}, {\"hoverlabel\": {\"namelength\": 0}, \"hovertemplate\": \"index=mariposa<br>PC 1=%{x}<br>PC 2=%{y}<br>PC 3=%{z}\", \"legendgroup\": \"index=mariposa\", \"marker\": {\"color\": \"#19d3f3\", \"symbol\": \"circle\"}, \"mode\": \"markers\", \"name\": \"index=mariposa\", \"scene\": \"scene\", \"showlegend\": true, \"type\": \"scatter3d\", \"x\": [-16.63837821822818], \"y\": [-0.7831756741444864], \"z\": [5.018577210556361]}, {\"hoverlabel\": {\"namelength\": 0}, \"hovertemplate\": \"index=ara\\u00f1a<br>PC 1=%{x}<br>PC 2=%{y}<br>PC 3=%{z}\", \"legendgroup\": \"index=ara\\u00f1a\", \"marker\": {\"color\": \"#FF6692\", \"symbol\": \"circle\"}, \"mode\": \"markers\", \"name\": \"index=ara\\u00f1a\", \"scene\": \"scene\", \"showlegend\": true, \"type\": \"scatter3d\", \"x\": [-13.748380873638068], \"y\": [0.7154018981066503], \"z\": [-7.701646863458824]}, {\"hoverlabel\": {\"namelength\": 0}, \"hovertemplate\": \"index=ardilla<br>PC 1=%{x}<br>PC 2=%{y}<br>PC 3=%{z}\", \"legendgroup\": \"index=ardilla\", \"marker\": {\"color\": \"#B6E880\", \"symbol\": \"circle\"}, \"mode\": \"markers\", \"name\": \"index=ardilla\", \"scene\": \"scene\", \"showlegend\": true, \"type\": \"scatter3d\", \"x\": [-8.232340369072586], \"y\": [-6.3795981476979176], \"z\": [-6.660397580334465]}, {\"hoverlabel\": {\"namelength\": 0}, \"hovertemplate\": \"index=perro<br>PC 1=%{x}<br>PC 2=%{y}<br>PC 3=%{z}\", \"legendgroup\": \"index=perro\", \"marker\": {\"color\": \"#FF97FF\", \"symbol\": \"circle\"}, \"mode\": \"markers\", \"name\": \"index=perro\", \"scene\": \"scene\", \"showlegend\": true, \"type\": \"scatter3d\", \"x\": [17.288551469777694], \"y\": [-7.118494477288629], \"z\": [-2.54181283190042]}],\n",
              "                        {\"legend\": {\"tracegroupgap\": 0}, \"margin\": {\"t\": 60}, \"scene\": {\"domain\": {\"x\": [0.0, 1.0], \"y\": [0.0, 1.0]}, \"xaxis\": {\"title\": {\"text\": \"PC 1\"}}, \"yaxis\": {\"title\": {\"text\": \"PC 2\"}}, \"zaxis\": {\"title\": {\"text\": \"PC 3\"}}}, \"template\": {\"data\": {\"bar\": [{\"error_x\": {\"color\": \"#2a3f5f\"}, \"error_y\": {\"color\": \"#2a3f5f\"}, \"marker\": {\"line\": {\"color\": \"#E5ECF6\", \"width\": 0.5}}, \"type\": \"bar\"}], \"barpolar\": [{\"marker\": {\"line\": {\"color\": \"#E5ECF6\", \"width\": 0.5}}, \"type\": \"barpolar\"}], \"carpet\": [{\"aaxis\": {\"endlinecolor\": \"#2a3f5f\", \"gridcolor\": \"white\", \"linecolor\": \"white\", \"minorgridcolor\": \"white\", \"startlinecolor\": \"#2a3f5f\"}, \"baxis\": {\"endlinecolor\": \"#2a3f5f\", \"gridcolor\": \"white\", \"linecolor\": \"white\", \"minorgridcolor\": \"white\", \"startlinecolor\": \"#2a3f5f\"}, \"type\": \"carpet\"}], \"choropleth\": [{\"colorbar\": {\"outlinewidth\": 0, \"ticks\": \"\"}, \"type\": \"choropleth\"}], \"contour\": [{\"colorbar\": {\"outlinewidth\": 0, \"ticks\": \"\"}, \"colorscale\": [[0.0, \"#0d0887\"], [0.1111111111111111, \"#46039f\"], [0.2222222222222222, \"#7201a8\"], [0.3333333333333333, \"#9c179e\"], [0.4444444444444444, \"#bd3786\"], [0.5555555555555556, \"#d8576b\"], [0.6666666666666666, \"#ed7953\"], [0.7777777777777778, \"#fb9f3a\"], [0.8888888888888888, \"#fdca26\"], [1.0, \"#f0f921\"]], \"type\": \"contour\"}], \"contourcarpet\": [{\"colorbar\": {\"outlinewidth\": 0, \"ticks\": \"\"}, \"type\": \"contourcarpet\"}], \"heatmap\": [{\"colorbar\": {\"outlinewidth\": 0, \"ticks\": \"\"}, \"colorscale\": [[0.0, \"#0d0887\"], [0.1111111111111111, \"#46039f\"], [0.2222222222222222, \"#7201a8\"], [0.3333333333333333, \"#9c179e\"], [0.4444444444444444, \"#bd3786\"], [0.5555555555555556, \"#d8576b\"], [0.6666666666666666, \"#ed7953\"], [0.7777777777777778, \"#fb9f3a\"], [0.8888888888888888, \"#fdca26\"], [1.0, \"#f0f921\"]], \"type\": \"heatmap\"}], \"heatmapgl\": [{\"colorbar\": {\"outlinewidth\": 0, \"ticks\": \"\"}, \"colorscale\": [[0.0, \"#0d0887\"], [0.1111111111111111, \"#46039f\"], [0.2222222222222222, \"#7201a8\"], [0.3333333333333333, \"#9c179e\"], [0.4444444444444444, \"#bd3786\"], [0.5555555555555556, \"#d8576b\"], [0.6666666666666666, \"#ed7953\"], [0.7777777777777778, \"#fb9f3a\"], [0.8888888888888888, \"#fdca26\"], [1.0, \"#f0f921\"]], \"type\": \"heatmapgl\"}], \"histogram\": [{\"marker\": {\"colorbar\": {\"outlinewidth\": 0, \"ticks\": \"\"}}, \"type\": \"histogram\"}], \"histogram2d\": [{\"colorbar\": {\"outlinewidth\": 0, \"ticks\": \"\"}, \"colorscale\": [[0.0, \"#0d0887\"], [0.1111111111111111, \"#46039f\"], [0.2222222222222222, \"#7201a8\"], [0.3333333333333333, \"#9c179e\"], [0.4444444444444444, \"#bd3786\"], [0.5555555555555556, \"#d8576b\"], [0.6666666666666666, \"#ed7953\"], [0.7777777777777778, \"#fb9f3a\"], [0.8888888888888888, \"#fdca26\"], [1.0, \"#f0f921\"]], \"type\": \"histogram2d\"}], \"histogram2dcontour\": [{\"colorbar\": {\"outlinewidth\": 0, \"ticks\": \"\"}, \"colorscale\": [[0.0, \"#0d0887\"], [0.1111111111111111, \"#46039f\"], [0.2222222222222222, \"#7201a8\"], [0.3333333333333333, \"#9c179e\"], [0.4444444444444444, \"#bd3786\"], [0.5555555555555556, \"#d8576b\"], [0.6666666666666666, \"#ed7953\"], [0.7777777777777778, \"#fb9f3a\"], [0.8888888888888888, \"#fdca26\"], [1.0, \"#f0f921\"]], \"type\": \"histogram2dcontour\"}], \"mesh3d\": [{\"colorbar\": {\"outlinewidth\": 0, \"ticks\": \"\"}, \"type\": \"mesh3d\"}], \"parcoords\": [{\"line\": {\"colorbar\": {\"outlinewidth\": 0, \"ticks\": \"\"}}, \"type\": \"parcoords\"}], \"pie\": [{\"automargin\": true, \"type\": \"pie\"}], \"scatter\": [{\"marker\": {\"colorbar\": {\"outlinewidth\": 0, \"ticks\": \"\"}}, \"type\": \"scatter\"}], \"scatter3d\": [{\"line\": {\"colorbar\": {\"outlinewidth\": 0, \"ticks\": \"\"}}, \"marker\": {\"colorbar\": {\"outlinewidth\": 0, \"ticks\": \"\"}}, \"type\": \"scatter3d\"}], \"scattercarpet\": [{\"marker\": {\"colorbar\": {\"outlinewidth\": 0, \"ticks\": \"\"}}, \"type\": \"scattercarpet\"}], \"scattergeo\": [{\"marker\": {\"colorbar\": {\"outlinewidth\": 0, \"ticks\": \"\"}}, \"type\": \"scattergeo\"}], \"scattergl\": [{\"marker\": {\"colorbar\": {\"outlinewidth\": 0, \"ticks\": \"\"}}, \"type\": \"scattergl\"}], \"scattermapbox\": [{\"marker\": {\"colorbar\": {\"outlinewidth\": 0, \"ticks\": \"\"}}, \"type\": \"scattermapbox\"}], \"scatterpolar\": [{\"marker\": {\"colorbar\": {\"outlinewidth\": 0, \"ticks\": \"\"}}, \"type\": \"scatterpolar\"}], \"scatterpolargl\": [{\"marker\": {\"colorbar\": {\"outlinewidth\": 0, \"ticks\": \"\"}}, \"type\": \"scatterpolargl\"}], \"scatterternary\": [{\"marker\": {\"colorbar\": {\"outlinewidth\": 0, \"ticks\": \"\"}}, \"type\": \"scatterternary\"}], \"surface\": [{\"colorbar\": {\"outlinewidth\": 0, \"ticks\": \"\"}, \"colorscale\": [[0.0, \"#0d0887\"], [0.1111111111111111, \"#46039f\"], [0.2222222222222222, \"#7201a8\"], [0.3333333333333333, \"#9c179e\"], [0.4444444444444444, \"#bd3786\"], [0.5555555555555556, \"#d8576b\"], [0.6666666666666666, \"#ed7953\"], [0.7777777777777778, \"#fb9f3a\"], [0.8888888888888888, \"#fdca26\"], [1.0, \"#f0f921\"]], \"type\": \"surface\"}], \"table\": [{\"cells\": {\"fill\": {\"color\": \"#EBF0F8\"}, \"line\": {\"color\": \"white\"}}, \"header\": {\"fill\": {\"color\": \"#C8D4E3\"}, \"line\": {\"color\": \"white\"}}, \"type\": \"table\"}]}, \"layout\": {\"annotationdefaults\": {\"arrowcolor\": \"#2a3f5f\", \"arrowhead\": 0, \"arrowwidth\": 1}, \"coloraxis\": {\"colorbar\": {\"outlinewidth\": 0, \"ticks\": \"\"}}, \"colorscale\": {\"diverging\": [[0, \"#8e0152\"], [0.1, \"#c51b7d\"], [0.2, \"#de77ae\"], [0.3, \"#f1b6da\"], [0.4, \"#fde0ef\"], [0.5, \"#f7f7f7\"], [0.6, \"#e6f5d0\"], [0.7, \"#b8e186\"], [0.8, \"#7fbc41\"], [0.9, \"#4d9221\"], [1, \"#276419\"]], \"sequential\": [[0.0, \"#0d0887\"], [0.1111111111111111, \"#46039f\"], [0.2222222222222222, \"#7201a8\"], [0.3333333333333333, \"#9c179e\"], [0.4444444444444444, \"#bd3786\"], [0.5555555555555556, \"#d8576b\"], [0.6666666666666666, \"#ed7953\"], [0.7777777777777778, \"#fb9f3a\"], [0.8888888888888888, \"#fdca26\"], [1.0, \"#f0f921\"]], \"sequentialminus\": [[0.0, \"#0d0887\"], [0.1111111111111111, \"#46039f\"], [0.2222222222222222, \"#7201a8\"], [0.3333333333333333, \"#9c179e\"], [0.4444444444444444, \"#bd3786\"], [0.5555555555555556, \"#d8576b\"], [0.6666666666666666, \"#ed7953\"], [0.7777777777777778, \"#fb9f3a\"], [0.8888888888888888, \"#fdca26\"], [1.0, \"#f0f921\"]]}, \"colorway\": [\"#636efa\", \"#EF553B\", \"#00cc96\", \"#ab63fa\", \"#FFA15A\", \"#19d3f3\", \"#FF6692\", \"#B6E880\", \"#FF97FF\", \"#FECB52\"], \"font\": {\"color\": \"#2a3f5f\"}, \"geo\": {\"bgcolor\": \"white\", \"lakecolor\": \"white\", \"landcolor\": \"#E5ECF6\", \"showlakes\": true, \"showland\": true, \"subunitcolor\": \"white\"}, \"hoverlabel\": {\"align\": \"left\"}, \"hovermode\": \"closest\", \"mapbox\": {\"style\": \"light\"}, \"paper_bgcolor\": \"white\", \"plot_bgcolor\": \"#E5ECF6\", \"polar\": {\"angularaxis\": {\"gridcolor\": \"white\", \"linecolor\": \"white\", \"ticks\": \"\"}, \"bgcolor\": \"#E5ECF6\", \"radialaxis\": {\"gridcolor\": \"white\", \"linecolor\": \"white\", \"ticks\": \"\"}}, \"scene\": {\"xaxis\": {\"backgroundcolor\": \"#E5ECF6\", \"gridcolor\": \"white\", \"gridwidth\": 2, \"linecolor\": \"white\", \"showbackground\": true, \"ticks\": \"\", \"zerolinecolor\": \"white\"}, \"yaxis\": {\"backgroundcolor\": \"#E5ECF6\", \"gridcolor\": \"white\", \"gridwidth\": 2, \"linecolor\": \"white\", \"showbackground\": true, \"ticks\": \"\", \"zerolinecolor\": \"white\"}, \"zaxis\": {\"backgroundcolor\": \"#E5ECF6\", \"gridcolor\": \"white\", \"gridwidth\": 2, \"linecolor\": \"white\", \"showbackground\": true, \"ticks\": \"\", \"zerolinecolor\": \"white\"}}, \"shapedefaults\": {\"line\": {\"color\": \"#2a3f5f\"}}, \"ternary\": {\"aaxis\": {\"gridcolor\": \"white\", \"linecolor\": \"white\", \"ticks\": \"\"}, \"baxis\": {\"gridcolor\": \"white\", \"linecolor\": \"white\", \"ticks\": \"\"}, \"bgcolor\": \"#E5ECF6\", \"caxis\": {\"gridcolor\": \"white\", \"linecolor\": \"white\", \"ticks\": \"\"}}, \"title\": {\"x\": 0.05}, \"xaxis\": {\"automargin\": true, \"gridcolor\": \"white\", \"linecolor\": \"white\", \"ticks\": \"\", \"title\": {\"standoff\": 15}, \"zerolinecolor\": \"white\", \"zerolinewidth\": 2}, \"yaxis\": {\"automargin\": true, \"gridcolor\": \"white\", \"linecolor\": \"white\", \"ticks\": \"\", \"title\": {\"standoff\": 15}, \"zerolinecolor\": \"white\", \"zerolinewidth\": 2}}}},\n",
              "                        {\"responsive\": true}\n",
              "                    ).then(function(){\n",
              "                            \n",
              "var gd = document.getElementById('44a1b6ca-5bfd-406a-ba91-d19512a9e84d');\n",
              "var x = new MutationObserver(function (mutations, observer) {{\n",
              "        var display = window.getComputedStyle(gd).display;\n",
              "        if (!display || display === 'none') {{\n",
              "            console.log([gd, 'removed!']);\n",
              "            Plotly.purge(gd);\n",
              "            observer.disconnect();\n",
              "        }}\n",
              "}});\n",
              "\n",
              "// Listen for the removal of the full notebook cells\n",
              "var notebookContainer = gd.closest('#notebook-container');\n",
              "if (notebookContainer) {{\n",
              "    x.observe(notebookContainer, {childList: true});\n",
              "}}\n",
              "\n",
              "// Listen for the clearing of the current output cell\n",
              "var outputEl = gd.closest('.output');\n",
              "if (outputEl) {{\n",
              "    x.observe(outputEl, {childList: true});\n",
              "}}\n",
              "\n",
              "                        })\n",
              "                };\n",
              "                \n",
              "            </script>\n",
              "        </div>\n",
              "</body>\n",
              "</html>"
            ]
          },
          "metadata": {
            "tags": []
          }
        },
        {
          "output_type": "stream",
          "text": [
            "mariposa    0.172968\n",
            "libélula    0.180578\n",
            "araña       0.242797\n",
            "ardilla     0.387270\n",
            "tiburón     0.566994\n",
            "pájaro      0.619912\n",
            "lobo        0.683267\n",
            "gato        0.852810\n",
            "dtype: float64\n"
          ],
          "name": "stdout"
        }
      ]
    },
    {
      "cell_type": "markdown",
      "source": [
        "## Seleccionar la palabra con mayor similitud"
      ],
      "metadata": {
        "id": "KGhV08T_vRtI"
      }
    },
    {
      "cell_type": "code",
      "metadata": {
        "id": "cN7ODMs9xTap"
      },
      "source": [
        "def encuentra_palabra(a, b, c):\n",
        "    a, b, c = a.lower(), b.lower(), c.lower()\n",
        "    a_vector, b_vector, c_vector = w2v[a], w2v[b], w2v[c]\n",
        "\n",
        "    max_similitud = -1000 #la inicializamos con una similaridad alejada\n",
        "    mas_parecida = None\n",
        "    \n",
        "    for palabra in vocabulario:\n",
        "        if palabra in [a, b, c]:\n",
        "            continue\n",
        "            \n",
        "        sim_coseno = similitud_coseno(np.subtract(b_vector, a_vector), np.subtract(dic_word2vec[palabra], c_vector))\n",
        "        \n",
        "        if sim_coseno > max_similitud:\n",
        "            max_similitud = sim_coseno\n",
        "            mas_parecida = palabra\n",
        "            \n",
        "    return mas_parecida, sim_coseno"
      ],
      "execution_count": null,
      "outputs": []
    },
    {
      "cell_type": "code",
      "metadata": {
        "colab": {
          "base_uri": "https://localhost:8080/"
        },
        "id": "pxggufs8_Pbo",
        "outputId": "e5e88cde-cfc8-483b-86df-8342a41ce46c"
      },
      "source": [
        "%time encuentra_palabra('hombre', 'rey', 'mujer')"
      ],
      "execution_count": null,
      "outputs": [
        {
          "output_type": "stream",
          "text": [
            "CPU times: user 1min 20s, sys: 1.71 s, total: 1min 22s\n",
            "Wall time: 1min 20s\n"
          ],
          "name": "stdout"
        },
        {
          "output_type": "execute_result",
          "data": {
            "text/plain": [
              "('reina', 0.20591584)"
            ]
          },
          "metadata": {
            "tags": []
          },
          "execution_count": 29
        }
      ]
    },
    {
      "cell_type": "code",
      "metadata": {
        "colab": {
          "base_uri": "https://localhost:8080/"
        },
        "id": "Qa2F2eQNUkSx",
        "outputId": "0cca4af3-f4b1-49d0-ffb0-5ada4b233a36"
      },
      "source": [
        "%time w2v.most_similar(positive=['rey','mujer'],negative=['hombre'])"
      ],
      "execution_count": null,
      "outputs": [
        {
          "output_type": "stream",
          "text": [
            "CPU times: user 507 ms, sys: 45.1 ms, total: 552 ms\n",
            "Wall time: 315 ms\n"
          ],
          "name": "stdout"
        },
        {
          "output_type": "execute_result",
          "data": {
            "text/plain": [
              "[('reina', 0.7011107802391052),\n",
              " ('princesa', 0.6539173126220703),\n",
              " ('emperatriz', 0.6132392883300781),\n",
              " ('esposa', 0.5980263948440552),\n",
              " ('doncella', 0.596245527267456),\n",
              " ('dama', 0.5885013341903687),\n",
              " ('infanta', 0.5754831433296204),\n",
              " ('concubina', 0.5528373122215271),\n",
              " ('hija', 0.5507358312606812),\n",
              " ('viuda', 0.538551390171051)]"
            ]
          },
          "metadata": {
            "tags": []
          },
          "execution_count": 26
        }
      ]
    },
    {
      "cell_type": "code",
      "metadata": {
        "colab": {
          "base_uri": "https://localhost:8080/"
        },
        "id": "QGqMPLTIxkIe",
        "outputId": "f5de46e0-c616-4641-c578-8b11cbcf956f"
      },
      "source": [
        "%time w2v.most_similar(positive=['día','blanco'],negative=['noche'])"
      ],
      "execution_count": null,
      "outputs": [
        {
          "output_type": "stream",
          "text": [
            "CPU times: user 3.13 s, sys: 4.49 s, total: 7.62 s\n",
            "Wall time: 7.42 s\n"
          ],
          "name": "stdout"
        },
        {
          "output_type": "execute_result",
          "data": {
            "text/plain": [
              "[('negro', 0.5269008874893188),\n",
              " ('amarillo', 0.4956654906272888),\n",
              " ('blanco…', 0.49556422233581543),\n",
              " ('color', 0.4882056713104248),\n",
              " ('rojo', 0.4875211715698242),\n",
              " ('brochazo', 0.46383136510849),\n",
              " ('verde', 0.445975661277771),\n",
              " ('azul', 0.44447028636932373),\n",
              " ('dorado', 0.43204599618911743),\n",
              " ('lacito', 0.4297415316104889)]"
            ]
          },
          "metadata": {
            "tags": []
          },
          "execution_count": 18
        }
      ]
    },
    {
      "cell_type": "code",
      "metadata": {
        "colab": {
          "base_uri": "https://localhost:8080/"
        },
        "id": "yaRjrdx-Vqei",
        "outputId": "a1df867c-8b94-4eee-9272-3004e82483fc"
      },
      "source": [
        "%time w2v.most_similar(positive=['francia','tokio'],negative=['paris'])"
      ],
      "execution_count": null,
      "outputs": [
        {
          "output_type": "stream",
          "text": [
            "CPU times: user 509 ms, sys: 36.6 ms, total: 545 ms\n",
            "Wall time: 290 ms\n"
          ],
          "name": "stdout"
        },
        {
          "output_type": "execute_result",
          "data": {
            "text/plain": [
              "[('japón', 0.700680136680603),\n",
              " ('alemania', 0.6910410523414612),\n",
              " ('rusia', 0.6278168559074402),\n",
              " ('italia', 0.6217342615127563),\n",
              " ('españa', 0.6049107313156128),\n",
              " ('inglaterra', 0.5944952964782715),\n",
              " ('europa', 0.5936854481697083),\n",
              " ('china', 0.5927093625068665),\n",
              " ('polonia', 0.5785572528839111),\n",
              " ('moscú', 0.5745718479156494)]"
            ]
          },
          "metadata": {
            "tags": []
          },
          "execution_count": 27
        }
      ]
    },
    {
      "cell_type": "code",
      "metadata": {
        "id": "e34M9bL4tyLK"
      },
      "source": [
        "def encuentra_palabras_parecidas(palabra, n):\n",
        "    palabra = palabra.lower()\n",
        "    palabra_vector = dic_word2vec[palabra]\n",
        "    \n",
        "    max_similitud = -1000 #la inicializamos con una similaridad alejada\n",
        "    mas_parecida = None\n",
        "    \n",
        "    similaridad ={}\n",
        "    for p in vocabulario:\n",
        "        if p is palabra:\n",
        "            continue\n",
        "            \n",
        "        similaridad[p] = similitud_coseno(palabra_vector,dic_word2vec[p])\n",
        "        \n",
        "    similaridad_ordenada = {k:v for k,v in sorted(similaridad.items(),\n",
        "                                                  key=lambda x: x[1],\n",
        "                                                 reverse=True)}\n",
        "    lista_palabras = list(similaridad_ordenada.keys())\n",
        "            \n",
        "    return lista_palabras[0:n]\n"
      ],
      "execution_count": null,
      "outputs": []
    },
    {
      "cell_type": "code",
      "metadata": {
        "colab": {
          "base_uri": "https://localhost:8080/"
        },
        "id": "yuoZakynx_kD",
        "outputId": "1b5fa846-9749-480e-e4f5-cb665a698e48"
      },
      "source": [
        "%time encuentra_palabras_parecidas('gato',15)"
      ],
      "execution_count": null,
      "outputs": [
        {
          "output_type": "stream",
          "text": [
            "CPU times: user 1min 13s, sys: 1.86 s, total: 1min 15s\n",
            "Wall time: 1min 13s\n"
          ],
          "name": "stdout"
        },
        {
          "output_type": "execute_result",
          "data": {
            "text/plain": [
              "['gato',\n",
              " 'perro',\n",
              " 'gatito',\n",
              " 'conejo',\n",
              " 'ratón',\n",
              " 'cachorro',\n",
              " 'perrito',\n",
              " 'zorro',\n",
              " 'oso',\n",
              " 'animalito',\n",
              " 'tigre',\n",
              " 'lagarto',\n",
              " 'mapache',\n",
              " 'perrillo',\n",
              " 'animal']"
            ]
          },
          "metadata": {
            "tags": []
          },
          "execution_count": 62
        }
      ]
    },
    {
      "cell_type": "code",
      "metadata": {
        "colab": {
          "base_uri": "https://localhost:8080/"
        },
        "id": "etxHh7RnSx9C",
        "outputId": "4864b346-3a73-4e46-ad34-4a38760b977d"
      },
      "source": [
        "%time w2v.most_similar('gato')"
      ],
      "execution_count": null,
      "outputs": [
        {
          "output_type": "stream",
          "text": [
            "CPU times: user 3.65 s, sys: 4.77 s, total: 8.42 s\n",
            "Wall time: 1min 40s\n"
          ],
          "name": "stdout"
        },
        {
          "output_type": "execute_result",
          "data": {
            "text/plain": [
              "[('perro', 0.8528096675872803),\n",
              " ('gatito', 0.81466144323349),\n",
              " ('conejo', 0.800269603729248),\n",
              " ('ratón', 0.7750607132911682),\n",
              " ('cachorro', 0.7548332214355469),\n",
              " ('perrito', 0.7415482401847839),\n",
              " ('zorro', 0.7346031665802002),\n",
              " ('oso', 0.7332919836044312),\n",
              " ('animalito', 0.7132523655891418),\n",
              " ('tigre', 0.7066872119903564)]"
            ]
          },
          "metadata": {
            "tags": []
          },
          "execution_count": 4
        }
      ]
    },
    {
      "cell_type": "markdown",
      "metadata": {
        "id": "Jper2gt6qy7J"
      },
      "source": [
        "# Recursos\n",
        "\n",
        "1. Almeida A. aitoralmeida/spanish_word2vec [Internet]. 2021 [citado 4 de mayo de 2021]. Disponible en: https://github.com/aitoralmeida/spanish_word2vec\n",
        "2. Ganesan K. Easily Access Pre-trained Word Embeddings with Gensim [Internet]. Kavita Ganesan, Ph.D. 2019 [citado 4 de mayo de 2021]. Disponible en: https://kavita-ganesan.com/easily-access-pre-trained-word-embeddings-with-gensim/\n",
        "3. Picture DS Nikhil Thorat, Charles Nicholson, Big. Embedding projector - visualization of high-dimensional data [Internet]. [citado 4 de mayo de 2021]. Disponible en: http://projector.tensorflow.org\n",
        "4. Python | Word Embedding using Word2Vec [Internet]. GeeksforGeeks. 2018 [citado 4 de mayo de 2021]. Disponible en: https://www.geeksforgeeks.org/python-word-embedding-using-word2vec/\n",
        "5. Alammar J. The Illustrated Word2vec [Internet]. [citado 4 de mayo de 2021]. Disponible en: http://jalammar.github.io/illustrated-word2vec/\n",
        "([traduccido al español](https://tacosdedatos.com/word-to-vec-ilustrado))\n",
        "\n"
      ]
    }
  ]
}