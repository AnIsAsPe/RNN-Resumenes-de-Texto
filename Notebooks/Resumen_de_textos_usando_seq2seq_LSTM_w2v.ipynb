{
  "nbformat": 4,
  "nbformat_minor": 0,
  "metadata": {
    "colab": {
      "name": "Resumen de  textos usando seq2seq_LSTM_w2v.ipynb",
      "provenance": [],
      "collapsed_sections": [],
      "toc_visible": true,
      "mount_file_id": "https://github.com/AnIsAsPe/RNN-Resumenes-de-Texto/blob/main/Notebooks/Resumen_de_textos_usando_seq2seq_LSTM_w2v.ipynb",
      "authorship_tag": "ABX9TyPpJnDDUvkKimVyRhTRKidN",
      "include_colab_link": true
    },
    "kernelspec": {
      "display_name": "Python 3",
      "name": "python3"
    }
  },
  "cells": [
    {
      "cell_type": "markdown",
      "metadata": {
        "id": "view-in-github",
        "colab_type": "text"
      },
      "source": [
        "<a href=\"https://colab.research.google.com/github/AnIsAsPe/RNN-Resumenes-de-Texto/blob/main/Notebooks/Resumen_de_textos_usando_seq2seq_LSTM_w2v.ipynb\" target=\"_parent\"><img src=\"https://colab.research.google.com/assets/colab-badge.svg\" alt=\"Open In Colab\"/></a>"
      ]
    },
    {
      "cell_type": "markdown",
      "metadata": {
        "id": "6LQFoeNUuQb9"
      },
      "source": [
        "# Cargar bibliotecas"
      ]
    },
    {
      "cell_type": "code",
      "metadata": {
        "colab": {
          "base_uri": "https://localhost:8080/"
        },
        "id": "ZQRhwth-WM5K",
        "outputId": "e1acc3b2-bc9b-4934-d43c-63d1d9417bc6"
      },
      "source": [
        "!pip install contractions"
      ],
      "execution_count": 2,
      "outputs": [
        {
          "output_type": "stream",
          "text": [
            "Collecting contractions\n",
            "  Downloading contractions-0.0.52-py2.py3-none-any.whl (7.2 kB)\n",
            "Collecting textsearch>=0.0.21\n",
            "  Downloading textsearch-0.0.21-py2.py3-none-any.whl (7.5 kB)\n",
            "Collecting anyascii\n",
            "  Downloading anyascii-0.2.0-py3-none-any.whl (283 kB)\n",
            "\u001b[K     |████████████████████████████████| 283 kB 35.8 MB/s \n",
            "\u001b[?25hCollecting pyahocorasick\n",
            "  Downloading pyahocorasick-1.4.2.tar.gz (321 kB)\n",
            "\u001b[K     |████████████████████████████████| 321 kB 42.9 MB/s \n",
            "\u001b[?25hBuilding wheels for collected packages: pyahocorasick\n",
            "  Building wheel for pyahocorasick (setup.py) ... \u001b[?25l\u001b[?25hdone\n",
            "  Created wheel for pyahocorasick: filename=pyahocorasick-1.4.2-cp37-cp37m-linux_x86_64.whl size=85448 sha256=cdb02353606ff5eded4142495b01ac75ded4087e7e3cf8873d9cb086d6a3a1fd\n",
            "  Stored in directory: /root/.cache/pip/wheels/25/19/a6/8f363d9939162782bb8439d886469756271abc01f76fbd790f\n",
            "Successfully built pyahocorasick\n",
            "Installing collected packages: pyahocorasick, anyascii, textsearch, contractions\n",
            "Successfully installed anyascii-0.2.0 contractions-0.0.52 pyahocorasick-1.4.2 textsearch-0.0.21\n"
          ],
          "name": "stdout"
        }
      ]
    },
    {
      "cell_type": "code",
      "metadata": {
        "id": "xG0HBaeNShpT"
      },
      "source": [
        "import pandas as pd\n",
        "import numpy as np\n",
        "\n",
        "import gensim\n",
        "import contractions\n",
        "import re\n",
        "\n",
        "import tensorflow as tf\n",
        "from tensorflow import keras\n",
        "\n",
        "import matplotlib.pyplot as plt"
      ],
      "execution_count": 3,
      "outputs": []
    },
    {
      "cell_type": "markdown",
      "metadata": {
        "id": "jzH4u5MJT-tq"
      },
      "source": [
        "## Descomprimir archivo"
      ]
    },
    {
      "cell_type": "code",
      "metadata": {
        "id": "QhAQDEEpSDGc"
      },
      "source": [
        "#from zipfile import ZipFile\n",
        "#with ZipFile('/content/drive/MyDrive/Datos/ReviewsAmazon.csv.zip', 'r') as zip_ref:\n",
        "#    zip_ref.extractall('/content/drive/MyDrive/Datos/AmazonReviews')"
      ],
      "execution_count": null,
      "outputs": []
    },
    {
      "cell_type": "markdown",
      "metadata": {
        "id": "lpJf2DilUGHq"
      },
      "source": [
        "# Leer datos de entrada"
      ]
    },
    {
      "cell_type": "code",
      "metadata": {
        "colab": {
          "base_uri": "https://localhost:8080/"
        },
        "id": "ut_zPB1nSkh0",
        "outputId": "dcca1b53-b5e1-4d4a-e1f9-6fb763ae94f8"
      },
      "source": [
        "df = pd.read_csv('/content/drive/MyDrive/Datos/AmazonReviews/Reviews.csv',\n",
        "                 nrows=100000, usecols=['Summary', 'Text'], )\n",
        "df = df.drop_duplicates(keep='first', ignore_index = True).dropna()\n",
        "print(df.shape)\n",
        "df.head()"
      ],
      "execution_count": null,
      "outputs": [
        {
          "output_type": "stream",
          "text": [
            "(88563, 2)\n"
          ],
          "name": "stdout"
        },
        {
          "output_type": "execute_result",
          "data": {
            "text/html": [
              "<div>\n",
              "<style scoped>\n",
              "    .dataframe tbody tr th:only-of-type {\n",
              "        vertical-align: middle;\n",
              "    }\n",
              "\n",
              "    .dataframe tbody tr th {\n",
              "        vertical-align: top;\n",
              "    }\n",
              "\n",
              "    .dataframe thead th {\n",
              "        text-align: right;\n",
              "    }\n",
              "</style>\n",
              "<table border=\"1\" class=\"dataframe\">\n",
              "  <thead>\n",
              "    <tr style=\"text-align: right;\">\n",
              "      <th></th>\n",
              "      <th>Summary</th>\n",
              "      <th>Text</th>\n",
              "    </tr>\n",
              "  </thead>\n",
              "  <tbody>\n",
              "    <tr>\n",
              "      <th>0</th>\n",
              "      <td>Good Quality Dog Food</td>\n",
              "      <td>I have bought several of the Vitality canned d...</td>\n",
              "    </tr>\n",
              "    <tr>\n",
              "      <th>1</th>\n",
              "      <td>Not as Advertised</td>\n",
              "      <td>Product arrived labeled as Jumbo Salted Peanut...</td>\n",
              "    </tr>\n",
              "    <tr>\n",
              "      <th>2</th>\n",
              "      <td>\"Delight\" says it all</td>\n",
              "      <td>This is a confection that has been around a fe...</td>\n",
              "    </tr>\n",
              "    <tr>\n",
              "      <th>3</th>\n",
              "      <td>Cough Medicine</td>\n",
              "      <td>If you are looking for the secret ingredient i...</td>\n",
              "    </tr>\n",
              "    <tr>\n",
              "      <th>4</th>\n",
              "      <td>Great taffy</td>\n",
              "      <td>Great taffy at a great price.  There was a wid...</td>\n",
              "    </tr>\n",
              "  </tbody>\n",
              "</table>\n",
              "</div>"
            ],
            "text/plain": [
              "                 Summary                                               Text\n",
              "0  Good Quality Dog Food  I have bought several of the Vitality canned d...\n",
              "1      Not as Advertised  Product arrived labeled as Jumbo Salted Peanut...\n",
              "2  \"Delight\" says it all  This is a confection that has been around a fe...\n",
              "3         Cough Medicine  If you are looking for the secret ingredient i...\n",
              "4            Great taffy  Great taffy at a great price.  There was a wid..."
            ]
          },
          "metadata": {
            "tags": []
          },
          "execution_count": 4
        }
      ]
    },
    {
      "cell_type": "code",
      "metadata": {
        "colab": {
          "base_uri": "https://localhost:8080/"
        },
        "id": "XGZd0Sr8XlW6",
        "outputId": "369d1e11-3a00-41d5-c185-b7d8e149faba"
      },
      "source": [
        "np.random.seed = 15\n",
        "muestra = np.random.choice(range(len(df)), 5)\n",
        "for i in muestra:\n",
        "    print(\"\\nReview #\", i)\n",
        "    print(df.loc[i, 'Summary'])\n",
        "    print(df.loc[i,'Text'])    "
      ],
      "execution_count": null,
      "outputs": [
        {
          "output_type": "stream",
          "text": [
            "\n",
            "Review # 43982\n",
            "Just like Girl Scout cookies\n",
            "Exactly the same except you can get them year round when you order them online or get them in the store. I love them but you have to love chocolate and coconut and caramel!\n",
            "\n",
            "Review # 18527\n",
            "Love it!\n",
            "I love this tea - bold and smooth. I love the fact that you can use the tea leaves for more than one steep. It really makes it go a long way. I will be getting this again!\n",
            "\n",
            "Review # 66797\n",
            "Not a good way to use green tea!\n",
            "I use this brand of gum - favorite is Cinnamon and others are good, except this one.  Not a good way to use green tea in my opinion.  I will just drink mine.  Don't judge this brand by this flavor.\n",
            "\n",
            "Review # 24657\n",
            "Anise candy.\n",
            "I like this candy.  Supposedly it is anise flavored.  The local Greek resturant, Apollo, has it; and I got used to it.  I was able to track it down through Amazon.\n",
            "\n",
            "Review # 3505\n",
            "HOT COCOA\n",
            "Well the product was good and the taste is great. The convenience was excellent and the delivery was quick. So what's not to love? The darn things tend to clog up my machine. Never ever happens with coffee. May one could run hot water after each serving to prevent the clog. Otherwise an excellent product.\n"
          ],
          "name": "stdout"
        }
      ]
    },
    {
      "cell_type": "code",
      "metadata": {
        "id": "zwpad_g5eM3L"
      },
      "source": [
        "df.to_csv('Amazon_reviews_trim.csv', index=False)"
      ],
      "execution_count": null,
      "outputs": []
    },
    {
      "cell_type": "markdown",
      "metadata": {
        "id": "R_d912qROTu8"
      },
      "source": [
        "# Preprocesamiento de texto\n",
        "- convertir a minuscualas\n",
        "- expandir contracciones\n",
        "- eliminar puntuación\n"
      ]
    },
    {
      "cell_type": "code",
      "metadata": {
        "id": "AJYwX4CPOT4P"
      },
      "source": [
        "def preprocesar(texto):\n",
        "    #quitar contracciones\n",
        "    texto = contractions.fix(texto)\n",
        "\n",
        "    #convertir en minúsculas\n",
        "    texto = texto.lower()\n",
        "\n",
        "    # eliminar texto no deseado\n",
        "    texto = re.sub(r'<br />', ' ', texto)\n",
        "\n",
        "    #texto = re.sub(r'https?:\\/\\/.*[\\r\\n]*', '', texto, flags=re.MULTILINE)\n",
        "    #texto = re.sub(r'\\<a href', ' ', texto)\n",
        "    #texto = re.sub(r'&amp;', '', texto) \n",
        "    #texto = re.sub(r'[_\"\\-;%()|+&=*%.,!?:#$@\\[\\]/]', ' ', texto)\n",
        "    #texto = re.sub(r'\\'', ' ', texto)\n",
        "\n",
        "    #dejar solo letras y números\n",
        "    texto = re.sub('[^A-ZÜÖÄa-z0-9]+', ' ', texto)\n",
        "    return(texto)"
      ],
      "execution_count": null,
      "outputs": []
    },
    {
      "cell_type": "code",
      "metadata": {
        "colab": {
          "base_uri": "https://localhost:8080/"
        },
        "id": "asQVDjYcikM6",
        "outputId": "6a1de476-8194-4be7-e92b-585f1df6a2b3"
      },
      "source": [
        "%%time\n",
        "for col in df.columns:\n",
        "  df[col] = df[col].apply(preprocesar)\n",
        "  \n",
        "df.loc[738,'Text']"
      ],
      "execution_count": null,
      "outputs": [
        {
          "output_type": "stream",
          "text": [
            "CPU times: user 5.47 s, sys: 18.5 ms, total: 5.49 s\n",
            "Wall time: 5.5 s\n"
          ],
          "name": "stdout"
        }
      ]
    },
    {
      "cell_type": "code",
      "metadata": {
        "id": "J3vtPCtftfA-"
      },
      "source": [
        "df['Summary'] = df['Summary'].apply(lambda x : 'tokenstart '+ x + ' tokenend')  #Identificador de comienzo y término"
      ],
      "execution_count": null,
      "outputs": []
    },
    {
      "cell_type": "code",
      "metadata": {
        "colab": {
          "base_uri": "https://localhost:8080/"
        },
        "id": "2yaLN1douN-8",
        "outputId": "01dc2be6-21b5-4f90-8507-f75bee9ac9df"
      },
      "source": [
        "np.random.seed = 15\n",
        "muestra = np.random.choice(range(len(df)), 5)\n",
        "for i in muestra:\n",
        "    print(\"\\nReview #\", i)\n",
        "    print(df.loc[i, 'Summary'])\n",
        "    print(df.loc[i,'Text'])    "
      ],
      "execution_count": null,
      "outputs": [
        {
          "output_type": "stream",
          "text": [
            "\n",
            "Review # 84175\n",
            "tokenstart yummy chips but not all that different  tokenend\n",
            "these chips are very good crunchy and tasty just the right amount of salt yet i really do not see much of a difference as far as the chip being any healthier or a lot more tasty than other kettle chips they leave your fingers very greasy i guess all kettle chips do that though the bottom of every bag was full of broken greasy pieces of chip maybe my shipment just got banged around too much they do taste good and it is hard to put them down i finish off a bag every time i open one i am not a big eater either i try to eat a sandwich with them as to not polish off a whole bag at one setting overall i would try these again \n",
            "\n",
            "Review # 10927\n",
            "tokenstart excellent  tokenend\n",
            "great to send to my son a college student easy to fix and very tasty \n",
            "\n",
            "Review # 29534\n",
            "tokenstart keeps my doggies entertained  tokenend\n",
            "both of my chihuahua mutts love these inserts i use the treat in a bendo ball for one and she is busy for hours the other pooch does not like the bendo ball but loves this treat he eats it in about 10 minutes def will stock up on these especially seeing as the dog that likes the treat in the ball is the more demanding of entertainment than the other who is contented by just sitting next to me and snugglling i just wish they were a bit less expensive however it is worth the price for a happy ie not bored dog \n",
            "\n",
            "Review # 21948\n",
            "tokenstart love the hazelnuts tokenend\n",
            "the hazelnuts and the figs in these biscuits work really well together i love the sweetness these biscuits offer they compliment cheese nicely \n",
            "\n",
            "Review # 59550\n",
            "tokenstart delicious yum  tokenend\n",
            "these reminded me of seasoned nuts i have purchased at the indian grocery in the past but ten times better the cashews themselves are fresh and large with a good rich cashew taste the pepper and salt add a wonderful flavor and the result is a very pleasant snack with a great aftertaste that kept me going back for more and more yes they were a tad salty especially the last 1 4 of the canister but to me that was the only drawback i can see how if someone did not like spicy or peppery foods they might be too bold as others have said but come on they are salt and pepper flavor what do you expect i plan to get some more in the near future my canister is empty \n"
          ],
          "name": "stdout"
        }
      ]
    },
    {
      "cell_type": "markdown",
      "metadata": {
        "id": "quUr2-1Ol3-x"
      },
      "source": [
        "# Limitar la cantidad de palabras en textos y resumenes"
      ]
    },
    {
      "cell_type": "code",
      "metadata": {
        "colab": {
          "base_uri": "https://localhost:8080/"
        },
        "id": "WNnMhSzejxiE",
        "outputId": "ae4d4177-a09f-4033-f909-002956bb7b56"
      },
      "source": [
        "# ¿Cuantas palabras tienen cada texto?\n",
        "palabras_textos = df['Text'].apply(lambda x: len(str(x).split()))\n",
        "\n",
        "hist = palabras_textos.hist(bins=50)\n",
        "hist.set_xlabel(\"número de palabras\")\n",
        "hist.set_ylabel(\"textos\")\n",
        "plt.show()\n",
        "\n",
        "print('\\nEl 90% de los textos tiene {:,.0f} palabras'.format(palabras_textos.quantile(0.90)))"
      ],
      "execution_count": null,
      "outputs": [
        {
          "output_type": "display_data",
          "data": {
            "image/png": "[encoded data removed]",
            "text/plain": [
              "<Figure size 432x288 with 1 Axes>"
            ]
          },
          "metadata": {
            "tags": [],
            "needs_background": "light"
          }
        },
        {
          "output_type": "stream",
          "text": [
            "\n",
            "El 90% de los textos tiene 168 palabras\n"
          ],
          "name": "stdout"
        }
      ]
    },
    {
      "cell_type": "code",
      "metadata": {
        "colab": {
          "base_uri": "https://localhost:8080/"
        },
        "id": "3iM2PsLhoe5C",
        "outputId": "d6bd126d-d316-4043-ad9f-8b053a6071e2"
      },
      "source": [
        "# ¿Cuantas palabras tienen cada titulo?\n",
        "palabras_titulos = df['Summary'].apply(lambda x: len(str(x).split()))\n",
        "\n",
        "hist = palabras_titulos.hist(bins=50)\n",
        "hist.set_xlabel(\"número de palabras\")\n",
        "hist.set_ylabel(\"titulos\")\n",
        "plt.show()\n",
        "\n",
        "print('\\nEl 97.5% de los titulos tiene {:,.0f} palabras'.format(palabras_titulos.quantile(0.975)))"
      ],
      "execution_count": null,
      "outputs": [
        {
          "output_type": "display_data",
          "data": {
            "image/png": "[encoded data removed]",
            "text/plain": [
              "<Figure size 432x288 with 1 Axes>"
            ]
          },
          "metadata": {
            "tags": [],
            "needs_background": "light"
          }
        },
        {
          "output_type": "stream",
          "text": [
            "\n",
            "El 97.5% de los titulos tiene 13 palabras\n"
          ],
          "name": "stdout"
        }
      ]
    },
    {
      "cell_type": "code",
      "metadata": {
        "id": "-QbPg7zbkHfT"
      },
      "source": [
        "longitud_max_textos = palabras_textos.quantile(0.90)     #168 palabras\n",
        "longitud_max_titulos = palabras_titulos.quantile(0.975)  # 13 palabras"
      ],
      "execution_count": null,
      "outputs": []
    },
    {
      "cell_type": "code",
      "metadata": {
        "colab": {
          "base_uri": "https://localhost:8080/"
        },
        "id": "mXKeQr5-PzPP",
        "outputId": "b9980865-0b4e-4000-9f19-2369c726ceed"
      },
      "source": [
        "datos =  df[(palabras_textos <= longitud_max_textos ) & (palabras_titulos <= longitud_max_titulos)]\n",
        "datos.shape   "
      ],
      "execution_count": null,
      "outputs": [
        {
          "output_type": "execute_result",
          "data": {
            "text/plain": [
              "(78666, 2)"
            ]
          },
          "metadata": {
            "tags": []
          },
          "execution_count": 14
        }
      ]
    },
    {
      "cell_type": "markdown",
      "metadata": {
        "id": "Qx7zdNh2YD19"
      },
      "source": [
        "# Dividir datos en conjunto de entrenamiento y prueba"
      ]
    },
    {
      "cell_type": "code",
      "metadata": {
        "id": "x-8oIpKEYNLN"
      },
      "source": [
        "from sklearn.model_selection import train_test_split\n",
        "\n",
        "x_train, x_test, y_train, y_test = train_test_split(datos['Text'], \n",
        "                                                    datos['Summary'], \n",
        "                                                    test_size=0.1, \n",
        "                                                    shuffle=True, \n",
        "                                                    random_state=0)"
      ],
      "execution_count": null,
      "outputs": []
    },
    {
      "cell_type": "code",
      "metadata": {
        "colab": {
          "base_uri": "https://localhost:8080/"
        },
        "id": "z5-GTS7gkSUk",
        "outputId": "3927a9ce-4127-4769-ac4e-9032bc84422b"
      },
      "source": [
        "print('{} reseñas en el conjunto de entrenamiento\\n{} reseñas en el conjunto de prueba'.format(len(x_train), len(x_test)))"
      ],
      "execution_count": null,
      "outputs": [
        {
          "output_type": "stream",
          "text": [
            "70799 reseñas en el conjunto de entrenamiento\n",
            "7867 reseñas en el conjunto de prueba\n"
          ],
          "name": "stdout"
        }
      ]
    },
    {
      "cell_type": "markdown",
      "metadata": {
        "id": "f9RvC_SaC3XH"
      },
      "source": [
        "# Vectorización del texto\n",
        "\n",
        "[Referencia](https://keras.io/examples/nlp/pretrained_word_embeddings/):\n"
      ]
    },
    {
      "cell_type": "code",
      "metadata": {
        "id": "vSVlXRiSNQ2H"
      },
      "source": [
        "from tensorflow.keras.layers.experimental.preprocessing import TextVectorization  \n",
        "from tensorflow.data import Dataset"
      ],
      "execution_count": null,
      "outputs": []
    },
    {
      "cell_type": "markdown",
      "metadata": {
        "id": "B1P134bNMpRM"
      },
      "source": [
        "### Paso 1 Diccionario de vocabulario con clave y vectorizador de textos"
      ]
    },
    {
      "cell_type": "code",
      "metadata": {
        "id": "Vh0JGfHAnaef"
      },
      "source": [
        "def genera_dic_vocabulario(serie_pd, max_tokens= 20000):\n",
        "  '''Obtiene el vocabulario de una serie de pandas con textos en forma de \n",
        "  diccionario, donde cada palabra es una clave y el valor es un indice'''\n",
        "  vectorizer = TextVectorization(max_tokens = max_tokens  )  \n",
        "  text_ds = Dataset.from_tensor_slices(serie_pd).batch( 128)  \n",
        "  vectorizer.adapt(text_ds)   #similar a fit \n",
        "  voc = vectorizer.get_vocabulary()  # lista con el vocabulario\n",
        "  #diccionario con el vocabulario\n",
        "  dic_vocabulario = dict(zip(voc, range(len(voc))))\n",
        "  return dic_vocabulario, vectorizer"
      ],
      "execution_count": null,
      "outputs": []
    },
    {
      "cell_type": "code",
      "metadata": {
        "colab": {
          "base_uri": "https://localhost:8080/"
        },
        "id": "e8jX1Lskkl_F",
        "outputId": "cdb5e63c-e6ae-4b96-d2e5-4ac98cb9d76d"
      },
      "source": [
        "%%time\n",
        "vocabulario_dic, vectorizer_reseña = genera_dic_vocabulario(x_train)"
      ],
      "execution_count": null,
      "outputs": [
        {
          "output_type": "stream",
          "text": [
            "CPU times: user 3.56 s, sys: 518 ms, total: 4.08 s\n",
            "Wall time: 8.75 s\n"
          ],
          "name": "stdout"
        }
      ]
    },
    {
      "cell_type": "code",
      "metadata": {
        "colab": {
          "base_uri": "https://localhost:8080/"
        },
        "id": "5VHNUsLokoQ2",
        "outputId": "806812d2-f780-46d4-cd99-146e2f92ad08"
      },
      "source": [
        "ejemplos = ['got', 'wild', 'hair', 'ordered', 'pound', 'bag']\n",
        "[vocabulario_dic[palabra] for palabra in ejemplos]"
      ],
      "execution_count": null,
      "outputs": [
        {
          "output_type": "execute_result",
          "data": {
            "text/plain": [
              "[142, 1200, 590, 160, 666, 112]"
            ]
          },
          "metadata": {
            "tags": []
          },
          "execution_count": 20
        }
      ]
    },
    {
      "cell_type": "code",
      "metadata": {
        "colab": {
          "base_uri": "https://localhost:8080/"
        },
        "id": "XA4eE_RDxI29",
        "outputId": "d731d613-50fc-4d17-d46b-f65d2d524a66"
      },
      "source": [
        "vectorizer_reseña(ejemplos)"
      ],
      "execution_count": null,
      "outputs": [
        {
          "output_type": "execute_result",
          "data": {
            "text/plain": [
              "<tf.Tensor: shape=(6, 1), dtype=int64, numpy=\n",
              "array([[ 142],\n",
              "       [1200],\n",
              "       [ 590],\n",
              "       [ 160],\n",
              "       [ 666],\n",
              "       [ 112]])>"
            ]
          },
          "metadata": {
            "tags": []
          },
          "execution_count": 21
        }
      ]
    },
    {
      "cell_type": "code",
      "metadata": {
        "id": "Yvx7jSyhptEt",
        "colab": {
          "base_uri": "https://localhost:8080/"
        },
        "outputId": "a3ca1551-6a87-4985-fa67-dfa8297d5526"
      },
      "source": [
        "vocabulario_dic.keys()"
      ],
      "execution_count": null,
      "outputs": [
        {
          "output_type": "execute_result",
          "data": {
            "text/plain": [
              "dict_keys(['', '[UNK]', 'the', 'i', 'and', 'a', 'it', 'to', 'is', 'of', 'this', 'not', 'for', 'in', 'my', 'have', 'that', 'but', 'are', 'you', 'with', 'was', 'they', 'as', 'like', 'these', 'on', 'so', 'them', 'good', 'great', 'taste', 'will', 'very', 'be', 'at', 'product', 'just', 'one', 'do', 'or', 'would', 'flavor', 'if', 'all', 'coffee', 'we', 'am', 'love', 'from', 'can', 'tea', 'when', 'has', 'more', 'had', 'me', 'than', 'amazon', 'no', 'out', 'get', 'really', 's', 'other', 'too', 'food', 'only', 'up', 'some', 'much', 'about', 'were', 'buy', 'price', 'little', 'best', 'because', 'time', 'an', 'use', 'there', 'tried', 'also', 'find', 'your', 'did', 'what', 'better', 'chocolate', 'make', 'well', 'he', 'been', 'does', 'even', 'try', 'she', 'dog', 'eat', 'which', 'by', 'after', 'now', 'any', 'again', 'drink', 'our', 'could', 'sweet', 'sugar', 'bought', 'bag', 'found', 'first', 'cup', '2', 'used', 'cannot', 'their', 'her', 'tastes', 'made', 'order', 'free', 'delicious', 'store', 'box', 'then', 'water', 'recommend', 'way', 'nice', 'favorite', 'go', 'think', 'over', 'two', 'loves', 'since', 'bit', 'who', 'got', 'mix', 'day', 'still', 'give', '1', 'dogs', 'flavors', '3', 'many', 'most', 'hot', 'never', 'know', 'perfect', 'makes', 'every', 'snack', 'ordered', 'treats', 'easy', 'without', '5', 'brand', 'how', 'something', 'want', 'stuff', 'before', 'add', 'quality', 'always', 'lot', 'ever', 'right', 'few', 'healthy', 'years', 'milk', 'old', 'its', 'fresh', 'pack', 'small', 'less', 'while', 'same', 'say', 'keep', 'into', 'enough', 'strong', 'organic', 'however', 'hard', 'definitely', 'bad', '4', 'tasty', 'different', 'buying', 'chips', 'enjoy', 'back', 'sure', 'treat', 'though', 'need', 'eating', 'local', 'salt', 'products', 'here', 'ingredients', 'happy', 'shipping', 'his', 'regular', 'thought', 'size', 'put', 'long', 'far', 'whole', 'k', 'high', 'looking', 'pretty', 'wonderful', 'using', 'off', 'highly', 'purchase', 'excellent', 'bags', 'package', 'tasted', 'green', 'sauce', 'bars', 'big', 'work', 'down', 'tasting', 'being', 'thing', 'cups', 'going', 'both', 'purchased', 'those', 'quite', 'chicken', 'texture', 'actually', 'low', 'see', 'each', 'cookies', 'natural', 'rice', 'last', 'oil', 'stores', 'gluten', 'year', 'calories', 'worth', 'cat', 'take', 'almost', 'dark', '6', 'through', 'real', 'another', 'should', 'loved', 'new', 'grocery', 'anything', 'family', 'feel', 'people', 'popcorn', 'him', 'received', 'butter', 'came', 'expensive', 'trying', 'arrived', 'full', 'fruit', 'around', 'own', 'bar', 'half', 'diet', 'may', 'cereal', 'coconut', 'fat', 'getting', 'added', 'having', 'candy', 'per', 'smell', 'foods', 'item', 'blend', 'several', 'brands', 'us', 'away', 'cheese', 'usually', 'kind', 'home', 'probably', 'com', 'money', 'juice', 'amount', 'dry', 'kids', 'morning', 'husband', 'once', 'black', 'said', 'case', 'come', 'disappointed', 'problem', 'days', 'absolutely', 'things', 'bitter', 'nothing', 'reviews', 'available', 'bottle', 'especially', 'ones', 'where', 'liked', 'seems', 'large', 'flavored', 'company', 'cats', 'able', 'wish', 'light', 'honey', 'months', 'comes', '12', 'might', 'instead', '10', 'making', 'fine', 'protein', 'boxes', 'why', 'breakfast', 'variety', 'deal', 'peanut', 'maybe', 'energy', 'packaging', 'save', 'fast', 'drinking', 'pasta', 'three', 'ginger', 'smooth', 'top', 'look', 'meal', 'works', 'gave', 'bread', 'stars', 'roast', 'others', 'until', 'prefer', 'such', 'cans', 'ordering', 'spicy', 'cheaper', '8', 'syrup', 'quick', 'rich', 'quickly', 'recommended', 'oz', 'house', 'either', 'vanilla', 'extra', 'cream', 'times', 'fact', 'health', 'least', 'next', 'beans', 'white', 'corn', 'seem', 'went', 'wanted', 'review', 'soft', 'couple', 'pieces', 'nuts', 'glad', 'son', 'anyone', 'amazing', 'ago', 'decided', 'must', 'fan', 'cost', 'teas', 'plastic', 'everyone', 'month', 'gift', 'baby', 'although', 'plus', 'teeth', 'minutes', 'longer', 'likes', 'everything', 'else', 'open', 'yet', 'myself', 'let', 'value', 'started', 'crunchy', 'salty', 'rather', 'thank', 'took', 'super', 'lemon', 'keurig', 'daughter', 'powder', 'enjoyed', 'cold', 'ice', 'friends', 'soup', 'ounce', 'soda', 'noodles', 'mouth', 'yummy', 'market', 'drinks', 'help', 'thanks', 'etc', 'read', 'pepper', 'week', 'bold', 'online', 'www', 'awesome', 'cookie', 'http', 'beef', 'alternative', 'red', 'chew', 'gp', 'cocoa', 'second', 'sometimes', 'ok', 'version', 'serving', 'href', 'meat', 'says', 'side', 'wheat', 'jerky', '100', 'french', 'type', 'part', 'orange', 'weight', 'dried', 'smaller', 'mixed', 'opened', 'pleased', 'goes', 'cooking', 'machine', 'gets', 'snacks', 'expected', 'tell', 'cook', 'crackers', 'artificial', 'easily', 'wife', 'guess', 'believe', 'surprised', 'plain', 'difference', 'slightly', 'aftertaste', 'brown', 'reason', 'special', 'flavorful', 'wrong', 'often', 'container', 'choice', 'exactly', 'clean', 'recipe', 'left', 'hand', 'recently', 'end', 'giving', 'decaf', 'overall', 'problems', 'picky', 'cherry', 'cut', 'oatmeal', 'place', 'line', 'packaged', 'aroma', 'potato', 'delivery', 'service', 'almonds', 'granola', 'packs', 'subscribe', 'care', 'friend', 'fiber', 'life', '50', 'starbucks', 'mild', 'live', 'cinnamon', 'canned', 'bite', 'stomach', 'smells', 'iced', '20', 'dinner', 'apple', 'run', 'hair', 'bottles', 'brew', 'spice', 'compared', 'convenient', 'weeks', 'huge', 'coffees', 'similar', 'looks', 'refreshing', '7', 'ate', 'lots', 'stick', 'pay', 'looked', 'fantastic', 'cake', 'bulk', 'shipped', 'unfortunately', 'simply', 'seeds', 'pop', 'close', 'filling', 'original', 'itself', 'course', 'needed', 'between', 'someone', 'calorie', 'start', 'soy', 'chewy', 'past', 'soon', 'saw', 'color', 'night', 'gives', 'excited', 'chip', 'chai', 'larger', 'finally', 'hope', 'four', 'continue', 'toy', 'idea', 'packages', 'eaten', 'feed', 'espresso', 'non', 'sent', 'inside', 'date', 'caffeine', 'during', 'star', 'sodium', 'heat', 'already', 'sweetness', 'healthier', 'due', 'creamy', 'yes', 'christmas', 'single', 'jar', 'pound', 'items', 'needs', 'experience', 'change', 'seasoning', 'ground', 'gum', 'ingredient', 'list', 'expect', 'bowl', 'nut', 'along', 'olive', 'delivered', 'lunch', 'extremely', 'mine', '15', 'given', 'please', 'hours', 'carry', 'packet', 'microwave', 'stock', 'pet', 'takes', 'sold', 'crunch', 'adding', 'gone', 'fish', 'helps', 'daily', 'based', 'broken', 'salad', 'purchasing', 'seller', '24', 'waste', 'cheap', 'formula', 'thick', 'wait', '30', 'leave', 'grain', 'mind', 'flour', 'contains', 'vet', 'together', 'pumpkin', 'leaves', 'stale', 'instant', 'true', 'five', 'medium', 'done', 'sour', 'bottom', 'packets', 'rest', 'certainly', 'keeps', 'switch', 'name', 'difficult', 'packed', 'weak', 'later', 'seemed', 'opinion', 'raw', 'completely', 'dish', 'baking', 'pot', 'content', 'pure', 'sale', 'stop', 'hit', 'eats', 'break', 'within', 'noticed', 'consistency', 'tiny', 'almond', 'shipment', 'bland', 'yogurt', 'locally', 'pork', 'condition', 'acid', 'normally', 'easier', 'addition', 'today', 'chili', 'baked', 'totally', 'label', 'puppy', 'maker', 'anywhere', 'simple', 'fun', 'pick', 'unless', 'truly', 'banana', 'newman', 'decent', 'substitute', 'blue', 'anyway', 'glass', 'stopped', 'satisfying', 'become', 'mint', 'entire', 'wow', 'lower', 'count', 'throw', 'strawberry', 'issues', 'combination', 'world', 'cooked', 'none', 'hint', 'told', '9', 'okay', 'hour', 'beat', '00', 'perfectly', 'chews', 'area', 'kick', 'sell', 'hooked', 'crazy', 'finish', 'discovered', 'twice', 'reasonable', 'varieties', 'six', 'batch', 'thin', 'moist', 'worked', 'oh', 'anymore', 'beverage', 'doing', 'customer', 'training', 'spices', 'particular', 'stay', 'option', 'finding', 'called', 'remember', 'normal', 'contain', 'yourself', 'recipes', 'under', 'hoping', 'expecting', '16', 'point', 'mixes', 'licorice', 'pleasant', 'summer', 'future', 'yum', 'unlike', 'shop', 'shake', 'pie', 'liquid', 'horrible', 'description', 'piece', 'seen', 'loose', 'sweetener', 'carb', 'feeling', 'roasted', 'grey', 'mom', 'plan', 'warm', 'feeding', 'garlic', 'pricey', 'mountain', 'greenies', 'grams', 'ready', 'immediately', 'turned', 'somewhat', 'taking', 'prices', 'mess', 'maple', 'except', 'touch', 'serve', 'felt', 'vinegar', 'meals', 'stevia', 'terrible', 'return', 'otherwise', 'body', 'bean', 'awful', 'favorites', 'impressed', 'style', 'overly', 'forward', 'nutrition', 'veggies', '25', 'satisfied', 'carbs', 'thinking', 'reading', 'adds', 'heavy', 'costco', 'earl', 'skin', 'mostly', 'perhaps', 'berry', 'drinker', 'matter', 'supermarket', 'priced', 'check', 'caramel', 'italian', 'nearly', 'pancakes', 'paid', 'bring', 'fit', 'person', 'results', 'note', 'flavoring', 'changed', 'short', 'sea', 'door', 'chewing', 'supposed', 'stronger', 'c', 'balance', 'bears', 'clear', 'whatever', 'shape', 'convenience', 'candies', 'pods', 'lime', 'bones', 'bits', 'sort', 'sick', 'reviewer', 'means', 'individual', 'higher', 'agree', 'set', 'salmon', 'homemade', 'fairly', 'including', 'bake', 'b', 'allergies', 'uses', 'sealed', 'kitchen', 'call', 'china', 'sample', 'brewed', 'pouch', 'wrapped', 'sticks', 'overpowering', 'job', 'peanuts', 'benefits', 'lb', 'subscription', 'nicely', 'plenty', 'issue', 'ask', 'afternoon', '11', 'everyday', 'chocolates', 'o', 'hate', 'complaint', 'carbonated', 'sweetened', 'mother', 'supply', 'source', 'shampoo', 'n', 'weird', 'picture', 'crisp', 'notice', 'reviewers', 'hands', 'gourmet', 'usual', 'pour', 'avoid', 'thrilled', 'office', 'ended', 'bbq', 'vegetables', 'shelf', 'craving', 'raspberry', 'near', 'sorry', 'ship', 'eggs', 'children', 'kept', 'dishes', 'carrying', 'biscuits', 'standard', 'listed', 'send', 'double', 'breath', 'replacement', 'vegan', 'types', 'mango', 'kid', 'e', 'website', 'sitting', 'alone', 'fill', 'coming', 'total', 'share', 'prepare', 'knew', 'pounds', 'directions', '99', 'air', 'brought', 'broccoli', 'traditional', 'party', 'dented', 'bigger', 'sauces', 'heard', 'fair', 'expiration', 'cashews', 'brewing', 'stuck', 'straight', 'crispy', 'served', 'working', 'slight', 'ounces', 'switched', 'personally', 'number', 'blood', 'hold', 'sized', 'running', 'plant', 'lover', 'unique', 'tree', 'jars', 'grains', 'worst', 'tend', 'surprise', 'mean', 'nutritional', 'jelly', 'chunks', 'potatoes', 'instructions', 'sensitive', 'consider', 'compare', 'gummy', 'gotten', 'eater', 'wine', 'offer', 'gf', 'opening', 'busy', 'actual', 'outside', 'lab', 'soups', 'kinds', 'bitterness', 'turkey', 'dessert', 'covered', 'vitamin', 'tart', 'putting', 'pizza', 'cool', 'tuna', 'trouble', 'imagine', 'turn', 'dressing', 'chance', 'quantity', 'fridge', 'walmart', 'stir', 'across', 'restaurant', 'pantry', 'selling', 'portion', 'w', 'suggest', 'cracker', 'paying', 'school', 'pleasantly', 'lost', 'helped', 'prime', 'dairy', 'blends', 'understand', 'alot', 'tired', 'subtle', 'careful', 'earth', 'control', 'tomato', 'stand', 'site', 'room', 'wants', 'nasty', 'appreciate', 'addicted', 'stash', 'main', 'offered', 'whenever', 'threw', 'possible', 'boost', 'freeze', 'seriously', 'beautiful', 'wet', 'upon', 'pomegranate', 'filled', 'upset', 'form', 'cheddar', 'base', 'states', 'level', 'american', 'buds', 'raisins', 'picked', 'mustard', 'dr', 'chemical', 'gummi', 'figured', '40', 'pouches', 'older', 'english', 'disappointing', 'gold', 'allergic', 'wild', 'watch', 'search', 'lasts', 'fix', 'egg', 'beer', 'generally', 'considering', 'child', 'cases', 'paper', 'keeping', 'frozen', 'drank', 'brownies', '0', 'seconds', 're', 'trip', 'mini', 'sells', 'leaf', 'gas', 'creamer', 'particularly', 'enjoys', 'poor', 'honestly', 'enjoying', 'rate', 'general', 'sticky', 'paste', 'noodle', 'grade', 'zico', 'receive', 'extract', 'grape', 'usa', 'taco', 'miss', 't', 'sit', 'processed', 'dollars', 'costs', 'worry', 'various', 'powdered', 'car', 'yellow', 'shot', 'kibble', 'important', 'fall', 'evening', 'bodied', 'whether', 'included', 'hazelnut', 'figure', 'onion', 'satisfy', 'mention', 'lid', 'greasy', 'containers', '18', 'preservatives', 'premium', 'nutty', 'hungry', 'finished', 'birthday', 'average', 'themselves', 'solid', 'mixing', 'obviously', 'known', 'bunch', 'worse', 'minute', 'deep', 'bone', 'basically', 'lipton', 'interesting', 'cereals', 'cardboard', 'admit', 'system', 'strange', 'melted', 'personal', 'negative', 'lbs', 'apart', 'kit', 'vitamins', 'splenda', 'pops', 'grew', 'smelled', 'servings', 'reminds', 'advertised', 'velveeta', 'scent', 'lol', 'salads', 'safe', 'rating', 'nor', 'coat', 'business', 'robust', 'regularly', 'concerned', 'coating', '14', 'table', 'sip', 'previous', 'pre', 'nature', 'tooth', 'tin', 'peach', 'curry', 'peppermint', 'fruity', 'process', 'pineapple', 'goodness', 'vegetable', 'research', 'gross', 'barely', 'write', 'mistake', 'kettle', 'addictive', 'travel', 'fell', 'carbonation', '13', 'test', 'sweeteners', 'sandwich', 'fabulous', 'typical', 'third', 'rawhide', 'oats', 'nutritious', 'bed', 'asked', 'thai', 'superior', 'mentioned', 'individually', 'feels', 'grab', 'guests', 'directly', 'basis', 'program', 'freezer', 'digestive', 'winter', 'tough', 'throat', 'dip', 'cherries', 'saying', 'oils', 'choose', 'bill', 'late', 'arrive', 'likely', 'herbal', 'fruits', 'dental', 'became', 'middle', 'lose', 'seed', 'san', 'watery', 'introduced', 'grass', 'kiwi', 'gifts', 'freshness', 'effect', 'missing', 'diabetic', 'beware', 'apples', 'grind', 'asian', 'terrific', 'sugary', 'odd', 'movie', 'enjoyable', 'prepared', 'pan', 'outstanding', 'country', 'cents', 'rope', 'result', 'handy', 'empty', 'messy', 'described', 'zero', 'vegetarian', 'setting', 'illy', 'follow', 'chemicals', 'turns', 'affordable', 'sugars', 'spend', 'popped', 'overwhelming', 'melt', 'kona', 'knows', 'folks', 'waffles', 'provide', 'effects', 'toast', 'spoon', 'mail', 'happened', 'doubt', 'toys', 'realize', 'brewer', 'junk', 'lovely', 'word', 'oven', 'tangy', 'filter', 'popper', 'bonus', 'above', 'wonder', 'joe', 'golden', 'fried', 'chipotle', 'boy', 'vendor', 'sweeter', 'shopping', 'knowing', 'haribo', 'sister', 'refund', 'peas', 'everywhere', 'tomatoes', 'tender', 'comparison', 'allergy', 'pod', 'pill', 'heart', 'd', 'ball', 'worried', 'positive', 'msg', 'm', 'literally', 'disappointment', 'steak', 'spread', 'options', 'gravy', 'flat', 'flakes', 'disgusting', 'contents', 'purse', 'learned', 'berries', 'kernels', 'cakes', 'auto', 'watching', 'salsa', 'intense', 'early', 'strength', 'crust', 'blueberry', 'absolute', '80', 'via', 'show', 'popchips', 'matcha', 'latte', 'interested', 'indian', 'carries', 'pretzels', 'magic', 'fructose', 'bites', 'clearly', 'chef', 'broth', '60', 'information', 'front', 'crumbs', 'colors', 'wellness', 'according', 'stated', 'promptly', 'fancy', 'damaged', 'awhile', 'popular', 'mac', 'incredibly', 'donut', 'apparently', 'ways', 'spent', 'manufacturer', 'describe', 'staple', 'peppers', 'bay', 'sleep', 'shared', 'searching', 'quaker', 'originally', 'lovers', 'grown', 'aware', 'skeptical', 'roll', 'major', 'burnt', 'trick', 'face', 'agave', 'salted', 'packing', 'juices', 'internet', 'drops', 'drop', 'winner', 'timely', 'suggested', 'spot', 'mug', 'fits', 'expectations', 'oily', 'definately', 'cheesy', 'trust', 'thicker', 'taken', 'offers', 'neither', 'lightly', 'lack', 'fed', 'fake', 'root', 'luck', 'checked', 'bother', 'bacon', 'town', 'throwing', 'complete', 'smoothies', 'celiac', 'basket', 'seal', 'loaded', 'buttery', 'intake', 'g', 'funny', 'dates', 'acidic', 'seasonings', 'sandwiches', 'reasonably', 'pancake', 'growing', 'flowers', 'edible', 'delighted', 'adult', 'incredible', 'german', 'co', 'bucks', 'stays', 'ran', 'ramen', 'placed', 'liver', 'cute', 'young', 'sodas', 'hamburger', 'flavour', 'tongue', 'provides', 'hardly', 'classic', 'balanced', 'wise', 'waiting', 'realized', 'ten', 'sesame', 'lasted', 'impossible', 'elsewhere', 'burn', 'bell', 'target', 'suppose', 'supplement', 'discount', 'delightful', 'animal', 'age', 'additional', 'despite', 'bargain', 'kashi', 'jack', 'harder', 'sprinkle', 'scratch', 'delight', 'concentrate', 'rub', 'pocket', 'olives', 'lemonade', 'cafe', 'replace', 'pink', 'pamela', 'mushy', 'man', 'guy', 'forget', 'snacking', 'season', 'produced', 'living', 'head', 'dollar', 'california', 'sparkling', 'spaghetti', 'previously', 'unpleasant', 'sense', 'selection', 'retail', 'companies', 'saved', 'friendly', 'discontinued', 'complaints', 'comparable', 'buffalo', 'present', 'brownie', 'starting', 'shakes', 'naturally', 'lighter', 'heaven', 'handful', 'farms', 'effective', 'chinese', 'beyond', 'trader', 'state', 'design', 'attention', '17', 'points', 'play', 'guilt', 'round', 'pain', 'multiple', 'lamb', 'kraft', '70', 'tully', 'smoked', 'limited', 'increase', 'girl', 'runs', 'nose', 'lived', 'hopefully', 'boiling', 'besides', 'authentic', 'fries', 'followed', 'y', 'sardines', 'pressure', 'punch', 'muffins', 'crushed', 'certain', 'tips', 'strips', 'rinds', 'returned', 'post', 'pills', 'delicate', 'counter', 'win', 'typically', 'surprisingly', 'steep', 'p', 'forever', 'book', 'blueberries', 'ahead', 'happen', 'additives', 'topping', 'somewhere', 'fear', 'wanting', 'thru', 'teaspoon', 'pass', 'equal', 'ease', '45', 'update', 'title', 'reduced', 'moved', 'mixture', 'include', 'frequently', 'exact', 'sunflower', 'relatively', 'parents', 'firm', 'choices', 'benefit', 'strawberries', 'reasons', 'plants', 'club', 'among', 'hershey', 'grow', 'customers', 'tangerine', 'sausage', 'orders', 'fully', 'currently', 'cooks', 'carried', 'bran', 'bergamot', 'searched', 'properly', 'places', 'mayo', 'law', 'holds', 'downside', 'wake', 'trans', 'therefore', 'softer', 'preference', 'guys', 'francisco', 'class', 'workout', 'veggie', 'mid', 'fingers', 'favor', 'coco', 'boil', 'yuck', 'web', 'tablespoon', 'indeed', 'household', 'hide', 'babies', 'shame', 'power', 'leaving', 'inexpensive', 'gums', 'grilled', 'garbage', 'dissolve', 'cover', 'cal', 'unable', 'tins', 'theater', 'sad', 'center', 'anytime', 'sweeten', 'strongly', 'reorder', 'recent', 'mexican', 'dipping', 'crystal', 'cleaning', 'cholesterol', 'cappuccino', 'terrier', 'south', 'smart', 'sadly', 'raisin', 'comment', 'citrus', 'wonderfully', 'handle', 'darker', 'chewed', 'pricing', 'occasional', 'miracle', 'mill', 'ketchup', 'consistent', 'bpa', 'wash', 'sun', 'restaurants', 'odor', 'mocha', 'conditioner', 'beats', 'starts', 'seeing', 'mints', 'guilty', 'fry', 'consume', 'carrots', 'amazed', 'tasteless', 'stocking', 'sizes', 'pull', 'offering', 'jasmine', 'exception', 'disease', 'dense', 'sampler', 'regret', 'helpful', 'finicky', 'england', 'dough', 'broke', 'appears', 'yeast', 'truffle', 'road', 'potassium', 'pets', 'fishy', 'dad', 'zip', 'willing', 'visit', 'thus', 'temperature', 'pudding', 'period', 'onto', 'following', 'beverages', 'supermarkets', 'shrimp', 'resealable', 'holiday', 'cane', 'began', 'wrap', 'words', 'tummy', 'slices', 'rolls', 'grounds', 'frosting', 'fog', 'allows', '90', '2nd', 'vita', 'twinings', 'rock', 'produce', 'melts', 'improved', 'diarrhea', 'cheez', 'warning', 'trade', 'shelves', 'saving', 'pleasure', 'liking', 'experienced', 'doctor', 'basic', 'allow', 'trips', 'saves', 'remove', 'occasionally', 'gallon', 'faster', 'brings', 'bigelow', 'throughout', 'reaction', 'overpriced', 'nutrients', 'iron', 'chopped', 'syrups', 'storage', 'jug', 'herbs', 'diamond', 'assortment', 'afraid', 'onions', 'loving', 'jam', 'human', 'emerald', 'cravings', 'thinks', 'recieved', 'preferred', 'goods', 'floor', 'closest', 'cap', 'unsweetened', 'toss', 'ton', 'fussy', 'further', 'economical', 'depending', 'bubble', 'trash', 'split', 'slow', 'serious', 'rinse', 'loss', 'foil', 'fluffy', 'common', 'carefully', 'capsules', 'canister', 'amounts', 'yeah', 'vs', 'space', 'savory', 'bear', 'wholesome', 'traveling', 'success', 'squeeze', 'senseo', 'refrigerator', 'purpose', 'prefers', 'kitty', 'fillers', 'contained', 'barley', 'soothing', 'mellow', 'manner', 'italy', 'helping', 'cubes', 'consistently', 'automatic', 'adults', 'toffee', 'tends', 'steaks', 'shiny', 'saver', 'recommendation', 'levels', 'hibiscus', 'fault', 'effort', 'tad', 'japanese', 'breast', 'watered', 'sound', 'shells', 'scalp', 'receiving', 'mushrooms', 'drive', 'cranberry', 'college', 'certified', '75', 'timothy', 'spoiled', 'pb', 'jalapeno', 'fresher', 'eyes', 'desk', 'damage', 'brother', 'till', 'solution', 'sliced', 'prevent', 'pg', 'mart', 'layer', 'dust', 'breed', 'bowls', 'toddler', 'ridiculous', 'pup', 'poured', 'misleading', 'happens', 'cashew', 'bright', 'boys', 'spearmint', 'rose', 'prompt', 'initially', 'contacted', 'complain', 'cheerios', 'chaser', 'appealing', 'terms', 'step', 'slowly', 'medicine', 'inch', 'dozen', 'digestion', 'chops', 'tablespoons', 'sounds', 'shows', 'sharp', 'seasoned', 'pear', 'mg', 'lucky', 'flax', 'drinkers', 'crumbly', 'commercial', '36', 'yesterday', 'somehow', 'self', 'rubber', 'reach', 'quit', 'organics', 'meant', 'labeled', 'hopes', 'grinder', 'fans', 'eight', 'tray', 'sweets', 'supplier', 'rid', 'range', 'honest', 'combo', 'bob', 'against', 'waffle', 'tacos', 'sucralose', 'sticking', 'roasts', 'pecan', 'nectar', 'lavazza', 'hoped', 'greenie', 'fats', 'correct', 'charge', 'caused', 'boyfriend', 'yr', 'warehouse', 'superb', 'savings', 'ranch', 'penny', 'monthly', 'hits', 'create', 'chewer', 'bottled', 'plate', 'macaroni', 'learn', 'hesitant', 'hearty', 'weather', 'shown', 'possibly', 'childhood', 'swallow', 'separate', 'scoop', 'royal', 'puck', 'press', 'mood', 'missed', 'meats', 'folgers', 'eaters', 'drip', 'claim', 'chocolatey', 'wolfgang', 'switching', 'spinach', 'soggy', 'seafood', 'popping', 'instantly', 'helper', 'eventually', 'earlier', 'duck', 'claims', 'buyer', 'vine', 'sprouts', 'smelling', 'pinch', 'mornings', 'mainly', 'key', 'god', 'cacao', 'truffles', 'parts', 'kcups', 'info', 'crap', 'combined', 'breads', 'bisquick', 'addicting', '2011', 'square', 'slice', 'saturated', 'runny', 'rescue', 'rarely', 'pastas', 'noticeable', 'lives', 'ideal', 'email', 'bull', 'brews', 'walnuts', 'trail', 'stove', 'stocked', 'response', 'pockets', 'oat', 'lacking', 'interest', 'germany', 'eye', 'creme', 'boxed', 'begin', '2012', 'wasted', 'sounded', 'soooo', 'require', 'replaced', 'reminded', 'page', 'drawback', 'disappoint', 'chose', 'calls', 'stored', 'science', 'opposed', 'lick', 'lately', 'heated', 'grainy', 'europe', 'current', 'cons', 'biggest', 'behind', 'aid', '48', '35', 'tortilla', 'tons', 'showed', 'remaining', 'omega', 'marshmallow', 'lunches', 'irish', 'intended', 'hunger', 'distinct', 'boring', 'watchers', 'walk', 'wal', 'unhealthy', 'thrown', 'shaped', 'rip', 'rated', 'occasion', 'northern', 'minerals', 'familiar', 'coats', 'chunky', 'caribou', '8oz', 'wrapper', 'quantities', 'palate', 'noted', 'gmo', 'chihuahua', 'asking', 'texas', 'sweetner', 'smoothie', 'provided', 'moment', 'drain', 'digest', 'crave', 'tight', 'spring', 'shocked', 'reward', 'question', 'portions', 'milder', 'garden', 'father', 'factor', 'drawer', 'direct', 'america', '22', 'xylitol', 'wedding', 'tofu', 'prunes', 'needless', 'la', 'harsh', 'happier', 'gerber', 'caught', 'bananas', 'wide', 'richer', 'purina', 'pretzel', 'intact', 'fudge', 'fragrance', 'constantly', 'complex', 'canidae', 'thumbs', 'reduce', 'japan', 'hey', 'hear', 'finishing', 'feast', 'cola', 'answer', 'afford', 'active', 'zing', 'watermelon', 'ups', 'spit', 'rancid', 'pump', 'prior', 'move', 'molasses', 'issimo', 'holidays', 'concern', 'coke', 'blended', 'aromatic', 'alcohol', 'versatile', 'support', 'sooo', 'smoke', 'semi', 'sam', 'remembered', 'minimal', 'loaf', 'kong', 'improvement', 'fond', 'cracked', 'aspartame', 'alternatives', 'younger', 'visiting', 'spray', 'remind', 'pleasing', 'overnight', 'necessary', 'luckily', 'limit', 'juicy', 'india', 'goat', 'ghee', 'freshly', 'fragrant', 'contact', 'coated', 'amazingly', '19', 'sturdy', 'shepherd', 'requires', 'pros', 'promised', 'lavender', 'greek', 'expired', 'die', 'diagnosed', 'breaking', 'vacation', 'toasted', 'thirst', 'required', 'min', 'labels', 'hurt', 'heck', 'hassle', 'delivers', 'definite', 'colored', 'blender', 'becomes', 'acidity', '95', 'wondering', 'versions', 'tassimo', 'suspect', 'powerful', 'material', 'graham', 'girls', 'fills', 'cutting', 'crash', 'closer', 'bonsai', 'soil', 'smoky', 'refined', 'met', 'hubby', 'decide', 'chia', 'brush', 'biscuit', 'aside', 'spiced', 'photo', 'owner', 'memories', 'melitta', 'ill', 'icing', 'hated', 'equally', 'ends', 'durable', 'dead', 'de', 'crumble', 'celestial', 'assume', '32', 'zuke', 'tolerate', 'sprinkled', 'herb', 'comments', 'carton', 'wasabi', 'unusual', 'thoroughly', 'kellogg', 'happily', 'gummies', 'grapefruit', 'dissapointed', 'canada', 'balls', 'appeal', 'tube', 'talking', 'swiss', 'specialty', 'shops', 'removed', 'moisture', 'intolerant', 'dressings', 'developed', 'dehydrated', 'crisps', 'consumed', 'chamomile', 'brewers', 'beautifully', 'appetite', 'appear', 'train', 'stage', 'slim', 'shipments', 'senior', 'satisfies', 'lock', 'length', 'improve', 'ham', 'darn', 'chilled', 'whatsoever', 'tip', 'smokey', 'skillet', 'purchases', 'method', 'markets', 'marinade', 'lady', 'izze', 'gritty', 'grill', 'everybody', 'diabetes', 'concept', 'collection', 'changes', 'arrives', 'acceptable', '1st', 'wrote', 'valley', 'spending', 'lean', 'hips', 'generic', 'everytime', 'dissolves', 'combine', 'cheapest', 'calcium', 'cabinet', 'warned', 'sore', 'significantly', 'muffin', 'greatly', 'fly', 'ears', 'cough', 'caviar', 'burned', 'afterwards', 'writing', 'whipped', 'teriyaki', 'production', 'multi', 'includes', 'hesitate', 'gingerbread', 'cranberries', 'containing', 'consuming', 'caffe', 'animals', 'tax', 'sat', 'risk', 'refrigerated', 'pictured', 'measure', 'maintain', 'lentils', 'leaking', 'initial', 'dump', 'dash', 'cupboard', 'consumption', 'challenge', 'burning', 'belly', 'batter', 'appreciated', 'anti', 'sumatra', 'rave', 'members', 'kcup', 'grocer', 'example', 'donuts', 'dandruff', 'bugs', 'british', 'balsamic', 'allowed', 'yuban', 'x', 'squares', 'returning', 'munch', 'mins', 'michael', 'generous', 'earthy', 'created', 'charges', 'blackberry', 'story', 'snob', 'puts', 'poodle', 'ordinary', 'inedible', 'gym', 'giant', 'discover', 'cupcakes', 'crystals', 'batches', '21', 'volume', 'unit', 'tastier', 'soak', 'sampled', 'residue', 'refused', 'pecans', 'lasting', 'held', 'experiment', 'drinkable', 'deliver', 'cow', 'coast', 'city', 'catnip', 'bet', 'antioxidants', 'altoids', 'workers', 'secret', 'purple', 'produces', 'portable', 'nuggets', 'net', 'fortunately', 'filler', 'farm', 'distinctive', 'bakery', 'yogi', 'shortbread', 'rolled', 'playing', 'palatable', 'match', 'exceptional', 'dream', 'desired', 'applesauce', '140', 'waters', 'ultimate', 'stands', 'specifically', 'specific', 'smoother', 'signed', 'sign', 'shots', 'samples', 'rocks', 'ratio', 'poop', 'paws', 'mold', 'managed', 'kits', 'handling', 'habit', 'greatest', 'funky', 'continues', 'considered', 'tossed', 'tear', 'symptoms', 'sending', 'sales', 'reflux', 'preparation', 'nights', 'moving', 'litter', 'kosher', 'highest', 'entirely', 'dietary', 'desert', 'depth', 'crema', 'span', 'puffs', 'owners', 'mozzarella', 'emeril', 'comfort', 'cleaned', 'camping', 'build', '3rd', 'twist', 'puppies', 'peel', 'pb2', 'news', 'nespresso', 'mass', 'listing', 'leftover', 'larabars', 'hole', 'edge', 'coffe', 'below', 'ale', 'written', 'weruva', 'tub', 'taffy', 'snap', 'seattle', 'retriever', 'repeat', 'readily', 'oolong', 'notes', 'kefir', 'frankly', 'finger', 'walnut', 'useful', 'thinner', 'spoonful', 'skip', 'r', 'mrs', 'mate', 'game', 'florida', 'dislike', 'curious', 'coloring', 'buck', 'zevia', 'vomiting', 'sons', 'salts', 'meet', 'link', 'letting', 'leaked', 'joy', 'importantly', 'holes', 'east', 'dunkin', 'designed', 'crack', 'complained', 'chain', 'caution', 'badly', 'approximately', 'acai', 'weekend', 'vodka', 'vary', 'vacuum', 'stuffed', 'stools', 'southern', 'resist', 'regardless', 'occupied', 'numerous', 'monster', 'kitties', 'influenster', 'heavenly', 'heartburn', 'cancer', 'burst', 'anyways', 'annie', 'tang', 'pups', 'proper', 'mr', 'mildly', 'island', 'decaffeinated', 'cuisine', 'choking', 'buddy', 'btw', 'arrival', '2010', '120', 'warmed', 'palm', 'occasions', 'member', 'lids', 'kill', 'hydrogenated', 'habanero', 'grandson', 'fashioned', 'equivalent', 'burgers', 'barbecue', 'attempt', 'suffer', 'seven', 'rush', 'rare', 'pro', 'plum', 'l', 'hates', 'gusto', 'favors', 'desserts', 'closed', 'advice', '27', 'wings', 'tartar', 'speak', 'section', 'pitcher', 'pace', 'outrageous', 'miles', 'inches', 'hawaii', 'granted', 'gooey', 'essential', 'conscious', 'border', 'advantage', 'addict', 'acquired', 'tall', 'sprout', 'sports', 'opportunity', 'losing', 'lite', 'gobble', 'gevalia', 'frying', 'dirty', 'carrot', 'becoming', 'ages', '33', 'whim', 'tops', 'talk', 'splash', 'relaxing', 'picking', 'hemp', 'goodies', 'fyi', 'flavorless', 'facts', 'concentrated', 'community', 'chow', 'causes', 'boiled', 'bagged', 'assumed', 'virtually', 'tug', 'tries', 'tested', 'pouring', 'petite', 'peppery', 'parties', 'partially', 'lactose', 'kitten', 'imported', 'hence', 'healthiest', 'grits', 'gatorade', 'filters', 'ear', 'dirt', 'diaper', 'dents', 'deals', 'connoisseur', 'chalky', 'budget', 'whip', 'weaker', 'tzu', 'tv', 'terribly', 'suggestion', 'sides', 'shower', 'purposes', 'leftovers', 'larabar', 'lacks', 'hi', 'grease', 'expresso', 'degrees', 'consumer', 'commented', 'citric', 'catch', 'airtight', 'advertising', 'adore', '110', 'yorkie', 'west', 'tropical', 'tinkyada', 'starch', 'sources', 'snow', 'sits', 'shih', 'potent', 'planet', 'pies', 'passed', 'medication', 'maxwell', 'machines', 'macadamia', 'kidding', 'hurry', 'expert', 'bedtime', '54', '23', '200', 'waxy', 'sushi', 'suck', 'shredded', 'severe', 'settle', 'pulled', 'pressed', 'minor', 'metal', 'mashed', 'grateful', 'gain', 'flower', 'fewer', 'diets', 'category', 'boot', 'beach', 'york', 'skillets', 'seaweed', 'ride', 'quarter', 'puree', 'pregnant', 'malt', 'lazy', 'himself', 'girlfriend', 'gelatin', 'exclusively', 'dinners', 'daughters', 'creamers', 'changing', 'awake', 'addiction', '29', 'wafers', 'van', 'stayed', 'sips', 'significant', 'rubbery', 'ripped', 'obvious', 'mushroom', 'minty', 'mayonnaise', 'kidney', 'jittery', 'holder', 'grandchildren', 'gloria', 'flavorings', 'fenugreek', 'european', 'dha', 'cooker', 'con', 'compares', 'cancel', '28', 'sorts', 'smallest', 'sellers', 'richness', 'reliable', 'regarding', 'halloween', 'group', 'fondant', 'fav', 'factory', 'dropped', 'beginning', 'ziplock', 'quart', 'puroast', 'planning', 'peppercorns', 'parmesan', 'ours', 'omg', 'google', 'gel', 'fur', 'flies', 'fizz', 'final', 'exercise', 'death', 'compliments', 'compliment', 'cheetos', 'checking', 'assorted', 'visited', 'turning', 'tazo', 'swear', 'screw', 'raised', 'petco', 'par', 'paprika', 'ny', 'nutella', 'moderation', 'mark', 'makers', 'hummus', 'gobbled', 'expense', 'competitive', 'collie', 'avid', 'al', 'agreed', 'virgin', 'uk', 'substitutes', 'stinky', 'stew', 'snaps', 'remains', 'pronounced', 'primarily', 'practically', 'outer', 'oreos', 'nowhere', 'nantucket', 'melting', 'liquor', 'jump', 'j', 'glycemic', 'finest', 'excessive', 'cross', 'choke', 'alright', 'versus', 'soaked', 'relief', 'recall', 'rainforest', 'posted', 'king', 'h', 'gram', 'gag', 'fuel', 'evo', 'environment', 'dispenser', 'diced', 'dangerous', 'costly', 'corner', 'constant', 'clock', 'canola', 'caffeinated', 'boston', 'annoying', 'wood', 'torani', 'toppings', 'thankfully', 'steamed', 'satisfaction', 'ruined', 'routine', 'rough', 'quinoa', 'pears', 'oreo', 'nervous', 'joke', 'error', 'doggie', 'attractive', 'ad', 'recomend', 'providing', 'pricy', 'necessarily', 'movies', 'forgot', 'fixed', 'fire', 'feature', 'dieting', 'decadent', 'couscous', 'correctly', 'chunk', 'automatically', 'vermont', 'unsalted', 'tsp', 'transaction', 'thanksgiving', 'tastiest', 'starter', 'standards', 'spanish', 'sooner', 'soap', 'sees', 'paul', 'naturals', 'mush', 'mixer', 'lowest', 'links', 'heinz', 'healthful', 'grandmother', 'gentle', 'disappeared', 'difficulty', 'delish', 'decision', 'ca', 'venison', 'twelve', 'textures', 'situation', 'related', 'plump', 'pit', 'nonetheless', 'meaty', 'lindt', 'hulls', 'hotter', 'grinding', 'finely', 'fatty', 'falling', 'driving', 'dips', 'department', 'chowder', 'chocolaty', 'beagle', 'affect', 'adopted', 'accident', '150', 'wonders', 'welcome', 'unopened', 'supplements', 'stumbled', 'smelly', 'scale', 'rings', 'reviewed', 'powering', 'passion', 'north', 'lo', 'lattes', 'impressive', 'impression', 'groceries', 'fizzy', 'fashion', 'famous', 'desire', 'cuppa', 'coupon', 'card', 'canisters', 'basil', 'adjust', 'wasting', 'unbelievable', 'towards', 'similac', 'schedule', 'rooibos', 'refill', 'pickle', 'petsmart', 'metromint', 'meaning', 'kili', 'identical', 'iams', 'fig', 'extreme', 'expire', 'chicago', 'causing', 'carpet', 'bored', 'bolder', 'aluminum', '5g', 'yucky', 'yard', 'wafer', 'urge', 'substance', 'subscribed', 'staying', 'sirloin', 'silk', 'rum', 'remain', 'refuse', 'prescription', 'pea', 'nana', 'miniature', 'mexico', 'load', 'leak', 'inferior', 'filtered', 'cuts', 'constipation', 'considerably', 'cleaner', 'apricot', '130', 'yrs', 'turkish', 'trap', 'teabags', 'substantial', 'station', 'st', 'speed', 'smashed', 'silky', 'roasting', 'returns', 'refrigeration', 'print', 'primary', 'percent', 'neighbor', 'needing', 'nearby', 'metallic', 'men', 'meds', 'marketing', 'mallomars', 'largest', 'knock', 'humans', 'fool', 'dose', 'campbell', 'bubbles', 'brittle', 'beauty', 'ziploc', 'vending', 'unhappy', 'twenty', 'temptations', 'stool', 'solids', 'ribs', 'relax', 'preserve', 'peaches', 'overpower', 'orzo', 'neighborhood', 'minimum', 'jitters', 'international', 'increased', 'hickory', 'heating', 'heads', 'exposed', 'dipped', 'died', 'cube', 'boxer', 'belgian', 'bath', 'accurate', '49', 'ultra', 'telling', 'tabasco', 'surely', 'stuffing', 'squash', 'sooooo', 'solved', 'shaking', 'sensation', 'saffron', 'report', 'paw', 'mediocre', 'medicinal', 'marshmallows', 'manufactured', 'knife', 'himalayan', 'harmful', 'ha', 'greens', 'grandma', 'fortune', 'fda', 'erythritol', 'edges', 'dolce', 'dogswell', 'directed', 'diabetics', 'concerns', 'bringing', 'assuming', 'appearance', 'access', 'whom', 'warn', 'tho', 'thankful', 'term', 'tablets', 'suitable', 'suddenly', 'steel', 'ships', 'shelter', 'requested', 'reccomend', 'poorly', 'perfection', 'pepperoni', 'peace', 'notch', 'nobody', 'measuring', 'maltese', 'lips', 'glazed', 'france', 'feet', 'crumbled', 'credit', 'cocktail', 'cancelled', 'born', 'blow', 'bills', 'basmati', 'associated', 'arthritis', 'anybody', 'alternate', 'alas', 'ability', '96', '34', '2g', 'walked', 'waited', 'vomit', 'trial', 'tightly', 'thailand', 'smile', 'slimy', 'shapes', 'separately', 'rosemary', 'rishi', 'resulting', 'raved', 'push', 'placing', 'phone', 'oregon', 'mi', 'math', 'manufacturers', 'lifestyle', 'lemons', 'jean', 'hiking', 'hawaiian', 'falls', 'failed', 'exotic', 'essentially', 'cure', 'cooler', 'condiment', 'celery', 'biting', 'barbeque', '1g', 'user', 'unpopped', 'trays', 'track', 'tbsp', 'syrupy', 'stomachs', 'skinny', 'sink', 'sets', 'rinsed', 'reviewing', 'promise', 'preparing', 'pots', 'pistachios', 'nursing', 'measured', 'lollipops', 'lists', 'lift', 'jamaica', 'emergency', 'divine', 'cares', 'asks', 'whey', 'voila', 'useless', 'tricks', 'surprising', 'steeping', 'steeped', 'spiciness', 'sharing', 'shaker', 'safety', 'reordering', 'presentation', 'powdery', 'paris', 'neat', 'modified', 'miso', 'marzipan', 'marked', 'manage', 'male', 'intend', 'indoor', 'image', 'houtte', 'holding', 'gobbles', 'fraction', 'essence', 'detect', 'complaining', 'choc', 'chestnuts', 'cayenne', 'appropriate', 'adequate', '26', 'wax', 'warming', 'tonight', 'street', 'sometime', 'select', 'roughly', 'rise', 'ring', 'million', 'merrick', 'matters', 'march', 'kernel', 'hip', 'hidden', 'herself', 'heavily', 'harvest', 'fail', 'def', 'costa', 'convinced', 'consumers', 'cone', 'coarse', 'calm', 'brushing', 'apply', 'appeared', 'alive', '72', '5lb', '180', 'women', 'un', 'topped', 'tells', 'tastebuds', 'supposedly', 'steal', 'spilled', 'shipper', 'russell', 'reported', 'processing', 'pair', 'nyc', 'nestle', 'locate', 'labs', 'headache', 'fight', 'ensure', 'ella', 'dull', 'diluted', 'dachshund', 'crumbles', 'comparing', 'columbian', 'carbohydrates', 'caps', 'bloody', 'beg', '16oz', 'transit', 'thins', 'surgery', 'sunday', 'stems', 'sipping', 'reminiscent', 'minus', 'mary', 'mangoes', 'lesson', 'jumped', 'glucosamine', 'ghirardelli', 'female', 'experimenting', 'evenly', 'enhances', 'enhance', 'dishwasher', 'dill', 'differently', 'coca', 'charging', 'bully', 'april', 'testing', 'tempted', 'tartness', 'straw', 'stix', 'sprouted', 'skim', 'shampoos', 'saltiness', 'rotten', 'refuses', 'record', 'recommends', 'rain', 'probiotics', 'prep', 'pickled', 'pate', 'nausea', 'mcdougall', 'liter', 'lines', 'latest', 'ish', 'immediate', 'husky', 'hundreds', 'guessing', 'grove', 'grandkids', 'grand', 'floral', 'flaxseed', 'eliminate', 'discs', 'capsule', 'breaks', 'booty', 'birds', 'assam', 'aspect', 'apricots', 'appetizing', 'account', 'whereas', 'vendors', 'tolerable', 'stress', 'starbuck', 'silver', 'savor', 'sampling', 'restricted', 'refrigerate', 'properties', 'potential', 'pad', 'nylabone', 'licking', 'kool', 'kirkland', 'indulge', 'explain', 'event', 'easiest', 'deserves', 'december', 'chick', 'cheeses', 'charged', 'approx', 'advise', 'absorb', 'yay', 'wrappers', 'worker', 'wished', 'whose', 'wherever', 'thirsty', 'sweetners', 'suggests', 'spots', 'spectacular', 'soften', 'sites', 'settled', 'reusable', 'quicker', 'puffed', 'profile', 'powders', 'max', 'majority', 'lt', 'laden', 'indicated', 'hotel', 'grabbed', 'fragile', 'faint', 'exciting', 'excess', 'enjoyment', 'easter', 'disposable', 'dare', 'colombian', 'cocker', 'clusters', 'clams', 'clam', 'board', 'artifical', 'accept', '65', 'wrapping', 'walking', 'tradition', 'torn', 'tast', 'spaniel', 'soo', 'smokehouse', 'rawhides', 'pungent', 'poultry', 'october', 'numi', 'names', 'munching', 'moldy', 'london', 'lingering', 'justify', 'horse', 'forced', 'foam', 'feedback', 'elderly', 'eden', 'dumped', 'doorstep', 'creates', 'closely', 'cheeseburger', 'built', 'brainer', 'blah', 'bank', 'attached', '85', '300', 'washed', 'tiger', 'sucks', 'spike', 'sparingly', 'safeway', 'replacing', 'ratings', 'raise', 'puff', 'protect', 'preserves', 'pistachio', 'newmans', 'moms', 'licks', 'libby', 'lemongrass', 'january', 'hound', 'godiva', 'forest', 'fooled', 'flours', 'draw', 'devoured', 'destroyed', 'crate', 'continued', 'comforting', 'cider', 'chest', 'caramels', 'caloric', 'buyers', 'blame', 'action', 'wintergreen', 'walden', 'truth', 'trees', 'tetra', 'spicey', 'spelt', 'sinus', 'simmer', 'shortly', 'scissors', 'schnauzer', 'ruin', 'ridiculously', 'recipient', 'preservative', 'pig', 'pictures', 'partial', 'nine', 'mills', 'land', 'kittens', 'keeper', 'immune', 'hairball', 'gallons', 'fluid', 'environmentally', 'doubled', 'display', 'disappear', 'disagree', 'degree', 'creating', 'concoction', 'computer', 'clumps', 'beneficial', 'august', 'alert', 'accustomed', 'accidentally', 'worries', 'ugh', 'tubes', 'thickness', 'tag', 'surface', 'subjective', 'student', 'seasonal', 'sausages', 'safely', 'roof', 'rewards', 'request', 'reactions', 'proven', 'owned', 'learning', 'jello', 'itching', 'hype', 'hunt', 'hints', 'hell', 'happybaby', 'granddaughter', 'glaze', 'frequent', 'figs', 'fave', 'encountered', 'dissolved', 'dent', 'deceptive', 'davidson', 'coworkers', 'covering', 'chicory', 'calling', 'button', 'brazil', 'baskets', 'bang', 'angel', 'act', 'won', 'woman', 'weekly', 'united', 'toxic', 'theirs', 'teaspoons', 'styrofoam', 'stirring', 'stink', 'stable', 'signature', 'secure', 'protien', 'professional', 'pointed', 'path', 'paleo', 'overseas', 'named', 'munchies', 'mile', 'meets', 'mask', 'lil', 'lentil', 'lead', 'july', 'jet', 'inner', 'informed', 'hydration', 'hfcs', 'guarantee', 'granules', 'glucose', 'foul', 'false', 'failure', 'f', 'excuse', 'envelope', 'emailed', 'depends', 'dente', 'cotton', 'confused', 'coconuts', 'canin', 'calming', 'bowel', 'begs', 'bathroom', 'arizona', 'amy', 'airy', 'additionally', '55', 'variation', 'unbeatable', 'temp', 'tapioca', 'sweetening', 'stews', 'sprouting', 'showing', 'separated', 'rye', 'refunded', 'printed', 'primal', 'policy', 'planters', 'pale', 'opposite', 'noses', 'nescafe', 'memory', 'medical', 'kibbles', 'gary', 'frontier', 'flimsy', 'exceptionally', 'esp', 'economy', 'dilute', 'delectable', 'crab', 'chewers', 'burritos', 'bike', 'baker', 'aunt', 'areas', 'address', 'ya', 'wilton', 'upside', 'unavailable', 'tarts', 'tail', 'smoothness', 'selections', 'rinsing', 'relative', 'pronounce', 'producing', 'prince', 'peppered', 'park', 'nutritionally', 'nutmeg', 'nope', 'mesh', 'manufacturing', 'mailed', 'lucy', 'joes', 'involved', 'introduce', 'indulgence', 'index', 'holistic', 'enhanced', 'encourage', 'edit', 'conventional', 'comfortable', 'cleared', 'chocoholic', 'chemically', 'cartons', 'cart', 'canine', 'breakage', 'betty', 'aisle', '6g', '4oz', 'yorkshire', 'virginia', 'stretch', 'sneak', 'rubs', 'retailers', 'resort', 'researched', 'qualities', 'practice', 'plaque', 'phenomenal', 'peterson', 'ourselves', 'neck', 'multigrain', 'marinara', 'led', 'kroger', 'innova', 'ie', 'grassy', 'goo', 'gassy', 'gained', 'flaky', 'finds', 'en', 'deliciously', 'del', 'cones', 'combinations', 'code', 'cleans', 'chronic', 'chop', 'cheesecake', 'cent', 'carbohydrate', 'buzz', 'barry', 'avocado', 'article', 'afghanistan', '5oz', '12oz', 'yours', 'widely', 'watering', 'unexpected', 'twins', 'triple', 'string', 'stains', 'sniff', 'shock', 'russian', 'rural', 'rounded', 'rolling', 'reordered', 'raspberries', 'puzzle', 'ps', 'paired', 'overwhelmed', 'offerings', 'lobster', 'listen', 'lay', 'korean', 'keebler', 'insane', 'infections', 'imho', 'headaches', 'hairballs', 'grinds', 'glue', 'fuss', 'friday', 'fl', 'film', 'fattening', 'evaporated', 'eco', 'detox', 'creamier', 'competitors', 'cloves', 'chile', 'cardamom', 'cajun', 'buys', 'bulldog', 'brain', 'boneless', 'biscotti', 'beloved', 'anxious', 'antioxidant', 'anise', 'anchovies', 'units', 'tulsi', 'treated', 'tract', 'toward', 'toddlers', 'sub', 'stupid', 'speedy', 'severely', 'scrumptious', 'sauteed', 'saeco', 'rely', 'pumps', 'project', 'perfume', 'overpowered', 'opener', 'omaha', 'novelty', 'mineral', 'membership', 'mccormick', 'master', 'lasagna', 'jolt', 'joint', 'java', 'impact', 'hostess', 'handed', 'formulas', 'flavours', 'favourite', 'drier', 'core', 'claimed', 'challenging', 'bulbs', 'bucket', 'bomb', 'backpack', 'advised', 'zukes', 'zipfizz', 'zesty', 'zest', 'trainer', 'thicken', 'teabag', 'tbs', 'supplies', 'suit', 'stain', 'sprinkles', 'soybean', 'snickers', 'sickness', 'relatives', 'pepsi', 'pearl', 'orleans', 'nutiva', 'moon', 'moderately', 'moderate', 'marketed', 'mad', 'loyal', 'loud', 'licked', 'legs', 'leather', 'ladies', 'kudos', 'june', 'ignore', 'hearing', 'healing', 'hang', 'frustrated', 'fanatic', 'dinosaur', 'destroy', 'damn', 'concentrates', 'cleanse', 'choosing', 'chihuahuas', 'bark', 'atkins', 'americans', 'albeit', 'african', '2009', 'v', 'tomorrow', 'teavana', 'synthetic', 'swedish', 'supreme', 'strip', 'storing', 'spoons', 'sleeping', 'saturday', 'responded', 'reserve', 'remainder', 'public', 'pirate', 'offensive', 'ocean', 'motivated', 'merchant', 'lemony', 'kuerig', 'jolly', 'jim', 'jaw', 'hottest', 'hiding', 'grocers', 'genetically', 'finer', 'duty', 'dutch', 'donate', 'devour', 'details', 'curls', 'crush', 'crowd', 'creative', 'cramps', 'complement', 'choco', 'caveat', 'bummer', 'bug', 'brick', 'worthy', 'wondered', 'walks', 'view', 'verona', 'unnecessary', 'udon', 'transfer', 'tone', 'tendency', 'tape', 'sprinkling', 'spotted', 'spectrum', 'soaking', 'silly', 'shine', 'ritz', 'reply', 'remotely', 'ray', 'prone', 'pricier', 'patties', 'noticeably', 'ms', 'moisturizer', 'model', 'marvelous', 'maid', 'lays', 'lara', 'lacked', 'kitchens', 'hydrated', 'haha', 'forgotten', 'force', 'farmers', 'electrolytes', 'drug', 'dingo', 'custard', 'cousin', 'cornbread', 'corgi', 'butt', 'breeds', 'bird', 'behavior', 'arabica', 'anticipated', 'amber', '000', 'window', 'weighs', 'voxbox', 'video', 'variations', 'unused', 'twin', 'traps', 'tootsie', 'temptation', 'stops', 'stonewall', 'standing', 'splurge', 'spilling', 'signs', 'shopped', 'sheet', 'sf', 'sencha', 'seltzer', 'ripe', 'receipt', 'reccommend', 'rack', 'preferences', 'played', 'pastry', 'overpowers', 'nibble', 'location', 'lifesaver', 'intolerance', 'heavier', 'halfway', 'greater', 'granulated', 'friskies', 'freezing', 'fourth', 'farmer', 'enter', 'energetic', 'eligible', 'efficient', 'dove', 'differences', 'develop', 'deliciousness', 'counts', 'chill', 'breeze', 'aged', '4th', 'yoga', 'workouts', 'usda', 'tubs', 'trace', 'til', 'tic', 'swallowed', 'sugared', 'study', 'stating', 'spicier', 'spam', 'smiley360', 'shoulders', 'shim', 'securely', 'secondly', 'scratching', 'scrambled', 'sand', 'rule', 'roses', 'returnable', 'retailer', 'recovery', 'ramyun', 'preserved', 'poo', 'pom', 'orville', 'oriental', 'oddly', 'nong', 'mouths', 'morsels', 'martini', 'liquids', 'lingers', 'labeling', 'jamaican', 'intrigued', 'houses', 'hesitation', 'guava', 'guaranteed', 'gray', 'ghiradelli', 'genuine', 'frustrating', 'forms', 'facility', 'extracts', 'entertaining', 'determine', 'deli', 'currants', 'crunchiness', 'counting', 'character', 'cfh', 'central', 'attack', 'artificially', 'allowing', 'ahmad', 'agrees', '4g', '400', 'whiskas', 'washing', 'vets', 'undamaged', 'treatment', 'theatre', 'task', 'suprised', 'sticker', 'steady', 'spreads', 'sensitivity', 'selected', 'seek', 'sardine', 'row', 'reluctant', 'realizing', 'raving', 'pug', 'proof', 'pesto', 'percentage', 'november', 'moroccan', 'moments', 'mo', 'milky', 'mighty', 'markers', 'mandarin', 'lettuce', 'leonidas', 'kernals', 'indigestion', 'history', 'harmony', 'halo', 'ghost', 'fuller', 'fork', 'floating', 'fellow', 'fare', 'elegant', 'eager', 'doggies', 'decades', 'cumin', 'cuisinart', 'consistancy', 'confidence', 'conclusion', 'clove', 'clients', 'brulee', 'brothers', 'bothered', 'bloating', 'begging', 'bare', 'availability', 'asleep', 'approved', 'anyhow', 'alike', 'admittedly', '6oz', '3g', '2013', '10g', 'wisconsin', 'walkers', 'valentine', 'unflavored', 'truck', 'themed', 'textured', 'students', 'stirred', 'squeezed', 'sprayed', 'specially', 'sky', 'september', 'seals', 'scones', 'satisfactory', 'revolution', 'remedy', 'remained', 'relish', 'rda', 'pureed', 'overweight', 'national', 'mutt', 'menu', 'medications', 'maltodextrin', 'loses', 'lecithin', 'kicking', 'jacks', 'infused', 'grated', 'glowing', 'foot', 'focus', 'exceeded', 'eacute', 'dying', 'drunk', 'distributed', 'discounted', 'disapointed', 'desperate', 'curb', 'crystallized', 'conveniently', 'contrast', 'cloying', 'church', 'chances', 'casseroles', 'blown', 'bellies', 'belgium', 'bee', 'attempts', 'applied', 'additive', '39', '38', 'xmas', 'whoever', 'weigh', 'wasteful', 'undrinkable', 'uncle', 'tool', 'sufficient', 'suffered', 'successful', 'staff', 'smoking', 'shedding', 'scared', 'roland', 'rica', 'recycle', 'reaching', 'quest', 'presented', 'praise', 'potting', 'painful', 'overbearing', 'oldest', 'obtain', 'neighbors', 'lousy', 'judge', 'joints', 'jerk', 'impress', 'ideas', 'grows', 'gripe', 'grilling', 'grapes', 'gorgeous', 'games', 'fillings', 'fighting', 'field', 'families', 'estimated', 'entree', 'dismay', 'digestible', 'dig', 'defective', 'crocker', 'convert', 'compromise', 'coffeemaker', 'chocolately', 'chebe', 'caffine', 'brilliant', 'avail', 'affects', 'affected', 'adorable', 'acne', '69', 'zoe', 'xanthan', 'whirley', 'wear', 'watcher', 'wary', 'vegetarians', 'unsure', 'tupperware', 'thinkthin', 'teenage', 'tap', 'suggestions', 'sugarless', 'sudden', 'starving', 'sight', 'sigh', 'shall', 'serves', 'scout', 'scheduled', 'risotto', 'rides', 'researching', 'recyclable', 'recommending', 'pyramid', 'prune', 'proteins', 'pkg', 'pile', 'pak', 'op', 'nevertheless', 'ness', 'mmm', 'midnight', 'lump', 'leaks', 'leads', 'labrador', 'kombucha', 'incorporate', 'imitation', 'hormel', 'ginseng', 'function', 'fee', 'february', 'entertained', 'eagerly', 'drained', 'dozens', 'david', 'covers', 'coupons', 'controlled', 'combining', 'burns', 'bummed', 'breading', 'block', 'barista', 'avoderm', 'australian', 'amish', 'aggressive', 'activity', '3oz', '2oz', '135', 'wind', 'wholesale', 'users', 'ultimately', 'transition', 'tossing', 'stopping', 'spout', 'spoil', 'spill', 'sniffed', 'settings', 'series', 'reuse', 'requirements', 'reputation', 'repeatedly', 'rebecca', 'quiet', 'pulp', 'pulling', 'proud', 'precious', 'plays', 'pickles', 'pacific', 'overwhelmingly', 'outdoor', 'oranges', 'numbers', 'notified', 'native', 'nachos', 'mommy', 'millet', 'magazine', 'lesser', 'killer', 'junkie', 'jims', 'increasing', 'hazard', 'greyhound', 'gladly', 'follows', 'flow', 'flip', 'favorable', 'excellant', 'equipment', 'don', 'disc', 'definetly', 'cycle', 'cuz', 'curiosity', 'constipated', 'colorful', 'cocktails', 'clump', 'chewier', 'bud', 'bubbly', 'breasts', 'bouillon', 'behold', 'bacteria', 'advertisement', 'acids', '79', '37', 'wraps', 'wall', 'vitacoco', 'trusted', 'tricky', 'towel', 'toothpaste', 'thier', 'theme', 'teething', 'tablet', 'sweat', 'suffers', 'suffering', 'strainer', 'strain', 'stack', 'soul', 'siberian', 'seasons', 'resembles', 'renal', 'reference', 'reese', 'random', 'publix', 'pu', 'prepackaged', 'poppy', 'poison', 'pike', 'pho', 'oral', 'oberto', 'nephew', 'massive', 'masala', 'marmalade', 'lumps', 'louisiana', 'leading', 'jerkey', 'investment', 'infection', 'increases', 'inconsistent', 'ignored', 'hundred', 'hamburgers', 'gulp', 'guest', 'growth', 'golean', 'gingery', 'gastric', 'foster', 'firmer', 'feline', 'express', 'enthusiastic', 'el', 'eggnog', 'dusted', 'device', 'demand', 'deluxe', 'decorate', 'darjeeling', 'crown', 'cottage', 'chutney', 'chewiness', 'camper', 'boyardee', 'bliss', 'blast', 'believer', 'beet', 'ahoy', 'adjusted', '46', '0g', 'youngest', 'ww', 'woke', 'visits', 'varies', 'travels', 'traveled', 'toaster', 'thirty', 'tears', 'tasteful', 'talked', 'survive', 'supper', 'struggled', 'stone', 'stiff', 'steer', 'steam', 'squirt', 'smoothly', 'slip', 'shortage', 'santa', 'sake', 'sacrifice', 'rounds', 'rotate', 'roller', 'ritual', 'resulted', 'reports', 'relieved', 'refreshed', 'recognize', 'reads', 'ravioli', 'questions', 'quench', 'profits', 'potatoe', 'perk', 'pens', 'penne', 'pat', 'overwhelm', 'nourishing', 'nicer', 'naked', 'mystery', 'microwaved', 'meow', 'meatballs', 'manufacture', 'lying', 'limes', 'leg', 'lard', 'jell', 'inclined', 'hunting', 'holy', 'hill', 'handled', 'habits', 'grandpa', 'glutino', 'gi', 'former', 'flu', 'fennel', 'exchange', 'everlasting', 'drizzle', 'disposakups', 'disclaimer', 'dew', 'decorating', 'condensed', 'cilantro', 'chi', 'champagne', 'caesar', 'books', 'boldness', 'blind', 'blending', 'bichon', 'band', 'bagel', 'altogether', 'alaska', 'yuk', 'wound', 'worms', 'worlds', 'wire', 'wing', 'usps', 'undertones', 'unappealing', 'tiki', 'teenie', 'team', 'tastey', 'shrink', 'shea', 'senses', 'sams', 'rotation', 'rind', 'reseal', 'removing', 'release', 'relaxed', 'reduction', 'rates', 'rat', 'promotion', 'powered', 'plans', 'pina', 'pin', 'pesticides', 'pedigree', 'pasty', 'origin', 'nutrient', 'noise', 'musty', 'muscle', 'mouthful', 'lookout', 'layers', 'lawn', 'itchy', 'intensity', 'ingrediants', 'indicates', 'ibs', 'hike', 'hers', 'harney', 'gradually', 'grabbing', 'glasses', 'gaining', 'froth', 'frosted', 'freshest', 'formed', 'figuring', 'evoo', 'doggy', 'distributor', 'diameter', 'dear', 'dave', 'dab', 'creek', 'coombs', 'cookbook', 'confirmed', 'colorado', 'click', 'chase', 'charity', 'celiacs', 'casual', 'buns', 'buffet', 'breathe', 'background', 'art', 'apparent', 'aka', 'ache', '98', '350', 'zealand', 'weed', 'waits', 'veterinarian', 'upper', 'unfortunate', 'unbelievably', 'unacceptable', 'truvia', 'taster', 'supporting', 'suited', 'strictly', 'shaved', 'shade', 'seeking', 'river', 'reconstituted', 'protection', 'prescribed', 'pregnancy', 'practical', 'postage', 'planned', 'perform', 'passes', 'originals', 'optional', 'opens', 'ole', 'newtons', 'nacho', 'mmmmm', 'ml', 'microwaving', 'message', 'marks', 'maintaining', 'lifetime', 'kongs', 'kale', 'jumps', 'jiffy', 'jarred', 'indicate', 'imagination', 'icky', 'icicle', 'hospital', 'horrid', 'hello', 'hazelnuts', 'furry', 'formulation', 'flying', 'finishes', 'fiance', 'extended', 'dye', 'discontinue', 'discomfort', 'dijon', 'deserve', 'culinary', 'countless', 'converted', 'consideration', 'complexity', 'cloyingly', 'clover', 'climate', 'cincinnati', 'chun', 'chex', 'checkups', 'carousel', 'buttermilk', 'bouquet', 'blessing', 'bakes', 'australia', 'assured', 'arm', 'approval', 'adores', 'acerola', '64', '42', '2008', 'yo', 'wolf', 'wipe', 'whiff', 'wheatgrass', 'washington', 'wallet', 'vibrant', 'unbroken', 'twists', 'transport', 'tortillas', 'tests', 'speaking', 'spare', 'sleepy', 'sickly', 'score', 'scoops', 'safer', 'responsible', 'respect', 'remarkable', 'raves', 'rash', 'quarts', 'pumping', 'profit', 'pooch', 'pocky', 'planted', 'physical', 'pepperidge', 'passing', 'mothers', 'monday', 'manhattan', 'mama', 'maine', 'letter', 'knocked', 'killed', 'instance', 'insert', 'ink', 'inhaled', 'implies', 'horseradish', 'hopeful', 'gustaf', 'gm', 'garage', 'frig', 'freak', 'flight', 'flake', 'ex', 'drying', 'drizzled', 'deployed', 'deeper', 'decrease', 'compete', 'compact', 'commercially', 'cod', 'choked', 'cheers', 'chains', 'casserole', 'carmel', 'buttered', 'breeder', 'bravo', 'baggie', 'bagels', 'avoiding', 'antlers', 'allergens', 'akin', 'agent', '2007', '190', '160', 'waking', 'voice', 'vile', 'vienna', 'velvet', 'vegas', 'values', 'v8', 'unappetizing', 'tommy', 'tetley', 'teeny', 'teapot', 'sucking', 'struggle', 'spoonfuls', 'soupy', 'sincerely', 'se', 'scare', 'resemble', 'reducing', 'recommendations', 'ranks', 'quenching', 'promote', 'prevents', 'potty', 'plug', 'picks', 'peet', 'panda', 'pains', 'niece', 'newly', 'movements', 'microwavable', 'micro', 'michigan', 'meatloaf', 'lundberg', 'latter', 'insulin', 'id', 'hearts', 'heaping', 'features', 'fallen', 'fails', 'extras', 'experiencing', 'experiences', 'excitement', 'enticing', 'employees', 'dispensing', 'disaster', 'dieters', 'describes', 'derived', 'deliveries', 'culture', 'cry', 'cows', 'cooled', 'continuing', 'chosen', 'choo', 'cheat', 'charm', 'charles', 'candied', 'canceled', 'camp', 'bursting', 'burger', 'building', 'boss', 'bodies', 'beets', 'aussie', 'au', 'afterward', '2x', '1lb', '10oz', 'yorkies', 'worthwhile', 'wines', 'western', 'weighed', 'weekends', 'veg', 'utterly', 'unnatural', 'unknown', 'twinnings', 'tj', 'thriving', 'thousand', 'tab', 'suits', 'sucked', 'subscribing', 'straws', 'sriracha', 'spain', 'sophisticated', 'sole', 'smoothest', 'slightest', 'sisters', 'shin', 'session', 'seldom', 'scottish', 'scored', 'sacrificing', 'ruins', 'rescued', 'remarkably', 'recycled', 'rapidly', 'questionable', 'quarters', 'proved', 'protected', 'presence', 'pool', 'pomeranian', 'plentiful', 'plane', 'pez', 'pearls', 'particles', 'overcooked', 'opted', 'opt', 'obsessed', 'oak', 'neutral', 'muesli', 'mounds', 'metabolism', 'mature', 'manageable', 'loads', 'lip', 'lifesavers', 'leash', 'laws', 'kimchi', 'jumbo', 'illness', 'harm', 'happening', 'gut', 'googled', 'gently', 'frustration', 'fortified', 'foodie', 'fluke', 'flowery', 'floors', 'endless', 'dominant', 'dino', 'dick', 'depend', 'decreased', 'deciding', 'dance', 'crappy', 'countries', 'convince', 'confident', 'conditions', 'compost', 'complimentary', 'competition', 'companion', 'clif', 'chilli', 'canadian', 'byproducts', 'buckwheat', 'browned', 'brine', 'birth', 'believed', 'backpacking', 'asia', 'alfalfa', 'advertise', 'additions', '41', '31', 'zinc', 'yep', 'worrying', 'watched', 'walls', 'walgreens', 'urinary', 'uncooked', 'tolerance', 'tire', 'tie', 'tide', 'taurine', 'taught', 'tacs', 'substituting', 'stuffer', 'strict', 'stinks', 'squirrels', 'sport', 'sensitivities', 'sends', 'seemingly', 'sawdust', 'salsas', 'sage', 'restrictions', 'respond', 'republic', 'prominent', 'pellets', 'parsley', 'pa', 'overboard', 'orijen', 'oregano', 'olds', 'mochas', 'mmmm', 'minced', 'mic', 'merely', 'margarine', 'lunchbox', 'lowrey', 'lined', 'lie', 'lee', 'laying', 'laxative', 'larry', 'john', 'itch', 'insanity', 'incorrect', 'immensely', 'horribly', 'hefty', 'heartily', 'gummis', 'gout', 'gagged', 'fifty', 'fence', 'faces', 'exquisite', 'expiry', 'evenings', 'escapes', 'equals', 'enthusiasm', 'ecstatic', 'earths', 'duplicate', 'dissappointed', 'direction', 'desirable', 'dentist', 'dealing', 'cupcake', 'crusts', 'crunchier', 'crock', 'consists', 'concentration', 'component', 'ceylon', 'breastfeeding', 'blows', 'blew', 'anxiety', 'antler', 'antibiotics', 'alfredo', 'airport', 'aging', 'africa', 'advance', 'acts', '500', '3x', '1oz', '1000', 'yield', 'wins', 'wee', 'unusable', 'turmeric', 'troubles', 'trim', 'tremendous', 'tore', 'ticket', 'therapy', 'terriers', 'teens', 'suppliers', 'substituted', 'substantially', 'stinger', 'stik', 'somebody', 'solve', 'socks', 'social', 'skins', 'sickeningly', 'shorter', 'shift', 'roommate', 'rib', 'retain', 'recalled', 'rank', 'race', 'rabbit', 'pushed', 'progresso', 'pitted', 'partner', 'parent', 'palette', 'nails', 'mediterranean', 'magnesium', 'lining', 'limits', 'lickin', 'lickety', 'leery', 'lake', 'knowledge', 'kisses', 'kiss', 'killing', 'instruction', 'improves', 'identify', 'hull', 'hills', 'hay', 'hash', 'guacamole', 'gosh', 'godsend', 'goats', 'gems', 'freshen', 'forewarned', 'filet', 'events', 'eve', 'effectiveness', 'dyes', 'dusting', 'downright', 'dorm', 'distinctly', 'dining', 'digging', 'devours', 'detail', 'deprived', 'decaff', 'da', 'cucumber', 'critical', 'creams', 'condiments', 'carolina', 'carnation', 'cared', 'cappucino', 'butters', 'bunches', 'bun', 'breastmilk', 'blossom', 'blessed', 'barrel', 'bait', 'asparagus', 'ants', 'amongst', 'aids', 'adverse', '44', '240', '220', '09', 'z', 'yerba', 'worthless', 'whirl', 'weeds', 'websites', 'vinaigrette', 'vaguely', 'usable', 'unwanted', 'underneath', 'udi', 'tougher', 'topper', 'sweetleaf', 'sunbutter', 'stuffers', 'strongest', 'stringy', 'stray', 'sri', 'spouse', 'specified', 'soothes', 'slide', 'sinuses', 'simpler', 'shy', 'shut', 'shepherds', 'shepard', 'sediment', 'saltines', 'roots', 'rex', 'resolved', 'recurring', 'react', 'rasberry', 'rainbow', 'promises', 'producer', 'practices', 'polish', 'pm', 'pliable', 'plantation', 'pickiest', 'perspective', 'peak', 'pastries', 'oro', 'orangina', 'nutro', 'neatly', 'mugs', 'moss', 'minis', 'milks', 'meeting', 'med', 'maximum', 'mat', 'mash', 'maruchan', 'marinades', 'malty', 'mall', 'maldon', 'maintains', 'mahogany', 'loaves', 'lanka', 'kups', 'kicks', 'jersey', 'jams', 'individuals', 'hears', 'gsd', 'goal', 'gnats', 'genius', 'garnish', 'fusilli', 'furniture', 'fuji', 'forth', 'foreign', 'extraordinary', 'experimented', 'eliminated', 'earned', 'dropping', 'distance', 'delights', 'deet', 'decorated', 'crumbling', 'couch', 'cools', 'contrary', 'confusing', 'confection', 'complicated', 'competitor', 'combines', 'colada', 'claiming', 'chock', 'bout', 'bloom', 'bloated', 'bittersweet', 'bisque', 'bin', 'beers', 'basics', 'backyard', 'awfully', 'autoship', 'alcoholic', '59', '53', 'westie', 'visible', 'valentines', 'tryed', 'tom', 'thoughts', 'tempting', 'tahini', 'sumatran', 'suckers', 'substitution', 'studies', 'stood', 'stations', 'statement', 'stairs', 'soymilk', 'soooooo', 'softness', 'scary', 'rocky', 'rican', 'regard', 'reduces', 'pushing', 'pringles', 'porch', 'poops', 'po', 'pint', 'persian', 'periods', 'performance', 'pencil', 'pen', 'paint', 'overtones', 'nom', 'namaste', 'nabisco', 'mouthfeel', 'mortar', 'mores', 'merchandise', 'matches', 'mangos', 'mainstream', 'logo', 'kenya', 'judging', 'intestinal', 'indication', 'imparts', 'hardest', 'gunpowder', 'grit', 'gin', 'gels', 'gamble', 'fluids', 'felidae', 'fajitas', 'existent', 'exercising', 'evidence', 'envelopes', 'enriched', 'eatin', 'drugs', 'dreams', 'donated', 'divide', 'discovering', 'disappears', 'diner', 'digesting', 'deodorant', 'definitly', 'deer', 'deceiving', 'dated', 'dalfour', 'curries', 'curl', 'crude', 'crispness', 'contaminated', 'confess', 'compelled', 'ceramic', 'celsius', 'burrito', 'bourbon', 'bound', 'bothers', 'blog', 'biased', 'awsome', 'autumn', 'attempting', 'astringent', 'ashamed', 'americano', '89', '78', '5lbs', '58', 'wooden', 'wimpy', 'whites', 'warnings', 'wakes', 'wabash', 'vinegary', 'upscale', 'upcoming', 'twizzlers', 'tuesday', 'tonic', 'toasty', 'thunder', 'theses', 'temperatures', 'tarter', 'sucrose', 'studying', 'stroganoff', 'strikes', 'stocks', 'squeezing', 'spoke', 'species', 'soothe', 'sodastream', 'sobe', 'smokiness', 'skinless', 'settling', 'semolina', 'saltier', 'sack', 'roaster', 'requirement', 'repurchase', 'refills', 'ref', 'recieve', 'realy', 'quenches', 'qualify', 'purely', 'prove', 'processor', 'pine', 'pigs', 'picante', 'pediatrician', 'overs', 'outcome', 'opinions', 'offset', 'nutritionist', 'noticing', 'nostalgia', 'noon', 'nonfat', 'mt', 'medley', 'measures', 'luzianne', 'luxury', 'luscious', 'lowfat', 'league', 'lather', 'knee', 'kenyan', 'jr', 'ireland', 'inviting', 'husbands', 'humid', 'hcg', 'handfuls', 'hammer', 'halves', 'halva', 'grahams', 'golf', 'generously', 'gal', 'fuzzy', 'funbites', 'fortunate', 'folger', 'fitness', 'facial', 'expectation', 'energized', 'ending', 'enchilada', 'elements', 'edition', 'dumplings', 'dumping', 'dress', 'doses', 'doritos', 'doctors', 'distress', 'dispense', 'diego', 'descriptions', 'delightfully', 'dedicated', 'decoration', 'dane', 'crying', 'croutons', 'creaminess', 'cooling', 'conversation', 'components', 'compatible', 'cloth', 'citrate', 'cesar', 'cascadian', 'carob', 'caring', 'bon', 'blonde', 'bases', 'baggies', 'attracted', 'arrowhead', 'approach', 'amazons', 'alter', 'afternoons', 'absorbed', '88', '250', 'yikes', 'whirly', 'wasa', 'vomited', 'vitality', 'velvety', 'vast', 'usage', 'uniform', 'undertone', 'tx', 'trigger', 'tings', 'tied', 'tequila', 'teenager', 'taylor', 'suspicious', 'superfood', 'stem', 'staples', 'spry', 'spendy', 'sorely', 'settles', 'sealable', 'screaming', 'scarf', 'salba', 'safflower', 'ryvita', 'rules', 'riceselect', 'rewarding', 'relieve', 'raising', 'rainy', 'presto', 'possibility', 'possibilities', 'popcorns', 'pk', 'picnic', 'permanent', 'ought', 'nylabones', 'nurse', 'nt', 'nougat', 'nibs', 'nearest', 'navitas', 'mousse', 'migraines', 'messed', 'mere', 'mental', 'mega', 'mauna', 'manager', 'ma', 'loa', 'lightweight', 'lightning', 'lieu', 'leche', 'laugh', 'lastly', 'las', 'jif', 'jeans', 'jaws', 'irresistible', 'inhale', 'industry', 'independent', 'hygiene', 'hydrate', 'hanging', 'guessed', 'granny', 'fulfilling', 'froze', 'frothy', 'frogs', 'football', 'fifteen', 'festival', 'extend', 'evident', 'erh', 'enzymes', 'environmental', 'entertain', 'emergencies', 'electric', 'dollop', 'dogfood', 'divided', 'distribution', 'dispensers', 'discerning', 'dilmah', 'digested', 'defeats', 'deeply', 'decafs', 'counterpart', 'counted', 'contribute', 'conditioning', 'compromised', 'compensate', 'colour', 'colds', 'clip', 'chewable', 'charms', 'cet', 'cauliflower', 'castor', 'cash', 'canning', 'caffiene', 'buster', 'brief', 'breakfasts', 'brandy', 'bladder', 'bj', 'biodegradable', 'bent', 'begins', 'bariani', 'barbara', 'bam', 'az', 'attest', 'associate', 'apprehensive', 'application', 'alley', 'alittle', 'alertness', 'accordingly', 'accepted', '57', 'zucchini', 'yea', 'winning', 'whopping', 'vegans', 'varying', 'ugly', 'tullys', 'tracking', 'touted', 'toilet', 'tingle', 'throws', 'tennis', 'teach', 'taped', 'tan', 'swallowing', 'survived', 'surrounding', 'subject', 'starburst', 'stamped', 'spits', 'sp', 'solo', 'sloppy', 'signing', 'shoppe', 'saute', 'sachets', 'route', 'relaxation', 'regards', 'refreshment', 'recognizable', 'reality', 'reached', 'private', 'presents', 'pete', 'periodically', 'peppercorn', 'outlet', 'outdated', 'organix', 'newer', 'needle', 'nauseous', 'music', 'muddy', 'movement', 'morsel', 'mileage', 'methods', 'mesquite', 'mercury', 'memorable', 'mccann', 'margarita', 'mangosteen', 'maintenance', 'magical', 'lotion', 'lollipop', 'lights', 'leakage', 'knorr', 'knees', 'kicked', 'kelloggs', 'junky', 'journey', 'iraq', 'invest', 'insanely', 'ingest', 'impart', 'imagined', 'hurts', 'humble', 'hum', 'host', 'hitting', 'heading', 'gras', 'goji', 'gmos', 'flexible', 'fermented', 'faith', 'extent', 'explained', 'exists', 'excessively', 'eukanuba', 'ethnic', 'enhancer', 'enchiladas', 'drastically', 'dramatically', 'downfall', 'disliked', 'disguise', 'determined', 'destroys', 'denmark', 'delicous', 'definatly', 'dang', 'custom', 'cured', 'cultures', 'crumb', 'craft', 'costing', 'contamination', 'contacting', 'congestion', 'concerning', 'comb', 'clue', 'closing', 'clever', 'classes', 'chloride', 'chestnut', 'cheated', 'caff', 'caf', 'butternut', 'brazilian', 'boutique', 'bitters', 'bicarbonate', 'beneful', 'begun', 'bees', 'bearable', 'bb', 'asin', 'angry', 'analysis', 'aficionado', 'advertises', 'advanced', 'aches', '66', '5th', '56', '2lb', '01', 'zipper', 'youtube', 'yields', 'wegman', 'waist', 'vase', 'varities', 'varied', 'valuable', 'updated', 'uncomfortable', 'unbearable', 'twang', 'tummies', 'trend', 'touches', 'tots', 'tot', 'thyme', 'thumb', 'thistle', 'theaters', 'temporary', 'teacher', 'suspected', 'sucker', 'stephen', 'stationed', 'spreading', 'spreadable', 'softened', 'snapple', 'sluggish', 'slower', 'skippy', 'shoulder', 'shirataki', 'sheets', 'sheen', 'sessions', 'screwed', 'scrape', 'scotland', 'scents', 'scented', 'runner', 'rising', 'ripoff', 'riding', 'richest', 'retrievers', 'released', 'rejected', 'reed', 'recalls', 'rancher', 'que', 'pudge', 'protective', 'professionally', 'proceeded', 'porridge', 'pomegranates', 'pointer', 'ploy', 'petals', 'peets', 'patient', 'passable', 'overwhelms', 'overcook', 'ohio', 'obtained', 'ntilde', 'nowadays', 'nourish', 'norm', 'nation', 'mud', 'mountains', 'motion', 'monin', 'mission', 'mio', 'military', 'midwest', 'marinate', 'macchiato', 'luxurious', 'le', 'lathers', 'kopi', 'irritated', 'instructed', 'infant', 'increasingly', 'hyper', 'hulless', 'hodgson', 'gnawing', 'glossy', 'furthermore', 'fulfilled', 'fromm', 'formulated', 'focused', 'fields', 'fettuccine', 'feelings', 'feeds', 'explode', 'expand', 'exist', 'excellence', 'er', 'emails', 'dug', 'drips', 'dripping', 'drawing', 'doubts', 'dominate', 'dissolving', 'discolored', 'discarded', 'disappearing', 'crunchies', 'critters', 'creation', 'copper', 'conditioners', 'chipped', 'chewies', 'cavalier', 'cast', 'cards', 'callard', 'bypass', 'bye', 'butterscotch', 'buildup', 'brisk', 'brie', 'brian', 'branch', 'boat', 'bend', 'bamboo', 'avoided', 'artisan', 'arriving', 'arctic', 'answered', 'amino', 'amaretto', 'altura', 'achieve', 'accompaniment', 'abundance', '51', '32oz', '155', 'zinger', 'woody', 'unpalatable', 'uneven', 'understood', 'turtle', 'touched', 'torrone', 'tones', 'timing', 'tamarind', 'sweetens', 'supplied', 'suger', 'successfully', 'strangely', 'stovetop', 'steps', 'stella', 'starters', 'stainless', 'sprouter', 'sparkle', 'sourced', 'smith', 'skittles', 'singles', 'shortening', 'shinier', 'ruining', 'rockstar', 'rival', 'rite', 'rim', 'revv', 'reputable', 'replenish', 'replacements', 'rehydrate', 'region', 'regimen', 'recording', 'reconstitute', 'rapid', 'randomly', 'q', 'pun', 'princess', 'preventing', 'pours', 'positively', 'pic', 'pep', 'pastrami', 'padding', 'overpoweringly', 'overlook', 'oops', 'oct', 'occurred', 'nuke', 'nirvana', 'nail', 'mysterious', 'munchos', 'moves', 'molded', 'modest', 'mmmmmm', 'mistaken', 'meh', 'materials', 'maryland', 'madhava', 'located', 'lively', 'laundry', 'lakes', 'labor', 'kills', 'ito', 'issued', 'isle', 'inventory', 'inspired', 'insect', 'ins', 'inflammation', 'indulging', 'huckleberry', 'hrs', 'hr', 'houston', 'horrendous', 'horchata', 'hooray', 'highland', 'hextra', 'herring', 'hardened', 'granular', 'georgia', 'garbanzo', 'fusion', 'freezes', 'flavorable', 'flare', 'feedings', 'explosion', 'erin', 'elated', 'ekobrew', 'eh', 'ect', 'dusty', 'dumb', 'drove', 'dreamfields', 'disturbing', 'disks', 'disgusted', 'dioxide', 'dinosaurs', 'dextrose', 'development', 'delivering', 'defiantly', 'decorations', 'decade', 'dallas', 'cutter', 'crunching', 'criticism', 'crf', 'connection', 'completed', 'commonly', 'columbia', 'clumping', 'closure', 'clearing', 'chuckles', 'chalk', 'cellophane', 'casing', 'candle', 'cals', 'bundle', 'breathing', 'branded', 'bowels', 'blowing', 'blooming', 'blech', 'b12', 'ascorbic', 'applies', 'ample', 'ambrosia', 'alcohols', 'adventure', '9g', '8g', '63', '62', '600', '20g', '13g', 'ziwipeak', 'zhena', 'windows', 'wilderness', 'whiskey', 'waistline', 'vouch', 'vote', 'void', 'vital', 'versatility', 'upgrade', 'unwrap', 'trident', 'treating', 'trained', 'throats', 'theory', 'technically', 'taylors', 'tabs', 'sunshine', 'sugarfree', 'styles', 'stream', 'steaming', 'sr', 'spitting', 'spends', 'sorta', 'sonoma', 'solutions', 'snapper', 'sleeve', 'skyline', 'sickening', 'shoe', 'sheltie', 'savers', 'saltine', 'salami', 'rivals', 'reservation', 'replacer', 'refer', 'realistic', 'queen', 'purees', 'pumkin', 'puffy', 'probiotic', 'prize', 'pretend', 'presumably', 'preferable', 'polished', 'playful', 'planter', 'pectin', 'pebbles', 'panel', 'ovaltine', 'obedience', 'nylon', 'newest', 'mystic', 'mouse', 'moreover', 'monkey', 'modern', 'mocafe', 'misses', 'mealy', 'mcdonalds', 'matching', 'marzano', 'malted', 'mallomar', 'mailing', 'madhouse', 'macadamias', 'luna', 'lozenges', 'lotus', 'linked', 'linda', 'krusteaz', 'jambalaya', 'insects', 'ingesting', 'inconvenient', 'improving', 'hormones', 'hmmm', 'hides', 'hersheys', 'heb', 'harvested', 'hardy', 'hardware', 'grandparents', 'gr', 'gfcf', 'gastrointestinal', 'gagging', 'freaking', 'frame', 'formerly', 'foie', 'fogchaser', 'floss', 'flash', 'fever', 'fertilizer', 'feeder', 'favorably', 'exterior', 'expires', 'exceeds', 'escape', 'entertainment', 'energizing', 'embarrassed', 'element', 'duncan', 'domestic', 'disclosure', 'discern', 'differ', 'dice', 'decently', 'decay', 'dd', 'currant', 'ct', 'crop', 'criteria', 'coworker', 'corrected', 'corporate', 'corners', 'corned', 'conscience', 'clog', 'cliff', 'citrusy', 'chilly', 'chair', 'bustelo', 'bump', 'branches', 'bowser', 'bottling', 'booster', 'blues', 'bleeding', 'bitty', 'bison', 'believes', 'award', 'author', 'asthma', 'ass', 'argue', 'anticipation', 'ancient', 'ah', 'absolutly', '52', '10th', 'wean', 'wave', 'vastly', 'valerian', 'urine', 'upsets', 'unfiltered', 'truely', 'traditionally', 'tor', 'tilda', 'thyroid', 'thursday', 'thorough', 'teen', 'tact', 'swanson', 'swallows', 'supple', 'substances', 'sublime', 'steeps', 'steamer', 'spongy', 'splendid', 'spite', 'spell', 'snappy', 'skinner', 'simmering', 'simmered', 'siamese', 'shreds', 'shines', 'screws', 'scraps', 'scone', 'savored', 'sause', 'samoas', 'rep', 'reheated', 'refried', 'refillable', 'recycling', 'racing', 'pulls', 'proportion', 'promotes', 'proflowers', 'proceeds', 'priority', 'premier', 'poppers', 'pollux', 'peels', 'peeled', 'peaberry', 'patiently', 'patience', 'palates', 'oxidized', 'overdone', 'os', 'oj', 'obesity', 'oatmeals', 'nuff', 'nostalgic', 'nc', 'monitor', 'mode', 'mistakenly', 'mist', 'minnesota', 'milled', 'microwaveable', 'menthol', 'mcp', 'mcdonald', 'mastiff', 'masked', 'maintained', 'lumpy', 'los', 'll', 'lily', 'lends', 'kurig', 'korea', 'kal', 'jellies', 'isolate', 'intensely', 'infuser', 'import', 'hugger', 'homework', 'ho', 'herr', 'harry', 'harden', 'gumbo', 'granolas', 'goya', 'fudgy', 'format', 'fitting', 'fermentation', 'explanation', 'explains', 'exp', 'ethical', 'enfamil', 'enclosed', 'emerils', 'eliminates', 'ea', 'dunno', 'dp', 'donating', 'doberman', 'dissatisfied', 'dispose', 'dismayed', 'discovery', 'deter', 'detailed', 'decorative', 'danger', 'damp', 'dachshunds', 'curly', 'crispbread', 'cosmic', 'cornstarch', 'consist', 'confirm', 'complements', 'colas', 'clothes', 'closet', 'clearance', 'cleanser', 'circle', 'chuck', 'chickens', 'charcoal', 'busted', 'bunnies', 'brushed', 'bottoms', 'boon', 'blocks', 'bleu', 'belts', 'beaten', 'baseball', 'barking', 'barilla', 'audio', 'attacks', 'atleast', 'arrangement', 'appreciates', 'appeals', 'aloe', 'allot', 'activities', 'aa', '800', '68', '43', '33g', '170', '08', '06', 'youth', 'yoghurt', 'wrigley', 'willingly', 'williams', 'wears', 'washes', 'warmth', 'warmer', 'vintage', 'vice', 'verdict', 've', 'va', 'utz', 'unprocessed', 'unpleasantly', 'undesirable', 'twix', 'truthfully', 'tremendously', 'treasure', 'traces', 'tourangelle', 'totw', 'tearing', 'teaching', 'tame', 'systems', 'syndrome', 'suprise', 'supports', 'supervision', 'sunset', 'suitcase', 'sugarworks', 'struggling', 'stories', 'stellar', 'status', 'starchy', 'stages', 'squished', 'spin', 'specify', 'speaks', 'soybeans', 'softens', 'snyder', 'sneaking', 'sleepytime', 'sing', 'sinfully', 'similarly', 'services', 'sender', 'scrub', 'sachet', 'robbery', 'ripping', 'revealed', 'repulsive', 'reject', 'regulate', 'reformulated', 'redenbacher', 'rectangular', 'rec', 'ration', 'quencher', 'pucker', 'probe', 'prevalent', 'potentially', 'poster', 'portioned', 'porcini', 'poodles', 'pomeranians', 'poisoning', 'pleaser', 'placebo', 'phosphate', 'ph', 'peruvian', 'pekoe', 'patients', 'pasteurized', 'pappy', 'pao', 'pants', 'pam', 'overjoyed', 'overcome', 'outrageously', 'nutri', 'naan', 'muscles', 'moxie', 'mon', 'migraine', 'michaels', 'meyenberg', 'melon', 'meatless', 'maui', 'marinated', 'loosely', 'longest', 'linger', 'lengths', 'legal', 'lawry', 'laughing', 'laid', 'krispies', 'kidneys', 'kiddos', 'keen', 'jumping', 'jeremiah', 'jan', 'irritating', 'introduction', 'interactive', 'insulated', 'instinct', 'infusion', 'industrial', 'indestructible', 'ii', 'husks', 'horses', 'hoo', 'hmm', 'highway', 'hesitated', 'height', 'heartier', 'happybellies', 'guide', 'gogo', 'glutamate', 'gigantic', 'germ', 'gerd', 'gem', 'gelatinous', 'fragments', 'forming', 'foamy', 'flush', 'float', 'flaver', 'established', 'enzyme', 'entrees', 'entice', 'ensures', 'eliminating', 'effectively', 'dunk', 'dryer', 'drugstore', 'drives', 'dot', 'dislikes', 'discriminating', 'deviled', 'detected', 'dependable', 'curing', 'crusty', 'cruise', 'crockpot', 'critter', 'creations', 'cr', 'considerable', 'consensus', 'communication', 'committing', 'colder', 'cm', 'cloud', 'clay', 'cinammon', 'chore', 'cheating', 'cha', 'centers', 'cautious', 'casein', 'cadbury', 'cabinets', 'cabbage', 'bullet', 'bulky', 'buddies', 'branston', 'bistro', 'begged', 'beaba', 'balm', 'attribute', 'attempted', 'atlanta', 'artichoke', 'aromas', 'argentina', 'appetizer', 'annoyed', 'americolor', 'agility', 'agents', 'acting', 'acquire', '94', '83', '82', '73', '47', '260', '210', 'zang', 'wa', 'volumizing', 'vit', 'vietnamese', 'verified', 'unusually', 'unfamiliar', 'underwhelmed', 'turbinado', 'travelling', 'towels', 'toothpicks', 'timer', 'tenderness', 'tails', 'swears', 'summers', 'summary', 'subway', 'stealing', 'stares', 'standby', 'squishy', 'squid', 'sprite', 'solely', 'society', 'snobs', 'sniffing', 'smoker', 'slides', 'slept', 'shelties', 'shards', 'sept', 'seperate', 'separates', 'sensible', 'scientific', 'scarfed', 'sans', 'salon', 'rushed', 'rodeo', 'rewarded', 'resemblance', 'requests', 'repeated', 'remote', 'remedies', 'reluctantly', 'reheat', 'reflect', 'reddish', 'reacted', 'quot', 'processes', 'prima', 'prevented', 'pressing', 'predominant', 'plunge', 'pleasures', 'pirates', 'pickling', 'photos', 'philippines', 'pesticide', 'pc', 'pastes', 'papaya', 'paks', 'oysters', 'oxidants', 'overload', 'outlets', 'ouch', 'orbit', 'official', 'nuttiness', 'noisy', 'nip', 'nicest', 'nephews', 'neo', 'necessity', 'napkin', 'nap', 'molars', 'mignon', 'mason', 'mars', 'marketplace', 'margaritas', 'marathon', 'manual', 'maids', 'madras', 'madagascar', 'lush', 'lungo', 'lowering', 'log', 'loading', 'lion', 'limp', 'lifting', 'leary', 'lap', 'labelled', 'kup', 'koolaid', 'juniper', 'introducing', 'interestingly', 'insult', 'inhales', 'indulgent', 'indistinguishable', 'incidentally', 'imports', 'images', 'idiot', 'honeys', 'honesty', 'henry', 'hectic', 'hansen', 'grinders', 'greyhounds', 'gran', 'grabs', 'gopher', 'gatherings', 'fred', 'fox', 'fluff', 'florets', 'fees', 'fabric', 'ez', 'expects', 'evidently', 'entry', 'enhancement', 'egrave', 'ebay', 'eagle', 'dv', 'durability', 'dulce', 'driver', 'dreadful', 'doughnut', 'dixie', 'distilled', 'discounts', 'devouring', 'devoted', 'detergent', 'desperately', 'dentures', 'dc', 'daddy', 'crossed', 'crispier', 'crashing', 'coughing', 'consistant', 'consequently', 'confuse', 'compartment', 'commercials', 'colon', 'classique', 'chondroitin', 'chefs', 'checkout', 'cavities', 'catfood', 'cancelling', 'butcher', 'bush', 'burr', 'burner', 'bunny', 'bumble', 'brookside', 'brm', 'brisket', 'briefcase', 'breadsticks', 'breadcrumbs', 'bounty', 'blossoms', 'bless', 'bleached', 'becuase', 'beast', 'battle', 'basset', 'balances', 'bahlsen', 'b6', 'aweful', 'avoids', 'assure', 'approaching', 'appreciation', 'apartment', 'altoid', 'altho', 'affecting', 'adventurous', '9oz', '86', '14g', '12g', 'yumm', 'whitefish', 'walker', 'violet', 'uti', 'upsetting', 'upgraded', 'unwrapped', 'unlikely', 'undoubtedly', 'twining', 'twigs', 'transitioned', 'toxins', 'touching', 'tim', 'tile', 'thermos', 'tee', 'tedious', 'tannic', 'swing', 'sustainable', 'surrounded', 'surpasses', 'summertime', 'sum', 'sulfate', 'suffice', 'stong', 'stones', 'stamp', 'stained', 'spills', 'spaniels', 'sourness', 'sorghum', 'sores', 'someplace', 'smiles', 'slivers', 'slippery', 'shook', 'seniors', 'seitan', 'seep', 'sassafras', 'routinely', 'rottie', 'rhubarb', 'resource', 'resorted', 'requiring', 'represented', 'replicate', 'remembering', 'regrets', 'reg', 'refusing', 'ranchero', 'quote', 'qualifies', 'proportions', 'promo', 'prohibitive', 'pride', 'preschool', 'prairie', 'potatos', 'portability', 'poof', 'platinum', 'pkgs', 'pizzas', 'pits', 'pitbull', 'phosphorus', 'phase', 'pharmacy', 'peter', 'peru', 'peanutty', 'pays', 'partly', 'parisian', 'pantene', 'owns', 'overdo', 'oriented', 'officially', 'occupy', 'nuttier', 'nightly', 'nasal', 'mustards', 'montana', 'mono', 'mixtures', 'milkshake', 'midday', 'mein', 'mechanism', 'mealtime', 'matched', 'management', 'mae', 'lug', 'lethargic', 'leafy', 'language', 'lakewood', 'kung', 'jugs', 'jalapenos', 'jalape', 'intestines', 'internal', 'intent', 'infuse', 'impulse', 'icy', 'icecream', 'hydrating', 'humidity', 'huh', 'hounds', 'hotdogs', 'homestyle', 'holders', 'hikes', 'hazlenut', 'harshness', 'handing', 'habaneros', 'groups', 'greece', 'grace', 'government', 'goop', 'goodie', 'gloves', 'generation', 'functional', 'frother', 'forty', 'flavoured', 'firstly', 'fedex', 'fastest', 'extensive', 'expedited', 'evil', 'evaluate', 'elk', 'elevated', 'edamame', 'eb', 'eastern', 'discard', 'dieter', 'diagnosis', 'destructive', 'destiny', 'designs', 'dept', 'delay', 'decides', 'debris', 'davinci', 'crepes', 'cozy', 'county', 'controlling', 'construction', 'consistantly', 'combat', 'colander', 'coffeemate', 'cocoas', 'coach', 'clumpy', 'clumped', 'cleanup', 'chocolatemint', 'chives', 'characteristics', 'cerelac', 'celebrate', 'carrageenan', 'carnivores', 'cannister', 'calms', 'cairn', 'britain', 'brighter', 'bricks', 'breaded', 'boylan', 'bedroom', 'bc', 'baronet', 'banned', 'bailey', 'astronaut', 'aspects', 'ash', 'anniversary', 'altitude', 'alliance', 'adagio', 'accomplish', 'absorbs', '92', '7g', '17g', 'yogourmet', 'worn', 'woods', 'wired', 'width', 'wider', 'wicked', 'wheel', 'wheats', 'werther', 'welch', 'weaver', 'weary', 'watt', 'warrant', 'warms', 'ward', 'war', 'vinegars', 'veranda', 'venus', 'variant', 'upright', 'unsealed', 'unfair', 'um', 'tum', 'tuck', 'trout', 'toothbrush', 'toddy', 'tocopherols', 'tierra', 'text', 'technique', 'tease', 'surprises', 'sulfites', 'subtly', 'subsequently', 'strike', 'standpoint', 'stacked', 'springs', 'sporting', 'sponge', 'spicing', 'specialized', 'southwest', 'sought', 'sophie', 'sooth', 'solofill', 'soba', 'smores', 'slump', 'sludge', 'slather', 'singing', 'sinful', 'shortcake', 'shoot', 'shattered', 'shaken', 'sensational', 'sealing', 'rootbeer', 'roasters', 'retired', 'resistance', 'represent', 'remarked', 'relied', 'relaxes', 'rehydrated', 'refilled', 'referring', 'recover', 'recipies', 'recipients', 'ranging', 'queasy', 'pugs', 'prod', 'premeasured', 'praline', 'pounder', 'plums', 'pilaf', 'picnics', 'petrodex', 'pennies', 'peculiar', 'patty', 'patch', 'papers', 'paella', 'padded', 'owe', 'overeating', 'outdoors', 'orchard', 'ocha', 'occur', 'observed', 'notoriously', 'noting', 'noticable', 'northeast', 'nori', 'nibbles', 'newton', 'network', 'nestea', 'nerves', 'ne', 'mueslix', 'moose', 'monosodium', 'modify', 'miserable', 'minimize', 'minimally', 'mincemeat', 'millstone', 'messing', 'mentioning', 'meantime', 'mead', 'maynards', 'masters', 'mastered', 'masses', 'marcona', 'manna', 'manages', 'maltitol', 'lowers', 'lowered', 'loosing', 'lodge', 'lightness', 'lever', 'layered', 'lactation', 'koi', 'knocking', 'kindle', 'kelp', 'jolokia', 'jimmies', 'jewel', 'jazzed', 'jazz', 'jalepeno', 'islands', 'irritation', 'invented', 'insist', 'inserted', 'innovative', 'ingested', 'inducing', 'indoors', 'income', 'inc', 'ick', 'hydrolyzed', 'hurting', 'hung', 'hollow', 'hellman', 'heartland', 'happiness', 'hangover', 'gumballs', 'gulps', 'grip', 'grandsons', 'gnc', 'glance', 'gathering', 'fruitcake', 'foundation', 'fong', 'fold', 'fluoride', 'flesh', 'fiend', 'feta', 'featured', 'favs', 'favored', 'faux', 'faulty', 'fade', 'factors', 'facebook', 'extracted', 'exploded', 'explaining', 'expanding', 'exclusive', 'estimate', 'est', 'es', 'ener', 'elite', 'efforts', 'edited', 'eatting', 'dubious', 'dryness', 'dropper', 'drawn', 'draining', 'drag', 'douwe', 'dosage', 'dissapointment', 'dispensed', 'disney', 'disk', 'discontinuing', 'discernible', 'discernable', 'diminished', 'diluting', 'developing', 'detract', 'depleted', 'density', 'decafe', 'decadence', 'debating', 'daycare', 'cubed', 'crispiness', 'craved', 'cracks', 'convience', 'contributes', 'continually', 'compressed', 'complimented', 'compleats', 'competing', 'combos', 'colorings', 'colman', 'cloudy', 'client', 'classroom', 'chunkier', 'chilis', 'channel', 'cento', 'cardamon', 'carbon', 'cape', 'braces', 'boo', 'blob', 'blank', 'blair', 'biking', 'ben', 'bellagio', 'believing', 'beefy', 'banged', 'backup', 'awkward', 'avocados', 'autism', 'austin', 'ann', 'amore', 'allspice', 'alba', 'airplane', 'agar', 'advertized', 'ads', 'accompany', 'abundant', '360', '11g', '05', 'zoo', 'zone', 'yummiest', 'yoo', 'yam', 'wipes', 'wedge', 'weavers', 'wearing', 'wally', 'wagging', 'vitacost', 'visually', 'videos', 'venture', 'vender', 'vegies', 'vacationing', 'university', 'understanding', 'underlying', 'unbleached', 'uh', 'ty', 'tuscany', 'tuscan', 'trio', 'tri', 'trapped', 'transparent', 'tn', 'tinge', 'ting', 'thrive', 'threads', 'thoughtful', 'thirds', 'tenderloin', 'teenagers', 'tabby', 'sweating', 'swap', 'sustained', 'supervise', 'sunny', 'sufficiently', 'subpar', 'strings', 'stressful', 'stomache', 'stimulating', 'spat', 'spagetti', 'solidified', 'sniffs', 'smalls', 'slit', 'slimey', 'skipping', 'skills', 'situations', 'shoes', 'sherry', 'sheer', 'scouts', 'schnauzers', 'sceptical', 'scattered', 'scallions', 'sandy', 'rubbed', 'rottweiler', 'rotting', 'rot', 'riviera', 'rinses', 'rices', 'rev', 'restore', 'restocked', 'responds', 'resistant', 'reservations', 'representative', 'replaces', 'rendered', 'removes', 'register', 'reflex', 'refers', 'recomended', 'reclosable', 'reception', 'receives', 'reacts', 'rachel', 'pulverized', 'puddings', 'promoting', 'productive', 'preferably', 'position', 'popularity', 'polar', 'petal', 'passionfruit', 'pangs', 'outs', 'orginal', 'organization', 'ongoing', 'okra', 'occurs', 'occurring', 'obnoxious', 'nummy', 'novice', 'novel', 'nieces', 'nibbling', 'mos', 'montreal', 'moisturizing', 'mislead', 'mis', 'mice', 'miami', 'messes', 'mentions', 'melissa', 'meetings', 'martinis', 'margin', 'maraschino', 'mailbox', 'lunchboxes', 'lou', 'liters', 'listening', 'liner', 'liberally', 'legged', 'leathery', 'leap', 'leans', 'latin', 'largely', 'kentucky', 'kellogs', 'kat', 'itty', 'intervals', 'inspection', 'inflated', 'indicating', 'incorrectly', 'incentive', 'huy', 'husk', 'hotness', 'heats', 'healty', 'healthwise', 'healthfood', 'hardwood', 'hanover', 'handmade', 'hall', 'gummie', 'guiltless', 'guayaki', 'gro', 'greenish', 'graze', 'gravies', 'grades', 'gouging', 'goody', 'goldendoodle', 'glued', 'glow', 'glory', 'geared', 'ga', 'functions', 'freakin', 'frappe', 'folded', 'flexibility', 'flew', 'flatbread', 'fishing', 'finals', 'filets', 'file', 'figures', 'fifth', 'fiery', 'festive', 'felines', 'exposure', 'espressos', 'enthusiastically', 'enthusiast', 'encounter', 'eleven', 'elbows', 'dreaded', 'dramatic', 'doubtful', 'doors', 'donates', 'dominated', 'ditch', 'distribute', 'distraction', 'distracted', 'distract', 'distinguish', 'displayed', 'detectable', 'desperation', 'dehydration', 'deceived', 'dealer', 'data', 'darned', 'dangers', 'daisy', 'cupboards', 'crunched', 'cramping', 'counters', 'counterparts', 'cornucopia', 'convient', 'convienient', 'conjunction', 'conditioned', 'compounds', 'commands', 'command', 'colony', 'colombia', 'coffeehouse', 'cofee', 'coconutty', 'cobbler', 'clearer', 'circumstances', 'circles', 'cigars', 'chomp', 'chemo', 'chemistry', 'characteristic', 'certification', 'cattle', 'cappuccinos', 'capacity', 'campfire', 'calif', 'butterfinger', 'bulb', 'brunch', 'browsing', 'brooklyn', 'breadmaker', 'bouncy', 'bouncing', 'boosts', 'bloomed', 'bizarre', 'bisquits', 'bentley', 'bella', 'belief', 'beating', 'basement', 'bands', 'baja', 'appropriately', 'annual', 'amazement', 'amaranth', 'alongside', 'allowance', 'allergen', 'algae', 'ahhh', 'admitted', 'adjustment', 'adjusting', 'addicts', 'acted', 'acrid', 'accurately', 'accidently', 'accent', 'absent', '97', '84', '7oz', '77', '76', '330', '30g', '25oz', '1980', '15g', '07', 'yearly', 'yahoo', 'xtra', 'xd', 'worm', 'worcestershire', 'wok', 'withdrawal', 'wishes', 'wildly', 'westies', 'wag', 'visitors', 'viola', 'vanished', 'usb', 'upstate', 'universal', 'unfortunatly', 'undercooked', 'unadulterated', 'twisted', 'tune', 'trunk', 'treatments', 'transported', 'transitioning', 'torture', 'tolerates', 'tolerant', 'tingly', 'thousands', 'tex', 'tek', 'teenies', 'teeccino', 'tannins', 'tables', 'switzerland', 'swirl', 'supplying', 'stunned', 'stressed', 'stover', 'storm', 'stingers', 'steaz', 'stave', 'stats', 'spoiling', 'spoilage', 'spirit', 'specs', 'sourdough', 'souchong', 'sorbet', 'snacker', 'smear', 'slows', 'skimpy', 'similiar', 'silken', 'shopper', 'shelled', 'sheds', 'shavings', 'separation', 'seedless', 'sec', 'scramble', 'scooby', 'schar', 'scam', 'sauteing', 'salada', 'saccharin', 'russel', 'rushing', 'romano', 'robert', 'retrieve', 'retains', 'resturant', 'restrict', 'restock', 'respectable', 'resolve', 'resembling', 'represents', 'repair', 'remembers', 'rejects', 'reconsider', 'reccomended', 'quanity', 'qt', 'pyrenees', 'punctured', 'puerto', 'proprietary', 'proceed', 'pristine', 'prickly', 'presently', 'premixed', 'premade', 'powers', 'potted', 'popchip', 'pooches', 'pomegranite', 'polyunsaturated', 'pleasurable', 'platter', 'pinkish', 'phrase', 'philadelphia', 'perks', 'peeling', 'peachy', 'paramount', 'papillon', 'pans', 'panic', 'paneer', 'pancreatitis', 'pallet', 'oyster', 'overkill', 'oscar', 'organically', 'ordinarily', 'optimal', 'oprah', 'operated', 'nustevia', 'nozzle', 'nerve', 'navy', 'natures', 'nada', 'mutts', 'muscovado', 'mole', 'mojito', 'mixers', 'mislabeled', 'mike', 'mex', 'merry', 'merchants', 'measurements', 'mays', 'maynard', 'mates', 'masks', 'masking', 'mario', 'marie', 'maria', 'magnificent', 'mackerel', 'macaroons', 'lychee', 'louis', 'longevity', 'listened', 'limb', 'lies', 'lea', 'lava', 'lapsang', 'lane', 'landfills', 'lame', 'kopali', 'knot', 'knocks', 'knob', 'kikkoman', 'ka', 'justice', 'jus', 'juicer', 'iodine', 'involve', 'invited', 'interfere', 'insomnia', 'insisted', 'insides', 'inhaling', 'inform', 'influence', 'inflammatory', 'infants', 'induced', 'indiana', 'inclusion', 'incident', 'improperly', 'immunity', 'hp', 'hotels', 'horror', 'horizon', 'honor', 'homeless', 'holland', 'hines', 'hero', 'heaviness', 'heath', 'heal', 'headed', 'havanese', 'harrogate', 'haribos', 'guar', 'gristle', 'greys', 'grate', 'grandfather', 'goodbye', 'glycerin', 'global', 'generations', 'gang', 'frostings', 'frost', 'fortunes', 'forcing', 'floored', 'flips', 'flavourful', 'flattened', 'fixing', 'fettucini', 'feb', 'farts', 'falafel', 'fades', 'ezekiel', 'expressed', 'expo', 'explodes', 'exaggerating', 'errands', 'episode', 'enthusiasts', 'enormous', 'endurance', 'endorsement', 'encased', 'enables', 'emulsifier', 'emptied', 'eczema', 'echo', 'duh', 'dries', 'drawbacks', 'dop', 'doctoring', 'doc', 'dizzy', 'distinguishable', 'diseases', 'discourage', 'diminish', 'di', 'devoid', 'describing', 'denser', 'definition', 'default', 'deck', 'deboles', 'debbie', 'debated', 'dean', 'danish', 'dal', 'cuban', 'crisper', 'crisis', 'craisins', 'crabmeat', 'cousins', 'cous', 'coupled', 'corks', 'consisted', 'confirmation', 'concoctions', 'completly', 'complains', 'commute', 'committed', 'commenting', 'colleagues', 'clogged', 'clinic', 'clicked', 'clerk', 'clears', 'chomping', 'chilies', 'cheerio', 'cheaply', 'char', 'ceral', 'carring', 'carnivorous', 'caribbean', 'carbquik', 'carafe', 'captain', 'capresso', 'cameron', 'caffinated', 'broths', 'breaker', 'bow', 'booda', 'blush', 'blackcurrant', 'billed', 'beside', 'bergamont', 'belongs', 'beagles', 'baste', 'bakers', 'backed', 'babyfood', 'b40', 'b002ievjry', 'atlantic', 'army', 'arabic', 'applications', 'applaud', 'apo', 'antioxidents', 'anticipating', 'angeles', 'anchovy', 'amused', 'alway', 'aloha', 'alleviate', 'albacore', 'adequately', 'ackee', 'accomplished', 'accompanied', 'absurd', 'absence', 'abroad', 'a1', '90s', '440', '28g', '20oz', '2000', '11oz', '10lbs', '0z', '03', 'zoom', 'zippy', 'zen', 'zap', 'yummier', 'yoohoo', 'yellowish', 'yellowfin', 'yamamotoyama', 'x2', 'wore', 'wegmans', 'wednesday', 'wedges', 'wad', 'votes', 'viable', 'vermouth', 'varity', 'valid', 'vague', 'uploaded', 'untill', 'unscrew', 'unsafe', 'unrefined', 'unimpressed', 'understatement', 'turtles', 'tropics', 'treacle', 'translates', 'transformed', 'trading', 'tools', 'tomatos', 'tomatoe', 'toasting', 'tissue', 'tiramisu', 'thirteen', 'thickened', 'thereby', 'thaw', 'tended', 'teh', 'te', 'tarrazu', 'tanzania', 'tantalizing', 'tank', 'tacky', 'tac', 'ta', 'sweetest', 'sweden', 'sustainably', 'survival', 'surpassed', 'supervised', 'sunlight', 'sunkist', 'sundried', 'suet', 'succulent', 'studio', 'struck', 'strained', 'straightforward', 'stout', 'stoked', 'stench', 'staining', 'squirrel', 'squeez', 'splitting', 'spikes', 'specks', 'sorbate', 'soooooooo', 'sooooooo', 'soldier', 'sneaks', 'snapped', 'smallish', 'slop', 'slicing', 'sleeps', 'sir', 'sipped', 'singapore', 'simplest', 'siblings', 'shred', 'shirt', 'shiba', 'shark', 'setup', 'sections', 'seat', 'seam', 'screen', 'scratches', 'scooped', 'savoring', 'saucepan', 'satay', 'sacramento', 'rotini', 'ropes', 'rooster', 'rome', 'rocket', 'ritter', 'ribbon', 'reverse', 'residual', 'resident', 'resembled', 'resealed', 'repackaged', 'reminding', 'reminder', 'regions', 'regime', 'refunding', 'reds', 'recreate', 'raya', 'raises', 'radish', 'qualified', 'purity', 'purist', 'purchaser', 'puncture', 'pumped', 'puking', 'puggle', 'provence', 'protecting', 'preferring', 'pralines', 'praises', 'potpourri', 'posting', 'postal', 'port', 'poly', 'pollen', 'poke', 'pluses', 'plates', 'planting', 'pissed', 'pinto', 'pillsbury', 'pikes', 'pickup', 'picaridin', 'phoenix', 'pf', 'permanently', 'perishable', 'peri', 'performs', 'percolator', 'pennsylvania', 'pee', 'patent', 'patches', 'panicked', 'palouse', 'oxygen', 'overtone', 'overlooked', 'overflow', 'outback', 'ot', 'oskri', 'orgeat', 'offs', 'obsession', 'nutricity', 'numb', 'nugget', 'notify', 'notable', 'northwest', 'noises', 'nj', 'nitrite', 'nightmare', 'nido', 'newspaper', 'nastiest', 'namely', 'muted', 'mum', 'mulling', 'moisturizes', 'moisturized', 'moisten', 'mm', 'microwaves', 'memphis', 'melty', 'mellows', 'measurement', 'married', 'manhattans', 'mangled', 'magically', 'maca', 'luxardo', 'lunchtime', 'lorann', 'longtime', 'locations', 'lingered', 'lineup', 'lima', 'lhasa', 'letters', 'lend', 'landfill', 'laces', 'laced', 'kodiak', 'kennel', 'kahlua', 'joseph', 'join', 'jealous', 'jammed', 'jackpot', 'iodized', 'invigorating', 'invention', 'intriguing', 'integrity', 'insure', 'inn', 'ing', 'informative', 'infested', 'infact', 'impatient', 'identified', 'hybrid', 'hurricane', 'humane', 'hue', 'horrified', 'homes', 'holic', 'hmmmm', 'hilarious', 'hh', 'harbor', 'halvah', 'gyro', 'gumball', 'grudgingly', 'grossed', 'greener', 'gormet', 'gorilla', 'gods', 'gnaw', 'glycol', 'glob', 'gimmick', 'gifted', 'germination', 'genuinely', 'genmai', 'garrett', 'garlicky', 'ganache', 'fundraiser', 'frog', 'frise', 'fresca', 'frequency', 'freaks', 'fondarific', 'fo', 'flawless', 'ferrets', 'feral', 'fanta', 'fairness', 'fage', 'extensively', 'expiring', 'experimentation', 'existing', 'excelent', 'examine', 'et', 'espressivo', 'eraser', 'envirokidz', 'engineered', 'encouraging', 'encouraged', 'employee', 'emergen', 'electrolyte', 'economic', 'dude', 'drum', 'drooling', 'driven', 'dragon', 'dragging', 'doxie', 'distracting', 'dissapointing', 'dispenses', 'disintegrate', 'disabled', 'ding', 'digests', 'digestives', 'devil', 'descale', 'dentastix', 'defect', 'decor', 'decaffinated', 'cvs', 'culprit', 'cucumbers', 'crusted', 'crispbreads', 'creatures', 'creamed', 'craves', 'crates', 'crafted', 'cowboy', 'courtesy', 'courteous', 'coriander', 'copy', 'continuously', 'contest', 'composition', 'comparatively', 'commissary', 'collar', 'coincidence', 'cluster', 'clicker', 'cleansing', 'classy', 'chups', 'chocula', 'chipolte', 'chickpeas', 'cheeze', 'challenged', 'century', 'cellulose', 'cavender', 'catching', 'carrier', 'carbonate', 'capers', 'calmed', 'cafeteria', 'bust', 'bullion', 'bulgur', 'buggers', 'bubblegum', 'bt', 'bs', 'brussels', 'brownish', 'browning', 'britt', 'brit', 'bridal', 'breville', 'brats', 'brag', 'bp', 'boullion', 'bothersome', 'boosting', 'boils', 'boba', 'bo', 'blanket', 'blander', 'blackened', 'bingo', 'bengal', 'beleive', 'beggin', 'becasue', 'bananna', 'b70', 'awaiting', 'attachment', 'attach', 'atop', 'athlete', 'assist', 'assemble', 'arrangements', 'ar', 'approve', 'appetizers', 'appealed', 'apiece', 'anxiously', 'ant', 'anal', 'amp', 'alton', 'alternating', 'altered', 'ales', 'akita', 'aeropress', 'advantages', 'acquainted', 'acesulfame', '87', '5hour', '20lbs', '15mg', '125', '10lb', '02', 'zagnut', 'yummm', 'ymmv', 'yakisoba', 'x1', 'wp', 'winn', 'winegums', 'wimp', 'wikipedia', 'wierd', 'whoa', 'whitish', 'whipping', 'wf', 'welcomed', 'weimaraner', 'watches', 'warranty', 'warehouses', 'waitress', 'wagon', 'violently', 'vino', 'vertical', 'vernors', 'vehicle', 'vege', 'unsatisfactory', 'uniquely', 'uneaten', 'underweight', 'ulcers', 'typing', 'tweak', 'trusty', 'trimmed', 'translate', 'transferred', 'transfats', 'toothpick', 'toes', 'tobacco', 'toasts', 'tillamook', 'tier', 'thrived', 'thinly', 'thickens', 'thickening', 'thereafter', 'thee', 'th', 'tester', 'temps', 'teddy', 'tbls', 'tb', 'tasts', 'tartaric', 'tao', 'tangerines', 'taller', 'talks', 'swelling', 'swell', 'suprisingly', 'sunmaid', 'subscriptions', 'submitted', 'subdued', 'stunning', 'stubborn', 'structure', 'stroke', 'stripes', 'strenuous', 'strategy', 'stare', 'squirts', 'squeezable', 'squeaky', 'squashed', 'spraying', 'splinter', 'spinning', 'spelling', 'spark', 'southwestern', 'soluble', 'sojos', 'softest', 'soapy', 'soaps', 'snackers', 'smuckers', 'smarter', 'smacking', 'slap', 'skipped', 'simplicity', 'shudder', 'shriveled', 'shoppers', 'shocking', 'shinny', 'shiitake', 'sharper', 'shares', 'shampooing', 'shallow', 'shaky', 'serendipity', 'senna', 'segment', 'scraped', 'scarfs', 'sb', 'saucy', 'sangria', 'sacks', 'rv', 'rug', 'rosy', 'role', 'rods', 'risks', 'rico', 'reused', 'reservoir', 'rescues', 'repotted', 'repertoire', 'repellent', 'repeating', 'reheating', 'regularity', 'refrigerating', 'referred', 'redbull', 'recovered', 'recomment', 'rattle', 'ranchers', 'ramune', 'races', 'quickest', 'quibble', 'quesadillas', 'purists', 'purest', 'puffins', 'pseudo', 'provider', 'proudly', 'promising', 'projects', 'producers', 'precooked', 'precisely', 'precise', 'population', 'poptarts', 'pond', 'pomi', 'poland', 'plocky', 'pleases', 'pity', 'pitchers', 'pita', 'physically', 'philly', 'persons', 'pernigotti', 'pearled', 'payed', 'pathetic', 'parm', 'paragon', 'pamelas', 'palmer', 'pairing', 'ozs', 'overloaded', 'orgran', 'organ', 'optimum', 'omelet', 'oloves', 'oi', 'odors', 'obtaining', 'objectionable', 'nutrigrain', 'nutricious', 'nunaturals', 'nourishment', 'notification', 'notices', 'nonsense', 'nondescript', 'nitrates', 'nighttime', 'newborn', 'neon', 'negligible', 'needles', 'napa', 'myriad', 'mylar', 'murray', 'muir', 'motor', 'moral', 'moistness', 'moister', 'mmmmmmm', 'mistakes', 'miracles', 'miniscule', 'minicongo', 'minds', 'merlot', 'medal', 'md', 'mcvities', 'mberry', 'marshmellow', 'marriage', 'marginally', 'manuka', 'manufactures', 'mahogony', 'maggie', 'lung', 'luggage', 'looove', 'locked', 'locating', 'llc', 'listmania', 'listings', 'lifted', 'lg', 'laughed', 'landed', 'labradors', 'krispy', 'krispie', 'krinkle', 'keuring', 'kellog', 'kavli', 'kadoya', 'justin', 'journal', 'jerkys', 'jaipur', 'jacked', 'israeli', 'irregular', 'ironically', 'involves', 'investigate', 'intoxicating', 'intention', 'inspected', 'injury', 'ingenious', 'inevitably', 'imaginable', 'illinois', 'horehound', 'hometown', 'hideous', 'hexane', 'heeler', 'heathy', 'heartbeat', 'hat', 'hartz', 'harmless', 'habenero', 'gunk', 'gun', 'guidelines', 'guard', 'grossly', 'groomer', 'groom', 'grin', 'grayish', 'gravel', 'graphics', 'grained', 'goood', 'googling', 'goldfish', 'goldens', 'glutton', 'gluey', 'glen', 'glands', 'germinate', 'gee', 'gardening', 'galil', 'fussie', 'frito', 'freshening', 'freshener', 'freight', 'freely', 'franks', 'frank', 'founded', 'forgive', 'foremost', 'footprint', 'folk', 'fluffier', 'flowing', 'floats', 'flipped', 'flecks', 'flaw', 'flavia', 'flashes', 'flair', 'fixes', 'fiesta', 'faves', 'fatigue', 'fantastically', 'familia', 'fajita', 'faithful', 'failing', 'fab', 'expressing', 'exploring', 'experiments', 'existence', 'exceed', 'evolution', 'epic', 'enzymatic', 'enought', 'enhancing', 'enemy', 'endangered', 'emptor', 'elementary', 'eldest', 'elbow', 'eggplant', 'egberts', 'efficiently', 'eclipse', 'eatable', 'earn', 'dynasty', 'dynamic', 'drown', 'drift', 'downsides', 'downed', 'doh', 'distant', 'dissapoint', 'disposed', 'disclose', 'dinos', 'dimensions', 'diapers', 'df', 'designer', 'deserved', 'descent', 'denver', 'delicacy', 'delallo', 'dehydrator', 'defeat', 'dec', 'dearly', 'das', 'dandy', 'dan', 'dalmatian', 'cutlets', 'customize', 'cures', 'cs', 'crunchie', 'cringe', 'cried', 'creepy', 'creature', 'creator', 'countertop', 'cornmeal', 'coon', 'convienent', 'contributing', 'contemplating', 'concur', 'comparably', 'commit', 'collecting', 'coins', 'coarsely', 'clicks', 'cleanings', 'circus', 'cinnamony', 'cigarette', 'chupa', 'chug', 'chubby', 'choclate', 'chewie', 'cheesburger', 'cheeper', 'chart', 'charlie', 'centerpiece', 'cell', 'ceased', 'cd', 'casings', 'cartilage', 'carr', 'carnival', 'capable', 'canines', 'cage', 'caffein', 'cafes', 'buttons', 'buttercream', 'bursts', 'bumps', 'builds', 'broiled', 'brisling', 'breastfeed', 'breakdown', 'boxers', 'boulder', 'bothering', 'borders', 'blackstrap', 'blackberries', 'bjs', 'bitten', 'bio', 'bins', 'bind', 'billing', 'bikram', 'bialetti', 'bi', 'belong', 'bellys', 'beforehand', 'bearing', 'bday', 'bat', 'bartender', 'aveda', 'attributes', 'attitude', 'artisana', 'arsenic', 'arms', 'archer', 'approves', 'appalled', 'anticipate', 'angle', 'angelina', 'amaze', 'alvita', 'alkaline', 'ailments', 'aftertastes', 'africafe', 'adulterated', 'adjustments', 'adapter', 'adapt', 'achieved', 'absolutley', '93', '900', '70s', '25g', '230', '2006', '18g', '17oz', '175', 'zatarain', 'yup', 'yunnan', 'yummmmm', 'writeup', 'writes', 'workplace', 'wolfed', 'witch', 'wishing', 'wisdom', 'wiped', 'winners', 'winco', 'williamsburg', 'wildlife', 'wholeheartedly', 'whiter', 'whining', 'whichever', 'wheaten', 'welsh', 'weiss', 'weighing', 'vue', 'vox', 'vomits', 'vitamix', 'vinci', 'veterinary', 'verify', 'vent', 'vegg', 'veges', 'utter', 'utf8', 'ur', 'upwards', 'upped', 'unwind', 'untouched', 'unsuspecting', 'unsatisfied', 'unmarked', 'unlucky', 'unexpectedly', 'unedible', 'ummm', 'typhoo', 'twinkies', 'twig', 'tweaking', 'turducken', 'tums', 'tumbler', 'tucked', 'trucks', 'troops', 'trials', 'tower', 'tounge', 'tostitos', 'tolerated', 'togarashi', 'tobasco', 'thomas', 'thighs', 'thankyou', 'tha', 'testament', 'tenth', 'tension', 'television', 'tech', 'tanginess', 'tags', 'swimming', 'swift', 'sweetie', 'supplementing', 'suggesting', 'sue', 'subsequent', 'stuffs', 'stride', 'stretchy', 'stole', 'stockpile', 'stockings', 'stepped', 'steals', 'starved', 'starve', 'spritz', 'springer', 'spaetzle', 'spa', 'soyrizo', 'sounding', 'someday', 'solves', 'softball', 'soaks', 'snowy', 'sneeze', 'sneaky', 'snackimals', 'smothered', 'smidge', 'smash', 'smarties', 'smartbones', 'smacks', 'slime', 'slick', 'skimp', 'shove', 'shiritaki', 'shippers', 'shi', 'shave', 'shadow', 'shabby', 'separating', 'sensations', 'selective', 'seams', 'scratched', 'scoville', 'scant', 'scales', 'saut', 'satiated', 'samu', 'samplers', 'rx', 'rude', 'rover', 'rosa', 'rooms', 'roni', 'roads', 'ridge', 'richly', 'retails', 'responsibility', 'requesting', 'replied', 'rendering', 'reliably', 'relevant', 'relationship', 'regulated', 'refresh', 'refilling', 'redeeming', 'recovering', 'receiver', 'readers', 'rays', 'rabbits', 'quoted', 'qid', 'puzzles', 'punched', 'pumpkins', 'pub', 'proves', 'prostate', 'prospect', 'propylene', 'props', 'prompted', 'promotional', 'projected', 'procedure', 'problematic', 'prob', 'prizes', 'principle', 'prefered', 'prefect', 'potency', 'posts', 'poms', 'polite', 'poking', 'plop', 'pittsburgh', 'pipe', 'pillows', 'physician', 'personality', 'periodic', 'perfumey', 'peoples', 'peony', 'peices', 'pawn', 'patio', 'pates', 'pastorelli', 'parfait', 'panko', 'pairs', 'overeat', 'outweigh', 'organisms', 'org', 'orderd', 'orangey', 'opaque', 'offices', 'odorless', 'odds', 'oacute', 'nz', 'nutrional', 'nubs', 'nuanced', 'nourished', 'nitrites', 'nifty', 'nibbled', 'niacin', 'netrition', 'nesquik', 'negatives', 'nauseated', 'narrow', 'nam', 'nailed', 'munched', 'multivitamin', 'moth', 'monounsaturated', 'minded', 'milkbones', 'milano', 'microphone', 'metro', 'meanwhile', 'mayan', 'matzo', 'mastic', 'marshmellows', 'marshall', 'marley', 'marker', 'mainland', 'mahi', 'lugging', 'lox', 'livers', 'liqueur', 'limitations', 'liege', 'legitimate', 'labrada', 'kyjen', 'korma', 'knudsen', 'kindly', 'kg', 'keto', 'kats', 'justifies', 'juicing', 'judgement', 'jones', 'joking', 'jerquee', 'jerkies', 'jay', 'jane', 'james', 'jacobs', 'jacket', 'izzy', 'italia', 'israel', 'isolated', 'irritable', 'invisible', 'investing', 'interval', 'interior', 'intensive', 'instances', 'inspect', 'inevitable', 'incorporating', 'inconvenience', 'incomplete', 'imply', 'identifiable', 'ibd', 'hypoallergenic', 'hurray', 'hulled', 'housewarming', 'hormone', 'homeade', 'hinges', 'heavens', 'havoc', 'haul', 'harissa', 'hardness', 'hangovers', 'handfull', 'hamster', 'hams', 'hahaha', 'gypsy', 'guarana', 'grower', 'grooming', 'grapeseed', 'grandaughter', 'grail', 'graduation', 'gracious', 'goto', 'goreng', 'goose', 'gloppy', 'glop', 'glee', 'gizmo', 'gifting', 'gentleman', 'ganoderma', 'gadget', 'funnel', 'fund', 'fullness', 'fulfillment', 'fulfill', 'fryer', 'fruitiness', 'frugal', 'frothing', 'frizzy', 'fritos', 'fr', 'fours', 'folic', 'foaming', 'florist', 'flea', 'flaxseeds', 'flatulence', 'flatten', 'flamingo', 'flaked', 'fist', 'firmness', 'filtering', 'fillets', 'fibers', 'fertilizers', 'feathers', 'feared', 'fe', 'favorful', 'faded', 'exploding', 'exorbitant', 'exhausted', 'execution', 'excitedly', 'eww', 'estimation', 'era', 'entered', 'engine', 'elusive', 'eighty', 'ehr', 'eggy', 'ed', 'earthborn', 'duped', 'dum', 'drool', 'dreamed', 'doubleshot', 'doodles', 'doo', 'diverse', 'dive', 'distributors', 'disolve', 'disgustingly', 'disgust', 'disappoints', 'diligent', 'difficulties', 'diarhea', 'develops', 'devastated', 'destroying', 'demands', 'delayed', 'defintely', 'defined', 'deducted', 'decisions', 'decidedly', 'dawn', 'darkest', 'dandelion', 'dances', 'crystalized', 'crushing', 'cruelty', 'crohn', 'critic', 'crawling', 'crashes', 'coton', 'cosco', 'cos', 'convincing', 'continuous', 'conference', 'compromising', 'compartments', 'commitment', 'comical', 'colleague', 'colic', 'coladas', 'coin', 'cocaine', 'clubs', 'clementine', 'cleanly', 'citizen', 'cigarettes', 'cigar', 'chows', 'chowed', 'chlorine', 'cheesier', 'cheesecloth', 'cheapo', 'chasing', 'charts', 'charred', 'charities', 'champions', 'carne', 'caravan', 'captured', 'capture', 'cannisters', 'caking', 'cable', 'bus', 'bury', 'buried', 'bueno', 'briefly', 'breastfed', 'braised', 'brains', 'bounce', 'borderline', 'bodum', 'blooms', 'bloat', 'blandness', 'blanched', 'birthdays', 'bionaturae', 'binge', 'bht', 'bavarian', 'battery', 'bariatric', 'bargains', 'barf', 'baklava', 'bakeries', 'baggy', 'b0029xdzik', 'await', 'aversion', 'avenue', 'autistic', 'aug', 'attract', 'assurance', 'assumption', 'assortments', 'assessment', 'aspertame', 'arsenal', 'arnold', 'apso', 'approached', 'appreciative', 'applying', 'appetit', 'amateur', 'alo', 'alkali', 'albertson', 'albanese', 'alarm', 'airline', 'afterall', 'adored', 'adhesive', 'accompanies', 'accidents', 'accessories', '81', '80s', '74', '67', '60s', '4x', '454', '3s', '375', '34g', '24oz', '23g', '1970', '1500', '144', '04', 'zombie', 'ziwi', 'yougurt', 'xlr', 'wtf', 'ws', 'worthington', 'woof', 'wolfing', 'withstand', 'wiping', 'winters', 'winery', 'wilted', 'whew', 'whatnot', 'weights', 'weakness', 'waring', 'wallpaper', 'volumes', 'vivid', 'visual', 'viscosity', 'village', 'vigorous', 'victoria', 'verge', 'velvetta', 'valued', 'valrhona', 'valencia', 'utilize', 'useable', 'upc', 'unto', 'unreal', 'underwhelming', 'tylenol', 'tunnel', 'tumeric', 'triscuit', 'triplets', 'trepidation', 'trendy', 'trashed', 'transferring', 'traffic', 'tracked', 'toxin', 'touts', 'touchy', 'tote', 'toned', 'togethers', 'tm', 'tires', 'tinker', 'tilapia', 'tickle', 'thrill', 'thread', 'thermometer', 'theo', 'thanx', 'texmati', 'tennessee', 'tenders', 'tempt', 'temporarily', 'tempered', 'teacup', 'teachers', 'tastings', 'tastiness', 'tasters', 'tasks', 'taiwan', 'tainted', 'systemic', 'swollen', 'sweaty', 'sustain', 'supersaver', 'superfoods', 'sunrise', 'sums', 'sulfur', 'substandard', 'submit', 'studied', 'stubb', 'strokes', 'strengths', 'strengthen', 'strands', 'straining', 'stinking', 'sting', 'stimulation', 'stimulant', 'stickiness', 'stewed', 'steve', 'standout', 'staleness', 'stacks', 'squeezes', 'sprayer', 'spiral', 'sparse', 'sours', 'smoothe', 'smiling', 'smiley', 'slushy', 'sliding', 'slaw', 'slam', 'singer', 'sin', 'silicone', 'sichuan', 'shrimps', 'shout', 'sharpness', 'shameful', 'seriousness', 'selecting', 'security', 'secondary', 'scream', 'scratchy', 'scorched', 'scene', 'sauced', 'satin', 'sap', 'salting', 'saint', 'russia', 'runnier', 'runa', 'roy', 'roe', 'rises', 'rips', 'ripened', 'rio', 'rigid', 'revise', 'reunion', 'rethink', 'restroom', 'responsive', 'reseller', 'repackage', 'renew', 'renamed', 'remedied', 'relieving', 'relation', 'rejuvenate', 'reintroduced', 'reinforcement', 'refridgerator', 'refrain', 'reflects', 'redwood', 'redskins', 'redskin', 'recommand', 'recognized', 'reccommended', 'realm', 'realizes', 'reaches', 'raviolis', 'ratios', 'ranking', 'ralph', 'radishes', 'radio', 'questioning', 'queso', 'queens', 'pyrithione', 'puzzled', 'putrid', 'purified', 'puked', 'puke', 'published', 'pts', 'pt', 'protects', 'prop', 'progress', 'programs', 'producto', 'proclaimed', 'primo', 'primavera', 'president', 'preschooler', 'positives', 'portuguese', 'portland', 'pooping', 'polluted', 'polenta', 'pointy', 'pointless', 'pleasent', 'plastics', 'plague', 'pixy', 'pitch', 'piquant', 'pipes', 'pinnacle', 'pillow', 'pilafs', 'phosphorous', 'petstore', 'perplexed', 'perked', 'performing', 'performed', 'perfected', 'pepsin', 'peek', 'payment', 'pause', 'patak', 'parthenon', 'parchment', 'pancreas', 'painted', 'pages', 'pac', 'oxidant', 'ox', 'outweighs', 'outings', 'operator', 'onecup', 'offend', 'od', 'obsessive', 'observation', 'obligate', 'object', 'nutshell', 'noticably', 'nipples', 'niederegger', 'nick', 'niche', 'neutered', 'nettle', 'nest', 'nerds', 'neglected', 'muy', 'mung', 'mtn', 'mouthwash', 'motto', 'mott', 'mosquitos', 'monsters', 'momma', 'molly', 'modification', 'models', 'mochi', 'mimic', 'meyer', 'meows', 'meowing', 'mentally', 'melamine', 'mcvitie', 'mc', 'mayonaise', 'masterpiece', 'massage', 'marvel', 'martin', 'martha', 'marinating', 'marginal', 'marble', 'manipulate', 'manganese', 'makeup', 'macs', 'luwak', 'luster', 'lotions', 'loosen', 'longing', 'lone', 'lodged', 'locker', 'loc', 'llave', 'liven', 'liners', 'limping', 'limiting', 'lighten', 'letdown', 'lefse', 'leaner', 'lavendar', 'laptop', 'lace', 'laboratory', 'lable', 'krups', 'knead', 'kix', 'kindergarten', 'kinder', 'kilo', 'kiddo', 'kay', 'kansas', 'jura', 'jungle', 'jo', 'jerusalem', 'jacob', 'iv', 'italians', 'irritate', 'invoice', 'invariably', 'inulin', 'insurance', 'insists', 'inserts', 'inserting', 'ingrediant', 'infinitely', 'indifferent', 'incorporated', 'inadequate', 'imitations', 'imagining', 'illustration', 'illustrated', 'illegal', 'il', 'ikea', 'ignoring', 'ignores', 'ideally', 'ia', 'hydrochloride', 'hunted', 'hunks', 'hops', 'honeymoon', 'honeybush', 'hobby', 'hind', 'hight', 'hfc', 'hes', 'heater', 'heartedly', 'heady', 'hazel', 'haves', 'hats', 'hating', 'harvey', 'hardens', 'happytot', 'happyfamily', 'hankering', 'hangs', 'handles', 'haired', 'h2o', 'gushers', 'gu', 'growers', 'groggy', 'grogg', 'grande', 'gnat', 'glutten', 'glitter', 'gestational', 'george', 'gb', 'gauge', 'gather', 'gasoline', 'g2', 'fungus', 'fulls', 'frothed', 'fowl', 'founder', 'forgetting', 'foodies', 'foglifter', 'foams', 'flows', 'flowering', 'florentine', 'flop', 'flawlessly', 'flaps', 'flame', 'firmly', 'fillet', 'fibre', 'fetch', 'ferret', 'fer', 'feeders', 'featuring', 'fatter', 'farther', 'fart', 'farmhouse', 'fancier', 'faced', 'explosive', 'experts', 'existed', 'exams', 'examined', 'exaggeration', 'ew', 'eu', 'envy', 'enhancers', 'engage', 'endure', 'elephant', 'education', 'economically', 'dyed', 'duration', 'dunking', 'dud', 'ducks', 'drew', 'dreaming', 'drastic', 'drainage', 'drags', 'downstairs', 'doughnuts', 'doubly', 'dots', 'dominates', 'domatcha', 'dole', 'diy', 'distinction', 'displeased', 'disodium', 'disadvantage', 'dime', 'differnt', 'dh', 'detrimental', 'detracts', 'determining', 'despise', 'deserts', 'depressed', 'deposits', 'deliberately', 'definitley', 'decreases', 'dealt', 'dancing', 'damaging', 'dainty', 'cycling', 'curve', 'curd', 'crud', 'crossing', 'critics', 'crisco', 'crew', 'cretors', 'crested', 'crepe', 'credited', 'crank', 'cracking', 'corporation', 'corgis', 'cord', 'contributed', 'considers', 'consequences', 'comprises', 'comprised', 'compostable', 'comparisons', 'comparative', 'closes', 'climbing', 'cleanses', 'classics', 'classico', 'clarity', 'clarify', 'ck', 'chorizo', 'chocolove', 'chocalate', 'chive', 'chimes', 'checkup', 'chatchi', 'charming', 'changs', 'champ', 'chais', 'certificate', 'centuries', 'cement', 'cella', 'celebration', 'cease', 'carte', 'cars', 'carnitine', 'caramelized', 'canyon', 'campers', 'campbells', 'calzones', 'calculated', 'cabin', 'burp', 'bunn', 'bundled', 'bumped', 'bulls', 'bulldogs', 'brussel', 'browns', 'broad', 'brightly', 'bribe', 'brave', 'brach', 'boscoli', 'bonkers', 'blobs', 'bleh', 'bleed', 'birch', 'bicycle', 'bib', 'beta', 'behaved', 'behalf', 'beginner', 'befor', 'basted', 'bassett', 'bass', 'barks', 'banks', 'ban', 'ballpark', 'balancing', 'baconnaise', 'backwards', 'b006ioka84', 'azteca', 'awareness', 'avacado', 'audience', 'attractively', 'attraction', 'atrocious', 'astounding', 'astounded', 'aruba', 'articles', 'arthritic', 'array', 'arived', 'arise', 'aquired', 'apt', 'apologized', 'anemic', 'amsterdam', 'alum', 'alergies', 'albertsons', 'aisles', 'aforementioned', 'addressed', 'actively', 'abuelita', 'abc', '9th', '8th', '750ml', '6th', '5hr', '50th', '4c', '4am', '40g', '3pm', '30lbs', '2lbs', '280', '250ml', '20lb', '2003', '108', 'ziggies', 'yummmy', 'yumminess', 'yolks', 'yolk', 'yellowing', 'yelling', 'wt', 'writer', 'worldwide', 'woodstock', 'wonka', 'wonderfull', 'wondeful', 'winds', 'winding', 'willpower', 'wildflower', 'wi', 'whomever', 'wholly', 'wholefoods', 'whisky', 'whilst', 'wells', 'weaning', 'washable', 'wallop', 'walgreen', 'waft', 'waaaay', 'vocal', 'vines', 'victor', 'vermicelli', 'vegetal', 'vanillin', 'vacuumed', 'vacations', 'usualy', 'unseen', 'unsaturated', 'unsatisfying', 'unripe', 'undigested', 'uncovered', 'uncertain', 'unaware', 'umami', 'ubiquitous', 'tzus', 'typed', 'tvp', 'tulips', 'tugging', 'trustworthy', 'tripping', 'trifle', 'tricked', 'triangular', 'traverse', 'transportation', 'tracts', 'tracks', 'tony', 'toffees', 'tlc', 'titanium', 'tiring', 'tingling', 'tidy', 'tidbits', 'tick', 'ti', 'thawed', 'thanking', 'terra', 'tendons', 'teeter', 'technology', 'techniques', 'technical', 'taxes', 'tasteing', 'tarragon', 'taro', 'tangle', 'sylvia', 'swings', 'sustenance', 'surfing', 'surf', 'sur', 'sufferers', 'sufferer', 'succumb', 'subtlety', 'substitutions', 'subsitute', 'subsided', 'subcribe', 'stumble', 'stroopwafels', 'strive', 'stingy', 'stiffness', 'stickers', 'steroids', 'stegosaurus', 'steadily', 'stateside', 'stadium', 'spruce', 'sproutmaster', 'sprigs', 'sprays', 'sporadically', 'spins', 'spicyness', 'spelled', 'speciality', 'specialist', 'soya', 'sorrento', 'sorbitol', 'sonny', 'solving', 'solidly', 'sock', 'snuff', 'snake', 'smother', 'smoothy', 'smoothing', 'smokies', 'slurp', 'slowing', 'slips', 'slave', 'slamming', 'skunk', 'skor', 'skewers', 'skeptic', 'sixty', 'sixth', 'silicon', 'sift', 'sicily', 'shure', 'shoved', 'shorthair', 'shitzu', 'shellfish', 'shar', 'shakey', 'sfb', 'setter', 'seperated', 'sentence', 'sensory', 'seizures', 'secs', 'sears', 'searches', 'screams', 'scott', 'scotch', 'scenario', 'sc', 'satisfyingly', 'saran', 'salvage', 'saliva', 'safest', 'saccharine', 'rwandan', 'rust', 'rugs', 'rubbing', 'rosso', 'roosevelt', 'rita', 'ridgeback', 'reveal', 'responses', 'responding', 'respiratory', 'respectively', 'resonable', 'reside', 'render', 'removable', 'religiously', 'reimbursed', 'rehydration', 'regional', 'regiment', 'reflection', 'reeses', 'rediculous', 'rectified', 'recordings', 'recipie', 'rear', 'reader', 'ras', 'rarity', 'rapunzel', 'racks', 'rachael', 'quietly', 'qualms', 'qualita', 'pushes', 'prudhomme', 'property', 'propel', 'prolonged', 'privilege', 'preventative', 'pretending', 'presume', 'preparations', 'prayers', 'pray', 'posters', 'poisoned', 'pms', 'pitching', 'pitched', 'piper', 'pioneer', 'pinwheels', 'pinata', 'pico', 'phantom', 'pestle', 'personalized', 'persistent', 'persians', 'perrins', 'perfumed', 'perfer', 'pepto', 'pemmican', 'pei', 'peanutbutter', 'pcs', 'pavilion', 'pastel', 'partners', 'particle', 'paranoid', 'paradise', 'pampered', 'pales', 'pads', 'packer', 'overstuffed', 'overdoing', 'outta', 'outing', 'origins', 'originated', 'orgasmic', 'organs', 'optimistic', 'oomph', 'oolongs', 'omelettes', 'omelets', 'omegas', 'offended', 'octopus', 'occurrence', 'objects', 'oatcakes', 'nutritive', 'nutritionists', 'nutrisystem', 'num', 'nuances', 'nos', 'norway', 'noone', 'nonexistent', 'noire', 'noir', 'noh', 'nitrogen', 'nipple', 'nickel', 'newsletter', 'newfoundland', 'nd', 'nb', 'nauseating', 'naughty', 'nationwide', 'nastiness', 'nancy', 'murky', 'munchy', 'muddled', 'mount', 'mosquitoes', 'mosquito', 'morkie', 'monte', 'modifications', 'mobility', 'mmmmmmmm', 'mites', 'missouri', 'mississippi', 'misery', 'minority', 'mindful', 'mince', 'minature', 'milka', 'metals', 'messages', 'menstrual', 'melange', 'mef', 'maya', 'maximize', 'massey', 'mas', 'marys', 'marmite', 'marketspice', 'marine', 'maltipoo', 'mack', 'lymphoma', 'lured', 'lupo', 'lungs', 'looses', 'loops', 'lollies', 'logs', 'litte', 'liquified', 'liquidy', 'linguine', 'lindor', 'limey', 'limbaugh', 'likewise', 'lighting', 'lightest', 'lightening', 'lied', 'lessons', 'lego', 'leavening', 'leaky', 'lawsuit', 'lana', 'lackluster', 'labradoodle', 'kracker', 'kobe', 'kluski', 'klein', 'kerig', 'kelly', 'justified', 'jrt', 'joined', 'johnny', 'jewish', 'jerry', 'jason', 'jac', 'ivory', 'italiano', 'isles', 'iowa', 'invested', 'interface', 'intentions', 'intentionally', 'intelligence', 'injections', 'injected', 'infected', 'ineffective', 'indonesian', 'indomie', 'indicative', 'inadvertently', 'importing', 'impeccable', 'illusion', 'illnesses', 'idk', 'idiots', 'iam', 'hyped', 'huskies', 'hunter', 'hungarian', 'households', 'hots', 'horrific', 'hooves', 'hook', 'honeycomb', 'hominy', 'hollandaise', 'hives', 'hive', 'hirts', 'highlander', 'herbals', 'hem', 'healthiness', 'healed', 'havn', 'harris', 'handbag', 'hampshire', 'halved', 'guinea', 'guarantees', 'groats', 'greeted', 'greedy', 'greatness', 'grasp', 'grad', 'graber', 'gooood', 'goofy', 'goodlife', 'goldilocks', 'goals', 'glove', 'geriatric', 'gardenia', 'gap', 'fuzz', 'fussiness', 'fused', 'frisky', 'frightening', 'freshens', 'frappuccino', 'fountain', 'forum', 'forgiving', 'forests', 'forces', 'foolish', 'fluctuates', 'fluctuate', 'flipping', 'flavouring', 'flavacol', 'flag', 'fired', 'filtro', 'fibrous', 'females', 'feather', 'fd', 'farming', 'farmed', 'exited', 'excite', 'evaporate', 'euro', 'ethiopian', 'estate', 'esque', 'engaged', 'endorse', 'encourages', 'enamored', 'empties', 'embarrassing', 'elmo', 'elderberry', 'egyptian', 'eggrolls', 'efficacy', 'educated', 'ecologically', 'earthworms', 'earthquake', 'dulse', 'dukan', 'duds', 'dublin', 'drowsy', 'dribble', 'draws', 'doxies', 'downtown', 'downhill', 'douglas', 'doughy', 'doubling', 'dorado', 'doctored', 'ditto', 'distributes', 'distressed', 'dissipates', 'disposal', 'disorders', 'dishwater', 'discouraged', 'diminishes', 'dimensional', 'dimension', 'diedrich', 'didn', 'devon', 'detroit', 'destination', 'desiring', 'designated', 'deposit', 'departure', 'demerara', 'delonghi', 'delicately', 'delcious', 'delays', 'defrosted', 'definitively', 'defense', 'declined', 'debate', 'deadly', 'dassant', 'dangerously', 'dads', 'cylinder', 'cycles', 'cumbersome', 'cultured', 'crystallize', 'cruz', 'crunchiest', 'crummy', 'crucial', 'crinkle', 'creole', 'creators', 'craze', 'crawl', 'crackling', 'coverage', 'court', 'cottonseed', 'cosmetic', 'corporations', 'cop', 'coop', 'cookbooks', 'controversial', 'contribution', 'connoisseurs', 'confections', 'condenser', 'concrete', 'concert', 'composed', 'complications', 'completing', 'comparision', 'communion', 'commodity', 'combing', 'collars', 'coleslaw', 'coleman', 'cole', 'cockapoo', 'coax', 'coatings', 'coal', 'co2', 'cling', 'climb', 'clarified', 'chugged', 'chooses', 'chomps', 'cholula', 'chinatown', 'chin', 'chilling', 'chiles', 'cheezy', 'cheezies', 'charleston', 'challenges', 'chalkiness', 'ceremony', 'cells', 'cavenders', 'caved', 'catches', 'caseinate', 'carpets', 'carboy', 'carbers', 'caponata', 'canes', 'callebaut', 'calamari', 'bulging', 'buen', 'brontosaurus', 'broil', 'brittany', 'breakable', 'brandi', 'brake', 'bounced', 'bobs', 'bobby', 'boasts', 'blocked', 'blanch', 'bisphenol', 'bionature', 'bing', 'bile', 'bilberry', 'bil', 'bff', 'bf', 'bertolli', 'benzoate', 'benifits', 'beneath', 'belize', 'beginnings', 'beefeaters', 'beech', 'beaver', 'beaks', 'basting', 'basenji', 'barrels', 'barbecued', 'balsamico', 'bacterial', 'backordered', 'baci', 'bac', 'babka', 'azar', 'autolyzed', 'astringency', 'assures', 'association', 'assertive', 'aspirin', 'asians', 'aseptic', 'arises', 'apology', 'antonio', 'announced', 'ankles', 'andes', 'amusing', 'als', 'alpen', 'allegedly', 'alaskan', 'alabama', 'ahh', 'agreement', 'agreeable', 'aftertase', 'advisor', 'addresses', 'acquiring', 'acknowledge', 'absorption', 'abit', 'abandoned', 'abandon', '9greenbox', '50lb', '4lb', '45lb', '450', '2am', '2014', '1960', '192', '15oz', '12th', '1200', '11th', '105', '0mg', 'zojirushi', 'zebra', 'zatarains', 'yippee', 'yearning', 'yawning', 'yan', 'wrongly', 'wrestle', 'woofs', 'wolfs', 'wk', 'wisely', 'wildberry', 'wil', 'whisk', 'whine', 'whammy', 'westbrae', 'weeknight', 'weber', 'wattage', 'wasn', 'warns', 'waiter', 'waaay', 'vons', 'vizsla', 'virus', 'vietnam', 'vidalia', 'veterinarians', 'versa', 'uterus', 'ut', 'useing', 'usd', 'urges', 'upstairs', 'unsweet', 'unremarkable', 'unreasonable', 'unpronounceable', 'unpredictable', 'unpacked', 'universe', 'union', 'uninterested', 'unfurl', 'unfortunatley', 'unfinished', 'unenjoyable', 'understated', 'understandable', 'undented', 'unattractive', 'unattended', 'ummmm', 'ultramix', 'uber', 'typo', 'tyler', 'trusting', 'trolli', 'triscuits', 'trimester', 'triggers', 'transports', 'transfat', 'traits', 'traditions', 'tour', 'toughness', 'toughest', 'tongues', 'toll', 'token', 'titled', 'tinny', 'tinned', 'tilt', 'ticked', 'ths', 'threatening', 'thinned', 'thickener', 'thiamine', 'thermal', 'ther', 'theoretically', 'theese', 'theatres', 'theanine', 'thay', 'testimonials', 'terrified', 'tempura', 'teasan', 'tcp', 'tastless', 'tastewise', 'tar', 'tampered', 'tamari', 'syringe', 'swirled', 'swim', 'swill', 'swig', 'sweetish', 'susan', 'surprized', 'surge', 'supremo', 'superstore', 'supercrema', 'sundays', 'sulphur', 'subscriber', 'subjected', 'suave', 'stylish', 'stung', 'stuffy', 'stroller', 'stranger', 'stopper', 'stirfry', 'stickier', 'stevita', 'stephens', 'steakhouse', 'starkist', 'starches', 'squirting', 'squeak', 'spritzer', 'spoken', 'spoils', 'spillage', 'spiedie', 'spider', 'spearmints', 'spca', 'sooooooooo', 'song', 'somersaults', 'soldiers', 'software', 'socially', 'soccer', 'sno', 'snickerdoodle', 'snicker', 'snarf', 'snagged', 'snacked', 'smelt', 'smack', 'slowed', 'slivered', 'slender', 'sleeves', 'sleepless', 'sissy', 'siracha', 'sinks', 'simular', 'simplistic', 'similarity', 'sierra', 'sideways', 'shore', 'shoprite', 'shoots', 'shilajit', 'shifts', 'sheep', 'sharkies', 'severly', 'sep', 'seeping', 'seeming', 'secured', 'scraping', 'scrap', 'scouring', 'scottie', 'scores', 'scooping', 'scooper', 'schipperke', 'scharffen', 'scars', 'scarce', 'scallops', 'savior', 'saucer', 'satifying', 'sapporo', 'samoa', 'sammy', 'salmonella', 'salivate', 'sakes', 'saddened', 'sacrificed', 'rustic', 'rows', 'rougie', 'rotel', 'ross', 'romaine', 'roma', 'rogers', 'robusta', 'roadside', 'ridder', 'ricotta', 'ribeye', 'ribbons', 'revive', 'retro', 'resources', 'reserved', 'resend', 'repurchasing', 'representation', 'reporting', 'repellant', 'repaired', 'relying', 'relocated', 'relegated', 'rehydrating', 'regualar', 'regretted', 'reflected', 'reeked', 'reek', 'reddenbacher', 'records', 'recognizes', 'recived', 'recieving', 'receipe', 'rattling', 'rats', 'rashes', 'ranges', 'ranged', 'ralphs', 'rajma', 'ragu', 'radius', 'radar', 'qc', 'purveyor', 'purr', 'purposely', 'purports', 'purevia', 'pucks', 'pry', 'proteinate', 'profiles', 'proactive', 'prevention', 'preservation', 'preheat', 'preground', 'preface', 'predictable', 'preamp', 'practicing', 'ppl', 'powerbars', 'powerade', 'poupon', 'potter', 'possess', 'por', 'popcornopolis', 'pooped', 'poisons', 'pneumonia', 'plockys', 'plethora', 'playground', 'plasmon', 'plagued', 'pizzazz', 'pixie', 'pitiful', 'piping', 'piggy', 'pics', 'pickey', 'phillipine', 'petits', 'petit', 'pests', 'pesky', 'pervasive', 'perky', 'pellegrino', 'pearly', 'pbj', 'pattern', 'patrick', 'patented', 'pastilles', 'passionate', 'paso', 'parrot', 'parboiled', 'panang', 'pakistan', 'paddle', 'oxo', 'oxidation', 'overuse', 'oversized', 'overhead', 'overflows', 'overfeed', 'overdose', 'ouzo', 'output', 'otto', 'otis', 'orginally', 'orchid', 'orangy', 'orac', 'operation', 'operate', 'openings', 'oozing', 'oooh', 'omit', 'omelette', 'oiliness', 'odwalla', 'occupies', 'occassional', 'ocassional', 'obscure', 'objective', 'objection', 'obese', 'nutrasweet', 'nov', 'notorious', 'notably', 'nog', 'nod', 'nissan', 'nielsen', 'niblets', 'newbie', 'nevada', 'nell', 'neice', 'necta', 'naples', 'nagasaki', 'munchkin', 'munchie', 'multiplied', 'mugicha', 'mouthwatering', 'mounted', 'motivator', 'moths', 'monterey', 'monsanto', 'monopoly', 'monitored', 'moneys', 'moistened', 'misty', 'misprint', 'misled', 'miserably', 'milo', 'millions', 'milligrams', 'milkbone', 'mia', 'metropolitan', 'merits', 'merguez', 'mentos', 'meijer', 'medleys', 'medjool', 'medicines', 'meatier', 'maxx', 'martek', 'marshalls', 'marrow', 'marrons', 'marlin', 'markup', 'marking', 'marco', 'mar', 'manly', 'malamute', 'madness', 'lycopene', 'lumpfish', 'lukewarm', 'lucked', 'lucini', 'lucaffe', 'lord', 'lopped', 'loooove', 'lollypops', 'logic', 'logged', 'loathe', 'loacker', 'litre', 'literature', 'lifts', 'lifelong', 'lifeless', 'liberal', 'liar', 'liable', 'lessened', 'les', 'lengthy', 'lemonheads', 'lemonaise', 'leathers', 'lasagne', 'lapped', 'lamps', 'lammy', 'lager', 'ladyfinger', 'lactobacillus', 'lactic', 'kombu', 'kohls', 'knots', 'kippered', 'kipper', 'kiddie', 'kicker', 'keurigs', 'keureg', 'ketogenic', 'keruig', 'kernal', 'kd', 'kava', 'kalamata', 'k2o', 'junkies', 'judged', 'juan', 'jose', 'jordan', 'jokingly', 'joining', 'jjamppong', 'jj', 'jiff', 'jewell', 'jawbreakers', 'jaffa', 'itchiness', 'irresistable', 'invite', 'investigated', 'intimidated', 'insulation', 'installed', 'insisting', 'insipid', 'inquire', 'input', 'inhaler', 'infinite', 'infestation', 'indulged', 'indonesia', 'indispensable', 'indescribable', 'incomparable', 'incl', 'inaccurate', 'improvements', 'impressions', 'importance', 'impacted', 'immediatly', 'ian', 'hypoglycemic', 'hypertension', 'hotdog', 'hortons', 'hoover', 'hood', 'honored', 'hong', 'honeyville', 'homegrown', 'hoisin', 'hockey', 'hoard', 'hmmmmm', 'hitch', 'hispanic', 'hiked', 'highlands', 'hid', 'heritage', 'herbicides', 'helpings', 'hellmann', 'hehe', 'heap', 'hawk', 'haters', 'hatch', 'hassles', 'harsher', 'harmonious', 'har', 'hans', 'hamilton', 'halal', 'hail', 'hachez', 'guzzling', 'gunner', 'guitar', 'guesswork', 'growl', 'grooves', 'greed', 'grazing', 'gratifying', 'graphic', 'grant', 'granddaughters', 'graininess', 'gophers', 'goin', 'goddess', 'globs', 'girlscout', 'gingersnaps', 'gingersnap', 'geyser', 'germinated', 'gerbs', 'generate', 'gene', 'gelato', 'geat', 'gator', 'gaps', 'gail', 'gaggia', 'fumes', 'fulfills', 'frys', 'froose', 'fro', 'frizz', 'friggin', 'freedom', 'freaked', 'fragrances', 'foward', 'fought', 'forte', 'forgettable', 'fore', 'foolproof', 'fluoridated', 'flourless', 'flouride', 'flights', 'fleas', 'flavrz', 'flavorfull', 'flatter', 'flatbreads', 'fixture', 'fingertips', 'fin', 'filed', 'fights', 'fido', 'fibromyalgia', 'fiberone', 'fiancee', 'fern', 'ferment', 'feces', 'fattoria', 'fairway', 'fabulously', 'ey', 'extravagant', 'extraordinarily', 'expression', 'expose', 'explore', 'explicitly', 'experation', 'expeller', 'expecially', 'expands', 'executed', 'exceedingly', 'examination', 'eventhough', 'especialy', 'ese', 'eric', 'equation', 'equate', 'epidemic', 'enlarged', 'energize', 'encrusted', 'emphasis', 'emerged', 'elixir', 'elimination', 'elegance', 'electronic', 'electricity', 'elastic', 'einstein', 'educate', 'ecuador', 'ecocups', 'echinacea', 'duplicated', 'dubble', 'du', 'drowsiness', 'drowned', 'droste', 'dreamy', 'dreamfield', 'dread', 'doughs', 'dosen', 'domino', 'dome', 'diuretic', 'distributing', 'disregard', 'disorder', 'disliking', 'disinterested', 'dishonest', 'discussion', 'disclosing', 'disclosed', 'dim', 'dilettante', 'digs', 'digress', 'digital', 'digestable', 'differs', 'differing', 'differentiate', 'differance', 'diappointed', 'desires', 'depot', 'depicted', 'denting', 'delta', 'deleted', 'dek', 'degrade', 'defrost', 'deficient', 'deficiency', 'defects', 'declared', 'deception', 'davis', 'dagoba', 'd3', 'cushioning', 'curried', 'curbing', 'cuisines', 'cruncy', 'crowded', 'crouton', 'crispies', 'cries', 'crest', 'creativity', 'crashed', 'crackle', 'courses', 'counteract', 'costume', 'costo', 'cosmo', 'corny', 'cope', 'coopers', 'converts', 'controls', 'consumes', 'consultant', 'constructed', 'conspiracy', 'consisting', 'connected', 'congeal', 'confusion', 'concluded', 'concious', 'concession', 'compound', 'compliant', 'completes', 'complemented', 'complementary', 'competitively', 'companions', 'compaired', 'communicate', 'commerical', 'coma', 'collies', 'collect', 'collapse', 'colitis', 'coaxing', 'clothing', 'clogs', 'clogging', 'clipping', 'clipped', 'cleverly', 'cleanest', 'classify', 'clark', 'clamato', 'citron', 'cities', 'chugging', 'chucks', 'chrysanthemum', 'chopping', 'choosy', 'chocolatiers', 'chocolat', 'chocoholics', 'chiweenie', 'chipotles', 'chianti', 'chewey', 'cherrios', 'cheeto', 'cheesey', 'cheesecakes', 'cheer', 'cheep', 'cheek', 'che', 'certainty', 'celebrity', 'cee', 'cds', 'cc', 'cbtl', 'caveats', 'catalog', 'carotene', 'carnivore', 'carefull', 'carbonara', 'carbo', 'carber', 'carba', 'caramello', 'capuccino', 'candybar', 'cabernet', 'butterworth', 'businesses', 'burlap', 'bumblebee', 'bulked', 'bulgogi', 'builder', 'bugles', 'brushes', 'brocolli', 'bro', 'braided', 'bracing', 'boyer', 'boyajian', 'bowlful', 'bouts', 'botulism', 'boought', 'boom', 'bookbag', 'bonito', 'bombs', 'bombilla', 'bolds', 'bogus', 'bm', 'blister', 'blatant', 'blacks', 'bisquik', 'biscuts', 'binder', 'billy', 'billion', 'biggie', 'bigalow', 'bichons', 'bhut', 'bernard', 'berger', 'berg', 'belt', 'belle', 'belive', 'beige', 'behaves', 'beeswax', 'battered', 'batman', 'batali', 'basketball', 'barr', 'barney', 'barn', 'bargin', 'barest', 'banging', 'baffled', 'babysitter', 'baba', 'b007rtr9fq', 'b001lggh54', 'b001lggh40', 'b001lg940e', 'b000aqpmha', 'ayurvedic', 'awesomely', 'aways', 'awards', 'aunts', 'auntie', 'auml', 'attending', 'attacking', 'atomic', 'atmosphere', 'aspen', 'asiago', 'ashtray', 'artist', 'arteries', 'aromatics', 'arguably', 'arginine', 'appetites', 'apologize', 'anywho', 'anyday', 'antibiotic', 'answers', 'annoyance', 'anisette', 'anesthesia', 'ancho', 'amla', 'amd', 'alphabet', 'ally', 'alleged', 'alergic', 'ala', 'akc', 'airlines', 'aim', 'aide', 'aholic', 'agressive', 'aficionados', 'affairs', 'affair', 'adapted', 'acl', 'ace', 'accounts', 'accessible', 'accepts', 'accents', 'acana', 'abuse', 'absorbing', 'aback', '850', '7th', '5yr', '3yo', '3rds', '3lbs', '3lb', '365', '30th', '30pm', '2t', '24g', '22g', '2005', '2004', '1970s', '1519', '115', '00pm', 'zipped', 'yummo', 'yummmm', 'yogurts', 'yell', 'yeasty', 'yams', 'yama', 'yada', 'xl', 'writers', 'wrinkled', 'wreak', 'woudl', 'workday', 'woot', 'wool', 'woofed', 'woodsy', 'woodpeckers', 'woo', 'wontons', 'wonton', 'wobbler', 'wifes', 'wholegrain', 'whitening', 'whiten', 'whiskers', 'whisker', 'whisked', 'wheyup', 'whack', 'weirdly', 'weekday', 'webpage', 'weapon', 'weaned', 'weakest', 'wayyyy', 'wayyy', 'watson', 'warheads', 'ware', 'wardrobe', 'wand', 'wan', 'walmarts', 'wallmart', 'walla', 'wags', 'wafts', 'waffels', 'wacky', 'vt', 'voracious', 'von', 'volunteer', 'viva', 'vitahound', 'visibly', 'viscous', 'viruses', 'vigorously', 'views', 'viennese', 'vial', 'vessel', 'vertically', 'ventured', 'vein', 'vegie', 'vases', 'variable', 'vanish', 'valve', 'vain', 'uuml', 'utmost', 'utilizes', 'utah', 'urbani', 'uplifting', 'updating', 'unsurpassed', 'unsuitable', 'unsanitary', 'unreliable', 'unrecognizable', 'unrealistic', 'unmistakable', 'uniformly', 'uniformity', 'unidentified', 'unfriendly', 'unfortunetly', 'unforgettable', 'undiluted', 'understands', 'undeniably', 'unconventional', 'uncontrollable', 'unclear', 'unbalanced', 'twizzler', 'turnip', 'turf', 'turbo', 'tulear', 'tucson', 'truthful', 'truson', 'triglycerides', 'triggered', 'tribute', 'triangle', 'trek', 'treadmill', 'travelled', 'transplanted', 'transplant', 'translucent', 'traded', 'tractor', 'toppers', 'topic', 'toothless', 'toe', 'tmj', 'tjmaxx', 'tit', 'tipped', 'tickled', 'tibetan', 'throughly', 'thrifty', 'thr', 'thou', 'thirdly', 'thinness', 'thie', 'thickly', 'thickest', 'thereof', 'therapist', 'therapeutic', 'textural', 'testify', 'tens', 'teaspoonful', 'td', 'tater', 'taping', 'tapatio', 'tanka', 'tangles', 'tampering', 'tampa', 'talent', 'tack', 'symbol', 'swiftly', 'sweetz', 'sweetly', 'sweetheart', 'sweetend', 'swamp', 'sustains', 'suspended', 'suspects', 'susceptible', 'surplus', 'surgar', 'supplemental', 'sunsweet', 'sunflowers', 'sundaes', 'suitcases', 'successive', 'substitue', 'sturdier', 'stripping', 'stripped', 'stripe', 'striking', 'stretches', 'stonger', 'stomachache', 'stegasaurus', 'steered', 'steamy', 'stashed', 'stargazer', 'stalks', 'stalk', 'squishing', 'spritzers', 'spooning', 'spooned', 'spoilt', 'splintered', 'spirulina', 'spiky', 'spiedies', 'spiciest', 'spew', 'specifics', 'specialties', 'specials', 'sparkly', 'spades', 'sourcing', 'soupier', 'soulistic', 'sorting', 'somthing', 'solixir', 'softies', 'socal', 'soar', 'snout', 'snip', 'snails', 'snag', 'snackmasters', 'smiths', 'smeared', 'smarty', 'smartie', 'smacked', 'sm', 'slush', 'slippers', 'slid', 'sleek', 'slathered', 'skimmed', 'ski', 'sizzle', 'sizing', 'sittings', 'signal', 'sicilian', 'si', 'shoving', 'shoveling', 'shorthaired', 'shorted', 'shortcakes', 'shortbreads', 'shooting', 'shockers', 'shippment', 'shiping', 'shining', 'shiney', 'shifting', 'shhhh', 'shep', 'shelters', 'shaving', 'shatila', 'sharks', 'shakers', 'shady', 'shades', 'sex', 'seventy', 'seventeen', 'server', 'serrano', 'seoul', 'sen', 'selenium', 'selects', 'sel', 'secretly', 'seas', 'seared', 'sear', 'scum', 'screens', 'screamin', 'scan', 'sayin', 'sauteeing', 'sautee', 'sauerkraut', 'satifies', 'satified', 'satiate', 'sate', 'sassafrass', 'sarsaparilla', 'sandra', 'saltiest', 'salivating', 'salame', 'saigon', 'safcol', 'sadie', 'sadaf', 'sa', 'ruv', 'russet', 'runt', 'rumford', 'rugged', 'ruffles', 'ruby', 'rubbish', 'rtd', 'rooibus', 'romantic', 'romanoff', 'rollerball', 'rodent', 'rod', 'rocked', 'robustness', 'robbins', 'robbed', 'roaches', 'rizzo', 'risky', 'riserva', 'risen', 'rights', 'ridges', 'ridged', 'rick', 'richard', 'riboflavin', 'revolting', 'revised', 'revelation', 'reveals', 'retreat', 'retirement', 'retention', 'retaining', 'restrictive', 'restocking', 'responsibly', 'respects', 'respected', 'resolution', 'residents', 'reship', 'replica', 'replenishing', 'repellents', 'renewal', 'ren', 'relive', 'reliability', 'releasing', 'relate', 'rejoice', 'reishi', 'reinforce', 'registered', 'refunds', 'refridgerated', 'refreshingly', 'refreshes', 'refresher', 'references', 'redesign', 'rectangle', 'recommened', 'recommed', 'recognizing', 'realised', 'reacting', 'rd', 'rao', 'ranked', 'raid', 'radiation', 'quickie', 'quiche', 'questioned', 'quebec', 'quail', 'qfc', 'pyridoxine', 'pyramids', 'pursue', 'purer', 'pupperoni', 'puchase', 'publish', 'psyched', 'psoriasis', 'providers', 'protocol', 'protest', 'proposition', 'promptness', 'promoted', 'profusely', 'proflower', 'procuct', 'probes', 'printing', 'principal', 'premix', 'prefilled', 'predominate', 'prebiotics', 'prawns', 'pow', 'potful', 'pose', 'portugal', 'porous', 'popsicles', 'polysorbate', 'politely', 'poisonous', 'podmerchant', 'pocketbook', 'poached', 'plunger', 'pleasently', 'platic', 'plasticy', 'plainly', 'placement', 'pinpoint', 'pineapples', 'pimples', 'pigskin', 'pickier', 'picker', 'pica', 'phony', 'philippine', 'phased', 'pharmacist', 'phad', 'pero', 'permeated', 'permeate', 'percentages', 'pepperminty', 'peppermints', 'pepino', 'pending', 'pekinese', 'peggy', 'pedialyte', 'pecorino', 'payday', 'paycheck', 'passover', 'passages', 'participating', 'parcel', 'parachute', 'para', 'papa', 'pamphlet', 'painting', 'painless', 'owning', 'owl', 'overtly', 'overtake', 'oversweet', 'oversalted', 'overpay', 'overpaid', 'outdone', 'otc', 'osem', 'orlando', 'organicville', 'om', 'oleic', 'oklahoma', 'okinawa', 'okc', 'oiled', 'offspring', 'oetker', 'occasionaly', 'obsidian', 'obligated', 'obey', 'nv', 'nutter', 'nutrisoda', 'nutrish', 'nutra', 'nurturme', 'nursery', 'nuisance', 'nugo', 'nuance', 'nu', 'norwegian', 'nonreturnable', 'nonni', 'nongshim', 'nm', 'nitrate', 'nips', 'nibblers', 'nh', 'nepal', 'neosure', 'negatively', 'needlessly', 'necklace', 'neater', 'nearing', 'navigate', 'natura', 'naive', 'myrtle', 'muslin', 'muslim', 'muscular', 'multitude', 'multiply', 'multiples', 'multipack', 'mule', 'mucus', 'mths', 'mouthed', 'motorcycle', 'morphs', 'morocco', 'morinu', 'morels', 'monitoring', 'mollie', 'molding', 'mobile', 'mn', 'misto', 'misshapen', 'misnomer', 'mirror', 'miraculous', 'mir', 'minpin', 'mingle', 'milkman', 'mil', 'midst', 'midmorning', 'meringue', 'mercy', 'meld', 'medicinals', 'media', 'medallions', 'medaglia', 'mechanically', 'mechanical', 'measly', 'mcdougalls', 'masquerading', 'mashing', 'masa', 'marry', 'mare', 'marconas', 'marachino', 'mandatory', 'managing', 'managers', 'malts', 'maltose', 'maison', 'mails', 'mailman', 'magnet', 'maeda', 'macho', 'macaroon', 'lydia', 'lurrie', 'lupus', 'lucienne', 'luau', 'lozenge', 'loyalty', 'lovingly', 'lorenzo', 'loin', 'locals', 'lobby', 'litters', 'litterbox', 'litle', 'liquors', 'liptons', 'lifewater', 'licensed', 'library', 'leukemia', 'lessen', 'leopard', 'lemonmint', 'lemonhead', 'lemmon', 'legumes', 'legit', 'legally', 'leaning', 'leaching', 'ldl', 'layering', 'lawyer', 'lathered', 'larva', 'lakerol', 'lait', 'laffy', 'ky', 'kusmi', 'ks', 'kratom', 'kookaburra', 'koala', 'ko', 'knox', 'knowingly', 'knockoff', 'kneading', 'kmart', 'kiwis', 'kitchenaid', 'kitamu', 'kipling', 'kindof', 'kindness', 'kickin', 'kh', 'keys', 'kevin', 'ken', 'keith', 'kalua', 'kabobs', 'jules', 'juiced', 'joyful', 'joel', 'jobs', 'jimmy', 'jewelry', 'jb', 'jake', 'jahe', 'jagged', 'irrelevant', 'irregularity', 'ironic', 'invert', 'invaluable', 'inu', 'intolerances', 'intestine', 'interests', 'interact', 'intenso', 'intensify', 'intelligent', 'int', 'instructor', 'inspiring', 'insecticide', 'inquiry', 'inquiries', 'inquired', 'inoffensive', 'inherent', 'ingestion', 'inflation', 'indicator', 'indestructable', 'inconsistency', 'inbetween', 'improper', 'impromptu', 'imitators', 'ihop', 'ignorant', 'iffy', 'idaho', 'icings', 'hysterical', 'hyperbole', 'hydrates', 'hungary', 'hugh', 'hugely', 'huckleberries', 'housing', 'houseplants', 'hotsauce', 'horton', 'horn', 'hopper', 'hoopla', 'homogenized', 'hog', 'himalaya', 'highs', 'highlights', 'highlighted', 'hersey', 'herbes', 'hen', 'heirloom', 'heidi', 'heather', 'hazards', 'hauling', 'haste', 'hassel', 'hardcore', 'happiest', 'hanout', 'halls', 'hallelujah', 'halibut', 'hairless', 'guzzle', 'gulping', 'gulped', 'guinness', 'guatemalan', 'guatemala', 'grownups', 'grounded', 'groomed', 'grittiness', 'gringo', 'greasiness', 'grazer', 'grating', 'grassfed', 'grandmothers', 'grandmas', 'graduate', 'grader', 'gracie', 'gorgonzola', 'gonaturally', 'gobbling', 'gnawhide', 'glorified', 'globby', 'glenny', 'gland', 'glace', 'girlfriends', 'getaway', 'germs', 'genisoy', 'geez', 'gear', 'gardens', 'gallo', 'fwiw', 'furious', 'furikake', 'funyuns', 'funfetti', 'funds', 'fundraising', 'fueling', 'fudgey', 'fu', 'ft', 'frustrates', 'fruitier', 'friendship', 'friendlier', 'frazzled', 'fraud', 'frappes', 'formaldehyde', 'forgo', 'forgets', 'forego', 'forbidden', 'forbid', 'font', 'folds', 'foiled', 'flys', 'flushing', 'flovor', 'flora', 'fling', 'flap', 'flamin', 'flaking', 'fishes', 'fireplace', 'firehouse', 'finland', 'finiky', 'fineness', 'financially', 'financial', 'filipino', 'fiji', 'fierce', 'fettuccini', 'feridies', 'fears', 'faygo', 'fathers', 'fatal', 'fasting', 'fanatics', 'famished', 'falsely', 'fairs', 'faintly', 'fad', 'factoring', 'extremes', 'extension', 'extends', 'extending', 'expanded', 'exhorbitant', 'exhausting', 'exfoliating', 'excrement', 'exchanged', 'exceptions', 'excellently', 'evangers', 'eucalyptus', 'ethoxyquin', 'estense', 'establish', 'essentials', 'essences', 'esophagus', 'equivalents', 'envirokids', 'entitled', 'enticed', 'entertains', 'enrich', 'engineer', 'engagement', 'endorsements', 'endlessly', 'encouragement', 'enamel', 'electrical', 'elaborate', 'eighth', 'eighteen', 'egypt', 'effortless', 'edgy', 'earthiness', 'earns', 'duplicates', 'dunked', 'duke', 'duane', 'dual', 'drowning', 'driveway', 'drenched', 'dregs', 'drawstring', 'downing', 'downer', 'douse', 'doubles', 'doomed', 'dona', 'doggone', 'doen', 'documented', 'dock', 'doable', 'distinguishes', 'distinguished', 'disposacup', 'displays', 'dispersed', 'discussed', 'discription', 'discouraging', 'disconcerting', 'discarding', 'disappointments', 'disagreeable', 'dis', 'dire', 'dings', 'dingos', 'diners', 'dine', 'diminishing', 'diligence', 'differnet', 'diehard', 'dexter', 'devine', 'devils', 'detoxing', 'detoxifying', 'detest', 'detangling', 'destroyer', 'destrooper', 'deserving', 'depriving', 'depression', 'deny', 'demolished', 'demanding', 'deformed', 'definitive', 'definetely', 'deff', 'deemed', 'deduct', 'deceive', 'deadline', 'daytime', 'davidsons', 'darks', 'dank', 'dander', 'cushion', 'curled', 'curbs', 'cub', 'crumpets', 'crumby', 'crops', 'criticisms', 'crips', 'creeps', 'credibility', 'crayons', 'cranky', 'crafts', 'crabcakes', 'courage', 'coughs', 'costumer', 'cordial', 'copies', 'coolest', 'cooke', 'conversations', 'contemplate', 'contaminants', 'consecutive', 'connecticut', 'connect', 'congealed', 'confit', 'conclude', 'concede', 'compulsive', 'compote', 'comply', 'communities', 'commend', 'comfy', 'comfortably', 'collector', 'collections', 'collected', 'collard', 'collapsed', 'coldaid', 'cocao', 'coarser', 'clumsy', 'clueless', 'clinical', 'clinging', 'climates', 'cleveland', 'cleaners', 'classified', 'classical', 'claey', 'christmastime', 'chowing', 'choline', 'cholestrol', 'chocoloate', 'chocked', 'chlorhexidine', 'chilean', 'childrens', 'chief', 'chickpea', 'chemotherapy', 'chelated', 'chedder', 'checks', 'chases', 'chased', 'charitable', 'charger', 'chardonnay', 'characterize', 'cfl', 'cf', 'ceremonial', 'celtic', 'celophane', 'cellar', 'ceiling', 'cb', 'cavity', 'cave', 'catering', 'categories', 'casually', 'casino', 'cartridges', 'cardio', 'carbonating', 'capsaicin', 'caprese', 'campus', 'camps', 'campaign', 'calico', 'calculate', 'cakey', 'cakesters', 'caked', 'caffee', 'cacoa', 'bzzagent', 'byron', 'buzzing', 'bushy', 'bundt', 'bumpy', 'bugging', 'bruschetta', 'bros', 'brocoli', 'brits', 'bristol', 'brighten', 'bride', 'breezy', 'breadman', 'brava', 'branching', 'bragging', 'br', 'boycott', 'boxing', 'bounces', 'borrow', 'bore', 'booth', 'booklet', 'bonnet', 'bombay', 'boles', 'bog', 'boards', 'bloks', 'blocking', 'blaming', 'blades', 'blade', 'bla', 'bisulfite', 'bisquit', 'binges', 'bible', 'bha', 'bells', 'bellino', 'beings', 'behave', 'begrudgingly', 'beefeater', 'beard', 'beads', 'beaches', 'bbp', 'baxter', 'baught', 'batters', 'batteries', 'bathed', 'bathe', 'baskin', 'bash', 'barrista', 'barb', 'ballistic', 'bal', 'baklawa', 'baguette', 'backs', 'backpacks', 'babysit', 'b60', 'b004391dk0', 'b003az2ecy', 'b001rvfdoo', 'b000dzfmeq', 'axe', 'awesomeness', 'awarded', 'awaken', 'avon', 'averaging', 'ave', 'automated', 'authority', 'attributed', 'attracts', 'attiki', 'attentive', 'attacked', 'atora', 'athletic', 'athletes', 'associates', 'assistant', 'assistance', 'assess', 'assembled', 'arts', 'arthur', 'artery', 'arrange', 'aromatherapy', 'argument', 'argh', 'appointments', 'applicator', 'appearances', 'apocalypse', 'ap', 'antique', 'anne', 'anna', 'angostura', 'angles', 'anemia', 'andy', 'anderson', 'amzn', 'amusement', 'amt', 'amiss', 'americanized', 'amara', 'aluminium', 'altering', 'alpine', 'alpha', 'allways', 'alien', 'alice', 'aldi', 'alarming', 'alarmed', 'ak', 'airports', 'airbrush', 'agreeing', 'aggressively', 'aggravated', 'affordably', 'affinity', 'afficianado', 'advocate', 'advising', 'adopt', 'adhered', 'adhere', 'adams', 'actuality', 'activia', 'acquaintance', 'achy', 'achva', 'achieving', 'accross', 'accounting', 'accordance', 'accomplishment', 'accompanying', 'accented', 'acacia', 'abused', 'abdominal', 'aafco', 'aacute', 'aaa', '80mg', '750', '6lb', '5pm', '50lbs', '50c', '4lbs', '40lb', '3yr', '370', '36oz', '35g', '325', '30min', '30lb', '30am', '2yo', '26th', '25mg', '25lb', '21g', '20mg', '2001', '1998', '1930s', '18th', '180mg', '16g', '15lbs', '155mg', '10x', '100mg', 'zylitol', 'zsweet', 'zoey', 'zingy', 'zilch', 'zevias', 'zeal', 'zante', 'yourselves', 'yogart', 'yer', 'yen', 'yeh', 'yawn', 'yanks', 'wu', 'wowed', 'wounds', 'wors', 'wording', 'wondrous', 'wm', 'withstood', 'withing', 'wintertime', 'winey', 'wilt', 'willingham', 'william', 'wiggle', 'wiener', 'wickles', 'wich', 'whistle', 'wherehouse', 'whelming', 'wheaties', 'wheather', 'whang', 'wham', 'whale', 'wha', 'werthers', 'wel', 'weighted', 'weedy', 'wealth', 'weaken', 'waxed', 'wavy', 'watts', 'wastes', 'wast', 'warmly', 'walt', 'wales', 'waggin', 'waaaaay', 'vowed', 'volcano', 'vive', 'vision', 'virgil', 'virbac', 'violent', 'vinager', 'vigilant', 'viet', 'vials', 'vi', 'vey', 'verry', 'vera', 'venti', 'venice', 'velveta', 'veins', 'vegs', 'vegancompassion', 'veal', 'variants', 'variance', 'variables', 'variability', 'vanishes', 'utensils', 'urinating', 'upfront', 'unwashed', 'untrue', 'unsuccessful', 'unroasted', 'unprofessional', 'unpleasent', 'unmixed', 'unmelted', 'unmatched', 'universally', 'uninteresting', 'unimpressive', 'unidentifiable', 'unhealthiness', 'unevenly', 'unemployed', 'uneatable', 'uneasy', 'undetectable', 'underside', 'undeliverable', 'unchewable', 'unbearably', 'unassuming', 'unanimously', 'una', 'umm', 'ulcer', 'twinkie', 'tut', 'turnoff', 'tuning', 'tuned', 'tuff', 'tsa', 'trung', 'truley', 'troubled', 'trot', 'tropicana', 'tropic', 'trolling', 'tripled', 'trimming', 'triggering', 'treets', 'treaters', 'treasures', 'traveler', 'transform', 'tourist', 'tortellini', 'tortas', 'toothsome', 'tooooo', 'tooo', 'tonkinese', 'tonics', 'toner', 'tomatillos', 'tokyo', 'tmi', 'tittle', 'tisane', 'tipping', 'tint', 'timothys', 'timid', 'tikka', 'tijuana', 'tightening', 'tighten', 'tigger', 'throught', 'throttle', 'threats', 'threat', 'thoughtfulness', 'thingies', 'theraflu', 'theft', 'thanked', 'testy', 'testers', 'terrafina', 'tentative', 'tent', 'temple', 'temper', 'teisseire', 'teff', 'teddie', 'tecture', 'teapots', 'tblsp', 'taz', 'taters', 'tase', 'tarty', 'tandoori', 'tamer', 'takeout', 'taiwanese', 'taht', 'tahitian', 'tagged', 'szechuan', 'systolic', 'switches', 'swheat', 'swept', 'sweeting', 'sweats', 'swayed', 'swapping', 'sw', 'suttle', 'suspiciously', 'suscribe', 'survives', 'surveys', 'surround', 'surpised', 'surgeon', 'surfaces', 'suprising', 'suppressant', 'suppliment', 'supplemented', 'supergrain', 'superbowl', 'sunscreen', 'sunk', 'sundae', 'sulphate', 'sulfite', 'sukiyaki', 'suds', 'sudafed', 'sucrolose', 'suckered', 'sucanant', 'subtract', 'subs', 'subcription', 'su', 'sturgeon', 'stupidly', 'struggles', 'striped', 'stretched', 'stressing', 'strays', 'strap', 'strait', 'strainers', 'stow', 'stormy', 'stirs', 'stings', 'stiffer', 'steroid', 'stepping', 'steepings', 'steams', 'stead', 'stawberry', 'statements', 'starvation', 'staring', 'stared', 'stake', 'staghorn', 'stagg', 'staffordshire', 'stacker', 'stab', 'squeeky', 'sprung', 'sprint', 'spoonfull', 'spongey', 'splintering', 'spirits', 'spikey', 'spewed', 'spec', 'sparkles', 'sparking', 'southerner', 'sourpower', 'soured', 'souce', 'soothed', 'soooooooooo', 'solidify', 'solidifies', 'snyders', 'snugly', 'snuck', 'snubbed', 'snub', 'snowflake', 'snowcones', 'snoopy', 'snobby', 'snatched', 'snatch', 'smuggle', 'smokier', 'smashing', 'slots', 'slot', 'sloshing', 'slogan', 'sliver', 'slimming', 'slighty', 'slighly', 'slaughterhouse', 'slapped', 'skull', 'skill', 'sixties', 'sixteen', 'sitter', 'sinking', 'simultaneously', 'simulate', 'similarities', 'sill', 'siliskins', 'silent', 'significance', 'sieve', 'sided', 'shrunk', 'shrugs', 'shrinking', 'shoyu', 'shortest', 'shiz', 'shill', 'shihtzu', 'shifted', 'shields', 'shield', 'sherbet', 'sheppard', 'shephard', 'shelve', 'sheesh', 'sheepdog', 'shears', 'shatter', 'shallots', 'shallot', 'shaft', 'sfbay', 'sewing', 'sesmark', 'serrated', 'serenity', 'senso', 'seneca', 'semisweet', 'seitenbacher', 'sebastopol', 'seasonally', 'searing', 'seamless', 'scrubbing', 'screwing', 'screamed', 'scoff', 'scientist', 'schools', 'scd', 'scares', 'scanned', 'scalloped', 'scaling', 'sayings', 'savvy', 'sauvignon', 'satiating', 'sasparilla', 'sarah', 'sara', 'santander', 'sanity', 'sanitary', 'sandwhich', 'sanding', 'samson', 'saladitos', 'sal', 'ruth', 'rubberized', 'rtf', 'royalty', 'routines', 'rounding', 'rouge', 'rotating', 'rossa', 'roommates', 'ronzoni', 'rockies', 'robitussin', 'robb', 'roasty', 'rj', 'rition', 'ripple', 'rillette', 'rigorous', 'richards', 'rhodesian', 'revival', 'reuseable', 'retrospect', 'retiring', 'retained', 'resume', 'restoring', 'restored', 'restless', 'rested', 'restaraunt', 'resorting', 'resent', 'requisite', 'reproduce', 'representing', 'repot', 'reportedly', 'replenished', 'replacment', 'repel', 'renewed', 'rendition', 'removal', 'remnants', 'remarks', 'remark', 'reliving', 'religious', 'relieves', 'releases', 'reimburse', 'reheats', 'rehab', 'regulations', 'regulation', 'regulating', 'reggiano', 'regain', 'refundable', 'refrig', 'refridgeration', 'refridgerate', 'reformulation', 'redesigned', 'recycles', 'rectify', 'recognition', 'receipes', 'rebar', 'reall', 'rations', 'rationed', 'rally', 'raisens', 'ragged', 'rage', 'radically', 'racael', 'ra', 'qvc', 'quirky', 'quieter', 'quickness', 'queried', 'quell', 'queasiness', 'quakers', 'quadratini', 'quad', 'pyrex', 'putty', 'purveyors', 'purring', 'purchsed', 'purchasers', 'punished', 'punches', 'publicity', 'pruning', 'prowl', 'prospective', 'proponent', 'pronounceable', 'promotions', 'projectile', 'prohibitively', 'professor', 'professionals', 'procter', 'proclaim', 'procedures', 'probs', 'probable', 'pringle', 'prilosec', 'pretzles', 'prettier', 'preserving', 'prepping', 'prepares', 'predominates', 'predominantly', 'predict', 'prances', 'ppm', 'pp', 'powerfully', 'powerbar', 'pourer', 'pounding', 'pounce', 'potluck', 'possessed', 'poppyseed', 'poper', 'poped', 'poorest', 'pompeian', 'pomegrantes', 'pomegrante', 'political', 'poked', 'plumper', 'plumped', 'plugging', 'plugged', 'plow', 'pleasingly', 'player', 'plated', 'plastered', 'plantations', 'planks', 'plainer', 'pks', 'pizzles', 'pinwheel', 'pins', 'pinot', 'pining', 'pinhead', 'ping', 'pinches', 'piled', 'pierce', 'pickiness', 'pices', 'philosophy', 'phillippine', 'pheasant', 'petting', 'petted', 'petsafe', 'petroleum', 'petersburg', 'pestering', 'persnickety', 'perservatives', 'perrier', 'permitted', 'permeates', 'periodontal', 'perforation', 'perfecto', 'pepsico', 'pepitas', 'pepin', 'penguin', 'pellet', 'pefect', 'pedestrian', 'peasy', 'peanuty', 'peaceful', 'pdq', 'pcc', 'patten', 'patchi', 'pastina', 'partake', 'parlor', 'parks', 'parfaits', 'papillons', 'paperwork', 'panting', 'pant', 'panini', 'panettone', 'panera', 'palpitations', 'palak', 'pal', 'packers', 'paced', 'oxidents', 'ow', 'oversteeping', 'overstated', 'overriding', 'overrated', 'overprice', 'overindulging', 'overindulge', 'overheated', 'overgrowth', 'overfeeding', 'overdue', 'overcomes', 'outgrown', 'ortho', 'originate', 'orangemint', 'oquendo', 'operative', 'oozes', 'ooo', 'ooma', 'ooba', 'oo', 'oniony', 'oliver', 'olivella', 'ola', 'oilier', 'ofter', 'offsets', 'offense', 'odour', 'odering', 'octavia', 'octane', 'occuring', 'occassions', 'obscene', 'oaty', 'nw', 'nutritous', 'nueske', 'nuclear', 'nourishes', 'notions', 'notion', 'notifying', 'nothings', 'nothin', 'nosing', 'norfolk', 'nora', 'noddles', 'nocciolata', 'nissin', 'nina', 'nighter', 'niceah', 'neutralize', 'netting', 'nests', 'nesspresso', 'neoguri', 'necks', 'necco', 'natucket', 'natrazyle', 'natrataste', 'nate', 'natalie', 'nashville', 'narrower', 'narnia', 'napkins', 'nan', 'nah', 'mysteriously', 'mw', 'muss', 'mushroomy', 'mushiness', 'mushed', 'muncho', 'mulberries', 'mudslide', 'muddle', 'muck', 'mth', 'mozzerella', 'mowing', 'motivate', 'moscow', 'morningstar', 'moo', 'montmorency', 'monkeys', 'monde', 'momo', 'molina', 'molecule', 'molds', 'moka', 'moisturize', 'mock', 'mix1', 'mitchell', 'mister', 'mishaps', 'misguided', 'mirin', 'miraculously', 'mingled', 'mindless', 'milkshakes', 'mildness', 'midel', 'mideast', 'middling', 'mics', 'microscope', 'microphones', 'mickey', 'mh', 'mfg', 'meticulously', 'meth', 'meter', 'metamucil', 'metalic', 'messier', 'mesa', 'merit', 'menus', 'menadione', 'melita', 'melded', 'meiji', 'mediciney', 'mealtimes', 'mccoy', 'matured', 'mattered', 'mater', 'massaging', 'massachusetts', 'mascarpone', 'marts', 'markings', 'marbella', 'manually', 'mankind', 'manischewitz', 'males', 'malaysia', 'majorly', 'maggi', 'mades', 'mace', 'lyrics', 'lyme', 'lye', 'ly', 'lures', 'lupini', 'lunchbag', 'lucid', 'lubricant', 'lows', 'lowry', 'lounge', 'louder', 'loser', 'lorna', 'looser', 'loooves', 'lolly', 'loco', 'locks', 'locking', 'localy', 'loafs', 'lleg', 'lizano', 'livestock', 'livens', 'lish', 'liquify', 'lint', 'linguini', 'lingonberry', 'limeade', 'likened', 'liken', 'licorage', 'license', 'li', 'lettering', 'lest', 'leo', 'lemonaide', 'leilalove', 'leeks', 'leafs', 'leader', 'leaches', 'lc', 'laziness', 'laughs', 'latex', 'larvae', 'lark', 'laps', 'lands', 'landing', 'lambs', 'laksa', 'laflorentine', 'kwan', 'krogers', 'kristallsalz', 'krave', 'koppers', 'kone', 'koma', 'knuckle', 'knotted', 'knockout', 'kleritea', 'kingdom', 'kilos', 'kewpie', 'kettles', 'ketosis', 'kee', 'kc', 'kauai', 'katie', 'kathy', 'kashmiri', 'kapha', 'kamut', 'kame', 'kaldi', 'k9', 'k2', 'junkfood', 'junior', 'julius', 'julia', 'juicier', 'judgment', 'jsut', 'jp', 'joys', 'joulies', 'jonesing', 'jokes', 'johnson', 'jemima', 'jamba', 'jade', 'jacking', 'jablum', 'istanbul', 'issuing', 'isomalt', 'isn', 'isa', 'irritability', 'iq', 'iphone', 'invigorated', 'investigation', 'invent', 'intro', 'intolerable', 'intial', 'interview', 'interaction', 'intentional', 'intending', 'insufficient', 'install', 'inspires', 'insight', 'insalata', 'inosinate', 'innovation', 'innards', 'injection', 'ingedients', 'infrequently', 'influenced', 'infamous', 'ineligible', 'individualized', 'indians', 'indianapolis', 'independently', 'indefinitely', 'inclination', 'incase', 'inappropriate', 'impresses', 'impacts', 'immerse', 'immense', 'immature', 'img', 'imbalance', 'ike', 'identifying', 'identification', 'icebox', 'hyvee', 'hyperactivity', 'hurried', 'hunk', 'hummingbirds', 'hug', 'hubbard', 'hs', 'housework', 'hotspots', 'hotair', 'hosting', 'hose', 'hors', 'hopping', 'hoppin', 'hopped', 'hopelessly', 'homebrew', 'holla', 'hoboken', 'hoarding', 'hinted', 'highy', 'hightly', 'highlight', 'heroine', 'herd', 'hempseeds', 'heighten', 'heels', 'heeded', 'heed', 'hearted', 'headline', 'hazer', 'hazardous', 'hav', 'hastily', 'harvesting', 'harming', 'hardier', 'happymelts', 'hannaford', 'hanger', 'hallmark', 'hairs', 'haiku', 'h20', 'gurgling', 'gummys', 'gulf', 'guides', 'guayusa', 'guanciale', 'gs', 'grumpy', 'grueling', 'grosses', 'grizzly', 'griddle', 'greyish', 'greet', 'greedily', 'greatful', 'greasier', 'greasey', 'gratin', 'grater', 'grasses', 'grapeleaves', 'graciously', 'gr8', 'gouda', 'gotton', 'goodly', 'golfer', 'gnocchi', 'gnawed', 'gms', 'glutens', 'glutenous', 'glues', 'glucomannan', 'glorious', 'gj', 'givin', 'giveaway', 'girly', 'gimmicky', 'giggle', 'giants', 'ghees', 'geting', 'germinating', 'gentler', 'gentlease', 'genetic', 'generated', 'ge', 'gato', 'gathered', 'gastro', 'gassiness', 'garnishes', 'gardener', 'garam', 'galore', 'gaia', 'gadgets', 'fuze', 'furkids', 'furballs', 'furbabies', 'funeral', 'functioned', 'funbite', 'fulltime', 'frutose', 'fruitcakes', 'frou', 'frills', 'frige', 'friendliness', 'freshman', 'frenchie', 'freinds', 'freebie', 'frayed', 'frantically', 'fransisco', 'francis', 'franchise', 'fran', 'forwarded', 'forums', 'fort', 'formular', 'forehead', 'foray', 'fools', 'foolishness', 'foolishly', 'foodshouldtastegood', 'foo', 'foliage', 'foggy', 'fogbuster', 'focusing', 'fob', 'flytrap', 'flyaway', 'flutd', 'fluorescent', 'fluffed', 'fluaid', 'flowed', 'florence', 'flood', 'flipside', 'fleur', 'fledged', 'flaws', 'flavorwise', 'flavorcol', 'flapjacks', 'flaming', 'flahavan', 'flabbergasted', 'fizzies', 'firmed', 'finn', 'filtration', 'filberts', 'fiends', 'fiddling', 'ff', 'ferrero', 'ferrara', 'fermenting', 'federal', 'feat', 'feasts', 'fearing', 'fdc', 'fastachi', 'fascinating', 'factories', 'facing', 'facilitate', 'fabulosa', 'eyed', 'eyeball', 'extruded', 'extracting', 'external', 'exposing', 'exporting', 'exponentially', 'explicit', 'expertise', 'experimental', 'expat', 'expansion', 'exit', 'exhibit', 'excels', 'exceeding', 'exam', 'ewwww', 'evokes', 'everynight', 'evens', 'evans', 'evaluation', 'euros', 'ethiopia', 'eternal', 'eta', 'este', 'establishments', 'espressione', 'escaping', 'ers', 'errors', 'err', 'equaled', 'epitome', 'episodes', 'epcot', 'enviro', 'envious', 'enthralled', 'enterprise', 'ensured', 'enrobed', 'enery', 'energizer', 'enegry', 'endorsed', 'enabled', 'emulsifiers', 'emptying', 'employer', 'emphasize', 'embedded', 'elvis', 'elves', 'elder', 'eg', 'effervescent', 'edward', 'editions', 'editing', 'edibles', 'ecstasy', 'eatery', 'earthmate', 'dynamite', 'dylan', 'dvd', 'dumpling', 'dulled', 'droppings', 'drogheria', 'drizzling', 'drivers', 'drippy', 'drippings', 'dring', 'dressed', 'dreary', 'drawers', 'dram', 'dragged', 'downward', 'downgrade', 'dousing', 'doubting', 'dosn', 'dosent', 'dormant', 'dorito', 'doodle', 'domed', 'docked', 'dobermans', 'divinity', 'diving', 'dividing', 'divider', 'diverticulitis', 'diversity', 'diversion', 'distasteful', 'distaste', 'dissuade', 'dissipated', 'dissapeared', 'disputed', 'disposakup', 'disposacups', 'disolves', 'disintegrates', 'disguised', 'disgrace', 'diseased', 'discuss', 'disappointingly', 'disapointment', 'disadvantages', 'dipotassium', 'dinky', 'dinged', 'dilutes', 'dilemma', 'diglycerides', 'digestibility', 'diff', 'diferent', 'diference', 'dies', 'dictated', 'dia', 'dextrin', 'devotion', 'detriment', 'deteriorated', 'detective', 'despair', 'desolve', 'descriptive', 'dermatologist', 'derivatives', 'derivative', 'dependent', 'depended', 'dentists', 'denied', 'demonstration', 'demons', 'demon', 'demolish', 'demanded', 'deluca', 'delious', 'delievery', 'delievered', 'delice', 'delicacies', 'delaware', 'deidrich', 'dehydrating', 'deflated', 'defintiely', 'definintely', 'defines', 'definate', 'deepest', 'deeeelicious', 'dedication', 'deco', 'decker', 'decipher', 'deceptively', 'decaffeniated', 'debacle', 'deaths', 'dazzle', 'daybreak', 'daunting', 'dating', 'dashes', 'dasher', 'daring', 'dared', 'daniels', 'danes', 'dalmatians', 'dakota', 'cyclist', 'cutest', 'custards', 'cusine', 'curse', 'curiously', 'cultural', 'cultivated', 'crystalline', 'crunches', 'crumpled', 'cruising', 'cruel', 'cruddy', 'cruchy', 'crostini', 'crooked', 'croissants', 'croissant', 'croccantini', 'croatia', 'critique', 'cringed', 'cremes', 'creeping', 'creamiest', 'creama', 'cranbery', 'crammed', 'craig', 'cracklin', 'crabs', 'coyotes', 'couse', 'cotta', 'corps', 'corona', 'copied', 'cooper', 'coons', 'coonhound', 'coolaid', 'cookware', 'cookout', 'convinient', 'convienence', 'converter', 'convection', 'controversy', 'contrasting', 'contractor', 'contracted', 'continual', 'contaminating', 'contadina', 'consult', 'constipate', 'console', 'conservative', 'consequence', 'conscientious', 'connecting', 'congrats', 'confirms', 'confirming', 'configuration', 'confectionery', 'conduct', 'condroitin', 'concord', 'conclusions', 'concentrations', 'computers', 'comprise', 'completion', 'competetive', 'competes', 'compensated', 'companys', 'como', 'commission', 'commenter', 'colours', 'colossal', 'coined', 'coincidentally', 'cognitive', 'coffie', 'coffes', 'coffer', 'coffeeshop', 'coffeepot', 'codes', 'cocoquik', 'cochineal', 'cobwebs', 'cob', 'clung', 'clouds', 'clips', 'clippings', 'clicking', 'claxton', 'claw', 'classmates', 'clasico', 'clan', 'cl', 'circulation', 'circular', 'cinnamin', 'cinnabon', 'cinch', 'cinamon', 'ciders', 'chutneys', 'chris', 'choy', 'chores', 'chopper', 'chomped', 'chococino', 'chlorophyll', 'chipping', 'chipper', 'chiclets', 'chickory', 'chesse', 'cherrymint', 'cherrybrook', 'cheezits', 'cheesiest', 'characters', 'chapstick', 'chaos', 'channels', 'channa', 'champion', 'ceo', 'celebrated', 'celcius', 'cbd', 'cauldron', 'catsup', 'cater', 'categorize', 'catahoula', 'castillo', 'cassis', 'casei', 'carve', 'cartoon', 'carpeted', 'carmine', 'carmelized', 'carl', 'caregiver', 'carcinogenic', 'carbing', 'carageenan', 'caputo', 'cappuchino', 'capped', 'capellini', 'caocao', 'cantaloupe', 'caned', 'candida', 'canceling', 'canard', 'canadians', 'camu', 'cam', 'caliber', 'calf', 'calculator', 'calbee', 'cactus', 'byzantine', 'bux', 'busier', 'burps', 'buon', 'bundaberg', 'bullmastiff', 'builders', 'buggy', 'buffa', 'buckets', 'bubba', 'bryant', 'brutally', 'bruised', 'bru', 'brothy', 'brodies', 'brodie', 'brislings', 'brink', 'brimming', 'brightness', 'bridgford', 'brians', 'breeders', 'breaths', 'breathed', 'breadcrumb', 'brat', 'bounds', 'bouillion', 'bottomless', 'botanical', 'boosters', 'bonomo', 'bologna', 'boletus', 'bodega', 'boca', 'boast', 'bms', 'blustery', 'blurred', 'blurb', 'bluberry', 'blt', 'blot', 'blogs', 'blockage', 'blindfolded', 'blasted', 'blanc', 'blairs', 'bitey', 'bismol', 'biotin', 'bigs', 'bibs', 'bias', 'bhaji', 'bewley', 'bernese', 'bergin', 'benji', 'benifit', 'benefited', 'benchmark', 'beluga', 'belgians', 'beijing', 'behaviors', 'beginners', 'beetles', 'beetle', 'beehive', 'beefhide', 'becareful', 'bec', 'beauties', 'beau', 'bearitos', 'bead', 'beacuse', 'beacause', 'bbb', 'bayer', 'battling', 'bashing', 'barnie', 'barksters', 'barefoot', 'banner', 'bannana', 'bandwagon', 'balsamics', 'bagging', 'badoit', 'badia', 'backorder', 'backing', 'babycook', 'babe', 'b4', 'b130', 'b002r81l92', 'b001lg945o', 'b001aj1uls', 'b000h0zjhw', 'ay', 'awakening', 'awaited', 'avg', 'averse', 'authenticity', 'austria', 'ater', 'astronomical', 'assigned', 'ashy', 'asada', 'articial', 'arroz', 'arrowroot', 'armor', 'arkansas', 'aprox', 'approximate', 'appointment', 'applewood', 'appalling', 'app', 'apologetic', 'aplenty', 'apbt', 'anyplace', 'anorexic', 'anonymous', 'annies', 'anjou', 'anger', 'andrew', 'andre', 'analyzed', 'amzon', 'amozon', 'amout', 'amounted', 'amos', 'ambulance', 'amazom', 'amazingg', 'amazes', 'amason', 'amanda', 'amamzon', 'alters', 'alpo', 'alleviated', 'allergist', 'alkalinity', 'alimentari', 'ali', 'alex', 'alessi', 'aji', 'airway', 'airplanes', 'airbags', 'aiding', 'ahold', 'aggravate', 'agency', 'agava', 'afterthought', 'affords', 'affordability', 'affiliation', 'afficionado', 'af', 'aesthetic', 'advil', 'administration', 'administer', 'adjunct', 'ade', 'addictively', 'addendum', 'acutally', 'activate', 'actions', 'acres', 'acknowledged', 'acidy', 'acidophilus', 'aching', 'aceto', 'accuracy', 'accomodate', 'accessory', 'abut', 'abrasive', 'abby', 'aaaa', '9x13', '91', '8x8', '8230', '7up', '7am', '70lbs', '6mo', '6lbs', '6am', '61', '5mg', '50s', '50mg', '50g', '500g', '5000', '4yo', '4health', '480', '425', '40oz', '40lbs', '3am', '390', '35lb', '34oz', '30s', '300g', '29th', '24hrs', '21st', '20ct', '2015', '1yr', '1t', '19g', '1989', '1976', '1950', '1800flowers', '160mg', '15th', '150g', '14oz', '13th', '12lbs', '12lb', '114', '104', '100lb', 'zuma', 'zotz', 'zola', 'ziyad', 'zinfandel', 'zapps', 'zamouri', 'yummyness', 'yummmmmm', 'yukon', 'yucateco', 'youself', 'yous', 'youngsters', 'yor', 'yoplait', 'yesteryear', 'yech', 'yeasts', 'yaki', 'yadda', 'xxx', 'xtreme', 'xlear', 'xapp', 'x3', 'wyoming', 'wwii', 'wulong', 'wrung', 'wrist', 'wretched', 'wrestling', 'wreaking', 'wraped', 'wows', 'woven', 'wort', 'workspace', 'workable', 'worchestershire', 'wolves', 'woeber', 'wits', 'witnessed', 'wit', 'wisk', 'wishlist', 'wiser', 'wires', 'wirehaired', 'wintery', 'winnie', 'wineries', 'windowsill', 'willy', 'williamson', 'wildest', 'wick', 'whopper', 'whoops', 'whith', 'whisper', 'whisking', 'whirls', 'whirleypop', 'whippets', 'whipit', 'wheels', 'wheatfree', 'wetter', 'wetlands', 'westerners', 'wessex', 'welcoming', 'weiner', 'weightwatcher', 'weevils', 'weeping', 'weep', 'weedkiller', 'weebee', 'wedged', 'weddings', 'weaknesses', 'wayyyyyy', 'wayy', 'wawa', 'waves', 'watter', 'watkins', 'watercress', 'washer', 'wars', 'warrior', 'warrants', 'warranted', 'wards', 'wang', 'wandered', 'wander', 'wakeup', 'waker', 'wage', 'waffers', 'wads', 'waaaaaay', 'voted', 'voss', 'vosges', 'volunteered', 'voluntary', 'voluntarily', 'volcanic', 'voices', 'vocals', 'vlasic', 'vitasoy', 'vitamuffins', 'vitally', 'vitakraft', 'vinaigrettes', 'vinagrette', 'viewpoint', 'viewing', 'viewed', 'vie', 'victim', 'vicinity', 'vibrating', 'vibrance', 'verson', 'versitile', 'verses', 'verrry', 'vernor', 'verification', 'veri', 'verbena', 'venezuela', 'velcro', 'vegtables', 'vegetative', 'veer', 'vc', 'vaseline', 'varietals', 'variances', 'vanillas', 'vanila', 'valdez', 'utopia', 'utilizing', 'utica', 'ususally', 'usefulness', 'urinate', 'uric', 'urged', 'updates', 'unwrapping', 'unwittingly', 'untested', 'unsupervised', 'unsulphured', 'unsuccessfully', 'unscrewing', 'unscrewed', 'unscathed', 'uns', 'unreturnable', 'unrelated', 'unreasonably', 'unprotected', 'unprepared', 'unpleasantness', 'unparalleled', 'unpacking', 'unpackaged', 'unofficial', 'uno', 'unnamed', 'unlimited', 'unleashed', 'unleash', 'unlabeled', 'unknowingly', 'uniqueness', 'unicorn', 'unholy', 'unhealthful', 'unharmed', 'unfit', 'unfavorable', 'unexciting', 'unexceptional', 'undone', 'undivided', 'underwear', 'underfoot', 'underestimated', 'und', 'unchanged', 'unbranded', 'unblemished', 'unbeknownst', 'unanswered', 'unaffected', 'unaccustomed', 'uht', 'uacute', 'tyson', 'twisting', 'twinning', 'tweek', 'tuxedo', 'tutti', 'turnovers', 'turner', 'turnaround', 'turkeys', 'turd', 'tulleys', 'tulley', 'tuffy', 'tucker', 'tuber', 'tubby', 'ts', 'trys', 'tryin', 'trully', 'truer', 'truebars', 'truckload', 'troubling', 'troublesome', 'trix', 'trivial', 'trickier', 'triathlons', 'triathlete', 'tread', 'travesty', 'traumatized', 'trappey', 'translation', 'translated', 'transforms', 'transfering', 'trademark', 'touting', 'tout', 'toting', 'totals', 'totaling', 'tostadas', 'toscana', 'tos', 'tortuga', 'tonkatsu', 'tongs', 'tomatoey', 'tollerate', 'tolerating', 'toiletries', 'tofurky', 'toffifay', 'todays', 'toby', 'tl', 'tiresome', 'tipsy', 'tinted', 'tiniest', 'tingles', 'tincture', 'timers', 'timeliness', 'timeframe', 'tilth', 'tillman', 'tightwad', 'tightened', 'tiffany', 'ties', 'tiers', 'tienda', 'thx', 'thusfar', 'tht', 'thst', 'thsi', 'thses', 'thse', 'thrills', 'thougth', 'thompson', 'thickeners', 'thiamin', 'themself', 'theis', 'thaws', 'texturally', 'tesoro', 'tesco', 'terriyaki', 'territory', 'territorial', 'teriffic', 'teriaki', 'tepid', 'tendon', 'tenderized', 'tendencies', 'tellicherry', 'teenaged', 'ted', 'technician', 'technica', 'teatree', 'teatime', 'teath', 'teat', 'teases', 'teaser', 'teams', 'tbsps', 'tbl', 'tatste', 'tatse', 'tata', 'tastefully', 'tartlets', 'targeted', 'tarallini', 'tapping', 'tapered', 'taper', 'tantrum', 'tannin', 'tangyness', 'tangible', 'tandoor', 'tamper', 'tamp', 'tamed', 'tamales', 'taj', 'taints', 'tailored', 'tai', 'tabouli', 'tabletop', 'syurp', 'syracuse', 'synonymous', 'sync', 'symptom', 'sympathy', 'swung', 'sworn', 'swoop', 'swished', 'swirls', 'swirling', 'swipe', 'swinging', 'swigs', 'swich', 'swelled', 'sweetgourmet', 'sweetarts', 'sway', 'swatting', 'swatter', 'suzie', 'survey', 'surprize', 'surpass', 'surly', 'surgical', 'supremely', 'suppressing', 'suppress', 'supporter', 'supported', 'superiority', 'superautomatic', 'sung', 'sunchy', 'sunchips', 'sunbeam', 'summery', 'summed', 'sulphites', 'suiting', 'sugariness', 'sugarcane', 'sucrets', 'succeeded', 'subtleties', 'subsidiary', 'subscribers', 'subscibe', 'submission', 'subjects', 'styro', 'stupidity', 'stunk', 'stuf', 'struvite', 'stronganoff', 'streusel', 'stretching', 'strengthens', 'strengthening', 'strenght', 'streets', 'strayed', 'straub', 'strategically', 'strangest', 'straightened', 'straighten', 'stoop', 'stolen', 'stinging', 'stimulants', 'stewarts', 'stewart', 'sterilize', 'stepfather', 'stemmed', 'stealth', 'staving', 'static', 'stashing', 'starmark', 'starbursts', 'stanky', 'stange', 'standalone', 'stagnant', 'staggering', 'stacking', 'stackable', 'stabilizer', 'stabilized', 'ss', 'squish', 'squeezy', 'squeezies', 'squeamish', 'squeaks', 'squat', 'squarely', 'spuds', 'sprouters', 'springing', 'sprig', 'spouts', 'spotty', 'spotting', 'sportmix', 'spoonfulls', 'splurging', 'splits', 'splinters', 'splendor', 'splatter', 'splashes', 'spiritual', 'spirals', 'spinner', 'spiking', 'sphynx', 'speeds', 'speechless', 'speculated', 'specimen', 'specifies', 'specialize', 'spearment', 'spead', 'spartan', 'sparky', 'spaghettis', 'spackle', 'soynuts', 'souxsie', 'southerners', 'sourcream', 'souffle', 'sorted', 'sorrel', 'soreness', 'sorbic', 'soprano', 'sophistication', 'soot', 'sonic', 'songs', 'songbirds', 'someting', 'sol', 'sojo', 'softgels', 'softening', 'sofa', 'sodamix', 'sockeye', 'soan', 'snuggly', 'snowman', 'snowball', 'snot', 'sniffles', 'snickerdoodles', 'sneezed', 'sneek', 'sneakers', 'snapping', 'snackwells', 'snackwell', 'smushed', 'smudges', 'smucker', 'smooths', 'smooshed', 'smidgen', 'smellier', 'smearing', 'smartykat', 'smartwater', 'smartfries', 'smartblend', 'smallness', 'slurping', 'slumber', 'sludgy', 'slobbering', 'slipped', 'slimmer', 'slicer', 'sli', 'slew', 'slenderize', 'sleepiness', 'sleeper', 'sledding', 'slathering', 'slate', 'slake', 'slab', 'skyrocketed', 'skunky', 'skinners', 'skimping', 'skiing', 'skewer', 'sketchy', 'skepticism', 'skallops', 'sizzling', 'sizable', 'sixlets', 'siu', 'siting', 'sistema', 'sis', 'sippy', 'singe', 'sinf', 'sincere', 'simplified', 'simmers', 'silvery', 'silverware', 'sifted', 'sidewalk', 'sicky', 'sickened', 'siciliani', 'sic', 'shus', 'shun', 'shudders', 'shrugged', 'showers', 'shovel', 'shoulda', 'shorts', 'shockingly', 'shit', 'shiro', 'shills', 'shihpoo', 'shied', 'shichimi', 'shhh', 'sheperd', 'shepards', 'shelling', 'shaver', 'shattering', 'shaping', 'shanks', 'shamelessly', 'shakeology', 'shack', 'sewer', 'setton', 'serviceable', 'serranos', 'seperately', 'sensor', 'semester', 'segments', 'seeps', 'seeped', 'seemd', 'seedling', 'seeded', 'secrets', 'seattles', 'seasame', 'seabear', 'scrumptuous', 'screwdriver', 'screening', 'scovilles', 'scour', 'scoring', 'scooters', 'sclerosis', 'scientifically', 'schnoodle', 'schnapps', 'scheme', 'scattering', 'scarpetta', 'scarcity', 'scandinavian', 'scandinavia', 'scandal', 'scaly', 'sbux', 'sazon', 'sawed', 'savors', 'savon', 'savage', 'sauerbraten', 'saucisson', 'satisying', 'satisfier', 'sathers', 'satchel', 'saskatoon', 'sashimi', 'sanfrancisco', 'sane', 'sandwiched', 'sandie', 'samurai', 'samsclub', 'samoyed', 'samll', 'sambazon', 'salvation', 'sally', 'salem', 'sailing', 'sadness', 'sacrilege', 'sacrifices', 'sabrina', 'rutabagas', 'russells', 'rushes', 'runners', 'rumor', 'ruff', 'rt', 'royalties', 'rowntree', 'roux', 'roulette', 'rougher', 'rotisserie', 'rotates', 'rosehip', 'rosamonte', 'rooibo', 'rood', 'roobios', 'ron', 'romeo', 'romania', 'rollups', 'rodents', 'rockstars', 'rockin', 'rocketed', 'rocco', 'rocamojo', 'rob', 'roadhouse', 'rivaled', 'ritters', 'ristretto', 'riot', 'ringing', 'rigors', 'rigatoni', 'riesling', 'ribena', 'rhizome', 'rhino', 'rexie', 'rework', 'revitalizing', 'revision', 'reverts', 'revert', 'revealing', 'retreiver', 'resturants', 'restuarant', 'restraint', 'restful', 'responsibilities', 'respective', 'resolves', 'resolutions', 'resisting', 'resisted', 'resigned', 'residence', 'reshipped', 'resellers', 'resell', 'researchers', 'reread', 'reproductive', 'replies', 'replenishment', 'replenishes', 'replaceable', 'repels', 'repacked', 'repackaging', 'reno', 'rennet', 'renee', 'rename', 'remy', 'reminicent', 'religously', 'relies', 'relates', 'rejuvenator', 'reinvented', 'reinforcing', 'reinforces', 'rehydrates', 'regurgitates', 'regualr', 'regarded', 'refrito', 'reformed', 'referenced', 'reeks', 'redundant', 'reductions', 'reducer', 'redness', 'rediscovered', 'redfish', 'redbush', 'recyle', 'recuperating', 'rectangles', 'recourse', 'reconstituting', 'recommneded', 'recommned', 'recommmend', 'recommendable', 'reclose', 'recive', 'rebound', 'rebiana', 'rebate', 'reassuring', 'reassures', 'reap', 'realistically', 'reade', 'rcv', 'rbst', 'ravages', 'rata', 'rashers', 'rapeseed', 'rang', 'ramyuns', 'ramping', 'raisons', 'rained', 'raiding', 'raging', 'ragdoll', 'rafael', 'racking', 'raced', 'raccoons', 'quotient', 'quotes', 'quota', 'qulity', 'quintessential', 'quilt', 'quarterly', 'quackers', 'qr', 'qa', 'pyr', 'pylori', 'pvc', 'puzzling', 'pussy', 'pursuit', 'purrz', 'purrs', 'pureeing', 'purebites', 'purchace', 'pur', 'puppyhood', 'pupperonis', 'puny', 'punishment', 'pumpking', 'pumpernickel', 'pulverize', 'pulse', 'puggles', 'puffing', 'puffier', 'pudgy', 'pucca', 'pubs', 'prying', 'pruned', 'proximity', 'provolone', 'proving', 'province', 'prouduct', 'protean', 'prospects', 'proportioned', 'pronto', 'promply', 'prominently', 'prolific', 'prohibited', 'progressive', 'proficient', 'produts', 'prodcut', 'probaly', 'prized', 'prik', 'pricewise', 'pricer', 'pretzle', 'presentations', 'prescriptions', 'preschoolers', 'preperation', 'prepara', 'preoccupied', 'premise', 'premature', 'preheated', 'preggo', 'preemie', 'predominately', 'prednisone', 'predicted', 'precut', 'preconceived', 'preceding', 'prayer', 'praised', 'pr', 'powerpop', 'powerhouse', 'powdering', 'pounded', 'pounced', 'potlucks', 'postum', 'possesses', 'portrayed', 'portioning', 'portafilter', 'porkchops', 'pores', 'pored', 'poptart', 'popsicle', 'poppies', 'popovers', 'poplite', 'popeye', 'poos', 'poopy', 'pooper', 'pools', 'pooh', 'poofy', 'pons', 'pong', 'pondered', 'pomona', 'polyphenols', 'polynesian', 'politically', 'police', 'pointsplus', 'plz', 'plush', 'plumbing', 'pluck', 'pliers', 'plesantly', 'plaza', 'players', 'platform', 'plasic', 'plantagel', 'plank', 'planes', 'plains', 'pizzle', 'pitta', 'pitt', 'pipeline', 'pinapple', 'pimientos', 'pimento', 'pierced', 'pieced', 'piccolo', 'picardin', 'picard', 'piana', 'phthalates', 'phrases', 'photograph', 'phosphoric', 'philmont', 'phenominal', 'pharmaceutical', 'petition', 'petfooddirect', 'pestos', 'pester', 'perugina', 'peroxide', 'permits', 'permit', 'permanet', 'perfumes', 'perforations', 'perfecting', 'perennial', 'percolate', 'perch', 'perception', 'perceptible', 'perceive', 'peppadew', 'peperoni', 'penzey', 'penta', 'penrose', 'penetrate', 'pencils', 'penchant', 'pembroke', 'pelligrino', 'pelindaba', 'pekes', 'peeve', 'peelu', 'peeing', 'pediatricians', 'pediatric', 'ped', 'peat', 'pd', 'pbs', 'pav', 'patrons', 'parve', 'particulate', 'participate', 'parsely', 'parking', 'pareve', 'parenting', 'parboil', 'paraffin', 'papua', 'papdi', 'papad', 'pang', 'panforte', 'panels', 'panax', 'pampering', 'pals', 'palmitate', 'palmers', 'paled', 'palatability', 'palace', 'painfully', 'packettes', 'pacing', 'pacifier', 'p90x', 'owed', 'oversight', 'overshadowed', 'overseasoned', 'overrides', 'overpaying', 'overindulgence', 'overflowing', 'overfill', 'overcharging', 'overbrewing', 'overbrew', 'overblown', 'overbake', 'oval', 'outter', 'outstandingly', 'outsides', 'outlast', 'orthodox', 'ortega', 'orphan', 'originating', 'orgeats', 'organo', 'organized', 'organizations', 'organa', 'orgainic', 'orded', 'orbs', 'orally', 'operating', 'ooze', 'ooh', 'ontop', 'onhand', 'onecups', 'omnivore', 'omission', 'omega3', 'omanhene', 'olson', 'olivenation', 'olfactory', 'olewo', 'olden', 'okonomiyaki', 'ohhh', 'ohh', 'og', 'offputting', 'officer', 'odered', 'oder', 'odense', 'octagonal', 'ochun', 'occured', 'occations', 'occassionally', 'obstacles', 'obsessively', 'observing', 'observe', 'observations', 'oatbran', 'oasis', 'oaks', 'nver', 'nutrium', 'nutritionals', 'nutrisca', 'nutrious', 'nutrident', 'nutcracker', 'numbs', 'numbing', 'nuking', 'nuf', 'nueva', 'nubby', 'nub', 'nto', 'nosh', 'noooo', 'nondairy', 'nite', 'nit', 'nightime', 'nickname', 'nickels', 'nguyen', 'newfie', 'newbies', 'nevermind', 'neurotoxin', 'neurotic', 'neurological', 'neuro', 'neuhaus', 'netherlands', 'nestum', 'nescaf', 'neocate', 'nehi', 'needy', 'nector', 'necter', 'nebraska', 'nears', 'neapolitan', 'nay', 'navratan', 'navel', 'naturel', 'naturalness', 'naturade', 'natives', 'nat', 'narrows', 'narrowed', 'napalm', 'nanuq', 'nanas', 'namesake', 'nalgene', 'nairns', 'nabbed', 'mussolini', 'mussels', 'musketeers', 'musician', 'mundane', 'munches', 'mumble', 'multiportion', 'mullein', 'mulberry', 'muddied', 'mucho', 'mozarella', 'mover', 'motts', 'motorhome', 'motivation', 'motel', 'moscato', 'morphing', 'morph', 'morons', 'morel', 'moore', 'moonstruck', 'moons', 'montgomery', 'monotony', 'monotonous', 'mongolian', 'momento', 'momentarily', 'molten', 'molecules', 'molassas', 'molar', 'mojo', 'moistest', 'moi', 'mofo', 'modena', 'mochiko', 'mochaccino', 'mmmmmmmmm', 'mjb', 'mitzvah', 'mitigated', 'mite', 'misunderstand', 'misrepresented', 'misrepresentation', 'misquitos', 'misc', 'miralax', 'mintues', 'minneapolis', 'minimizes', 'miniatures', 'minestrone', 'mined', 'mimics', 'milwaukee', 'milling', 'miller', 'milan', 'migrate', 'midway', 'microscopic', 'michelle', 'mgs', 'mexicans', 'metromimt', 'mesmerized', 'mercola', 'meowed', 'ment', 'melow', 'mellower', 'melinda', 'meinl', 'meditation', 'medifast', 'mediciny', 'mechanisms', 'meager', 'meads', 'mct', 'mcdougal', 'mayos', 'mayonaisse', 'maximizing', 'maxi', 'maturity', 'matted', 'matt', 'matic', 'matchasource', 'marvelously', 'markedly', 'marijuana', 'mariani', 'margerine', 'marathons', 'manure', 'manioc', 'maniac', 'mange', 'mandated', 'manchester', 'mamma', 'mamas', 'malta', 'malnutrition', 'mallowmars', 'mallow', 'malleable', 'malic', 'malcolm', 'malamutes', 'majors', 'mainstay', 'maille', 'mai', 'mahal', 'magnifico', 'maggots', 'madly', 'maddie', 'macy', 'macrobiotic', 'macrobars', 'macro', 'macha', 'macchiatos', 'macarons', 'macadamian', 'lynn', 'lyle', 'luxuriously', 'luxuries', 'luved', 'lust', 'lure', 'lupinis', 'lull', 'luke', 'luckier', 'lucious', 'loyalist', 'lowes', 'lowery', 'lottery', 'lotta', 'loosens', 'loooooove', 'looooong', 'longhair', 'logical', 'loganberry', 'locust', 'lme', 'llava', 'livercare', 'littlest', 'listens', 'lisa', 'liquorish', 'liqorice', 'lingonberries', 'ling', 'limas', 'lillies', 'lilies', 'lilac', 'lifter', 'liek', 'licorices', 'licorette', 'lickins', 'licious', 'licensing', 'libbys', 'lewis', 'lethargy', 'lethal', 'lessening', 'lent', 'lemonades', 'leisurely', 'leisure', 'legume', 'legitimately', 'legacy', 'leepers', 'leclerc', 'lebanon', 'learner', 'leaps', 'leach', 'layout', 'layed', 'lavor', 'laura', 'launch', 'latino', 'laters', 'latching', 'latch', 'larder', 'lantchips', 'landscape', 'lance', 'lamp', 'lambert', 'lakerols', 'lactating', 'lactaid', 'labors', 'laboratories', 'labled', 'labelling', 'kwazulu', 'kurt', 'kum', 'krunch', 'kristian', 'krinos', 'kofinas', 'kodiac', 'knowledgeable', 'knotts', 'knobby', 'kmr', 'kittynip', 'kitkat', 'kirsch', 'kiosk', 'kings', 'ketones', 'keepsake', 'kedem', 'kcal', 'katrina', 'katharena', 'kaf', 'jury', 'juiciest', 'judy', 'ju', 'jpg', 'joyva', 'joyce', 'jolokias', 'joins', 'joey', 'joann', 'joan', 'jf', 'jesus', 'jerks', 'jeff', 'jeez', 'jays', 'jax', 'jawbreaker', 'jawbone', 'jasper', 'jasmati', 'janes', 'jammy', 'jamming', 'jammin', 'jamie', 'jalepenos', 'jaded', 'jackie', 'itched', 'irritations', 'irritates', 'irresponsible', 'irradiated', 'iranian', 'iran', 'iodide', 'involving', 'inventive', 'invaded', 'intuitive', 'introduces', 'intimidating', 'interspersed', 'interrupted', 'internally', 'intermittently', 'intermediate', 'interfering', 'intensifies', 'intellectual', 'institutional', 'institution', 'institute', 'instantaneously', 'inspire', 'inspecting', 'insomniac', 'insecticidal', 'inositol', 'inordinate', 'innocent', 'inning', 'inkling', 'injera', 'inject', 'inhibited', 'inhibit', 'inherited', 'ingridents', 'ingredents', 'ingred', 'ingenuity', 'infusions', 'influences', 'inflict', 'inflamatory', 'inflamation', 'infestations', 'inexpensively', 'inexcusable', 'indulgences', 'induces', 'indies', 'increments', 'incremental', 'inconsistencies', 'incompetent', 'incidents', 'incanto', 'inability', 'ina', 'importer', 'implied', 'imperial', 'imperfect', 'imperative', 'imparting', 'impaired', 'immersed', 'immediatley', 'imitating', 'imitate', 'imbibed', 'imbedded', 'imaginative', 'iherb', 'ignorance', 'idol', 'identity', 'ichiban', 'iceberg', 'hypothyroidism', 'hypothyroid', 'hypoglycemia', 'hypersonic', 'hydrometer', 'hydro', 'hydrator', 'hydes', 'hunza', 'hunts', 'humus', 'humor', 'hummingbird', 'humming', 'humm', 'hullless', 'hugs', 'hudson', 'huckelberry', 'hu', 'howling', 'howard', 'hovers', 'hott', 'hotmail', 'hormonal', 'horizontal', 'hoppy', 'hopeing', 'hop', 'hooters', 'hooks', 'homesick', 'homecooked', 'hollywood', 'hocks', 'hippy', 'hing', 'hime', 'hiker', 'higly', 'highlanders', 'hideously', 'hg', 'hesitating', 'hermetic', 'herby', 'herbalife', 'henna', 'hemorrhoids', 'helpfull', 'helpers', 'hellmans', 'heimlich', 'heh', 'heft', 'heave', 'heatwave', 'heaps', 'healtier', 'healthly', 'healthily', 'healther', 'heals', 'headway', 'hdpe', 'hawthorn', 'hawt', 'hawkins', 'hawai', 'haveing', 'havarti', 'haunt', 'hater', 'hasty', 'hasta', 'harshly', 'harmed', 'haribou', 'hardening', 'happytots', 'hapi', 'haphazardly', 'handwritten', 'handier', 'handicapped', 'handcooked', 'hammock', 'hammering', 'hairy', 'haircut', 'hairbo', 'hah', 'hacking', 'habitual', 'habitat', 'haa', 'gymnastics', 'guyana', 'guts', 'guten', 'guru', 'gunky', 'gumpaste', 'gumminess', 'gummier', 'gummed', 'gumdrops', 'guanylate', 'gt', 'grouping', 'grossest', 'grooms', 'grissle', 'gripes', 'griottines', 'grief', 'greets', 'greats', 'grd', 'gravity', 'gravitate', 'graveyard', 'gravey', 'grave', 'gratitude', 'gratefully', 'grasping', 'granuals', 'granite', 'grandparent', 'grandchild', 'grandbaby', 'grandbabies', 'grama', 'graisse', 'grainless', 'grainier', 'grainfree', 'graet', 'graduates', 'graduated', 'graders', 'graded', 'grabbers', 'gourmantra', 'gourmand', 'gourd', 'gouged', 'gouge', 'gosling', 'gorging', 'gordon', 'gorant', 'goopy', 'goodnight', 'goodberrymint', 'gon', 'golazo', 'goetze', 'gobs', 'gnu', 'gnaws', 'gn', 'gmr', 'gmcr', 'gluttony', 'glutin', 'glutenfreeda', 'glutenfree', 'glutened', 'gluing', 'glueten', 'globe', 'glitch', 'glazes', 'glacier', 'glaces', 'giorgio', 'gimborn', 'gilroy', 'gilding', 'gigi', 'giblets', 'giannini', 'gia', 'ghiardelli', 'gesture', 'germans', 'geographic', 'genus', 'gentlemen', 'gensing', 'genre', 'gauging', 'gaufre', 'gastritis', 'gasping', 'gasp', 'garretts', 'garnered', 'garibaldi', 'gardenias', 'garbanzos', 'garageband', 'ganocafe', 'gano', 'gamey', 'galaxy', 'gah', 'gaga', 'futher', 'fusions', 'furball', 'funniest', 'fungal', 'fullest', 'fujian', 'fugi', 'fueled', 'frutti', 'fruit2o', 'fructooligosaccharides', 'frown', 'froot', 'frm', 'fritz', 'frisbee', 'friendliest', 'fri', 'fresno', 'freshner', 'freecycle', 'frederick', 'freaky', 'freakishly', 'fraudulent', 'frappucino', 'frappuccinos', 'frappacinos', 'frantoia', 'fransico', 'frankenstein', 'francaise', 'frail', 'fragment', 'fractions', 'fpo', 'fourteen', 'fot', 'fostering', 'forwarding', 'forthcoming', 'formulations', 'formulate', 'formal', 'forking', 'foresight', 'foresee', 'forcefully', 'foodstuffs', 'foodstuff', 'foodist', 'fonderific', 'fondants', 'fom', 'folate', 'focaccia', 'flute', 'flushed', 'fluffs', 'fluffiness', 'fluffiest', 'floury', 'flourished', 'flossing', 'flocken', 'floated', 'flint', 'fleeting', 'flay', 'flavers', 'flashy', 'flashbacks', 'flank', 'fizziness', 'fizzier', 'fizzes', 'fixings', 'fishies', 'fisheries', 'firms', 'fireworks', 'finnish', 'finnicky', 'finisher', 'filmy', 'fillable', 'filing', 'fil', 'fighter', 'fiberplus', 'fianc', 'fi', 'fewest', 'feverfew', 'fesh', 'fertilize', 'ferns', 'fermenter', 'ferals', 'fend', 'fecal', 'feasible', 'favortie', 'faults', 'fate', 'fastidious', 'fascinated', 'fantabulous', 'fanny', 'fanatical', 'fame', 'falafels', 'fairbanks', 'fahrenheit', 'faerie', 'fading', 'facilities', 'eying', 'eyebrow', 'eyeballs', 'extremly', 'extraction', 'extinguisher', 'extinct', 'exspensive', 'exquisitely', 'exported', 'export', 'expertly', 'experiance', 'expensively', 'expenses', 'exercises', 'executive', 'excluding', 'exclaimed', 'excelencia', 'excel', 'examining', 'evolved', 'evoke', 'evils', 'evidenced', 'everthing', 'everidae', 'everday', 'evaporates', 'eva', 'euthanized', 'eustachio', 'euryale', 'europeans', 'eureka', 'estrogen', 'estatic', 'essenza', 'especial', 'eskimo', 'escargot', 'escaped', 'erased', 'erase', 'equipped', 'epoxy', 'epilepsy', 'envision', 'enviroment', 'enviga', 'entranced', 'entr', 'enthused', 'enters', 'entering', 'ensuring', 'enlarge', 'engineering', 'engaging', 'energizes', 'energies', 'enduring', 'enclose', 'enchanted', 'enable', 'emulsion', 'emulsified', 'emperor', 'empanadas', 'emotions', 'embrace', 'embarrassment', 'embarrassingly', 'emanating', 'elses', 'elmwood', 'elm', 'ellen', 'ellas', 'elixer', 'elicit', 'elevating', 'elevates', 'electrolites', 'elasticity', 'ekojava', 'einkorn', 'eighties', 'eiermann', 'effortlessly', 'effecting', 'eff', 'edulis', 'educational', 'edenfoods', 'ecobrew', 'eauction', 'easliy', 'easiyo', 'eased', 'eas', 'earthier', 'earliest', 'dynamics', 'dwelling', 'durkee', 'duper', 'dunkins', 'dundee', 'dumbed', 'dumbbells', 'duffy', 'dudes', 'duct', 'dubai', 'drugstores', 'drought', 'drostes', 'droplets', 'droewors', 'dripped', 'drinkability', 'drill', 'dredge', 'draught', 'drab', 'downsized', 'downs', 'downgraded', 'doused', 'doubted', 'doubleshots', 'dosing', 'dosha', 'dope', 'doorsteps', 'doone', 'donna', 'dong', 'doneness', 'donald', 'dominican', 'dominating', 'dolmas', 'dogfoods', 'dogfoodadvisor', 'doesn', 'dna', 'dj', 'dizziness', 'divina', 'diva', 'disturb', 'district', 'distributer', 'distiller', 'disservice', 'dissatisfaction', 'dissappointing', 'disrespect', 'dispute', 'disposition', 'disposing', 'displeasure', 'displaying', 'dispelled', 'disolved', 'disneyland', 'dismal', 'dislodge', 'dishwashing', 'dishing', 'disguises', 'disdain', 'discusting', 'discussing', 'discontinues', 'discoloration', 'disco', 'discharge', 'disbelief', 'disasterous', 'disagreed', 'dippin', 'dipper', 'diminutive', 'dilution', 'dijons', 'digusting', 'dignity', 'dignified', 'digestively', 'diffrent', 'dicalcium', 'diary', 'diamonds', 'dial', 'diabeti', 'dhl', 'devotee', 'devices', 'detraction', 'detracted', 'detoxify', 'detoxification', 'deters', 'deterrent', 'deteriorating', 'detector', 'detangle', 'detached', 'desparate', 'despaired', 'descaled', 'deployment', 'depleting', 'depletes', 'depicts', 'depiction', 'denying', 'dentabites', 'den', 'demonstrating', 'demonstrates', 'demonstrated', 'demonstrate', 'deliverer', 'delites', 'delis', 'deliberate', 'delete', 'dehydrate', 'degraded', 'degradation', 'deg', 'defrosting', 'define', 'defend', 'defeating', 'defeated', 'decreasing', 'decorator', 'declare', 'deceitful', 'deceased', 'decalf', 'decaffeination', 'deathly', 'dearest', 'dearborn', 'deaf', 'davids', 'daves', 'daugher', 'daschund', 'darrell', 'darling', 'darkness', 'darken', 'dari', 'danesi', 'dancer', 'damson', 'damned', 'dammit', 'damages', 'daiquiri', 'dabbed', 'cysts', 'cycled', 'cuter', 'customary', 'cushions', 'curves', 'curtail', 'currents', 'curling', 'curds', 'curdled', 'curbed', 'cupper', 'cudos', 'cuba', 'crystallizing', 'crushes', 'crunchmaster', 'crowns', 'crispie', 'cripsy', 'criminals', 'crime', 'crickets', 'cricket', 'cremosa', 'creatively', 'creased', 'creamery', 'crane', 'cram', 'cracklings', 'coyote', 'cox', 'covet', 'countryside', 'counterbalance', 'counteracts', 'couldn', 'cote', 'costed', 'cosmetics', 'corso', 'corrugated', 'corresponded', 'correlation', 'correction', 'correcting', 'corp', 'cornsilk', 'corns', 'cornflakes', 'cored', 'cordials', 'corazonas', 'corazona', 'coral', 'copyright', 'copious', 'coping', 'copenhagen', 'cooperative', 'cookin', 'convienience', 'convey', 'conversion', 'convention', 'convent', 'contradicted', 'contract', 'contented', 'contemporary', 'contaminant', 'containment', 'contacts', 'consumeraffairs', 'constancy', 'considerations', 'considerate', 'conserve', 'conservation', 'consciousness', 'connie', 'congratulations', 'congratulate', 'confuses', 'conform', 'conflicting', 'confined', 'confession', 'confectionary', 'conducted', 'concise', 'conceive', 'concealed', 'conagra', 'comsume', 'composted', 'complexion', 'competitions', 'competative', 'compensation', 'compensates', 'compelling', 'comparied', 'communicated', 'column', 'coloured', 'colores', 'colorants', 'colonization', 'colby', 'cointreau', 'cognoscenti', 'cognac', 'coffeecakes', 'cody', 'cocayerb', 'cobblestone', 'coaching', 'coaches', 'cna', 'closeout', 'clorox', 'clone', 'clipper', 'clinically', 'cleanliness', 'clayton', 'claws', 'clash', 'clarifying', 'claire', 'citizens', 'cite', 'circumstance', 'circuit', 'cioccolati', 'cinnimon', 'cinn', 'cincy', 'ciao', 'chunkiness', 'chum', 'chubs', 'chub', 'chreese', 'choosey', 'cholesteral', 'chocs', 'chocoperfection', 'chocolatly', 'chocolatier', 'choclatey', 'chocholate', 'chirstmas', 'chiptole', 'chipmunk', 'chimichurri', 'childs', 'chik', 'chiclet', 'chicks', 'chicharrones', 'chic', 'chewnola', 'chevy', 'chests', 'chester', 'chessy', 'chesapeake', 'cherished', 'cherios', 'chemist', 'chelsea', 'chefshop', 'cheery', 'cheered', 'cheeks', 'cheapskate', 'cheapening', 'charly', 'chapped', 'chang', 'chanel', 'chana', 'chambers', 'chamber', 'chalking', 'chagrin', 'cfr', 'certs', 'cerial', 'centres', 'centerpieces', 'cedar', 'cecco', 'ceasar', 'cccs', 'caykur', 'caviars', 'caveman', 'cavaliers', 'cautioned', 'caustic', 'caucasian', 'catswell', 'catsure', 'cataracts', 'catalogs', 'castle', 'castelvetrano', 'carving', 'carting', 'carrys', 'carousels', 'carnitas', 'carmellini', 'caries', 'careless', 'carcinogen', 'carbination', 'caraway', 'caramelly', 'capturing', 'captivating', 'capriccio', 'capri', 'cantimpalo', 'candles', 'candie', 'canary', 'camomile', 'camera', 'camellia', 'camelbak', 'calzone', 'calory', 'calorically', 'callories', 'callender', 'californian', 'cali', 'calculations', 'cafix', 'caffienated', 'caffenated', 'cafeine', 'caddy', 'cache', 'byte', 'byproduct', 'butterball', 'butler', 'butch', 'bustello', 'bushes', 'burying', 'burma', 'burdock', 'burden', 'bum', 'bulking', 'bulged', 'bulge', 'bugged', 'buenos', 'buena', 'buckle', 'bucatini', 'bubblewrap', 'brushings', 'brunswick', 'brow', 'brough', 'bronx', 'bronchitis', 'broiling', 'broiler', 'broadway', 'broadened', 'brn', 'briny', 'brined', 'brim', 'bridge', 'bribing', 'bribery', 'bribed', 'breeding', 'bred', 'breat', 'breakroom', 'breakouts', 'breakout', 'breakfest', 'breakers', 'braids', 'brad', 'bough', 'bottomed', 'bostons', 'bosses', 'bosch', 'borzoi', 'boredom', 'boosted', 'bookstore', 'booger', 'bonzai', 'bony', 'bonnie', 'bonne', 'bonn', 'bonita', 'bond', 'bolts', 'bolt', 'bok', 'boiler', 'bobo', 'boardwalk', 'boarder', 'blur', 'blunt', 'bluish', 'blueprint', 'bluebirds', 'bluebird', 'blotted', 'bloodhound', 'blogger', 'blk', 'blissful', 'blink', 'blessings', 'blenders', 'bleeds', 'bleagh', 'bleach', 'blandest', 'biz', 'bissinger', 'biscottis', 'biscoff', 'biofilm', 'binging', 'binding', 'biltmore', 'bija', 'bifidus', 'bid', 'bg', 'betting', 'betrayed', 'beter', 'betcha', 'berlin', 'berkeley', 'ber', 'benign', 'benefiting', 'bends', 'belonged', 'bela', 'bel', 'beignets', 'behavioral', 'begining', 'beekeepers', 'beefier', 'beechnut', 'beause', 'beaters', 'bearnaise', 'bearded', 'baxters', 'batting', 'bathtub', 'baths', 'bathing', 'bastianich', 'bartenders', 'barritts', 'barrier', 'bargan', 'barcode', 'barbie', 'bao', 'banquet', 'bangs', 'bandito', 'banaspaty', 'banannas', 'baltimore', 'balsalmic', 'balloon', 'baldwin', 'badass', 'bacillus', 'b30', 'b2', 'b1', 'b007jbo41e', 'b006h34cus', 'b004m62d5s', 'b004m5w7yq', 'b004k30ho2', 'b002tmv3e4', 'b002swb73c', 'b001eq5jle', 'b001eq55rw', 'b001boaoq4', 'b000kbfkiq', 'b000h27nu6', 'b000evose4', 'b000enwsbw', 'aztec', 'azaleas', 'azalea', 'awoke', 'awesom', 'awarding', 'awaits', 'avery', 'averages', 'availibility', 'avaiable', 'autoimmune', 'authors', 'authorization', 'authentically', 'aussies', 'augment', 'audrey', 'auction', 'attributing', 'attracting', 'attended', 'attend', 'athough', 'astoria', 'asthmatics', 'assisted', 'assembly', 'assault', 'assams', 'ashes', 'asd', 'ascertain', 'asafoetida', 'artists', 'artic', 'artful', 'aroung', 'arive', 'argued', 'argo', 'arena', 'arame', 'arabia', 'aptly', 'apriva', 'approaches', 'appreciating', 'appointed', 'applicable', 'appliance', 'appletini', 'appetito', 'appearing', 'apparatus', 'apologies', 'apollo', 'ape', 'anyting', 'anyones', 'antiperspirant', 'antipasto', 'antioxident', 'antica', 'antibacterial', 'anthony', 'anthon', 'anthocyanins', 'antacid', 'ans', 'anon', 'ande', 'anchor', 'anaphylactic', 'amoretti', 'amora', 'ammount', 'ammonium', 'ammonia', 'aminos', 'americanos', 'amend', 'ambien', 'ambian', 'amazaon', 'amateurs', 'amarillo', 'amarena', 'alzheimer', 'althought', 'alterra', 'alteration', 'alt', 'alphabets', 'almighty', 'allotment', 'alligator', 'allegro', 'allegies', 'alkalizing', 'alka', 'align', 'alerted', 'alarmingly', 'alaea', 'akmak', 'airpopper', 'aiming', 'ailing', 'aided', 'ahhhhh', 'ahem', 'agua', 'agrave', 'agood', 'agonizing', 'agin', 'agile', 'aggravation', 'aggravating', 'ag', 'afterwords', 'afterbite', 'afghan', 'afflicted', 'afficionados', 'afer', 'aesthetics', 'aesthetically', 'aerosol', 'aero', 'aebleskiver', 'advertisements', 'adversely', 'adventures', 'adolescent', 'adn', 'administering', 'administered', 'adjustable', 'adjective', 'adhd', 'addded', 'adaptor', 'adaptogens', 'acupuncturist', 'actualy', 'activates', 'acording', 'acme', 'acknowledgement', 'achieves', 'acetate', 'accumulate', 'accountable', 'accommodating', 'accommodate', 'accolades', 'accepting', 'abv', 'absoultely', 'absinthe', 'abnormally', 'abilities', 'ab', '9yo', '9pm', '9mo', '9lb', '99c', '990', '911drugstore', '911', '90mins', '8yo', '8mos', '8mg', '8lbs', '8am', '850mg', '80lbs', '7yo', '7lbs', '7lb', '75lbs', '75lb', '71', '70g', '700', '660', '650', '60lb', '60g', '5yo', '5x', '55mg', '520', '500ml', '46oz', '454hp', '3yrs', '3kg', '37g', '36g', '36ct', '357', '320', '31g', '30oz', '30mins', '300mg', '3000', '2yr', '2tbsp', '2pm', '2nds', '2day', '2c', '290', '27g', '25th', '259', '255vf', '2500', '24pk', '245', '22nd', '225', '210mg', '20th', '200mg', '2002', '1tbsp', '1hr', '1999', '1984', '1980s', '1975', '18oz', '18lb', '185', '1800', '16th', '16months', '168', '1600', '14th', '13oz', '130mg', '12pk', '128', '127', '10pm', '100cal', '04830', 'zuccini', 'zones', 'zombies', 'zoji', 'ziwipeaks', 'zito', 'zipping', 'ziplok', 'zinging', 'zin', 'ziggle', 'zica', 'zede', 'zagreb', 'zagnuts', 'zagat', 'yuzu', 'yuuuuuuuuuum', 'yuppy', 'yummyearth', 'yummmmmy', 'yummmmmmy', 'yummmmmmm', 'yummies', 'yummie', 'yummi', 'yukky', 'yucatan', 'yu', 'ys', 'youngster', 'yougart', 'yoshinoya', 'yorkiepoo', 'yore', 'yolkless', 'yogurette', 'yixing', 'yirgacheffe', 'yielding', 'yi', 'yg', 'yess', 'yells', 'yellows', 'yearned', 'yearn', 'ycchocolate', 'yashida', 'yankee', 'yacking', 'xylichew', 'xxl', 'xx', 'xp', 'xc', 'xango', 'x5', 'x2u', 'wysong', 'wyler', 'wuss', 'wunder', 'wufuyuan', 'wud', 'wtih', 'wrth', 'writings', 'wrinkly', 'wrigleys', 'wretch', 'wrench', 'wrecking', 'wreck', 'wreaked', 'wrappings', 'wowzer', 'woul', 'woud', 'worsens', 'worring', 'workaround', 'woops', 'woodpecker', 'wooded', 'wonderul', 'wonderfulness', 'woderful', 'wls', 'wll', 'wives', 'withdrawl', 'withdrawals', 'wispy', 'wishful', 'wisecrackers', 'wisconson', 'wirehair', 'winy', 'winston', 'wink', 'wingaling', 'windy', 'windsor', 'wimps', 'wiltons', 'wilting', 'wilson', 'willow', 'willingness', 'willie', 'wiley', 'wile', 'wilde', 'wii', 'wihtout', 'wiffle', 'wiff', 'wifey', 'wieght', 'wicker', 'wic', 'whoppers', 'whoopie', 'whoop', 'whoo', 'wholewheat', 'wholespice', 'wholesomeness', 'wholesaler', 'wholes', 'wholefood', 'whitman', 'whiting', 'whitens', 'whitehouse', 'whit', 'whish', 'whirlypop', 'whirled', 'whines', 'whimsical', 'whimpy', 'whereupon', 'whenver', 'whence', 'wheezing', 'wheelbarrow', 'wheaty', 'whatta', 'wharf', 'whacks', 'whacked', 'wgt', 'wetness', 'wether', 'wesselmann', 'wesley', 'wer', 'wellbeing', 'wellbars', 'wellbar', 'weired', 'weimeraner', 'weightlifting', 'weezer', 'weenie', 'weekdays', 'weave', 'weakly', 'wd', 'wayne', 'waxiness', 'waving', 'waterproof', 'watermelony', 'watermelons', 'waterlogged', 'wateringly', 'waterbottle', 'wated', 'washings', 'wasaibi', 'warping', 'warmish', 'wares', 'wannabe', 'waned', 'wanda', 'walter', 'walsh', 'walloping', 'wallgreens', 'waistlines', 'wah', 'wagyu', 'wagner', 'wafting', 'wafels', 'waay', 'waaaaaaay', 'vv', 'vultures', 'vow', 'voting', 'voraciously', 'voom', 'voodoo', 'vomitting', 'vomitous', 'volvic', 'volunteers', 'voltage', 'volcanoes', 'volaille', 'vol', 'vogels', 'vogel', 'vocab', 'vividly', 'vivian', 'vitaspelt', 'vitasal', 'vitaminy', 'vitamineral', 'vitagravy', 'visualize', 'visting', 'visions', 'vise', 'virtuous', 'virginity', 'virgina', 'violets', 'vinyl', 'vingear', 'vineger', 'vimto', 'villa', 'vigo', 'victory', 'victims', 'vicodin', 'vicks', 'vickie', 'vicious', 'vices', 'vibrantly', 'vibrancy', 'viability', 'vh', 'vetrinarian', 'veternarian', 'veterans', 'veryasia', 'verty', 'vertigo', 'versital', 'verse', 'vermiculite', 'verities', 'veritable', 'veriety', 'verging', 'verde', 'verdad', 'verbally', 'ver', 'venturing', 'ventures', 'ventilation', 'veneziane', 'venders', 'vend', 'velveet', 'velma', 'veinier', 'vegtable', 'vegetation', 'vegei', 'vegatables', 'vegatable', 'vaule', 'vat', 'varner', 'varietal', 'vareity', 'vapors', 'vanquished', 'vampire', 'valumarket', 'valuepetsupplies', 'valu', 'vally', 'validate', 'vacuuming', 'vacum', 'vaccuum', 'vaccummed', 'vaccum', 'uwajimaya', 'utis', 'utimate', 'utilized', 'utility', 'uticacoffeeroasting', 'uterine', 'ususlly', 'ususal', 'ustad', 'ust', 'usrda', 'usally', 'uruguay', 'ursula', 'urself', 'urn', 'urging', 'urban', 'uralt', 'upto', 'uptake', 'upshot', 'upload', 'upchucking', 'unwinding', 'unusal', 'untoasted', 'untie', 'unsweetned', 'unsulfured', 'unstuck', 'unstable', 'unspectacular', 'unspecified', 'unsophisticated', 'unseasoned', 'unseal', 'unscrews', 'unscientific', 'unsavory', 'unrivaled', 'unrefrigerated', 'unravel', 'unqualified', 'unpretentious', 'unpleasing', 'unpaid', 'unoriginal', 'unoffensive', 'unobtrusive', 'unnessary', 'unneeded', 'unnecessarily', 'unneccessary', 'unloading', 'unload', 'unlabelled', 'unitl', 'uninspiring', 'uninitiated', 'unimportant', 'unimaginable', 'unilever', 'unhulled', 'unheard', 'unhealthly', 'unhealthier', 'unfounded', 'unfortuantely', 'unfold', 'unfairly', 'unexplainable', 'unethical', 'unequaled', 'unecessary', 'unease', 'undying', 'undrained', 'undoubtably', 'undissolved', 'undisclosed', 'undeserved', 'undertaste', 'understandably', 'undersized', 'underpowered', 'undergoing', 'underestimate', 'underdone', 'undercuts', 'undercurrent', 'undercook', 'undercoat', 'underbelly', 'undecided', 'unctuous', 'uncover', 'unclog', 'uncles', 'unchewed', 'uncheese', 'uncarbonated', 'unbreakable', 'unbelieveable', 'unavoidable', 'unavailability', 'unanimous', 'unaltered', 'unadorned', 'unacceptably', 'umms', 'ummmmm', 'ultrasonic', 'ulcerative', 'ujinotsuyu', 'uji', 'ughh', 'twos', 'twitching', 'twinlab', 'tweens', 'tween', 'tweeked', 'tweaked', 'turntable', 'turnpikes', 'turnover', 'tung', 'tundra', 'tunatreats', 'tunas', 'tunafish', 'tumric', 'tumors', 'tubular', 'tubing', 'tubi', 'tu', 'tt', 'tsu', 'tsps', 'tspn', 'tsk', 'trumps', 'truebar', 'troy', 'trow', 'troubleshooting', 'trolley', 'tripe', 'trinidad', 'trimmings', 'trimmer', 'trifles', 'trifecta', 'tricalcium', 'triathlon', 'triathletes', 'trevor', 'tres', 'tremors', 'tremble', 'treet', 'treaty', 'travelers', 'traumatic', 'trauma', 'transporting', 'transplanting', 'transitional', 'transfered', 'tranquil', 'trang', 'tramp', 'trait', 'traiding', 'trahana', 'tragic', 'tragedy', 'tradizionale', 'traders', 'tradeoff', 'tplo', 'toying', 'toxicity', 'tox', 'townhouse', 'tournament', 'tourists', 'touring', 'toungue', 'tought', 'toughie', 'tou', 'tottaly', 'totaly', 'totality', 'torturing', 'tortoise', 'torrones', 'torcik', 'toping', 'topics', 'toothy', 'toothed', 'toothbrushes', 'toothache', 'toooooooo', 'tooooooo', 'toooo', 'toolbox', 'tong', 'tomothy', 'tomoato', 'tollhouse', 'tofuky', 'todate', 'tocopherol', 'toblerone', 'toastmaster', 'tk', 'tjs', 'titles', 'titan', 'tish', 'tippy', 'tipps', 'tipo', 'tinkering', 'tinier', 'tini', 'tinged', 'tiney', 'timmy', 'timey', 'timesaver', 'timeline', 'timed', 'tilted', 'tillen', 'tike', 'tighter', 'tigers', 'tiered', 'tiene', 'tidier', 'tides', 'ticks', 'tickling', 'tickles', 'tia', 'thy', 'thurs', 'thunderstorms', 'thujone', 'thry', 'thrush', 'throwback', 'througout', 'thrives', 'thrice', 'threes', 'threatened', 'thouroughly', 'thougt', 'thoughtless', 'thot', 'thornton', 'thor', 'thisis', 'thinning', 'thinkof', 'thingy', 'thingie', 'thilled', 'thieves', 'thicknesses', 'thhis', 'thermo', 'therein', 'theraputic', 'thera', 'theories', 'theobromine', 'themes', 'thei', 'thees', 'thc', 'thankee', 'tham', 'tge', 'texarkana', 'tetrapaks', 'tetrapak', 'tess', 'tes', 'teryaki', 'terry', 'terrior', 'terrifically', 'terrariums', 'terrarium', 'terminology', 'tener', 'tendancy', 'tenant', 'temperture', 'temperament', 'tempeh', 'telltale', 'tejava', 'teensy', 'teekanne', 'technivorm', 'teast', 'teaspons', 'teased', 'teary', 'teaosophy', 'teal', 'teague', 'teacups', 'tbps', 'tbhq', 'tazaa', 'tavern', 'tatters', 'tatses', 'tatley', 'tates', 'tated', 'tasy', 'tastful', 'tastepadthai', 'tastebud', 'tasked', 'tasing', 'tased', 'tartufo', 'tarry', 'targets', 'targeting', 'tarallificio', 'tapeworms', 'tapers', 'tapenade', 'tante', 'tanning', 'tankyada', 'tangly', 'tangling', 'tangier', 'tangfastics', 'tandem', 'tama', 'talkingrain', 'tale', 'talc', 'takis', 'takin', 'takeya', 'takers', 'taker', 'takeaways', 'taint', 'tailor', 'tailgate', 'tahina', 'tagline', 'tagless', 'tactics', 'tactical', 'tacoma', 'tacks', 'tackling', 'tackle', 'taboo', 'szeged', 'syruppy', 'synergy', 'symphony', 'symbols', 'syllables', 'sydney', 'swp', 'swore', 'sword', 'swooned', 'swithed', 'swishing', 'swiping', 'sweltering', 'sweetzfree', 'sweety', 'sweettart', 'sweetned', 'sweeties', 'sweetbreads', 'sweep', 'sweeet', 'swearing', 'swarming', 'swapped', 'swampy', 'suzi', 'sutble', 'sustaining', 'suspicions', 'susie', 'suscribed', 'surviving', 'surroundings', 'surrendered', 'surpriseingly', 'surpisingly', 'surpise', 'surpassing', 'suprises', 'supresses', 'supprised', 'suppresses', 'supposta', 'supportive', 'suppliments', 'supplementation', 'suposed', 'suplement', 'supervisor', 'supersweet', 'superhot', 'superfluous', 'sunpix', 'sunfood', 'sumpin', 'summit', 'sulfide', 'sulfates', 'suki', 'suite', 'suicide', 'suicidal', 'sugested', 'sugerless', 'suffices', 'sued', 'suction', 'sucess', 'succulence', 'succeed', 'suburb', 'subtracted', 'subsist', 'subsides', 'subside', 'submerged', 'submarine', 'subjectively', 'suace', 'styrofoamy', 'styling', 'stupor', 'stump', 'stubbs', 'strung', 'strudel', 'stronge', 'stroganof', 'striplings', 'striper', 'stringent', 'strikingly', 'strides', 'strictest', 'strewn', 'stressfull', 'strep', 'strengh', 'streit', 'streams', 'streamlined', 'straying', 'strangers', 'strand', 'straightly', 'stowed', 'stovers', 'stouts', 'storms', 'storefront', 'storebought', 'stonewalls', 'stomack', 'stomachaches', 'stollen', 'stockton', 'stixs', 'stirrers', 'stiring', 'stint', 'stinkier', 'stilton', 'stiffen', 'stickler', 'stickin', 'stickerz', 'stevias', 'steviaplus', 'sterols', 'stern', 'sterling', 'sterilized', 'steering', 'steeler', 'staves', 'statins', 'stater', 'stashi', 'startling', 'starring', 'starred', 'starport', 'starfish', 'starchier', 'stapled', 'stanley', 'stank', 'stamps', 'stamina', 'stall', 'staged', 'stabilizers', 'stability', 'sssooooo', 'squeals', 'squeaker', 'squatting', 'sqeeze', 'spurts', 'spurting', 'spunk', 'spun', 'spudman', 'sprue', 'sprinkler', 'spree', 'sprayings', 'spotless', 'spotajava', 'sportea', 'sporadic', 'spooky', 'spoodle', 'spontaneous', 'sponsors', 'sponsor', 'spongebob', 'spoiler', 'spleen', 'splatters', 'splashing', 'spitz', 'spiraled', 'spine', 'spinah', 'spiked', 'spheres', 'spf', 'spewing', 'spenda', 'speediest', 'speculate', 'speckled', 'speck', 'specifying', 'specifications', 'specialteas', 'spears', 'spayed', 'spay', 'spatula', 'spathyfillum', 'spasms', 'sparks', 'sparce', 'spans', 'spaghettio', 'spag', 'spaced', 'soynut', 'soymilks', 'soylent', 'souther', 'southeastern', 'southeast', 'sourish', 'soundly', 'soulful', 'sopped', 'soother', 'sooooooooooooo', 'sony', 'somtimes', 'somethng', 'somethig', 'somen', 'somedays', 'som', 'solvent', 'solofil', 'solidifying', 'soley', 'solbites', 'soils', 'sogo', 'sog', 'softener', 'soemthing', 'sode', 'soaring', 'soared', 'so4', 'snuggle', 'snug', 'snubs', 'snowstorms', 'snowmen', 'snowing', 'snowed', 'snotty', 'snorting', 'snooty', 'snipped', 'sneezing', 'sneakily', 'snb', 'snazz', 'snausages', 'snausage', 'snatches', 'snarfs', 'snarfing', 'snarfed', 'snapples', 'snaking', 'snail', 'snacky', 'smoth', 'smore', 'smooze', 'smootie', 'smoosh', 'smoooth', 'smoooooooth', 'smokin', 'smithereens', 'smiled', 'smen', 'smartest', 'sm58', 'slushies', 'slurps', 'sls', 'slouch', 'slosh', 'sloppily', 'slope', 'slobbery', 'slits', 'slipping', 'slimmy', 'slimjims', 'slimjim', 'slimfast', 'slimed', 'slicked', 'slickdeals', 'sleuthing', 'sled', 'slaughter', 'slated', 'slash', 'slaps', 'slanted', 'slacker', 'slack', 'skokie', 'skirt', 'skewed', 'skeptically', 'skating', 'skateboarding', 'sjogrens', 'sizzlin', 'sizeable', 'sittting', 'sith', 'sistem', 'sirup', 'sippin', 'siphon', 'singly', 'sinensis', 'sine', 'simulated', 'simpson', 'simplybeautiful', 'silvia', 'silverado', 'silpat', 'silliness', 'silkier', 'siliskin', 'silence', 'signifying', 'sightly', 'sifts', 'sifter', 'sidetracked', 'sidenote', 'sidedish', 'sicker', 'sickenly', 'sibling', 'shunt', 'shu', 'shrunken', 'shrug', 'shrinkwrapped', 'shrinkage', 'shreaded', 'shpping', 'showered', 'showcases', 'shoud', 'shorting', 'shortcuts', 'shortcomings', 'shooters', 'shoo', 'shoddy', 'shocker', 'shitzus', 'shitake', 'shirts', 'shirley', 'shiniest', 'shiner', 'shimmering', 'shimmer', 'shiitakes', 'sheryl', 'sheriff', 'sheri', 'shelved', 'shelfs', 'sheers', 'sheepdogs', 'shedstop', 'shawn', 'shaw', 'shasta', 'sharpei', 'shannon', 'shameless', 'shakiness', 'shafted', 'shaded', 'sg', 'sfbc', 'sfat', 'sewage', 'sevin', 'seville', 'severity', 'seventies', 'seventh', 'setters', 'seseme', 'servie', 'serveral', 'servant', 'serene', 'serendipitea', 'serendipi', 'seperating', 'sentiment', 'sentient', 'sensuous', 'senstivity', 'sensitives', 'sensibly', 'sensative', 'semblence', 'selsun', 'selfishly', 'selfish', 'selenite', 'selectives', 'seemes', 'seedy', 'seedlings', 'seductive', 'seduces', 'seder', 'securly', 'securing', 'secures', 'sectioned', 'secreted', 'secretary', 'seawater', 'seating', 'seasickness', 'seasalt', 'sealer', 'scroll', 'scripture', 'scrimp', 'scrawny', 'scrapes', 'scoured', 'scoup', 'scottyboy', 'scotts', 'scotties', 'scorpian', 'scorned', 'scope', 'scooting', 'scoopfuls', 'scichimi', 'schweppes', 'schorle', 'scholarship', 'schmidt', 'schemes', 'schanuzer', 'scatter', 'scarring', 'scarfing', 'scanner', 'scampers', 'scamming', 'scallion', 'scaled', 'savu', 'savoy', 'savoury', 'savoured', 'savannah', 'sauting', 'sauted', 'saunier', 'saudi', 'saucers', 'sauage', 'satsify', 'satisified', 'satisfing', 'sated', 'sassy', 'sasquatch', 'sasha', 'sarracenia', 'sarod', 'sarcasm', 'saranac', 'sant', 'sanskriti', 'sandwhiches', 'sandpaper', 'sandies', 'sandals', 'sambal', 'salvaged', 'salud', 'saltless', 'saltfree', 'salter', 'salisbury', 'sais', 'sahika', 'sag', 'safty', 'safari', 'saf', 'saddle', 'saddens', 'saba', 'rype', 'ryan', 'rutabaga', 'rut', 'rustling', 'rustled', 'rustle', 'rusted', 'russa', 'rus', 'ruptured', 'runts', 'runnin', 'rundown', 'rumbling', 'rumble', 'ruled', 'rufus', 'rue', 'rudely', 'rubrum', 'rubio', 'rubinstein', 'rubbermaid', 'rs', 'royally', 'routed', 'roundup', 'roundness', 'rounder', 'rouler', 'roughage', 'rou', 'rottwieler', 'rotted', 'roti', 'rotations', 'rotated', 'rossi', 'rosewater', 'rosehips', 'rosarita', 'rosario', 'roped', 'rooty', 'rooting', 'rooted', 'rooibois', 'roofs', 'romping', 'romp', 'rollover', 'rollers', 'rold', 'roger', 'rocker', 'rocher', 'roca', 'robs', 'robinson', 'roberts', 'roasterie', 'roaring', 'roaming', 'roadtrips', 'rna', 'rl', 'riskier', 'ripening', 'rims', 'rimadyl', 'rillettes', 'rightously', 'rigate', 'rieley', 'riehl', 'riegel', 'riegal', 'riduclous', 'ridiculousness', 'ridding', 'ridden', 'ricore', 'ricey', 'ricecake', 'ribbed', 'riba', 'ri', 'rhythm', 'rhododendrons', 'rhododendron', 'rhode', 'rheumatoid', 'rhaspberry', 'rey', 'reviving', 'revived', 'revitalizes', 'revitalize', 'reverted', 'reversed', 'revenue', 'reveiws', 'reveived', 'reusuable', 'reusing', 'retriver', 'retreated', 'retire', 'retarded', 'retailing', 'resumed', 'resue', 'restriction', 'restraunt', 'resting', 'restate', 'restarted', 'responsiveness', 'respectfully', 'resonably', 'resolving', 'resists', 'residing', 'resides', 'resided', 'reset', 'resemblence', 'repurpose', 'repulsed', 'repugnant', 'reps', 'reprisal', 'reprehensible', 'repotting', 'replinished', 'replacers', 'repetitive', 'repelling', 'repellants', 'reorders', 'reorderd', 'reopened', 'reoccurring', 'rented', 'rental', 'rent', 'remover', 'remoulade', 'remorse', 'reminescent', 'reminders', 'remade', 'reload', 'relived', 'relishes', 'relentless', 'relabel', 'rekindle', 'rejuvenation', 'rejuvenated', 'rejoiced', 'reiterate', 'reisling', 'reinforced', 'reily', 'reign', 'regurgitate', 'regulator', 'regulary', 'regulars', 'regretting', 'regrettably', 'regrettable', 'regreted', 'registry', 'regina', 'regatta', 'regale', 'regal', 'regained', 'refresshing', 'refreshments', 'reflecting', 'refining', 'refinement', 'refigerator', 'referral', 'referencing', 'refasten', 'reeking', 'reeeally', 'reeds', 'redo', 'redneck', 'rediwhip', 'redish', 'redenbacker', 'redefine', 'reddi', 'redbarn', 'recurrent', 'recorded', 'recoommend', 'reconstitution', 'reconcile', 'recomiendo', 'recombine', 'recloseable', 'reckless', 'reciepes', 'recevied', 'recession', 'receptive', 'recepies', 'recepie', 'receivers', 'receipient', 'recca', 'recamend', 'recalling', 'rebuy', 'reboot', 'rebars', 'reba', 'reb', 'reassure', 'reassurance', 'reasoning', 'reasonal', 'reared', 'reapplied', 'reappeared', 'reappear', 'reallly', 'reallllly', 'realllllly', 'realization', 'realemon', 'reagan', 'readings', 'readiness', 'reaaly', 'rc', 'razz', 'ravoili', 'ravenous', 'raunchy', 'rattled', 'rationalize', 'rationalization', 'ratatouille', 'rasin', 'rapturous', 'rapture', 'rapids', 'rap', 'rants', 'rant', 'ranger', 'rancilio', 'ramp', 'ramens', 'rajah', 'raita', 'raiser', 'raisen', 'raincoast', 'rainbows', 'raids', 'raided', 'rahn', 'raggedy', 'ragdolls', 'rag', 'rado', 'radioactive', 'radical', 'radiating', 'rad', 'racoons', 'racoon', 'racket', 'raccoon', 'rabbi', 'quitting', 'quik', 'quicky', 'queue', 'quests', 'query', 'quenchers', 'quenched', 'quasi', 'quash', 'quartered', 'quantify', 'quanties', 'quanities', 'qualilty', 'quakes', 'quaint', 'quailty', 'quaility', 'quadrant', 'qts', 'qickly', 'pyrennes', 'pyramidal', 'px', 'pus', 'purses', 'purred', 'purposed', 'purported', 'purplish', 'purines', 'purine', 'purify', 'purged', 'pureness', 'purchesed', 'purchasedit', 'purchas', 'purchaed', 'purchaces', 'purchaced', 'purcased', 'pupster', 'puppys', 'pupose', 'punture', 'pungently', 'pungency', 'punctures', 'punchy', 'puller', 'puka', 'puggies', 'puffcorn', 'puerh', 'puddle', 'puckering', 'puckered', 'puches', 'psychological', 'psyche', 'pruney', 'protruding', 'prosecco', 'proposed', 'proplan', 'propaganda', 'prohibits', 'progressively', 'progression', 'progressed', 'programmable', 'profuse', 'profound', 'profession', 'produst', 'productos', 'producs', 'produc', 'procured', 'procure', 'proclus', 'proclamation', 'probly', 'probally', 'probability', 'privates', 'privately', 'prissy', 'prints', 'printer', 'principles', 'primitive', 'pries', 'pricepoint', 'priceless', 'preview', 'preventitive', 'prevails', 'pretentious', 'presuming', 'presumed', 'pressurized', 'presses', 'presoak', 'presentable', 'prepartion', 'prepacked', 'premie', 'prem', 'prefere', 'prednisolone', 'predisposed', 'predictably', 'preconceptions', 'precautions', 'preach', 'prawn', 'praising', 'pox', 'powedered', 'poweder', 'pov', 'pouts', 'pourable', 'poundage', 'pouf', 'potties', 'potstickers', 'potsticker', 'potrero', 'potions', 'potion', 'potasium', 'postpone', 'postpartum', 'postman', 'postive', 'possession', 'positioned', 'posessive', 'posed', 'portobello', 'portly', 'porky', 'pore', 'porcinis', 'porchetta', 'porcelain', 'popsecret', 'poppin', 'poppie', 'popin', 'popeyes', 'poons', 'poofs', 'poochies', 'poochie', 'pones', 'pomagranate', 'pomace', 'polyphenol', 'polo', 'pollution', 'pollinators', 'poles', 'pole', 'pokes', 'poker', 'pokemon', 'pointing', 'pointers', 'poetic', 'poeple', 'podunk', 'pocus', 'pn', 'plywood', 'plunking', 'plumps', 'plumes', 'plumb', 'plugs', 'plucked', 'pls', 'ploughman', 'pleeze', 'pledge', 'pleasantness', 'plead', 'playtime', 'playdates', 'plating', 'platefulls', 'plasma', 'plano', 'pku', 'pkts', 'pizzelles', 'pizzaz', 'pizazz', 'piu', 'pitts', 'pitties', 'pith', 'pitbulls', 'pistacio', 'pisses', 'piraat', 'piquillo', 'piped', 'pints', 'pintos', 'pinpointed', 'pinky', 'pinkie', 'piney', 'pindi', 'pinching', 'pinacolada', 'pims', 'pimentos', 'pilsbury', 'pilon', 'pillowy', 'piller', 'pillars', 'piling', 'pilfered', 'piles', 'pilaff', 'pigment', 'pigeons', 'piercing', 'picnick', 'pickings', 'pickest', 'pickeled', 'pickapeppa', 'pice', 'pibb', 'pia', 'phytoestrogens', 'phytochemicals', 'phthalate', 'phs', 'phillips', 'philipines', 'phile', 'philanthropic', 'phil', 'phew', 'phenylalanine', 'phenomenon', 'phenomenally', 'phenols', 'phases', 'pharmacies', 'pharma', 'phantasia', 'pgpr', 'pfeffernusse', 'pfd', 'petunia', 'petro', 'petmate', 'petites', 'petguard', 'petfoodratings', 'peters', 'peta', 'pest', 'perturbed', 'persuaded', 'personalities', 'persistence', 'perserve', 'perservative', 'perscription', 'perros', 'perpetuated', 'permeating', 'perm', 'perking', 'perigord', 'perfumy', 'performer', 'perforated', 'percentile', 'pepperridge', 'peppermill', 'peppadews', 'pepermint', 'peper', 'pepcid', 'pennisetum', 'penguins', 'penetrating', 'penalty', 'peloponnese', 'pekingese', 'peke', 'peeves', 'peers', 'pediasure', 'pedas', 'pebble', 'peary', 'pealing', 'peal', 'peaks', 'peaceworks', 'peaces', 'pdf', 'pcp', 'pcos', 'paypal', 'payoff', 'payments', 'payless', 'pawed', 'pavillion', 'paved', 'pauls', 'paula', 'patted', 'pats', 'patricia', 'pato', 'pasture', 'pasts', 'pasteurization', 'pasted', 'pastariso', 'pastacheese', 'pasadena', 'partying', 'partnered', 'partitioned', 'particulary', 'participated'])"
            ]
          },
          "metadata": {
            "tags": []
          },
          "execution_count": 22
        }
      ]
    },
    {
      "cell_type": "code",
      "metadata": {
        "id": "Zh-n2RRotTdv",
        "colab": {
          "base_uri": "https://localhost:8080/"
        },
        "outputId": "d7c110b4-543d-47b9-85a6-2611ffe7ffa8"
      },
      "source": [
        "len(vocabulario_dic)"
      ],
      "execution_count": null,
      "outputs": [
        {
          "output_type": "execute_result",
          "data": {
            "text/plain": [
              "20000"
            ]
          },
          "metadata": {
            "tags": []
          },
          "execution_count": 23
        }
      ]
    },
    {
      "cell_type": "markdown",
      "metadata": {
        "id": "0HGGaoQzsrT-"
      },
      "source": [
        "[UNK] se usa para cuando en nuevos ejemplos existan palabras que no se enciuentren en el diccionario."
      ]
    },
    {
      "cell_type": "markdown",
      "metadata": {
        "id": "iWhQtuDJRtBF"
      },
      "source": [
        "### Paso 2 Diccionario con vectores de palabras (embeddings) Word2Vec# \n",
        "Bajaremos los vectores word2vec preentrenados con el corpus GoogleNews.\n",
        "Cuenta con 3 millones vectores de 300 dimensiones correspondientes a 3  palabras y frases en inglés\n",
        "\n",
        "\n",
        "Referencia uso word embedings preentrenados con Keras en este [enlace](https://keras.io/examples/nlp/pretrained_word_embeddings/)\n"
      ]
    },
    {
      "cell_type": "code",
      "metadata": {
        "id": "8q1io1dwURnd"
      },
      "source": [
        "#!wget wget -c \"https://s3.amazonaws.com/dl4j-distribution/GoogleNews-vectors-negative300.bin.gz\"\n",
        "#!gunzip /content/GoogleNews-vectors-negative300.bin.gz -d /content/drive/MyDrive/Datos/Embeddings/"
      ],
      "execution_count": null,
      "outputs": []
    },
    {
      "cell_type": "code",
      "metadata": {
        "id": "lQ2NVan1FGVm"
      },
      "source": [
        "from gensim.models import KeyedVectors  #comparación keyedVectors y fullmodels https://radimrehurek.com/gensim/models/keyedvectors.html\n",
        "\n",
        "w2v = gensim.models.KeyedVectors.load_word2vec_format('/content/drive/MyDrive/Datos/Embeddings/GoogleNews-vectors-negative300.bin',\n",
        "                                                        binary=True)"
      ],
      "execution_count": null,
      "outputs": []
    },
    {
      "cell_type": "code",
      "metadata": {
        "colab": {
          "base_uri": "https://localhost:8080/"
        },
        "id": "1n95jAmADwxV",
        "outputId": "31f3e67e-6fe4-497a-bf3f-01dd346770af"
      },
      "source": [
        "%%time\n",
        "dic_embeddings_word2vec  = {palabra : w2v[palabra] for palabra in w2v.index2word}"
      ],
      "execution_count": null,
      "outputs": [
        {
          "output_type": "stream",
          "text": [
            "CPU times: user 5.66 s, sys: 287 ms, total: 5.94 s\n",
            "Wall time: 5.95 s\n"
          ],
          "name": "stdout"
        }
      ]
    },
    {
      "cell_type": "code",
      "metadata": {
        "colab": {
          "base_uri": "https://localhost:8080/"
        },
        "id": "pu0L8xEBGvT-",
        "outputId": "094a2abc-57b4-4cd0-9883-396fcb4c2c0d"
      },
      "source": [
        "#Cantidad de palabras en modelo word2vec\n",
        "len(dic_embeddings_word2vec)"
      ],
      "execution_count": null,
      "outputs": [
        {
          "output_type": "execute_result",
          "data": {
            "text/plain": [
              "3000000"
            ]
          },
          "metadata": {
            "tags": []
          },
          "execution_count": 26
        }
      ]
    },
    {
      "cell_type": "code",
      "metadata": {
        "colab": {
          "base_uri": "https://localhost:8080/"
        },
        "id": "0cveyx_NFEZm",
        "outputId": "924e5884-84cc-4456-d5cb-01870dd1da06"
      },
      "source": [
        "print(dic_embeddings_word2vec [\"got\"].shape)\n",
        "dic_embeddings_word2vec [\"got\"]"
      ],
      "execution_count": null,
      "outputs": [
        {
          "output_type": "stream",
          "text": [
            "(300,)\n"
          ],
          "name": "stdout"
        },
        {
          "output_type": "execute_result",
          "data": {
            "text/plain": [
              "array([ 0.06201172,  0.10839844, -0.09667969,  0.07910156,  0.03393555,\n",
              "       -0.34765625, -0.06982422, -0.05249023, -0.1328125 ,  0.19140625,\n",
              "       -0.04882812, -0.25195312, -0.00817871, -0.00964355, -0.05444336,\n",
              "       -0.02270508,  0.10498047,  0.24511719,  0.01953125,  0.06933594,\n",
              "       -0.18652344,  0.13671875,  0.30664062, -0.07324219,  0.26953125,\n",
              "       -0.04589844,  0.04223633, -0.02502441,  0.14941406,  0.09228516,\n",
              "        0.07519531,  0.02160645, -0.1015625 , -0.03710938,  0.15234375,\n",
              "        0.02807617,  0.11083984,  0.00108337,  0.01696777,  0.03540039,\n",
              "       -0.05224609, -0.2890625 ,  0.2265625 ,  0.09423828, -0.01452637,\n",
              "       -0.12451172, -0.01977539, -0.23144531,  0.08105469, -0.02453613,\n",
              "       -0.19140625,  0.16015625,  0.00387573, -0.01293945,  0.02294922,\n",
              "        0.16113281,  0.12792969,  0.05859375,  0.00805664, -0.12695312,\n",
              "        0.07226562,  0.2109375 , -0.08154297, -0.14453125, -0.05615234,\n",
              "        0.03442383,  0.03417969, -0.02844238, -0.05029297,  0.14550781,\n",
              "        0.15527344,  0.03393555, -0.04736328,  0.09228516, -0.328125  ,\n",
              "        0.04199219,  0.18164062,  0.18164062,  0.00294495,  0.06201172,\n",
              "        0.03979492,  0.07470703,  0.14550781,  0.09130859,  0.06494141,\n",
              "       -0.01489258, -0.18847656,  0.28710938,  0.01928711, -0.04345703,\n",
              "       -0.05786133,  0.28320312,  0.05712891,  0.01574707, -0.27929688,\n",
              "       -0.2890625 ,  0.04516602,  0.24511719,  0.15527344, -0.03076172,\n",
              "       -0.07080078, -0.20117188, -0.17578125,  0.05908203, -0.06201172,\n",
              "       -0.09667969, -0.14746094,  0.03112793,  0.17480469,  0.03735352,\n",
              "       -0.10546875, -0.02294922,  0.06982422, -0.04760742,  0.10253906,\n",
              "        0.16796875,  0.15429688,  0.08886719,  0.25390625, -0.04248047,\n",
              "       -0.1015625 ,  0.01049805, -0.22753906,  0.29101562,  0.04931641,\n",
              "        0.07763672, -0.03881836, -0.23242188, -0.06591797, -0.06054688,\n",
              "       -0.0612793 , -0.18164062, -0.16210938, -0.12695312,  0.01611328,\n",
              "       -0.12695312,  0.20214844,  0.15527344, -0.13671875,  0.04882812,\n",
              "       -0.19628906,  0.12158203,  0.03271484, -0.15625   ,  0.02319336,\n",
              "        0.11279297, -0.16796875, -0.38476562, -0.06054688, -0.05249023,\n",
              "        0.14746094,  0.11083984, -0.2734375 ,  0.10644531, -0.08740234,\n",
              "        0.03491211,  0.05566406, -0.1875    , -0.04248047,  0.13378906,\n",
              "       -0.01867676, -0.08251953,  0.04174805,  0.10888672,  0.00637817,\n",
              "       -0.265625  , -0.03063965, -0.22460938,  0.18164062, -0.20410156,\n",
              "       -0.24707031,  0.02636719,  0.01074219,  0.06884766, -0.16015625,\n",
              "       -0.02978516,  0.20214844, -0.02331543,  0.11181641,  0.19824219,\n",
              "        0.11035156,  0.03881836,  0.16894531,  0.21777344, -0.06787109,\n",
              "       -0.109375  , -0.12255859, -0.08984375,  0.04760742, -0.07470703,\n",
              "        0.13183594, -0.1015625 ,  0.078125  ,  0.08105469, -0.00099182,\n",
              "        0.05932617,  0.01531982, -0.1796875 , -0.11816406, -0.1796875 ,\n",
              "        0.03930664,  0.02832031, -0.00078583,  0.04003906,  0.21875   ,\n",
              "       -0.0390625 , -0.16015625, -0.01647949,  0.16699219,  0.04174805,\n",
              "       -0.00497437,  0.13867188, -0.00210571,  0.0456543 ,  0.00263977,\n",
              "       -0.06835938,  0.06884766, -0.01306152,  0.06494141, -0.03112793,\n",
              "       -0.14160156, -0.10986328,  0.21972656, -0.08544922,  0.14160156,\n",
              "        0.01721191,  0.10693359,  0.09765625, -0.27929688, -0.13867188,\n",
              "        0.05810547, -0.15625   ,  0.18554688,  0.07226562,  0.05151367,\n",
              "        0.16601562,  0.04052734, -0.125     ,  0.14160156, -0.02307129,\n",
              "        0.30664062,  0.1796875 ,  0.00184631, -0.12695312,  0.08935547,\n",
              "        0.11083984,  0.06591797,  0.09716797,  0.10839844, -0.00650024,\n",
              "       -0.04174805, -0.01092529,  0.26757812,  0.13769531,  0.02502441,\n",
              "        0.08740234,  0.06689453, -0.05859375, -0.03063965, -0.18066406,\n",
              "       -0.171875  , -0.04638672,  0.05273438, -0.01757812, -0.01379395,\n",
              "        0.21582031,  0.1328125 , -0.12988281, -0.0859375 ,  0.14355469,\n",
              "        0.03710938,  0.09472656,  0.15039062,  0.01153564,  0.12792969,\n",
              "        0.0378418 , -0.05517578, -0.27929688, -0.20117188, -0.06884766,\n",
              "        0.04174805, -0.15527344, -0.05639648,  0.08935547,  0.02807617,\n",
              "        0.015625  , -0.00341797, -0.00698853,  0.10693359, -0.04101562,\n",
              "       -0.04101562,  0.04614258, -0.24023438,  0.14160156, -0.05908203,\n",
              "        0.04614258,  0.12353516, -0.25976562,  0.0123291 , -0.04418945],\n",
              "      dtype=float32)"
            ]
          },
          "metadata": {
            "tags": []
          },
          "execution_count": 27
        }
      ]
    },
    {
      "cell_type": "markdown",
      "metadata": {
        "id": "FEn8JE8XSXUp"
      },
      "source": [
        "### Paso 3 Obtener la matriz de vectores para todas las palabras del vocabulario \n",
        "embedding_texto()"
      ]
    },
    {
      "cell_type": "code",
      "metadata": {
        "id": "J8D7JIWHxRRx"
      },
      "source": [
        "def embedding_texto(dic_vocabulario, dic_embeddings_palabras, embedding_dim):\n",
        "    num_tokens = len(dic_vocabulario.keys()) + 2  # se suman dos más para '' y '[UNK]'\n",
        "    encontradas = 0\n",
        "    # Inicializar matriz\n",
        "    embedding_matrix = np.zeros((num_tokens, embedding_dim))\n",
        "    for word, i in dic_vocabulario.items():\n",
        "        embedding_vector = dic_embeddings_palabras.get(word)\n",
        "        if embedding_vector is not None:\n",
        "            # los vectores no encontrados en el embeding se quedan en cero\n",
        "            embedding_matrix[i] = embedding_vector\n",
        "            encontradas += 1\n",
        "    proporcion = encontradas/len(dic_vocabulario) *100\n",
        "    print(\"{} palabras vectorizadas, que representan {:.1f}% de todas las palabras en el corpus\".format(encontradas, proporcion))\n",
        "    return embedding_matrix"
      ],
      "execution_count": null,
      "outputs": []
    },
    {
      "cell_type": "code",
      "metadata": {
        "colab": {
          "base_uri": "https://localhost:8080/"
        },
        "id": "RufwHJoXxLLc",
        "outputId": "6654615e-0f96-4387-bfa7-59390395da62"
      },
      "source": [
        "embedding_matrix = embedding_texto(vocabulario_dic, dic_embeddings_word2vec , 300)"
      ],
      "execution_count": null,
      "outputs": [
        {
          "output_type": "stream",
          "text": [
            "17591 palabras vectorizadas, que representan 88.0% de todas las palabras en el corpus\n"
          ],
          "name": "stdout"
        }
      ]
    },
    {
      "cell_type": "code",
      "metadata": {
        "colab": {
          "base_uri": "https://localhost:8080/"
        },
        "id": "U-GwnJ3PHpZm",
        "outputId": "093862d5-4baf-4435-a3ed-eec3410759d8"
      },
      "source": [
        "embedding_matrix.shape"
      ],
      "execution_count": null,
      "outputs": [
        {
          "output_type": "execute_result",
          "data": {
            "text/plain": [
              "(20002, 300)"
            ]
          },
          "metadata": {
            "tags": []
          },
          "execution_count": 30
        }
      ]
    },
    {
      "cell_type": "markdown",
      "metadata": {
        "id": "g1aKgPy7ocoF"
      },
      "source": [
        "\n",
        "**Repetiremos el paso 1 y el paso 3 para crear el diccionario de los Resumenes.(el diccionario con vectores GloVe es el mismo)**"
      ]
    },
    {
      "cell_type": "code",
      "metadata": {
        "colab": {
          "base_uri": "https://localhost:8080/"
        },
        "id": "rtpCaHdro41w",
        "outputId": "f9c8e20e-42ce-4e8d-f547-82d187ee5e30"
      },
      "source": [
        "vocabulario_dic_sum, vectorizer_sum = genera_dic_vocabulario(y_train)\n",
        "embedding_matrix_sum = embedding_texto(vocabulario_dic_sum, dic_embeddings_word2vec , 300)\n",
        "embedding_matrix_sum.shape"
      ],
      "execution_count": null,
      "outputs": [
        {
          "output_type": "stream",
          "text": [
            "10093 palabras vectorizadas, que representan 77.6% de todas las palabras en el corpus\n"
          ],
          "name": "stdout"
        },
        {
          "output_type": "execute_result",
          "data": {
            "text/plain": [
              "(13003, 300)"
            ]
          },
          "metadata": {
            "tags": []
          },
          "execution_count": 31
        }
      ]
    },
    {
      "cell_type": "markdown",
      "metadata": {
        "id": "OuI6oFEtvWD2"
      },
      "source": [
        "## Paso 4. Preparar secuencia de entrada de la red neuronal\n"
      ]
    },
    {
      "cell_type": "markdown",
      "metadata": {
        "id": "pp2VrCrBwGAc"
      },
      "source": [
        "### Ejemplo de la transformación que necesitamos hacer"
      ]
    },
    {
      "cell_type": "code",
      "metadata": {
        "id": "vHHdZ5gQhVS_",
        "colab": {
          "base_uri": "https://localhost:8080/"
        },
        "outputId": "9eb1a416-2274-4e3f-bc7b-6ced4fe40b2a"
      },
      "source": [
        "ejemplos = datos.loc[5:7,'Text']\n",
        "for ej in ejemplos:\n",
        "  print(len(ej.split()))\n",
        "  print(ej)"
      ],
      "execution_count": null,
      "outputs": [
        {
          "output_type": "stream",
          "text": [
            "73\n",
            "i got a wild hair for taffy and ordered this five pound bag the taffy was all very enjoyable with many flavors watermelon root beer melon peppermint grape etc my only complaint is there was a bit too much red black licorice flavored pieces just not my particular favorites between me my kids and my husband this lasted only two weeks i would recommend this brand of taffy it was a delightful treat \n",
            "51\n",
            "this saltwater taffy had great flavors and was very soft and chewy each candy was individually wrapped well none of the candies were stuck together which did happen in the expensive version fralinger s would highly recommend this candy i served it at a beach themed party and everyone loved it \n",
            "24\n",
            "this taffy is so good it is very soft and chewy the flavors are amazing i would definitely recommend you buying it very satisfying \n"
          ],
          "name": "stdout"
        }
      ]
    },
    {
      "cell_type": "code",
      "metadata": {
        "colab": {
          "base_uri": "https://localhost:8080/"
        },
        "id": "Gs7Ju8HAb1yL",
        "outputId": "d16c17cc-cc66-4e59-89cd-7b557595c1fa"
      },
      "source": [
        "ejemplos_vec = ejemplos.apply(vectorizer_reseña)\n",
        "for ej in ejemplos_vec:\n",
        "  print(len(ej))\n",
        "  print(ej)"
      ],
      "execution_count": null,
      "outputs": [
        {
          "output_type": "stream",
          "text": [
            "73\n",
            "tf.Tensor(\n",
            "[   3  142    5 1200  590   12 2757    4  160   10  726  666  112    2\n",
            " 2757   21   44   33 1409   20  151  149 2370 1589 1206 7123 1332 1239\n",
            "  481   14   67  998    8   81   21    5  140   65   70  493  332  852\n",
            "  352  426   37   11   14  836  902  622   56   14  328    4   14  330\n",
            "   10 1641   67  137  596    3   41  130   10  165    9 2757    6   21\n",
            "    5 1650  207], shape=(73,), dtype=int64)\n",
            "51\n",
            "tf.Tensor(\n",
            "[  10    1 2757   55   30  149    4   21   33  424    4  627  259  308\n",
            "   21 1363  980   91  804    9    2  952   72 1069  720  100   86 1760\n",
            "   13    2  291  500    1   63   41  233  130   10  308    3 1072    6\n",
            "   35    5 3006 4570 1060    4  439  279    6], shape=(51,), dtype=int64)\n",
            "24\n",
            "tf.Tensor(\n",
            "[  10 2757    8   27   29    6    8   33  424    4  627    2  149   18\n",
            "  431    3   41  197  130   19  202    6   33  791], shape=(24,), dtype=int64)\n"
          ],
          "name": "stdout"
        }
      ]
    },
    {
      "cell_type": "markdown",
      "metadata": {
        "id": "kbfHIS7mZl78"
      },
      "source": [
        "Ahora forzaremos a que cada vector tenga el mismo largo"
      ]
    },
    {
      "cell_type": "code",
      "metadata": {
        "colab": {
          "base_uri": "https://localhost:8080/"
        },
        "id": "oOrxYFsVth9N",
        "outputId": "a51d3eae-8136-44fd-e2dd-43f56c1000fb"
      },
      "source": [
        "from tensorflow.keras.preprocessing.sequence import pad_sequences\n",
        "# https://www.tensorflow.org/api_docs/python/tf/keras/preprocessing/sequence/pad_sequences\n",
        "\n",
        "\n",
        "ejemplos_seq =  pad_sequences(ejemplos_vec, maxlen = int(longitud_max_textos), padding='post')\n",
        "for ej in ejemplos_seq:\n",
        "  print(len(ej))\n",
        "  print(ej)"
      ],
      "execution_count": null,
      "outputs": [
        {
          "output_type": "stream",
          "text": [
            "168\n",
            "[   3  142    5 1200  590   12 2757    4  160   10  726  666  112    2\n",
            " 2757   21   44   33 1409   20  151  149 2370 1589 1206 7123 1332 1239\n",
            "  481   14   67  998    8   81   21    5  140   65   70  493  332  852\n",
            "  352  426   37   11   14  836  902  622   56   14  328    4   14  330\n",
            "   10 1641   67  137  596    3   41  130   10  165    9 2757    6   21\n",
            "    5 1650  207    0    0    0    0    0    0    0    0    0    0    0\n",
            "    0    0    0    0    0    0    0    0    0    0    0    0    0    0\n",
            "    0    0    0    0    0    0    0    0    0    0    0    0    0    0\n",
            "    0    0    0    0    0    0    0    0    0    0    0    0    0    0\n",
            "    0    0    0    0    0    0    0    0    0    0    0    0    0    0\n",
            "    0    0    0    0    0    0    0    0    0    0    0    0    0    0\n",
            "    0    0    0    0    0    0    0    0    0    0    0    0    0    0]\n",
            "168\n",
            "[  10    1 2757   55   30  149    4   21   33  424    4  627  259  308\n",
            "   21 1363  980   91  804    9    2  952   72 1069  720  100   86 1760\n",
            "   13    2  291  500    1   63   41  233  130   10  308    3 1072    6\n",
            "   35    5 3006 4570 1060    4  439  279    6    0    0    0    0    0\n",
            "    0    0    0    0    0    0    0    0    0    0    0    0    0    0\n",
            "    0    0    0    0    0    0    0    0    0    0    0    0    0    0\n",
            "    0    0    0    0    0    0    0    0    0    0    0    0    0    0\n",
            "    0    0    0    0    0    0    0    0    0    0    0    0    0    0\n",
            "    0    0    0    0    0    0    0    0    0    0    0    0    0    0\n",
            "    0    0    0    0    0    0    0    0    0    0    0    0    0    0\n",
            "    0    0    0    0    0    0    0    0    0    0    0    0    0    0\n",
            "    0    0    0    0    0    0    0    0    0    0    0    0    0    0]\n",
            "168\n",
            "[  10 2757    8   27   29    6    8   33  424    4  627    2  149   18\n",
            "  431    3   41  197  130   19  202    6   33  791    0    0    0    0\n",
            "    0    0    0    0    0    0    0    0    0    0    0    0    0    0\n",
            "    0    0    0    0    0    0    0    0    0    0    0    0    0    0\n",
            "    0    0    0    0    0    0    0    0    0    0    0    0    0    0\n",
            "    0    0    0    0    0    0    0    0    0    0    0    0    0    0\n",
            "    0    0    0    0    0    0    0    0    0    0    0    0    0    0\n",
            "    0    0    0    0    0    0    0    0    0    0    0    0    0    0\n",
            "    0    0    0    0    0    0    0    0    0    0    0    0    0    0\n",
            "    0    0    0    0    0    0    0    0    0    0    0    0    0    0\n",
            "    0    0    0    0    0    0    0    0    0    0    0    0    0    0\n",
            "    0    0    0    0    0    0    0    0    0    0    0    0    0    0]\n"
          ],
          "name": "stdout"
        }
      ]
    },
    {
      "cell_type": "markdown",
      "metadata": {
        "id": "FsSn5skDcb2J"
      },
      "source": [
        "### Transformación del conjunto de entrenamiento y del conjunto de prueba"
      ]
    },
    {
      "cell_type": "code",
      "metadata": {
        "id": "llR1V0qmcP8O",
        "colab": {
          "base_uri": "https://localhost:8080/"
        },
        "outputId": "92d1da47-ccc4-4d52-abf2-c85c6d2e805c"
      },
      "source": [
        "%%time\n",
        "x_train_vec = x_train.apply(vectorizer_reseña)\n",
        "x_test_vec = x_test.apply(vectorizer_reseña)\n",
        "\n",
        "y_train_vec = y_train.apply(vectorizer_sum)\n",
        "y_test_vec = y_test.apply(vectorizer_sum)"
      ],
      "execution_count": null,
      "outputs": [
        {
          "output_type": "stream",
          "text": [
            "CPU times: user 13min 4s, sys: 1min 17s, total: 14min 22s\n",
            "Wall time: 12min 18s\n"
          ],
          "name": "stdout"
        }
      ]
    },
    {
      "cell_type": "code",
      "metadata": {
        "id": "kZRF60TD6i2D",
        "colab": {
          "base_uri": "https://localhost:8080/"
        },
        "outputId": "ded20e74-acfc-4105-a4ad-74af4e8d45bb"
      },
      "source": [
        "%%time\n",
        "\n",
        "x_train_seq  =  pad_sequences(x_train_vec, maxlen = int(longitud_max_textos), padding='post') \n",
        "x_test_seq  =  pad_sequences(x_test_vec, maxlen = int(longitud_max_textos), padding='post') \n",
        "\n",
        "y_train_seq  =  pad_sequences(y_train_vec, maxlen = int(longitud_max_titulos) , padding='post') \n",
        "y_test_seq  =  pad_sequences(y_test_vec, maxlen = int(longitud_max_titulos) , padding='post') "
      ],
      "execution_count": null,
      "outputs": [
        {
          "output_type": "stream",
          "text": [
            "CPU times: user 1min 7s, sys: 9.14 s, total: 1min 16s\n",
            "Wall time: 1min\n"
          ],
          "name": "stdout"
        }
      ]
    },
    {
      "cell_type": "markdown",
      "metadata": {
        "id": "_8bUIXWs9b7h"
      },
      "source": [
        "# Diseño del modelo\n",
        "\n",
        "* [referencia1](https://www.analyticsvidhya.com/blog/2019/06/comprehensive-guide-text-summarization-using-deep-learning-python/)\n",
        "\n",
        "* [referencia2](https://humboldt-wi.github.io/blog/research/information_systems_1920/nlp_text_summarization_techniques/) "
      ]
    },
    {
      "cell_type": "markdown",
      "metadata": {
        "id": "EYBgdSGFKZHF"
      },
      "source": [
        "## Diseño del codificador y decodificador\n",
        "\n",
        "Codificador 3 capas con 3 LTSM y 320 dimensiones latentes\n"
      ]
    },
    {
      "cell_type": "code",
      "metadata": {
        "id": "4tzO4uDVRl4g"
      },
      "source": [
        "from tensorflow.keras.models import Model\n",
        "from tensorflow.keras.layers import Embedding, Input\n",
        "from tensorflow.keras.layers import LSTM\n",
        "from tensorflow.keras.layers import Dense, Dropout\n",
        "from tensorflow.keras.layers import Concatenate, Attention\n",
        "from tensorflow.keras.layers import TimeDistributed\n",
        "from tensorflow.keras import backend as K \n"
      ],
      "execution_count": null,
      "outputs": []
    },
    {
      "cell_type": "code",
      "metadata": {
        "id": "jPhmLT8RJ0xU"
      },
      "source": [
        "num_tokens_rev = len(vocabulario_dic) + 2\n",
        "num_tokens_sum = len(vocabulario_dic_sum) + 2\n",
        "embedding_dim = 300"
      ],
      "execution_count": null,
      "outputs": []
    },
    {
      "cell_type": "code",
      "metadata": {
        "id": "A5NiVMSERiFz"
      },
      "source": [
        "K.clear_session() \n",
        "latent_dim = 320\n",
        "\n",
        "# CODIFICADOR   ================================================================\n",
        "\n",
        "## EMBEDDING\n",
        "   #recibe la secuencia de entrada para obtener una matriz longitud máxima x dim_embedding\n",
        "encoder_inputs = Input(shape = (int(longitud_max_textos),))\n",
        "\n",
        "enc_emb_lay = Embedding(num_tokens_rev, embedding_dim,\n",
        "                    embeddings_initializer=keras.initializers.Constant(embedding_matrix),\n",
        "                    trainable=False)\n",
        "enc_emb = enc_emb_lay(encoder_inputs)     \n",
        "\n",
        "#LSTM 1\n",
        "  #recibe la matriz del embeding para obtener el estado oculto, \n",
        "encoder_lstm1 = LSTM(latent_dim,return_sequences=True, return_state=True)\n",
        "encoder_output1, state_h1, state_c1 = encoder_lstm1(enc_emb) \n",
        "\n",
        "\n",
        "# LSTM 2\n",
        "encoder_lstm2 = LSTM(latent_dim,return_sequences=True,return_state=True) \n",
        "encoder_output2, state_h2, state_c2 = encoder_lstm2(encoder_output1) \n",
        "\n",
        "#LSTM 3 \n",
        "encoder_lstm3=LSTM(latent_dim, return_state=True, return_sequences=True) \n",
        "encoder_outputs, state_h, state_c= encoder_lstm3(encoder_output2) \n",
        "\n",
        "\n",
        "# DECODIFICADOR ================================================================\n",
        "\n",
        "decoder_inputs = Input(shape=(None,)) \n",
        "dec_emb_layer = Embedding(num_tokens_sum, embedding_dim,\n",
        "                    embeddings_initializer=keras.initializers.Constant(embedding_matrix_sum),\n",
        "                    trainable=False)\n",
        "dec_emb = dec_emb_layer(decoder_inputs)\n",
        "\n",
        "#LSTM \n",
        "decoder_lstm = LSTM(latent_dim, return_sequences=True, return_state=True) \n",
        "decoder_outputs,decoder_fwd_state, decoder_back_state = decoder_lstm(dec_emb,initial_state=[state_h, state_c]) \n",
        "\n",
        "\n"
      ],
      "execution_count": null,
      "outputs": []
    },
    {
      "cell_type": "markdown",
      "metadata": {
        "id": "5hHpL99JzQq2"
      },
      "source": [
        "##Attention Layer\n",
        "\n",
        "Fuente: https://github.com/madhav727/abstractive-news-summary"
      ]
    },
    {
      "cell_type": "code",
      "metadata": {
        "id": "y_XTMS7ePYEv"
      },
      "source": [
        "!cp drive/MyDrive/Datos/attention.py .\n"
      ],
      "execution_count": null,
      "outputs": []
    },
    {
      "cell_type": "code",
      "metadata": {
        "id": "SC9TzAgRzXcF"
      },
      "source": [
        "from attention import AttentionLayer"
      ],
      "execution_count": null,
      "outputs": []
    },
    {
      "cell_type": "code",
      "metadata": {
        "id": "afuPZByfsh37"
      },
      "source": [
        "attn_layer = AttentionLayer(name='attention_layer') \n",
        "attn_out, attn_states = attn_layer([encoder_outputs, decoder_outputs])  #concatena los estados ocultos del codificador y del decodificador para construir el vector de contexto"
      ],
      "execution_count": null,
      "outputs": []
    },
    {
      "cell_type": "markdown",
      "metadata": {
        "id": "8Njhdeeu9N-M"
      },
      "source": [
        "## Union del modelo"
      ]
    },
    {
      "cell_type": "code",
      "metadata": {
        "id": "dHVl3Su1UG9L",
        "colab": {
          "base_uri": "https://localhost:8080/"
        },
        "outputId": "62e3411f-5e59-4723-b1a5-fef085aa7a5c"
      },
      "source": [
        "embedding_matrix_sum.shape"
      ],
      "execution_count": null,
      "outputs": [
        {
          "output_type": "execute_result",
          "data": {
            "text/plain": [
              "(13003, 300)"
            ]
          },
          "metadata": {
            "tags": []
          },
          "execution_count": 43
        }
      ]
    },
    {
      "cell_type": "code",
      "metadata": {
        "colab": {
          "base_uri": "https://localhost:8080/"
        },
        "id": "ADcSn9qT1yOO",
        "outputId": "6fcc89a9-da6b-454b-d491-78b8c7f0406d"
      },
      "source": [
        "embedding_matrix_sum.shape[0]"
      ],
      "execution_count": null,
      "outputs": [
        {
          "output_type": "execute_result",
          "data": {
            "text/plain": [
              "13003"
            ]
          },
          "metadata": {
            "tags": []
          },
          "execution_count": 44
        }
      ]
    },
    {
      "cell_type": "code",
      "metadata": {
        "id": "zlq-Fyo1weqK"
      },
      "source": [
        "# Unión de la salida del decodificador(distribución del vocabulario proveniente de los resumenes\n",
        "# y el vector de contexto del módulo de atención en la capa con activación softmax\n",
        "\n",
        "decoder_concat_input = Concatenate(axis=-1, name='concat_layer')([decoder_outputs, attn_out])\n",
        "decoder_dense = TimeDistributed(Dense(embedding_matrix_sum.shape[0], activation='softmax')) \n",
        "decoder_outputs = decoder_dense(decoder_concat_input) \n",
        "\n",
        "# Modelo definitivo\n",
        "model = Model([encoder_inputs, decoder_inputs], decoder_outputs) \n",
        "\n"
      ],
      "execution_count": null,
      "outputs": []
    },
    {
      "cell_type": "code",
      "metadata": {
        "id": "arpr0x1NUdxY",
        "colab": {
          "base_uri": "https://localhost:8080/"
        },
        "outputId": "887816c3-56cb-41ec-b37c-d484c0a1b1a4"
      },
      "source": [
        "tf.keras.utils.plot_model( \n",
        "    model,\n",
        "    to_file=\"model.png\",\n",
        "    show_shapes=True,\n",
        "    show_dtype=False,\n",
        "    show_layer_names=True,\n",
        "    rankdir=\"TD\",\n",
        "    dpi=50,\n",
        ")"
      ],
      "execution_count": null,
      "outputs": [
        {
          "output_type": "execute_result",
          "data": {
            "image/png": "[encoded data removed]",
            "text/plain": [
              "<IPython.core.display.Image object>"
            ]
          },
          "metadata": {
            "tags": []
          },
          "execution_count": 46
        }
      ]
    },
    {
      "cell_type": "code",
      "metadata": {
        "id": "YTP4aoB_Ve9o",
        "colab": {
          "base_uri": "https://localhost:8080/"
        },
        "outputId": "19a6e5f9-3da5-42da-a626-5fa8aa06aa5a"
      },
      "source": [
        "model.summary()"
      ],
      "execution_count": null,
      "outputs": [
        {
          "output_type": "stream",
          "text": [
            "Model: \"model\"\n",
            "__________________________________________________________________________________________________\n",
            "Layer (type)                    Output Shape         Param #     Connected to                     \n",
            "==================================================================================================\n",
            "input_1 (InputLayer)            [(None, 168)]        0                                            \n",
            "__________________________________________________________________________________________________\n",
            "embedding (Embedding)           (None, 168, 300)     6000600     input_1[0][0]                    \n",
            "__________________________________________________________________________________________________\n",
            "lstm (LSTM)                     [(None, 168, 320), ( 794880      embedding[0][0]                  \n",
            "__________________________________________________________________________________________________\n",
            "input_2 (InputLayer)            [(None, None)]       0                                            \n",
            "__________________________________________________________________________________________________\n",
            "lstm_1 (LSTM)                   [(None, 168, 320), ( 820480      lstm[0][0]                       \n",
            "__________________________________________________________________________________________________\n",
            "embedding_1 (Embedding)         (None, None, 300)    3900900     input_2[0][0]                    \n",
            "__________________________________________________________________________________________________\n",
            "lstm_2 (LSTM)                   [(None, 168, 320), ( 820480      lstm_1[0][0]                     \n",
            "__________________________________________________________________________________________________\n",
            "lstm_3 (LSTM)                   [(None, None, 320),  794880      embedding_1[0][0]                \n",
            "                                                                 lstm_2[0][1]                     \n",
            "                                                                 lstm_2[0][2]                     \n",
            "__________________________________________________________________________________________________\n",
            "attention_layer (AttentionLayer ((None, None, 320),  205120      lstm_2[0][0]                     \n",
            "                                                                 lstm_3[0][0]                     \n",
            "__________________________________________________________________________________________________\n",
            "concat_layer (Concatenate)      (None, None, 640)    0           lstm_3[0][0]                     \n",
            "                                                                 attention_layer[0][0]            \n",
            "__________________________________________________________________________________________________\n",
            "time_distributed (TimeDistribut (None, None, 13003)  8334923     concat_layer[0][0]               \n",
            "==================================================================================================\n",
            "Total params: 21,672,263\n",
            "Trainable params: 11,770,763\n",
            "Non-trainable params: 9,901,500\n",
            "__________________________________________________________________________________________________\n"
          ],
          "name": "stdout"
        }
      ]
    },
    {
      "cell_type": "markdown",
      "metadata": {
        "id": "KEjSxWU5bxAN"
      },
      "source": [
        "# Entrenamiento del modelo"
      ]
    },
    {
      "cell_type": "code",
      "metadata": {
        "id": "RRXXWvW6bxas"
      },
      "source": [
        "model.compile(optimizer='rmsprop', \n",
        "              loss='sparse_categorical_crossentropy')"
      ],
      "execution_count": null,
      "outputs": []
    },
    {
      "cell_type": "code",
      "metadata": {
        "id": "UZ98uuNMog69",
        "colab": {
          "base_uri": "https://localhost:8080/"
        },
        "outputId": "c853bd1a-d0b9-47cc-e9f7-e2328b10f795"
      },
      "source": [
        "%%time\n",
        "\n",
        "from tensorflow.keras.callbacks import EarlyStopping\n",
        "es = EarlyStopping(monitor='val_loss', mode='min', verbose=1) \n",
        "\n",
        "history = model.fit([x_train_seq, y_train_seq[:,:-1]], \n",
        "                    y_train_seq.reshape(y_train_seq.shape[0],\n",
        "                                        y_train_seq.shape[1], 1)[:,1:],\n",
        "                    epochs = 20, \n",
        "\n",
        "                    #terminar antes cuando no disminuya la función de pérdida\n",
        "                    #callbacks = [EarlyStopping(monitor='val_loss',mode='min', \n",
        "                    #                         verbose=1)],\n",
        "                    batch_size = 512, \n",
        "                    validation_data = ([x_test_seq,y_test_seq[:,:-1]], \n",
        "                                     y_test_seq.reshape(y_test_seq.shape[0],\n",
        "                                                        y_test_seq.shape[1],\n",
        "                                                        1)[:,1:]))\n"
      ],
      "execution_count": null,
      "outputs": [
        {
          "output_type": "stream",
          "text": [
            "Epoch 1/20\n",
            "139/139 [==============================] - 140s 1s/step - loss: 2.2008 - val_loss: 2.0935\n",
            "Epoch 2/20\n",
            "139/139 [==============================] - 139s 1s/step - loss: 2.0321 - val_loss: 2.0088\n",
            "Epoch 3/20\n",
            "139/139 [==============================] - 140s 1s/step - loss: 1.9360 - val_loss: 1.9424\n",
            "Epoch 4/20\n",
            "139/139 [==============================] - 140s 1s/step - loss: 1.8529 - val_loss: 1.8750\n",
            "Epoch 5/20\n",
            "139/139 [==============================] - 141s 1s/step - loss: 1.7792 - val_loss: 1.8280\n",
            "Epoch 6/20\n",
            "139/139 [==============================] - 141s 1s/step - loss: 1.7188 - val_loss: 1.7936\n",
            "Epoch 7/20\n",
            "139/139 [==============================] - 141s 1s/step - loss: 1.6666 - val_loss: 1.7626\n",
            "Epoch 8/20\n",
            "139/139 [==============================] - 141s 1s/step - loss: 1.6199 - val_loss: 1.7417\n",
            "Epoch 9/20\n",
            "139/139 [==============================] - 141s 1s/step - loss: 1.5774 - val_loss: 1.7318\n",
            "Epoch 10/20\n",
            "139/139 [==============================] - 140s 1s/step - loss: 1.5370 - val_loss: 1.7106\n",
            "Epoch 11/20\n",
            "139/139 [==============================] - 141s 1s/step - loss: 1.4982 - val_loss: 1.7057\n",
            "Epoch 12/20\n",
            "139/139 [==============================] - 141s 1s/step - loss: 1.4604 - val_loss: 1.7121\n",
            "Epoch 13/20\n",
            "139/139 [==============================] - 141s 1s/step - loss: 1.4243 - val_loss: 1.6978\n",
            "Epoch 14/20\n",
            "139/139 [==============================] - 141s 1s/step - loss: 1.3889 - val_loss: 1.6940\n",
            "Epoch 15/20\n",
            "139/139 [==============================] - 141s 1s/step - loss: 1.3525 - val_loss: 1.6959\n",
            "Epoch 16/20\n",
            "139/139 [==============================] - 141s 1s/step - loss: 1.3187 - val_loss: 1.6952\n",
            "Epoch 17/20\n",
            "139/139 [==============================] - 141s 1s/step - loss: 1.2852 - val_loss: 1.7014\n",
            "Epoch 18/20\n",
            "139/139 [==============================] - 141s 1s/step - loss: 1.2515 - val_loss: 1.7078\n",
            "Epoch 19/20\n",
            "139/139 [==============================] - 141s 1s/step - loss: 1.2187 - val_loss: 1.7106\n",
            "Epoch 20/20\n",
            "139/139 [==============================] - 141s 1s/step - loss: 1.1863 - val_loss: 1.7267\n",
            "CPU times: user 38min 46s, sys: 27.5 s, total: 39min 14s\n",
            "Wall time: 47min 21s\n"
          ],
          "name": "stdout"
        }
      ]
    },
    {
      "cell_type": "code",
      "metadata": {
        "colab": {
          "base_uri": "https://localhost:8080/",
          "height": 265
        },
        "id": "e1M1mdWfuGpa",
        "outputId": "b98e4da4-7128-4d1d-8a5b-16c614fe3496"
      },
      "source": [
        "plt.plot(history.history['loss'], label='train') \n",
        "plt.plot(history.history['val_loss'], label='test') \n",
        "plt.legend() \n",
        "plt.show()"
      ],
      "execution_count": null,
      "outputs": [
        {
          "output_type": "display_data",
          "data": {
            "image/png": "[encoded data removed]",
            "text/plain": [
              "<Figure size 432x288 with 1 Axes>"
            ]
          },
          "metadata": {
            "tags": [],
            "needs_background": "light"
          }
        }
      ]
    },
    {
      "cell_type": "code",
      "metadata": {
        "colab": {
          "base_uri": "https://localhost:8080/"
        },
        "id": "c3oYpATvVPDW",
        "outputId": "bde248b9-7638-424f-ae7f-a84c549d29ba"
      },
      "source": [
        "#Guardar todo el modelo\n",
        "model.save('/content/drive/MyDrive/Modelos/rrn_modelo_LSTM_w2v')"
      ],
      "execution_count": null,
      "outputs": [
        {
          "output_type": "stream",
          "text": [
            "WARNING:absl:Found untraced functions such as lstm_cell_layer_call_fn, lstm_cell_layer_call_and_return_conditional_losses, lstm_cell_1_layer_call_fn, lstm_cell_1_layer_call_and_return_conditional_losses, lstm_cell_2_layer_call_fn while saving (showing 5 of 20). These functions will not be directly callable after loading.\n"
          ],
          "name": "stderr"
        },
        {
          "output_type": "stream",
          "text": [
            "INFO:tensorflow:Assets written to: /content/drive/MyDrive/Modelos/rrn_modelo_LSTM_w2v/assets\n"
          ],
          "name": "stdout"
        },
        {
          "output_type": "stream",
          "text": [
            "INFO:tensorflow:Assets written to: /content/drive/MyDrive/Modelos/rrn_modelo_LSTM_w2v/assets\n"
          ],
          "name": "stderr"
        }
      ]
    },
    {
      "cell_type": "code",
      "metadata": {
        "id": "-6JXRd7EWaXa"
      },
      "source": [
        "#modelo = tf.keras.models.load_model('/content/drive/MyDrive/Modelos/rrn_modelo_w2v')\n",
        "\n",
        "# Check its architecture\n",
        "#modelo.summary()"
      ],
      "execution_count": null,
      "outputs": []
    },
    {
      "cell_type": "markdown",
      "metadata": {
        "id": "P-y0p9Jlh_yn"
      },
      "source": [
        "#Invertir diccionario de vocabulario\n",
        "El objetivo es que a partir de indice, regrese palabras"
      ]
    },
    {
      "cell_type": "code",
      "metadata": {
        "id": "N63PvC90iOoq"
      },
      "source": [
        "reversed_vocabulario_dic_sum = dict(map(reversed, vocabulario_dic_sum.items()))\n",
        "reversed_vocabulario_dic_text = dict(map(reversed, vocabulario_dic.items()))\n"
      ],
      "execution_count": null,
      "outputs": []
    },
    {
      "cell_type": "markdown",
      "metadata": {
        "id": "QbBzHDBMsa_E"
      },
      "source": [
        "#Modelo de Inferencia y Generación de Texto"
      ]
    },
    {
      "cell_type": "code",
      "metadata": {
        "id": "m2b6xsH6rggV"
      },
      "source": [
        "## Inferencia del codificador\n",
        "encoder_model = Model(inputs=encoder_inputs, outputs=[encoder_outputs, state_h, state_c])\n",
        "\n",
        "# Inferencia del decodificador\n",
        "\n",
        "decoder_state_input_h = Input(shape=(latent_dim,))\n",
        "decoder_state_input_c = Input(shape=(latent_dim,))\n",
        "decoder_hidden_state_input = Input(shape=(int(longitud_max_textos), latent_dim))\n",
        "\n",
        "# Obtener los embeddings de la secuencia del decodificador \n",
        "dec_emb2 = dec_emb_layer(decoder_inputs)\n",
        "\n",
        "# Para predecir la siguiente palabra, el estado inicial se iguala al estado del tiempo anterior\n",
        "decoder_outputs2, state_h2, state_c2 = decoder_lstm(dec_emb2, initial_state=[decoder_state_input_h, decoder_state_input_c])\n",
        "\n",
        "#Inferencia en modulo de atención\n",
        "attn_out_inf, attn_states_inf = attn_layer([decoder_hidden_state_input, decoder_outputs2])\n",
        "decoder_inf_concat = Concatenate(axis=-1, name='concat')([decoder_outputs2, attn_out_inf])\n",
        "\n",
        "# Se utiliza la capa con activación softmax para generar la distribución de probabilidad del vocabulario objetivo\n",
        "decoder_outputs2 = decoder_dense(decoder_inf_concat)\n",
        "\n",
        "# Modelo final del decoder\n",
        "decoder_model = Model(\n",
        "[decoder_inputs] + [decoder_hidden_state_input,decoder_state_input_h, decoder_state_input_c],\n",
        "[decoder_outputs2] + [state_h2, state_c2])"
      ],
      "execution_count": null,
      "outputs": []
    },
    {
      "cell_type": "code",
      "metadata": {
        "colab": {
          "base_uri": "https://localhost:8080/",
          "height": 339
        },
        "id": "2x8A_K-u8qwM",
        "outputId": "b27a814a-9791-467f-bc2e-02ee64315747"
      },
      "source": [
        "tf.keras.utils.plot_model( \n",
        "    encoder_model,\n",
        "    to_file=\"encoder_model.png\",\n",
        "    show_shapes=True,\n",
        "    show_dtype=False,\n",
        "    show_layer_names=True,\n",
        "    rankdir=\"TD\",\n",
        "    dpi=60,\n",
        ")"
      ],
      "execution_count": null,
      "outputs": [
        {
          "output_type": "execute_result",
          "data": {
            "image/png": "[encoded data removed]",
            "text/plain": [
              "<IPython.core.display.Image object>"
            ]
          },
          "metadata": {
            "tags": []
          },
          "execution_count": 66
        }
      ]
    },
    {
      "cell_type": "code",
      "metadata": {
        "colab": {
          "base_uri": "https://localhost:8080/",
          "height": 409
        },
        "id": "xSfRZwXZ0YGx",
        "outputId": "e99987e4-c27a-485d-e2f6-a48bb606b3ee"
      },
      "source": [
        "tf.keras.utils.plot_model( \n",
        "    decoder_model,\n",
        "    to_file=\"model_decoder.png\",\n",
        "    show_shapes=True,\n",
        "    show_dtype=False,\n",
        "    show_layer_names=True,\n",
        "    rankdir=\"TD\",\n",
        "    dpi=60,\n",
        ")"
      ],
      "execution_count": null,
      "outputs": [
        {
          "output_type": "execute_result",
          "data": {
            "image/png": "[encoded data removed]",
            "text/plain": [
              "<IPython.core.display.Image object>"
            ]
          },
          "metadata": {
            "tags": []
          },
          "execution_count": 67
        }
      ]
    },
    {
      "cell_type": "markdown",
      "metadata": {
        "id": "lJIW62pzsn_B"
      },
      "source": [
        "# Implementación del modelo de inferencia mediante decode_sequence()\n",
        "\n",
        "[fuente](https://www.analyticsvidhya.com/blog/2019/06/comprehensive-guide-text-summarization-using-deep-learning-python/)"
      ]
    },
    {
      "cell_type": "code",
      "metadata": {
        "id": "Xl7KTg-11Qwm"
      },
      "source": [
        "def crea_resumen(input_seq):\n",
        "    # Codifica el texto como vectores de entrada\n",
        "    e_out, e_h, e_c = encoder_model.predict(input_seq)\n",
        "\n",
        "    # Genera una secuencia vacía de longitud 1.\n",
        "    target_seq = np.zeros((1,1))\n",
        "\n",
        "    # Identifica la palabra 'tokenstart' como la primera palabra de la secuencia objetivo\n",
        "    target_seq[0, 0] =  vocabulario_dic_sum['tokenstart']\n",
        "\n",
        "    stop_condition = False\n",
        "    decoded_sentence = ''\n",
        "    while not stop_condition:\n",
        "        output_tokens, h, c = decoder_model.predict([target_seq] + [e_out, e_h, e_c])\n",
        "\n",
        "        # Escoje la proxima palabra para el resumen\n",
        "        sampled_token_index = np.argmax(output_tokens[0, -1, :])\n",
        "        sampled_token = reversed_vocabulario_dic_sum[sampled_token_index]\n",
        "\n",
        "        # Mientras la palabra elejida no sea la final 'tokenend', anexa la palabra elejida al resumen\n",
        "        if sampled_token!='tokenend':\n",
        "            decoded_sentence += ' '+sampled_token\n",
        "\n",
        "        # Sal del ciclo while si se alcanza la longitud máxima o si se encuentra 'tokenend'.\n",
        "        if (sampled_token == 'tokenend' or len(decoded_sentence.split()) >= (int(longitud_max_titulos-1))):\n",
        "                stop_condition = True\n",
        "\n",
        "        # Actualiza la secuencia objetivo (of length 1).\n",
        "        target_seq = np.zeros((1,1))\n",
        "        target_seq[0, 0] = sampled_token_index\n",
        "\n",
        "        # Actualiza los estados internos para predecir la siguiente palabra, igualandolos al estado del tiempo anterior\n",
        "        e_h, e_c = h, c\n",
        "\n",
        "    return decoded_sentence"
      ],
      "execution_count": null,
      "outputs": []
    },
    {
      "cell_type": "code",
      "metadata": {
        "id": "t_WXRz5z0i4M"
      },
      "source": [
        "def seq2summary(input_seq):\n",
        "    newString = ''\n",
        "    for i in input_seq:\n",
        "      if((i != 0 and i != vocabulario_dic_sum['tokenstart']) and i != vocabulario_dic_sum['tokenend']):\n",
        "        newString = newString + reversed_vocabulario_dic_sum[i]+' '\n",
        "    return newString\n",
        "\n",
        "def seq2text(input_seq):\n",
        "    newString = ''\n",
        "    for i in input_seq:\n",
        "      if(i != 0):\n",
        "        newString = newString + reversed_vocabulario_dic_text[i]+' '\n",
        "    return newString"
      ],
      "execution_count": null,
      "outputs": []
    },
    {
      "cell_type": "code",
      "metadata": {
        "id": "cSuPlmFChrVm",
        "colab": {
          "base_uri": "https://localhost:8080/",
          "height": 52
        },
        "outputId": "c2c6eabf-f0c3-4c31-b486-4f4c3e7e9546"
      },
      "source": [
        "x_test.iloc[0]"
      ],
      "execution_count": null,
      "outputs": [
        {
          "output_type": "execute_result",
          "data": {
            "application/vnd.google.colaboratory.intrinsic+json": {
              "type": "string"
            },
            "text/plain": [
              "'finally cat food that my cats are willing to consume without the side effects of diarrhea nausea or vomiting i will continue to purchase unless my kitty cats are requesting something else instead '"
            ]
          },
          "metadata": {
            "tags": []
          },
          "execution_count": 70
        }
      ]
    },
    {
      "cell_type": "code",
      "metadata": {
        "id": "ElRPoPQeh_IO",
        "colab": {
          "base_uri": "https://localhost:8080/",
          "height": 35
        },
        "outputId": "8f2a07e3-4e5f-46fd-e5d0-4e0912ff7233"
      },
      "source": [
        "y_test.iloc[0]"
      ],
      "execution_count": null,
      "outputs": [
        {
          "output_type": "execute_result",
          "data": {
            "application/vnd.google.colaboratory.intrinsic+json": {
              "type": "string"
            },
            "text/plain": [
              "'tokenstart they like them they like them  tokenend'"
            ]
          },
          "metadata": {
            "tags": []
          },
          "execution_count": 71
        }
      ]
    },
    {
      "cell_type": "code",
      "metadata": {
        "id": "IXgBraO4i4I8",
        "colab": {
          "base_uri": "https://localhost:8080/"
        },
        "outputId": "0eff0271-ca4d-4279-a0cf-51795bd2a88a"
      },
      "source": [
        "y_test.shape"
      ],
      "execution_count": null,
      "outputs": [
        {
          "output_type": "execute_result",
          "data": {
            "text/plain": [
              "(7867,)"
            ]
          },
          "metadata": {
            "tags": []
          },
          "execution_count": 73
        }
      ]
    },
    {
      "cell_type": "code",
      "metadata": {
        "colab": {
          "base_uri": "https://localhost:8080/"
        },
        "id": "S1q4ZbNVAG4G",
        "outputId": "676a5627-7bd2-40e8-d31a-c6279ea4cae6"
      },
      "source": [
        "for i in range(10, 20):\n",
        "  print(i)\n",
        "  print(\"Review:\",seq2text(x_test_seq[i]))\n",
        "  print(\"Original summary:\",seq2summary(y_test_seq[i]))\n",
        "  print(\"Predicted summary:\",crea_resumen(x_test_seq[i].reshape(1, -1)))\n",
        "  print(\"\\n\")"
      ],
      "execution_count": null,
      "outputs": [
        {
          "output_type": "stream",
          "text": [
            "10\n",
            "Review: disclaimer i am reviewing a package that i received for free through the vine program well it is ok i probably would not buy it but i do not usually buy instant iced tea mixes anyway the fruit flavor is ok i cannot comment on the naturalness vs [UNK] of the ingredients etc like other reviewers i would probably just brew my own fresh green tea and chill it in the fridge \n",
            "Original summary: ok \n",
            "Predicted summary:  not as good as i expected\n",
            "\n",
            "\n",
            "11\n",
            "Review: i make a [UNK] pitcher of this tea for my family just about every day i use 15g of flowers 1 2 oz or a scant 1 2 cup per quart of tea so just about 1 5 cups of flower petals in my mr coffee tea maker i add [UNK] 10 servings of a href http www amazon com gp product [UNK] wholesome sweeteners organic raw blue agave 44 ounce bottle pack of 2 a right over the top of the petals before i set it to brew 60 calories per serving yummy \n",
            "Original summary: directions for a pitcher \n",
            "Predicted summary:  great tea\n",
            "\n",
            "\n",
            "12\n",
            "Review: lovely aroma good for sore throat or calming stomach as well as pure enjoyment my favorite brand of peppermint tea \n",
            "Original summary: wonderful \n",
            "Predicted summary:  love this tea\n",
            "\n",
            "\n",
            "13\n",
            "Review: even our vet could not cure the red bumps on my dog s skin the rash and [UNK] was [UNK] to oral antibiotics and [UNK] steroid spray our pet sitter recommended we try a dog food without known allergens so we tried wellness rice salmon it really works our dog still gets some redness but she is so much better the only negative is that apparently the food does not taste that great our solution is to mix it with a very small amount of canned cat food about 1 tablespoon of our cat s newman organics and our dog gobbles it right down \n",
            "Original summary: mostly cured the red bumps on my dog s skin \n",
            "Predicted summary:  great food for a great price\n",
            "\n",
            "\n",
            "14\n",
            "Review: i got my influenster voxbox with awesome products inside one of the products inside was the quaker oaks soft banana nut bar i thoroughly enjoyed this bar it is a great snack that one can have enjoy eating without the worry of it being unhealthy i would definitely purchase them \n",
            "Original summary: quaker soft baked cereal banana nut bread \n",
            "Predicted summary:  great bar\n",
            "\n",
            "\n",
            "15\n",
            "Review: nice boost of energy when you need it and the price is perfect much cheaper than in the stores and other brands \n",
            "Original summary: red rain energy shot \n",
            "Predicted summary:  great taste great value\n",
            "\n",
            "\n",
            "16\n",
            "Review: i bought these at a specialty store before ordering them from amazon they did not contain milk at that time i loved them and decided to order a case milk as of the writing of this review is still not listed as an ingredient on this website there are stickers over the ingredients which include milk powder i called the company and was told the recipe had changed they were very nice and offered a refund unfortunately we opened one and ate some before i noticed the sticker even if you do not mind the milk please be aware that they will arrive in crushed bits not in wafer rolls \n",
            "Original summary: these contain milk \n",
            "Predicted summary:  not what i expected\n",
            "\n",
            "\n",
            "17\n",
            "Review: while most liquid is packaged by volume this is packaged by weight i was able to resolve my complaint with amazon but i want other shoppers to be aware that his is smaller than you might expect i estimate that each bottle is 24oz by volume still a pretty good deal but not the steal i was hoping for \n",
            "Original summary: package size is misleading \n",
            "Predicted summary:  good but not the best\n",
            "\n",
            "\n",
            "18\n",
            "Review: i have tried out only two forms of chia seeds and i would have to say the texture of this one is by far the best the other two i have tried either still remained grainy cold pressed and just felt them go down my throat but the texture on how these chia seeds smoothing out when mixed with liquid is the best mixed with solid foods also does not give away any taste on how i may have cooked my meal i do not mind the small crunchiness and sprinkle them on just about everything i eat its great i love them \n",
            "Original summary: a texture \n",
            "Predicted summary:  great seeds\n",
            "\n",
            "\n",
            "19\n",
            "Review: seriously get this marinade for all yer pork needs i freakin love stubb s products and this is the only thing i use for my ribs the prices is a bit high but worth it \n",
            "Original summary: amazing marinade \n",
            "Predicted summary:  great marinade\n",
            "\n",
            "\n"
          ],
          "name": "stdout"
        }
      ]
    },
    {
      "cell_type": "code",
      "metadata": {
        "id": "Tv0sCyOm-Qsp",
        "colab": {
          "base_uri": "https://localhost:8080/"
        },
        "outputId": "7bd02504-e92c-43f8-d73e-7703e01c9753"
      },
      "source": [
        "len(range(len(x_test[0:200])))"
      ],
      "execution_count": null,
      "outputs": [
        {
          "output_type": "execute_result",
          "data": {
            "text/plain": [
              "200"
            ]
          },
          "metadata": {
            "tags": []
          },
          "execution_count": 153
        }
      ]
    },
    {
      "cell_type": "code",
      "metadata": {
        "id": "EEf6GKe6qPac",
        "colab": {
          "base_uri": "https://localhost:8080/"
        },
        "outputId": "1b95d34a-c6c1-4559-eb67-9f23bc702156"
      },
      "source": [
        "%%time\n",
        "Review = pd.Series(np.apply_along_axis(seq2text, 1, x_test_seq[:50]), name='Review')\n",
        "Original_summary = pd.Series(np.apply_along_axis(seq2summary, 1, y_test_seq[:50]), name = 'Original_Summary')\n",
        "\n",
        "Predicted_summary = pd.Series(name = 'Predicted_summary').reindex_like(Review)\n",
        "for i in range(50):\n",
        "  Predicted_summary[i] = crea_resumen(x_test_seq[i].reshape(1, -1))\n",
        "Predicted_summary"
      ],
      "execution_count": null,
      "outputs": [
        {
          "output_type": "stream",
          "text": [
            "/usr/local/lib/python3.7/dist-packages/ipykernel_launcher.py:4: DeprecationWarning: The default dtype for empty Series will be 'object' instead of 'float64' in a future version. Specify a dtype explicitly to silence this warning.\n",
            "  after removing the cwd from sys.path.\n"
          ],
          "name": "stderr"
        },
        {
          "output_type": "stream",
          "text": [
            "CPU times: user 10.9 s, sys: 358 ms, total: 11.3 s\n",
            "Wall time: 11.1 s\n"
          ],
          "name": "stdout"
        }
      ]
    },
    {
      "cell_type": "code",
      "metadata": {
        "id": "5oRi3zbByKPe"
      },
      "source": [
        "Resultados = pd.concat([Review, Original_summary, Predicted_summary], axis=1)"
      ],
      "execution_count": 14,
      "outputs": []
    },
    {
      "cell_type": "markdown",
      "metadata": {
        "id": "wKsofERFyB8y"
      },
      "source": [
        "Para guardar la tabla de resultados en un archivo, descomentar la siguiente linea, y reemplazar la ruta con la corresponeiente a la carpeta personal en el drive donde se quiera guardar."
      ]
    },
    {
      "cell_type": "code",
      "metadata": {
        "id": "i6SvmLQCx7xu"
      },
      "source": [
        "#Resultados.to_csv('/content/drive/MyDrive/Modelos/rrn_modelo_LSTM_w2v/Resultados/resultados_rnn.csv', index=False)"
      ],
      "execution_count": null,
      "outputs": []
    },
    {
      "cell_type": "code",
      "metadata": {
        "id": "vCqfDy88mopA",
        "outputId": "357720df-f79d-465e-842b-8740aaa5cf78",
        "colab": {
          "base_uri": "https://localhost:8080/",
          "height": 1000
        }
      },
      "source": [
        "Resultados"
      ],
      "execution_count": 16,
      "outputs": [
        {
          "output_type": "execute_result",
          "data": {
            "text/html": [
              "<div>\n",
              "<style scoped>\n",
              "    .dataframe tbody tr th:only-of-type {\n",
              "        vertical-align: middle;\n",
              "    }\n",
              "\n",
              "    .dataframe tbody tr th {\n",
              "        vertical-align: top;\n",
              "    }\n",
              "\n",
              "    .dataframe thead th {\n",
              "        text-align: right;\n",
              "    }\n",
              "</style>\n",
              "<table border=\"1\" class=\"dataframe\">\n",
              "  <thead>\n",
              "    <tr style=\"text-align: right;\">\n",
              "      <th></th>\n",
              "      <th>Review</th>\n",
              "      <th>Original_summary</th>\n",
              "      <th>Predicted_summary</th>\n",
              "    </tr>\n",
              "  </thead>\n",
              "  <tbody>\n",
              "    <tr>\n",
              "      <th>0</th>\n",
              "      <td>finally cat food that my cats are willing to c...</td>\n",
              "      <td>they like them they like them</td>\n",
              "      <td>cat food</td>\n",
              "    </tr>\n",
              "    <tr>\n",
              "      <th>1</th>\n",
              "      <td>these are really delicious cookies and they ar...</td>\n",
              "      <td>yummy</td>\n",
              "      <td>great cookies</td>\n",
              "    </tr>\n",
              "    <tr>\n",
              "      <th>2</th>\n",
              "      <td>i cannot believe you guys jacked up the price ...</td>\n",
              "      <td>disappointed</td>\n",
              "      <td>great</td>\n",
              "    </tr>\n",
              "    <tr>\n",
              "      <th>3</th>\n",
              "      <td>i was starting to think that snyder and i just...</td>\n",
              "      <td>snyder s best flavor</td>\n",
              "      <td>yummy</td>\n",
              "    </tr>\n",
              "    <tr>\n",
              "      <th>4</th>\n",
              "      <td>this bar reminds me of the semi sweet chocolat...</td>\n",
              "      <td>mild and semi sweet</td>\n",
              "      <td>tasty but not as chocolate</td>\n",
              "    </tr>\n",
              "    <tr>\n",
              "      <th>5</th>\n",
              "      <td>the cashew cookie is my favorite flavor of the...</td>\n",
              "      <td>very tasty</td>\n",
              "      <td>delicious</td>\n",
              "    </tr>\n",
              "    <tr>\n",
              "      <th>6</th>\n",
              "      <td>i am happy with this purchase shiitake mushroo...</td>\n",
              "      <td>[UNK]</td>\n",
              "      <td>great product</td>\n",
              "    </tr>\n",
              "    <tr>\n",
              "      <th>7</th>\n",
              "      <td>i love these low calorie snacks i count calori...</td>\n",
              "      <td>delicious</td>\n",
              "      <td>great snack</td>\n",
              "    </tr>\n",
              "    <tr>\n",
              "      <th>8</th>\n",
              "      <td>worst purchase i ever bought off of amazon and...</td>\n",
              "      <td>smelled like [UNK]</td>\n",
              "      <td>horrible</td>\n",
              "    </tr>\n",
              "    <tr>\n",
              "      <th>9</th>\n",
              "      <td>i grew up in england moved here when i was 19 ...</td>\n",
              "      <td>pg tips is the only tea for me</td>\n",
              "      <td>best tea</td>\n",
              "    </tr>\n",
              "    <tr>\n",
              "      <th>10</th>\n",
              "      <td>disclaimer i am reviewing a package that i rec...</td>\n",
              "      <td>ok</td>\n",
              "      <td>not as good as i expected</td>\n",
              "    </tr>\n",
              "    <tr>\n",
              "      <th>11</th>\n",
              "      <td>i make a [UNK] pitcher of this tea for my fami...</td>\n",
              "      <td>directions for a pitcher</td>\n",
              "      <td>great tea</td>\n",
              "    </tr>\n",
              "    <tr>\n",
              "      <th>12</th>\n",
              "      <td>lovely aroma good for sore throat or calming s...</td>\n",
              "      <td>wonderful</td>\n",
              "      <td>love this tea</td>\n",
              "    </tr>\n",
              "    <tr>\n",
              "      <th>13</th>\n",
              "      <td>even our vet could not cure the red bumps on m...</td>\n",
              "      <td>mostly cured the red bumps on</td>\n",
              "      <td>great food for a great price</td>\n",
              "    </tr>\n",
              "    <tr>\n",
              "      <th>14</th>\n",
              "      <td>i got my influenster voxbox with awesome produ...</td>\n",
              "      <td>quaker soft baked cereal banan</td>\n",
              "      <td>great bar</td>\n",
              "    </tr>\n",
              "    <tr>\n",
              "      <th>15</th>\n",
              "      <td>nice boost of energy when you need it and the ...</td>\n",
              "      <td>red rain energy shot</td>\n",
              "      <td>great taste great value</td>\n",
              "    </tr>\n",
              "    <tr>\n",
              "      <th>16</th>\n",
              "      <td>i bought these at a specialty store before ord...</td>\n",
              "      <td>these contain milk</td>\n",
              "      <td>not what i expected</td>\n",
              "    </tr>\n",
              "    <tr>\n",
              "      <th>17</th>\n",
              "      <td>while most liquid is packaged by volume this i...</td>\n",
              "      <td>package size is misleading</td>\n",
              "      <td>good but not the best</td>\n",
              "    </tr>\n",
              "    <tr>\n",
              "      <th>18</th>\n",
              "      <td>i have tried out only two forms of chia seeds ...</td>\n",
              "      <td>a texture</td>\n",
              "      <td>great seeds</td>\n",
              "    </tr>\n",
              "    <tr>\n",
              "      <th>19</th>\n",
              "      <td>seriously get this marinade for all yer pork n...</td>\n",
              "      <td>amazing marinade</td>\n",
              "      <td>great marinade</td>\n",
              "    </tr>\n",
              "    <tr>\n",
              "      <th>20</th>\n",
              "      <td>i lived in germany for almost 20 years i absol...</td>\n",
              "      <td>the greatest</td>\n",
              "      <td>great candy</td>\n",
              "    </tr>\n",
              "    <tr>\n",
              "      <th>21</th>\n",
              "      <td>this is the ultimate puppy food the kibbles ar...</td>\n",
              "      <td>eukanuba puppy small breed dog</td>\n",
              "      <td>great product great price</td>\n",
              "    </tr>\n",
              "    <tr>\n",
              "      <th>22</th>\n",
              "      <td>this is the most amazing dressing in la county...</td>\n",
              "      <td>hard to find in stores</td>\n",
              "      <td>great</td>\n",
              "    </tr>\n",
              "    <tr>\n",
              "      <th>23</th>\n",
              "      <td>our standard schnauzer wants that peanut butte...</td>\n",
              "      <td>the pups seem to like them</td>\n",
              "      <td>my dog loves them</td>\n",
              "    </tr>\n",
              "    <tr>\n",
              "      <th>24</th>\n",
              "      <td>she loves the beef and also the chicken in the...</td>\n",
              "      <td>our dog has a dingo habit</td>\n",
              "      <td>great for training</td>\n",
              "    </tr>\n",
              "    <tr>\n",
              "      <th>25</th>\n",
              "      <td>first off i hate to trash a product that is no...</td>\n",
              "      <td>good for [UNK] not so much for</td>\n",
              "      <td>great little pricey but not so much</td>\n",
              "    </tr>\n",
              "    <tr>\n",
              "      <th>26</th>\n",
              "      <td>this may not be the most popular hot beverage ...</td>\n",
              "      <td>tangy and satisfying</td>\n",
              "      <td>the best drink</td>\n",
              "    </tr>\n",
              "    <tr>\n",
              "      <th>27</th>\n",
              "      <td>this extract is excellent and it shipped reall...</td>\n",
              "      <td>aromatic delicious and delight</td>\n",
              "      <td>great product</td>\n",
              "    </tr>\n",
              "    <tr>\n",
              "      <th>28</th>\n",
              "      <td>i bought a box of the mango macadamia kind bar...</td>\n",
              "      <td>the best gluten free bars</td>\n",
              "      <td>great tasting</td>\n",
              "    </tr>\n",
              "    <tr>\n",
              "      <th>29</th>\n",
              "      <td>very useful culinary ingredient provides tartn...</td>\n",
              "      <td>good stuff</td>\n",
              "      <td>lemon lime</td>\n",
              "    </tr>\n",
              "    <tr>\n",
              "      <th>30</th>\n",
              "      <td>this is a great tasting and easy to prepare ma...</td>\n",
              "      <td>great tasting</td>\n",
              "      <td>great taste</td>\n",
              "    </tr>\n",
              "    <tr>\n",
              "      <th>31</th>\n",
              "      <td>i was so looking forward to getting these what...</td>\n",
              "      <td>silver lake rum ball gourmet</td>\n",
              "      <td>awful</td>\n",
              "    </tr>\n",
              "    <tr>\n",
              "      <th>32</th>\n",
              "      <td>i am mostly a water drinker but occasionally i...</td>\n",
              "      <td>pleasant taste only 10 calorie</td>\n",
              "      <td>not what i expected</td>\n",
              "    </tr>\n",
              "    <tr>\n",
              "      <th>33</th>\n",
              "      <td>the grilled sirloin flavor was a winner for my...</td>\n",
              "      <td>dogs loved it</td>\n",
              "      <td>great for dogs with a</td>\n",
              "    </tr>\n",
              "    <tr>\n",
              "      <th>34</th>\n",
              "      <td>i am a big fan of green tea and i usually drin...</td>\n",
              "      <td>very bland</td>\n",
              "      <td>great tea</td>\n",
              "    </tr>\n",
              "    <tr>\n",
              "      <th>35</th>\n",
              "      <td>mae west supposedly said that too much of a go...</td>\n",
              "      <td>mae west was wrong</td>\n",
              "      <td>not bad</td>\n",
              "    </tr>\n",
              "    <tr>\n",
              "      <th>36</th>\n",
              "      <td>i really have not found a cheez it cracker tha...</td>\n",
              "      <td>another great cheez it product</td>\n",
              "      <td>not the best</td>\n",
              "    </tr>\n",
              "    <tr>\n",
              "      <th>37</th>\n",
              "      <td>this is a great tasting cereal it has a lastin...</td>\n",
              "      <td>great cereal not so good price</td>\n",
              "      <td>great</td>\n",
              "    </tr>\n",
              "    <tr>\n",
              "      <th>38</th>\n",
              "      <td>for the price this is one great cup of coffee ...</td>\n",
              "      <td>great cup of coffee</td>\n",
              "      <td>great coffee</td>\n",
              "    </tr>\n",
              "    <tr>\n",
              "      <th>39</th>\n",
              "      <td>this is the best cereal i like to use it as a ...</td>\n",
              "      <td>[UNK] cereal</td>\n",
              "      <td>great cereal</td>\n",
              "    </tr>\n",
              "    <tr>\n",
              "      <th>40</th>\n",
              "      <td>i was recommended this product by a relative o...</td>\n",
              "      <td>not as amazing as i anticipate</td>\n",
              "      <td>not the best</td>\n",
              "    </tr>\n",
              "    <tr>\n",
              "      <th>41</th>\n",
              "      <td>this was actually pretty good after working ou...</td>\n",
              "      <td>not bad at all</td>\n",
              "      <td>good stuff</td>\n",
              "    </tr>\n",
              "    <tr>\n",
              "      <th>42</th>\n",
              "      <td>i am very fond of this flavor and my local wal...</td>\n",
              "      <td>jello review</td>\n",
              "      <td>great coffee</td>\n",
              "    </tr>\n",
              "    <tr>\n",
              "      <th>43</th>\n",
              "      <td>this is such an enjoyable cup of tea just add ...</td>\n",
              "      <td>this is the best green tea i h</td>\n",
              "      <td>great tea</td>\n",
              "    </tr>\n",
              "    <tr>\n",
              "      <th>44</th>\n",
              "      <td>these make the other peanut butter cups taste ...</td>\n",
              "      <td>delicious these did not last l</td>\n",
              "      <td>yummy</td>\n",
              "    </tr>\n",
              "    <tr>\n",
              "      <th>45</th>\n",
              "      <td>i got this in a variety back and this flavor w...</td>\n",
              "      <td>did not care for it</td>\n",
              "      <td>chocolate</td>\n",
              "    </tr>\n",
              "    <tr>\n",
              "      <th>46</th>\n",
              "      <td>we first discovered these pouches at our local...</td>\n",
              "      <td>great for the picky eater</td>\n",
              "      <td>great product</td>\n",
              "    </tr>\n",
              "    <tr>\n",
              "      <th>47</th>\n",
              "      <td>these little puppies are so good my wife and i...</td>\n",
              "      <td>delish</td>\n",
              "      <td>my dog loves these</td>\n",
              "    </tr>\n",
              "    <tr>\n",
              "      <th>48</th>\n",
              "      <td>just got my shipment it was for the regular [U...</td>\n",
              "      <td>not watermelon [UNK]</td>\n",
              "      <td>great product</td>\n",
              "    </tr>\n",
              "    <tr>\n",
              "      <th>49</th>\n",
              "      <td>i purchased this formula but was worried after...</td>\n",
              "      <td>if you are worried about [UNK]</td>\n",
              "      <td>not bad</td>\n",
              "    </tr>\n",
              "  </tbody>\n",
              "</table>\n",
              "</div>"
            ],
            "text/plain": [
              "                                               Review  ...                     Predicted_summary\n",
              "0   finally cat food that my cats are willing to c...  ...                              cat food\n",
              "1   these are really delicious cookies and they ar...  ...                         great cookies\n",
              "2   i cannot believe you guys jacked up the price ...  ...                                 great\n",
              "3   i was starting to think that snyder and i just...  ...                                 yummy\n",
              "4   this bar reminds me of the semi sweet chocolat...  ...            tasty but not as chocolate\n",
              "5   the cashew cookie is my favorite flavor of the...  ...                             delicious\n",
              "6   i am happy with this purchase shiitake mushroo...  ...                         great product\n",
              "7   i love these low calorie snacks i count calori...  ...                           great snack\n",
              "8   worst purchase i ever bought off of amazon and...  ...                              horrible\n",
              "9   i grew up in england moved here when i was 19 ...  ...                              best tea\n",
              "10  disclaimer i am reviewing a package that i rec...  ...             not as good as i expected\n",
              "11  i make a [UNK] pitcher of this tea for my fami...  ...                             great tea\n",
              "12  lovely aroma good for sore throat or calming s...  ...                         love this tea\n",
              "13  even our vet could not cure the red bumps on m...  ...          great food for a great price\n",
              "14  i got my influenster voxbox with awesome produ...  ...                             great bar\n",
              "15  nice boost of energy when you need it and the ...  ...               great taste great value\n",
              "16  i bought these at a specialty store before ord...  ...                   not what i expected\n",
              "17  while most liquid is packaged by volume this i...  ...                 good but not the best\n",
              "18  i have tried out only two forms of chia seeds ...  ...                           great seeds\n",
              "19  seriously get this marinade for all yer pork n...  ...                        great marinade\n",
              "20  i lived in germany for almost 20 years i absol...  ...                           great candy\n",
              "21  this is the ultimate puppy food the kibbles ar...  ...             great product great price\n",
              "22  this is the most amazing dressing in la county...  ...                                 great\n",
              "23  our standard schnauzer wants that peanut butte...  ...                     my dog loves them\n",
              "24  she loves the beef and also the chicken in the...  ...                    great for training\n",
              "25  first off i hate to trash a product that is no...  ...   great little pricey but not so much\n",
              "26  this may not be the most popular hot beverage ...  ...                        the best drink\n",
              "27  this extract is excellent and it shipped reall...  ...                         great product\n",
              "28  i bought a box of the mango macadamia kind bar...  ...                         great tasting\n",
              "29  very useful culinary ingredient provides tartn...  ...                            lemon lime\n",
              "30  this is a great tasting and easy to prepare ma...  ...                           great taste\n",
              "31  i was so looking forward to getting these what...  ...                                 awful\n",
              "32  i am mostly a water drinker but occasionally i...  ...                   not what i expected\n",
              "33  the grilled sirloin flavor was a winner for my...  ...                 great for dogs with a\n",
              "34  i am a big fan of green tea and i usually drin...  ...                             great tea\n",
              "35  mae west supposedly said that too much of a go...  ...                               not bad\n",
              "36  i really have not found a cheez it cracker tha...  ...                          not the best\n",
              "37  this is a great tasting cereal it has a lastin...  ...                                 great\n",
              "38  for the price this is one great cup of coffee ...  ...                          great coffee\n",
              "39  this is the best cereal i like to use it as a ...  ...                          great cereal\n",
              "40  i was recommended this product by a relative o...  ...                          not the best\n",
              "41  this was actually pretty good after working ou...  ...                            good stuff\n",
              "42  i am very fond of this flavor and my local wal...  ...                          great coffee\n",
              "43  this is such an enjoyable cup of tea just add ...  ...                             great tea\n",
              "44  these make the other peanut butter cups taste ...  ...                                 yummy\n",
              "45  i got this in a variety back and this flavor w...  ...                             chocolate\n",
              "46  we first discovered these pouches at our local...  ...                         great product\n",
              "47  these little puppies are so good my wife and i...  ...                    my dog loves these\n",
              "48  just got my shipment it was for the regular [U...  ...                         great product\n",
              "49  i purchased this formula but was worried after...  ...                               not bad\n",
              "\n",
              "[50 rows x 3 columns]"
            ]
          },
          "metadata": {
            "tags": []
          },
          "execution_count": 16
        }
      ]
    },
    {
      "cell_type": "markdown",
      "metadata": {
        "id": "lGmp1ZeImvvQ"
      },
      "source": [
        "# Evaluación con Rouge"
      ]
    },
    {
      "cell_type": "code",
      "metadata": {
        "id": "djCBZHoRxJhQ",
        "outputId": "d6f64012-0b03-4b5a-c338-6926120ed8f3",
        "colab": {
          "base_uri": "https://localhost:8080/"
        }
      },
      "source": [
        "!pip install Rouge"
      ],
      "execution_count": 5,
      "outputs": [
        {
          "output_type": "stream",
          "text": [
            "Collecting Rouge\n",
            "  Downloading rouge-1.0.1-py3-none-any.whl (13 kB)\n",
            "Requirement already satisfied: six in /usr/local/lib/python3.7/dist-packages (from Rouge) (1.15.0)\n",
            "Installing collected packages: Rouge\n",
            "Successfully installed Rouge-1.0.1\n"
          ],
          "name": "stdout"
        }
      ]
    },
    {
      "cell_type": "code",
      "metadata": {
        "id": "nxZ6p3Njmukn"
      },
      "source": [
        "from rouge import Rouge"
      ],
      "execution_count": 17,
      "outputs": []
    },
    {
      "cell_type": "markdown",
      "metadata": {
        "id": "BGi7WNwjyLWX"
      },
      "source": [
        "Para leer los resultados desde el archivo csv guardado en drive en la sección anterior"
      ]
    },
    {
      "cell_type": "code",
      "metadata": {
        "id": "YtnM5nTKmOz4"
      },
      "source": [
        "#Resultados = pd.read_csv('/content/drive/MyDrive/Modelos/rrn_modelo_LSTM_w2v/Resultados/resultados_rnn.csv')"
      ],
      "execution_count": 15,
      "outputs": []
    },
    {
      "cell_type": "code",
      "metadata": {
        "id": "fwwdQao9y_52",
        "outputId": "3c221a06-cb58-4018-821f-c7e7917d3fdd",
        "colab": {
          "base_uri": "https://localhost:8080/",
          "height": 1000
        }
      },
      "source": [
        "Resultados"
      ],
      "execution_count": 21,
      "outputs": [
        {
          "output_type": "execute_result",
          "data": {
            "text/html": [
              "<div>\n",
              "<style scoped>\n",
              "    .dataframe tbody tr th:only-of-type {\n",
              "        vertical-align: middle;\n",
              "    }\n",
              "\n",
              "    .dataframe tbody tr th {\n",
              "        vertical-align: top;\n",
              "    }\n",
              "\n",
              "    .dataframe thead th {\n",
              "        text-align: right;\n",
              "    }\n",
              "</style>\n",
              "<table border=\"1\" class=\"dataframe\">\n",
              "  <thead>\n",
              "    <tr style=\"text-align: right;\">\n",
              "      <th></th>\n",
              "      <th>Review</th>\n",
              "      <th>Original_summary</th>\n",
              "      <th>Predicted_summary</th>\n",
              "    </tr>\n",
              "  </thead>\n",
              "  <tbody>\n",
              "    <tr>\n",
              "      <th>0</th>\n",
              "      <td>finally cat food that my cats are willing to c...</td>\n",
              "      <td>they like them they like them</td>\n",
              "      <td>cat food</td>\n",
              "    </tr>\n",
              "    <tr>\n",
              "      <th>1</th>\n",
              "      <td>these are really delicious cookies and they ar...</td>\n",
              "      <td>yummy</td>\n",
              "      <td>great cookies</td>\n",
              "    </tr>\n",
              "    <tr>\n",
              "      <th>2</th>\n",
              "      <td>i cannot believe you guys jacked up the price ...</td>\n",
              "      <td>disappointed</td>\n",
              "      <td>great</td>\n",
              "    </tr>\n",
              "    <tr>\n",
              "      <th>3</th>\n",
              "      <td>i was starting to think that snyder and i just...</td>\n",
              "      <td>snyder s best flavor</td>\n",
              "      <td>yummy</td>\n",
              "    </tr>\n",
              "    <tr>\n",
              "      <th>4</th>\n",
              "      <td>this bar reminds me of the semi sweet chocolat...</td>\n",
              "      <td>mild and semi sweet</td>\n",
              "      <td>tasty but not as chocolate</td>\n",
              "    </tr>\n",
              "    <tr>\n",
              "      <th>5</th>\n",
              "      <td>the cashew cookie is my favorite flavor of the...</td>\n",
              "      <td>very tasty</td>\n",
              "      <td>delicious</td>\n",
              "    </tr>\n",
              "    <tr>\n",
              "      <th>6</th>\n",
              "      <td>i am happy with this purchase shiitake mushroo...</td>\n",
              "      <td>[UNK]</td>\n",
              "      <td>great product</td>\n",
              "    </tr>\n",
              "    <tr>\n",
              "      <th>7</th>\n",
              "      <td>i love these low calorie snacks i count calori...</td>\n",
              "      <td>delicious</td>\n",
              "      <td>great snack</td>\n",
              "    </tr>\n",
              "    <tr>\n",
              "      <th>8</th>\n",
              "      <td>worst purchase i ever bought off of amazon and...</td>\n",
              "      <td>smelled like [UNK]</td>\n",
              "      <td>horrible</td>\n",
              "    </tr>\n",
              "    <tr>\n",
              "      <th>9</th>\n",
              "      <td>i grew up in england moved here when i was 19 ...</td>\n",
              "      <td>pg tips is the only tea for me</td>\n",
              "      <td>best tea</td>\n",
              "    </tr>\n",
              "    <tr>\n",
              "      <th>10</th>\n",
              "      <td>disclaimer i am reviewing a package that i rec...</td>\n",
              "      <td>ok</td>\n",
              "      <td>not as good as i expected</td>\n",
              "    </tr>\n",
              "    <tr>\n",
              "      <th>11</th>\n",
              "      <td>i make a [UNK] pitcher of this tea for my fami...</td>\n",
              "      <td>directions for a pitcher</td>\n",
              "      <td>great tea</td>\n",
              "    </tr>\n",
              "    <tr>\n",
              "      <th>12</th>\n",
              "      <td>lovely aroma good for sore throat or calming s...</td>\n",
              "      <td>wonderful</td>\n",
              "      <td>love this tea</td>\n",
              "    </tr>\n",
              "    <tr>\n",
              "      <th>13</th>\n",
              "      <td>even our vet could not cure the red bumps on m...</td>\n",
              "      <td>mostly cured the red bumps on</td>\n",
              "      <td>great food for a great price</td>\n",
              "    </tr>\n",
              "    <tr>\n",
              "      <th>14</th>\n",
              "      <td>i got my influenster voxbox with awesome produ...</td>\n",
              "      <td>quaker soft baked cereal banan</td>\n",
              "      <td>great bar</td>\n",
              "    </tr>\n",
              "    <tr>\n",
              "      <th>15</th>\n",
              "      <td>nice boost of energy when you need it and the ...</td>\n",
              "      <td>red rain energy shot</td>\n",
              "      <td>great taste great value</td>\n",
              "    </tr>\n",
              "    <tr>\n",
              "      <th>16</th>\n",
              "      <td>i bought these at a specialty store before ord...</td>\n",
              "      <td>these contain milk</td>\n",
              "      <td>not what i expected</td>\n",
              "    </tr>\n",
              "    <tr>\n",
              "      <th>17</th>\n",
              "      <td>while most liquid is packaged by volume this i...</td>\n",
              "      <td>package size is misleading</td>\n",
              "      <td>good but not the best</td>\n",
              "    </tr>\n",
              "    <tr>\n",
              "      <th>18</th>\n",
              "      <td>i have tried out only two forms of chia seeds ...</td>\n",
              "      <td>a texture</td>\n",
              "      <td>great seeds</td>\n",
              "    </tr>\n",
              "    <tr>\n",
              "      <th>19</th>\n",
              "      <td>seriously get this marinade for all yer pork n...</td>\n",
              "      <td>amazing marinade</td>\n",
              "      <td>great marinade</td>\n",
              "    </tr>\n",
              "    <tr>\n",
              "      <th>20</th>\n",
              "      <td>i lived in germany for almost 20 years i absol...</td>\n",
              "      <td>the greatest</td>\n",
              "      <td>great candy</td>\n",
              "    </tr>\n",
              "    <tr>\n",
              "      <th>21</th>\n",
              "      <td>this is the ultimate puppy food the kibbles ar...</td>\n",
              "      <td>eukanuba puppy small breed dog</td>\n",
              "      <td>great product great price</td>\n",
              "    </tr>\n",
              "    <tr>\n",
              "      <th>22</th>\n",
              "      <td>this is the most amazing dressing in la county...</td>\n",
              "      <td>hard to find in stores</td>\n",
              "      <td>great</td>\n",
              "    </tr>\n",
              "    <tr>\n",
              "      <th>23</th>\n",
              "      <td>our standard schnauzer wants that peanut butte...</td>\n",
              "      <td>the pups seem to like them</td>\n",
              "      <td>my dog loves them</td>\n",
              "    </tr>\n",
              "    <tr>\n",
              "      <th>24</th>\n",
              "      <td>she loves the beef and also the chicken in the...</td>\n",
              "      <td>our dog has a dingo habit</td>\n",
              "      <td>great for training</td>\n",
              "    </tr>\n",
              "    <tr>\n",
              "      <th>25</th>\n",
              "      <td>first off i hate to trash a product that is no...</td>\n",
              "      <td>good for [UNK] not so much for</td>\n",
              "      <td>great little pricey but not so much</td>\n",
              "    </tr>\n",
              "    <tr>\n",
              "      <th>26</th>\n",
              "      <td>this may not be the most popular hot beverage ...</td>\n",
              "      <td>tangy and satisfying</td>\n",
              "      <td>the best drink</td>\n",
              "    </tr>\n",
              "    <tr>\n",
              "      <th>27</th>\n",
              "      <td>this extract is excellent and it shipped reall...</td>\n",
              "      <td>aromatic delicious and delight</td>\n",
              "      <td>great product</td>\n",
              "    </tr>\n",
              "    <tr>\n",
              "      <th>28</th>\n",
              "      <td>i bought a box of the mango macadamia kind bar...</td>\n",
              "      <td>the best gluten free bars</td>\n",
              "      <td>great tasting</td>\n",
              "    </tr>\n",
              "    <tr>\n",
              "      <th>29</th>\n",
              "      <td>very useful culinary ingredient provides tartn...</td>\n",
              "      <td>good stuff</td>\n",
              "      <td>lemon lime</td>\n",
              "    </tr>\n",
              "    <tr>\n",
              "      <th>30</th>\n",
              "      <td>this is a great tasting and easy to prepare ma...</td>\n",
              "      <td>great tasting</td>\n",
              "      <td>great taste</td>\n",
              "    </tr>\n",
              "    <tr>\n",
              "      <th>31</th>\n",
              "      <td>i was so looking forward to getting these what...</td>\n",
              "      <td>silver lake rum ball gourmet</td>\n",
              "      <td>awful</td>\n",
              "    </tr>\n",
              "    <tr>\n",
              "      <th>32</th>\n",
              "      <td>i am mostly a water drinker but occasionally i...</td>\n",
              "      <td>pleasant taste only 10 calorie</td>\n",
              "      <td>not what i expected</td>\n",
              "    </tr>\n",
              "    <tr>\n",
              "      <th>33</th>\n",
              "      <td>the grilled sirloin flavor was a winner for my...</td>\n",
              "      <td>dogs loved it</td>\n",
              "      <td>great for dogs with a</td>\n",
              "    </tr>\n",
              "    <tr>\n",
              "      <th>34</th>\n",
              "      <td>i am a big fan of green tea and i usually drin...</td>\n",
              "      <td>very bland</td>\n",
              "      <td>great tea</td>\n",
              "    </tr>\n",
              "    <tr>\n",
              "      <th>35</th>\n",
              "      <td>mae west supposedly said that too much of a go...</td>\n",
              "      <td>mae west was wrong</td>\n",
              "      <td>not bad</td>\n",
              "    </tr>\n",
              "    <tr>\n",
              "      <th>36</th>\n",
              "      <td>i really have not found a cheez it cracker tha...</td>\n",
              "      <td>another great cheez it product</td>\n",
              "      <td>not the best</td>\n",
              "    </tr>\n",
              "    <tr>\n",
              "      <th>37</th>\n",
              "      <td>this is a great tasting cereal it has a lastin...</td>\n",
              "      <td>great cereal not so good price</td>\n",
              "      <td>great</td>\n",
              "    </tr>\n",
              "    <tr>\n",
              "      <th>38</th>\n",
              "      <td>for the price this is one great cup of coffee ...</td>\n",
              "      <td>great cup of coffee</td>\n",
              "      <td>great coffee</td>\n",
              "    </tr>\n",
              "    <tr>\n",
              "      <th>39</th>\n",
              "      <td>this is the best cereal i like to use it as a ...</td>\n",
              "      <td>[UNK] cereal</td>\n",
              "      <td>great cereal</td>\n",
              "    </tr>\n",
              "    <tr>\n",
              "      <th>40</th>\n",
              "      <td>i was recommended this product by a relative o...</td>\n",
              "      <td>not as amazing as i anticipate</td>\n",
              "      <td>not the best</td>\n",
              "    </tr>\n",
              "    <tr>\n",
              "      <th>41</th>\n",
              "      <td>this was actually pretty good after working ou...</td>\n",
              "      <td>not bad at all</td>\n",
              "      <td>good stuff</td>\n",
              "    </tr>\n",
              "    <tr>\n",
              "      <th>42</th>\n",
              "      <td>i am very fond of this flavor and my local wal...</td>\n",
              "      <td>jello review</td>\n",
              "      <td>great coffee</td>\n",
              "    </tr>\n",
              "    <tr>\n",
              "      <th>43</th>\n",
              "      <td>this is such an enjoyable cup of tea just add ...</td>\n",
              "      <td>this is the best green tea i h</td>\n",
              "      <td>great tea</td>\n",
              "    </tr>\n",
              "    <tr>\n",
              "      <th>44</th>\n",
              "      <td>these make the other peanut butter cups taste ...</td>\n",
              "      <td>delicious these did not last l</td>\n",
              "      <td>yummy</td>\n",
              "    </tr>\n",
              "    <tr>\n",
              "      <th>45</th>\n",
              "      <td>i got this in a variety back and this flavor w...</td>\n",
              "      <td>did not care for it</td>\n",
              "      <td>chocolate</td>\n",
              "    </tr>\n",
              "    <tr>\n",
              "      <th>46</th>\n",
              "      <td>we first discovered these pouches at our local...</td>\n",
              "      <td>great for the picky eater</td>\n",
              "      <td>great product</td>\n",
              "    </tr>\n",
              "    <tr>\n",
              "      <th>47</th>\n",
              "      <td>these little puppies are so good my wife and i...</td>\n",
              "      <td>delish</td>\n",
              "      <td>my dog loves these</td>\n",
              "    </tr>\n",
              "    <tr>\n",
              "      <th>48</th>\n",
              "      <td>just got my shipment it was for the regular [U...</td>\n",
              "      <td>not watermelon [UNK]</td>\n",
              "      <td>great product</td>\n",
              "    </tr>\n",
              "    <tr>\n",
              "      <th>49</th>\n",
              "      <td>i purchased this formula but was worried after...</td>\n",
              "      <td>if you are worried about [UNK]</td>\n",
              "      <td>not bad</td>\n",
              "    </tr>\n",
              "  </tbody>\n",
              "</table>\n",
              "</div>"
            ],
            "text/plain": [
              "                                               Review  ...                     Predicted_summary\n",
              "0   finally cat food that my cats are willing to c...  ...                              cat food\n",
              "1   these are really delicious cookies and they ar...  ...                         great cookies\n",
              "2   i cannot believe you guys jacked up the price ...  ...                                 great\n",
              "3   i was starting to think that snyder and i just...  ...                                 yummy\n",
              "4   this bar reminds me of the semi sweet chocolat...  ...            tasty but not as chocolate\n",
              "5   the cashew cookie is my favorite flavor of the...  ...                             delicious\n",
              "6   i am happy with this purchase shiitake mushroo...  ...                         great product\n",
              "7   i love these low calorie snacks i count calori...  ...                           great snack\n",
              "8   worst purchase i ever bought off of amazon and...  ...                              horrible\n",
              "9   i grew up in england moved here when i was 19 ...  ...                              best tea\n",
              "10  disclaimer i am reviewing a package that i rec...  ...             not as good as i expected\n",
              "11  i make a [UNK] pitcher of this tea for my fami...  ...                             great tea\n",
              "12  lovely aroma good for sore throat or calming s...  ...                         love this tea\n",
              "13  even our vet could not cure the red bumps on m...  ...          great food for a great price\n",
              "14  i got my influenster voxbox with awesome produ...  ...                             great bar\n",
              "15  nice boost of energy when you need it and the ...  ...               great taste great value\n",
              "16  i bought these at a specialty store before ord...  ...                   not what i expected\n",
              "17  while most liquid is packaged by volume this i...  ...                 good but not the best\n",
              "18  i have tried out only two forms of chia seeds ...  ...                           great seeds\n",
              "19  seriously get this marinade for all yer pork n...  ...                        great marinade\n",
              "20  i lived in germany for almost 20 years i absol...  ...                           great candy\n",
              "21  this is the ultimate puppy food the kibbles ar...  ...             great product great price\n",
              "22  this is the most amazing dressing in la county...  ...                                 great\n",
              "23  our standard schnauzer wants that peanut butte...  ...                     my dog loves them\n",
              "24  she loves the beef and also the chicken in the...  ...                    great for training\n",
              "25  first off i hate to trash a product that is no...  ...   great little pricey but not so much\n",
              "26  this may not be the most popular hot beverage ...  ...                        the best drink\n",
              "27  this extract is excellent and it shipped reall...  ...                         great product\n",
              "28  i bought a box of the mango macadamia kind bar...  ...                         great tasting\n",
              "29  very useful culinary ingredient provides tartn...  ...                            lemon lime\n",
              "30  this is a great tasting and easy to prepare ma...  ...                           great taste\n",
              "31  i was so looking forward to getting these what...  ...                                 awful\n",
              "32  i am mostly a water drinker but occasionally i...  ...                   not what i expected\n",
              "33  the grilled sirloin flavor was a winner for my...  ...                 great for dogs with a\n",
              "34  i am a big fan of green tea and i usually drin...  ...                             great tea\n",
              "35  mae west supposedly said that too much of a go...  ...                               not bad\n",
              "36  i really have not found a cheez it cracker tha...  ...                          not the best\n",
              "37  this is a great tasting cereal it has a lastin...  ...                                 great\n",
              "38  for the price this is one great cup of coffee ...  ...                          great coffee\n",
              "39  this is the best cereal i like to use it as a ...  ...                          great cereal\n",
              "40  i was recommended this product by a relative o...  ...                          not the best\n",
              "41  this was actually pretty good after working ou...  ...                            good stuff\n",
              "42  i am very fond of this flavor and my local wal...  ...                          great coffee\n",
              "43  this is such an enjoyable cup of tea just add ...  ...                             great tea\n",
              "44  these make the other peanut butter cups taste ...  ...                                 yummy\n",
              "45  i got this in a variety back and this flavor w...  ...                             chocolate\n",
              "46  we first discovered these pouches at our local...  ...                         great product\n",
              "47  these little puppies are so good my wife and i...  ...                    my dog loves these\n",
              "48  just got my shipment it was for the regular [U...  ...                         great product\n",
              "49  i purchased this formula but was worried after...  ...                               not bad\n",
              "\n",
              "[50 rows x 3 columns]"
            ]
          },
          "metadata": {
            "tags": []
          },
          "execution_count": 21
        }
      ]
    },
    {
      "cell_type": "code",
      "metadata": {
        "id": "sZPnKCwKzHTg"
      },
      "source": [
        "rouge = Rouge()"
      ],
      "execution_count": 19,
      "outputs": []
    },
    {
      "cell_type": "markdown",
      "metadata": {
        "id": "HVDKIdUz8WfO"
      },
      "source": [
        "Se proporcionan resultados para dos tipos de métricas:\n",
        "- ***rouge-n*** , evalúa los resultados usando n-gramas\n",
        "- ***rouge-l***, evalúa en base a la secuencia más larga entre la referencia y el modelo\n",
        "\n",
        "Además en cada tipo de métrica, se ealuá el modelo usando:\n",
        "- $presición = \\frac{n-gramas_{comunes} }{ n-gramas_{predicción}}$\n",
        "\n",
        "\n",
        "- $recall = \\frac{n-gramas_{comunes} }{ n-gramas_{referencia}}$\n",
        "\n",
        "- $f1_{score} = 2*\\frac{precision*recall }{precision+recall}$"
      ]
    },
    {
      "cell_type": "code",
      "metadata": {
        "id": "c_5wwqyf64dt",
        "outputId": "777d731d-0e22-41ae-f30a-2e08d0814114",
        "colab": {
          "base_uri": "https://localhost:8080/"
        }
      },
      "source": [
        "model_out = Resultados['Predicted_summary']\n",
        "reference = Resultados['Original_summary']\n",
        "\n",
        "rouge.get_scores(model_out, reference)[0:5]"
      ],
      "execution_count": 61,
      "outputs": [
        {
          "output_type": "execute_result",
          "data": {
            "text/plain": [
              "[{'rouge-1': {'f': 0.0, 'p': 0.0, 'r': 0.0},\n",
              "  'rouge-2': {'f': 0.0, 'p': 0.0, 'r': 0.0},\n",
              "  'rouge-l': {'f': 0.0, 'p': 0.0, 'r': 0.0}},\n",
              " {'rouge-1': {'f': 0.0, 'p': 0.0, 'r': 0.0},\n",
              "  'rouge-2': {'f': 0.0, 'p': 0.0, 'r': 0.0},\n",
              "  'rouge-l': {'f': 0.0, 'p': 0.0, 'r': 0.0}},\n",
              " {'rouge-1': {'f': 0.0, 'p': 0.0, 'r': 0.0},\n",
              "  'rouge-2': {'f': 0.0, 'p': 0.0, 'r': 0.0},\n",
              "  'rouge-l': {'f': 0.0, 'p': 0.0, 'r': 0.0}},\n",
              " {'rouge-1': {'f': 0.0, 'p': 0.0, 'r': 0.0},\n",
              "  'rouge-2': {'f': 0.0, 'p': 0.0, 'r': 0.0},\n",
              "  'rouge-l': {'f': 0.0, 'p': 0.0, 'r': 0.0}},\n",
              " {'rouge-1': {'f': 0.0, 'p': 0.0, 'r': 0.0},\n",
              "  'rouge-2': {'f': 0.0, 'p': 0.0, 'r': 0.0},\n",
              "  'rouge-l': {'f': 0.0, 'p': 0.0, 'r': 0.0}}]"
            ]
          },
          "metadata": {
            "tags": []
          },
          "execution_count": 61
        }
      ]
    },
    {
      "cell_type": "code",
      "metadata": {
        "id": "Rx7PYYVHy28u",
        "outputId": "d270f74f-ba94-4f24-834a-7f7d9f20068f",
        "colab": {
          "base_uri": "https://localhost:8080/"
        }
      },
      "source": [
        "index = 43\n",
        "\n",
        "print('Referencia: ', reference[index])\n",
        "print('Resumen modelo:', model_out[index],'\\n')\n",
        "\n",
        "print('Precisión: ', rouge.get_scores(model_out, reference)[index]['rouge-1']['p'])\n",
        "print('Recall: ', rouge.get_scores(model_out, reference)[index]['rouge-1']['r'])\n",
        "print('F1 score: ', rouge.get_scores(model_out, reference)[index]['rouge-1']['f'])"
      ],
      "execution_count": 41,
      "outputs": [
        {
          "output_type": "stream",
          "text": [
            "Referencia:  this is the best green tea i h\n",
            "Resumen modelo:  great tea \n",
            "\n",
            "Precisión:  0.5\n",
            "Recall:  0.125\n",
            "F1 score:  0.19999999680000002\n"
          ],
          "name": "stdout"
        }
      ]
    },
    {
      "cell_type": "code",
      "metadata": {
        "id": "gXXUPz8r4Syi"
      },
      "source": [
        "metrica = 'rouge-1'   # rouge-2  rouge-l\n",
        "\n",
        "evaluacion_dict = {index: i[metrica]for index, i in zip(range(len(Resultados)), rouge.get_scores(model_out, reference))}\n",
        "evaluation_df = pd.DataFrame.from_dict(evaluacion_dict, orient='index')\n",
        "Resultados = pd.concat([Resultados, evaluation_df],axis=1)"
      ],
      "execution_count": 85,
      "outputs": []
    },
    {
      "cell_type": "code",
      "metadata": {
        "id": "Xhc34A6xFwAt",
        "outputId": "0975ec25-c137-4d02-e145-2af14992c26c",
        "colab": {
          "base_uri": "https://localhost:8080/",
          "height": 1000
        }
      },
      "source": [
        "Resultados.sort_values(by=['r'], ascending=False)"
      ],
      "execution_count": 88,
      "outputs": [
        {
          "output_type": "execute_result",
          "data": {
            "text/html": [
              "<div>\n",
              "<style scoped>\n",
              "    .dataframe tbody tr th:only-of-type {\n",
              "        vertical-align: middle;\n",
              "    }\n",
              "\n",
              "    .dataframe tbody tr th {\n",
              "        vertical-align: top;\n",
              "    }\n",
              "\n",
              "    .dataframe thead th {\n",
              "        text-align: right;\n",
              "    }\n",
              "</style>\n",
              "<table border=\"1\" class=\"dataframe\">\n",
              "  <thead>\n",
              "    <tr style=\"text-align: right;\">\n",
              "      <th></th>\n",
              "      <th>Review</th>\n",
              "      <th>Original_summary</th>\n",
              "      <th>Predicted_summary</th>\n",
              "      <th>r</th>\n",
              "      <th>p</th>\n",
              "      <th>f</th>\n",
              "    </tr>\n",
              "  </thead>\n",
              "  <tbody>\n",
              "    <tr>\n",
              "      <th>38</th>\n",
              "      <td>for the price this is one great cup of coffee ...</td>\n",
              "      <td>great cup of coffee</td>\n",
              "      <td>great coffee</td>\n",
              "      <td>0.500000</td>\n",
              "      <td>1.000000</td>\n",
              "      <td>0.666667</td>\n",
              "    </tr>\n",
              "    <tr>\n",
              "      <th>30</th>\n",
              "      <td>this is a great tasting and easy to prepare ma...</td>\n",
              "      <td>great tasting</td>\n",
              "      <td>great taste</td>\n",
              "      <td>0.500000</td>\n",
              "      <td>0.500000</td>\n",
              "      <td>0.500000</td>\n",
              "    </tr>\n",
              "    <tr>\n",
              "      <th>19</th>\n",
              "      <td>seriously get this marinade for all yer pork n...</td>\n",
              "      <td>amazing marinade</td>\n",
              "      <td>great marinade</td>\n",
              "      <td>0.500000</td>\n",
              "      <td>0.500000</td>\n",
              "      <td>0.500000</td>\n",
              "    </tr>\n",
              "    <tr>\n",
              "      <th>25</th>\n",
              "      <td>first off i hate to trash a product that is no...</td>\n",
              "      <td>good for [UNK] not so much for</td>\n",
              "      <td>great little pricey but not so much</td>\n",
              "      <td>0.500000</td>\n",
              "      <td>0.428571</td>\n",
              "      <td>0.461538</td>\n",
              "    </tr>\n",
              "    <tr>\n",
              "      <th>39</th>\n",
              "      <td>this is the best cereal i like to use it as a ...</td>\n",
              "      <td>[UNK] cereal</td>\n",
              "      <td>great cereal</td>\n",
              "      <td>0.500000</td>\n",
              "      <td>0.500000</td>\n",
              "      <td>0.500000</td>\n",
              "    </tr>\n",
              "    <tr>\n",
              "      <th>33</th>\n",
              "      <td>the grilled sirloin flavor was a winner for my...</td>\n",
              "      <td>dogs loved it</td>\n",
              "      <td>great for dogs with a</td>\n",
              "      <td>0.333333</td>\n",
              "      <td>0.200000</td>\n",
              "      <td>0.250000</td>\n",
              "    </tr>\n",
              "    <tr>\n",
              "      <th>46</th>\n",
              "      <td>we first discovered these pouches at our local...</td>\n",
              "      <td>great for the picky eater</td>\n",
              "      <td>great product</td>\n",
              "      <td>0.200000</td>\n",
              "      <td>0.500000</td>\n",
              "      <td>0.285714</td>\n",
              "    </tr>\n",
              "    <tr>\n",
              "      <th>40</th>\n",
              "      <td>i was recommended this product by a relative o...</td>\n",
              "      <td>not as amazing as i anticipate</td>\n",
              "      <td>not the best</td>\n",
              "      <td>0.200000</td>\n",
              "      <td>0.333333</td>\n",
              "      <td>0.250000</td>\n",
              "    </tr>\n",
              "    <tr>\n",
              "      <th>23</th>\n",
              "      <td>our standard schnauzer wants that peanut butte...</td>\n",
              "      <td>the pups seem to like them</td>\n",
              "      <td>my dog loves them</td>\n",
              "      <td>0.166667</td>\n",
              "      <td>0.250000</td>\n",
              "      <td>0.200000</td>\n",
              "    </tr>\n",
              "    <tr>\n",
              "      <th>37</th>\n",
              "      <td>this is a great tasting cereal it has a lastin...</td>\n",
              "      <td>great cereal not so good price</td>\n",
              "      <td>great</td>\n",
              "      <td>0.166667</td>\n",
              "      <td>1.000000</td>\n",
              "      <td>0.285714</td>\n",
              "    </tr>\n",
              "    <tr>\n",
              "      <th>9</th>\n",
              "      <td>i grew up in england moved here when i was 19 ...</td>\n",
              "      <td>pg tips is the only tea for me</td>\n",
              "      <td>best tea</td>\n",
              "      <td>0.125000</td>\n",
              "      <td>0.500000</td>\n",
              "      <td>0.200000</td>\n",
              "    </tr>\n",
              "    <tr>\n",
              "      <th>43</th>\n",
              "      <td>this is such an enjoyable cup of tea just add ...</td>\n",
              "      <td>this is the best green tea i h</td>\n",
              "      <td>great tea</td>\n",
              "      <td>0.125000</td>\n",
              "      <td>0.500000</td>\n",
              "      <td>0.200000</td>\n",
              "    </tr>\n",
              "    <tr>\n",
              "      <th>14</th>\n",
              "      <td>i got my influenster voxbox with awesome produ...</td>\n",
              "      <td>quaker soft baked cereal banan</td>\n",
              "      <td>great bar</td>\n",
              "      <td>0.000000</td>\n",
              "      <td>0.000000</td>\n",
              "      <td>0.000000</td>\n",
              "    </tr>\n",
              "    <tr>\n",
              "      <th>6</th>\n",
              "      <td>i am happy with this purchase shiitake mushroo...</td>\n",
              "      <td>[UNK]</td>\n",
              "      <td>great product</td>\n",
              "      <td>0.000000</td>\n",
              "      <td>0.000000</td>\n",
              "      <td>0.000000</td>\n",
              "    </tr>\n",
              "    <tr>\n",
              "      <th>7</th>\n",
              "      <td>i love these low calorie snacks i count calori...</td>\n",
              "      <td>delicious</td>\n",
              "      <td>great snack</td>\n",
              "      <td>0.000000</td>\n",
              "      <td>0.000000</td>\n",
              "      <td>0.000000</td>\n",
              "    </tr>\n",
              "    <tr>\n",
              "      <th>8</th>\n",
              "      <td>worst purchase i ever bought off of amazon and...</td>\n",
              "      <td>smelled like [UNK]</td>\n",
              "      <td>horrible</td>\n",
              "      <td>0.000000</td>\n",
              "      <td>0.000000</td>\n",
              "      <td>0.000000</td>\n",
              "    </tr>\n",
              "    <tr>\n",
              "      <th>10</th>\n",
              "      <td>disclaimer i am reviewing a package that i rec...</td>\n",
              "      <td>ok</td>\n",
              "      <td>not as good as i expected</td>\n",
              "      <td>0.000000</td>\n",
              "      <td>0.000000</td>\n",
              "      <td>0.000000</td>\n",
              "    </tr>\n",
              "    <tr>\n",
              "      <th>11</th>\n",
              "      <td>i make a [UNK] pitcher of this tea for my fami...</td>\n",
              "      <td>directions for a pitcher</td>\n",
              "      <td>great tea</td>\n",
              "      <td>0.000000</td>\n",
              "      <td>0.000000</td>\n",
              "      <td>0.000000</td>\n",
              "    </tr>\n",
              "    <tr>\n",
              "      <th>13</th>\n",
              "      <td>even our vet could not cure the red bumps on m...</td>\n",
              "      <td>mostly cured the red bumps on</td>\n",
              "      <td>great food for a great price</td>\n",
              "      <td>0.000000</td>\n",
              "      <td>0.000000</td>\n",
              "      <td>0.000000</td>\n",
              "    </tr>\n",
              "    <tr>\n",
              "      <th>1</th>\n",
              "      <td>these are really delicious cookies and they ar...</td>\n",
              "      <td>yummy</td>\n",
              "      <td>great cookies</td>\n",
              "      <td>0.000000</td>\n",
              "      <td>0.000000</td>\n",
              "      <td>0.000000</td>\n",
              "    </tr>\n",
              "    <tr>\n",
              "      <th>20</th>\n",
              "      <td>i lived in germany for almost 20 years i absol...</td>\n",
              "      <td>the greatest</td>\n",
              "      <td>great candy</td>\n",
              "      <td>0.000000</td>\n",
              "      <td>0.000000</td>\n",
              "      <td>0.000000</td>\n",
              "    </tr>\n",
              "    <tr>\n",
              "      <th>15</th>\n",
              "      <td>nice boost of energy when you need it and the ...</td>\n",
              "      <td>red rain energy shot</td>\n",
              "      <td>great taste great value</td>\n",
              "      <td>0.000000</td>\n",
              "      <td>0.000000</td>\n",
              "      <td>0.000000</td>\n",
              "    </tr>\n",
              "    <tr>\n",
              "      <th>16</th>\n",
              "      <td>i bought these at a specialty store before ord...</td>\n",
              "      <td>these contain milk</td>\n",
              "      <td>not what i expected</td>\n",
              "      <td>0.000000</td>\n",
              "      <td>0.000000</td>\n",
              "      <td>0.000000</td>\n",
              "    </tr>\n",
              "    <tr>\n",
              "      <th>17</th>\n",
              "      <td>while most liquid is packaged by volume this i...</td>\n",
              "      <td>package size is misleading</td>\n",
              "      <td>good but not the best</td>\n",
              "      <td>0.000000</td>\n",
              "      <td>0.000000</td>\n",
              "      <td>0.000000</td>\n",
              "    </tr>\n",
              "    <tr>\n",
              "      <th>18</th>\n",
              "      <td>i have tried out only two forms of chia seeds ...</td>\n",
              "      <td>a texture</td>\n",
              "      <td>great seeds</td>\n",
              "      <td>0.000000</td>\n",
              "      <td>0.000000</td>\n",
              "      <td>0.000000</td>\n",
              "    </tr>\n",
              "    <tr>\n",
              "      <th>4</th>\n",
              "      <td>this bar reminds me of the semi sweet chocolat...</td>\n",
              "      <td>mild and semi sweet</td>\n",
              "      <td>tasty but not as chocolate</td>\n",
              "      <td>0.000000</td>\n",
              "      <td>0.000000</td>\n",
              "      <td>0.000000</td>\n",
              "    </tr>\n",
              "    <tr>\n",
              "      <th>21</th>\n",
              "      <td>this is the ultimate puppy food the kibbles ar...</td>\n",
              "      <td>eukanuba puppy small breed dog</td>\n",
              "      <td>great product great price</td>\n",
              "      <td>0.000000</td>\n",
              "      <td>0.000000</td>\n",
              "      <td>0.000000</td>\n",
              "    </tr>\n",
              "    <tr>\n",
              "      <th>22</th>\n",
              "      <td>this is the most amazing dressing in la county...</td>\n",
              "      <td>hard to find in stores</td>\n",
              "      <td>great</td>\n",
              "      <td>0.000000</td>\n",
              "      <td>0.000000</td>\n",
              "      <td>0.000000</td>\n",
              "    </tr>\n",
              "    <tr>\n",
              "      <th>24</th>\n",
              "      <td>she loves the beef and also the chicken in the...</td>\n",
              "      <td>our dog has a dingo habit</td>\n",
              "      <td>great for training</td>\n",
              "      <td>0.000000</td>\n",
              "      <td>0.000000</td>\n",
              "      <td>0.000000</td>\n",
              "    </tr>\n",
              "    <tr>\n",
              "      <th>5</th>\n",
              "      <td>the cashew cookie is my favorite flavor of the...</td>\n",
              "      <td>very tasty</td>\n",
              "      <td>delicious</td>\n",
              "      <td>0.000000</td>\n",
              "      <td>0.000000</td>\n",
              "      <td>0.000000</td>\n",
              "    </tr>\n",
              "    <tr>\n",
              "      <th>28</th>\n",
              "      <td>i bought a box of the mango macadamia kind bar...</td>\n",
              "      <td>the best gluten free bars</td>\n",
              "      <td>great tasting</td>\n",
              "      <td>0.000000</td>\n",
              "      <td>0.000000</td>\n",
              "      <td>0.000000</td>\n",
              "    </tr>\n",
              "    <tr>\n",
              "      <th>3</th>\n",
              "      <td>i was starting to think that snyder and i just...</td>\n",
              "      <td>snyder s best flavor</td>\n",
              "      <td>yummy</td>\n",
              "      <td>0.000000</td>\n",
              "      <td>0.000000</td>\n",
              "      <td>0.000000</td>\n",
              "    </tr>\n",
              "    <tr>\n",
              "      <th>34</th>\n",
              "      <td>i am a big fan of green tea and i usually drin...</td>\n",
              "      <td>very bland</td>\n",
              "      <td>great tea</td>\n",
              "      <td>0.000000</td>\n",
              "      <td>0.000000</td>\n",
              "      <td>0.000000</td>\n",
              "    </tr>\n",
              "    <tr>\n",
              "      <th>45</th>\n",
              "      <td>i got this in a variety back and this flavor w...</td>\n",
              "      <td>did not care for it</td>\n",
              "      <td>chocolate</td>\n",
              "      <td>0.000000</td>\n",
              "      <td>0.000000</td>\n",
              "      <td>0.000000</td>\n",
              "    </tr>\n",
              "    <tr>\n",
              "      <th>29</th>\n",
              "      <td>very useful culinary ingredient provides tartn...</td>\n",
              "      <td>good stuff</td>\n",
              "      <td>lemon lime</td>\n",
              "      <td>0.000000</td>\n",
              "      <td>0.000000</td>\n",
              "      <td>0.000000</td>\n",
              "    </tr>\n",
              "    <tr>\n",
              "      <th>48</th>\n",
              "      <td>just got my shipment it was for the regular [U...</td>\n",
              "      <td>not watermelon [UNK]</td>\n",
              "      <td>great product</td>\n",
              "      <td>0.000000</td>\n",
              "      <td>0.000000</td>\n",
              "      <td>0.000000</td>\n",
              "    </tr>\n",
              "    <tr>\n",
              "      <th>31</th>\n",
              "      <td>i was so looking forward to getting these what...</td>\n",
              "      <td>silver lake rum ball gourmet</td>\n",
              "      <td>awful</td>\n",
              "      <td>0.000000</td>\n",
              "      <td>0.000000</td>\n",
              "      <td>0.000000</td>\n",
              "    </tr>\n",
              "    <tr>\n",
              "      <th>32</th>\n",
              "      <td>i am mostly a water drinker but occasionally i...</td>\n",
              "      <td>pleasant taste only 10 calorie</td>\n",
              "      <td>not what i expected</td>\n",
              "      <td>0.000000</td>\n",
              "      <td>0.000000</td>\n",
              "      <td>0.000000</td>\n",
              "    </tr>\n",
              "    <tr>\n",
              "      <th>47</th>\n",
              "      <td>these little puppies are so good my wife and i...</td>\n",
              "      <td>delish</td>\n",
              "      <td>my dog loves these</td>\n",
              "      <td>0.000000</td>\n",
              "      <td>0.000000</td>\n",
              "      <td>0.000000</td>\n",
              "    </tr>\n",
              "    <tr>\n",
              "      <th>36</th>\n",
              "      <td>i really have not found a cheez it cracker tha...</td>\n",
              "      <td>another great cheez it product</td>\n",
              "      <td>not the best</td>\n",
              "      <td>0.000000</td>\n",
              "      <td>0.000000</td>\n",
              "      <td>0.000000</td>\n",
              "    </tr>\n",
              "    <tr>\n",
              "      <th>35</th>\n",
              "      <td>mae west supposedly said that too much of a go...</td>\n",
              "      <td>mae west was wrong</td>\n",
              "      <td>not bad</td>\n",
              "      <td>0.000000</td>\n",
              "      <td>0.000000</td>\n",
              "      <td>0.000000</td>\n",
              "    </tr>\n",
              "    <tr>\n",
              "      <th>2</th>\n",
              "      <td>i cannot believe you guys jacked up the price ...</td>\n",
              "      <td>disappointed</td>\n",
              "      <td>great</td>\n",
              "      <td>0.000000</td>\n",
              "      <td>0.000000</td>\n",
              "      <td>0.000000</td>\n",
              "    </tr>\n",
              "    <tr>\n",
              "      <th>44</th>\n",
              "      <td>these make the other peanut butter cups taste ...</td>\n",
              "      <td>delicious these did not last l</td>\n",
              "      <td>yummy</td>\n",
              "      <td>0.000000</td>\n",
              "      <td>0.000000</td>\n",
              "      <td>0.000000</td>\n",
              "    </tr>\n",
              "    <tr>\n",
              "      <th>27</th>\n",
              "      <td>this extract is excellent and it shipped reall...</td>\n",
              "      <td>aromatic delicious and delight</td>\n",
              "      <td>great product</td>\n",
              "      <td>0.000000</td>\n",
              "      <td>0.000000</td>\n",
              "      <td>0.000000</td>\n",
              "    </tr>\n",
              "    <tr>\n",
              "      <th>41</th>\n",
              "      <td>this was actually pretty good after working ou...</td>\n",
              "      <td>not bad at all</td>\n",
              "      <td>good stuff</td>\n",
              "      <td>0.000000</td>\n",
              "      <td>0.000000</td>\n",
              "      <td>0.000000</td>\n",
              "    </tr>\n",
              "    <tr>\n",
              "      <th>42</th>\n",
              "      <td>i am very fond of this flavor and my local wal...</td>\n",
              "      <td>jello review</td>\n",
              "      <td>great coffee</td>\n",
              "      <td>0.000000</td>\n",
              "      <td>0.000000</td>\n",
              "      <td>0.000000</td>\n",
              "    </tr>\n",
              "    <tr>\n",
              "      <th>0</th>\n",
              "      <td>finally cat food that my cats are willing to c...</td>\n",
              "      <td>they like them they like them</td>\n",
              "      <td>cat food</td>\n",
              "      <td>0.000000</td>\n",
              "      <td>0.000000</td>\n",
              "      <td>0.000000</td>\n",
              "    </tr>\n",
              "    <tr>\n",
              "      <th>26</th>\n",
              "      <td>this may not be the most popular hot beverage ...</td>\n",
              "      <td>tangy and satisfying</td>\n",
              "      <td>the best drink</td>\n",
              "      <td>0.000000</td>\n",
              "      <td>0.000000</td>\n",
              "      <td>0.000000</td>\n",
              "    </tr>\n",
              "    <tr>\n",
              "      <th>12</th>\n",
              "      <td>lovely aroma good for sore throat or calming s...</td>\n",
              "      <td>wonderful</td>\n",
              "      <td>love this tea</td>\n",
              "      <td>0.000000</td>\n",
              "      <td>0.000000</td>\n",
              "      <td>0.000000</td>\n",
              "    </tr>\n",
              "    <tr>\n",
              "      <th>49</th>\n",
              "      <td>i purchased this formula but was worried after...</td>\n",
              "      <td>if you are worried about [UNK]</td>\n",
              "      <td>not bad</td>\n",
              "      <td>0.000000</td>\n",
              "      <td>0.000000</td>\n",
              "      <td>0.000000</td>\n",
              "    </tr>\n",
              "  </tbody>\n",
              "</table>\n",
              "</div>"
            ],
            "text/plain": [
              "                                               Review  ...         f\n",
              "38  for the price this is one great cup of coffee ...  ...  0.666667\n",
              "30  this is a great tasting and easy to prepare ma...  ...  0.500000\n",
              "19  seriously get this marinade for all yer pork n...  ...  0.500000\n",
              "25  first off i hate to trash a product that is no...  ...  0.461538\n",
              "39  this is the best cereal i like to use it as a ...  ...  0.500000\n",
              "33  the grilled sirloin flavor was a winner for my...  ...  0.250000\n",
              "46  we first discovered these pouches at our local...  ...  0.285714\n",
              "40  i was recommended this product by a relative o...  ...  0.250000\n",
              "23  our standard schnauzer wants that peanut butte...  ...  0.200000\n",
              "37  this is a great tasting cereal it has a lastin...  ...  0.285714\n",
              "9   i grew up in england moved here when i was 19 ...  ...  0.200000\n",
              "43  this is such an enjoyable cup of tea just add ...  ...  0.200000\n",
              "14  i got my influenster voxbox with awesome produ...  ...  0.000000\n",
              "6   i am happy with this purchase shiitake mushroo...  ...  0.000000\n",
              "7   i love these low calorie snacks i count calori...  ...  0.000000\n",
              "8   worst purchase i ever bought off of amazon and...  ...  0.000000\n",
              "10  disclaimer i am reviewing a package that i rec...  ...  0.000000\n",
              "11  i make a [UNK] pitcher of this tea for my fami...  ...  0.000000\n",
              "13  even our vet could not cure the red bumps on m...  ...  0.000000\n",
              "1   these are really delicious cookies and they ar...  ...  0.000000\n",
              "20  i lived in germany for almost 20 years i absol...  ...  0.000000\n",
              "15  nice boost of energy when you need it and the ...  ...  0.000000\n",
              "16  i bought these at a specialty store before ord...  ...  0.000000\n",
              "17  while most liquid is packaged by volume this i...  ...  0.000000\n",
              "18  i have tried out only two forms of chia seeds ...  ...  0.000000\n",
              "4   this bar reminds me of the semi sweet chocolat...  ...  0.000000\n",
              "21  this is the ultimate puppy food the kibbles ar...  ...  0.000000\n",
              "22  this is the most amazing dressing in la county...  ...  0.000000\n",
              "24  she loves the beef and also the chicken in the...  ...  0.000000\n",
              "5   the cashew cookie is my favorite flavor of the...  ...  0.000000\n",
              "28  i bought a box of the mango macadamia kind bar...  ...  0.000000\n",
              "3   i was starting to think that snyder and i just...  ...  0.000000\n",
              "34  i am a big fan of green tea and i usually drin...  ...  0.000000\n",
              "45  i got this in a variety back and this flavor w...  ...  0.000000\n",
              "29  very useful culinary ingredient provides tartn...  ...  0.000000\n",
              "48  just got my shipment it was for the regular [U...  ...  0.000000\n",
              "31  i was so looking forward to getting these what...  ...  0.000000\n",
              "32  i am mostly a water drinker but occasionally i...  ...  0.000000\n",
              "47  these little puppies are so good my wife and i...  ...  0.000000\n",
              "36  i really have not found a cheez it cracker tha...  ...  0.000000\n",
              "35  mae west supposedly said that too much of a go...  ...  0.000000\n",
              "2   i cannot believe you guys jacked up the price ...  ...  0.000000\n",
              "44  these make the other peanut butter cups taste ...  ...  0.000000\n",
              "27  this extract is excellent and it shipped reall...  ...  0.000000\n",
              "41  this was actually pretty good after working ou...  ...  0.000000\n",
              "42  i am very fond of this flavor and my local wal...  ...  0.000000\n",
              "0   finally cat food that my cats are willing to c...  ...  0.000000\n",
              "26  this may not be the most popular hot beverage ...  ...  0.000000\n",
              "12  lovely aroma good for sore throat or calming s...  ...  0.000000\n",
              "49  i purchased this formula but was worried after...  ...  0.000000\n",
              "\n",
              "[50 rows x 6 columns]"
            ]
          },
          "metadata": {
            "tags": []
          },
          "execution_count": 88
        }
      ]
    },
    {
      "cell_type": "markdown",
      "metadata": {
        "id": "JuxQsF-02cI3"
      },
      "source": [
        "ROUGE tiene la limitante de que es una evaluación sintáctica pero no semántica"
      ]
    }
  ]
}