{
  "nbformat": 4,
  "nbformat_minor": 0,
  "metadata": {
    "colab": {
      "name": "Resumen de  textos usando seq2seq_LSTM_w2v_oct 2021.ipynb",
      "provenance": [],
      "collapsed_sections": [],
      "toc_visible": true,
      "mount_file_id": "1wNVzhhqQqKHpLjnFQlQqmeEe-V1dmokp",
      "authorship_tag": "ABX9TyOKGdzGfUz8p95SdqnQTlND",
      "include_colab_link": true
    },
    "kernelspec": {
      "display_name": "Python 3",
      "name": "python3"
    }
  },
  "cells": [
    {
      "cell_type": "markdown",
      "metadata": {
        "id": "view-in-github",
        "colab_type": "text"
      },
      "source": [
        "<a href=\"https://colab.research.google.com/github/AnIsAsPe/RNN-Resumenes-de-Texto/blob/main/Notebooks/Resumen_de_textos_usando_seq2seq_LSTM_w2v_oct_2021.ipynb\" target=\"_parent\"><img src=\"https://colab.research.google.com/assets/colab-badge.svg\" alt=\"Open In Colab\"/></a>"
      ]
    },
    {
      "cell_type": "markdown",
      "metadata": {
        "id": "6LQFoeNUuQb9"
      },
      "source": [
        "# Cargar bibliotecas y Embeddings preentrenados y Capa de Atención"
      ]
    },
    {
      "cell_type": "code",
      "metadata": {
        "id": "_JLdjLXjXJSa",
        "colab": {
          "base_uri": "https://localhost:8080/"
        },
        "outputId": "f0ce1323-a800-42bf-f8e7-4710405060f7"
      },
      "source": [
        "# Usaremos la versión previa(2.5.0) de tensoflow para poder utilizar la capa de atención.\n",
        "!pip install tensorflow==2.5.0"
      ],
      "execution_count": null,
      "outputs": [
        {
          "output_type": "stream",
          "name": "stdout",
          "text": [
            "Requirement already satisfied: tensorflow==2.5.0 in /usr/local/lib/python3.7/dist-packages (2.5.0)\n",
            "Requirement already satisfied: opt-einsum~=3.3.0 in /usr/local/lib/python3.7/dist-packages (from tensorflow==2.5.0) (3.3.0)\n",
            "Requirement already satisfied: absl-py~=0.10 in /usr/local/lib/python3.7/dist-packages (from tensorflow==2.5.0) (0.12.0)\n",
            "Requirement already satisfied: six~=1.15.0 in /usr/local/lib/python3.7/dist-packages (from tensorflow==2.5.0) (1.15.0)\n",
            "Requirement already satisfied: gast==0.4.0 in /usr/local/lib/python3.7/dist-packages (from tensorflow==2.5.0) (0.4.0)\n",
            "Requirement already satisfied: tensorflow-estimator<2.6.0,>=2.5.0rc0 in /usr/local/lib/python3.7/dist-packages (from tensorflow==2.5.0) (2.5.0)\n",
            "Requirement already satisfied: flatbuffers~=1.12.0 in /usr/local/lib/python3.7/dist-packages (from tensorflow==2.5.0) (1.12)\n",
            "Requirement already satisfied: termcolor~=1.1.0 in /usr/local/lib/python3.7/dist-packages (from tensorflow==2.5.0) (1.1.0)\n",
            "Requirement already satisfied: wheel~=0.35 in /usr/local/lib/python3.7/dist-packages (from tensorflow==2.5.0) (0.37.0)\n",
            "Requirement already satisfied: h5py~=3.1.0 in /usr/local/lib/python3.7/dist-packages (from tensorflow==2.5.0) (3.1.0)\n",
            "Requirement already satisfied: google-pasta~=0.2 in /usr/local/lib/python3.7/dist-packages (from tensorflow==2.5.0) (0.2.0)\n",
            "Requirement already satisfied: protobuf>=3.9.2 in /usr/local/lib/python3.7/dist-packages (from tensorflow==2.5.0) (3.17.3)\n",
            "Requirement already satisfied: keras-preprocessing~=1.1.2 in /usr/local/lib/python3.7/dist-packages (from tensorflow==2.5.0) (1.1.2)\n",
            "Requirement already satisfied: tensorboard~=2.5 in /usr/local/lib/python3.7/dist-packages (from tensorflow==2.5.0) (2.6.0)\n",
            "Requirement already satisfied: typing-extensions~=3.7.4 in /usr/local/lib/python3.7/dist-packages (from tensorflow==2.5.0) (3.7.4.3)\n",
            "Requirement already satisfied: numpy~=1.19.2 in /usr/local/lib/python3.7/dist-packages (from tensorflow==2.5.0) (1.19.3)\n",
            "Requirement already satisfied: astunparse~=1.6.3 in /usr/local/lib/python3.7/dist-packages (from tensorflow==2.5.0) (1.6.3)\n",
            "Requirement already satisfied: keras-nightly~=2.5.0.dev in /usr/local/lib/python3.7/dist-packages (from tensorflow==2.5.0) (2.5.0.dev2021032900)\n",
            "Requirement already satisfied: grpcio~=1.34.0 in /usr/local/lib/python3.7/dist-packages (from tensorflow==2.5.0) (1.34.1)\n",
            "Requirement already satisfied: wrapt~=1.12.1 in /usr/local/lib/python3.7/dist-packages (from tensorflow==2.5.0) (1.12.1)\n",
            "Requirement already satisfied: cached-property in /usr/local/lib/python3.7/dist-packages (from h5py~=3.1.0->tensorflow==2.5.0) (1.5.2)\n",
            "Requirement already satisfied: markdown>=2.6.8 in /usr/local/lib/python3.7/dist-packages (from tensorboard~=2.5->tensorflow==2.5.0) (3.3.4)\n",
            "Requirement already satisfied: google-auth<2,>=1.6.3 in /usr/local/lib/python3.7/dist-packages (from tensorboard~=2.5->tensorflow==2.5.0) (1.35.0)\n",
            "Requirement already satisfied: tensorboard-plugin-wit>=1.6.0 in /usr/local/lib/python3.7/dist-packages (from tensorboard~=2.5->tensorflow==2.5.0) (1.8.0)\n",
            "Requirement already satisfied: setuptools>=41.0.0 in /usr/local/lib/python3.7/dist-packages (from tensorboard~=2.5->tensorflow==2.5.0) (57.4.0)\n",
            "Requirement already satisfied: tensorboard-data-server<0.7.0,>=0.6.0 in /usr/local/lib/python3.7/dist-packages (from tensorboard~=2.5->tensorflow==2.5.0) (0.6.1)\n",
            "Requirement already satisfied: werkzeug>=0.11.15 in /usr/local/lib/python3.7/dist-packages (from tensorboard~=2.5->tensorflow==2.5.0) (1.0.1)\n",
            "Requirement already satisfied: requests<3,>=2.21.0 in /usr/local/lib/python3.7/dist-packages (from tensorboard~=2.5->tensorflow==2.5.0) (2.23.0)\n",
            "Requirement already satisfied: google-auth-oauthlib<0.5,>=0.4.1 in /usr/local/lib/python3.7/dist-packages (from tensorboard~=2.5->tensorflow==2.5.0) (0.4.6)\n",
            "Requirement already satisfied: cachetools<5.0,>=2.0.0 in /usr/local/lib/python3.7/dist-packages (from google-auth<2,>=1.6.3->tensorboard~=2.5->tensorflow==2.5.0) (4.2.4)\n",
            "Requirement already satisfied: rsa<5,>=3.1.4 in /usr/local/lib/python3.7/dist-packages (from google-auth<2,>=1.6.3->tensorboard~=2.5->tensorflow==2.5.0) (4.7.2)\n",
            "Requirement already satisfied: pyasn1-modules>=0.2.1 in /usr/local/lib/python3.7/dist-packages (from google-auth<2,>=1.6.3->tensorboard~=2.5->tensorflow==2.5.0) (0.2.8)\n",
            "Requirement already satisfied: requests-oauthlib>=0.7.0 in /usr/local/lib/python3.7/dist-packages (from google-auth-oauthlib<0.5,>=0.4.1->tensorboard~=2.5->tensorflow==2.5.0) (1.3.0)\n",
            "Requirement already satisfied: importlib-metadata in /usr/local/lib/python3.7/dist-packages (from markdown>=2.6.8->tensorboard~=2.5->tensorflow==2.5.0) (4.8.1)\n",
            "Requirement already satisfied: pyasn1<0.5.0,>=0.4.6 in /usr/local/lib/python3.7/dist-packages (from pyasn1-modules>=0.2.1->google-auth<2,>=1.6.3->tensorboard~=2.5->tensorflow==2.5.0) (0.4.8)\n",
            "Requirement already satisfied: idna<3,>=2.5 in /usr/local/lib/python3.7/dist-packages (from requests<3,>=2.21.0->tensorboard~=2.5->tensorflow==2.5.0) (2.10)\n",
            "Requirement already satisfied: chardet<4,>=3.0.2 in /usr/local/lib/python3.7/dist-packages (from requests<3,>=2.21.0->tensorboard~=2.5->tensorflow==2.5.0) (3.0.4)\n",
            "Requirement already satisfied: certifi>=2017.4.17 in /usr/local/lib/python3.7/dist-packages (from requests<3,>=2.21.0->tensorboard~=2.5->tensorflow==2.5.0) (2021.5.30)\n",
            "Requirement already satisfied: urllib3!=1.25.0,!=1.25.1,<1.26,>=1.21.1 in /usr/local/lib/python3.7/dist-packages (from requests<3,>=2.21.0->tensorboard~=2.5->tensorflow==2.5.0) (1.24.3)\n",
            "Requirement already satisfied: oauthlib>=3.0.0 in /usr/local/lib/python3.7/dist-packages (from requests-oauthlib>=0.7.0->google-auth-oauthlib<0.5,>=0.4.1->tensorboard~=2.5->tensorflow==2.5.0) (3.1.1)\n",
            "Requirement already satisfied: zipp>=0.5 in /usr/local/lib/python3.7/dist-packages (from importlib-metadata->markdown>=2.6.8->tensorboard~=2.5->tensorflow==2.5.0) (3.6.0)\n"
          ]
        }
      ]
    },
    {
      "cell_type": "code",
      "metadata": {
        "id": "y_XTMS7ePYEv"
      },
      "source": [
        "# Mecanismo de Atención  \n",
        "!wget -c \"https://raw.githubusercontent.com/madhav727/abstractive-news-summary/master/attention.py\""
      ],
      "execution_count": null,
      "outputs": []
    },
    {
      "cell_type": "code",
      "metadata": {
        "colab": {
          "base_uri": "https://localhost:8080/"
        },
        "id": "ZQRhwth-WM5K",
        "outputId": "8e9e631e-0b70-4d91-9b19-fcfa3c717fcd"
      },
      "source": [
        "!pip install contractions"
      ],
      "execution_count": null,
      "outputs": [
        {
          "output_type": "stream",
          "name": "stdout",
          "text": [
            "Requirement already satisfied: contractions in /usr/local/lib/python3.7/dist-packages (0.0.52)\n",
            "Requirement already satisfied: textsearch>=0.0.21 in /usr/local/lib/python3.7/dist-packages (from contractions) (0.0.21)\n",
            "Requirement already satisfied: pyahocorasick in /usr/local/lib/python3.7/dist-packages (from textsearch>=0.0.21->contractions) (1.4.2)\n",
            "Requirement already satisfied: anyascii in /usr/local/lib/python3.7/dist-packages (from textsearch>=0.0.21->contractions) (0.3.0)\n"
          ]
        }
      ]
    },
    {
      "cell_type": "code",
      "metadata": {
        "id": "djCBZHoRxJhQ",
        "colab": {
          "base_uri": "https://localhost:8080/"
        },
        "outputId": "5105e2e3-6857-4ea9-fe95-9409e61323bc"
      },
      "source": [
        "!pip install Rouge"
      ],
      "execution_count": null,
      "outputs": [
        {
          "output_type": "stream",
          "name": "stdout",
          "text": [
            "Requirement already satisfied: Rouge in /usr/local/lib/python3.7/dist-packages (1.0.1)\n",
            "Requirement already satisfied: six in /usr/local/lib/python3.7/dist-packages (from Rouge) (1.15.0)\n"
          ]
        }
      ]
    },
    {
      "cell_type": "markdown",
      "metadata": {
        "id": "fsL1dYVMBWfa"
      },
      "source": [
        "<h3>Bibliotecas<h3>"
      ]
    },
    {
      "cell_type": "code",
      "metadata": {
        "id": "xG0HBaeNShpT"
      },
      "source": [
        "import pandas as pd\n",
        "import numpy as np\n",
        "\n",
        "import gensim\n",
        "#from gensim.models import KeyedVectors\n",
        "import contractions\n",
        "import re\n",
        "\n",
        "from sklearn.model_selection import train_test_split\n",
        "\n",
        "import tensorflow as tf\n",
        "from tensorflow import keras\n",
        "from tensorflow.data import Dataset  # Convierte conjuntos de datos de Python a tensores\n",
        "from tensorflow.keras.layers.experimental.preprocessing import TextVectorization  # Crear diccionario para convertir palabras a indices y vs.\n",
        "from tensorflow.keras.preprocessing.sequence import pad_sequences # Rellenar con cero los vectores de las secuencias hasta la longitud máxima\n",
        "from tensorflow.keras.layers import Embedding, Input\n",
        "from tensorflow.keras.layers import LSTM\n",
        "from tensorflow.keras.layers import Dense\n",
        "from tensorflow.keras.layers import Concatenate #, Attention\n",
        "from tensorflow.keras.layers import TimeDistributed\n",
        "from tensorflow.keras import backend as K\n",
        "from tensorflow.keras.models import Model\n",
        "from tensorflow.keras.callbacks import EarlyStopping\n",
        "\n",
        "from attention import AttentionLayer  # Mecanismo de atención tomado de: https://github.com/madhav727/abstractive-news-summary\n",
        "\n",
        "from rouge import Rouge   #Evaluación \n",
        "\n",
        "import matplotlib.pyplot as plt"
      ],
      "execution_count": null,
      "outputs": []
    },
    {
      "cell_type": "code",
      "metadata": {
        "colab": {
          "base_uri": "https://localhost:8080/",
          "height": 35
        },
        "id": "R3_GegBDrBhA",
        "outputId": "28599188-cc7a-44d6-9803-a97c55bd431f"
      },
      "source": [
        "tf.__version__"
      ],
      "execution_count": null,
      "outputs": [
        {
          "output_type": "execute_result",
          "data": {
            "application/vnd.google.colaboratory.intrinsic+json": {
              "type": "string"
            },
            "text/plain": [
              "'2.5.0'"
            ]
          },
          "metadata": {},
          "execution_count": 3
        }
      ]
    },
    {
      "cell_type": "markdown",
      "metadata": {
        "id": "iWhQtuDJRtBF"
      },
      "source": [
        "<h3>Modelo Preentrenado Word2Vec<h3>\n",
        "\n",
        "Utilizaremos los vectores word2vec preentrenados con el corpus GoogleNews.\n",
        "Cuenta con 3 millones vectores de 300 dimensiones correspondientes a 3  palabras y frases en inglés\n",
        "\n",
        "\n",
        "Referencia uso word embedings preentrenados con Keras en este [enlace](https://keras.io/examples/nlp/pretrained_word_embeddings/)\n"
      ]
    },
    {
      "cell_type": "code",
      "metadata": {
        "id": "8q1io1dwURnd"
      },
      "source": [
        "#!wget wget -c \"https://s3.amazonaws.com/dl4j-distribution/GoogleNews-vectors-negative300.bin.gz\"\n",
        "#!gunzip /content/GoogleNews-vectors-negative300.bin.gz -d /content/drive/MyDrive/Datos/Embeddings/"
      ],
      "execution_count": null,
      "outputs": []
    },
    {
      "cell_type": "code",
      "metadata": {
        "id": "lQ2NVan1FGVm"
      },
      "source": [
        "w2v = gensim.models.KeyedVectors.load_word2vec_format('/content/drive/MyDrive/Datos/Embeddings/GoogleNews-vectors-negative300.bin',\n",
        "                                                        binary=True)"
      ],
      "execution_count": null,
      "outputs": []
    },
    {
      "cell_type": "code",
      "metadata": {
        "colab": {
          "base_uri": "https://localhost:8080/"
        },
        "id": "yLNJNifkvKX2",
        "outputId": "a0972897-d1a4-4593-a4d3-7277961ac9b4"
      },
      "source": [
        "print('Palabras en el modelo w2v: {:,} '.format(len(w2v.vocab)))\n",
        "print('Dimensiones por embedding: ', w2v.vector_size)"
      ],
      "execution_count": null,
      "outputs": [
        {
          "output_type": "stream",
          "name": "stdout",
          "text": [
            "Palabras en el modelo w2v: 3,000,000 \n",
            "Dimensiones por embedding:  300\n"
          ]
        }
      ]
    },
    {
      "cell_type": "code",
      "metadata": {
        "colab": {
          "base_uri": "https://localhost:8080/"
        },
        "id": "1n95jAmADwxV",
        "outputId": "c8b2a82e-ce99-4b70-f587-59b4790c9187"
      },
      "source": [
        "%%time\n",
        "dic_embeddings_word2vec  = {palabra : w2v[palabra] for palabra in w2v.index2word}"
      ],
      "execution_count": null,
      "outputs": [
        {
          "output_type": "stream",
          "name": "stdout",
          "text": [
            "CPU times: user 6.01 s, sys: 214 ms, total: 6.23 s\n",
            "Wall time: 6.26 s\n"
          ]
        }
      ]
    },
    {
      "cell_type": "markdown",
      "metadata": {
        "id": "jx-QIvETrv9R"
      },
      "source": [
        "# Funciones"
      ]
    },
    {
      "cell_type": "code",
      "metadata": {
        "id": "AJYwX4CPOT4P"
      },
      "source": [
        "def preprocesar(texto):\n",
        "    #quitar contracciones\n",
        "    texto = contractions.fix(texto)\n",
        "\n",
        "    #convertir en minúsculas\n",
        "    texto = texto.lower()\n",
        "\n",
        "    # eliminar texto no deseado\n",
        "    texto = re.sub(r'<br />', ' ', texto)\n",
        "\n",
        "    #texto = re.sub(r'https?:\\/\\/.*[\\r\\n]*', '', texto, flags=re.MULTILINE)\n",
        "    #texto = re.sub(r'\\<a href', ' ', texto)\n",
        "    #texto = re.sub(r'&amp;', '', texto) \n",
        "    #texto = re.sub(r'[_\"\\-;%()|+&=*%.,!?:#$@\\[\\]/]', ' ', texto)\n",
        "    #texto = re.sub(r'\\'', ' ', texto)\n",
        "\n",
        "    #dejar solo letras y números\n",
        "    texto = re.sub('[^A-ZÜÖÄa-z0-9]+', ' ', texto)\n",
        "    return(texto)"
      ],
      "execution_count": null,
      "outputs": []
    },
    {
      "cell_type": "code",
      "metadata": {
        "id": "Vh0JGfHAnaef"
      },
      "source": [
        "def Vectorizer(serie_pd, max_tokens= 20000):\n",
        "    '''Crear diccionario para convertir palabras en índices '''\n",
        "    text_ds = Dataset.from_tensor_slices(serie_pd).batch(128)  # transforma la serie a tensores\n",
        "    vectorizer = TextVectorization(max_tokens = max_tokens  )  \n",
        "    vectorizer.adapt(text_ds)   #similar a fit \n",
        "    return  vectorizer"
      ],
      "execution_count": null,
      "outputs": []
    },
    {
      "cell_type": "code",
      "metadata": {
        "id": "J8D7JIWHxRRx"
      },
      "source": [
        "def vectores_palabras(dic_vocabulario, dic_embeddings_palabras, embedding_dim):\n",
        "    '''Obtiene una matriz donde cada renglón es el 'embedding vector' de una \n",
        "    palabra del vocabulario '''\n",
        "    num_tokens = len(dic_vocabulario.keys()) \n",
        "    encontradas = 0\n",
        "    # Inicializar matriz\n",
        "    embedding_matrix = np.zeros((num_tokens, embedding_dim))\n",
        "    for word, i in dic_vocabulario.items():\n",
        "        embedding_vector = dic_embeddings_palabras.get(word)\n",
        "        if embedding_vector is not None:\n",
        "            # los vectores no encontrados en el embeding se quedan en cero\n",
        "            embedding_matrix[i] = embedding_vector\n",
        "            encontradas += 1\n",
        "    proporcion = encontradas/len(dic_vocabulario) *100\n",
        "    print(\"{} palabras vectorizadas, que representan {:.1f}% de todas las palabras en el corpus\".format(encontradas, proporcion))\n",
        "    return embedding_matrix"
      ],
      "execution_count": null,
      "outputs": []
    },
    {
      "cell_type": "code",
      "metadata": {
        "id": "Xl7KTg-11Qwm"
      },
      "source": [
        "def crea_resumen(input_seq):\n",
        "    # Codifica el texto como vectores de entrada\n",
        "    e_out, e_h, e_c = encoder_model.predict(input_seq)\n",
        "\n",
        "    # Genera una secuencia vacía de longitud 1.\n",
        "    target_seq = np.zeros((1,1))\n",
        "\n",
        "    # Identifica la palabra 'tokenstart' como la primera palabra de la secuencia objetivo\n",
        "    target_seq[0, 0] =  palabras_indices_reseña_sum['tokenstart']\n",
        "\n",
        "    stop_condition = False\n",
        "    decoded_sentence = ''\n",
        "    while not stop_condition:\n",
        "        output_tokens, h, c = decoder_model.predict([target_seq] + [e_out, e_h, e_c])\n",
        "\n",
        "        # Escoje la próxima palabra para el resumen\n",
        "        sampled_token_index = np.argmax(output_tokens[0, -1, :])\n",
        "        sampled_token = indices_palabras_resumen[sampled_token_index]\n",
        "\n",
        "        # Mientras la palabra elejida no sea la final 'tokenend', anexa la palabra elejida al resumen\n",
        "        if sampled_token!='tokenend':\n",
        "            decoded_sentence += ' '+ sampled_token\n",
        "\n",
        "        # Sal del ciclo while si se alcanza la longitud máxima o si se encuentra 'tokenend'.\n",
        "        if (sampled_token == 'tokenend' or len(decoded_sentence.split()) >= (int(longitud_max_titulos-1))):\n",
        "                stop_condition = True\n",
        "\n",
        "        # Actualiza la secuencia objetivo (of length 1).\n",
        "        target_seq = np.zeros((1,1))\n",
        "        target_seq[0, 0] = sampled_token_index\n",
        "\n",
        "        # Actualiza los estados internos para predecir la siguiente palabra, igualandolos al estado del tiempo anterior\n",
        "        e_h, e_c = h, c\n",
        "\n",
        "    return decoded_sentence"
      ],
      "execution_count": null,
      "outputs": []
    },
    {
      "cell_type": "code",
      "metadata": {
        "id": "t_WXRz5z0i4M"
      },
      "source": [
        "def seq2summary(input_seq):\n",
        "    '''obtiene el resumen, partiendo de los inidices correspondiente a cada palabra'''\n",
        "    newString = ''\n",
        "    for i in input_seq:\n",
        "      if((i != 0 and i != palabras_indices_reseña_sum['tokenstart']) and i != palabras_indices_reseña_sum['tokenend']):\n",
        "        newString = newString + indices_palabras_resumen[i]+' '\n",
        "    return newString\n",
        "\n",
        "def seq2text(input_seq):\n",
        "    '''obtiene la reseña, partiendo de los inidices correspondiente a cada palabra'''\n",
        "    newString = ''\n",
        "    for i in input_seq:\n",
        "      if(i != 0):\n",
        "        newString = newString + indices_palabras_reseña[i]+' '\n",
        "    return newString"
      ],
      "execution_count": null,
      "outputs": []
    },
    {
      "cell_type": "markdown",
      "metadata": {
        "id": "lpJf2DilUGHq"
      },
      "source": [
        "# Lectura de Datos y preparación de secuencias"
      ]
    },
    {
      "cell_type": "code",
      "metadata": {
        "colab": {
          "base_uri": "https://localhost:8080/",
          "height": 222
        },
        "id": "ut_zPB1nSkh0",
        "outputId": "97bbf9bf-bf44-43b5-8431-8e8411eaaa6b"
      },
      "source": [
        "df = pd.read_csv('/content/drive/MyDrive/Datos/AmazonReviews/Reviews.csv',\n",
        "                 nrows=10000, usecols=['Summary', 'Text'], )\n",
        "df = df.drop_duplicates(keep='first', ignore_index = True).dropna()\n",
        "print(df.shape)\n",
        "df.head()"
      ],
      "execution_count": null,
      "outputs": [
        {
          "output_type": "stream",
          "name": "stdout",
          "text": [
            "(9519, 2)\n"
          ]
        },
        {
          "output_type": "execute_result",
          "data": {
            "text/html": [
              "<div>\n",
              "<style scoped>\n",
              "    .dataframe tbody tr th:only-of-type {\n",
              "        vertical-align: middle;\n",
              "    }\n",
              "\n",
              "    .dataframe tbody tr th {\n",
              "        vertical-align: top;\n",
              "    }\n",
              "\n",
              "    .dataframe thead th {\n",
              "        text-align: right;\n",
              "    }\n",
              "</style>\n",
              "<table border=\"1\" class=\"dataframe\">\n",
              "  <thead>\n",
              "    <tr style=\"text-align: right;\">\n",
              "      <th></th>\n",
              "      <th>Summary</th>\n",
              "      <th>Text</th>\n",
              "    </tr>\n",
              "  </thead>\n",
              "  <tbody>\n",
              "    <tr>\n",
              "      <th>0</th>\n",
              "      <td>Good Quality Dog Food</td>\n",
              "      <td>I have bought several of the Vitality canned d...</td>\n",
              "    </tr>\n",
              "    <tr>\n",
              "      <th>1</th>\n",
              "      <td>Not as Advertised</td>\n",
              "      <td>Product arrived labeled as Jumbo Salted Peanut...</td>\n",
              "    </tr>\n",
              "    <tr>\n",
              "      <th>2</th>\n",
              "      <td>\"Delight\" says it all</td>\n",
              "      <td>This is a confection that has been around a fe...</td>\n",
              "    </tr>\n",
              "    <tr>\n",
              "      <th>3</th>\n",
              "      <td>Cough Medicine</td>\n",
              "      <td>If you are looking for the secret ingredient i...</td>\n",
              "    </tr>\n",
              "    <tr>\n",
              "      <th>4</th>\n",
              "      <td>Great taffy</td>\n",
              "      <td>Great taffy at a great price.  There was a wid...</td>\n",
              "    </tr>\n",
              "  </tbody>\n",
              "</table>\n",
              "</div>"
            ],
            "text/plain": [
              "                 Summary                                               Text\n",
              "0  Good Quality Dog Food  I have bought several of the Vitality canned d...\n",
              "1      Not as Advertised  Product arrived labeled as Jumbo Salted Peanut...\n",
              "2  \"Delight\" says it all  This is a confection that has been around a fe...\n",
              "3         Cough Medicine  If you are looking for the secret ingredient i...\n",
              "4            Great taffy  Great taffy at a great price.  There was a wid..."
            ]
          },
          "metadata": {},
          "execution_count": 10
        }
      ]
    },
    {
      "cell_type": "code",
      "metadata": {
        "colab": {
          "base_uri": "https://localhost:8080/"
        },
        "id": "XGZd0Sr8XlW6",
        "outputId": "a5e6f1fc-280d-467b-803c-d325149b0c6b"
      },
      "source": [
        "np.random.seed = 15\n",
        "muestra = np.random.choice(range(len(df)), 5)\n",
        "for i in muestra:\n",
        "    print(\"\\nReview #\", i)\n",
        "    print(df.loc[i, 'Summary'])\n",
        "    print(df.loc[i,'Text'])    "
      ],
      "execution_count": null,
      "outputs": [
        {
          "output_type": "stream",
          "name": "stdout",
          "text": [
            "\n",
            "Review # 6521\n",
            "Makes strong Tea\n",
            "This tea makes extremely dark and strong tea on the 11oz setting which is my largest water capacity setting. I use the Keurig Iced Beverage Tumblers filled with ice and can't drink it straight.  My solution is to fill a gallon pitcher with ice, add some water, make two iced brew K-cups and pour it over the ice water for what I consider perfect iced tea.  You can forego the water for stronger tea, or add more water to dilute the tea depending on your mood or tastes.  This tea has excellent flavor, it's just too strong right out of the Keurig for my tastes and in my opinion requires diluting.  Excellent for making a pitcher of tea!\n",
            "\n",
            "Review # 671\n",
            "That's a spicy!\n",
            "If you've tried the conventional Kettle crinkle chip verson Salt and Peper, you CAN'T compare these to those!  These are easily some of the most spicy chips you will ever eat, but oompletely enjoyable.  You finish the bag and the indside is just coated with spices.  Great stuff.\n",
            "\n",
            "Review # 5309\n",
            "My dogs love them\n",
            "My dogs (and some other dogs I like to spoil too) just love these.  They are their special treats.\n",
            "\n",
            "Review # 5009\n",
            "Not terribly appealing\n",
            "These aren't as good as other bars of this type. My kids won't eat them, nor will my husband. They are all fond of the Nutrigrain variety, but I thought these would be a healthier alternative.\n",
            "\n",
            "Review # 5995\n",
            "Great product!\n",
            "This product is excellent! I HIGHLY recommend it... It has the balances of nutrients I was looking for but also non GMO... The product shipped quickly and is very high quality hemp seed oil. I'm extremely impressed! I can't wait to buy my next supply because of all the benefits! I've already noticed a difference in how my skin behaves, how my hair grows and the strength of my nails and I've only been taking it for about 10 days!! I don't experience nearly as much nausea with taking this supplement as I do with others (such as flaxseed oil) and I also don't have to worry about the presence of GMO substances in it either. Thanks again for selling such a wholesome product :)\n"
          ]
        }
      ]
    },
    {
      "cell_type": "markdown",
      "metadata": {
        "id": "R_d912qROTu8"
      },
      "source": [
        "## Preprocesamiento de texto\n",
        "- convertir a minuscualas\n",
        "- expandir contracciones\n",
        "- eliminar puntuación\n"
      ]
    },
    {
      "cell_type": "code",
      "metadata": {
        "colab": {
          "base_uri": "https://localhost:8080/"
        },
        "id": "asQVDjYcikM6",
        "outputId": "728ae3ec-17ec-46ae-d025-fc897c64899f"
      },
      "source": [
        "%%time\n",
        "for col in df.columns:\n",
        "  df[col] = df[col].apply(preprocesar)"
      ],
      "execution_count": null,
      "outputs": [
        {
          "output_type": "stream",
          "name": "stdout",
          "text": [
            "CPU times: user 620 ms, sys: 4.95 ms, total: 625 ms\n",
            "Wall time: 628 ms\n"
          ]
        }
      ]
    },
    {
      "cell_type": "markdown",
      "metadata": {
        "id": "XQ4UbOAKBGGy"
      },
      "source": [
        "## Agregar token que identifique el inicio y el final de la secuencia objetivo (resúmenes)."
      ]
    },
    {
      "cell_type": "code",
      "metadata": {
        "id": "J3vtPCtftfA-"
      },
      "source": [
        "df['Summary'] = df['Summary'].apply(lambda x : 'tokenstart '+ x + ' tokenend')  #Identificador de comienzo y término"
      ],
      "execution_count": null,
      "outputs": []
    },
    {
      "cell_type": "code",
      "metadata": {
        "colab": {
          "base_uri": "https://localhost:8080/"
        },
        "id": "2yaLN1douN-8",
        "outputId": "50ff5082-06ed-4761-b702-d5e95e40ab03"
      },
      "source": [
        "np.random.seed = 15\n",
        "muestra = np.random.choice(range(len(df)), 5)\n",
        "for i in muestra:\n",
        "    print(\"\\nReview #\", i)\n",
        "    print(df.loc[i, 'Summary'])\n",
        "    print(df.loc[i,'Text'])    "
      ],
      "execution_count": null,
      "outputs": [
        {
          "output_type": "stream",
          "name": "stdout",
          "text": [
            "\n",
            "Review # 3055\n",
            "tokenstart now this is pasta  tokenend\n",
            "i ordered this pasta because i thought my children would love the animal shapes since i am the only glutenfree in our home i try to find fun things for the entire family instead of making 2 separate meals when i served this at dinner the other night my husband s expression said it all he followed his surprised look with now this is pasta we could not believe how good this pasta was we are now hooked i can not wait to try some more of the orgran products \n",
            "\n",
            "Review # 1174\n",
            "tokenstart made in china tokenend\n",
            "i purchased these to give to children who come to my place of business when they arrived it says clearly on the back of the individual wrapper made in china no way i am giving these to children if they were manufactured in china following the whole poisoned pet food debacle the fact that these are made in china needs to be highlighted much more clearly \n",
            "\n",
            "Review # 6152\n",
            "tokenstart delicious tokenend\n",
            "this was a gift from my lil sis awesome great flavor can taste berries and rhubarb i love it most likely will order more \n",
            "\n",
            "Review # 6104\n",
            "tokenstart very good vanilla tokenend\n",
            "this is the second time that i ordered this product and i have been very happy with it \n",
            "\n",
            "Review # 3231\n",
            "tokenstart great taste for a great price tokenend\n",
            "my family really enjoys grove square hot cocoa milk chocolate and we keep a supply on hand the excellent price is what made us choose this brand but the taste is what makes us continually renew our order \n"
          ]
        }
      ]
    },
    {
      "cell_type": "markdown",
      "metadata": {
        "id": "quUr2-1Ol3-x"
      },
      "source": [
        "## Fijar longitud máxima de palabras en textos y resumenes"
      ]
    },
    {
      "cell_type": "code",
      "metadata": {
        "colab": {
          "base_uri": "https://localhost:8080/",
          "height": 315
        },
        "id": "WNnMhSzejxiE",
        "outputId": "8b42d4c1-0f1e-4979-a46d-344cd4470257"
      },
      "source": [
        "# ¿Cuantas palabras tienen cada texto?\n",
        "palabras_textos = df['Text'].apply(lambda x: len(str(x).split()))\n",
        "\n",
        "hist = palabras_textos.hist(bins=50)\n",
        "hist.set_xlabel(\"número de palabras\")\n",
        "hist.set_ylabel(\"textos\")\n",
        "plt.show()\n",
        "\n",
        "print('\\nEl 90% de los textos tiene {:,.0f} palabras'.format(palabras_textos.quantile(0.90)))"
      ],
      "execution_count": null,
      "outputs": [
        {
          "output_type": "display_data",
          "data": {
            "image/png": "[encoded data removed]",
            "text/plain": [
              "<Figure size 432x288 with 1 Axes>"
            ]
          },
          "metadata": {
            "needs_background": "light"
          }
        },
        {
          "output_type": "stream",
          "name": "stdout",
          "text": [
            "\n",
            "El 90% de los textos tiene 154 palabras\n"
          ]
        }
      ]
    },
    {
      "cell_type": "code",
      "metadata": {
        "colab": {
          "base_uri": "https://localhost:8080/",
          "height": 315
        },
        "id": "3iM2PsLhoe5C",
        "outputId": "ba9a9c50-ffdc-4cca-f405-bbad78a9f721"
      },
      "source": [
        "# ¿Cuantas palabras tienen cada titulo?\n",
        "palabras_titulos = df['Summary'].apply(lambda x: len(str(x).split()))\n",
        "\n",
        "hist = palabras_titulos.hist(bins=50)\n",
        "hist.set_xlabel(\"número de palabras\")\n",
        "hist.set_ylabel(\"titulos\")\n",
        "plt.show()\n",
        "\n",
        "print('\\nEl 97.5% de los titulos tiene {:,.0f} palabras'.format(palabras_titulos.quantile(0.975)))"
      ],
      "execution_count": null,
      "outputs": [
        {
          "output_type": "display_data",
          "data": {
            "image/png": "[encoded data removed]",
            "text/plain": [
              "<Figure size 432x288 with 1 Axes>"
            ]
          },
          "metadata": {
            "needs_background": "light"
          }
        },
        {
          "output_type": "stream",
          "name": "stdout",
          "text": [
            "\n",
            "El 97.5% de los titulos tiene 13 palabras\n"
          ]
        }
      ]
    },
    {
      "cell_type": "code",
      "metadata": {
        "id": "-QbPg7zbkHfT"
      },
      "source": [
        "longitud_max_textos = palabras_textos.quantile(0.90)     #168 palabras\n",
        "longitud_max_titulos = palabras_titulos.quantile(0.975)  # 13 palabras"
      ],
      "execution_count": null,
      "outputs": []
    },
    {
      "cell_type": "code",
      "metadata": {
        "colab": {
          "base_uri": "https://localhost:8080/"
        },
        "id": "mXKeQr5-PzPP",
        "outputId": "43a125c5-d09f-4329-9fca-d61817054ec1"
      },
      "source": [
        "datos =  df[(palabras_textos <= longitud_max_textos ) & (palabras_titulos <= longitud_max_titulos)]\n",
        "datos.shape   "
      ],
      "execution_count": null,
      "outputs": [
        {
          "output_type": "execute_result",
          "data": {
            "text/plain": [
              "(8466, 2)"
            ]
          },
          "metadata": {},
          "execution_count": 18
        }
      ]
    },
    {
      "cell_type": "markdown",
      "metadata": {
        "id": "Qx7zdNh2YD19"
      },
      "source": [
        "# Dividir datos en conjunto de entrenamiento y prueba"
      ]
    },
    {
      "cell_type": "code",
      "metadata": {
        "colab": {
          "base_uri": "https://localhost:8080/"
        },
        "id": "z5-GTS7gkSUk",
        "outputId": "6744bef9-045a-466e-fb21-6aafaa8f8871"
      },
      "source": [
        "x_train, x_test, y_train, y_test = train_test_split(datos['Text'], \n",
        "                                                    datos['Summary'], \n",
        "                                                    test_size=0.1, \n",
        "                                                    shuffle=True, \n",
        "                                                    random_state=0)\n",
        "print('{} reseñas en el conjunto de entrenamiento\\n{} reseñas en el conjunto de prueba'.format(len(x_train), len(x_test)))"
      ],
      "execution_count": null,
      "outputs": [
        {
          "output_type": "stream",
          "name": "stdout",
          "text": [
            "7619 reseñas en el conjunto de entrenamiento\n",
            "847 reseñas en el conjunto de prueba\n"
          ]
        }
      ]
    },
    {
      "cell_type": "markdown",
      "metadata": {
        "id": "f9RvC_SaC3XH"
      },
      "source": [
        "# Preparar las secuencias para ingresar al modelo\n",
        "\n",
        "[Referencia](https://keras.io/examples/nlp/pretrained_word_embeddings/):\n"
      ]
    },
    {
      "cell_type": "markdown",
      "metadata": {
        "id": "B1P134bNMpRM"
      },
      "source": [
        "### 1)  Crear diccionario para convertir palabras en índices (en el entrenamiento) y otro para regresar índices a palabras (durante la predicción)"
      ]
    },
    {
      "cell_type": "code",
      "metadata": {
        "colab": {
          "base_uri": "https://localhost:8080/"
        },
        "id": "e8jX1Lskkl_F",
        "outputId": "f60aef02-9c25-4ae4-dec7-dae8ad1a7d28"
      },
      "source": [
        "%%time\n",
        "vectorizer_reseña = Vectorizer(x_train)\n",
        "\n",
        "# Diccionarios de la secuencia de entrada\n",
        "voc_reseña = vectorizer_reseña.get_vocabulary()  # lista con el vocabulario\n",
        "palabras_indices_reseña = dict(zip(voc_reseña, range(len(voc_reseña))))\n",
        "indices_palabras_reseña = dict(map(reversed, palabras_indices_reseña.items()))"
      ],
      "execution_count": null,
      "outputs": [
        {
          "output_type": "stream",
          "name": "stdout",
          "text": [
            "CPU times: user 456 ms, sys: 34.5 ms, total: 490 ms\n",
            "Wall time: 539 ms\n"
          ]
        }
      ]
    },
    {
      "cell_type": "code",
      "metadata": {
        "id": "Yvx7jSyhptEt",
        "colab": {
          "base_uri": "https://localhost:8080/"
        },
        "outputId": "159ea23c-aa6e-4f0b-a775-cf9835602abe"
      },
      "source": [
        "palabras_indices_reseña.keys()"
      ],
      "execution_count": null,
      "outputs": [
        {
          "output_type": "execute_result",
          "data": {
            "text/plain": [
              "dict_keys(['', '[UNK]', 'the', 'i', 'and', 'a', 'it', 'to', 'is', 'this', 'of', 'not', 'for', 'in', 'my', 'have', 'that', 'are', 'but', 'you', 'with', 'was', 'they', 'like', 'these', 'as', 'on', 'so', 'good', 'them', 'great', 'coffee', 'taste', 'will', 'very', 'product', 'just', 'be', 'flavor', 'at', 'one', 'would', 'all', 'or', 'do', 'if', 'we', 'am', 'love', 'can', 'has', 'from', 'had', 'more', 'when', 'me', 's', 'than', 'really', 'no', 'other', 'out', 'tea', 'some', 'amazon', 'only', 'were', 'too', 'best', 'get', 'much', 'use', 'food', 'tried', 'because', 'up', 'little', 'about', 'buy', 'time', 'price', 'there', 'better', 'find', 'an', 'also', 'what', 'make', 'did', 'chips', 'try', 'well', 'cup', 'your', 'been', 'again', 'chocolate', 'does', 'even', 'drink', 'any', 'which', 'hot', 'he', 'after', 'by', 'now', 'mix', 'sugar', 'bought', 'water', 'made', 'could', 'she', 'eat', 'our', 'found', 'first', 'sweet', 'recommend', 'free', 'bag', 'used', 'favorite', '2', 'order', 'delicious', 'cannot', 'their', 'over', 'flavors', 'tastes', 'then', 'store', 'way', 'k', 'box', 'nice', 'got', 'cups', 'dog', 'bit', 'still', 'think', 'go', 'milk', 'many', 'since', 'easy', 'two', '3', 'who', 'brand', 'pack', 'want', 'loves', 'perfect', 'ordered', 'every', 'ever', 'without', 'give', 'never', 'always', 'most', 'right', 'makes', 'quality', 'before', 'add', 'lot', 'know', 'juice', 'stuff', 'something', 'regular', 'fresh', 'few', 'using', 'different', '1', 'how', 'say', 'her', 'definitely', 'snack', 'day', 'enough', 'tasty', 'old', 'strong', 'bad', 'excellent', '4', 'organic', 'tasted', 'sure', 'enjoy', 'work', 'salt', 'shipping', 'its', 'less', 'years', 'into', 'hard', '5', 'whole', 'thought', 'same', 'healthy', 'keep', 'buying', 'local', 'ingredients', 'gluten', 'purchase', 'however', 'far', 'small', 'size', 'highly', 'orange', 'products', 'bags', 'looking', 'put', 'here', 'wonderful', 'while', 'though', 'back', 'cocoa', 'eating', 'pretty', 'both', 'natural', 'high', 'happy', 'being', 'off', 'need', 'family', 'those', 'purchased', 'anything', 'long', 'big', 'year', 'vanilla', 'his', 'going', 'beans', 'stores', 'own', 'brands', 'worth', 'loved', 'see', 'down', 'came', 'tasting', 'sauce', 'actually', 'grocery', 'through', 'thing', 'cookies', 'people', 'oil', 'flavored', 'cat', 'each', '6', 'soda', 'dark', 'calories', 'almost', 'take', 'real', 'green', 'fruit', 'new', 'husband', 'treats', 'quite', 'dogs', 'last', 'coconut', 'another', 'added', 'full', 'expensive', 'texture', 'smooth', 'foods', 'low', 'package', 'should', 'half', 'feel', 'may', 'per', 'chicken', 'arrived', 'variety', 'usually', 'treat', 'item', 'bitter', 'received', 'several', 'light', 'having', 'him', 'com', 'keurig', 'home', 'baby', 'reviews', 'instead', 'trying', 'money', 'away', 'potato', 'blend', 'said', 'pancakes', 'ones', 'deal', 'rice', 'available', 'problem', 'amount', 'company', 'roast', 'making', 'case', 'us', 'drinking', 'disappointed', 'things', 'liked', 'around', '100', 'morning', 'kids', 'others', 'black', 'wish', 'fat', 'diet', 'why', 'oz', 'ordering', 'maybe', 'kind', 'come', 'able', '12', 'once', 'popcorn', 'butter', 'decaf', 'cheaper', 'days', 'works', 'where', 'stars', 'son', 'nothing', 'especially', 'daughter', 'corn', 'spicy', 'probably', 'everyone', 'smell', 'absolutely', 'gift', 'fast', '10', 'white', 'seems', 'either', 'might', 'times', 'switch', 'save', 'getting', 'rich', 'cream', 'cheese', 'breakfast', 'wanted', 'seeds', 'glad', 'fine', 'alternative', 'top', 'review', '8', 'such', 'gave', 'everything', 'dry', 'comes', 'three', 'cats', 'months', 'chip', 'amazing', 'until', 'fan', 'cans', 'house', 'decided', 'packaging', 'cake', 'likes', 'extra', 'energy', 'anyone', 'soft', 'powder', 'plus', 'look', 'yet', 'tangerine', 'super', 'next', 'mouth', 'month', 'candy', 'ago', 'prefer', 'least', 'vinegar', 'fact', 'although', 'started', 'salty', 'market', 'rather', 'open', 'friends', 'drinks', 'bread', 'aftertaste', 'ok', 'thank', 'large', 'couple', 'quickly', 'must', 'expected', 'crackers', 'boxes', 'bold', 'coffees', 'www', 'recommended', 'enjoyed', 'bottle', 'http', 'else', 'let', 'crunchy', 'gp', 'myself', 'machine', 'health', 'awesome', 'thanks', 'quick', 'longer', 'calorie', 'bisquick', 'seem', 'href', 'believe', 'went', 'soup', 'says', 'baking', 'recipe', 'side', 'ground', 'pleased', 'brown', 'read', 'artificial', 'surprised', 'french', 'syrup', 'reason', 'opened', 'etc', 'wife', 'plain', 'cost', 'carbonated', 'weight', 'took', 'pop', 'online', 'flavorful', 'christmas', 'protein', 'packaged', 'aroma', 'soy', 'smaller', 'week', 'service', 'refreshing', 'teas', 'shipped', 'red', 'recently', 'medium', 'licorice', 'care', 'yummy', 'cookie', 'version', 'peanut', 'canned', 'wheat', 'single', 'pepper', 'formula', 'tell', 'place', 'often', 'minutes', 'ice', 'type', 'stick', 'honey', 'brew', 'starbucks', 'second', 'part', '7', 'plastic', 'beef', 'wolfgang', 'value', 'slightly', 'meal', 'help', 'run', 'jerky', 'items', 'instant', 'gum', 'difference', 'choice', '20', 'serving', 'lots', 'healthier', 'delivery', 'sometimes', 'sold', 'problems', 'mild', 'guess', 'subscribe', 'puck', 'pieces', 'nuts', 'idea', 'fantastic', 'dinner', 'along', '24', 'weak', 'line', 'larger', 'waffles', 'snacks', 'pay', 'name', 'mixed', 'live', 'goes', 'flour', 'pancake', 'cut', 'weeks', 'original', 'maker', 'kettle', 'exactly', 'overall', 'meat', 'iced', 'apple', 'wrong', 'someone', 'ounce', 'looked', '50', 'unfortunately', 'please', 'picky', 'needed', 'ingredient', 'huge', 'seller', 'hand', 'end', 'mixes', 'jar', 'hope', 'giving', 'cooking', 'bite', 'heat', 'friend', 'crazy', 'compared', 'today', 'sent', 'looks', 'left', 'easily', 'difficult', 'cold', 'close', 'cheap', 'smells', 'simply', 'gives', 'continue', 'bottles', 'list', 'goat', 'gets', 'fish', 'extremely', 'expect', 'crunch', 'course', 'convenient', 'clean', '16', 'sodium', 'pods', 'mind', 'worked', 'sour', 'soon', 'newman', 'between', 'bean', 'ate', 'oatmeal', 'life', 'given', 'finally', 'experience', 'bars', 'takes', 'start', 'star', 'hazelnut', 'cook', 'container', 'cinnamon', 'change', 'baked', 'yes', 'special', 'salad', 'recipes', 'packs', 'needs', 'gf', 'fun', 'espresso', 'chocolates', 'purchasing', 'past', 'opinion', 'lemon', 'done', 'bulk', 'bottom', 'biscuits', 'waste', 'teeth', 'sweetness', 'shop', 'option', 'contains', 'cereal', 'called', 'thin', 'spice', 'saw', 'garlic', 'easier', 'beverage', 'bar', 'four', 'already', 'serve', 'sale', 'plant', 'night', 'jelly', 'eaten', 'condition', 'similar', 'otherwise', 'mine', 'locally', 'finding', 'due', 'delivered', 'color', 'carry', 'carbonation', 'shipment', 'pot', 'pasta', 'packages', 'non', 'mountain', 'leave', 'itself', 'helps', 'expecting', 'excited', 'cherry', 'results', 'popchips', 'mess', 'hint', 'filling', 'favorites', 'creamy', 'certainly', 'based', '15', 'wait', 'varieties', 'tiny', 'stevia', 'pineapple', 'label', 'hit', 'during', 'count', 'true', 'together', 'reasonable', 'packed', 'oh', 'none', 'lunch', 'inside', 'gourmet', 'gone', 'date', 'caramel', 'adding', 'yourself', 'stomach', 'stock', 'olive', 'okay', 'o', 'ginger', '9', 'truly', 'rest', 'plan', 'party', 'mostly', 'decent', 'consistency', 'chew', 'bbq', 'area', 'wow', 'within', 'unless', 'turned', 'stopped', 'priced', 'crisp', '00', 'pound', 'extract', 'customer', 'content', 'contain', 'broken', 'told', 'stale', 'simple', 'raw', 'powdered', 'packets', 'higher', 'feeding', 'brewing', 'bowl', 'totally', 'summer', 'substitute', 'noticed', 'issues', 'glass', 'feed', 'cracker', 'anywhere', 'particular', 'paid', 'mint', 'later', 'completely', 'brewed', 'anymore', 'thick', 'setting', 'roasted', 'pick', 'packet', 'lid', 'horrible', 'future', 'five', 'finish', 'entire', 'earth', 'drinker', 'bland', 'batch', 'sweetener', 'stop', 'note', 'microwave', 'homemade', 'egg', 'body', 'addition', 'world', 'website', 'unlike', 'square', 'six', 'pleasant', 'peppermint', 'moist', 'miss', 'leaves', 'felt', 'c', '25', 'terrible', 'seed', 'sea', 'reviewer', 'pure', 'potatoes', 'normally', 'greasy', 'doing', 'combination', 'caffeine', 'warm', 'sort', 'sealed', 'return', 'reading', 'pet', 'perfectly', 'normal', 'nasty', 'mother', 'kick', 'impressed', 'immediately', 'grain', 'flavoring', 'filled', 'crispy', 'cooked', 'blood', 'become', 'twice', 'throw', 'short', 'set', 'piece', 'notice', 'grove', 'allergies', 'acid', 'usual', 'tomatoes', 'skin', 'keeps', 'hate', 'forward', 'filter', 'balance', '30', 'watery', 'subscription', 'satisfied', 'fit', 'fill', 'fair', 'blue', 'b', 'anyway', 'yum', 'whatever', 'trouble', 'supposed', 'sticks', 'satisfying', 'nicely', 'loose', 'listed', 'hours', 'fiber', 'feeling', 'discovered', 'bed', 'taking', 'stay', 'sodas', 'remember', 'n', 'muffins', 'liquid', 'hooked', 'grass', 'except', 'eats', 'dish', 'convenience', 'cheddar', 'uses', 'thinking', 'tart', 'seemed', 'person', 'onion', 'mill', 'including', 'e', 'double', 'description', 'daily', 'chia', 'awful', 'ask', 'allergic', 'w', 'vitamin', 'shelf', 'shape', 'seen', 'seasoning', 'pizza', 'overly', 'hour', 'form', 'children', 'brought', 'beat', 'suggest', 'strawberry', 'senseo', 'sell', 'pie', 'overpowering', 'kid', 'hoping', 'dessert', 'd', 'chewy', 'celiac', 'cakes', 'almond', 'agree', 'yuban', 'wants', 'tofu', 'stuck', 'straight', 'standard', 'somewhat', 'ship', 'share', 'restaurant', 'ready', 'pricey', 'prices', 'personally', 'number', 'nearly', 'lower', 'kitchen', 'jars', 'heard', 'fairly', 'dried', 'directions', 'complaint', 'check', 'bring', 'break', 'bodied', 'worst', 'source', 'sauces', 'salsa', 'helped', 'eggs', 'bob', 'beer', 'veggies', 'types', 'touch', 'sweeteners', 'spices', 'point', 'paper', 'ounces', 'lasts', 'issue', 'grape', 'coming', 'blends', 'bigger', 'wine', 'weird', 'waffle', 'unique', 'under', 'stronger', 'served', 'pleasantly', 'noodles', 'lime', 'kinds', 'grind', 'considering', 'clear', 'citrus', 'call', 'bitterness', 'avoid', 'actual', '99', 'supply', 'sorry', 'shake', 'rate', 'popped', 'perhaps', 'p', 'nutrition', 'near', 'mixing', 'means', 'meals', 'individual', 'disappointing', 'brewer', 'benefits', 'various', 'sized', 'shot', 'putting', 'mom', 'matter', 'kept', 'gravy', 'fridge', 'craving', 'control', 'consider', 'china', 'birthday', 'wrapped', 'turn', 'supermarket', 'subtle', 'spread', 'seal', 'sardines', 'salads', 'reviewers', 'peanuts', 'paying', 'melted', 'knew', 'juices', 'instructions', 'heavy', 'fried', 'fluffy', 'dip', 'chowder', 'cafe', 'average', 'air', '11', 'usa', 'tangy', 'states', 'scratch', 'sample', 'plenty', 'picked', 'mustard', 'italian', 'expiration', 'enjoying', 'chemical', 'changed', 'chance', 'bits', 'basically', 'banana', 'appreciate', 'yogurt', 'thrilled', 'sweeter', 'stand', 'send', 'receive', 'prepare', 'premium', 'offered', 'nut', 'important', 'grams', 'ended', 'door', 'dollars', 'child', 'berry', 'bake', 'aluminum', 'afternoon', 'admit', 'worry', 'winter', 'watch', 'vegetables', 'tongue', 'thai', 'switched', 'site', 'sip', 'school', 'refund', 'puppy', 'pops', 'melitta', 'known', 'hands', 'effect', 'dressing', 'barely', 'working', 'tree', 'traditional', 'tired', 'seriously', 'sandwich', 'running', 'reminds', 'process', 'pre', 'pork', 'picture', 'outstanding', 'outside', 'lb', 'interesting', 'guests', 'general', 'frozen', 'effects', 'certified', 'burnt', 'bunch', 'beverages', 'became', 'beautiful', 'alone', 'advertised', 'absolute', 'walmart', 'via', 'sparkling', 'soups', 'sensitive', 'pod', 'oven', 'odd', 'muffin', 'messy', 'main', 'lost', 'lids', 'job', 'hold', 'flat', 'eater', 'drank', 'cute', 'costs', 'cool', 'clam', 'addicted', 'vet', 'training', 'tender', 'superior', 'strange', 'stir', 'sick', 'shared', 'raspberry', 'quantity', 'pour', 'portion', 'popper', 'overwhelming', 'mug', 'msg', 'minute', 'mean', 'level', 'kernels', 'keeping', 'generally', 'feels', 'everyday', 'english', 'described', 'dairy', 'choose', 'alot', 'affordable', 'adult', '0', 'y', 'vendor', 'trip', 'themselves', 'sweetened', 'sugary', 'strength', 'sit', 'replacement', 'prime', 'personal', 'options', 'mini', 'mail', 'lover', 'evening', 'disposakups', 'disappointment', 'costco', 'cases', 'carrying', 'bacon', 'allergy', 'worse', 'walnut', 'unable', 'test', 'tablespoon', 'swiss', 'slight', 'searching', 'previous', 'particularly', 'pamela', 'office', 'offer', 'lemons', 'iron', 'internet', 'grow', 'figure', 'fall', 'everywhere', 'country', 'clearly', 'chemicals', 'caribou', 'buds', 'boost', 'upon', 'typical', 'tuna', 'truffle', 're', 'pudding', 'produced', 'pressure', 'preservatives', 'possible', 'positive', 'poor', 'pan', 'oils', 'mic', 'melt', 'lightly', 'icicle', 'guy', 'grew', 'freezer', 'fondant', 'figured', 'enjoys', 'dishes', 'disease', 'dented', 'coat', 'candies', '40', 'turns', 'turkey', 'town', 'system', 'surprise', 'spoon', 'saved', 'reasonably', 'realize', 'peas', 'nutritional', 'negative', 'leaf', 'herbal', 'grounds', 'gross', 'gotten', 'fruits', 'forever', 'flax', 'expectations', 'edible', 'directly', 'creamer', 'comparison', 'companies', 'business', 'base', 'asked', 'adds', 'above', 'write', 'vegetable', 'tablets', 'suggested', 'sugars', 'style', 'stash', 'smoothies', 'sampler', 'safe', 'regularly', 'pumpkin', 'pouch', 'older', 'mistake', 'middle', 'lose', 'lol', 'liquor', 'jamaica', 'individually', 'herbs', 'heart', 'happened', 'gummy', 'gifts', 'followed', 'curry', 'creme', 'chili', 'careful', 'blueberry', 'beyond', 'arrive', 'acidic', 'wake', 'truffles', 'total', 'tend', 'sumatra', 'spring', 'splenda', 'sound', 'sitting', 'sausage', 'result', 'program', 'power', 'packing', 'oily', 'obviously', 'missing', 'literally', 'lemonade', 'lbs', 'lamb', 'kona', 'folks', 'fell', 'disposable', 'dipping', 'delightful', 'crust', 'crisps', 'cow', 'covered', 'compare', 'co', 'cardboard', 'bears', 'apparently', 'across', '2nd', '18', 'whenever', 'wellness', 'understand', 'travel', 'tomato', 'toast', 'threw', 'table', 'stays', 'stated', 'sells', 'saying', 'satisfy', 'research', 'punch', 'pounds', 'placed', 'junk', 'intense', 'hardly', 'guys', 'firm', 'farms', 'enjoyable', 'earlier', 'drops', 'drive', 'doubt', 'containers', 'concerned', 'colors', 'clams', 'cents', 'center', 'carrot', 'carbs', 'bpa', 'beware', 'basis', 'american', 'zero', 'yellow', 'whether', 'watchers', 'trick', 'supermarkets', 'spend', 'san', 'rose', 'reduced', 'purpose', 'post', 'popular', 'points', 'peach', 'omega', 'nor', 'multiple', 'mocha', 'ketchup', 'jack', 'imagine', 'gain', 'father', 'dough', 'digest', 'deep', 'de', 'complete', 'coco', 'chunks', 'choices', 'carries', 'carb', 'burn', 'bucks', 'additives', 'according', 'word', 'whipped', 'watching', 'update', 'terrific', 'tasteless', 'target', 't', 'supplement', 'sticky', 'smoked', 'sinus', 'salmon', 'roll', 'returned', 'ran', 'provides', 'properly', 'processed', 'paste', 'pass', 'pantry', 'originally', 'naturally', 'mentioned', 'mention', 'lighter', 'law', 'lack', 'kit', 'kibble', 'included', 'hungry', 'girl', 'frosting', 'flowers', 'fix', 'filters', 'favor', 'economical', 'early', 'delighted', 'bubble', 'breath', 'bonus', 'additional', '140', '13', 'wet', 'typically', 'timely', 'tablet', 'surprisingly', 'sister', 'show', 'shopping', 'servings', 'seconds', 'saving', 'saves', 'round', 'robust', 'previously', 'popping', 'pink', 'opening', 'oats', 'nutritious', 'late', 'intake', 'incredible', 'impossible', 'happen', 'grey', 'golden', 'fancy', 'doctor', 'diagnosed', 'comparable', 'checked', 'carried', 'boy', 'bill', 'belly', 'basket', 'bargain', 'balanced', 'amazed', 'yeah', 'worried', 'ways', 'watered', 'wanting', 'tooth', 'third', 'thicker', 'taken', 'stocking', 'stephen', 'state', 'split', 'solid', 'smelled', 'sleep', 'selling', 'response', 'realized', 'provide', 'pretzels', 'pain', 'offering', 'nature', 'moved', 'm', 'lovers', 'lovely', 'loaded', 'lived', 'knows', 'italy', 'include', 'honestly', 'growing', 'granola', 'gas', 'gallon', 'funny', 'follow', 'faster', 'fake', 'exact', 'ease', 'donut', 'dense', 'decaffeinated', 'consume', 'computer', 'cal', 'busy', 'brownies', 'boys', 'bother', 'aid', 'addictive', 'young', 'wild', 'vodka', 'vacuum', 'tummy', 'toss', 'tortilla', 'throughout', 'thinks', 'therefore', 'sunflower', 'strips', 'starting', 'sprinkle', 'snacking', 'sandwiches', 'salted', 'runny', 'room', 'prepared', 'molasses', 'mellow', 'marinade', 'man', 'likely', 'lavazza', 'knowing', 'info', 'incredibly', 'guilt', 'grown', 'grab', 'gold', 'g', 'fruity', 'fructose', 'freeze', 'fabulous', 'drop', 'drinkers', 'dr', 'downside', 'dissolve', 'despite', 'crumbs', 'consistent', 'common', 'buyer', 'brews', 'bones', 'bites', 'beats', 'authentic', 'asian', 'anytime', 'amounts', '60', 'yeast', 'wise', 'watermelon', 'vegetarian', 'vegan', 'trust', 'tropical', 'trips', 'trans', 'tough', 'story', 'staple', 'spoiled', 'spent', 'snap', 'sizes', 'season', 'search', 'recent', 'rating', 'prompt', 'present', 'preference', 'potassium', 'pinch', 'oreos', 'nana', 'mixture', 'manufacturer', 'mahogany', 'lunches', 'loaf', 'living', 'liver', 'lasted', 'la', 'interested', 'information', 'heaven', 'grinder', 'grains', 'further', 'forget', 'finished', 'elsewhere', 'effective', 'drip', 'discount', 'diabetic', 'describe', 'definately', 'customers', 'complaints', 'chinese', 'chews', 'chewing', 'certain', 'car', 'book', 'besides', 'berries', 'batter', 'aware', 'apples', 'apart', 'allow', '14', 'zip', 'wedding', 'upset', 'unpleasant', 'trash', 'trade', 'thru', 'throwing', 'sucralose', 'steaks', 'starts', 'spot', 'skeptical', 'savory', 'runs', 'replace', 'record', 'recieved', 'receiving', 'rarely', 'r', 'promptly', 'pouches', 'peppers', 'page', 'maple', 'lollipops', 'lobster', 'learned', 'kcups', 'kcup', 'izze', 'introduced', 'hulls', 'holes', 'harder', 'goats', 'front', 'freshness', 'fingers', 'fillers', 'fans', 'earl', 'depending', 'current', 'cravings', 'contact', 'consistently', 'classic', 'cholesterol', 'brother', 'brewers', 'bone', 'ahead', 'yesterday', 'wrappers', 'wonderfully', 'wash', 'ups', 'tin', 'thirst', 'tang', 'superb', 'sounds', 'softer', 'scent', 'rolls', 'rock', 'ridiculous', 'resealable', 'remind', 'pocket', 'plug', 'photo', 'parents', 'oreo', 'occasional', 'meats', 'markets', 'luck', 'limited', 'key', 'inexpensive', 'increase', 'hodgson', 'herb', 'harmony', 'handy', 'habanero', 'graham', 'goodness', 'gevalia', 'gel', 'flaxseed', 'flavour', 'eye', 'england', 'dollar', 'discover', 'digestive', 'digestion', 'darker', 'damaged', 'cubes', 'create', 'collection', 'coating', 'class', 'claim', 'chopped', 'chamomile', 'california', 'buffalo', 'blender', 'benefit', 'began', 'barbeque', 'animal', 'almonds', 'age', '34', 'wrap', 'workout', 'winner', 'win', 'wasted', 'warning', 'vitamins', 'veggie', 'unit', 'tends', 'ten', 'sturdy', 'splash', 'somewhere', 'shelves', 'shame', 'sesame', 'serious', 'sense', 'sadly', 'road', 'requires', 'reorder', 'recording', 'range', 'press', 'prefers', 'pomegranate', 'po', 'pleasure', 'plants', 'opposed', 'nose', 'mornings', 'monthly', 'milder', 'mid', 'mango', 'major', 'mainly', 'magic', 'lives', 'leaving', 'household', 'hawaiian', 'handle', 'gritty', 'grapefruit', 'grandson', 'goods', 'garbage', 'fully', 'following', 'fed', 'equal', 'emeril', 'effort', 'dissolves', 'dirty', 'dinners', 'device', 'delicate', 'dead', 'damage', 'contents', 'consuming', 'complained', 'commercial', 'cane', 'brings', 'breed', 'breaking', 'blueberries', 'biscuit', 'biscotti', 'basic', 'babies', 'automatic', 'allows', 'agave', 'afterwards', 'afraid', 'adore', '8oz', '80', 'words', 'weather', 'visit', 'traveling', 'topping', 'tons', 'toddler', 'timothy', 'tight', 'thus', 'teaspoon', 'suppose', 'success', 'strawberries', 'south', 'solution', 'slow', 'shown', 'selection', 'rum', 'reward', 'retail', 'restaurants', 'reminded', 'refrigerator', 'rave', 'purse', 'overpriced', 'originals', 'orangina', 'oolong', 'onions', 'neither', 'mushy', 'multi', 'moment', 'metallic', 'meant', 'manner', 'levels', 'learn', 'lacks', 'joe', 'irish', 'inches', 'inch', 'hurt', 'hibiscus', 'head', 'harsh', 'happier', 'happens', 'guilty', 'grandpa', 'girls', 'gingerbread', 'gatorade', 'fly', 'fats', 'exception', 'entirely', 'empty', 'dozen', 'currently', 'cover', 'counter', 'containing', 'concentrate', 'complain', 'comments', 'comment', 'club', 'carrots', 'brownie', 'boyfriend', 'awhile', 'auto', 'annie', 'ahoy', 'active', '90', '70', '48', '3rd', 'web', 'vs', 'vomit', 'unhealthy', 'toy', 'ton', 'tolerate', 'till', 'thyme', 'throat', 'switching', 'sweetner', 'supplier', 'suffer', 'strongly', 'stocked', 'shots', 'section', 'seasoned', 'root', 'required', 'require', 'reach', 'ratio', 'ramen', 'promised', 'prevent', 'parties', 'panda', 'palate', 'omaha', 'olives', 'ny', 'noodle', 'mrs', 'min', 'mg', 'maxwell', 'maintain', 'mac', 'latte', 'insanity', 'hopefully', 'holiday', 'hole', 'holds', 'hershey', 'helpful', 'happily', 'habit', 'grinding', 'grilled', 'gmo', 'ghiradelli', 'frequently', 'fizzy', 'finicky', 'dressings', 'discontinued', 'die', 'desired', 'definite', 'darn', 'dad', 'crushed', 'crumbly', 'crash', 'correct', 'consumed', 'cons', 'coast', 'closer', 'chose', 'childhood', 'cheapest', 'charges', 'burned', 'basil', 'ball', 'audio', 'appears', 'among', 'against', '95', 'yuck', 'willing', 'wholesome', 'waiting', 'vita', 'virtually', 'valley', 'unusual', 'tossed', 'title', 'tic', 'thrown', 'tassimo', 'talking', 'taffy', 'tad', 'support', 'stonewall', 'step', 'steak', 'sooo', 'smoother', 'slowly', 'separate', 'searched', 'scissors', 'sausages', 'sad', 'roasts', 'risk', 'rip', 'remove', 'reliable', 'regret', 'raisins', 'puts', 'provided', 'produce', 'pregnant', 'preferred', 'plum', 'pitcher', 'pickle', 'penny', 'overnight', 'occasionally', 'nutty', 'numerous', 'movie', 'missed', 'misleading', 'miracle', 'mildly', 'method', 'members', 'marzano', 'mark', 'loss', 'lock', 'limes', 'liking', 'lately', 'lasting', 'lab', 'human', 'honest', 'holidays', 'hits', 'hated', 'hamburger', 'hair', 'grade', 'german', 'garden', 'folgers', 'eyes', 'exceptional', 'drinkable', 'drawback', 'disgusting', 'direct', 'decide', 'crap', 'contained', 'contacted', 'compliment', 'combo', 'coats', 'cider', 'chocolatey', 'caviar', 'canister', 'calls', 'brush', 'breads', 'betty', 'belgian', 'batches', 'bananas', 'attention', 'assortment', 'afford', '36', '000', 'zuke', 'warehouse', 'vacation', 'unsweetened', 'twist', 'terms', 'tax', 'sweeten', 'sun', 'steep', 'stands', 'sports', 'specifically', 'soil', 'smoky', 'smallest', 'slices', 'slice', 'shiny', 'seeing', 'securely', 'seafood', 'reserve', 'related', 'refined', 'reasons', 'reaction', 'quit', 'question', 'pull', 'powerful', 'play', 'pets', 'period', 'pear', 'organics', 'oranges', 'opportunity', 'offers', 'nutrients', 'nowhere', 'needless', 'munch', 'meet', 'medicinal', 'measure', 'luckily', 'letting', 'leak', 'labeled', 'kiwi', 'king', 'kernel', 'japanese', 'japan', 'jalapeno', 'instantly', 'indeed', 'hydrogenated', 'hopes', 'hesitate', 'heads', 'handful', 'grocer', 'grainy', 'google', 'god', 'gerber', 'fuel', 'friendly', 'fresher', 'fragrant', 'fortunately', 'flaxseeds', 'flavorless', 'everybody', 'electrolytes', 'dust', 'donuts', 'dirt', 'died', 'diabetes', 'design', 'delivers', 'delight', 'dave', 'cutting', 'cupboard', 'crocker', 'created', 'concept', 'combined', 'closest', 'cleaning', 'chef', 'charge', 'cayenne', 'caused', 'card', 'calcium', 'cacao', 'bubbles', 'bright', 'bottled', 'behind', 'asparagus', 'aside', 'amish', 'allowed', 'alcohol', 'ahmad', 'addiction', 'addicting', 'ability', '45', '1st', '17', 'windows', 'wide', 'wholesale', 'volume', 'verona', 'usb', 'toxic', 'thins', 'tablespoons', 'snob', 'signature', 'shower', 'showed', 'seltzer', 'self', 'savings', 'samples', 'sampled', 'ruin', 'rica', 'returning', 'residue', 'recommendation', 'readily', 'ranch', 'quantities', 'purposes', 'pros', 'posted', 'pies', 'pickled', 'partially', 'ordinary', 'orders', 'omg', 'noted', 'newmans', 'mushrooms', 'mueslix', 'move', 'minimal', 'meyenberg', 'metal', 'merrick', 'matcha', 'match', 'loving', 'losing', 'links', 'lays', 'kups', 'kitty', 'juicy', 'jet', 'j', 'itching', 'intolerant', 'initial', 'improved', 'heated', 'granted', 'ghirardelli', 'fudge', 'foil', 'floor', 'fits', 'felidae', 'falls', 'face', 'experiment', 'eve', 'eaters', 'dop', 'dehydrated', 'dates', 'crumble', 'cough', 'costa', 'considered', 'community', 'commented', 'colored', 'college', 'coffe', 'cocker', 'closed', 'cleaned', 'claims', 'chocolaty', 'cheeses', 'catch', 'cashews', 'carefully', 'buttery', 'burning', 'burgers', 'bolder', 'assume', 'approximately', 'answer', 'animals', 'ages', 'adults', 'acidity', '2011', '150', 'yr', 'york', 'wilton', 'whim', 'west', 'weekend', 'vendors', 'v', 'un', 'tub', 'toasted', 'thickness', 'terrier', 'tastier', 'sweetners', 'swallow', 'surely', 'sumatran', 'squares', 'sprinkled', 'specialty', 'southern', 'sounded', 'soaked', 'snow', 'smokey', 'smoke', 'sips', 'sickly', 'shows', 'shipments', 'shaped', 'senior', 'savor', 'sales', 'rye', 'rocks', 'ride', 'richer', 'resulting', 'relaxing', 'refused', 'raise', 'pups', 'prior', 'prescription', 'pocky', 'plocky', 'plate', 'places', 'pill', 'pictured', 'paris', 'paleo', 'pace', 'occasion', 'nervous', 'nearby', 'mints', 'mccann', 'mass', 'lucky', 'limit', 'lactose', 'lacking', 'labels', 'kopi', 'kellogg', 'kavli', 'jam', 'interest', 'indian', 'includes', 'improvement', 'improve', 'icing', 'hubby', 'hoped', 'helping', 'hear', 'healthiest', 'grinds', 'greatest', 'grease', 'grandmother', 'glycemic', 'girlfriend', 'game', 'fragrance', 'fond', 'fizz', 'finely', 'favors', 'fatty', 'experienced', 'exotic', 'europe', 'escapes', 'el', 'dunkin', 'drunk', 'dissapointed', 'dislike', 'desk', 'crave', 'coupon', 'con', 'comparing', 'columbian', 'colombian', 'coke', 'city', 'changing', 'cajun', 'buttermilk', 'broke', 'born', 'beautifully', 'barbecue', 'badly', 'attractive', 'assorted', 'artifical', 'aromatic', 'annoying', 'america', 'amazingly', 'alive', 'affect', 'addict', 'acceptable', 'acai', '75', 'yay', 'workers', 'wood', 'wondering', 'wonder', 'wolf', 'wings', 'wasting', 'wasa', 'warned', 'walnuts', 'walk', 'waited', 'vomiting', 'versions', 'versatile', 'uncle', 'unbelievable', 'ultimate', 'twizzlers', 'twinings', 'tully', 'tube', 'tiger', 'thumbs', 'themed', 'temperature', 'tacs', 'syrupy', 'symptoms', 'suspect', 'sunset', 'stored', 'stingers', 'stews', 'stayed', 'spit', 'spinach', 'soooo', 'somehow', 'solids', 'smelling', 'sliced', 'skip', 'ships', 'scale', 'saturated', 'safeway', 'rodeo', 'riviera', 'richness', 'removed', 'rated', 'raisin', 'pringles', 'pretzel', 'preserve', 'possibly', 'poodle', 'plump', 'ploy', 'performance', 'peel', 'pc', 'palatable', 'onto', 'ole', 'noticeable', 'news', 'net', 'needing', 'nectar', 'miles', 'mexican', 'melts', 'melting', 'mberry', 'manage', 'maltodextrin', 'malt', 'locate', 'lingering', 'leche', 'lay', 'kool', 'intended', 'inedible', 'increased', 'importantly', 'identical', 'hurry', 'holistic', 'hines', 'hide', 'hey', 'hence', 'hemp', 'heck', 'heavily', 'hearty', 'headaches', 'gums', 'groceries', 'grill', 'greatly', 'grandchildren', 'glaze', 'fool', 'fondarific', 'flours', 'flimsy', 'flies', 'fishy', 'fire', 'feedback', 'fav', 'fattening', 'familiar', 'fail', 'evo', 'everytime', 'ensure', 'eight', 'ear', 'dulce', 'disappoint', 'dips', 'differently', 'dieting', 'diced', 'diamond', 'daughters', 'credit', 'cracked', 'correctly', 'cooks', 'consumption', 'concentrated', 'combine', 'coloring', 'coated', 'cereals', 'celery', 'cappuccino', 'canola', 'camping', 'ca', 'burst', 'boxed', 'bowls', 'boot', 'bisque', 'biggest', 'below', 'becoming', 'bear', 'beach', 'appealing', 'alright', 'agar', 'acquired', '2012', '19', 'younger', 'written', 'wrapper', 'wonders', 'wondered', 'whey', 'waters', 'watcher', 'visiting', 'vary', 'united', 'unflavored', 'twenty', 'tubes', 'tsp', 'tries', 'tray', 'transaction', 'trader', 'track', 'toppings', 'tips', 'tins', 'thinner', 'thankful', 'tells', 'tbsp', 'tastiest', 'tastebuds', 'tast', 'tapioca', 'tangerines', 'talk', 'sunday', 'suck', 'styrofoam', 'stuffed', 'stress', 'stove', 'stools', 'sticking', 'steal', 'station', 'starch', 'squeeze', 'spreads', 'spilled', 'speak', 'spaniel', 'snappy', 'skinny', 'skinless', 'silky', 'silken', 'silk', 'shrimp', 'shortbread', 'shocked', 'shells', 'sharp', 'sharkies', 'shakes', 'severe', 'select', 'secure', 'science', 'saver', 'sat', 'roses', 'rise', 'rid', 'returns', 'replaced', 'reordering', 'remains', 'remained', 'relief', 'ratings', 'raised', 'rainforest', 'quench', 'puree', 'purchases', 'proteins', 'production', 'produces', 'pro', 'prince', 'pricing', 'presentation', 'powering', 'potent', 'poorly', 'poop', 'planning', 'planet', 'pb', 'paprika', 'overweight', 'oldest', 'obvious', 'nustevia', 'nestle', 'naturals', 'mood', 'minus', 'minty', 'minced', 'met', 'member', 'mart', 'marketing', 'manufactured', 'lowest', 'lo', 'link', 'lil', 'length', 'ladies', 'jumbo', 'joy', 'jamaican', 'island', 'intact', 'infections', 'impressive', 'imported', 'ill', 'ideal', 'hummus', 'hotter', 'horses', 'holder', 'highest', 'hfcs', 'hers', 'hell', 'heartburn', 'headache', 'ham', 'halloween', 'guest', 'grateful', 'fussy', 'fry', 'fortune', 'florida', 'flavorings', 'filtered', 'fight', 'fault', 'farmers', 'famous', 'facts', 'f', 'example', 'eventually', 'european', 'essence', 'equally', 'enhances', 'email', 'eggnog', 'duncan', 'dump', 'dose', 'divine', 'distinct', 'desserts', 'designed', 'desert', 'depth', 'crush', 'cross', 'corner', 'conventional', 'constipation', 'concentrates', 'complex', 'cilantro', 'choke', 'caught', 'caramels', 'caps', 'cap', 'bubbly', 'btw', 'brulee', 'brainer', 'boil', 'bergamot', 'beginning', 'becomes', 'bakery', 'bagged', 'aunt', 'assumed', 'associated', 'arrival', 'argentina', 'anticipated', 'anti', 'alternatives', 'ale', 'aisle', 'agreed', 'accept', '3oz', '35', 'zing', 'xlr', 'women', 'wished', 'weaker', 'venus', 'van', 'user', 'upside', 'unsalted', 'unopened', 'tv', 'trees', 'train', 'towards', 'tortillas', 'topped', 'toaster', 'thoroughly', 'tho', 'thicken', 'tested', 'term', 'temptations', 'tear', 'tazo', 'tartness', 'tall', 'taco', 'syrups', 'swear', 'substituted', 'storing', 'stating', 'sprouts', 'spray', 'spiced', 'spending', 'specific', 'span', 'soybean', 'sojos', 'soak', 'sites', 'similac', 'signed', 'shure', 'seven', 'settle', 'sellers', 'selections', 'secret', 'seattle', 'schedule', 'satisfies', 'satisfaction', 'sampling', 'salts', 'runa', 'royal', 'routine', 'rough', 'rotten', 'roland', 'roasting', 'ring', 'requested', 'remaining', 'relatively', 'regardless', 'refrigerated', 'reference', 'recordings', 'recall', 'raving', 'rain', 'pup', 'proof', 'professional', 'pressed', 'preserved', 'powders', 'potatoe', 'portable', 'pointed', 'pleasing', 'playing', 'planted', 'phone', 'peppered', 'peaberry', 'passed', 'pale', 'pa', 'owner', 'oj', 'noticeably', 'north', 'noise', 'neighborhood', 'needle', 'named', 'mr', 'mold', 'moderate', 'mixer', 'mins', 'minerals', 'million', 'mccormick', 'matters', 'mate', 'martini', 'manufacturers', 'mae', 'load', 'liter', 'listing', 'lentil', 'leaks', 'kosher', 'kong', 'knob', 'kitties', 'kidding', 'justify', 'jello', 'java', 'introduce', 'interface', 'innova', 'initially', 'immediate', 'image', 'hundreds', 'hulless', 'hotel', 'himself', 'hesitant', 'hates', 'hassle', 'halfway', 'haha', 'gummi', 'grows', 'group', 'godiva', 'giant', 'germany', 'gels', 'fur', 'friskies', 'freshly', 'fragile', 'fraction', 'forgot', 'finger', 'final', 'falling', 'factor', 'expresso', 'expired', 'enjoyment', 'eb', 'east', 'duck', 'dissolved', 'diets', 'desire', 'department', 'dents', 'deliver', 'death', 'david', 'cuts', 'curious', 'cupcakes', 'cuisinart', 'crispbread', 'crema', 'cranberry', 'couscous', 'cornbread', 'cooler', 'constantly', 'conscious', 'complaining', 'cigars', 'choc', 'chilled', 'chewed', 'charged', 'chalky', 'chain', 'cento', 'caffe', 'button', 'budget', 'buck', 'broth', 'broccoli', 'britt', 'bonsai', 'bet', 'bay', 'balls', 'baker', 'awake', 'avid', 'automatically', 'attached', 'assuming', 'asks', 'arm', 'arizona', 'april', 'appreciated', 'appeal', 'anybody', 'antioxidants', 'advantage', 'adopted', '53', '21', 'yrs', 'ya', 'writing', 'wp', 'worries', 'whose', 'whatsoever', 'wax', 'walked', 'wal', 'voice', 'vinegary', 'view', 'versus', 'useful', 'unnatural', 'units', 'twelve', 'trap', 'toys', 'tool', 'tip', 'thriving', 'texas', 'teriyaki', 'temp', 'sweets', 'suprised', 'supple', 'sunkist', 'sugarless', 'stupid', 'stumbled', 'storage', 'stew', 'steeped', 'stage', 'squash', 'spots', 'spoonful', 'spanish', 'space', 'sources', 'sorts', 'sore', 'sooooo', 'sometime', 'software', 'smoothie', 'smile', 'smashed', 'situation', 'sits', 'sipping', 'significantly', 'significant', 'sign', 'shine', 'shelter', 'shaker', 'setup', 'settled', 'separately', 'sensation', 'sending', 'seasonal', 'scrambled', 'scottish', 'sand', 'safely', 'sacrifice', 'rolled', 'ripped', 'resolved', 'resemble', 'rescue', 'reported', 'replacing', 'reordered', 'remembered', 'remain', 'regarding', 'reduce', 'recomend', 'reccomend', 'raya', 'raising', 'rabbit', 'proven', 'processing', 'printed', 'practices', 'powdery', 'pots', 'potential', 'polish', 'pizzas', 'pina', 'phenomenal', 'pg', 'peet', 'pecans', 'pecan', 'peaches', 'pea', 'parts', 'parsley', 'pair', 'overpower', 'ourselves', 'orville', 'odor', 'obtain', 'oat', 'oak', 'nobody', 'nights', 'neighbor', 'navitas', 'nantucket', 'munchos', 'movements', 'mouthful', 'mo', 'minimum', 'mile', 'microphone', 'mayo', 'maximum', 'march', 'maltese', 'lumps', 'lipton', 'lips', 'leaking', 'lazy', 'layer', 'kill', 'joes', 'jerk', 'jazzed', 'jarred', 'january', 'inferior', 'index', 'imho', 'hunting', 'holding', 'held', 'heavenly', 'healthful', 'harmful', 'harbor', 'hairball', 'grit', 'greater', 'grandma', 'golf', 'generous', 'gelatin', 'fyi', 'friday', 'fortunes', 'formulas', 'foam', 'flush', 'flower', 'fills', 'fewer', 'feast', 'fda', 'farmhouse', 'farm', 'explain', 'experimenting', 'expense', 'excessively', 'exceptionally', 'equivalent', 'enhanced', 'encountered', 'efficient', 'edit', 'earthy', 'earths', 'dumplings', 'driving', 'draw', 'dogfood', 'discounted', 'diarrhea', 'diabetics', 'devour', 'deserve', 'deli', 'degrees', 'deals', 'darjeeling', 'dare', 'custard', 'cube', 'crumbles', 'crumbled', 'creating', 'crab', 'costly', 'coriander', 'convinced', 'continues', 'continued', 'consumer', 'construction', 'constant', 'condiment', 'concerns', 'compromise', 'cocktail', 'closely', 'cleaner', 'choosing', 'choking', 'chihuahuas', 'caution', 'cashew', 'carton', 'caffeinated', 'burger', 'buffet', 'breaks', 'boston', 'boring', 'books', 'blow', 'birth', 'begin', 'bedtime', 'barley', 'babka', 'aspartame', 'asking', 'arrives', 'apply', 'appeared', 'anxious', 'anxiety', 'allergens', 'alas', 'adores', 'adjust', 'additionally', 'acids', '5lb', '4th', '300', '2oz', '29', '2010', 'zucchini', 'zest', 'yunnan', 'yucky', 'youngest', 'yield', 'yadda', 'xmas', 'x', 'wrote', 'worthless', 'worker', 'wooden', 'won', 'wimpy', 'whirley', 'weekly', 'weaver', 'washing', 'wasabi', 'wafer', 'wabash', 'visited', 'virgin', 'video', 'vibrant', 'vegas', 'v8', 'unexpected', 'undrinkable', 'turning', 'triple', 'trend', 'transition', 'torn', 'tops', 'tonight', 'tone', 'tiki', 'tightly', 'thirsty', 'thickened', 'thanksgiving', 'testing', 'tequila', 'tempted', 'telling', 'teaspoons', 'teabag', 'tap', 'tag', 'tab', 'sushi', 'surprising', 'surface', 'suggests', 'suggestion', 'suffers', 'suddenly', 'substitution', 'substance', 'subject', 'strict', 'straws', 'stirred', 'stinky', 'sticker', 'steaz', 'staff', 'stable', 'squeezed', 'spreading', 'speed', 'spectacular', 'sooner', 'sniff', 'smokehouse', 'smelly', 'sleepytime', 'silver', 'sides', 'shredded', 'shortcakes', 'shortcake', 'shops', 'shih', 'sheen', 'sensitivity', 'semi', 'seasonings', 'scratching', 'scoop', 'satay', 'sam', 'saltiness', 'salsas', 'safety', 'rush', 'roughly', 'reusable', 'resist', 'researched', 'repeat', 'relax', 'refunded', 'refer', 'reducing', 'reconstituted', 'receipt', 'realizing', 'rawhide', 'rates', 'rare', 'race', 'quinoa', 'quicker', 'que', 'qualities', 'puppies', 'pulp', 'pulled', 'prowl', 'providing', 'pronounced', 'producing', 'primary', 'pricy', 'prefilled', 'poured', 'portions', 'poo', 'plockys', 'pictures', 'phosphate', 'phantom', 'ph', 'petsmart', 'peets', 'peace', 'paws', 'pastry', 'passion', 'par', 'panang', 'paired', 'overwhelm', 'overpowered', 'overcooked', 'opener', 'nutrient', 'notch', 'nonetheless', 'necessary', 'necessarily', 'neat', 'nasal', 'napkin', 'mush', 'mmm', 'mistaken', 'mesh', 'membership', 'mediocre', 'measuring', 'measured', 'mcdougall', 'mays', 'mayonnaise', 'manufacturing', 'managed', 'majority', 'mailed', 'mahogony', 'mackerel', 'machines', 'macadamia', 'lt', 'loses', 'lollipop', 'location', 'listen', 'lining', 'licks', 'lesser', 'leftovers', 'leftover', 'leakage', 'lead', 'lattes', 'largest', 'laptop', 'labs', 'l', 'kudos', 'kracker', 'kitten', 'kiss', 'june', 'july', 'jr', 'jeremiah', 'jasmine', 'insulin', 'insane', 'infused', 'infection', 'indigestion', 'improves', 'immensely', 'imagination', 'illness', 'iams', 'hydrated', 'hunger', 'hull', 'hormel', 'hi', 'hefty', 'heavier', 'hawaii', 'harvest', 'handling', 'hairballs', 'h', 'gym', 'guayusa', 'grocers', 'greens', 'greenies', 'gradually', 'grabbing', 'gooey', 'goodies', 'gobbles', 'gobbled', 'glue', 'glucose', 'gary', 'fuss', 'funky', 'fries', 'forced', 'follows', 'flavacol', 'flare', 'flakes', 'finishing', 'film', 'fig', 'ferret', 'feet', 'feature', 'favorable', 'fashion', 'fanta', 'faint', 'factory', 'extreme', 'expire', 'event', 'essentially', 'error', 'ends', 'elegant', 'edges', 'edge', 'economy', 'eco', 'durable', 'dull', 'drier', 'dispenser', 'discontinuing', 'disagree', 'dietary', 'diaper', 'developed', 'dent', 'delish', 'delights', 'defective', 'def', 'decorate', 'decafs', 'dash', 'dane', 'cry', 'creative', 'creaminess', 'creamers', 'cranberries', 'cramps', 'cooker', 'consumers', 'constipated', 'confusing', 'confused', 'complexity', 'competitive', 'compete', 'compares', 'combinations', 'chunk', 'chocolately', 'chocoholic', 'cherries', 'chemically', 'cheers', 'checking', 'charging', 'character', 'changes', 'challenge', 'chai', 'cfh', 'celebrate', 'causing', 'causes', 'carolina', 'cares', 'cancel', 'canada', 'camper', 'calm', 'calling', 'cadbury', 'butternut', 'buster', 'bull', 'build', 'bug', 'buddies', 'brittle', 'british', 'bringing', 'bowel', 'bourbon', 'boneless', 'bomb', 'boiled', 'blended', 'blah', 'bisquik', 'bird', 'bills', 'beers', 'balsamic', 'bakes', 'bait', 'baci', 'anyways', 'antibiotics', 'alternate', 'allowing', 'airtight', 'aged', 'affected', 'advise', 'advertising', 'advertises', 'advance', 'adequate', 'acerola', 'accustomed', '6oz', '5oz', '57', '500', '46', '32', '28', '1g', 'zippy', 'zico', 'yuk', 'yerba', 'ww', 'wrapping', 'window', 'widely', 'whiskas', 'whip', 'whereas', 'welcome', 'weigh', 'watering', 'washington', 'vomited', 'visits', 'vine', 'vidalia', 'vending', 'vegetarians', 'varying', 'variation', 'utz', 'urge', 'upsets', 'upgraded', 'unpopped', 'unnecessary', 'understood', 'unbroken', 'unavailable', 'unacceptable', 'ultra', 'ugh', 'twins', 'twin', 'tuscany', 'tummies', 'tubs', 'truth', 'truck', 'traps', 'transit', 'tossing', 'tom', 'tolerable', 'toddlers', 'ticket', 'theme', 'theater', 'textures', 'tears', 'team', 'tasteful', 'tarts', 'tahini', 'systemic', 'supposedly', 'suitable', 'suit', 'sufficient', 'sudafed', 'sucking', 'substantial', 'subjective', 'stuffing', 'stuffers', 'students', 'struggle', 'strongest', 'strip', 'stride', 'strictly', 'stong', 'stone', 'stirring', 'stinks', 'steel', 'steamed', 'starbuck', 'standing', 'stack', 'sprinkles', 'splurge', 'spits', 'spiciness', 'speedy', 'spectrum', 'spearmint', 'spam', 'spaghetti', 'soggy', 'soap', 'smoothest', 'smokies', 'slimy', 'slim', 'sleepy', 'skins', 'sisters', 'sinuses', 'sickening', 'showing', 'shortly', 'shortening', 'shopped', 'shepard', 'sheet', 'shade', 'settings', 'sets', 'serves', 'series', 'seek', 'seaweed', 'seasons', 'screw', 'screaming', 'sauteed', 'saturday', 'sassafras', 'sachets', 'russian', 'rule', 'rub', 'rounds', 'rounded', 'rotate', 'roommate', 'rooibos', 'roof', 'roaster', 'ritual', 'ripe', 'rinse', 'riding', 'rides', 'rewards', 'revv', 'reviewed', 'restricted', 'researching', 'reseal', 'requirement', 'reputation', 'remainder', 'rely', 'relieved', 'relieve', 'relaxed', 'relative', 'refuses', 'refreshment', 'refreshed', 'reflux', 'refill', 'redenbacher', 'recyclable', 'recognize', 'rebecca', 'ray', 'ras', 'quart', 'q', 'purina', 'pungent', 'puncture', 'puff', 'publix', 'protection', 'pronounce', 'promise', 'progresso', 'profile', 'pricier', 'prevents', 'presto', 'pregnancy', 'preferences', 'poultry', 'potatos', 'poops', 'pliable', 'plans', 'pk', 'pioneer', 'pigskin', 'peterson', 'petco', 'pesticides', 'perfection', 'percentage', 'percent', 'pediatrician', 'pears', 'pearls', 'pate', 'pat', 'pastas', 'passing', 'palm', 'owners', 'overtone', 'overs', 'opted', 'op', 'october', 'ocean', 'nunaturals', 'nuggets', 'ntilde', 'novelty', 'notified', 'notes', 'mushroom', 'moving', 'morinu', 'moral', 'mono', 'moms', 'mommy', 'modified', 'minis', 'milky', 'microphones', 'methods', 'message', 'merely', 'men', 'memory', 'meets', 'mechanism', 'meatballs', 'maui', 'materials', 'material', 'mask', 'mangoes', 'makers', 'mainstream', 'maine', 'lychee', 'lodge', 'lite', 'liquids', 'lights', 'lieu', 'libby', 'letter', 'led', 'leaked', 'leading', 'laughing', 'laugh', 'latter', 'las', 'land', 'lake', 'lager', 'lacked', 'labeling', 'kup', 'kuerig', 'kroger', 'kraft', 'knife', 'kits', 'kale', 'ka', 'judging', 'judge', 'islands', 'iraq', 'intolerance', 'internal', 'informed', 'infant', 'indulgence', 'indulge', 'indication', 'indicate', 'imagined', 'id', 'houtte', 'houston', 'holy', 'hints', 'heinz', 'healing', 'hammer', 'habenero', 'gusto', 'guava', 'guaranteed', 'greek', 'granules', 'granulated', 'grandkids', 'granddaughter', 'gram', 'gorgeous', 'goo', 'gm', 'glitter', 'gladly', 'gassy', 'gang', 'furniture', 'function', 'fuller', 'frig', 'fresca', 'freak', 'frankly', 'france', 'fluoride', 'fluid', 'floored', 'fl', 'firmer', 'finds', 'filler', 'festival', 'fennel', 'fashioned', 'fanatic', 'failure', 'express', 'exposed', 'experiments', 'experimented', 'experiencing', 'exclusively', 'evenly', 'evaporated', 'essential', 'esp', 'erin', 'environment', 'envelope', 'entree', 'enhancer', 'ener', 'emergency', 'easter', 'ears', 'dying', 'dutch', 'dumped', 'dream', 'drawer', 'dove', 'doubts', 'dissappointed', 'display', 'directed', 'dilute', 'dill', 'dijon', 'differences', 'detect', 'deceptive', 'decaff', 'decadent', 'custom', 'cure', 'curb', 'cuisine', 'crunchies', 'crock', 'crispness', 'crappy', 'cows', 'counting', 'confident', 'concern', 'component', 'coldaid', 'colada', 'cola', 'coconuts', 'cocoas', 'coca', 'clubs', 'cleared', 'claimed', 'citric', 'chutney', 'chronic', 'chops', 'chipotle', 'chickens', 'cheesecake', 'cheerios', 'charity', 'category', 'cart', 'caring', 'cancelled', 'canceled', 'canadian', 'campbell', 'bye', 'buzz', 'buyers', 'bummed', 'bully', 'building', 'bugs', 'brazil', 'brandy', 'boiling', 'blown', 'bliss', 'bell', 'begs', 'beg', 'bearing', 'beagle', 'baxter', 'bank', 'bang', 'baggie', 'backyard', 'background', 'b004391dk0', 'az', 'avoiding', 'availability', 'autism', 'attempting', 'artificially', 'arsenic', 'areas', 'approx', 'appetizing', 'appear', 'apparent', 'annoyed', 'alike', 'al', 'airy', 'agrees', 'agents', 'agent', 'advice', 'advanced', 'adapt', 'ad', 'aches', 'access', 'absorb', '65', '49', '400', '26', '22', '20oz', '200', '180', '16oz', '12oz', '120', 'zesty', 'zealand', 'z', 'yo', 'yikes', 'xylitol', 'xtra', 'worlds', 'woods', 'woman', 'wintergreen', 'wines', 'whoever', 'weavers', 'wears', 'waxy', 'warming', 'walker', 'vue', 'vouch', 'vomits', 'vital', 'vitacoco', 'virginia', 'vienna', 'veterinarian', 'values', 'valdez', 'usable', 'urine', 'upstate', 'upcoming', 'unknown', 'unhappy', 'unfortunate', 'unbelievably', 'unbeatable', 'ultimately', 'tzu', 'tx', 'twists', 'turducken', 'trusted', 'tripping', 'trigger', 'tricks', 'tremendously', 'trays', 'tourangelle', 'tones', 'toffifay', 'tingly', 'til', 'thier', 'theirs', 'thankfully', 'textured', 'terriers', 'terribly', 'teabags', 'taster', 'tanginess', 'tact', 'tac', 'tabasco', 'sweetens', 'sweat', 'surpassed', 'supplements', 'sum', 'sudden', 'sucrose', 'sucks', 'successfully', 'successful', 'substitutes', 'sublime', 'sub', 'stuffer', 'study', 'student', 'struggled', 'string', 'stops', 'stopping', 'stem', 'steeping', 'staying', 'starter', 'standards', 'squishy', 'squirt', 'spoonfuls', 'spoke', 'spelt', 'spare', 'sp', 'soul', 'sorrento', 'sorghum', 'soothing', 'soooooo', 'sons', 'solve', 'solo', 'snaps', 'smoothness', 'smoothly', 'smoothe', 'smoking', 'smiles', 'smart', 'slightest', 'sleeve', 'sleeping', 'skittles', 'silly', 'siliskins', 'sight', 'shock', 'shedding', 'sharing', 'shapes', 'severely', 'sensitivities', 'secondly', 'scoops', 'scheduled', 'scary', 'scared', 'scare', 'saute', 'satin', 'sardine', 'sake', 'safflower', 'russet', 'rushed', 'rural', 'rumford', 'ruined', 'rubs', 'rotation', 'rolling', 'risotto', 'rings', 'rillette', 'ribs', 'revolution', 'reviewing', 'reused', 'returnable', 'retriever', 'retailer', 'responsible', 'resembles', 'report', 'replenish', 'rep', 'removing', 'remotely', 'remedy', 'remarkably', 'remarkable', 'reluctant', 'released', 'refrigeration', 'refillable', 'ref', 'recurring', 'records', 'reccommend', 'recalled', 'reads', 'reactions', 'rays', 'raspberries', 'rapid', 'ranks', 'rancid', 'rack', 'quest', 'quarts', 'quaker', 'pushed', 'puroast', 'pun', 'pug', 'puffs', 'puerto', 'public', 'protect', 'proper', 'promotion', 'project', 'profit', 'producer', 'prod', 'print', 'princess', 'presents', 'preparing', 'prepara', 'prepackaged', 'prep', 'preamp', 'practically', 'postage', 'positively', 'portability', 'poppers', 'popcorns', 'pooch', 'pomeranian', 'poison', 'plunge', 'pin', 'pike', 'pico', 'picnic', 'picking', 'pic', 'peta', 'permanent', 'performs', 'perform', 'pepsi', 'pepitas', 'peeled', 'paw', 'patient', 'patchi', 'pasty', 'partial', 'parmesan', 'pancreatitis', 'pains', 'painful', 'owned', 'overseas', 'overflow', 'overdone', 'overcome', 'ovaltine', 'outrageous', 'outlet', 'ours', 'os', 'oro', 'oriental', 'oregano', 'orangey', 'optional', 'opposite', 'olds', 'oddly', 'occasions', 'nutritionally', 'nursing', 'numi', 'nuff', 'november', 'noir', 'nirvana', 'nicer', 'nibble', 'nevertheless', 'ness', 'neighbors', 'needles', 'nearest', 'names', 'nachos', 'muslim', 'music', 'muesli', 'muddy', 'mt', 'movies', 'movement', 'mothers', 'moss', 'monster', 'model', 'mmmmmmm', 'mills', 'migraine', 'mics', 'mi', 'merchandise', 'menu', 'memories', 'medication', 'meaty', 'measures', 'meaning', 'master', 'masa', 'mary', 'martha', 'marshmellows', 'marshmallows', 'marks', 'marinades', 'marginally', 'manufacture', 'manages', 'macaroni', 'luster', 'luscious', 'lump', 'loyal', 'lousy', 'logo', 'litter', 'lists', 'lifetime', 'lick', 'lemongrass', 'legs', 'leg', 'lecithin', 'leavening', 'learning', 'laying', 'laxative', 'laden', 'koma', 'knock', 'kittens', 'kirkland', 'kidney', 'kibbles', 'keeper', 'jump', 'juan', 'jolly', 'join', 'john', 'jittery', 'jitters', 'jersey', 'jalape', 'jacks', 'itchy', 'italians', 'iodized', 'involved', 'invested', 'international', 'intend', 'instinct', 'ins', 'innovative', 'inhaled', 'ingrediant', 'ingesting', 'indicated', 'india', 'incorporated', 'inclined', 'impression', 'impress', 'impact', 'imitation', 'illy', 'illegal', 'ie', 'icecream', 'ibs', 'ibd', 'hydrate', 'husbands', 'hunt', 'hundred', 'hum', 'horseradish', 'hormones', 'history', 'hill', 'hidden', 'hesitation', 'hesitated', 'herself', 'heating', 'hearing', 'hardest', 'hanout', 'hang', 'ha', 'gumballs', 'guessing', 'guessed', 'guanciale', 'guacamole', 'gu', 'grad', 'gosh', 'goodie', 'gobble', 'goal', 'glowing', 'glossy', 'gloria', 'gently', 'gentleman', 'generic', 'gems', 'garage', 'gallons', 'gaining', 'gained', 'fulfilled', 'fruitcake', 'frontier', 'freshen', 'francisco', 'fourth', 'foul', 'formulation', 'forms', 'forming', 'football', 'fooled', 'foodie', 'folger', 'fluaid', 'flowery', 'flow', 'floral', 'float', 'flaver', 'flatbread', 'flaky', 'finest', 'figuring', 'fifty', 'feelings', 'feeds', 'features', 'fave', 'fare', 'fallen', 'failed', 'faces', 'exterior', 'extended', 'expert', 'exercise', 'excuse', 'exciting', 'exchange', 'excess', 'ethnic', 'est', 'escape', 'es', 'er', 'equals', 'environmental', 'enthusiastic', 'enthusiasm', 'energetic', 'encourage', 'employees', 'embarrassed', 'emails', 'ecstatic', 'eagerly', 'eager', 'durability', 'dumping', 'dropped', 'drivers', 'doubled', 'donated', 'doggies', 'doggie', 'dixie', 'distinctly', 'distinctive', 'distance', 'dissolving', 'disposakup', 'disposacups', 'disodium', 'dismayed', 'disgusted', 'discs', 'disappear', 'dipped', 'dining', 'diluted', 'difficulty', 'devours', 'desperate', 'deserves', 'dental', 'deliciousness', 'definetly', 'deficiency', 'decaffinated', 'decades', 'dd', 'dangerous', 'dandruff', 'damn', 'cuz', 'curl', 'cuppa', 'crystals', 'crystal', 'crunching', 'crown', 'crinkle', 'creek', 'creates', 'creamier', 'crate', 'crack', 'coworkers', 'coupons', 'countries', 'countless', 'counted', 'cottage', 'costume', 'corrected', 'cornstarch', 'cookbook', 'converter', 'controlled', 'contaminated', 'considerable', 'congestion', 'condenser', 'computers', 'compromised', 'compliments', 'compleats', 'compartment', 'compact', 'commonly', 'comforting', 'comfort', 'colorful', 'coffeemaker', 'code', 'cod', 'coconutty', 'cobbler', 'clumping', 'clumped', 'cloves', 'closing', 'clogged', 'clients', 'click', 'clementine', 'chrysanthemum', 'choco', 'chipped', 'chicory', 'chicago', 'chi', 'charm', 'charcoal', 'chances', 'chalk', 'catching', 'cartons', 'carmel', 'carbohydrates', 'carbohydrate', 'caramello', 'capsules', 'caloric', 'cakesters', 'caffine', 'bustelo', 'busted', 'bursting', 'burritos', 'buns', 'bummer', 'buckwheat', 'bucket', 'breeze', 'breeds', 'breeder', 'breastmilk', 'breast', 'bon', 'blows', 'blooming', 'bloody', 'blew', 'blessing', 'blech', 'blast', 'blame', 'blair', 'bladder', 'blackberry', 'bistro', 'beneficial', 'beloved', 'believer', 'behold', 'begun', 'beauty', 'bath', 'baste', 'baskets', 'bam', 'baggies', 'aweful', 'avoided', 'attempted', 'attempt', 'assured', 'assortments', 'aspect', 'asia', 'ascorbic', 'article', 'approach', 'appearance', 'anise', 'amongst', 'americano', 'amaretto', 'alpine', 'alert', 'alcoholic', 'albeit', 'affects', 'advised', 'acquire', 'accurate', 'accidentally', 'accident', 'acacia', 'absolutly', '9oz', '94', '72', '600', '54', '4oz', '3g', '38', '37', '33', '23', '2007', '18th', '130', '110', '06', 'zukes', 'zoo', 'zipper', 'ziplock', 'ziggies', 'yorkie', 'wrinkled', 'wound', 'worthy', 'worthwhile', 'worrying', 'worms', 'wire', 'wiped', 'wins', 'wing', 'winding', 'wind', 'wilted', 'whom', 'werther', 'wegman', 'websites', 'wasteful', 'washed', 'warmed', 'waring', 'wall', 'walks', 'walkers', 'voila', 'void', 'vocals', 'vitakraft', 'visible', 'violet', 'vintage', 'vinegars', 'vinaigrette', 'victor', 'vernor', 'vermont', 'venison', 'velvet', 'veg', 've', 'vastly', 'vast', 'utilizing', 'users', 'unwrapping', 'unwind', 'unused', 'unsealed', 'unsafe', 'unpalatable', 'unlikely', 'unfurl', 'undoubtedly', 'undamaged', 'unappealing', 'ummm', 'um', 'typed', 'ty', 'tumbler', 'triscuits', 'triscuit', 'trim', 'trident', 'tricky', 'trial', 'trendy', 'tremendous', 'treatment', 'travels', 'transport', 'transfer', 'transfats', 'trail', 'traffic', 'tradition', 'trace', 'towels', 'toward', 'tounge', 'topper', 'tootsie', 'toothpick', 'toffee', 'tim', 'tier', 'tied', 'tie', 'tide', 'tickle', 'throws', 'thrived', 'thrive', 'thirty', 'theses', 'thankyou', 'thailand', 'tempting', 'teenage', 'tech', 'tastey', 'tape', 'tao', 'tame', 'talked', 'tahitian', 'ta', 'swirled', 'sweetest', 'sweetening', 'suspicious', 'surprises', 'suprise', 'supreme', 'supplies', 'supper', 'superfoods', 'sundae', 'summers', 'summary', 'sugarfree', 'sugared', 'suffered', 'suckers', 'substituting', 'subscribing', 'stung', 'studio', 'stream', 'strainer', 'stovetop', 'stix', 'stinger', 'stiff', 'stickers', 'stephens', 'steer', 'steakhouse', 'steadily', 'starburst', 'stains', 'st', 'sprouted', 'sprout', 'sprite', 'sprinkling', 'sprayed', 'spouse', 'spotted', 'spoil', 'splendid', 'spilling', 'spill', 'spicey', 'species', 'speaking', 'sparkle', 'sparking', 'sparingly', 'soybeans', 'sooth', 'soo', 'sonoma', 'solved', 'solidly', 'softies', 'sniffed', 'snapple', 'smokiness', 'slush', 'sludge', 'slower', 'sleeper', 'skipping', 'skimpy', 'skim', 'skillet', 'sink', 'sincerely', 'simmered', 'signs', 'signal', 'sigh', 'sickeningly', 'shus', 'shoots', 'shook', 'shipper', 'shining', 'shim', 'sheets', 'sharpness', 'shaking', 'settles', 'separated', 'senses', 'sencha', 'seldom', 'sees', 'seeping', 'seat', 'seals', 'scrumptious', 'screwed', 'scoville', 'scooped', 'satisfactory', 'santander', 'santa', 'sacrificing', 'russell', 'ruins', 'rubber', 'row', 'rossa', 'rosemary', 'rosehips', 'rosa', 'roots', 'rodent', 'robbery', 'rival', 'ripoff', 'rind', 'ridiculously', 'richest', 'reverse', 'rev', 'reuse', 'resulted', 'resturant', 'restrictions', 'responded', 'resource', 'resort', 'reservation', 'request', 'reports', 'replacer', 'reminiscent', 'reminding', 'relish', 'relatives', 'region', 'regimen', 'regard', 'refuse', 'refrigerate', 'reduces', 'redeeming', 'reddish', 'recycle', 'recovery', 'recorded', 'reconstitute', 'recognized', 'recipient', 'recieve', 'receipes', 'recalls', 'reality', 'rda', 'raved', 'rat', 'rash', 'rapidly', 'ranking', 'rank', 'ranged', 'radiation', 'quickest', 'quenching', 'quencher', 'punctured', 'pumping', 'pump', 'puffed', 'ps', 'proved', 'prove', 'promises', 'programs', 'profits', 'professionally', 'producto', 'private', 'primarily', 'prevalent', 'presumably', 'preserves', 'presented', 'preparation', 'practical', 'powered', 'potpourri', 'possibility', 'position', 'portioned', 'popularity', 'pom', 'policy', 'poisoning', 'playful', 'played', 'placing', 'pkg', 'pith', 'pitched', 'pit', 'pinot', 'pillsbury', 'pills', 'pile', 'pig', 'pica', 'physically', 'phrase', 'pesto', 'pesticide', 'peru', 'periods', 'perforations', 'penta', 'patty', 'patties', 'path', 'patak', 'partner', 'park', 'para', 'papers', 'pamelas', 'painted', 'paint', 'oysters', 'overwhelms', 'overwhelmingly', 'overpowers', 'overlook', 'outweigh', 'outcome', 'ought', 'orbit', 'orangy', 'optimum', 'opt', 'opinions', 'operate', 'oops', 'ooba', 'omelet', 'offensive', 'occurs', 'occurred', 'occupied', 'ocassional', 'obtained', 'nutrigrain', 'numbers', 'nt', 'noting', 'noses', 'nope', 'nong', 'nine', 'newton', 'neutral', 'nerves', 'negligible', 'neck', 'necessity', 'neatly', 'nausea', 'national', 'nabisco', 'mustards', 'munchies', 'morsel', 'moroccan', 'moose', 'moon', 'moments', 'moldy', 'moisture', 'modifications', 'modern', 'ml', 'mist', 'misses', 'minor', 'miniature', 'mined', 'millstone', 'milkshake', 'mike', 'micro', 'michigan', 'mexico', 'metals', 'mercury', 'meow', 'meh', 'meeting', 'meds', 'medicine', 'medaglia', 'measurements', 'mealy', 'mcdonalds', 'mc', 'max', 'matched', 'mastiff', 'masked', 'mashed', 'marvelous', 'maruchan', 'martin', 'marmite', 'marketed', 'marked', 'marinate', 'marathon', 'manufactures', 'mangos', 'mangled', 'mandarin', 'manager', 'manageable', 'malty', 'maltitol', 'male', 'maintained', 'maids', 'magnesium', 'magical', 'madagascar', 'mad', 'macbook', 'ma', 'lying', 'luwak', 'lowered', 'loud', 'longing', 'longest', 'london', 'logic', 'loads', 'll', 'listings', 'listened', 'liquors', 'linguine', 'lines', 'liners', 'linda', 'limits', 'lightweight', 'lightning', 'lightness', 'lift', 'liberally', 'liar', 'lettuce', 'lentils', 'lee', 'leather', 'lean', 'language', 'lana', 'lakes', 'lady', 'laboratory', 'labelled', 'ky', 'korean', 'koolaid', 'kofinas', 'koeze', 'knocked', 'kisses', 'kindergarten', 'killing', 'kefir', 'keebler', 'kahlua', 'junkie', 'jug', 'joke', 'jim', 'jemima', 'jellies', 'jean', 'jealous', 'jazz', 'jams', 'izzy', 'issued', 'ish', 'irritating', 'irresistible', 'invited', 'intent', 'intensely', 'insulation', 'insisted', 'insert', 'insect', 'insanely', 'inquiry', 'ing', 'infusion', 'infuser', 'inflammatory', 'indulging', 'indoor', 'indicator', 'independent', 'inconvenient', 'inconsistent', 'inc', 'import', 'imparts', 'imaginable', 'ignore', 'ideas', 'icky', 'iam', 'humble', 'hu', 'hostess', 'horribly', 'horrendous', 'horizon', 'hopeful', 'hooray', 'holic', 'holders', 'hives', 'hike', 'highlanders', 'hickory', 'herring', 'herbals', 'hello', 'heb', 'heartedly', 'heaping', 'hash', 'hartz', 'harm', 'hardware', 'handfuls', 'handed', 'halo', 'halal', 'habits', 'guzzle', 'gunpowder', 'guinness', 'guayaki', 'guarantee', 'gsd', 'groom', 'gripe', 'grilling', 'gravey', 'grassy', 'grandfather', 'gracious', 'grace', 'goop', 'googled', 'goodbye', 'golfer', 'goji', 'godsend', 'gmos', 'ginseng', 'gin', 'ghost', 'gentle', 'generously', 'gathering', 'gastric', 'garbanzo', 'garageband', 'gag', 'g2', 'furry', 'functions', 'frying', 'frustration', 'frost', 'frightening', 'freshest', 'frequency', 'freight', 'freezing', 'frazzled', 'fractions', 'fortified', 'formulated', 'forest', 'force', 'fonderific', 'fondants', 'folded', 'flytrap', 'fluids', 'fluctuates', 'floating', 'flexible', 'flaw', 'flavours', 'flattened', 'flatbreads', 'finland', 'finishes', 'finiky', 'fifth', 'fields', 'ferrets', 'fence', 'feline', 'feedings', 'fee', 'february', 'fear', 'faulty', 'families', 'false', 'fairway', 'fade', 'extras', 'extracts', 'extracted', 'exquisite', 'expires', 'experiences', 'exists', 'exercising', 'excessive', 'exceeds', 'exceed', 'evenings', 'este', 'especial', 'equipment', 'enticing', 'enter', 'enriched', 'enhance', 'energizing', 'energized', 'endless', 'eliminated', 'electrolyte', 'electric', 'effectiveness', 'edition', 'ecuador', 'ect', 'eastern', 'easiest', 'duty', 'dusted', 'dundee', 'dum', 'dug', 'dude', 'dryer', 'drives', 'dripping', 'dress', 'dreaded', 'drawbacks', 'drain', 'dragon', 'dozens', 'dots', 'doritos', 'doorstep', 'domestic', 'doctors', 'district', 'distress', 'distilled', 'dissatisfied', 'disorder', 'disliked', 'disguise', 'discolored', 'discernible', 'disappeared', 'disapointed', 'dings', 'dingo', 'diluting', 'digesting', 'differ', 'didn', 'dextrose', 'devoured', 'devoted', 'detectable', 'destroyed', 'desperately', 'desirable', 'describes', 'deprived', 'deployed', 'depends', 'dependable', 'demand', 'delivering', 'deliveries', 'deliciously', 'delays', 'degree', 'definatly', 'deeper', 'decorating', 'decision', 'decides', 'decently', 'decadence', 'dear', 'dc', 'das', 'dang', 'daisy', 'dachshund', 'da', 'cycling', 'cycle', 'curries', 'crying', 'crunchier', 'cruise', 'cruelty', 'crowd', 'criticism', 'crispier', 'crested', 'creator', 'creation', 'cr', 'counts', 'corporate', 'corny', 'cornucopia', 'copper', 'convince', 'conversation', 'conveniently', 'contributing', 'contribute', 'contacting', 'consists', 'consistant', 'considerably', 'conscience', 'connoisseur', 'connect', 'confuse', 'confirm', 'confectionery', 'confection', 'condensed', 'concoction', 'concentration', 'compromising', 'competitors', 'compatible', 'comparisons', 'commercials', 'comfortable', 'colder', 'coffeemate', 'coarse', 'co2', 'cm', 'clumps', 'clove', 'clock', 'climb', 'climate', 'cleanup', 'claiming', 'citrusy', 'ciders', 'chunky', 'chosen', 'chop', 'chimichurri', 'chilly', 'chilis', 'chihuahua', 'chewiness', 'chewer', 'chemistry', 'cheetos', 'cheesy', 'chebe', 'chase', 'charles', 'champagne', 'cha', 'cesar', 'ceramic', 'cent', 'celiacs', 'celebration', 'cavities', 'caveman', 'casual', 'castor', 'cared', 'canin', 'candle', 'cancer', 'cals', 'calming', 'cairn', 'cable', 'cabinet', 'bypass', 'buys', 'butterfinger', 'burrito', 'burr', 'burns', 'bruschetta', 'brunch', 'browns', 'brothers', 'breville', 'breathe', 'breastfeeding', 'breakage', 'breading', 'bravo', 'brats', 'bran', 'brag', 'bout', 'bound', 'bothers', 'bored', 'boldness', 'block', 'bloated', 'bleu', 'bleeds', 'bj', 'biting', 'bisquits', 'bisquit', 'biodegradable', 'bike', 'bigelow', 'bent', 'bellys', 'beleive', 'behavior', 'begging', 'bee', 'bayer', 'battle', 'batters', 'bathroom', 'bat', 'basmati', 'baseball', 'barista', 'banned', 'ban', 'baldwin', 'backpacking', 'backpack', 'b004k30ho2', 'b001rvfdoo', 'avocado', 'australia', 'audrey', 'audacity', 'attempts', 'attack', 'atkins', 'athlete', 'astounding', 'assemble', 'arms', 'arise', 'archer', 'arabica', 'apt', 'apricot', 'approve', 'appropriate', 'appetizer', 'appetite', 'apology', 'antioxidant', 'anticipation', 'ant', 'answered', 'angry', 'anemia', 'amp', 'americans', 'amazement', 'altoids', 'ales', 'albanese', 'alaska', 'akin', 'airplane', 'airline', 'ahhh', 'ah', 'agreement', 'afternoons', 'advertized', 'advertisement', 'advertise', 'adorable', 'adjustments', 'adjusted', 'additive', 'addendum', 'activity', 'acne', 'achieved', 'ache', 'account', 'accordingly', 'accompaniment', '98', '89', '850', '83', '78', '70g', '64', '5g', '59', '47', '44', '31', '2g', '27', '24oz', '240', '15g', '09', 'zola', 'ziploc', 'zipfizz', 'zen', 'yummyness', 'yumm', 'yours', 'yorkshire', 'yogi', 'yoga', 'yep', 'yellowish', 'yea', 'yan', 'yahoo', 'xl', 'xanthan', 'x2u', 'wu', 'wtf', 'wrongly', 'wrigleys', 'woudl', 'workplace', 'workouts', 'woody', 'wonka', 'wonderfull', 'wolfing', 'woke', 'wk', 'witch', 'wisconsin', 'wipe', 'winey', 'willy', 'williams', 'wiggle', 'whopping', 'wholegrain', 'whitefish', 'whipping', 'whimpy', 'whew', 'wheatfree', 'whang', 'westie', 'weruva', 'weighs', 'wei', 'weekday', 'weed', 'wedge', 'wear', 'weaning', 'weaned', 'wean', 'wave', 'watched', 'warranty', 'warn', 'warms', 'wardrobe', 'wan', 'walgreens', 'waking', 'waits', 'wag', 'wafers', 'waaaay', 'wa', 'vitality', 'vit', 'vista', 'visitors', 'viola', 'vimto', 'vile', 'vials', 'vial', 'vets', 'verities', 'verified', 'velvety', 'vehicle', 'varities', 'variations', 'variability', 'valuepetsupplies', 'valrhona', 'valid', 'valentine', 'vacuumed', 'utterly', 'utilize', 'uti', 'usps', 'useless', 'usefulness', 'uranium', 'ur', 'upsetting', 'upper', 'uplifting', 'updating', 'updated', 'unwanted', 'untill', 'unsulphered', 'universal', 'unimpressive', 'unfriendly', 'unfinished', 'undesirable', 'undertones', 'understatement', 'understandable', 'unaware', 'unaltered', 'una', 'umm', 'uk', 'tzus', 'twizzler', 'twigs', 'tweek', 'tweak', 'turtle', 'turbinado', 'tupperware', 'tune', 'tulear', 'tuesday', 'tucson', 'tucked', 'tuber', 'truthful', 'truley', 'truely', 'trout', 'tropicana', 'trimming', 'trifle', 'triathlete', 'tri', 'trapped', 'transparent', 'transitioned', 'transferred', 'trang', 'trainer', 'trained', 'tracking', 'touted', 'tout', 'tourist', 'toughness', 'touching', 'totaly', 'totals', 'toppers', 'tomorrow', 'tobasco', 'tobacco', 'toasting', 'tn', 'tm', 'tj', 'tipo', 'tincture', 'timing', 'timer', 'timed', 'tillen', 'tiers', 'thyroid', 'thighs', 'thickly', 'thee', 'thanx', 'text', 'tests', 'tener', 'tendency', 'temptation', 'tempt', 'temporarily', 'tempered', 'temperatures', 'tejava', 'teen', 'tedious', 'technically', 'technica', 'teavana', 'teaching', 'teachers', 'teacher', 'teach', 'tbs', 'tb', 'taxes', 'task', 'tartar', 'taped', 'tannins', 'tan', 'talent', 'taiwan', 'tainted', 'tacos', 'tables', 'syracuse', 'synthetic', 'symbol', 'swooned', 'swill', 'swell', 'sweetish', 'sweetend', 'sweetarts', 'swapping', 'swap', 'swanson', 'swallows', 'swallowed', 'suspected', 'survived', 'survive', 'surrounded', 'surround', 'surpasses', 'surgery', 'surge', 'suprisingly', 'supremo', 'supposta', 'supporting', 'sunny', 'sunmaid', 'sunchips', 'summertime', 'sulfate', 'suits', 'suggestions', 'suffice', 'sufferer', 'sue', 'suds', 'sucker', 'subtly', 'substantially', 'substances', 'subsequently', 'subscribed', 'subdued', 'su', 'stunning', 'stuffy', 'studies', 'stroke', 'stretched', 'stressing', 'stressful', 'strangely', 'strain', 'stories', 'stool', 'stood', 'stomachs', 'stole', 'stocks', 'stockpile', 'steps', 'stems', 'steady', 'starters', 'stanley', 'stamped', 'stages', 'stacks', 'sriracha', 'sr', 'squirrels', 'spruce', 'spout', 'sporadically', 'spooning', 'spoodle', 'spinning', 'spikes', 'spike', 'specially', 'speciality', 'spca', 'spaniels', 'spain', 'spagetti', 'southwestern', 'soured', 'sourdough', 'sourcing', 'sourced', 'soupy', 'sorta', 'sorely', 'sorbet', 'sophisticated', 'soothe', 'soot', 'solutions', 'sogo', 'softness', 'softened', 'softball', 'society', 'social', 'soaps', 'soaking', 'snyder', 'snuggly', 'snowy', 'snowflake', 'snobs', 'sniffing', 'snickers', 'sneaking', 'snapping', 'snacker', 'smoothy', 'smoker', 'smear', 'smalls', 'sm58', 'sm', 'slushy', 'sluggish', 'sls', 'slip', 'slimey', 'slide', 'slickdeals', 'slicing', 'slept', 'sleeps', 'slap', 'skokie', 'situations', 'sir', 'sinks', 'sinfully', 'simplified', 'simpler', 'simmer', 'similarly', 'siliskin', 'sickness', 'siberian', 'shut', 'shudder', 'shriveled', 'shrink', 'shoved', 'shoppe', 'shoot', 'shoes', 'shinier', 'shiitake', 'shied', 'shepherd', 'sheph', 'sheltie', 'sheer', 'shallow', 'shall', 'shakey', 'shabby', 'sf', 'settling', 'sessions', 'sensory', 'sensible', 'sensations', 'seltzers', 'selected', 'seep', 'seemingly', 'seder', 'securing', 'sec', 'sears', 'sealing', 'scrubbing', 'scrub', 'screwing', 'screen', 'scraping', 'score', 'scorched', 'scones', 'schorle', 'schnauzer', 'scented', 'scant', 'sb', 'savored', 'saucy', 'saucer', 'sassafrass', 'saran', 'salivate', 'safer', 'safcol', 'sachet', 'rv', 'runts', 'runnier', 'runner', 'rules', 'rugged', 'rude', 'roy', 'rouge', 'rotting', 'rot', 'rosy', 'rossi', 'rosamonte', 'rood', 'rome', 'romantic', 'romano', 'romaine', 'rocket', 'robitussin', 'roasters', 'rna', 'rising', 'rises', 'rips', 'rinsing', 'rinsed', 'rillettes', 'rigid', 'ricore', 'rico', 'rices', 'ribbon', 'riba', 'rhythm', 'rhubarb', 'revealing', 'retrieve', 'retired', 'rethink', 'retains', 'retails', 'restock', 'responsiveness', 'respond', 'respect', 'resolve', 'resistance', 'reservations', 'resemblance', 'requiring', 'requesting', 'republic', 'represents', 'represent', 'reply', 'replies', 'replicate', 'replenishes', 'repeating', 'repeatedly', 'repackaged', 'renewed', 'rendered', 'remembering', 'remarked', 'reluctantly', 'release', 'relaxation', 'registered', 'register', 'regional', 'regiment', 'regime', 'refundable', 'refried', 'refilling', 'refers', 'referred', 'refasten', 'reese', 'reduction', 'redesign', 'recycles', 'recycled', 'rectangular', 'recreate', 'recovering', 'recover', 'recomment', 'recommends', 'recommending', 'recommendations', 'recommand', 'recognizable', 'receives', 'reccomended', 'recalling', 'reassuring', 'reacts', 'reaching', 'raves', 'ration', 'ranges', 'random', 'raisons', 'rainy', 'rained', 'raincoast', 'rainbow', 'quot', 'quintessential', 'questions', 'quenches', 'queen', 'quarters', 'quarter', 'pyramid', 'pushing', 'purple', 'purity', 'purely', 'purees', 'punished', 'punched', 'pulls', 'pugs', 'puffy', 'puddings', 'pucker', 'puchase', 'pub', 'pts', 'pt', 'prunes', 'prune', 'proudly', 'proud', 'protects', 'protective', 'protecting', 'protected', 'property', 'properties', 'prop', 'promptness', 'prompted', 'promo', 'profiles', 'processor', 'proceeds', 'proceed', 'probaly', 'probally', 'prizes', 'prize', 'pride', 'prickly', 'prevented', 'pressing', 'preservative', 'presently', 'presentable', 'presence', 'prescribed', 'prefere', 'preferably', 'preface', 'predominant', 'predict', 'precisely', 'precise', 'praise', 'practice', 'powerpop', 'powerhouse', 'potted', 'posting', 'possibilities', 'portrayed', 'port', 'pore', 'por', 'popsicles', 'poppy', 'poped', 'pool', 'polyunsaturated', 'poly', 'pollux', 'polenta', 'polar', 'poke', 'poisoned', 'pointer', 'pockets', 'plums', 'plugged', 'plethora', 'plentiful', 'pleasures', 'pleases', 'plays', 'platter', 'platinum', 'plane', 'placebo', 'pitching', 'pistachio', 'pissed', 'pirate', 'pineapples', 'pilsbury', 'pierce', 'picks', 'pickey', 'picante', 'physician', 'phosphorus', 'philippines', 'petstore', 'petersburg', 'pests', 'pesky', 'perugina', 'perspective', 'persian', 'perplexed', 'permanet', 'perky', 'periodically', 'perigord', 'perfume', 'pepermint', 'peoples', 'penrose', 'pennsylvania', 'pelligrino', 'pellegrino', 'pekoe', 'pei', 'pee', 'pebbles', 'peanutty', 'peanutbutter', 'peak', 'pcs', 'payments', 'pawn', 'pavilion', 'paul', 'patience', 'pastes', 'partly', 'particles', 'partake', 'parm', 'parisian', 'parent', 'pans', 'pancreas', 'pals', 'palates', 'painting', 'padding', 'pad', 'pacific', 'oxygen', 'ownership', 'overwhelmed', 'overtones', 'overpoweringly', 'overpaying', 'overkill', 'overflowing', 'overeating', 'overcomes', 'overbearing', 'outweighs', 'outrageously', 'outpost', 'outing', 'outer', 'outdoor', 'outdated', 'ot', 'orleans', 'orgran', 'organization', 'organix', 'org', 'oregon', 'ording', 'orderd', 'optimal', 'operative', 'operated', 'opens', 'ontop', 'omelets', 'omegas', 'omega3', 'olvatine', 'ohio', 'offs', 'offerings', 'odwalla', 'occur', 'occassions', 'occassionally', 'obtaining', 'obsidian', 'obsession', 'obscene', 'objective', 'object', 'oakcakes', 'oacute', 'nyc', 'nutritionist', 'nutra', 'nutiva', 'nurse', 'nuffins', 'nu', 'novice', 'noteworthy', 'norm', 'noisy', 'nog', 'nj', 'nit', 'niece', 'nick', 'nibs', 'nibbles', 'nibbled', 'newly', 'newest', 'newer', 'nephew', 'nell', 'negatives', 'navy', 'nauseating', 'naughty', 'native', 'nation', 'nate', 'nastiest', 'namaste', 'naked', 'nails', 'nail', 'mylar', 'mw', 'muy', 'mutt', 'musty', 'muscles', 'murky', 'munching', 'mugs', 'muddied', 'muchos', 'moves', 'mouthwash', 'mouths', 'mouthfeel', 'mountains', 'mounds', 'motion', 'mos', 'morsels', 'montmorency', 'montebello', 'monosodium', 'monitoring', 'mongolian', 'momento', 'molded', 'mojo', 'moisturizing', 'moisturizer', 'moisturized', 'moisten', 'moderation', 'moderately', 'models', 'mochi', 'mochas', 'mmmmmm', 'mmmmm', 'mixtures', 'misshapen', 'misprint', 'misled', 'miserable', 'minnesota', 'minimize', 'mingle', 'mineral', 'mindful', 'mimosa', 'millet', 'milks', 'milkier', 'migraines', 'midwest', 'midday', 'microwaving', 'microwaveable', 'mickey', 'michaels', 'meyeberg', 'metabolism', 'messed', 'mesquite', 'merlot', 'meows', 'mentions', 'mellows', 'melamine', 'meiji', 'mega', 'mediterranean', 'medical', 'media', 'meantime', 'mealtimes', 'meadow', 'mature', 'math', 'masters', 'massive', 'mason', 'mascarpone', 'mas', 'marzipan', 'marvel', 'martinis', 'marshalls', 'marmalade', 'marigold', 'margarine', 'mare', 'manual', 'manjari', 'manhattans', 'mangia', 'managing', 'mama', 'maltose', 'malls', 'maintenance', 'maintains', 'maintaining', 'mailing', 'mailbox', 'maid', 'magazine', 'macs', 'luzianne', 'luxury', 'luxuriously', 'luxurious', 'lumpfish', 'luke', 'lox', 'lowes', 'lowering', 'lourdes', 'louis', 'los', 'lord', 'loosing', 'loosely', 'lookout', 'loofah', 'lollies', 'loco', 'loaves', 'llc', 'lizano', 'livers', 'liters', 'liquibuy', 'lion', 'lingonberry', 'lingers', 'linger', 'liner', 'lined', 'limiting', 'limey', 'lily', 'likewise', 'lifting', 'lifesaver', 'lifelong', 'lies', 'lie', 'licked', 'lever', 'les', 'lengths', 'lemonhead', 'legally', 'legal', 'leery', 'leans', 'leads', 'layers', 'layered', 'laws', 'latest', 'lastly', 'larry', 'largely', 'lard', 'lap', 'lane', 'lancaster', 'lame', 'laid', 'laced', 'kurig', 'krinkle', 'kongs', 'kobe', 'knudsen', 'klein', 'kinetic', 'kindof', 'kindly', 'kim', 'kills', 'killer', 'kiddos', 'kicks', 'kicked', 'kg', 'keys', 'keureg', 'kernals', 'kerig', 'kenyan', 'kentucky', 'kensington', 'ken', 'keemun', 'kashi', 'kame', 'kalamata', 'justice', 'jura', 'junky', 'jumping', 'jumped', 'journey', 'josh', 'joray', 'jolokia', 'joined', 'johnny', 'jiffy', 'jesus', 'jell', 'jeans', 'jan', 'jamba', 'jamacian', 'jalapenos', 'jac', 'irritated', 'iowa', 'iodine', 'inviting', 'investment', 'invest', 'invert', 'inventory', 'invented', 'intrigued', 'intoxicating', 'interval', 'interior', 'intentionally', 'intensive', 'intensity', 'insure', 'instances', 'instance', 'installed', 'inspired', 'inspection', 'insides', 'inserted', 'insects', 'insecticide', 'inosinate', 'inner', 'ingrediants', 'ingest', 'inform', 'influence', 'inflated', 'inflammation', 'infact', 'industry', 'indoors', 'individuals', 'indistinguishable', 'indicative', 'indicates', 'increasing', 'increases', 'incorrectly', 'incorrect', 'incorporate', 'incidentally', 'incentive', 'improperly', 'implies', 'imperial', 'immune', 'imbalance', 'ikea', 'ihop', 'igourmet', 'ignored', 'iffy', 'idk', 'identify', 'ia', 'hypoallergenic', 'hyped', 'hydrator', 'hydration', 'hydrating', 'hybrid', 'husky', 'hurts', 'hunter', 'hunks', 'humidity', 'humid', 'humans', 'hubbard', 'hrs', 'hotness', 'host', 'hospitalization', 'horse', 'horror', 'horrid', 'hormone', 'honeyville', 'hollywood', 'holland', 'hmmm', 'hitting', 'hips', 'hippy', 'hiking', 'highy', 'highway', 'hiding', 'hibachi', 'herr', 'hero', 'henry', 'heirloom', 'height', 'hehe', 'heeler', 'heap', 'healty', 'heady', 'hazelnuts', 'hazard', 'haters', 'happymunchies', 'happybaby', 'happiness', 'hansen', 'hangover', 'hanging', 'handmade', 'hamilton', 'hamburgers', 'hall', 'halaleveryday', 'hairy', 'gut', 'gushers', 'gunk', 'guitar', 'guide', 'guesswork', 'guanylate', 'gruel', 'grudgingly', 'grooves', 'grittiness', 'grip', 'grinders', 'gravitate', 'gravel', 'grated', 'grasses', 'grapes', 'grandparents', 'grandbabies', 'grandaughter', 'grand', 'grahams', 'graduation', 'grabbed', 'goya', 'gout', 'gouge', 'goreng', 'gnawing', 'glycerin', 'gluey', 'glove', 'global', 'glistening', 'glasses', 'glanced', 'gimmicky', 'gi', 'germination', 'genisoy', 'genetically', 'gem', 'geisha', 'gee', 'garnish', 'ganocafe', 'gamey', 'games', 'gamble', 'galore', 'gagging', 'gaggia', 'gagged', 'fuzzy', 'furthermore', 'fulls', 'fudgy', 'fu', 'ft', 'frustrated', 'froze', 'froth', 'frm', 'friendliness', 'freshening', 'freely', 'freakin', 'francaise', 'fragments', 'fr', 'forum', 'formerly', 'former', 'formed', 'forgive', 'footprint', 'fools', 'folds', 'fold', 'foglifter', 'flying', 'flows', 'flovor', 'flip', 'fleeting', 'flawless', 'flavoured', 'flavorable', 'flair', 'flabbergasted', 'fizzle', 'fixes', 'fixed', 'firmware', 'firms', 'firmly', 'finer', 'fineness', 'fillets', 'fillet', 'filets', 'fighting', 'fifteen', 'fiesta', 'fibrous', 'fibers', 'fiance', 'fertilize', 'ferrero', 'fermentation', 'ferment', 'female', 'feeder', 'featured', 'feather', 'feared', 'favourite', 'favored', 'faux', 'fatted', 'fathers', 'farts', 'fanatics', 'faith', 'fails', 'fades', 'fad', 'facility', 'fabulously', 'fab', 'extravagant', 'extraordinary', 'extensively', 'extension', 'exposure', 'explosion', 'exploring', 'explore', 'explained', 'existent', 'execution', 'exclusive', 'excites', 'excitement', 'excellant', 'exceedingly', 'evidently', 'evidence', 'everlasting', 'everidae', 'events', 'evans', 'evaluate', 'eukanuba', 'ethiopian', 'ethical', 'ether', 'et', 'established', 'ers', 'equivalents', 'environmentally', 'entrada', 'entomologist', 'entitled', 'enthusiastically', 'entertaining', 'enought', 'enormous', 'enfamil', 'endurance', 'endorsement', 'enables', 'en', 'emptied', 'employee', 'embarrassing', 'emailed', 'elmo', 'ella', 'elite', 'eliminate', 'eligible', 'elevates', 'elements', 'ekobrew', 'eggrolls', 'egberts', 'eden', 'economically', 'economic', 'ebay', 'eased', 'earthworms', 'earthier', 'earned', 'ea', 'dynamics', 'dynamic', 'dye', 'dv', 'dusty', 'duplicate', 'duds', 'dubious', 'dryness', 'drug', 'dropping', 'drizzle', 'driven', 'drawn', 'drag', 'dp', 'downtown', 'downright', 'downed', 'douwe', 'doses', 'dosen', 'dorms', 'doomed', 'donate', 'dominant', 'dominance', 'dome', 'doggy', 'doc', 'dme', 'diy', 'divided', 'diversion', 'disturbing', 'distribution', 'distribute', 'distracted', 'distortion', 'distinguished', 'disposal', 'disposa', 'disolve', 'dismay', 'disks', 'dishwasher', 'discuss', 'discription', 'discovering', 'discounts', 'discontinue', 'discomfort', 'disco', 'disclaimer', 'discerning', 'discern', 'discard', 'disassembled', 'disapppointed', 'disabled', 'direction', 'dippin', 'dipotassium', 'dinosaur', 'diner', 'dine', 'dilmah', 'diligent', 'diglycerides', 'digidesign', 'digging', 'digestible', 'digested', 'diffrence', 'dieters', 'dies', 'diego', 'dicing', 'diappointed', 'diapers', 'di', 'dha', 'df', 'devoting', 'devices', 'develops', 'develop', 'detroit', 'determined', 'determine', 'detected', 'details', 'detailed', 'detail', 'desires', 'designs', 'deserved', 'describing', 'descent', 'derived', 'depleted', 'dentures', 'denser', 'delonghi', 'deliberately', 'del', 'deidrich', 'defiantly', 'defect', 'defeats', 'defeat', 'decreased', 'decrease', 'decorations', 'decoration', 'deco', 'december', 'deceive', 'decals', 'debacle', 'daybreak', 'dawned', 'davis', 'davinci', 'davidson', 'dated', 'dandelion', 'dan', 'damson', 'dallas', 'cuter', 'customize', 'custards', 'currant', 'curiosity', 'cupcake', 'culquier', 'culinary', 'cubs', 'cualquier', 'ct', 'cs', 'cruz', 'crusty', 'crusts', 'crushing', 'cruncy', 'crunchiness', 'crunchie', 'crunched', 'crude', 'crossed', 'croix', 'critics', 'critic', 'crispiness', 'crisper', 'crispbreads', 'crisis', 'cringe', 'cried', 'creations', 'creamiest', 'craze', 'craves', 'cramp', 'craft', 'covers', 'covering', 'cousin', 'courteous', 'court', 'counterpart', 'coulod', 'couch', 'coton', 'costumer', 'costo', 'costing', 'cos', 'cornmeal', 'corgi', 'cools', 'cooled', 'cookware', 'cookbooks', 'convienience', 'converted', 'contrast', 'contrary', 'contraptions', 'continuing', 'continually', 'contamination', 'consomme', 'consequently', 'connection', 'conflicted', 'confirmed', 'confess', 'cone', 'conduct', 'conditions', 'condensor', 'concur', 'concoctions', 'concluded', 'concerning', 'compound', 'compost', 'complimented', 'completly', 'completing', 'complement', 'complains', 'compensate', 'comparative', 'communion', 'communication', 'committing', 'commissary', 'command', 'comical', 'combining', 'combines', 'colony', 'collie', 'coladas', 'coins', 'coined', 'cognoscenti', 'cofee', 'cocao', 'coc', 'cobblestone', 'clump', 'cloyingly', 'clothes', 'closes', 'clog', 'clif', 'clicking', 'clerk', 'clearing', 'clearer', 'classes', 'ck', 'civit', 'citymade', 'citron', 'circus', 'circulation', 'cinnamony', 'church', 'chuno', 'chug', 'chubby', 'chowders', 'chow', 'chopstick', 'choo', 'choclate', 'chloresterol', 'chives', 'chinchillas', 'chinatown', 'chilli', 'chill', 'chile', 'childrens', 'chex', 'chewier', 'chestnuts', 'chest', 'chessiest', 'cherrybrook', 'chemist', 'cheeks', 'cheating', 'cheated', 'cheat', 'chaser', 'chart', 'charming', 'characteristics', 'channel', 'challenging', 'chair', 'centerpiece', 'cells', 'cbd', 'cavity', 'caveat', 'cavalier', 'catsup', 'catering', 'cast', 'cassoulet', 'cash', 'caseinate', 'casein', 'carrageenan', 'carob', 'cardamom', 'carbon', 'captivating', 'capsule', 'capers', 'cape', 'cannisters', 'cannister', 'canning', 'canisters', 'canine', 'canidae', 'candycane', 'candied', 'camp', 'camomile', 'camelbak', 'calms', 'calf', 'calculated', 'calamares', 'caking', 'caffinated', 'caf', 'cabinets', 'butterscotch', 'butchering', 'bust', 'bushy', 'bus', 'burps', 'burner', 'bunnies', 'bunn', 'bundle', 'bump', 'bumblebee', 'bumble', 'bulky', 'buildup', 'buen', 'buckle', 'brushtail', 'brushing', 'brownish', 'browned', 'brooklyn', 'broil', 'brine', 'brilliant', 'brighter', 'briefcase', 'bride', 'bricks', 'breathing', 'breat', 'breakfasts', 'breakdown', 'breadmaker', 'brazilian', 'brave', 'branches', 'brain', 'boyer', 'boyardee', 'boxers', 'boulder', 'bothersome', 'boscoli', 'border', 'bora', 'booty', 'boosts', 'boon', 'boom', 'boo', 'bodies', 'bobby', 'boat', 'board', 'blues', 'bluebird', 'blossoms', 'blossom', 'bloks', 'blog', 'blob', 'blind', 'blanched', 'blades', 'blade', 'biscuts', 'birds', 'bionaturae', 'bins', 'bing', 'binder', 'bin', 'bil', 'biking', 'biggby', 'bicycle', 'biased', 'bi', 'bht', 'beside', 'benifits', 'beneful', 'bend', 'belongs', 'belive', 'believes', 'believed', 'beings', 'beginner', 'bees', 'becareful', 'beause', 'beaten', 'bearable', 'bb', 'baxters', 'bavarian', 'basics', 'barry', 'baronet', 'bark', 'bare', 'barbque', 'barbecued', 'banquet', 'band', 'balances', 'bailey', 'baggy', 'bagels', 'bagel', 'babkas', 'b007jbo41e', 'b005k4q64k', 'b001lg940e', 'b001gvisjm', 'b001gn4ohk', 'b000gwlugu', 'awesomeness', 'award', 'awakening', 'avoids', 'aversion', 'avenue', 'avail', 'autumn', 'autoship', 'august', 'audible', 'au', 'attributable', 'attractively', 'attraction', 'attracted', 'attitude', 'attest', 'attacked', 'atleast', 'atlanta', 'assures', 'assam', 'ass', 'asians', 'ashby', 'aruba', 'artisan', 'arrowhead', 'arriving', 'arived', 'arcata', 'aranciata', 'arabian', 'apriva', 'apricots', 'approximate', 'approved', 'approaching', 'appreciates', 'appointment', 'application', 'appliance', 'applesauce', 'apparatus', 'appalled', 'apologized', 'apologies', 'anticipate', 'answers', 'aniseed', 'angelina', 'amusing', 'ample', 'amos', 'ambulance', 'amateur', 'altogether', 'alters', 'alternating', 'alteration', 'alter', 'aloha', 'ally', 'allowance', 'allot', 'allergen', 'alkali', 'alka', 'alittle', 'alfredo', 'albertsons', 'aka', 'airpopper', 'aids', 'aided', 'aholic', 'agreeable', 'aggressive', 'afghanistan', 'affecting', 'adventure', 'adjusting', 'adjunct', 'additions', 'addictively', 'adagio', 'acts', 'acting', 'acted', 'acme', 'acknowledging', 'acknowledge', 'achieve', 'accuracy', 'accompany', 'accidents', 'accessible', 'abuse', 'absolutley', 'abandon', 'aacute', 'aaaa', 'aa', '9x13', '9g', '96', '92', '86', '85', '800', '79', '77', '76', '73', '6th', '6lb', '69', '66', '5lbs', '52', '51', '50lb', '5000', '4x', '43', '3s', '3kg', '39', '36g', '350', '34g', '32oz', '210', '20lbs', '2013', '2009', '2008', '1oz', '1lb', '1984', '1980', '180mg', '17g', '160mg', '15mg', '11g', '10oz', '10lb', '108', '1000', '0mg', '0g', '04830', '03', 'zuppa', 'zotz', 'zon', 'zomg', 'ziwipeak', 'zito', 'zinging', 'zinfandels', 'zinc', 'zilch', 'zhena', 'zapp', 'zany', 'zack', 'yyeecchh', 'yuuuuuuuuuuum', 'yuuuummmmmmyyyy', 'yummys', 'yummo', 'yummmy', 'yummmmmm', 'yummmmm', 'yummmm', 'yummm', 'yumminess', 'yummiest', 'yummier', 'yukon', 'yu', 'youtube', 'youself', 'yous', 'yourelf', 'yougurt', 'yougur', 'yorkies', 'yorkiepoo', 'yor', 'yolk', 'yokes', 'yogurtland', 'yogert', 'ymmv', 'yike', 'yields', 'yi', 'yeti', 'yesterdy', 'yester', 'yesrs', 'yerbas', 'yelp', 'yellows', 'yeh', 'yeasty', 'yeasts', 'yearning', 'yayy', 'yawning', 'yawner', 'yawn', 'yaucono', 'yard', 'yam', 'xylichew', 'xp', 'x5', 'wysong', 'wudgy', 'wthout', 'writings', 'writes', 'wrigley', 'wrestling', 'wraped', 'wou', 'worths', 'worsens', 'worsening', 'worm', 'workspace', 'workday', 'wording', 'worcestershire', 'woot', 'woop', 'woohoo', 'woofers', 'woof', 'woo', 'wontons', 'wonderfulness', 'wondeful', 'wolkgang', 'wolfy', 'wolfs', 'wolfhound', 'wolfgan', 'wolfed', 'wold', 'woeber', 'woderful', 'wobbly', 'wnow', 'wits', 'withstood', 'withdrawals', 'withdrawal', 'witchcrafts', 'wit', 'wisk', 'wishes', 'wisely', 'wired', 'wiping', 'wipes', 'wioll', 'wintergreens', 'wint', 'winning', 'winners', 'winery', 'windowsill', 'wincingly', 'winchester', 'win7', 'wimp', 'willingly', 'wilhi', 'wildly', 'wildfires', 'wii', 'wihtout', 'wifey', 'wierd', 'width', 'widowed', 'wider', 'wick', 'whooping', 'whoohoo', 'whiting', 'whites', 'whiter', 'whiten', 'whiskey', 'whisker', 'whisked', 'whirlypop', 'whirly', 'whirl', 'whining', 'whimpering', 'whilst', 'wherever', 'wheats', 'wheatgrass', 'wheaten', 'whammy', 'whacked', 'wgt', 'wf', 'wetting', 'westies', 'westbend', 'werthers', 'wendell', 'wen', 'welsh', 'welcomes', 'welcomed', 'welch', 'weiss', 'weired', 'weirdly', 'weiners', 'weimaraner', 'weightwatcher', 'weights', 'weightly', 'weighted', 'wegmans', 'weep', 'weekends', 'weeds', 'wee', 'wednesday', 'wedges', 'webvitamins', 'webpage', 'webinars', 'weber', 'weatherly', 'weary', 'wearing', 'wearer', 'wealth', 'wayyyyyy', 'wayyyy', 'wayne', 'waxed', 'wawa', 'wavered', 'waved', 'watt', 'watson', 'wating', 'waterlogged', 'wateringly', 'watercress', 'wastes', 'washes', 'wary', 'warren', 'warrant', 'warpings', 'warped', 'warnings', 'warner', 'warmth', 'warmer', 'warily', 'warheads', 'warehouses', 'wards', 'ward', 'waowi', 'wantned', 'wanderers', 'wander', 'walsh', 'wallpaper', 'wallop', 'wallmart', 'wallhangers', 'walley', 'walking', 'wales', 'wakeup', 'wakes', 'waitress', 'waif', 'wah', 'wagyu', 'wage', 'wad', 'vpi', 'voyage', 'voting', 'votes', 'voted', 'vote', 'voraciously', 'von', 'vomitar', 'voltages', 'viva', 'vitd', 'vitamuffins', 'vitamix', 'vitaminy', 'vitalabs', 'visually', 'visual', 'viscosity', 'visably', 'virus', 'virgil', 'viral', 'violent', 'vinyl', 'vinigary', 'vinger', 'vineyard', 'vines', 'vinci', 'vinaigreet', 'vinager', 'village', 'viki', 'viinegret', 'vietnam', 'vie', 'videos', 'vidalya', 'victoria', 'victims', 'vickies', 'vickie', 'vicki', 'vice', 'vialone', 'vfw', 'vey', 'veteriniarian', 'veterinarians', 'veterans', 'vestal', 'veryasia', 'verson', 'versital', 'versicolor', 'versatility', 'versa', 'verrryyy', 'verrrryyyy', 'verrrrry', 'veritable', 'verify', 'verdict', 'verde', 'ventured', 'venture', 'venetian', 'venders', 'vend', 'ven', 'vegtables', 'vegies', 'vegi', 'veges', 'vegans', 'veery', 'vcc', 'vases', 'varity', 'variance', 'variables', 'vanished', 'valve', 'valuables', 'valuable', 'valls', 'valentines', 'vague', 'vacuuming', 'vacum', 'vaccuum', 'vacationing', 'utter', 'utf8', 'utah', 'ut', 'ustream', 'ushally', 'useing', 'usefull', 'urologist', 'urinary', 'urina', 'uric', 'uri', 'upwards', 'upscale', 'upsacale', 'uprising', 'upright', 'upped', 'uplift', 'uphill', 'upgrade', 'upfront', 'unwrapped', 'unwrap', 'unwittingly', 'unwieldy', 'unusable', 'untypically', 'unto', 'untested', 'untasty', 'unsweeted', 'unsuspecting', 'unsubscribe', 'unshelled', 'unseen', 'unscrupulous', 'unsatisfied', 'unsatisfactory', 'unsatisfactorily', 'unremarkable', 'unreliable', 'unrelated', 'unrecognizable', 'unreal', 'unpronounceable', 'unprofitable', 'unpredictable', 'unpleasantness', 'unpleasantly', 'unpleant', 'unoaked', 'uno', 'unnervingly', 'unmarked', 'unloading', 'unloaded', 'unlined', 'unlemoned', 'universe', 'universally', 'uniquely', 'uninspiring', 'unimportant', 'uniform', 'unhealthiness', 'unfortunatly', 'unfortunatley', 'unfortunatally', 'unfold', 'unfit', 'unfavorable', 'unfairly', 'unfair', 'unfailingly', 'unexplained', 'unexceptional', 'unexcelled', 'undulations', 'undigested', 'undiagnosed', 'underweight', 'undertone', 'understated', 'undersized', 'underlying', 'underground', 'undented', 'undeniably', 'und', 'uncracked', 'uncooked', 'unconventional', 'uncontrollable', 'uncommon', 'uncomfortable', 'unclear', 'uncertain', 'unboxing', 'unblemished', 'unbeknownst', 'unbearably', 'unbalanced', 'unbaked', 'unavoidably', 'unappetizing', 'unanimously', 'ummmm', 'ume', 'umami', 'ulcers', 'ulcer', 'ukrops', 'uh', 'ues', 'udon', 'uaually', 'uacute', 'typo', 'twos', 'twitching', 'twisted', 'twinnings', 'twinkies', 'twining', 'tweleve', 'tweaking', 'tuve', 'tuscan', 'turnpike', 'turnaround', 'turmeric', 'turbo', 'tums', 'tumblers', 'tullys', 'tulley', 'tuft', 'tuck', 'tsbp', 'tsa', 'tryed', 'truvia', 'trusty', 'truson', 'trunked', 'trully', 'trubar', 'troubleshooting', 'troubles', 'trot', 'trish', 'trippy', 'triplets', 'trimmed', 'triggers', 'triggering', 'triggered', 'trifles', 'triffle', 'tricked', 'tribute', 'triangular', 'triangle', 'trialing', 'tres', 'trenton', 'trek', 'treatments', 'treating', 'treaters', 'treated', 'treadmill', 'tread', 'traveled', 'trashcan', 'trantition', 'transports', 'transported', 'transplanted', 'transplant', 'transpant', 'translucent', 'transitioning', 'transformed', 'transferring', 'transcendence', 'traits', 'trainings', 'traiding', 'traditionally', 'trading', 'trademark', 'tracts', 'tract', 'tracked', 'traced', 'toxins', 'towel', 'touting', 'touring', 'touches', 'tote', 'totality', 'totaled', 'tot', 'tostitos', 'tos', 'tore', 'torched', 'torani', 'toppin', 'toped', 'toothpaste', 'toothache', 'tony', 'tonnes', 'tonics', 'tong', 'toned', 'tomatoe', 'tomally', 'tolrates', 'tolerates', 'tolerated', 'tolerant', 'tolerance', 'tolerably', 'tolerablel', 'tokyo', 'toilet', 'togo', 'togethers', 'tofus', 'toffees', 'todos', 'toddling', 'todate', 'tocopherol', 'toby', 'toasty', 'toasts', 'tnt', 'tmi', 'tla', 'tl', 'tjmaxx', 'titled', 'titan', 'tiring', 'tiresome', 'tire', 'tiramisu', 'tipos', 'tint', 'tinned', 'tinkering', 'tingle', 'tinge', 'tinea', 'timothys', 'timor', 'timmothy', 'timliness', 'timey', 'timeframe', 'tilting', 'tilt', 'tile', 'tiis', 'tightening', 'tigger', 'tiered', 'tiene', 'tidings', 'tidier', 'tictacs', 'tickling', 'ticked', 'tibetin', 'tibetan', 'tia', 'thymes', 'thy', 'thx', 'thurs', 'thumb', 'tht', 'thst', 'thsese', 'throuhg', 'throttle', 'thrives', 'thrill', 'threads', 'thousand', 'thoughts', 'thoughtful', 'thou', 'thot', 'thorough', 'thorns', 'thomy', 'thisone', 'thirteen', 'thinness', 'thinners', 'thinned', 'thilled', 'thieves', 'thickener', 'thia', 'thi9s', 'thhis', 'thesse', 'thesedon', 'thermos', 'thermo', 'thermal', 'theri', 'thereafter', 'therapeutically', 'ther', 'thenext', 'themself', 'theis', 'thc', 'thawed', 'thaw', 'thanking', 'thaks', 'th', 'texan', 'tex', 'tetra', 'tetleys', 'testify', 'tes', 'terry', 'terrium', 'territorial', 'terrior', 'terrilbe', 'terrifc', 'terriable', 'terrarium', 'terra', 'tenths', 'tenth', 'tentacle', 'tension', 'tennis', 'tendon', 'tenders', 'tenderloin', 'tendancy', 'temps', 'tempranillo', 'temporary', 'temperament', 'teh', 'teething', 'teeter', 'teensy', 'tee', 'teddy', 'ted', 'tecture', 'technology', 'techniques', 'technique', 'technician', 'teat', 'teaspoonful', 'teary', 'tearing', 'teared', 'teabagged', 'tbsps', 'tbe', 'tazmo', 'taylors', 'taylor', 'taxidermist', 'taught', 'tatters', 'tatste', 'tatse', 'tatooes', 'tather', 'taters', 'tastless', 'tastewise', 'tasters', 'tastely', 'tastelessly', 'tasteing', 'tastefull', 'tassimodirect', 'tasselfield', 'tasks', 'tartlets', 'targeting', 'targeted', 'tarako', 'tar', 'tapes', 'tapenade', 'tapatio', 'tapanade', 'tanzanian', 'tanzania', 'tannic', 'tank', 'tangier', 'tangible', 'tamping', 'tamer', 'tamed', 'tamales', 'tama', 'takeout', 'tails', 'tail', 'tai', 'taht', 'tagine', 'tacoma', 'tacky', 'tack', 'tabs', 'taboule', 'tablespoonsful', 'tablespoonful', 'sytemic', 'systems', 'syrah', 'synonymous', 'syndrome', 'syncope', 'symptom', 'swtich', 'switzerland', 'swishing', 'swirling', 'swirl', 'swipe', 'swing', 'swimming', 'swigs', 'swig', 'swerve', 'swelling', 'sweetleaf', 'sweeting', 'sweeties', 'sweepings', 'swedish', 'sweden', 'sweating', 'swapped', 'svc', 'suttle', 'suto', 'sustitutes', 'sustenance', 'sustained', 'sustainable', 'sustain', 'suspiciously', 'suspension', 'suspended', 'susie', 'survives', 'surveys', 'surroundings', 'surrounding', 'surrogate', 'surrendered', 'surpass', 'surly', 'surfaces', 'suppression', 'suppliers', 'supplied', 'supplementation', 'supieror', 'supervision', 'superceded', 'superbly', 'sunrise', 'sunlight', 'sunflowers', 'sums', 'summarize', 'suitcase', 'suggestibility', 'suggessted', 'suger', 'sugargree', 'sufficiently', 'suffering', 'sufferers', 'suet', 'sued', 'suddal', 'sucorse', 'suckered', 'sucked', 'succumb', 'succulent', 'succinic', 'suburb', 'subtract', 'subtleties', 'substitutions', 'substantive', 'subsrcibe', 'subsitute', 'subsidiary', 'subscriptions', 'subscribeand', 'subscibe', 'subpar', 'submitted', 'submit', 'sublimated', 'subgenre', 'subcription', 'subcontinent', 'subbing', 'subbed', 'suace', 'sturdier', 'stupidly', 'stupidity', 'stunned', 'stumble', 'stuffs', 'studing', 'studied', 'strvia', 'struggling', 'structure', 'struck', 'stroll', 'stroganof', 'strive', 'stripe', 'stringy', 'strings', 'stringiness', 'stringent', 'strikes', 'strick', 'streusel', 'stretchy', 'stretch', 'stressed', 'strenth', 'stregnth', 'street', 'streams', 'streaking', 'stray', 'straw', 'strategy', 'stranded', 'strait', 'straining', 'strainers', 'strained', 'straightforward', 'storm', 'storebrand', 'storability', 'stones', 'stomps', 'stomaching', 'stomache', 'stockpiling', 'stockmens', 'stockings', 'stitch', 'stirs', 'stint', 'stinking', 'stingy', 'stinging', 'stimulats', 'stimulation', 'stimulates', 'stimulant', 'stigma', 'stico', 'stickss', 'stickiness', 'stickin', 'sthg', 'sth', 'stewed', 'stevita', 'steven', 'steve', 'steroids', 'stereo', 'stepfather', 'stemmed', 'stellarmoney', 'stellar', 'steered', 'steeps', 'steeler', 'steamroller', 'steam', 'stealing', 'stead', 'status', 'stats', 'stations', 'stationed', 'stater', 'statements', 'statement', 'statehood', 'stashtea', 'stashed', 'starving', 'starvation', 'startlingly', 'startes', 'starred', 'starkist', 'stares', 'starchy', 'starches', 'staral', 'staples', 'standpoint', 'stamps', 'stamp', 'staler', 'staleness', 'stainless', 'staining', 'stail', 'staggering', 'staged', 'stacy', 'stacking', 'stacked', 'stabilizers', 'stabilizer', 'ssssssssssssssh', 'sssooooo', 'squism', 'squishing', 'squishiness', 'squished', 'squirrel', 'squelch', 'squeezy', 'squeamish', 'squeaky', 'squeaks', 'squeak', 'squat', 'spurts', 'spunk', 'spuds', 'sprue', 'sprouting', 'spritzers', 'spritz', 'springing', 'sprigs', 'spree', 'spreader', 'sport', 'spoons', 'spoonable', 'sponsors', 'sponsor', 'spongy', 'spongey', 'spongebob', 'sponge', 'spoken', 'spoilt', 'spoils', 'spoiling', 'spoilage', 'splitting', 'splatter', 'splashes', 'spitting', 'spite', 'spiral', 'spinkle', 'spine', 'spin', 'spilt', 'spills', 'spiling', 'spiking', 'spiked', 'spiedie', 'spicyness', 'spicing', 'spicier', 'sphincter', 'spherification', 'spewing', 'spew', 'spendy', 'spencer', 'spelling', 'spelled', 'spell', 'speeds', 'speediest', 'speculation', 'speculated', 'spectrophotometer', 'spectaculary', 'spectacularly', 'specs', 'speckled', 'specify', 'specified', 'specifics', 'specifications', 'specials', 'specialized', 'spears', 'speaks', 'speakers', 'spayed', 'spat', 'spas', 'sparse', 'sparks', 'spankin', 'spa', 'soymilk', 'southwest', 'southerners', 'southeastern', 'southeast', 'sours', 'sourcream', 'souce', 'sorting', 'sorbate', 'soprano', 'sophistication', 'soothes', 'sooooooooooooo', 'somoeone', 'sometimetimes', 'someplace', 'somemore', 'somebody', 'solos', 'solofill', 'solofil', 'solitudinarian', 'solidifying', 'solely', 'sole', 'soldiers', 'sojo', 'sog', 'softens', 'soften', 'sofla', 'sode', 'sociables', 'sobe', 'soared', 'snyders', 'snuggle', 'snug', 'snuff', 'snowed', 'snort', 'snickerdoodle', 'snicker', 'sneak', 'snappiness', 'snapped', 'snakes', 'snail', 'snacky', 'snackwise', 'smylie', 'smuckers', 'smothered', 'smoothering', 'smooooooooooooooooooth', 'smokeys', 'smith', 'smidge', 'smelt', 'smellies', 'smash', 'smarter', 'smallness', 'smallist', 'smallish', 'smack', 'sm57', 'slumber', 'slugs', 'sludgy', 'slows', 'slowing', 'slot', 'sloppy', 'slop', 'slivers', 'slit', 'slimmy', 'slimmer', 'slimed', 'slime', 'sliding', 'slides', 'slickers', 'slicked', 'slew', 'slenderize', 'slender', 'slaughtering', 'slathering', 'slathered', 'slated', 'slammin', 'skyrocketed', 'skype', 'sky', 'skus', 'skipped', 'skinned', 'skimmed', 'skills', 'skilling', 'skill', 'skewer', 'skepticism', 'skeptic', 'sizzlin', 'sixties', 'sixth', 'sis', 'siracha', 'sippers', 'sinue', 'sinking', 'sings', 'singlularly', 'singles', 'singing', 'sing', 'sinful', 'sincere', 'simplicity', 'simplest', 'simmering', 'similasan', 'similarities', 'sill', 'silikids', 'silicon', 'silent', 'signing', 'sightly', 'sifts', 'sifted', 'sieve', 'siegel', 'sidewalks', 'sided', 'sickened', 'sibu', 'siblings', 'si', 'shy', 'shun', 'shrugs', 'shrug', 'shrinkage', 'shreds', 'shpping', 'shove', 'shoulda', 'shoud', 'shorthair', 'shortest', 'shorter', 'shortage', 'shore', 'shoprite', 'shoppers', 'shopper', 'shoeveling', 'shoe', 'shocking', 'shippers', 'shiping', 'shinny', 'shined', 'shin', 'shihtzu', 'shihpoo', 'shifting', 'shift', 'shielded', 'shhhakes', 'shhet', 'sherry', 'shepherds', 'shep', 'shelved', 'shelfs', 'sheepdog', 'shears', 'shazam', 'shaved', 'shattered', 'shatter', 'sharpie', 'sharper', 'sharonanne', 'shares', 'shareing', 'shards', 'shapped', 'shamelessly', 'shaken', 'shady', 'sh', 'sewn', 'sevice', 'severs', 'seventh', 'seuss', 'settleing', 'seth', 'setbacks', 'sesmark', 'server', 'serveice', 'serum', 'serrated', 'serial', 'september', 'sept', 'seperate', 'separation', 'separating', 'separates', 'sentence', 'senso', 'sensitives', 'seniors', 'sends', 'semisweet', 'semisolid', 'semisoft', 'semester', 'semblance', 'seizures', 'seizure', 'seinfeld', 'seige', 'seelect', 'seeking', 'seedlander', 'seediness', 'seeder', 'seduces', 'sediment', 'secured', 'sectioned', 'secondary', 'seawater', 'seasame', 'seas', 'searchomg', 'searches', 'sear', 'seams', 'seamlines', 'sealer', 'sealable', 'seahawks', 'se', 'sd', 'sculpture', 'scrumptuous', 'scrumdiddlyumptous', 'screwdriver', 'screens', 'screams', 'scream', 'scratches', 'scraps', 'scraped', 'scrape', 'scouts', 'scout', 'scouring', 'scotties', 'scott', 'scotch', 'scores', 'scored', 'sclafani', 'scientific', 'scholarship', 'schnoodle', 'schnauzers', 'schemes', 'scheme', 'sceptical', 'scarfs', 'scarf', 'scarcity', 'scarce', 'scape', 'scammers', 'scam', 'scaly', 'scalp', 'scallions', 'scales', 'scalded', 'sc', 'sayin', 'sayan', 'sawdust', 'savy', 'savoured', 'savora', 'saviour', 'savers', 'sauteing', 'sauteeing', 'sautee', 'saurday', 'sauer', 'saudi', 'saucethings', 'saucers', 'satisifies', 'satisfing', 'satisfiing', 'satisfatory', 'satifying', 'satified', 'sashimi', 'sarsaparilla', 'santanders', 'sans', 'sanitizing', 'sanitary', 'sangria', 'sangiovese', 'sanford', 'sandy', 'sandwhich', 'samzon', 'samplers', 'samovar', 'sambazon', 'samba', 'saly', 'salumeria', 'saltwater', 'saltless', 'saltiest', 'saltier', 'salsbury', 'saloon', 'salisbury', 'salesman', 'salami', 'sal', 'sakes', 'sailsbury', 'sahlen', 'saget', 'sage', 'saffron', 'safest', 'saddled', 'saddlebag', 'saddle', 'saddens', 'saddened', 'sacrilege', 'sacrificed', 'sacramento', 'sacks', 'saccarine', 'sabrina', 'saba', 'saaqin', 'ryvita', 'rx', 'rw', 'rustle', 'russia', 'russells', 'rusk', 'rushing', 'runzo', 'runt', 'rumor', 'ruled', 'ruining', 'ruidos', 'rugrats', 'rug', 'ruffly', 'ruffles', 'rubies', 'rubbery', 'rubbermaid', 'rubbed', 'rte', 'rtcj', 'routines', 'route', 'rounder', 'roulette', 'rouler', 'rotisserie', 'roth', 'rotel', 'rote', 'rotational', 'rotatable', 'roswell', 'roster', 'ross', 'ropes', 'rope', 'rooted', 'rooms', 'roommies', 'roomates', 'ronald', 'ron', 'romans', 'rollups', 'roller', 'rolland', 'role', 'roe', 'rockstar', 'rocker', 'rocked', 'rocher', 'robs', 'robles', 'robertsons', 'roand', 'roaming', 'rj', 'rivera', 'river', 'rivals', 'rivaled', 'ritz', 'rite', 'risks', 'rishi', 'risen', 'ripple', 'ripping', 'ripper', 'rio', 'rinses', 'ringing', 'ringer', 'rinds', 'rim', 'riesling', 'rids', 'ridges', 'ridged', 'ridding', 'ridculously', 'ricotta', 'richly', 'riceworks', 'ricemilk', 'ricecakes', 'ricans', 'rican', 'ribose', 'rib', 'ri', 'rhino', 'reyes', 'rex', 'rewrapped', 'rewarding', 'rewarded', 'revival', 'revitalizing', 'reviewd', 'revert', 'revelation', 'reveived', 'reveals', 'reusuable', 'reusing', 'reuseable', 'retrospect', 'retrievers', 'retreiver', 'retirement', 'retire', 'reticent', 'retaining', 'retailing', 'retailers', 'resupplied', 'resume', 'resultado', 'resue', 'resturants', 'restuarants', 'restroom', 'restocks', 'restocked', 'restless', 'restaraunt', 'ressucitated', 'responsibly', 'responsibily', 'responsibility', 'responisbility', 'responding', 'responable', 'respects', 'respectable', 'resorted', 'resonable', 'resolves', 'resistent', 'residuals', 'residual', 'residents', 'resided', 'reship', 'reservoir', 'resent', 'resellers', 'resell', 'reseals', 'resealed', 'rescues', 'reqular', 'reputable', 'repurpose', 'repulsively', 'repulsive', 'repugnance', 'republics', 'reproduce', 'represented', 'representative', 'replicators', 'replica', 'replenishing', 'replaces', 'replacements', 'replaceable', 'repertoire', 'repercussions', 'repellant', 'repackage', 'reorderd', 'reopen', 'reoccurring', 'renfros', 'rendering', 'renamed', 'renal', 'renaissance', 'remy', 'removes', 'removal', 'removable', 'remorse', 'remnants', 'reminder', 'remembeer', 'remedies', 'remedied', 'remarks', 'remade', 'relocation', 'relocating', 'rellette', 'religiously', 'religious', 'religion', 'reliably', 'reliability', 'relegated', 'releave', 'releasing', 'releasable', 'relaxer', 'relationship', 'relation', 'relates', 'relate', 'rejoiced', 'rejoice', 'rejects', 'reject', 'reith', 'reissue', 'reishi', 'reintroduced', 'reinstating', 'reinforcing', 'rehydrating', 'rehydrates', 'rehydrate', 'reheated', 'reheat', 'regualar', 'regreted', 'regions', 'regima', 'regards', 'regarded', 'regale', 'reg', 'refrigerating', 'refridgerated', 'refresshing', 'refreshments', 'refresher', 'refresh', 'refrain', 'reflex', 'reflects', 'reflection', 'refills', 'refilled', 'referring', 'referencing', 'references', 'referenced', 'reeses', 'reeks', 'reeder', 'reed', 'redwood', 'redundant', 'redskin', 'redone', 'redneck', 'redmill', 'redline', 'rediscovered', 'redilly', 'redi', 'redesigned', 'redenbacker', 'redbull', 'redbarn', 'recyle', 'recuperating', 'rectify', 'recovered', 'recoommend', 'reconsider', 'reconcile', 'recommneds', 'recommmend', 'recommanded', 'recomiendo', 'recomendo', 'recognizing', 'recognizes', 'recloseable', 'reckon', 'reckless', 'recital', 'recipies', 'recipients', 'recipiant', 'recieving', 'reciepes', 'recession', 'recesses', 'reception', 'recepies', 'recepie', 'receiver', 'rec', 'reboot', 'reassures', 'reassure', 'reassembly', 'reap', 'realy', 'realm', 'realllly', 'reall', 'realkopiluwak', 'realizes', 'realization', 'realistically', 'reagan', 'reaffirmation', 'readers', 'reader', 'reacting', 'react', 'reached', 'reaaaly', 'ravenous', 'rasp', 'rasins', 'rashes', 'rasberry', 'rarity', 'rants', 'ranting', 'rant', 'ranked', 'rangoon', 'rang', 'rancidity', 'ranchers', 'ranchero', 'ramyun', 'ramsey', 'ramikens', 'ralph', 'raises', 'ragged', 'rage', 'ragdoll', 'raffia', 'raely', 'radishes', 'radio', 'radicals', 'radically', 'radar', 'racks', 'racing', 'rachel', 'races', 'ra', 'quoting', 'quotes', 'quoted', 'quote', 'qulity', 'quishe', 'quinn', 'quiet', 'quickening', 'quickbreads', 'quibble', 'quests', 'questioning', 'quesadilla', 'queried', 'quercia', 'quell', 'quarrels', 'quanity', 'quanities', 'qualms', 'qualify', 'qualified', 'quailty', 'qty', 'qt', 'qid', 'qh', 'qfc', 'qc', 'qaulity', 'qa', 'pyrex', 'pyrenees', 'pussycat', 'pushes', 'pursue', 'purrfect', 'purr', 'purports', 'purportedly', 'purported', 'purist', 'purifies', 'purified', 'purhcasing', 'purhcase', 'purest', 'pureeing', 'pureed', 'purchses', 'purchsed', 'purchasers', 'purchaser', 'purchaseing', 'purchace', 'pupose', 'punk', 'punctuated', 'pumps', 'pumpking', 'pumkin', 'pulverized', 'pulpy', 'pulling', 'puking', 'puke', 'puggies', 'puede', 'pude', 'puddles', 'puddle', 'puddin', 'pucks', 'pubs', 'publish', 'publicity', 'pu', 'psoriasis', 'pseudo', 'pruning', 'proximity', 'provolone', 'prouct', 'protrusions', 'protocol', 'protien', 'protest', 'prostate', 'prosper', 'prospects', 'prospective', 'prosecco', 'proprietary', 'propped', 'proposal', 'proportions', 'proportion', 'pronounceable', 'prone', 'prompty', 'promotions', 'promotes', 'promoted', 'promote', 'promising', 'prolific', 'projectile', 'prohibits', 'prohibitively', 'progressively', 'progressive', 'progressed', 'progessing', 'profusly', 'profound', 'proficient', 'proficiency', 'professorial', 'professor', 'profecinal', 'productos', 'productive', 'producers', 'prodect', 'procuct', 'procter', 'proclaimed', 'proclaim', 'processes', 'proceeded', 'procedure', 'proccesed', 'probs', 'problemas', 'probiotics', 'probiotic', 'probado', 'privately', 'pristine', 'printing', 'primo', 'primitive', 'primal', 'prima', 'priceyness', 'pricce', 'prevention', 'preventing', 'prevailant', 'pretend', 'presoak', 'presidential', 'preservation', 'presenting', 'prescribes', 'preschooler', 'prepunched', 'prepping', 'prepares', 'premise', 'premier', 'premature', 'premakes', 'premade', 'preffered', 'preferring', 'prefered', 'prefecture', 'prefect', 'predictive', 'predicted', 'precursor', 'preconceptions', 'preconceived', 'preceded', 'precaution', 'preanut', 'prayers', 'pray', 'prato', 'practicing', 'powerbar', 'powerade', 'powederized', 'powderpuff', 'powderized', 'pourover', 'pouring', 'pounding', 'pounder', 'pounce', 'poullex', 'potty', 'potting', 'potstickers', 'potlucks', 'potions', 'potful', 'potentially', 'potency', 'potatoey', 'potates', 'potasium', 'posters', 'posterous', 'poster', 'postal', 'positioned', 'portuguese', 'portland', 'portie', 'pored', 'porcinis', 'porcini', 'porch', 'popularized', 'poppyseed', 'poplite', 'poper', 'popchip', 'popadoms', 'poopy', 'pooping', 'polyphosphate', 'polluted', 'pollinators', 'polka', 'politely', 'polite', 'poland', 'poking', 'poker', 'poked', 'poisonous', 'pointy', 'pointless', 'poetry', 'podunk', 'podcasting', 'pocus', 'pocketbook', 'pobox', 'pn', 'plz', 'plywood', 'plunk', 'plumbing', 'plugs', 'plugging', 'pluck', 'plopped', 'pliers', 'pliability', 'pledge', 'pleasurable', 'pleasent', 'plead', 'playdoh', 'plave', 'platoon', 'plates', 'plasticy', 'plasticized', 'plasmon', 'plasitc', 'plaque', 'planting', 'planters', 'planter', 'plantation', 'planned', 'planitarium', 'plainly', 'plack', 'pizzaz', 'pixie', 'pity', 'pittsburgh', 'pittie', 'pitiful', 'pithed', 'pitchers', 'pitbull', 'pita', 'piquillos', 'piquant', 'piping', 'piper', 'pipe', 'pins', 'pinkalicious', 'pinicky', 'pingos', 'pinched', 'pinacolada', 'pillowy', 'pillow', 'piled', 'pigs', 'picnics', 'pickup', 'pickling', 'pickles', 'pickings', 'pickiest', 'pickier', 'pickemup', 'pibble', 'piana', 'piad', 'pia', 'physical', 'photograph', 'phosphorous', 'phoenix', 'philosophy', 'philmont', 'philly', 'phillips', 'philippine', 'phila', 'phew', 'phenomenon', 'phased', 'phase', 'pharmacist', 'phardtpounder', 'pg58', 'pf', 'petrossian', 'petri', 'petpromise', 'petite', 'petguard', 'petgaurd', 'pete', 'petals', 'perversion', 'pervasive', 'pertty', 'pertain', 'persuasively', 'persians', 'perruche', 'perplexing', 'perpetuated', 'pero', 'permanently', 'permanant', 'perk', 'perishable', 'periodic', 'perfumey', 'performer', 'perfict', 'perel', 'peppery', 'pepperoni', 'pepperminty', 'pepperiness', 'pepperdine', 'peppercorn', 'pepped', 'pepino', 'peper', 'pepcid', 'pep', 'peony', 'penne', 'penna', 'penetrating', 'pencils', 'pencil', 'peloponnese', 'pellets', 'peicer', 'peeves', 'peete', 'peeing', 'pedigree', 'pediatra', 'pediasure', 'pedialyte', 'pedialite', 'pedestrian', 'peccorino', 'peat', 'peasy', 'peasant', 'peary', 'pearl', 'peant', 'pealing', 'peachy', 'pds', 'pcm', 'pbj', 'pb2', 'payoff', 'payment', 'pawnee', 'pause', 'paticular', 'patents', 'patented', 'patches', 'pastries', 'pastor', 'pastilles', 'pasteurized', 'pasteurization', 'pasted', 'passione', 'passersby', 'passer', 'passages', 'paso', 'partied', 'particulate', 'particle', 'participating', 'participants', 'parsely', 'parrot', 'paromi', 'parlor', 'pareve', 'parenting', 'parasites', 'paranoid', 'paramsan', 'paralized', 'paragon', 'pappy', 'paperwork', 'papayas', 'papaya', 'paople', 'pant', 'panicked', 'panic', 'pangs', 'panel', 'panax', 'panasonic', 'pampered', 'pam', 'palpitations', 'pallet', 'palet', 'paks', 'pairs', 'pairings', 'pairing', 'paintbrush', 'painless', 'painkillers', 'pages', 'paella', 'pacs', 'packinghouse', 'pach', 'ozs', 'ozbo', 'oxidized', 'oxidize', 'oxidents', 'owns', 'owning', 'owl', 'owe', 'overtime', 'overtaste', 'overtaking', 'oversweet', 'overstock', 'oversteeping', 'oversteeped', 'overstating', 'overspend', 'oversize', 'overshadowed', 'oversalted', 'overrun', 'overrode', 'overripe', 'overrated', 'overpaid', 'overnighted', 'overloads', 'overloaded', 'overload', 'overjoyed', 'overindulging', 'overindulges', 'overindulgence', 'overheated', 'overheat', 'overflows', 'overfill', 'overfeed', 'overfed', 'overeat', 'overdue', 'overdose', 'overdoing', 'overdid', 'overcoooked', 'overcook', 'overcharging', 'overcharged', 'overcarbonated', 'overbuying', 'overboard', 'overblown', 'overback', 'outsource', 'outragous', 'outings', 'outgrowing', 'outfits', 'outed', 'outdoors', 'outdates', 'outchew', 'outburst', 'outback', 'ounches', 'oue', 'otr', 'othere', 'oster', 'osmosis', 'osmanthus', 'oskri', 'orzo', 'orthodox', 'ortho', 'orrigional', 'orphan', 'ornament', 'orijin', 'origins', 'origin', 'origen', 'oriented', 'orginals', 'orginal', 'orgasmic', 'organisms', 'organically', 'ore', 'ordinarily', 'orderred', 'ordeed', 'orangish', 'oranged', 'optuion', 'oprah', 'opps', 'opposition', 'oppose', 'opend', 'opaque', 'oooh', 'oompletely', 'oolongs', 'oohs', 'ony', 'onstage', 'onlything', 'onlycomplaint', 'onhand', 'oneanother', 'omgz', 'omelettes', 'omega6', 'olympics', 'oktava', 'okey', 'oinkies', 'oilive', 'oiliness', 'ohman', 'ohhhhhh', 'ofore', 'offset', 'officially', 'offices', 'offically', 'offense', 'offended', 'offend', 'offal', 'oetker', 'oem', 'odorous', 'odorless', 'odering', 'odds', 'oct', 'occuring', 'occurance', 'occoured', 'occations', 'occassion', 'obtainable', 'obsolete', 'obseved', 'obsessively', 'obsessed', 'observed', 'obnoxiously', 'obnoxious', 'obliterated', 'objectionable', 'obey', 'obese', 'oatcakes', 'oameal', 'nylabone', 'nuttzo', 'nutshell', 'nutro', 'nutrisodas', 'nutrisoda', 'nutrional', 'nutrion', 'nutricious', 'nutri', 'nutramigen', 'nutragrain', 'nutella', 'nurtured', 'nurture', 'nurishing', 'numb', 'nuke', 'nuitionists', 'nuisance', 'nugget', 'nuf', 'nuclear', 'nuances', 'nuanced', 'nprice', 'nowadays', 'novetly', 'novel', 'nourishing', 'nourished', 'nough', 'notoriously', 'notorious', 'notions', 'noticing', 'noticibly', 'nothin', 'notecard', 'notable', 'nostril', 'nostalgia', 'nostagia', 'nosh', 'nos', 'norway', 'northeast', 'noone', 'noon', 'nonsense', 'nonfat', 'nonexistant', 'nolonger', 'noises', 'nite', 'nissan', 'ning', 'nigari', 'nifty', 'nickel', 'nicce', 'niagara', 'newtons', 'newt', 'newmansbon', 'newfoundlands', 'newf', 'newcomer', 'nevling', 'neutered', 'neurotic', 'neuro', 'network', 'netty', 'netherlands', 'netgrocer', 'nescafe', 'neoprene', 'neonatal', 'neighbourhood', 'nehi', 'negotiate', 'neglected', 'negging', 'negate', 'neely', 'necks', 'necklace', 'neccessary', 'neater', 'ne', 'nd', 'ncis', 'nc', 'navigating', 'navigate', 'nauseous', 'natures', 'naturapath', 'natual', 'natropath', 'nationwide', 'nastyness', 'nastiness', 'narrower', 'napoletana', 'naples', 'napa', 'nap', 'nano', 'naniboujou', 'nancy', 'namely', 'nailed', 'nachoes', 'nabob', 'nabbed', 'myth', 'mystery', 'mysterious', 'myriad', 'myk', 'myer', 'mycology', 'mxl', 'mx', 'muuuuch', 'muted', 'muss', 'musicians', 'musician', 'musical', 'mushed', 'muselix', 'museli', 'muscle', 'muscavado', 'murphy', 'muncho', 'munchkins', 'munchie', 'munches', 'muncher', 'mums', 'mum', 'multivitamin', 'multiplication', 'multiples', 'multipack', 'multicolored', 'multican', 'mulling', 'mules', 'mulberries', 'muggs', 'mugful', 'mucous', 'muck', 'mth', 'mtbe', 'ms', 'mozzarella', 'mozarella', 'mowing', 'mow', 'mousse', 'mouse', 'mourning', 'mourned', 'mountian', 'mount', 'mounded', 'motto', 'motor', 'motivator', 'motivated', 'motions', 'moth', 'motel', 'morse', 'morphs', 'mori', 'morgue', 'morgan', 'moretti', 'mopping', 'mopped', 'moore', 'montreal', 'monte', 'montana', 'monosaturated', 'monocalcium', 'monkey', 'monitors', 'monitor', 'mongrels', 'monday', 'monastero', 'mona', 'momthly', 'momma', 'molten', 'mollie', 'molecule', 'molding', 'molases', 'molars', 'mol', 'moistness', 'moistest', 'moistened', 'moi', 'mohogany', 'modesto', 'modest', 'modes', 'modem', 'mode', 'mocoa', 'mock', 'moab', 'mmmmmmmm', 'mmmm', 'mmf', 'mm', 'mlk', 'mk', 'mitigates', 'misunderstand', 'mistreated', 'mister', 'mistakenly', 'mista', 'missouri', 'mississippi', 'missions', 'misrepresentation', 'miso', 'misnomer', 'mishka', 'miserably', 'mis', 'miraculously', 'miraculin', 'mir', 'mintiness', 'miniscule', 'mining', 'minichips', 'minichews', 'miniaturized', 'mingling', 'mines', 'mindlessly', 'minded', 'mince', 'minature', 'mimic', 'milupa', 'millk', 'millionaire', 'miller', 'millay', 'milkbones', 'milans', 'mignon', 'mighty', 'midwesterners', 'midnight', 'midmorning', 'middlin', 'middletown', 'midddle', 'microwaved', 'microwavable', 'microgranuls', 'microbio', 'micr', 'michael', 'mexi', 'mexgrocer', 'mex', 'mew', 'metropolitan', 'metroplex', 'metro', 'metaphors', 'metaphor', 'metabolic', 'mest', 'messing', 'messes', 'messaging', 'meshing', 'meshed', 'merula', 'merrill', 'meringues', 'mereingues', 'mercy', 'merchants', 'merchant', 'merchandiser', 'meowing', 'mentos', 'mental', 'mendicino', 'memphis', 'memorex', 'memorable', 'meltzer', 'meltaways', 'melon', 'mellowness', 'mellowing', 'mellower', 'mellin', 'melita', 'melissa', 'melds', 'melded', 'meld', 'melanosporum', 'mejor', 'megabyte', 'meetings', 'medley', 'mediciny', 'medications', 'medically', 'mediate', 'medglia', 'medal', 'med', 'mechanically', 'mechanical', 'meatloaf', 'meatless', 'meatiness', 'meatier', 'meatball', 'measurement', 'measly', 'meadows', 'mdr', 'mcwallymart', 'mccormacks', 'mccanns', 'mbox', 'mberries', 'mayonaise', 'mayenberg', 'mayan', 'maxx', 'maxwelhouse', 'maximizing', 'mauna', 'matzo', 'maturing', 'matte', 'matt', 'maternity', 'matching', 'matches', 'mat', 'masterpiece', 'massively', 'massaging', 'massage', 'massachusettes', 'masks', 'masking', 'mash', 'maschine', 'masaman', 'marylander', 'maryland', 'marvelously', 'martinies', 'marth', 'marshmallow', 'marshawn', 'marshall', 'marshal', 'married', 'marriage', 'marnier', 'markup', 'marketplace', 'mario', 'marinated', 'marinara', 'marinading', 'marie', 'maria', 'margins', 'marginal', 'margin', 'margherita', 'margarita', 'marathoners', 'maraschino', 'mar', 'mapel', 'manufacturerer', 'manuever', 'mannered', 'manila', 'manhattan', 'manf', 'maneuver', 'mandatory', 'manchester', 'manchego', 'management', 'mamushka', 'malva', 'malti', 'malted', 'mall', 'malher', 'malfunction', 'malcom', 'makeout', 'majorly', 'mainstay', 'mails', 'mahogani', 'mahagoney', 'magnificent', 'magnet', 'maggiemay', 'maggie', 'maestro', 'madonna', 'madhava', 'mades', 'madeleine', 'madascar', 'macomb', 'mackays', 'macines', 'machete', 'mache', 'macciato', 'macchiatos', 'macchiato', 'macchiado', 'macaroon', 'maca', 'm502', 'm380', 'm2', 'lynch', 'lydia', 'ly', 'luzerne', 'lured', 'lure', 'lungs', 'lunge', 'lung', 'lunds', 'lundberg', 'lunchtime', 'lunchfood', 'lunchboxes', 'lunchbox', 'lumpy', 'lugubrious', 'lugging', 'luggage', 'lug', 'lucy', 'lucks', 'luckly', 'lucked', 'lucious', 'luak', 'lte', 'lskejfewl', 'lsfjewldf', 'loyalty', 'loyalist', 'lowfat', 'lowers', 'loveable', 'lous', 'loumidis', 'louisiana', 'louise', 'louisanna', 'loudly', 'lotto', 'lotta', 'lotions', 'lotion', 'lorna', 'lorenzo', 'lorann', 'lopsided', 'looser', 'loosened', 'loosen', 'looseleaf', 'loops', 'looove', 'loooove', 'loooong', 'looney', 'lookes', 'longtime', 'longevity', 'longed', 'longan', 'lone', 'lololol', 'lolly', 'logical', 'log', 'lodges', 'locorice', 'locking', 'locations', 'locating', 'located', 'locale', 'loc', 'loafs', 'loading', 'loa', 'lme', 'llhb', 'llevar', 'llasa', 'livi', 'liven', 'liveglutenfreely', 'littlt', 'litres', 'listning', 'listening', 'liqueur', 'lipil', 'lipid', 'lip', 'linux', 'linoleic', 'linked', 'lingered', 'lineup', 'lineon', 'lindt', 'limitations', 'limitation', 'limbs', 'lilly', 'likke', 'liketo', 'likening', 'lightweights', 'lightest', 'lighten', 'lifted', 'lifestyle', 'lifeless', 'liek', 'liege', 'lied', 'licorise', 'lickins', 'licking', 'lickin', 'licious', 'liberal', 'liable', 'li', 'lexington', 'lewis', 'levon', 'levitated', 'leveled', 'leu', 'lettieri', 'letters', 'lethargy', 'lethargic', 'lesson', 'lesses', 'lessened', 'lessen', 'leptospirosis', 'leonardi', 'leona', 'lenthwise', 'lengthy', 'lengthwise', 'lend', 'lemos', 'lemony', 'leisurely', 'leeway', 'leches', 'leathery', 'leap', 'leaky', 'league', 'leafy', 'leadership', 'leader', 'le', 'laziness', 'layering', 'lawnmower', 'lawn', 'lavor', 'lavender', 'lava', 'lauryl', 'laureth', 'laura', 'laundry', 'laughter', 'latin', 'latice', 'latency', 'latching', 'latch', 'lastplace', 'lars', 'laroshell', 'lapses', 'laps', 'laperm', 'lands', 'laminated', 'laks', 'lakewood', 'lait', 'laissez', 'lagers', 'lagering', 'laffy', 'lado', 'laddoos', 'lactic', 'lacteas', 'lactating', 'lackluster', 'labrador', 'lable', 'kyoto', 'kuh', 'krusteaz', 'krunchies', 'kristian', 'krispies', 'krispie', 'krinos', 'kreuig', 'kreation', 'kraut', 'krackel', 'kowalski', 'kongxl', 'kombucha', 'kohls', 'kohl', 'koffee', 'kof', 'koerig', 'knuckle', 'knoxville', 'knowledge', 'knights', 'knees', 'kneading', 'klefje', 'kkups', 'kkup', 'kist', 'kis', 'kirby', 'kippered', 'kindergartens', 'kilter', 'kilos', 'killin', 'killed', 'kidneys', 'kiddo', 'kickin', 'ki', 'keuring', 'keurigs', 'kettles', 'keto', 'ketchupy', 'kernal', 'kenya', 'kenco', 'kelloggs', 'keith', 'keiller', 'keig', 'keepsake', 'keen', 'kebob', 'katzan', 'katjes', 'kat', 'karachi', 'kaldi', 'kal', 'kakes', 'kah', 'jw', 'jut', 'justifies', 'jury', 'junto', 'junkyards', 'junkies', 'junior', 'jungle', 'julie', 'julianne', 'juicing', 'juicer', 'juiced', 'judgement', 'jsut', 'js', 'jp', 'joyce', 'jostled', 'jose', 'jorge', 'jones', 'jolt', 'jokingly', 'joking', 'joints', 'joint', 'joebonsai', 'jo', 'jn', 'jlp', 'jitteryness', 'jingle', 'jims', 'jillian', 'jiggle', 'jewels', 'jewelry', 'jettison', 'jerry', 'jerkys', 'jerkies', 'jerkeys', 'jerkey', 'jenny', 'jennings', 'jeez', 'jbl', 'jb', 'jay', 'jawbone', 'janet', 'jamun', 'jammy', 'james', 'jamaicamecrazy', 'jamacan', 'jalepenos', 'jackson', 'jackie', 'izzie', 'iv', 'itty', 'itemized', 'itch', 'italia', 'istant', 'istanbul', 'issuing', 'israeli', 'isolo', 'isolated', 'isle', 'ishopindia', 'irritate', 'irritable', 'irresponsible', 'irradiated', 'ironically', 'ireland', 'ire', 'ir', 'iodide', 'involuntary', 'invoice', 'invite', 'invitation', 'invisible', 'invigorating', 'invigorates', 'invetion', 'inventor', 'invention', 'invasion', 'invaluable', 'invaded', 'intrude', 'introducing', 'intriuged', 'intriguingly', 'intimidated', 'intimidate', 'intimate', 'intial', 'inthe', 'intestinal', 'interviews', 'interview', 'intervals', 'interrupted', 'interrupt', 'interpreter', 'interns', 'internally', 'interim', 'interfere', 'interests', 'interestingly', 'inter', 'intensivo', 'intensified', 'intelligent', 'intead', 'int', 'insurance', 'insult', 'insulating', 'insulated', 'insukin', 'insufficient', 'instructor', 'instruction', 'institution', 'instants', 'instantize', 'instantaneously', 'instantaneous', 'inspector', 'inspected', 'insipid', 'insinuates', 'inquiries', 'input', 'inorganic', 'inordinate', 'inoffensive', 'ink', 'injected', 'inject', 'inhibited', 'inherent', 'inhales', 'ingridents', 'ingretents', 'ingred', 'ingles', 'infuse', 'infringed', 'infrequently', 'inflamation', 'infinity', 'infants', 'inevitable', 'indulges', 'indulgent', 'inducing', 'induces', 'indside', 'individualized', 'indispensible', 'indie', 'indicums', 'indications', 'indgredients', 'indescribable', 'indegestion', 'indefinitely', 'incurred', 'incredulously', 'increasingly', 'incorporating', 'inconvenience', 'inclusion', 'inclinded', 'inclan', 'incident', 'incentives', 'inced', 'incase', 'incas', 'incapable', 'inblu', 'inadequately', 'inability', 'ina', 'impurities', 'impulsive', 'improvememnt', 'impromptu', 'impressions', 'impresionante', 'implied', 'impatiently', 'impart', 'immunity', 'immortal', 'immensley', 'immediatley', 'immature', 'immaculate', 'imitators', 'imitating', 'imidacloprid', 'ilness', 'illustration', 'illustrate', 'illnesses', 'illl', 'illinois', 'ilike', 'il', 'iican', 'ihmo', 'ignoring', 'ignores', 'ignor', 'ignites', 'ido', 'idiot', 'idiocy', 'identifying', 'identified', 'ide', 'idaho', 'ick', 'iceing', 'icebreakers', 'icebox', 'ic', 'ibuprofen', 'hyrator', 'hypogylcemic', 'hypoglycemic', 'hypoglycemia', 'hypertension', 'hyperactivity', 'hyper', 'hype', 'hygienic', 'hydrox', 'hydrolyzed', 'hydrolysed', 'husks', 'husbie', 'hurricanes', 'hurricane', 'hurray', 'hunted', 'hung', 'humus', 'humor', 'hummos', 'humm', 'humane', 'hully', 'htis', 'hr', 'howls', 'howard', 'housewife', 'houses', 'households', 'houseblend', 'hounds', 'hottest', 'hott', 'hotspots', 'hots', 'hotdogs', 'hotdog', 'hotair', 'hosts', 'hosting', 'hospital', 'hortons', 'horton', 'horrifying', 'horrified', 'horrifically', 'hops', 'hoof', 'hoodwinking', 'hoo', 'hong', 'honeymooning', 'honeymoon', 'honeybush', 'honeybees', 'honesty', 'homework', 'hometown', 'homestyle', 'homes', 'homeopathic', 'homeless', 'homegrown', 'homedepot', 'homeade', 'holocaust', 'holidaze', 'holics', 'hogging', 'hocus', 'hockey', 'hmmmmm', 'hmmmm', 'hitch', 'hissing', 'hire', 'hippocrates', 'hinge', 'hime', 'hillock', 'hilachas', 'hiker', 'hijos', 'hightly', 'hight', 'highs', 'highlighted', 'highlight', 'highlander', 'highes', 'hierarchy', 'hid', 'hh', 'hfc', 'hesitating', 'hes', 'hersheys', 'herrs', 'heroin', 'heritage', 'hereby', 'herd', 'herby', 'henks', 'hemoglobin', 'hemming', 'helpings', 'helper', 'heimlich', 'heightenes', 'heightened', 'heheheh', 'heflin', 'heed', 'hectic', 'heaviness', 'heatwave', 'heats', 'heatproof', 'heather', 'hearts', 'heartrending', 'heartland', 'heartiness', 'heartily', 'heartier', 'hearted', 'heartbreaking', 'hears', 'heaped', 'healtier', 'healthfulness', 'healthfully', 'healthfood', 'healthest', 'healther', 'heal', 'headway', 'headphone', 'headlamps', 'heading', 'headed', 'headachy', 'hcg', 'hc', 'hbp', 'hazlenut', 'haze', 'hazards', 'hazalnut', 'hay', 'hawwing', 'hawk', 'havn', 'haveing', 'hav', 'hats', 'hating', 'hat', 'haste', 'hasta', 'hassles', 'hassel', 'harvesting', 'harshness', 'harshly', 'harris', 'harold', 'harms', 'harmless', 'harina', 'haribo', 'hardy', 'hardish', 'harden', 'harbors', 'harbanero', 'happymorning', 'happymelts', 'happyfamily', 'happening', 'hanover', 'hanoud', 'handwritten', 'handsful', 'handled', 'handing', 'handily', 'handicapped', 'hamsteak', 'hame', 'hamburg', 'hamberger', 'halwa', 'halving', 'hallucinogenic', 'hairlike', 'hairless', 'haired', 'hagen', 'hacking', 'hacia', 'hacer', 'habitual', 'habitat', 'habenaro', 'habbit', 'habaneros', 'h2o', 'guzzling', 'gutsy', 'gute', 'gustibus', 'gussie', 'gunking', 'gummyness', 'gummie', 'gulps', 'gulping', 'gulped', 'gulp', 'gulab', 'guises', 'guinea', 'guiltily', 'guidelines', 'guided', 'guesto', 'gubment', 'guayasa', 'guatamalan', 'guarding', 'guarantees', 'guarana', 'gualala', 'guaifenisen', 'grumpy', 'grrrrrrrreat', 'grr', 'groves', 'groups', 'grouping', 'grouchy', 'grossly', 'grooming', 'groomed', 'groecery', 'grocercy', 'groats', 'gro', 'grizzle', 'gristle', 'griddle', 'greets', 'greenough', 'greenness', 'greener', 'greenbeans', 'greeks', 'greed', 'greece', 'gree', 'greatful', 'greasiness', 'greasier', 'grear', 'grazer', 'graze', 'grayish', 'gray', 'gravies', 'gratifying', 'gratefully', 'grasshoppers', 'gras', 'graphics', 'grapeseed', 'granularity', 'granular', 'grant', 'grandsons', 'grandmothers', 'grande', 'granddaughters', 'granddad', 'grandbaby', 'granda', 'gran', 'grammy', 'grammie', 'grammar', 'grainier', 'grained', 'grail', 'graders', 'grabs', 'grabby', 'grabaci', 'governments', 'gourment', 'gouging', 'gouges', 'gouger', 'gotton', 'gorton', 'gormet', 'gorilla', 'gooy', 'goose', 'goos', 'googly', 'googling', 'goofy', 'gooeyness', 'goodlife', 'goodl', 'goodbars', 'goldie', 'goldfish', 'goldendoodle', 'gogreenmart', 'gods', 'goddess', 'gochujang', 'gocery', 'goccia', 'goatmilk', 'gnc', 'glycogen', 'gluttony', 'gluttonous', 'glutten', 'glutin', 'glutenfree', 'glutamic', 'glutamate', 'glueton', 'glues', 'glued', 'gludamate', 'glucosamine', 'gluconolactone', 'gluconate', 'glow', 'glossier', 'glossed', 'glop', 'gloomy', 'glitch', 'glide', 'glazier', 'glazes', 'glase', 'glands', 'glance', 'gizmo', 'giver', 'giveaway', 'gittery', 'giood', 'gino', 'gingrich', 'gimmick', 'gimlet', 'gimbal', 'gilligan', 'gilding', 'gild', 'giger', 'gig', 'gifted', 'gibbs', 'giants', 'ghiraradelli', 'ghiradhelli', 'ghiradeli', 'ghastly', 'gfcfefsf', 'gfcf', 'geyser', 'getaway', 'germs', 'germ', 'geriatric', 'georgia', 'genuine', 'gentry', 'genocide', 'genmai', 'geniuses', 'genius', 'generating', 'genera', 'geliva', 'gelid', 'gelato', 'geesh', 'geek', 'gearing', 'geared', 'gear', 'gds', 'gd', 'gb', 'gazillion', 'gawked', 'gaviscon', 'gauge', 'gaufres', 'gatherings', 'gatherer', 'gastrointestinal', 'gastroenterologo', 'gastro', 'gastritis', 'gasping', 'gasp', 'gasket', 'garner', 'gardner', 'gardens', 'gardening', 'gardeners', 'garanteed', 'gap', 'ganoderma', 'gamed', 'gallo', 'gal', 'gail', 'gadgets', 'gadget', 'gabriel', 'futuristic', 'futher', 'fussiness', 'fused', 'furballs', 'furbaby', 'funyuns', 'funnel', 'funkiness', 'fungicidal', 'funds', 'fundraiser', 'functioned', 'functional', 'fumes', 'fulltime', 'fullest', 'fulfilling', 'ftw', 'ftgfop', 'fryer', 'frutini', 'frustrating', 'fruitiness', 'fruitier', 'fruita', 'frugal', 'fructouse', 'frothing', 'frother', 'frosted', 'frooties', 'froot', 'fron', 'fromm', 'friulana', 'frity', 'frito', 'frist', 'frills', 'friggin', 'frige', 'frezzer', 'freshman', 'freshens', 'frequent', 'frenzies', 'freezie', 'freezes', 'freezdried', 'freer', 'frederick', 'freakishly', 'freaking', 'freaked', 'fratello', 'frappuccinnos', 'frappacino', 'frankenstein', 'frank', 'franchise', 'francaie', 'frame', 'fralinger', 'frail', 'fragment', 'fractionated', 'fox', 'fowl', 'fourteen', 'foundation', 'foster', 'forwards', 'forums', 'forty', 'fortunate', 'forth', 'fort', 'formulary', 'formular', 'fork', 'forgotten', 'forgo', 'forgiving', 'forgettable', 'forged', 'foreward', 'forevaaaaaaa', 'foresee', 'foremost', 'forehead', 'forego', 'foregn', 'ford', 'forcing', 'for4', 'foolproof', 'foolishly', 'foolish', 'foodies', 'font', 'fono', 'fondly', 'fomula', 'followers', 'foll', 'folk', 'folic', 'folate', 'foie', 'fogbuster', 'fodant', 'focusing', 'focused', 'foccaccia', 'focaccia', 'foams', 'foal', 'flys', 'flynn', 'flutters', 'flung', 'fluke', 'fluffiness', 'fluffiest', 'fluffier', 'fluff', 'fluctuations', 'flu', 'flowing', 'flovorful', 'flouride', 'flossies', 'floss', 'florist', 'floaters', 'flipside', 'flips', 'flipping', 'flippant', 'flintstone', 'flight', 'flesh', 'flecks', 'flea', 'flawlessly', 'flavvors', 'flavred', 'flavourful', 'flavos', 'flatulence', 'flashcard', 'flash', 'flapjacks', 'flan', 'flamingos', 'flaking', 'flakier', 'flakey', 'flake', 'flagging', 'fla', 'fizzing', 'fizzier', 'fiz', 'fixx', 'fixing', 'fitting', 'firstly', 'firmness', 'firewire', 'fireside', 'fired', 'firecrackers', 'firecracker', 'finum', 'finnish', 'finick', 'finially', 'findbin', 'financial', 'finaly', 'finals', 'finace', 'fin', 'filtering', 'fillings', 'fillable', 'filigree', 'filet', 'file', 'filberts', 'fiirst', 'field', 'fied', 'fide', 'fiddle', 'fibromyalgia', 'fibre', 'fiancee', 'feves', 'fever', 'fettuccine', 'fetch', 'fertalize', 'ferreros', 'ferndale', 'fermenting', 'feral', 'fer', 'fend', 'fences', 'females', 'fellow', 'felix', 'felines', 'fekkin', 'fees', 'fedex', 'feb', 'feasible', 'fears', 'fearing', 'fazer', 'faygo', 'favs', 'favorirte', 'favorie', 'faves', 'fatties', 'fatigue', 'fathom', 'fatfull', 'fate', 'fatal', 'fascists', 'fascinated', 'fart', 'farrr', 'farmwiner', 'fantasy', 'fantastics', 'fantastically', 'fantasicakes', 'fantacies', 'fantabulous', 'fant', 'fanny', 'fanfreakintastic', 'famnily', 'familys', 'familiarization', 'fame', 'falsely', 'falksalt', 'fajita', 'faithfully', 'faithful', 'fairness', 'fairfield', 'fairer', 'faintest', 'failing', 'faery', 'factoids', 'facsimile', 'facorite', 'facilitate', 'faced', 'facebook', 'fabricated', 'faar', 'eyebrow', 'extremelly', 'extravagent', 'extraordinarily', 'extraction', 'extolling', 'extinguishes', 'external', 'extent', 'extend', 'ext', 'exremely', 'expression', 'expressing', 'exposing', 'exported', 'expo', 'explosively', 'exploited', 'exploded', 'explode', 'explination', 'explicitly', 'explanation', 'expiry', 'experts', 'expertly', 'experimentation', 'experiement', 'experieincing', 'experation', 'expensively', 'expenive', 'expedition', 'expedited', 'expedite', 'expediant', 'expansion', 'expands', 'expand', 'exit', 'existing', 'exist', 'exhorbitant', 'exhibited', 'exhibit', 'exhausting', 'exhausted', 'exerting', 'exerted', 'exert', 'exercised', 'exeptional', 'exeption', 'executed', 'exclusions', 'excluding', 'excitedly', 'exchanging', 'excellentprice', 'excellently', 'excellence', 'excelent', 'exceeded', 'ex', 'ewwwwww', 'evvvveeerr', 'evoo', 'evident', 'evian', 'eveyone', 'everydayforamonth', 'everclear', 'eventhe', 'evens', 'europeans', 'euphoria', 'eucharist', 'eu', 'ethoxyquin', 'ethos', 'ethics', 'ethereal', 'etheopian', 'estrogen', 'estract', 'estate', 'establishments', 'establishing', 'establish', 'esspresso', 'esspreso', 'essentials', 'esque', 'espressos', 'espousing', 'eskate', 'escargot', 'escaped', 'errors', 'erratically', 'ernie', 'erie', 'erh', 'equivilent', 'equivelant', 'equitable', 'equine', 'equation', 'epoxy', 'epileptic', 'epigen', 'epic', 'epcot', 'enzyme', 'environments', 'envelopes', 'entrepreneurship', 'entr', 'enticed', 'entice', 'enthusiasts', 'enthusiast', 'entertainment', 'entered', 'entendre', 'entangled', 'entails', 'ensured', 'ensafen', 'enrich', 'enptied', 'enljoy', 'enlightening', 'enlarge', 'enjoyer', 'enjoyedjthe', 'enjoyably', 'enhancers', 'enhancement', 'engineered', 'engineer', 'engerg', 'engelesia', 'engage', 'enery', 'enemies', 'enegry', 'endorsements', 'endorsed', 'ending', 'endangered', 'encrusted', 'encouraging', 'encourages', 'encouraged', 'encoraging', 'encloses', 'enclosed', 'enabled', 'emptying', 'empties', 'empaque', 'emerges', 'emergencies', 'emerald', 'embracing', 'embody', 'embodies', 'emblem', 'emblazoned', 'embellishments', 'embedded', 'embark', 'eludes', 'elmer', 'elkhound', 'elixir', 'elixer', 'eliminating', 'eliminates', 'elf', 'eleven', 'elevating', 'elevated', 'elequent', 'elementary', 'elegible', 'electronically', 'electrolites', 'election', 'electing', 'elecare', 'eldest', 'elderly', 'elated', 'elastic', 'elana', 'eko', 'eith', 'einsteins', 'eighty', 'eighth', 'eh', 'egrolls', 'eggy', 'eggplant', 'efforts', 'effortless', 'effectively', 'effecting', 'eerie', 'edy', 'educational', 'education', 'educated', 'edmund', 'editing', 'edited', 'edenfoods', 'ed', 'ecorazzi', 'eclipse', 'echoing', 'ec355', 'ec155', 'eaton', 'eatin', 'eatable', 'eason', 'earthborn', 'earrings', 'earache', 'eacute', 'dynasty', 'dynamite', 'dwindling', 'dwindle', 'dusk', 'durkee', 'duplicated', 'duper', 'duped', 'dunkan', 'dums', 'dumps', 'dumpling', 'dumb', 'duller', 'dulled', 'dughter', 'ducale', 'dublin', 'dubble', 'dryish', 'drugstore', 'drugs', 'drowsy', 'drowsiness', 'drowned', 'dropper', 'droopy', 'drizzled', 'driveway', 'driver', 'drips', 'drippy', 'drippings', 'drinkability', 'dring', 'drift', 'drew', 'dressingnow', 'dresings', 'drench', 'dreck', 'dreams', 'dreaming', 'dreamed', 'dreading', 'dreadful', 'drastically', 'dramatically', 'dramatic', 'drama', 'drains', 'drained', 'drainage', 'dragging', 'doxies', 'doxie', 'doxee', 'downward', 'downsized', 'downsize', 'downsides', 'downs', 'downhill', 'downgrade', 'downfall', 'downey', 'dousing', 'dounut', 'doughnuts', 'doughnut', 'doubtlessly', 'doubting', 'doubling', 'dot', 'dosnt', 'dosha', 'dosage', 'dorthy', 'dorm', 'dopey', 'dope', 'doone', 'doogie', 'doodles', 'doodle', 'doo', 'donna', 'doniuts', 'don', 'dominicks', 'dominated', 'domenical', 'domenica', 'dolche', 'dolce', 'doen', 'doctoring', 'doberman', 'diverse', 'dive', 'dittos', 'ditto', 'disturbs', 'distributor', 'distributing', 'distributed', 'distracting', 'distract', 'distort', 'distinguishes', 'distinguish', 'distinctions', 'distant', 'dissuade', 'dissoluble', 'dissatified', 'dissappointing', 'dissapointments', 'dissapointment', 'dissapoint', 'disrespect', 'disregarding', 'disputed', 'disputandem', 'disproved', 'disproportional', 'disposed', 'disposebale', 'dispose', 'disposalkups', 'disposacup', 'displeased', 'displayed', 'displaced', 'disphoria', 'dispensing', 'dispenses', 'dispense', 'dispelled', 'dispatched', 'disorienting', 'disneyland', 'disney', 'dismissive', 'dislikes', 'disintegrates', 'dishwashing', 'dishful', 'dishearting', 'disgutingly', 'disgustingly', 'disgruntling', 'disesase', 'diseases', 'diseased', 'discrete', 'discovery', 'discoverd', 'discouraging', 'discouraged', 'discourage', 'discontent', 'discoloration', 'disclose', 'discharge', 'discernable', 'discarded', 'disatified', 'disasterous', 'disaster', 'disappointingly', 'disappoined', 'disappionted', 'disappears', 'disagreeable', 'disadvantage', 'disability', 'disabilities', 'direrent', 'dire', 'dipt', 'diposakups', 'dioxin', 'dioxide', 'dinty', 'dinged', 'diners', 'din', 'diminishes', 'diminished', 'dimensional', 'dime', 'dim', 'dilutes', 'dilly', 'dilemmas', 'dijons', 'digress', 'diggy', 'diggity', 'digests', 'dig', 'diffferent', 'differing', 'differentiates', 'differance', 'diffently', 'diferent', 'dietetic', 'diedrich', 'dictated', 'diarhea', 'diapisables', 'diameter', 'dial', 'dharana', 'dhabi', 'dh', 'dextrin', 'dewormer', 'dew', 'devouring', 'devouration', 'devoid', 'devnotes', 'devine', 'deviled', 'deviate', 'development', 'detrimental', 'detract', 'detoxify', 'detox', 'detest', 'deters', 'detergent', 'detective', 'detachable', 'destroy', 'destined', 'destination', 'desperation', 'desktop', 'desiring', 'deserving', 'descriptions', 'descript', 'derogatory', 'dermatologist', 'deriving', 'derivative', 'depressant', 'depp', 'deposited', 'depletes', 'depended', 'depend', 'departure', 'departments', 'denver', 'dentist', 'dente', 'denny', 'denied', 'demos', 'demonstrates', 'demolished', 'demas', 'demands', 'deluxe', 'dell', 'deliverer', 'deliscious', 'delious', 'deliicous', 'delightfully', 'delievy', 'delieved', 'delicous', 'delicately', 'delicacies', 'deliberate', 'deleted', 'delectably', 'delectable', 'delcious', 'deirectly', 'degusting', 'degraded', 'defrost', 'definnantly', 'definitentally', 'definitelly', 'definintely', 'defined', 'definate', 'deffinately', 'defficiencies', 'deff', 'defeated', 'default', 'deer', 'deeply', 'deems', 'deeming', 'deduct', 'dedication', 'dedicates', 'dedicated', 'decorator', 'decorative', 'decor', 'decongestants', 'decompression', 'declined', 'decker', 'deck', 'decisions', 'deciding', 'decidedly', 'decente', 'deceitful', 'deceided', 'deceased', 'decalcify', 'decaffs', 'decaffeinating', 'decaffeinate', 'decafe', 'decade', 'debuted', 'debbie', 'debating', 'debated', 'dearly', 'dearest', 'dealings', 'dealing', 'dealer', 'deak', 'deadline', 'dcaf', 'daytime', 'daycare', 'dawns', 'dawn', 'davidsons', 'daves', 'dautgher', 'daunting', 'daugther', 'dating', 'darnit', 'darned', 'darkness', 'darken', 'darjeerling', 'darford', 'dangers', 'danger', 'danes', 'damning', 'damange', 'damaging', 'damages', 'dakota', 'daiquiri', 'daikon', 'dahh', 'dado', 'daddy', 'dachuhund', 'dachshunds', 'dabble', 'dab', 'd3', 'cysts', 'cylindrical', 'cyclist', 'cvs', 'cutter', 'cutlets', 'customs', 'cushions', 'cushioning', 'cushioned', 'curve', 'curtailed', 'curt', 'curly', 'curios', 'curing', 'cures', 'cured', 'curdled', 'curd', 'cur', 'cumin', 'cumbersome', 'cultures', 'culture', 'cultivate', 'cuddle', 'cucumber', 'cubed', 'cubase', 'csr', 'crystallizing', 'crystallized', 'crystallization', 'crystalline', 'crusade', 'crunchiest', 'crunches', 'crunchaholic', 'crumby', 'crumbiness', 'cruel', 'crudites', 'cruchiness', 'crowns', 'crowded', 'croutons', 'crouton', 'crostini', 'crossover', 'crossbred', 'crop', 'crooked', 'croissant', 'crockpot', 'critical', 'crispies', 'crisco', 'crips', 'crip', 'cringed', 'crickets', 'cria', 'cretan', 'crepes', 'creeps', 'creeping', 'credibility', 'creature', 'creators', 'creater', 'creamery', 'creamed', 'crayons', 'crawling', 'craved', 'crashes', 'craptastic', 'crapload', 'crane', 'cramping', 'craisins', 'craisin', 'craig', 'cracks', 'crackle', 'crabtree', 'crabmeat', 'cozy', 'coworker', 'coward', 'coveted', 'covet', 'coverage', 'cousins', 'courtesy', 'courses', 'coupled', 'county', 'countryside', 'counters', 'counterproductive', 'coulnd', 'coughing', 'coudl', 'cottonseed', 'cotton', 'cotta', 'cosmic', 'cosmetic', 'corsorzio', 'corsage', 'corroded', 'corredora', 'correction', 'corporatizing', 'corporations', 'corp', 'corona', 'cornsyup', 'cornflour', 'cornflakes', 'corney', 'corners', 'cornered', 'corned', 'corncake', 'cormicks', 'cormick', 'corks', 'core', 'cordial', 'cord', 'cora', 'copycat', 'copy', 'coppery', 'cop', 'coors', 'coopers', 'cooperative', 'cooper', 'coop', 'cookin', 'cookiie', 'cooke', 'convulsing', 'convinient', 'convinence', 'convincing', 'convienient', 'convienence', 'convienance', 'converting', 'convert', 'conveniance', 'convection', 'contruction', 'contribution', 'contributed', 'contracting', 'continuously', 'contest', 'contemplating', 'contaminants', 'consumes', 'consulting', 'consult', 'constricted', 'constipating', 'constapation', 'constancy', 'consolation', 'consitancy', 'consistly', 'consisting', 'consistence', 'consisted', 'consistantly', 'consistancy', 'consideration', 'conservation', 'consequence', 'consensus', 'conscientious', 'connivence', 'connisseur', 'connesiur', 'connector', 'connections', 'connecting', 'connecticut', 'connected', 'congrats', 'congou', 'conglomerate', 'confustion', 'confrimation', 'conformation', 'conflict', 'confirmation', 'confidence', 'confidant', 'conference', 'condor', 'conditioned', 'condiments', 'concrete', 'concord', 'conclusion', 'concious', 'concered', 'concentrations', 'concensus', 'conceive', 'conceivably', 'concede', 'compulsive', 'comprise', 'compressed', 'compounds', 'compote', 'compostable', 'composition', 'complimenting', 'complimentary', 'complications', 'complicated', 'completed', 'complements', 'complely', 'competitor', 'competitively', 'competing', 'comperable', 'compensating', 'compelled', 'compeletely', 'compatibly', 'compassion', 'comparision', 'comparably', 'companys', 'companion', 'como', 'commuting', 'commuter', 'communicative', 'communicating', 'commodity', 'committed', 'commit', 'commence', 'comm', 'comercial', 'comedy', 'combos', 'combimation', 'coluratura', 'columbia', 'colt', 'colour', 'colossal', 'colorings', 'colorado', 'colon', 'colombio', 'colombia', 'collies', 'collertors', 'collects', 'collectors', 'collections', 'collected', 'collect', 'collapse', 'collages', 'colic', 'coleman', 'cointreau', 'coincidentally', 'coincidence', 'cohesiveness', 'cognitive', 'coffiee', 'coffess', 'coffer', 'coffeeshop', 'coffeehouse', 'coffeecake', 'cocunut', 'coctail', 'cocktails', 'cocapoo', 'cocaine', 'coaxing', 'coax', 'clydesdale', 'clutching', 'clunky', 'clumsy', 'clumpy', 'clueless', 'clue', 'cloying', 'clots', 'clothianidin', 'cloth', 'closet', 'cloged', 'clip', 'climbing', 'cliff', 'clientele', 'clicks', 'clicked', 'clever', 'cleo', 'clears', 'clearancing', 'clearance', 'cleansing', 'cleanser', 'cleanse', 'cleanly', 'claxton', 'classrooms', 'classroom', 'classless', 'classify', 'clash', 'clarify', 'clammy', 'clamato', 'claire', 'cj300', 'civet', 'cityroast', 'citus', 'citrict', 'citizen', 'cite', 'circumstance', 'circumference', 'circuit', 'circles', 'cinn', 'cincinnati', 'cinamon', 'cinammon', 'cinamin', 'cigs', 'cigar', 'cierre', 'churning', 'chunkier', 'chum', 'chugging', 'chucks', 'chuckled', 'chucked', 'chuck', 'chromium', 'christmass', 'christinejw', 'christening', 'chowhound', 'choux', 'chouquettes', 'chore', 'chopping', 'chooses', 'chomp', 'cholocates', 'cholocate', 'choline', 'cholestoral', 'chocolat', 'choclatique', 'choclates', 'chocklate', 'chock', 'chocholate', 'chocaluah', 'chocaltes', 'chna', 'chlothianidin', 'chlorine', 'chloride', 'chiweenie', 'chiweenee', 'chivetta', 'chis', 'chirstmas', 'chippiness', 'chipper', 'chipaholic', 'chintzy', 'chinsy', 'chimbote', 'chilling', 'chilihead', 'chihuhua', 'chihauhua', 'chief', 'chicks', 'chickeny', 'chicagoland', 'chewes', 'chewers', 'chewbone', 'chewable', 'chevre', 'chems', 'chemotherapy', 'chemicall', 'chefshop', 'chefman', 'cheezy', 'cheez', 'cheeseburger', 'cheeper', 'chedder', 'cheddary', 'checkup', 'checkout', 'cheapo', 'cheaply', 'cheapening', 'chazz', 'chats', 'chasing', 'charts', 'charms', 'charlie', 'charlee', 'charities', 'charing', 'chardonnay', 'characterized', 'characterize', 'characteristic', 'chaos', 'chao', 'changs', 'changer', 'chang', 'chan', 'championship', 'champions', 'champ', 'challenger', 'challah', 'chalking', 'chalkiness', 'chalet', 'chains', 'ceylon', 'certification', 'certificate', 'certainty', 'cert', 'ceremonial', 'century', 'centuries', 'central', 'centers', 'centerpieces', 'cemented', 'cement', 'celsius', 'celophane', 'cellulose', 'cellar', 'celestial', 'celeiac', 'celebrity', 'celebrated', 'ceased', 'ceasar', 'cd', 'cb', 'caving', 'cavier', 'caves', 'cave', 'cavashon', 'cautioning', 'causaban', 'cauliflower', 'catswell', 'catnip', 'catinfo', 'catholic', 'catfood', 'caterer', 'categorize', 'catches', 'catarized', 'catalogs', 'casually', 'castellana', 'casseroles', 'casserole', 'casings', 'casien', 'carys', 'cary', 'cartoon', 'carte', 'carring', 'carrier', 'carribean', 'carpeting', 'carousel', 'carot', 'carnitine', 'carnation', 'carnaroli', 'carmely', 'carlton', 'carl', 'caribu', 'caress', 'carefull', 'carefree', 'cardiod', 'cardigan', 'carboy', 'carbou', 'carbonization', 'carbonates', 'caramelized', 'caramelish', 'carafe', 'carabou', 'caputo', 'capuccinos', 'capuccinno', 'capturing', 'capture', 'capsaicin', 'capresso', 'cappuchinos', 'cappuchino', 'cappacino', 'capacity', 'cantuccini', 'canteen', 'cantaloupe', 'cannon', 'cannes', 'cankeep', 'canes', 'caned', 'candymaker', 'candyland', 'candybar', 'candles', 'candlelight', 'canceling', 'campfires', 'campers', 'camcorder', 'cambria', 'cambodia', 'cambells', 'calves', 'calumet', 'calorically', 'calores', 'caloreis', 'calidad', 'calico', 'calibrations', 'calendar', 'calculations', 'caladonian', 'cakers', 'cakeing', 'cage', 'caffiene', 'caffein', 'caff', 'cafeteria', 'caesers', 'caesar', 'caddy', 'cactus', 'cache', 'cabernet', 'cabbage', 'c606', 'c3000b', 'c2o', 'byproducts', 'buzzworthy', 'buzzing', 'bux', 'butters', 'butterfingers', 'buttered', 'butcher', 'busters', 'busily', 'bushel', 'buses', 'busboy', 'burp', 'burmese', 'buried', 'burden', 'bunny', 'bunches', 'bumps', 'bullsburg', 'bullies', 'bullet', 'bulldogs', 'bulldog', 'bulked', 'bulbs', 'buisness', 'builtin', 'built', 'builds', 'builder', 'buggers', 'bugged', 'buford', 'buffett', 'buffets', 'buenos', 'budles', 'budding', 'budda', 'bud', 'bucatini', 'bubbling', 'bubbliness', 'bth', 'bsg', 'bs', 'brushes', 'brushed', 'bruscetta', 'brunelle', 'browsing', 'browsed', 'browner', 'brothy', 'bros', 'brood', 'brn', 'brm', 'brittany', 'brits', 'brit', 'bristol', 'brisling', 'briskly', 'brisker', 'brisk', 'brined', 'brimming', 'brightness', 'brightly', 'briens', 'briefly', 'brief', 'brick', 'bribing', 'bribe', 'brian', 'breyer', 'brewery', 'brethren', 'breezy', 'breathtaking', 'breathed', 'breasts', 'breastfeeds', 'breasfteeding', 'breakup', 'breaksdown', 'breaker', 'breadmachine', 'breadboard', 'breadbaker', 'brazilians', 'braziers', 'bratwurst', 'brat', 'brash', 'branson', 'branding', 'branded', 'branching', 'brakes', 'braised', 'brained', 'braggs', 'bragg', 'bp', 'boyfriends', 'bowels', 'bounds', 'bouncy', 'bounced', 'bough', 'bouche', 'botter', 'botique', 'bothering', 'botanical', 'bosses', 'borers', 'borderline', 'booties', 'booth', 'boosting', 'boosters', 'booster', 'boosted', 'boooooooooooo', 'booming', 'booklet', 'bookbinders', 'bonking', 'bonkers', 'bonito', 'bonded', 'bond', 'bona', 'bombs', 'bolthouse', 'boloni', 'bolds', 'boise', 'boils', 'boggling', 'bodyscrub', 'boca', 'bobas', 'boba', 'boatload', 'boast', 'bnecause', 'blyth', 'blurb', 'blur', 'blunts', 'blunt', 'bluemonkey', 'blueberryz', 'bluebell', 'bluberry', 'blu', 'blowout', 'blowingly', 'blowing', 'blot', 'bloom', 'blonde', 'blogs', 'blocker', 'blobs', 'bloating', 'bloat', 'blinded', 'blighty', 'bless', 'blending', 'bleeding', 'blanket', 'blaires', 'blagk', 'bladed', 'blackstrap', 'blacks', 'blacked', 'blackbird', 'blackberries', 'bjs', 'bizarre', 'bitty', 'bitternes', 'bittering', 'bitten', 'bishop', 'biscottis', 'biscoti', 'biscoff', 'bischon', 'bio', 'bingo', 'binge', 'billwa', 'billion', 'billed', 'bikram', 'biker', 'bih', 'bigs', 'big5', 'bichon', 'bicarbonate', 'bib', 'bianco', 'bialetti', 'bhut', 'bg', 'bf', 'bettycrocker', 'bettermilk', 'betta', 'betsy', 'bethlehem', 'bestyet', 'bestest', 'berg', 'benson', 'benefts', 'benefiting', 'beneficios', 'beneath', 'bending', 'bemoaning', 'belong', 'bells', 'bellini', 'belli', 'belle', 'belize', 'believing', 'believers', 'belgium', 'belching', 'behringer', 'behaves', 'behave', 'begrudgingly', 'begining', 'begged', 'befor', 'beetles', 'beetle', 'beet', 'beeswax', 'beefy', 'beefier', 'beefeaters', 'beefaroni', 'beech', 'bedside', 'bedpost', 'bedbath', 'becuase', 'beckoned', 'beckham', 'becaue', 'becasue', 'beaver', 'beauties', 'beauregard', 'beating', 'beast', 'beartoothjoe', 'beaners', 'beam', 'beaker', 'beacuse', 'bday', 'bazi', 'baught', 'baubles', 'battles', 'battery', 'batteries', 'bats', 'baton', 'bathe', 'basketful', 'bashas', 'bases', 'basement', 'bascket', 'basamati', 'bartender', 'barrista', 'barolo', 'barf', 'barest', 'barecue', 'barbell', 'barbecuing', 'barbecues', 'barb', 'banquets', 'bannas', 'bannana', 'banished', 'banh', 'banged', 'bandwagon', 'bandarita', 'bamy', 'bamboo', 'balsamico', 'balsalmic', 'ballet', 'balancing', 'bakers', 'bakeries', 'baileys', 'bahn', 'bahamas', 'baglets', 'baffled', 'bacteria', 'backward', 'backup', 'backsweetening', 'backorder', 'backbacking', 'bacause', 'bac', 'babysit', 'babyfood', 'babiesrus', 'baba', 'b70', 'b40', 'b008ema3as', 'b00769zsvo', 'b006n3i2sk', 'b005zu3jj4', 'b005xp3r4i', 'b005k4q1vi', 'b005k4q1t0', 'b0052onatm', 'b004w8lt10', 'b004tsazo0', 'b004tgwcbq', 'b004cvkai0', 'b004b3w4n8', 'b004a85g52', 'b00474vpy0', 'b00474h936', 'b004616b3y', 'b0043xylaa', 'b0042tr2we', 'b0042gwkwo', 'b003vxl0v6', 'b003vxjj28', 'b003vxhgdm', 'b003kuo2xs', 'b003diiz9o', 'b00375lao0', 'b0032jkwgi', 'b002p936uk', 'b002p6855y', 'b002c4hz00', 'b0029xdzik', 'b00292bm7c', 'b00247d46e', 'b001okr89g', 'b001m0508y', 'b001lggh54', 'b001lggh40', 'b001lg945o', 'b001hwi700', 'b001hti4tm', 'b001gcvlxg', 'b001eq5jle', 'b001eppfgo', 'b001eo6bcc', 'b001eo5wo0', 'b001eo5qw8', 'b001ell9x6', 'b001ell3u0', 'b001e6kbsk', 'b001e5e29a', 'b001e5dzts', 'b001e3hlx6', 'b001chj03i', 'b001bm4jlc', 'b001awbl82', 'b00168a9kg', 'b0014wyxqk', 'b00139zpkm', 'b00139tt72', 'b0012bzghs', 'b0012bsmjm', 'b000yqmb1g', 'b000vk33c6', 'b000ubh9ye', 'b000q3ecxm', 'b000p151ai', 'b000odry9i', 'b000nv83eg', 'b000nu4vso', 'b000ll0r8i', 'b000ldomt6', 'b000koum68', 'b000kjrf40', 'b000i6g2oo', 'b000hdmw9m', 'b000h27nu6', 'b000gwko7g', 'b000gevgxa', 'b000g6q4gm', 'b000fnex8m', 'b000fnex8c', 'b000ffry3g', 'b000f9z1ws', 'b000f9z1wi', 'b000eyc096', 'b000ey5cog', 'b000eh2ama', 'b000e5ao8o', 'b000e1588o', 'b000aqpmha', 'b00094jeuo', 'b00067ad4u', 'b0005zyn4o', 'b0002z9bf8', 'b0001m0z3o', 'b0001fqucg', 'b00014j2uo', 'b000121by6', 'b0000vmbdi', 'b00005ibxk', 'b00004rc6r', 'b00004rbdy', 'ayurvedic', 'ayear', 'awwww', 'awwfuul', 'awsome', 'awol', 'awfully', 'awesomely', 'aways', 'awareness', 'awards', 'awarding', 'awaiting', 'awaited', 'avery', 'averse', 'availalbe', 'avaialbe', 'avacado', 'automated', 'autolyzed', 'autoimmune', 'autistic', 'authorization', 'australian', 'austin', 'aussie', 'augmenting', 'augmented', 'augment', 'aug', 'auction', 'attuned', 'attributing', 'attribute', 'attended', 'attacks', 'attachment', 'attaching', 'attach', 'atrocities', 'atmosphere', 'atkin', 'astronomical', 'astronaut', 'astringent', 'astore', 'associating', 'associate', 'assistance', 'assimilate', 'assignments', 'assigned', 'assiciated', 'assertive', 'assert', 'assembl', 'assault', 'aspragus', 'aspiring', 'aspertame', 'aspen', 'aspects', 'aspartates', 'aspargus', 'asleep', 'asin', 'asianfoodgrocer', 'ashes', 'ashbys', 'asd', 'ascrobyl', 'ascertained', 'ascertain', 'artwork', 'artist', 'artisana', 'artifically', 'artifial', 'artichoke', 'arthur', 'arthritis', 'art', 'arrhythmia', 'aromas', 'arlington', 'arive', 'aritficial', 'arises', 'ariel', 'arguments', 'argument', 'argo', 'argh', 'archway', 'arabia', 'aquarello', 'aqua', 'aptly', 'approves', 'appropriately', 'approached', 'apprentice', 'apprehensive', 'appreciative', 'appreciation', 'appreciating', 'applies', 'applied', 'applications', 'applesause', 'applause', 'appetizers', 'appetit', 'appease', 'appeals', 'apon', 'apologizing', 'apollo', 'apo', 'aplenty', 'apfelsaftschorle', 'apartment', 'aosta', 'aoli', 'anywho', 'anywhear', 'anyother', 'anyonr', 'anxieties', 'ants', 'antipasto', 'antioxidents', 'antioxidante', 'anticipating', 'antibiotic', 'anthony', 'antes', 'anothert', 'anonymous', 'anodyne', 'annual', 'annoyance', 'announces', 'announcement', 'annerversery', 'annabelle', 'ann', 'animes', 'animation', 'anguish', 'angle', 'angeles', 'ange', 'anemic', 'anecdote', 'andthey', 'anderson', 'andernette', 'and1', 'ancient', 'anchovy', 'anaphylactic', 'analysis', 'analog', 'analize', 'anaheim', 'amzon', 'amzn', 'amybrian', 'amy', 'amsterdam', 'ampliamente', 'amped', 'amout', 'amous', 'amoung', 'amoretti', 'amnimals', 'ammount', 'amiss', 'amino', 'americolor', 'americas', 'americanized', 'ameliorate', 'amd', 'ambrosia', 'amber', 'amazzon', 'amazonn', 'amazes', 'amaze', 'amatriciana', 'amaranth', 'amalgamation', 'alum', 'altura', 'alton', 'altho', 'altering', 'alpo', 'alpha', 'alpaca', 'aloof', 'alongside', 'almsot', 'almondy', 'alluring', 'allspice', 'allright', 'allotment', 'alliance', 'alley', 'alles', 'allergins', 'allergenic', 'alleged', 'alkalizing', 'alkaline', 'alienating', 'alice', 'ali', 'algo', 'algae', 'alessi', 'alertness', 'alergies', 'alergic', 'alergia', 'alec', 'alcohols', 'album', 'aladdin', 'alabama', 'akita', 'akg', 'airway', 'airplanes', 'airing', 'aires', 'airbrushed', 'airborne', 'aim', 'aide', 'ahve', 'ahold', 'ahmed', 'ahhhhhhhhhhhhh', 'ahhhh', 'aha', 'agriculture', 'agreeing', 'agood', 'aging', 'aghast', 'aggrieved', 'aggressively', 'aggravation', 'aggravate', 'ager', 'agava', 'agata', 'afterward', 'aftertasty', 'aftertase', 'aftermath', 'african', 'africafe', 'africa', 'aforementioned', 'aficionado', 'afghans', 'affix', 'affiliated', 'affectionate', 'affair', 'afetr', 'aeropress', 'aeromatic', 'aerobic', 'advocate', 'advil', 'advertizes', 'advertisements', 'adversely', 'adverse', 'adventurous', 'adulterated', 'ads', 'adrenal', 'adobo', 'admittedly', 'admitted', 'admired', 'administration', 'administered', 'adjustment', 'adheres', 'adequately', 'adem', 'ade', 'addressing', 'addresses', 'address', 'additon', 'addicts', 'adder', 'adbsorbed', 'adaptor', 'adapter', 'acustom', 'acupuncturist', 'actors', 'activate', 'acres', 'acquisition', 'acquainted', 'acknowledgement', 'acknowledged', 'acidify', 'acetaminophen', 'acesulfame', 'acess', 'ace', 'accomplished', 'accomplish', 'accommodate', 'accolades', 'accidently', 'accessory', 'accessories', 'accepting', 'acceptation', 'accent', 'acceleration', 'abut', 'abundant', 'abundance', 'abu', 'abt', 'absoultely', 'absorbs', 'absoloutely', 'absinthe', 'absent', 'absense', 'absence', 'abrupt', 'aboulutely', 'abor', 'abiding', 'abby', 'abberline', 'abates', 'aback', 'aahhhs', 'aadmit', 'a1', '9x5', '9th', '9pm', '9lives', '9greenbox', '9gms', '99cents', '99cent', '99c', '92lbs', '923', '911drugstore', '90s', '90k', '900', '8yr', '8th', '8mos', '8lb', '8in', '8g', '880', '88', '87', '82306', '8230', '820', '82', '7yr', '7pm', '7oz', '7bucks', '7am', '75lb', '750ml', '750', '7274', '70mg', '700', '6pk', '6mths', '6lbs', '68', '67g', '63', '62', '60cents', '5th', '5pound', '5pm', '5min', '5mg', '5l', '5kg', '5c', '5am', '590mg', '58', '570mg', '550', '55', '540', '53996', '50th', '50lbs', '500ml', '500g', '4yo', '4lb', '4gms', '4am', '49cents', '48042', '46oz', '464', '45lb', '434', '4246', '42', '41', '40lbs', '40g', '40cents', '408', '3x5', '3x', '3months', '3lbs', '3lb', '3c', '3am', '3874', '375', '3701', '370', '360', '35oz', '35mg', '35400', '34oz', '34gms', '330mg', '31lb', '30th', '30qt', '30mins', '30lbs', '30cents', '301', '300mgs', '300g', '3000', '2x46oz', '2x', '2tsp', '2t', '2nds', '2lbs', '2lb', '2cm', '2c', '2am', '29th', '28th', '27th', '272', '25th', '25oz', '25mg', '2500', '250', '24pk', '2338', '22nd', '220', '208f', '2045', '2003', '1t', '1l', '1c', '19oz', '19ish', '1999', '1998', '1987', '1980s', '1979', '1978', '1970s', '1960', '1933981350', '192', '190', '18oz', '18lb', '1898', '1845979125', '1845', '180snacks', '17oz', '170g', '170', '16lb', '160lb', '160', '15yrs', '15oz', '15lbs', '144', '1388', '135', '1306', '1300131716', '12th', '12pks', '12ounce', '12lbs', '12g', '128', '121', '11oz', '115', '110mg', '10x', '10seconds', '10month', '10lbs', '105', '101', '100x', '100s', '100ml', '0z', '07', '05', '0303', '0174', '0100', '0003'])"
            ]
          },
          "metadata": {},
          "execution_count": 24
        }
      ]
    },
    {
      "cell_type": "markdown",
      "metadata": {
        "id": "0HGGaoQzsrT-"
      },
      "source": [
        "[UNK] es un token especial que se usara cuando se encuentren palabras que no están en el vocabulario."
      ]
    },
    {
      "cell_type": "code",
      "metadata": {
        "id": "rtpCaHdro41w"
      },
      "source": [
        "vectorizer_resumen = Vectorizer(y_train)\n",
        "# Diccionarios de la secuencia de entrada\n",
        "voc_resumen = vectorizer_resumen.get_vocabulary()  # lista con el vocabulario\n",
        "palabras_indices_resumen = dict(zip(voc_resumen, range(len(voc_resumen))))\n",
        "indices_palabras_resumen = dict(map(reversed, palabras_indices_resumen.items()))\n"
      ],
      "execution_count": null,
      "outputs": []
    },
    {
      "cell_type": "code",
      "metadata": {
        "colab": {
          "base_uri": "https://localhost:8080/"
        },
        "id": "BUVuL0FZDpqK",
        "outputId": "59be7614-c638-48c4-9750-aab027cdf8c9"
      },
      "source": [
        "ejemplos = x_train.iloc[:2]\n",
        "for ej in ejemplos:\n",
        "  print(len(ej.split()))\n",
        "  print(ej)"
      ],
      "execution_count": null,
      "outputs": [
        {
          "output_type": "stream",
          "name": "stdout",
          "text": [
            "73\n",
            "fantastic product keeps fresh for months had a bag in my desk that i had opened but packet was resealed product still fresh after several weeks product has a spicy but not hot flavor and is enjoyed by my whole family i am diabetic and have a hard time finding low sodium low calorie snacks grandpa po s products are both low sodium low calorie and also taste great i would highly recommend \n",
            "98\n",
            "these creamers come in 4 packs of 25 i have taken one to work and opened one for home so far and have not found a single broken or leaking creamer yet i usually have way too much cream and sugar in my coffee but with these it is easy for me to cut down on the sweetness because i will not allow myself more than 2 creamers per cup i think this is definitely the best option for buying creamers from amazon since all the other listings have a lot of complaints about creamers breaking in shipping \n"
          ]
        }
      ]
    },
    {
      "cell_type": "code",
      "metadata": {
        "colab": {
          "base_uri": "https://localhost:8080/"
        },
        "id": "j5nf-i4VDpqM",
        "outputId": "61dae6ef-1cf4-4405-b816-53d58ed6582e"
      },
      "source": [
        "ejemplos_vec = ejemplos.apply(vectorizer_reseña)\n",
        "for ej in ejemplos_vec:\n",
        "  print(len(ej))\n",
        "  print(ej)"
      ],
      "execution_count": null,
      "outputs": [
        {
          "output_type": "stream",
          "name": "stdout",
          "text": [
            "73\n",
            "tf.Tensor(\n",
            "[ 574   35  907  176   12  409   52    5  121   13   14 2594   16    3\n",
            "   52  496   18  832   21 9450   35  142  176  104  311  591   35   50\n",
            "    5  374   18   11  102   38    4    8  462  105   14  207  242    3\n",
            "   47 1771    4   15    5  205   79  720  296  649  296  476  582 2049\n",
            " 1939   56  223   17  235  296  649  296  476    4   85   32   30    3\n",
            "   41  221  119], shape=(73,), dtype=int64)\n",
            "98\n",
            "tf.Tensor(\n",
            "[  24 3766  357   13  193  678   10  863    3   15 1618   40    7  198\n",
            "    4  496   40   12  317   27  218    4   15   11  116    5  529  801\n",
            "   43 3354 1362  427    3  306   15  134   67   70  391    4  108   13\n",
            "   14   31   18   20   24    6    8  148   12   55    7  590  259   26\n",
            "    2  694   74    3   33   11 1788  469   53   57  124 3766  302   92\n",
            "    3  143    9    8  184    2   68  696   12  212 3766   51   64  147\n",
            "   42    2   60 5429   15    5  170   10 1775   77 3766 1982   13  200], shape=(98,), dtype=int64)\n"
          ]
        }
      ]
    },
    {
      "cell_type": "code",
      "metadata": {
        "id": "llR1V0qmcP8O",
        "colab": {
          "base_uri": "https://localhost:8080/"
        },
        "outputId": "73466c4a-e5f0-47c1-823b-f42935ea5195"
      },
      "source": [
        "%%time\n",
        "x_train_vec = x_train.apply(vectorizer_reseña)\n",
        "x_test_vec = x_test.apply(vectorizer_reseña)\n",
        "\n",
        "y_train_vec = y_train.apply(vectorizer_resumen)\n",
        "y_test_vec = y_test.apply(vectorizer_resumen)"
      ],
      "execution_count": null,
      "outputs": [
        {
          "output_type": "stream",
          "name": "stdout",
          "text": [
            "CPU times: user 44 s, sys: 441 ms, total: 44.4 s\n",
            "Wall time: 44.4 s\n"
          ]
        }
      ]
    },
    {
      "cell_type": "markdown",
      "metadata": {
        "id": "kbfHIS7mZl78"
      },
      "source": [
        "## 2) Rellenar cada secuencia hasta alcanzar la longitud máxima"
      ]
    },
    {
      "cell_type": "code",
      "metadata": {
        "colab": {
          "base_uri": "https://localhost:8080/"
        },
        "id": "oOrxYFsVth9N",
        "outputId": "e2deb59a-02a9-44a0-f194-67858a41e638"
      },
      "source": [
        "# https://www.tensorflow.org/api_docs/python/tf/keras/preprocessing/sequence/pad_sequences\n",
        "\n",
        "ejemplos_seq =  pad_sequences(ejemplos_vec, maxlen = int(longitud_max_textos), padding='post')\n",
        "for ej in ejemplos_seq:\n",
        "  print(len(ej))\n",
        "  print(ej)"
      ],
      "execution_count": null,
      "outputs": [
        {
          "output_type": "stream",
          "name": "stdout",
          "text": [
            "154\n",
            "[ 574   35  907  176   12  409   52    5  121   13   14 2594   16    3\n",
            "   52  496   18  832   21 9450   35  142  176  104  311  591   35   50\n",
            "    5  374   18   11  102   38    4    8  462  105   14  207  242    3\n",
            "   47 1771    4   15    5  205   79  720  296  649  296  476  582 2049\n",
            " 1939   56  223   17  235  296  649  296  476    4   85   32   30    3\n",
            "   41  221  119    0    0    0    0    0    0    0    0    0    0    0\n",
            "    0    0    0    0    0    0    0    0    0    0    0    0    0    0\n",
            "    0    0    0    0    0    0    0    0    0    0    0    0    0    0\n",
            "    0    0    0    0    0    0    0    0    0    0    0    0    0    0\n",
            "    0    0    0    0    0    0    0    0    0    0    0    0    0    0\n",
            "    0    0    0    0    0    0    0    0    0    0    0    0    0    0]\n",
            "154\n",
            "[  24 3766  357   13  193  678   10  863    3   15 1618   40    7  198\n",
            "    4  496   40   12  317   27  218    4   15   11  116    5  529  801\n",
            "   43 3354 1362  427    3  306   15  134   67   70  391    4  108   13\n",
            "   14   31   18   20   24    6    8  148   12   55    7  590  259   26\n",
            "    2  694   74    3   33   11 1788  469   53   57  124 3766  302   92\n",
            "    3  143    9    8  184    2   68  696   12  212 3766   51   64  147\n",
            "   42    2   60 5429   15    5  170   10 1775   77 3766 1982   13  200\n",
            "    0    0    0    0    0    0    0    0    0    0    0    0    0    0\n",
            "    0    0    0    0    0    0    0    0    0    0    0    0    0    0\n",
            "    0    0    0    0    0    0    0    0    0    0    0    0    0    0\n",
            "    0    0    0    0    0    0    0    0    0    0    0    0    0    0]\n"
          ]
        }
      ]
    },
    {
      "cell_type": "code",
      "metadata": {
        "id": "kZRF60TD6i2D",
        "colab": {
          "base_uri": "https://localhost:8080/"
        },
        "outputId": "82b4218a-c08b-4d99-91cf-a52c88b612cf"
      },
      "source": [
        "%%time\n",
        "\n",
        "x_train_seq  =  pad_sequences(x_train_vec, maxlen = int(longitud_max_textos), padding='post') \n",
        "x_test_seq  =  pad_sequences(x_test_vec, maxlen = int(longitud_max_textos), padding='post') \n",
        "\n",
        "y_train_seq  =  pad_sequences(y_train_vec, maxlen = int(longitud_max_titulos) , padding='post') \n",
        "y_test_seq  =  pad_sequences(y_test_vec, maxlen = int(longitud_max_titulos) , padding='post') "
      ],
      "execution_count": null,
      "outputs": [
        {
          "output_type": "stream",
          "name": "stdout",
          "text": [
            "CPU times: user 2.19 s, sys: 13.9 ms, total: 2.2 s\n",
            "Wall time: 2.21 s\n"
          ]
        }
      ]
    },
    {
      "cell_type": "markdown",
      "metadata": {
        "id": "FEn8JE8XSXUp"
      },
      "source": [
        "## 3) Obtener la matriz de vectores para todas las palabras del vocabulario "
      ]
    },
    {
      "cell_type": "code",
      "metadata": {
        "colab": {
          "base_uri": "https://localhost:8080/"
        },
        "id": "RufwHJoXxLLc",
        "outputId": "d15e2f15-36f3-4030-b684-895655a9fc06"
      },
      "source": [
        "embedding_matrix_reseña = vectores_palabras(palabras_indices_reseña, dic_embeddings_word2vec , 300)\n",
        "embedding_matrix_reseña.shape"
      ],
      "execution_count": null,
      "outputs": [
        {
          "output_type": "stream",
          "name": "stdout",
          "text": [
            "12109 palabras vectorizadas, que representan 85.6% de todas las palabras en el corpus\n"
          ]
        },
        {
          "output_type": "execute_result",
          "data": {
            "text/plain": [
              "(14144, 300)"
            ]
          },
          "metadata": {},
          "execution_count": 29
        }
      ]
    },
    {
      "cell_type": "code",
      "metadata": {
        "colab": {
          "base_uri": "https://localhost:8080/"
        },
        "id": "u3GIiM6wGm-q",
        "outputId": "09d59029-31b9-4098-a480-c4f86245770d"
      },
      "source": [
        "embedding_matrix_resumen = vectores_palabras(palabras_indices_resumen, dic_embeddings_word2vec , 300)\n",
        "embedding_matrix_resumen.shape"
      ],
      "execution_count": null,
      "outputs": [
        {
          "output_type": "stream",
          "name": "stdout",
          "text": [
            "3394 palabras vectorizadas, que representan 89.2% de todas las palabras en el corpus\n"
          ]
        },
        {
          "output_type": "execute_result",
          "data": {
            "text/plain": [
              "(3803, 300)"
            ]
          },
          "metadata": {},
          "execution_count": 46
        }
      ]
    },
    {
      "cell_type": "markdown",
      "metadata": {
        "id": "_8bUIXWs9b7h"
      },
      "source": [
        "# Diseño del modelo\n",
        "\n",
        "* [referencia1](https://www.analyticsvidhya.com/blog/2019/06/comprehensive-guide-text-summarization-using-deep-learning-python/)\n",
        "\n",
        "* [referencia2](https://humboldt-wi.github.io/blog/research/information_systems_1920/nlp_text_summarization_techniques/) "
      ]
    },
    {
      "cell_type": "markdown",
      "metadata": {
        "id": "EYBgdSGFKZHF"
      },
      "source": [
        "## Diseño del codificador y decodificador\n",
        "\n",
        "Codificador 3 capas con 3 LTSM y 320 dimensiones latentes\n"
      ]
    },
    {
      "cell_type": "code",
      "metadata": {
        "id": "jPhmLT8RJ0xU"
      },
      "source": [
        "num_tokens_reseña = len(palabras_indices_reseña) \n",
        "num_tokens_resumen = len(palabras_indices_resumen)\n",
        "embedding_dim = 300"
      ],
      "execution_count": null,
      "outputs": []
    },
    {
      "cell_type": "code",
      "metadata": {
        "id": "A5NiVMSERiFz"
      },
      "source": [
        "K.clear_session() \n",
        "latent_dim = 320\n",
        "\n",
        "# CODIFICADOR   ================================================================\n",
        "\n",
        "## EMBEDDING\n",
        "#recibe los indices que corresponden a las palabras de las reseñas y las \n",
        "#regresa con el vector correpondiente del embedding\n",
        "\n",
        "encoder_inputs = Input(shape = (int(longitud_max_textos),))\n",
        "\n",
        "enc_emb_lay = Embedding(num_tokens_reseña, embedding_dim,\n",
        "                    embeddings_initializer=keras.initializers.Constant(embedding_matrix_reseña),\n",
        "                    trainable=False)\n",
        "enc_emb = enc_emb_lay(encoder_inputs)     \n",
        "\n",
        "#LSTM 1\n",
        "# procesa la secuencia de entrada y regresa otra secuencia que pasara a la\n",
        "# capa LSTM 2 \n",
        "encoder_lstm1 = LSTM(latent_dim, return_sequences=True, return_state=True)\n",
        "encoder_output1, state_h1, state_c1 = encoder_lstm1(enc_emb) \n",
        "\n",
        "\n",
        "# LSTM 2\n",
        "# procesa la secuencia de de salida de la capa LSTM anterior  y regresa otra \n",
        "# secuencia que pasara a la capa LSTM 3\n",
        "encoder_lstm2 = LSTM(latent_dim,return_sequences=True,return_state=True) \n",
        "encoder_output2, state_h2, state_c2 = encoder_lstm2(encoder_output1) \n",
        "\n",
        "#LSTM 3 \n",
        "# procesa la secuencia de de salida de la capa LSTM anterior  y regresa otra \n",
        "# secuencia que pasara al mecanismo de atención y los estados h y c inicializarán\n",
        "# el decodificador.\n",
        "\n",
        "encoder_lstm3 = LSTM(latent_dim, return_state=True, return_sequences=True) \n",
        "encoder_outputs, state_h, state_c = encoder_lstm3(encoder_output2) \n",
        "\n",
        "\n",
        "# DECODIFICADOR ================================================================\n",
        "\n",
        "decoder_inputs = Input(shape=(None,)) \n",
        "dec_emb_layer = Embedding(num_tokens_resumen, embedding_dim,\n",
        "                    embeddings_initializer=keras.initializers.Constant(embedding_matrix_resumen),\n",
        "                    trainable=False)\n",
        "dec_emb = dec_emb_layer(decoder_inputs)\n",
        "\n",
        "#LSTM \n",
        "decoder_lstm = LSTM(latent_dim, return_sequences=True, return_state=True) \n",
        "decoder_outputs,decoder_fwd_state, decoder_back_state = decoder_lstm(dec_emb,initial_state=[state_h, state_c]) \n",
        "\n",
        "\n"
      ],
      "execution_count": null,
      "outputs": []
    },
    {
      "cell_type": "markdown",
      "metadata": {
        "id": "YlovmzJyKs-q"
      },
      "source": [
        "## Mecanismo de atención"
      ]
    },
    {
      "cell_type": "code",
      "metadata": {
        "id": "afuPZByfsh37"
      },
      "source": [
        "attn_layer = AttentionLayer(name='attention_layer') \n",
        "attn_out, attn_states = attn_layer([encoder_outputs, decoder_outputs])  #concatena los estados ocultos del codificador y del decodificador para construir el vector de contexto"
      ],
      "execution_count": null,
      "outputs": []
    },
    {
      "cell_type": "code",
      "metadata": {
        "id": "QLz57L2BKzvB"
      },
      "source": [
        "# Unión de la salida del decodificador y el vector de contexto del módulo de \n",
        "# atención en la capa con activación softmax\n",
        "\n",
        "decoder_concat_input = Concatenate(axis=-1, name='concat_layer')([decoder_outputs, attn_out])\n",
        "decoder_dense = TimeDistributed(Dense(embedding_matrix_resumen.shape[0], activation='softmax')) \n",
        "decoder_outputs = decoder_dense(decoder_concat_input) "
      ],
      "execution_count": null,
      "outputs": []
    },
    {
      "cell_type": "markdown",
      "metadata": {
        "id": "8Njhdeeu9N-M"
      },
      "source": [
        "# Modelo de entrenamiento"
      ]
    },
    {
      "cell_type": "code",
      "metadata": {
        "id": "zlq-Fyo1weqK"
      },
      "source": [
        "# Modelo definitivo\n",
        "model = Model( [encoder_inputs, decoder_inputs], decoder_outputs) \n",
        "\n"
      ],
      "execution_count": null,
      "outputs": []
    },
    {
      "cell_type": "code",
      "metadata": {
        "id": "arpr0x1NUdxY",
        "colab": {
          "base_uri": "https://localhost:8080/",
          "height": 516
        },
        "outputId": "b38b998f-25fe-484d-eb26-50a2c21350d0"
      },
      "source": [
        "tf.keras.utils.plot_model( \n",
        "    model,\n",
        "    to_file=\"model.png\",\n",
        "    show_shapes=True,\n",
        "    show_dtype=False,\n",
        "    show_layer_names=True,\n",
        "    rankdir=\"TD\",\n",
        "    dpi=50,\n",
        ")"
      ],
      "execution_count": null,
      "outputs": [
        {
          "output_type": "execute_result",
          "data": {
            "image/png": "[encoded data removed]",
            "text/plain": [
              "<IPython.core.display.Image object>"
            ]
          },
          "metadata": {},
          "execution_count": 57
        }
      ]
    },
    {
      "cell_type": "code",
      "metadata": {
        "id": "YTP4aoB_Ve9o",
        "colab": {
          "base_uri": "https://localhost:8080/"
        },
        "outputId": "c66a9f8c-c344-4879-c7c5-14a91a7de895"
      },
      "source": [
        "model.summary()"
      ],
      "execution_count": null,
      "outputs": [
        {
          "output_type": "stream",
          "name": "stdout",
          "text": [
            "Model: \"model\"\n",
            "__________________________________________________________________________________________________\n",
            "Layer (type)                    Output Shape         Param #     Connected to                     \n",
            "==================================================================================================\n",
            "input_1 (InputLayer)            [(None, 154)]        0                                            \n",
            "__________________________________________________________________________________________________\n",
            "embedding (Embedding)           (None, 154, 300)     4243200     input_1[0][0]                    \n",
            "__________________________________________________________________________________________________\n",
            "lstm (LSTM)                     [(None, 154, 320), ( 794880      embedding[0][0]                  \n",
            "__________________________________________________________________________________________________\n",
            "input_2 (InputLayer)            [(None, None)]       0                                            \n",
            "__________________________________________________________________________________________________\n",
            "lstm_1 (LSTM)                   [(None, 154, 320), ( 820480      lstm[0][0]                       \n",
            "__________________________________________________________________________________________________\n",
            "embedding_1 (Embedding)         (None, None, 300)    1140900     input_2[0][0]                    \n",
            "__________________________________________________________________________________________________\n",
            "lstm_2 (LSTM)                   [(None, 154, 320), ( 820480      lstm_1[0][0]                     \n",
            "__________________________________________________________________________________________________\n",
            "lstm_3 (LSTM)                   [(None, None, 320),  794880      embedding_1[0][0]                \n",
            "                                                                 lstm_2[0][1]                     \n",
            "                                                                 lstm_2[0][2]                     \n",
            "__________________________________________________________________________________________________\n",
            "attention_layer (AttentionLayer ((None, None, 320),  205120      lstm_2[0][0]                     \n",
            "                                                                 lstm_3[0][0]                     \n",
            "__________________________________________________________________________________________________\n",
            "concat_layer (Concatenate)      (None, None, 640)    0           lstm_3[0][0]                     \n",
            "                                                                 attention_layer[0][0]            \n",
            "__________________________________________________________________________________________________\n",
            "time_distributed (TimeDistribut (None, None, 3803)   2437723     concat_layer[0][0]               \n",
            "==================================================================================================\n",
            "Total params: 11,257,663\n",
            "Trainable params: 5,873,563\n",
            "Non-trainable params: 5,384,100\n",
            "__________________________________________________________________________________________________\n"
          ]
        }
      ]
    },
    {
      "cell_type": "markdown",
      "metadata": {
        "id": "KEjSxWU5bxAN"
      },
      "source": [
        "### Entrenamiento"
      ]
    },
    {
      "cell_type": "code",
      "metadata": {
        "id": "RRXXWvW6bxas"
      },
      "source": [
        "model.compile(optimizer='rmsprop', \n",
        "              loss='sparse_categorical_crossentropy')"
      ],
      "execution_count": null,
      "outputs": []
    },
    {
      "cell_type": "code",
      "metadata": {
        "id": "UZ98uuNMog69",
        "colab": {
          "base_uri": "https://localhost:8080/"
        },
        "outputId": "6587696a-6221-4af2-a0f1-d0f6bb2734ef"
      },
      "source": [
        "%%time\n",
        "\n",
        "es = EarlyStopping(monitor='val_loss', mode='min', verbose=1) \n",
        "\n",
        "history = model.fit([x_train_seq, y_train_seq[:,:-1]], \n",
        "                    y_train_seq.reshape(y_train_seq.shape[0],\n",
        "                                        y_train_seq.shape[1], 1)[:,1:],\n",
        "                    epochs = 20, \n",
        "\n",
        "                    #terminar antes cuando no disminuya la función de pérdida\n",
        "                    #callbacks = [EarlyStopping(monitor='val_loss',mode='min', \n",
        "                    #                         verbose=1)],\n",
        "                    batch_size = 512, \n",
        "                    validation_data = ([x_test_seq,y_test_seq[:,:-1]], \n",
        "                                     y_test_seq.reshape(y_test_seq.shape[0],\n",
        "                                                        y_test_seq.shape[1],\n",
        "                                                        1)[:,1:]))\n"
      ],
      "execution_count": null,
      "outputs": [
        {
          "output_type": "stream",
          "name": "stdout",
          "text": [
            "Epoch 1/20\n",
            "15/15 [==============================] - 481s 31s/step - loss: 3.6903 - val_loss: 2.5400\n",
            "Epoch 2/20\n",
            "15/15 [==============================] - 454s 30s/step - loss: 2.5183 - val_loss: 2.5655\n",
            "Epoch 3/20\n",
            "15/15 [==============================] - 452s 30s/step - loss: 2.4323 - val_loss: 2.3966\n",
            "Epoch 4/20\n",
            "15/15 [==============================] - 448s 30s/step - loss: 2.3242 - val_loss: 2.4030\n",
            "Epoch 5/20\n",
            "15/15 [==============================] - 456s 30s/step - loss: 2.2585 - val_loss: 2.2917\n",
            "Epoch 6/20\n",
            "15/15 [==============================] - 453s 30s/step - loss: 2.2095 - val_loss: 2.2815\n",
            "Epoch 7/20\n",
            "15/15 [==============================] - 454s 30s/step - loss: 2.1677 - val_loss: 2.2516\n",
            "Epoch 8/20\n",
            "15/15 [==============================] - 451s 30s/step - loss: 2.1289 - val_loss: 2.2420\n",
            "Epoch 9/20\n",
            "15/15 [==============================] - 453s 30s/step - loss: 2.1026 - val_loss: 2.2364\n",
            "Epoch 10/20\n",
            "15/15 [==============================] - 454s 30s/step - loss: 2.0764 - val_loss: 2.2287\n",
            "Epoch 11/20\n",
            "15/15 [==============================] - 456s 30s/step - loss: 2.0410 - val_loss: 2.2103\n",
            "Epoch 12/20\n",
            "15/15 [==============================] - 451s 30s/step - loss: 2.0155 - val_loss: 2.1847\n",
            "Epoch 13/20\n",
            "15/15 [==============================] - 453s 30s/step - loss: 1.9912 - val_loss: 2.1602\n",
            "Epoch 14/20\n",
            "15/15 [==============================] - 451s 30s/step - loss: 1.9946 - val_loss: 2.1472\n",
            "Epoch 15/20\n",
            "15/15 [==============================] - 453s 30s/step - loss: 1.9272 - val_loss: 2.1522\n",
            "Epoch 16/20\n",
            "15/15 [==============================] - 449s 30s/step - loss: 1.8984 - val_loss: 2.1101\n",
            "Epoch 17/20\n",
            "15/15 [==============================] - 451s 30s/step - loss: 1.8808 - val_loss: 2.1009\n",
            "Epoch 18/20\n",
            " 6/15 [===========>..................] - ETA: 4:19 - loss: 1.8326"
          ]
        }
      ]
    },
    {
      "cell_type": "code",
      "metadata": {
        "id": "e1M1mdWfuGpa"
      },
      "source": [
        "plt.plot(history.history['loss'], label='train') \n",
        "plt.plot(history.history['val_loss'], label='test') \n",
        "plt.legend() \n",
        "plt.show()"
      ],
      "execution_count": null,
      "outputs": []
    },
    {
      "cell_type": "code",
      "metadata": {
        "id": "c3oYpATvVPDW"
      },
      "source": [
        "# Guardar todo el modelo\n",
        "model.save('/content/drive/MyDrive/Modelos/rrn_modelo_LSTM_w2v_oct21')"
      ],
      "execution_count": null,
      "outputs": []
    },
    {
      "cell_type": "code",
      "metadata": {
        "id": "-6JXRd7EWaXa"
      },
      "source": [
        "#modelo = tf.keras.models.load_model('/content/drive/MyDrive/Modelos/rrn_modelo_w2v')\n",
        "\n",
        "# Check its architecture\n",
        "#modelo.summary()"
      ],
      "execution_count": null,
      "outputs": []
    },
    {
      "cell_type": "markdown",
      "metadata": {
        "id": "QbBzHDBMsa_E"
      },
      "source": [
        "#Modelo de Inferencia y Generación de Texto"
      ]
    },
    {
      "cell_type": "code",
      "metadata": {
        "id": "m2b6xsH6rggV"
      },
      "source": [
        "## Inferencia del codificador\n",
        "encoder_model = Model(inputs=encoder_inputs, outputs=[encoder_outputs, state_h, state_c])\n",
        "\n",
        "# Inferencia del decodificador\n",
        "\n",
        "decoder_state_input_h = Input(shape=(latent_dim,))\n",
        "decoder_state_input_c = Input(shape=(latent_dim,))\n",
        "decoder_hidden_state_input = Input(shape=(int(longitud_max_textos), latent_dim))\n",
        "\n",
        "# Obtener los embeddings de la secuencia del decodificador \n",
        "dec_emb2 = dec_emb_layer(decoder_inputs)\n",
        "\n",
        "# Para predecir la siguiente palabra, el estado inicial se iguala al estado del tiempo anterior\n",
        "decoder_outputs2, state_h2, state_c2 = decoder_lstm(dec_emb2, initial_state=[decoder_state_input_h, decoder_state_input_c])\n",
        "\n",
        "#Inferencia en modulo de atención\n",
        "attn_out_inf, attn_states_inf = attn_layer([decoder_hidden_state_input, decoder_outputs2])\n",
        "decoder_inf_concat = Concatenate(axis=-1, name='concat')([decoder_outputs2, attn_out_inf])\n",
        "\n",
        "# Se utiliza la capa con activación softmax para generar la distribución de probabilidad del vocabulario objetivo\n",
        "decoder_outputs2 = decoder_dense(decoder_inf_concat)\n",
        "\n",
        "# Modelo final del decoder\n",
        "decoder_model = Model(\n",
        "[decoder_inputs] + [decoder_hidden_state_input, decoder_state_input_h, decoder_state_input_c],\n",
        "[decoder_outputs2] + [state_h2, state_c2])"
      ],
      "execution_count": null,
      "outputs": []
    },
    {
      "cell_type": "code",
      "metadata": {
        "id": "2x8A_K-u8qwM"
      },
      "source": [
        "tf.keras.utils.plot_model( \n",
        "    encoder_model,\n",
        "    to_file=\"encoder_model.png\",\n",
        "    show_shapes=True,\n",
        "    show_dtype=False,\n",
        "    show_layer_names=True,\n",
        "    rankdir=\"TD\",\n",
        "    dpi=60,\n",
        ")"
      ],
      "execution_count": null,
      "outputs": []
    },
    {
      "cell_type": "code",
      "metadata": {
        "id": "xSfRZwXZ0YGx"
      },
      "source": [
        "tf.keras.utils.plot_model( \n",
        "    decoder_model,\n",
        "    to_file=\"model_decoder.png\",\n",
        "    show_shapes=True,\n",
        "    show_dtype=False,\n",
        "    show_layer_names=True,\n",
        "    rankdir=\"TD\",\n",
        "    dpi=60,\n",
        ")"
      ],
      "execution_count": null,
      "outputs": []
    },
    {
      "cell_type": "markdown",
      "metadata": {
        "id": "lJIW62pzsn_B"
      },
      "source": [
        "# Implementación del modelo de inferencia mediante decode_sequence()\n",
        "\n",
        "[fuente](https://www.analyticsvidhya.com/blog/2019/06/comprehensive-guide-text-summarization-using-deep-learning-python/)"
      ]
    },
    {
      "cell_type": "code",
      "metadata": {
        "id": "S1q4ZbNVAG4G"
      },
      "source": [
        "for i in range(10, 20):\n",
        "  print(i)\n",
        "  print(\"Reseña:\",seq2text(x_test_seq[i]))\n",
        "  print(\"Resumen original:\",seq2summary(y_test_seq[i]))\n",
        "  print(\"Resumen generado:\",crea_resumen(x_test_seq[i].reshape(1, -1)))\n",
        "  print(\"\\n\")"
      ],
      "execution_count": null,
      "outputs": []
    },
    {
      "cell_type": "code",
      "metadata": {
        "id": "Tv0sCyOm-Qsp"
      },
      "source": [
        "len(range(len(x_test[0:200])))"
      ],
      "execution_count": null,
      "outputs": []
    },
    {
      "cell_type": "code",
      "metadata": {
        "id": "EEf6GKe6qPac"
      },
      "source": [
        "%%time\n",
        "Review = pd.Series(np.apply_along_axis(seq2text, 1, x_test_seq[:50]), name='Review')\n",
        "Original_summary = pd.Series(np.apply_along_axis(seq2summary, 1, y_test_seq[:50]), name = 'Original_Summary')\n",
        "\n",
        "Predicted_summary = pd.Series(name = 'Predicted_summary').reindex_like(Review)\n",
        "for i in range(50):\n",
        "  Predicted_summary[i] = crea_resumen(x_test_seq[i].reshape(1, -1))\n",
        "Predicted_summary"
      ],
      "execution_count": null,
      "outputs": []
    },
    {
      "cell_type": "code",
      "metadata": {
        "id": "5oRi3zbByKPe"
      },
      "source": [
        "Resultados = pd.concat([Review, Original_summary, Predicted_summary], axis=1)"
      ],
      "execution_count": null,
      "outputs": []
    },
    {
      "cell_type": "markdown",
      "metadata": {
        "id": "wKsofERFyB8y"
      },
      "source": [
        "Para guardar la tabla de resultados en un archivo, descomentar la siguiente linea, y reemplazar la ruta con la corresponeiente a la carpeta personal en el drive donde se quiera guardar."
      ]
    },
    {
      "cell_type": "code",
      "metadata": {
        "id": "i6SvmLQCx7xu"
      },
      "source": [
        "Resultados.to_csv('/content/drive/MyDrive/Modelos/rrn_modelo_LSTM_w2v/Resultados/resultados_rnn_oct21.csv', index=False)"
      ],
      "execution_count": null,
      "outputs": []
    },
    {
      "cell_type": "code",
      "metadata": {
        "id": "vCqfDy88mopA"
      },
      "source": [
        "Resultados"
      ],
      "execution_count": null,
      "outputs": []
    },
    {
      "cell_type": "markdown",
      "metadata": {
        "id": "lGmp1ZeImvvQ"
      },
      "source": [
        "# Evaluación con Rouge"
      ]
    },
    {
      "cell_type": "markdown",
      "metadata": {
        "id": "BGi7WNwjyLWX"
      },
      "source": [
        "Para leer los resultados desde el archivo csv guardado en drive en la sección anterior"
      ]
    },
    {
      "cell_type": "code",
      "metadata": {
        "id": "YtnM5nTKmOz4"
      },
      "source": [
        "#Resultados = pd.read_csv('/content/drive/MyDrive/Modelos/rrn_modelo_LSTM_w2v/Resultados/resultados_rnn.csv')"
      ],
      "execution_count": null,
      "outputs": []
    },
    {
      "cell_type": "code",
      "metadata": {
        "id": "fwwdQao9y_52"
      },
      "source": [
        "Resultados"
      ],
      "execution_count": null,
      "outputs": []
    },
    {
      "cell_type": "code",
      "metadata": {
        "id": "sZPnKCwKzHTg"
      },
      "source": [
        "rouge = Rouge()"
      ],
      "execution_count": null,
      "outputs": []
    },
    {
      "cell_type": "markdown",
      "metadata": {
        "id": "HVDKIdUz8WfO"
      },
      "source": [
        "Se proporcionan resultados para dos tipos de métricas:\n",
        "- ***rouge-n*** , evalúa los resultados usando n-gramas\n",
        "- ***rouge-l***, evalúa en base a la secuencia más larga entre la referencia y el modelo\n",
        "\n",
        "Además en cada tipo de métrica, se ealuá el modelo usando:\n",
        "- $presición = \\frac{n-gramas_{comunes} }{ n-gramas_{predicción}}$\n",
        "\n",
        "\n",
        "- $recall = \\frac{n-gramas_{comunes} }{ n-gramas_{referencia}}$\n",
        "\n",
        "- $f1_{score} = 2*\\frac{precision*recall }{precision+recall}$"
      ]
    },
    {
      "cell_type": "code",
      "metadata": {
        "id": "c_5wwqyf64dt"
      },
      "source": [
        "model_out = Resultados['Predicted_summary']\n",
        "reference = Resultados['Original_summary']\n",
        "\n",
        "rouge.get_scores(model_out, reference)[0:5]"
      ],
      "execution_count": null,
      "outputs": []
    },
    {
      "cell_type": "code",
      "metadata": {
        "id": "Rx7PYYVHy28u"
      },
      "source": [
        "index = 43\n",
        "\n",
        "print('Referencia: ', reference[index])\n",
        "print('Resumen modelo:', model_out[index],'\\n')\n",
        "\n",
        "print('Precisión: ', rouge.get_scores(model_out, reference)[index]['rouge-1']['p'])\n",
        "print('Recall: ', rouge.get_scores(model_out, reference)[index]['rouge-1']['r'])\n",
        "print('F1 score: ', rouge.get_scores(model_out, reference)[index]['rouge-1']['f'])"
      ],
      "execution_count": null,
      "outputs": []
    },
    {
      "cell_type": "code",
      "metadata": {
        "id": "gXXUPz8r4Syi"
      },
      "source": [
        "metrica = 'rouge-1'   # rouge-2  rouge-l\n",
        "\n",
        "evaluacion_dict = {index: i[metrica]for index, i in zip(range(len(Resultados)), rouge.get_scores(model_out, reference))}\n",
        "evaluation_df = pd.DataFrame.from_dict(evaluacion_dict, orient='index')\n",
        "Resultados = pd.concat([Resultados, evaluation_df],axis=1)"
      ],
      "execution_count": null,
      "outputs": []
    },
    {
      "cell_type": "code",
      "metadata": {
        "id": "Xhc34A6xFwAt"
      },
      "source": [
        "Resultados.sort_values(by=['r'], ascending=False)"
      ],
      "execution_count": null,
      "outputs": []
    },
    {
      "cell_type": "markdown",
      "metadata": {
        "id": "JuxQsF-02cI3"
      },
      "source": [
        "ROUGE tiene la limitante de que es una evaluación sintáctica pero no semántica"
      ]
    }
  ]
}
